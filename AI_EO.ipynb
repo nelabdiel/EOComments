{
 "cells": [
  {
   "cell_type": "markdown",
   "id": "67705653",
   "metadata": {},
   "source": [
    "# POV: You are a Policy Analyst at a Federal Agency. A new Executive Order about AI has been release and your Agency needs to know what are the action items and the timeline for each.\n",
    "\n",
    "1) Find all the items associated to privacy.\n",
    "2) Extract any action with a deadline.\n",
    "Demos\n",
    "3) Produce a summary of the document.\n",
    "4) Produce a summary based on a specific topic.\n",
    "\n",
    "Links:\n",
    "- https://www.whitehouse.gov/briefing-room/presidential-actions/2023/10/30/executive-order-on-the-safe-secure-and-trustworthy-development-and-use-of-artificial-intelligence/\n",
    "- https://www.whitehouse.gov/briefing-room/statements-releases/2023/10/30/fact-sheet-president-biden-issues-executive-order-on-safe-secure-and-trustworthy-artificial-intelligence/"
   ]
  },
  {
   "cell_type": "code",
   "execution_count": 1,
   "id": "cf86690e",
   "metadata": {},
   "outputs": [],
   "source": [
    "import re\n",
    "import requests\n",
    "from bs4 import BeautifulSoup\n",
    "\n",
    "from IPython.display import HTML\n",
    "import matplotlib.pyplot as plt\n",
    "\n",
    "import warnings\n",
    "warnings.filterwarnings('ignore')"
   ]
  },
  {
   "cell_type": "code",
   "execution_count": 2,
   "id": "6fa875e4",
   "metadata": {},
   "outputs": [],
   "source": [
    "AIEO = 'https://www.whitehouse.gov/briefing-room/presidential-actions/2023/10/30/executive-order-on-the-safe-secure-and-trustworthy-development-and-use-of-artificial-intelligence/'"
   ]
  },
  {
   "cell_type": "code",
   "execution_count": 3,
   "id": "44459bdf",
   "metadata": {},
   "outputs": [],
   "source": [
    "content = requests.get(AIEO)"
   ]
  },
  {
   "cell_type": "code",
   "execution_count": 4,
   "id": "49ee010d",
   "metadata": {},
   "outputs": [
    {
     "data": {
      "text/plain": [
       "<Response [200]>"
      ]
     },
     "execution_count": 4,
     "metadata": {},
     "output_type": "execute_result"
    }
   ],
   "source": [
    "content"
   ]
  },
  {
   "cell_type": "code",
   "execution_count": 5,
   "id": "f15127f4",
   "metadata": {},
   "outputs": [],
   "source": [
    "soup = BeautifulSoup(content.text)"
   ]
  },
  {
   "cell_type": "code",
   "execution_count": 6,
   "id": "398e7322",
   "metadata": {
    "scrolled": true
   },
   "outputs": [
    {
     "name": "stdout",
     "output_type": "stream",
     "text": [
      "<!DOCTYPE html>\n",
      "<html class=\"no-js alert__has-cookie\" lang=\"en-US\">\n",
      " <head>\n",
      "  <meta charset=\"utf-8\"/>\n",
      "  <meta content=\"notranslate\" name=\"google\"/>\n",
      "  <meta content=\"IE=edge\" http-equiv=\"X-UA-Compatible\"/>\n",
      "  <meta content=\"width=device-width, initial-scale=1\" name=\"viewport\"/>\n",
      "  <link href=\"https://gmpg.org/xfn/11\" rel=\"profile\"/>\n",
      "  <!-- If you're reading this, we need your help building back better. https://usds.gov/ -->\n",
      "  <meta content=\"index, follow, max-image-preview:large, max-snippet:-1, max-video-preview:-1\" name=\"robots\"/>\n",
      "  <title>\n",
      "   Executive Order on the Safe, Secure, and Trustworthy Development and Use of Artificial Intelligence | The White House\n",
      "  </title>\n",
      "  <link href=\"https://www.whitehouse.gov/briefing-room/presidential-actions/2023/10/30/executive-order-on-the-safe-secure-and-trustworthy-development-and-use-of-artificial-intelligence/\" rel=\"canonical\"/>\n",
      "  <meta content=\"en_US\" property=\"og:locale\"/>\n",
      "  <meta content=\"article\" property=\"og:type\"/>\n",
      "  <meta content=\"Executive Order on the Safe, Secure, and Trustworthy Development and Use of Artificial Intelligence | The White House\" property=\"og:title\"/>\n",
      "  <meta content=\"     By the authority vested in me as President by the Constitution and the laws of the United States of America, it is hereby ordered as follows:      Section 1.  Purpose.  Artificial intelligence (AI) holds extraordinary potential for both promise and peril.  Responsible AI use has the potential to help solve urgent challenges…\" property=\"og:description\"/>\n",
      "  <meta content=\"https://www.whitehouse.gov/briefing-room/presidential-actions/2023/10/30/executive-order-on-the-safe-secure-and-trustworthy-development-and-use-of-artificial-intelligence/\" property=\"og:url\"/>\n",
      "  <meta content=\"The White House\" property=\"og:site_name\"/>\n",
      "  <meta content=\"https://www.facebook.com/WhiteHouse/\" property=\"article:publisher\"/>\n",
      "  <meta content=\"2023-10-30T20:39:11+00:00\" property=\"article:published_time\"/>\n",
      "  <meta content=\"2023-10-30T20:39:12+00:00\" property=\"article:modified_time\"/>\n",
      "  <meta content=\"https://www.whitehouse.gov/wp-content/uploads/2023/10/image.gif\" property=\"og:image\"/>\n",
      "  <meta content=\"The White House\" name=\"author\"/>\n",
      "  <meta content=\"summary_large_image\" name=\"twitter:card\"/>\n",
      "  <meta content=\"@whitehouse\" name=\"twitter:creator\"/>\n",
      "  <meta content=\"@whitehouse\" name=\"twitter:site\"/>\n",
      "  <script type=\"application/ld+json\">\n",
      "   {\"@context\":\"https://schema.org\",\"@graph\":[{\"@type\":\"Article\",\"@id\":\"https://www.whitehouse.gov/briefing-room/presidential-actions/2023/10/30/executive-order-on-the-safe-secure-and-trustworthy-development-and-use-of-artificial-intelligence/#article\",\"isPartOf\":{\"@id\":\"https://www.whitehouse.gov/briefing-room/presidential-actions/2023/10/30/executive-order-on-the-safe-secure-and-trustworthy-development-and-use-of-artificial-intelligence/\"},\"author\":{\"@id\":\"https://www.whitehouse.gov/#organization\"},\"headline\":\"Executive Order on the Safe, Secure, and Trustworthy Development and Use of Artificial Intelligence\",\"datePublished\":\"2023-10-30T20:39:11+00:00\",\"dateModified\":\"2023-10-30T20:39:12+00:00\",\"mainEntityOfPage\":{\"@id\":\"https://www.whitehouse.gov/briefing-room/presidential-actions/2023/10/30/executive-order-on-the-safe-secure-and-trustworthy-development-and-use-of-artificial-intelligence/\"},\"wordCount\":22903,\"publisher\":{\"@id\":\"https://www.whitehouse.gov/#organization\"},\"image\":{\"@id\":\"https://www.whitehouse.gov/briefing-room/presidential-actions/2023/10/30/executive-order-on-the-safe-secure-and-trustworthy-development-and-use-of-artificial-intelligence/#primaryimage\"},\"thumbnailUrl\":\"https://www.whitehouse.gov/wp-content/uploads/2023/10/image.gif\",\"articleSection\":[\"Presidential Actions\"],\"inLanguage\":\"en-US\"},{\"@type\":\"WebPage\",\"@id\":\"https://www.whitehouse.gov/briefing-room/presidential-actions/2023/10/30/executive-order-on-the-safe-secure-and-trustworthy-development-and-use-of-artificial-intelligence/\",\"url\":\"https://www.whitehouse.gov/briefing-room/presidential-actions/2023/10/30/executive-order-on-the-safe-secure-and-trustworthy-development-and-use-of-artificial-intelligence/\",\"name\":\"Executive Order on the Safe, Secure, and Trustworthy Development and Use of Artificial Intelligence | The White House\",\"isPartOf\":{\"@id\":\"https://www.whitehouse.gov/#website\"},\"primaryImageOfPage\":{\"@id\":\"https://www.whitehouse.gov/briefing-room/presidential-actions/2023/10/30/executive-order-on-the-safe-secure-and-trustworthy-development-and-use-of-artificial-intelligence/#primaryimage\"},\"image\":{\"@id\":\"https://www.whitehouse.gov/briefing-room/presidential-actions/2023/10/30/executive-order-on-the-safe-secure-and-trustworthy-development-and-use-of-artificial-intelligence/#primaryimage\"},\"thumbnailUrl\":\"https://www.whitehouse.gov/wp-content/uploads/2023/10/image.gif\",\"datePublished\":\"2023-10-30T20:39:11+00:00\",\"dateModified\":\"2023-10-30T20:39:12+00:00\",\"breadcrumb\":{\"@id\":\"https://www.whitehouse.gov/briefing-room/presidential-actions/2023/10/30/executive-order-on-the-safe-secure-and-trustworthy-development-and-use-of-artificial-intelligence/#breadcrumb\"},\"inLanguage\":\"en-US\",\"potentialAction\":[{\"@type\":\"ReadAction\",\"target\":[\"https://www.whitehouse.gov/briefing-room/presidential-actions/2023/10/30/executive-order-on-the-safe-secure-and-trustworthy-development-and-use-of-artificial-intelligence/\"]}]},{\"@type\":\"ImageObject\",\"inLanguage\":\"en-US\",\"@id\":\"https://www.whitehouse.gov/briefing-room/presidential-actions/2023/10/30/executive-order-on-the-safe-secure-and-trustworthy-development-and-use-of-artificial-intelligence/#primaryimage\",\"url\":\"https://www.whitehouse.gov/wp-content/uploads/2023/10/image.gif\",\"contentUrl\":\"https://www.whitehouse.gov/wp-content/uploads/2023/10/image.gif\"},{\"@type\":\"BreadcrumbList\",\"@id\":\"https://www.whitehouse.gov/briefing-room/presidential-actions/2023/10/30/executive-order-on-the-safe-secure-and-trustworthy-development-and-use-of-artificial-intelligence/#breadcrumb\",\"itemListElement\":[{\"@type\":\"ListItem\",\"position\":1,\"name\":\"Home\",\"item\":\"https://www.whitehouse.gov/\"},{\"@type\":\"ListItem\",\"position\":2,\"name\":\"Presidential Actions\",\"item\":\"https://www.whitehouse.gov/briefing-room/presidential-actions/\"},{\"@type\":\"ListItem\",\"position\":3,\"name\":\"Executive Order on the Safe, Secure, and Trustworthy Development and Use of Artificial Intelligence\"}]},{\"@type\":\"WebSite\",\"@id\":\"https://www.whitehouse.gov/#website\",\"url\":\"https://www.whitehouse.gov/\",\"name\":\"The White House\",\"description\":\"\",\"publisher\":{\"@id\":\"https://www.whitehouse.gov/#organization\"},\"potentialAction\":[{\"@type\":\"SearchAction\",\"target\":{\"@type\":\"EntryPoint\",\"urlTemplate\":\"https://www.whitehouse.gov/?s={search_term_string}\"},\"query-input\":\"required name=search_term_string\"}],\"inLanguage\":\"en-US\"},{\"@type\":\"Organization\",\"@id\":\"https://www.whitehouse.gov/#organization\",\"name\":\"The White House\",\"url\":\"https://www.whitehouse.gov/\",\"logo\":{\"@type\":\"ImageObject\",\"inLanguage\":\"en-US\",\"@id\":\"https://www.whitehouse.gov/#/schema/logo/image/\",\"url\":\"https://www.whitehouse.gov/wp-content/uploads/2021/01/cropped-cropped-wh_favicon.png\",\"contentUrl\":\"https://www.whitehouse.gov/wp-content/uploads/2021/01/cropped-cropped-wh_favicon.png\",\"width\":512,\"height\":512,\"caption\":\"The White House\"},\"image\":{\"@id\":\"https://www.whitehouse.gov/#/schema/logo/image/\"},\"sameAs\":[\"https://www.facebook.com/WhiteHouse/\",\"https://twitter.com/whitehouse\",\"https://www.instagram.com/whitehouse/\",\"https://www.youtube.com/whitehouse\"]}]}\n",
      "  </script>\n",
      "  <link as=\"font\" crossorigin=\"anonymous\" href=\"https://www.whitehouse.gov/wp-content/themes/whitehouse/assets/fonts/Decimal-Book.woff2\" rel=\"preload\" type=\"font/woff2\"/>\n",
      "  <link as=\"font\" crossorigin=\"anonymous\" href=\"https://www.whitehouse.gov/wp-content/themes/whitehouse/assets/fonts/Decimal-Semibold.woff2\" rel=\"preload\" type=\"font/woff2\"/>\n",
      "  <link as=\"font\" crossorigin=\"anonymous\" href=\"https://www.whitehouse.gov/wp-content/themes/whitehouse/assets/fonts/Decimal-Medium_Web.woff2\" rel=\"preload\" type=\"font/woff2\"/>\n",
      "  <link as=\"font\" crossorigin=\"anonymous\" href=\"https://www.whitehouse.gov/wp-content/themes/whitehouse/assets/fonts/Decimal-Bold.woff2\" rel=\"preload\" type=\"font/woff2\"/>\n",
      "  <link as=\"font\" crossorigin=\"anonymous\" href=\"https://www.whitehouse.gov/wp-content/themes/whitehouse/assets/fonts/MercuryTextG2-Semibold-Pro_Web.woff2\" rel=\"preload\" type=\"font/woff2\"/>\n",
      "  <link as=\"font\" crossorigin=\"anonymous\" href=\"https://www.whitehouse.gov/wp-content/themes/whitehouse/assets/fonts/MercurySSm-Book-Pro_Web.woff2\" rel=\"preload\" type=\"font/woff2\"/>\n",
      "  <link as=\"font\" crossorigin=\"anonymous\" href=\"https://www.whitehouse.gov/wp-content/themes/whitehouse/assets/fonts/MercurySSm-Bold-Pro_Web.woff2\" rel=\"preload\" type=\"font/woff2\"/>\n",
      "  <link href=\"https://www.whitehouse.gov/wp-includes/css/dist/block-library/style.min.css?m=1699399644g\" id=\"all-css-0\" media=\"all\" rel=\"stylesheet\" type=\"text/css\"/>\n",
      "  <style id=\"classic-theme-styles-inline-css\">\n",
      "   /*! This file is auto-generated */\n",
      ".wp-block-button__link{color:#fff;background-color:#32373c;border-radius:9999px;box-shadow:none;text-decoration:none;padding:calc(.667em + 2px) calc(1.333em + 2px);font-size:1.125em}.wp-block-file__button{background:#32373c;color:#fff;text-decoration:none}\n",
      "  </style>\n",
      "  <link href=\"https://www.whitehouse.gov/wp-content/themes/whitehouse/assets/css/style.min.css?m=1701297000g\" id=\"all-css-2\" media=\"all\" rel=\"stylesheet\" type=\"text/css\"/>\n",
      "  <script src=\"https://www.whitehouse.gov/wp-includes/js/jquery/jquery.min.js?m=1699399645g\" type=\"text/javascript\">\n",
      "  </script>\n",
      "  <link href=\"https://www.googletagmanager.com\" rel=\"preconnect\"/>\n",
      "  <link href=\"https://www.google-analytics.com\" rel=\"preconnect\"/>\n",
      "  <link href=\"/wp-content/images/site.webmanifest\" rel=\"manifest\"/>\n",
      "  <link href=\"/favicon.ico\" rel=\"icon\" sizes=\"any\" type=\"image/x-icon\"/>\n",
      "  <link href=\"/wp-content/images/favicon-32x32.png\" rel=\"icon\" sizes=\"32x32\" type=\"image/png\"/>\n",
      "  <link href=\"/wp-content/images/favicon-16x16.png\" rel=\"icon\" sizes=\"16x16\" type=\"image/png\"/>\n",
      "  <link href=\"/wp-content/images/apple-touch-icon.png\" rel=\"apple-touch-icon\" sizes=\"180x180\"/>\n",
      "  <link color=\"#5bbad5\" href=\"/wp-content/images/safari-pinned-tab.svg\" rel=\"mask-icon\"/>\n",
      "  <meta content=\"The White House\" name=\"apple-mobile-web-app-title\"/>\n",
      "  <meta content=\"The White House\" name=\"application-name\"/>\n",
      "  <style id=\"wp-custom-css\" type=\"text/css\">\n",
      "   .body-content .font-signature table td {font-family:MercurySSm-Book-Pro_Web,serif !important; font-size:16px;}\n",
      "  </style>\n",
      "  <script>\n",
      "   /*bundle-header.js*/!function(n){\"function\"==typeof define&&define.amd?define(\"bundleActionnetworkLabels\",n):n()}((function(){\"use strict\";var n=document.documentElement,e=n.style;n.className=n.className.replace(\"no-js\",\"js\");var t=function(){return e.setProperty(\"--vh\",\"\".concat(.01*window.innerHeight,\"px\"))};t(),window.setVHUnit=t;var i=function(){return e.setProperty(\"--scrollbarWidth\",\"\".concat(window.innerWidth-n.clientWidth,\"px\"))};i(),window.setScrollbarWidth=i,window.llItems=[]}));\n",
      "  </script>\n",
      "  <!-- We participate in the US government's analytics program. See the data at analytics.usa.gov. -->\n",
      "  <script async=\"\" id=\"_fed_an_ua_tag\" src=\"https://dap.digitalgov.gov/Universal-Federated-Analytics-Min.js?agency=EOP\">\n",
      "  </script>\n",
      "  <!-- Google Tag Manager -->\n",
      "  <script>\n",
      "   (function(w,d,s,l,i){w[l]=w[l]||[];w[l].push({'gtm.start':\n",
      "new Date().getTime(),event:'gtm.js'});var f=d.getElementsByTagName(s)[0],\n",
      "j=d.createElement(s),dl=l!='dataLayer'?'&l='+l:'';j.async=true;j.src=\n",
      "'https://www.googletagmanager.com/gtm.js?id='+i+dl;f.parentNode.insertBefore(j,f);\n",
      "})(window,document,'script','dataLayer','GTM-MCMPK29');\n",
      "  </script>\n",
      "  <!-- End Google Tag Manager -->\n",
      " </head>\n",
      " <body class=\"post-template-default single single-post postid-86674 wp-embed-responsive no-con no-font\">\n",
      "  <!-- Google Tag Manager (noscript) -->\n",
      "  <noscript>\n",
      "   <iframe height=\"0\" src=\"https://www.googletagmanager.com/ns.html?id=GTM-MCMPK29\" style=\"display:none;visibility:hidden\" width=\"0\">\n",
      "   </iframe>\n",
      "  </noscript>\n",
      "  <!-- End Google Tag Manager (noscript) -->\n",
      "  <script>\n",
      "   if ((document.cookie.match('(^|; )contrast-cookie=([^;]*)') || 0)[2] === 'true') {\n",
      "\tdocument.body.className = document.body.className.replace(' no-con', '');\n",
      "\tdocument.body.className += ' accessibility__contrast';\n",
      "}\n",
      "if ((document.cookie.match('(^|; )font-size-cookie=([^;]*)') || 0)[2] === 'true') {\n",
      "\tdocument.body.className = document.body.className.replace(' no-font', '');\n",
      "\tdocument.body.className += ' accessibility__fontsize';\n",
      "}\n",
      "  </script>\n",
      "  <a class=\"skip-link screen-reader-text\" href=\"#content\">\n",
      "   Skip to content\n",
      "  </a>\n",
      "  <div aria-label=\"High Contrast and Font Size Options\" class=\"acctoggle\" role=\"toolbar\">\n",
      "   <noscript>\n",
      "    <span class=\"sr-only\">\n",
      "     You have JavaScript disabled. Please enable JavaScript to use this feature.\n",
      "    </span>\n",
      "   </noscript>\n",
      "   <div class=\"acctoggle__ctrl\">\n",
      "    <div class=\"tool\">\n",
      "     <span>\n",
      "      Toggle High Contrast\n",
      "     </span>\n",
      "    </div>\n",
      "    <button class=\"acctoggle__contrast\">\n",
      "     <svg aria-labelledby=\"high-contrast-svg-title\" role=\"img\" viewbox=\"0 0 28.7 28.7\" xmlns=\"http://www.w3.org/2000/svg\">\n",
      "      <title id=\"high-contrast-svg-title\">\n",
      "       Toggle High Contrast\n",
      "      </title>\n",
      "      <path d=\"M14.3 0C6.5 0 0 6.5 0 14.3c0 7.9 6.5 14.3 14.3 14.3 7.9 0 14.3-6.5 14.3-14.3C28.7 6.5 22.2 0 14.3 0zm0 3.6c6 0 10.8 4.8 10.8 10.8 0 6-4.8 10.8-10.8 10.8V3.6z\">\n",
      "      </path>\n",
      "     </svg>\n",
      "    </button>\n",
      "   </div>\n",
      "   <div class=\"acctoggle__ctrl\">\n",
      "    <div class=\"tool\">\n",
      "     <span>\n",
      "      Toggle Large Font Size\n",
      "     </span>\n",
      "    </div>\n",
      "    <button class=\"acctoggle__fontsize\">\n",
      "     <svg aria-labelledby=\"large-font-svg-title\" fill=\"none\" role=\"img\" viewbox=\"0 0 24 19\" xmlns=\"http://www.w3.org/2000/svg\">\n",
      "      <title id=\"large-font-svg-title\">\n",
      "       Toggle Large Font Size\n",
      "      </title>\n",
      "      <path d=\"M10.667 2.637v15.825H8V2.637H0V0h18.667v2.637h-8zM24 9.231h-9.333v2.637H18v6.594h2.667v-6.594H24V9.231z\" fill=\"currentColor\">\n",
      "      </path>\n",
      "     </svg>\n",
      "    </button>\n",
      "   </div>\n",
      "  </div>\n",
      "  <div class=\"alert-bar\">\n",
      "  </div>\n",
      "  <script>\n",
      "   (function(opts){!function(e){\"function\"==typeof define&&define.amd?define(\"bilMap\",e):e()}((function(){\"use strict\";opts||(opts={liveNow:\"Live Now\",route:\"/live.json\",link:\"/live/\"});var e=function(e){var t=document.createElement(\"div\");t.className=\"alert-bar has-link ready-to-alert alert-bar--is-simple alert-bar--is-live\",t.innerHTML='\\n <div class=\"container-fluid\">\\n <a class=\"alert-bar__simple__link\" href=\"'.concat(opts.link,'\">\\n <span class=\"screen-reader-text\">').concat(opts.liveNow?opts.liveNow:\"Live Now\",\": \").concat(e.title,'</span>\\n </a>\\n <p><span aria-hidden=\"true\">').concat(opts.liveNow?opts.liveNow:\"Live Now\",\": \").concat(e.title,\"</span></p>\\n </div>\\n \");var n=document.querySelector(\".alert-bar\");if(n)n.parentNode.replaceChild(t,n);else{var i=document.querySelector(\"#page\");i?i.parentNode.insertBefore(t,i):document.body.insertBefore(t,document.body.firstChild)}},t=function(t){var n=new XMLHttpRequest;n.open(\"GET\",opts.route),n.setRequestHeader(\"Accept\",\"application/json\"),t&&n.setRequestHeader(\"If-Modified-Since\",new Date(t).toGMTString()),n.onload=function(){var t;try{t=JSON.parse(n.responseText)}catch(e){return}e(t),sessionStorage.setItem(\"live\",n.responseText)},n.send()};if(sessionStorage.liveTimestamp&&sessionStorage.live){try{var n=JSON.parse(sessionStorage.live);e(n)}catch(e){}if(sessionStorage.liveTimestamp){var i=Number(sessionStorage.liveTimestamp);Date.now()-i>6e4&&t(i)}}else t()}));})({\"liveNow\":\"Live Now\",\"link\":\"https:\\/\\/www.whitehouse.gov\\/live\\/\",\"route\":\"https:\\/\\/www.whitehouse.gov\\/live.json\"});\n",
      "  </script>\n",
      "  <div class=\"site-wrap\" id=\"page\">\n",
      "   <header class=\"site-header sticky-header cond-inner\" data-js-social-hide=\"\" id=\"masthead\">\n",
      "    <div class=\"site-header__inner\">\n",
      "     <div class=\"container-fluid\">\n",
      "      <div class=\"row site-header__row justify-content-between align-items-stretch\">\n",
      "       <div class=\"site-header__item site-header__main-logo\">\n",
      "        <a class=\"site-header__item_inner\" href=\"https://www.whitehouse.gov/\" rel=\"home\">\n",
      "         <div class=\"desktop__logo\">\n",
      "          <span>\n",
      "           The White House\n",
      "          </span>\n",
      "         </div>\n",
      "         <div class=\"mobile__logo\">\n",
      "          <span class=\"screen-reader-text\">\n",
      "           The White House\n",
      "          </span>\n",
      "          <svg viewbox=\"0 0 1231 180\" xmlns=\"http://www.w3.org/2000/svg\">\n",
      "           <path d=\"M200.9,126h1.5l30-102.8l-18.7-9V4.5h60.7v9.7l-21.7,10.5L200.9,177h-22.5l-39-113.3H138L94.5,177H72L23.2,21.8L0,14.3\n",
      "\t\tV4.5h86.2v9l-20.2,6l30,107.3h0.7l33.7-90l-6-15.8l-18-7.5v-9h80.2v9l-20.2,6.8L200.9,126z\">\n",
      "           </path>\n",
      "           <path d=\"M446.1,21l-22.5-6V4.5h88.5V15l-25.5,6v138.8l25.5,6v9.8h-88.5v-9.8l22.5-6V96h-72v63.8l22.5,6v9.8h-88.5v-9.8l25.5-6V21\n",
      "\t\tl-25.5-6V4.5h89.2V15l-22.5,6v57.8h72V21H446.1z\">\n",
      "           </path>\n",
      "           <path d=\"M577.3,180c-9.7,0-17.2-7.5-17.2-17.2c0-9,7.5-17.2,17.2-17.2c9.7,0,17.2,7.5,17.2,17.2C594.5,171.7,587,180,577.3,180z\">\n",
      "           </path>\n",
      "           <path d=\"M770.7,57.8c-16.5-31.5-32.2-45-56.2-45c-27.7,0-51.7,24.8-51.7,74.2c0,51,24.7,77.2,60.7,77.2c13.5,0,22.5-3.8,32.2-9\n",
      "\t\tv-43.5l-25.5-6V96h74.2v9.8l-22.5,6v66l-8.2,1.5l-13.5-13.5c-13.5,8.2-27,13.5-47.2,13.5c-46.5,0-83.2-33-83.2-86.2\n",
      "\t\tc0-51.8,38.2-92.2,89.2-92.2c16.5,0,30,3.8,40.5,9l8.2-9.8h9l1.5,57L770.7,57.8z\">\n",
      "           </path>\n",
      "           <path d=\"M931.9,179.3c-54,0-83.2-41.2-83.2-89.3c0-48,33-89.2,84.7-89.2c54,0,83.2,41.2,83.2,89.2\n",
      "\t\tC1016.6,138.8,982.9,179.3,931.9,179.3z M929.7,12c-24.7,0-49.5,18-49.5,78c0,60,28.5,78,55.5,78c24.7,0,49.5-24.8,49.5-78\n",
      "\t\tC985.2,36.8,956.7,12,929.7,12z\">\n",
      "           </path>\n",
      "           <path d=\"M1146.3,177h-13.5l-60.7-155.3l-24.7-6.8V4.5h81v9.7l-26.2,6l45,121.5l45-119.3l-20.2-7.5V4.5h59.2v9.7l-22.5,7.5\n",
      "\t\tL1146.3,177z\">\n",
      "           </path>\n",
      "          </svg>\n",
      "         </div>\n",
      "        </a>\n",
      "       </div>\n",
      "       <!-- main-logo -->\n",
      "       <div class=\"center-logo\">\n",
      "        <a class=\"\" href=\"https://www.whitehouse.gov/\" rel=\"home\">\n",
      "         <span class=\"screen-reader-text\">\n",
      "          The White House\n",
      "         </span>\n",
      "         <svg id=\"wh-oval-20\" style=\"enable-background:new 0 0 343 243;\" version=\"1.1\" viewbox=\"0 0 343 243\" x=\"0px\" xml:space=\"preserve\" xmlns=\"http://www.w3.org/2000/svg\" xmlns:xlink=\"http://www.w3.org/1999/xlink\" y=\"0px\">\n",
      "          <style type=\"text/css\">\n",
      "           #wh-oval-20 .st0{fill:#0A2458;}\n",
      "\t#wh-oval-20 .st1{fill-rule:evenodd;clip-rule:evenodd;fill:#FFFFFF;}\n",
      "\t#wh-oval-20 .st2{opacity:0.5;fill:#FFFFFF;}\n",
      "\t#wh-oval-20 .st3{fill:#FFFFFF;}\n",
      "          </style>\n",
      "          <g>\n",
      "           <ellipse class=\"st0\" cx=\"171.5\" cy=\"121.5\" rx=\"168.6\" ry=\"118.7\">\n",
      "           </ellipse>\n",
      "           <path class=\"st1\" d=\"M171.5,229.5c87.3,0,158-48.4,158-108s-70.7-108-158-108s-158,48.4-158,108S84.2,229.5,171.5,229.5z\n",
      "\t\t M290.8,209c-31.1,21.3-73.3,34-119.3,34s-88.2-12.7-119.3-34C21.1,187.8,0,157.1,0,121.5S21.1,55.2,52.2,34\n",
      "\t\tC83.3,12.7,125.5,0,171.5,0s88.2,12.7,119.3,34c31,21.2,52.2,51.9,52.2,87.5S321.8,187.8,290.8,209z\">\n",
      "           </path>\n",
      "          </g>\n",
      "          <g>\n",
      "           <g>\n",
      "            <rect class=\"st2\" height=\"8.5\" width=\"2.7\" x=\"168.3\" y=\"134.4\">\n",
      "            </rect>\n",
      "            <rect class=\"st2\" height=\"8.5\" width=\"2.7\" x=\"168.3\" y=\"143.9\">\n",
      "            </rect>\n",
      "            <rect class=\"st2\" height=\"8.5\" width=\"2.7\" x=\"172\" y=\"143.9\">\n",
      "            </rect>\n",
      "            <rect class=\"st2\" height=\"8.4\" width=\"2.7\" x=\"172\" y=\"134.4\">\n",
      "            </rect>\n",
      "            <path class=\"st2\" d=\"M212.5,92.7h-81.9c-0.6,0-1.1,0.5-1.1,1.1v66c0,0.6,0.5,1.1,1.1,1.1h81.8c0.7,0,1.2-0.5,1.2-1.2v-66\n",
      "\t\t\tC213.6,93.2,213.1,92.7,212.5,92.7z M191.8,118.7c0-0.2,0.1-0.2,0.2-0.3c0.2-0.2,0.4-0.7,0.4-1.2v-7.2c0-0.4-0.2-0.8-0.4-1.2\n",
      "\t\t\tc-0.1-0.1-0.2-0.2-0.2-0.3v-1.4c0-0.2,0.2-0.3,0.3-0.3h9.1c0.2,0,0.3,0.2,0.3,0.3v1.4c0,0.2-0.1,0.2-0.2,0.3\n",
      "\t\t\tc-0.2,0.3-0.4,0.7-0.4,1.2v7.1c0,0.4,0.2,0.8,0.4,1.2c0.1,0.1,0.2,0.2,0.2,0.3v3.2c0,0.2-0.2,0.3-0.3,0.3h-9.1\n",
      "\t\t\tc-0.2,0-0.3-0.2-0.3-0.3V118.7z M166.6,118.7c0-0.2,0.1-0.2,0.2-0.3c0.2-0.2,0.4-0.7,0.4-1.2v-7.1c0-0.4-0.2-0.8-0.4-1.2\n",
      "\t\t\tc-0.1-0.1-0.2-0.2-0.2-0.3v-1.4c0-0.2,0.2-0.3,0.3-0.3h9.1c0.2,0,0.3,0.2,0.3,0.3v1.4c0,0.2-0.1,0.2-0.2,0.3\n",
      "\t\t\tc-0.2,0.2-0.4,0.7-0.4,1.2v7.2c0,0.4,0.2,0.8,0.4,1.2c0.1,0.1,0.2,0.2,0.2,0.3v3.2c0,0.2-0.2,0.3-0.3,0.3h-9.1\n",
      "\t\t\tc-0.2,0-0.3-0.2-0.3-0.3V118.7z M141.5,118.7c0-0.2,0.1-0.2,0.2-0.3c0.2-0.2,0.4-0.7,0.4-1.2v-7.1c0-0.4-0.2-0.8-0.4-1.2\n",
      "\t\t\tc-0.1-0.1-0.2-0.2-0.2-0.3v-1.4c0-0.2,0.2-0.3,0.3-0.3h9.1c0.2,0,0.3,0.2,0.3,0.3v1.4c0,0.2-0.1,0.2-0.2,0.3\n",
      "\t\t\tc-0.2,0.2-0.4,0.7-0.4,1.2v7.2c0,0.4,0.2,0.8,0.4,1.2c0.1,0.1,0.2,0.2,0.2,0.3v3.2c0,0.2-0.2,0.3-0.3,0.3h-9.1\n",
      "\t\t\tc-0.2,0-0.3-0.2-0.3-0.3V118.7z M151.3,131.9c0,0.2-0.1,0.2-0.2,0.3c-0.2,0.2-0.4,0.7-0.4,1.2v8.7c0,0.4,0.2,0.8,0.4,1.2\n",
      "\t\t\tc0.1,0.1,0.2,0.2,0.2,0.3v3.2c0,0.2-0.2,0.3-0.3,0.3h-9.1c-0.2,0-0.3-0.2-0.3-0.3v-3.2c0-0.2,0.1-0.2,0.2-0.3\n",
      "\t\t\tc0.2-0.2,0.4-0.7,0.4-1.2v-8.7c0-0.4-0.2-0.8-0.4-1.2c-0.1-0.1-0.2-0.2-0.2-0.3v-1.4c0-0.2,0.2-0.3,0.3-0.3h9.1\n",
      "\t\t\tc0.2,0,0.3,0.2,0.3,0.3V131.9z M151.8,127.9c-0.1,0.2-0.2,0.2-0.2,0.2h-10c-0.2,0-0.3-0.1-0.4-0.2c-0.1-0.2-0.1-0.4,0.1-0.5\n",
      "\t\t\tc1.5-1.2,3.3-1.9,5.2-1.9c1.9,0,3.7,0.7,5.2,1.9C151.8,127.5,151.9,127.7,151.8,127.9z M176.3,154.1c-3.2,0-6.4,0-9.6,0\n",
      "\t\t\tc-0.2,0-0.5-0.2-0.5-0.5c0-6.9,0-13.7,0-20.7c0.1-6.9,10.4-6.9,10.5,0c0,6.9,0,13.7,0.1,20.7C176.8,153.9,176.5,154.1,176.3,154.1\n",
      "\t\t\tz M201.5,131.9c0,0.2-0.1,0.2-0.2,0.3c-0.2,0.2-0.4,0.7-0.4,1.2v8.7c0,0.4,0.2,0.8,0.4,1.2c0.1,0.1,0.2,0.2,0.2,0.3v3.2\n",
      "\t\t\tc0,0.2-0.2,0.3-0.3,0.3h-9.1c-0.2,0-0.3-0.2-0.3-0.3v-3.2c0-0.2,0.1-0.2,0.2-0.3c0.2-0.2,0.4-0.7,0.4-1.2v-8.7\n",
      "\t\t\tc0-0.4-0.2-0.8-0.4-1.2c-0.1-0.1-0.2-0.2-0.2-0.3v-1.4c0-0.2,0.2-0.3,0.3-0.3h9.1c0.2,0,0.3,0.2,0.3,0.3V131.9z M202,127.9\n",
      "\t\t\tc-0.1,0.2-0.2,0.2-0.2,0.2h-10c-0.2,0-0.3-0.1-0.4-0.2c-0.1-0.2-0.1-0.4,0.1-0.5c1.5-1.2,3.3-1.9,5.2-1.9c1.9,0,3.7,0.7,5.2,1.9\n",
      "\t\t\tC202,127.5,202.1,127.7,202,127.9z\">\n",
      "            </path>\n",
      "           </g>\n",
      "           <path class=\"st3\" d=\"M192.6,72.3l2.4,1h20.3l0.8-1.1c0.2-0.2,0-0.4-0.2-0.4h-23.2C192.4,71.8,192.3,72.3,192.6,72.3z\">\n",
      "           </path>\n",
      "           <path class=\"st3\" d=\"M222.2,79.1v3.1c0,0.2,0.2,0.4,0.3,0.4h7.2c0.2,0,0.3-0.2,0.4-0.4v-3.1l1.2-1.7c0.2-0.2,0-0.6-0.2-0.6h-10\n",
      "\t\tc-0.3,0-0.5,0.3-0.2,0.6L222.2,79.1z\">\n",
      "           </path>\n",
      "           <path class=\"st3\" d=\"M215.1,166.4h-40h-7.3h-39.9c-0.2,0-0.5,0.2-0.5,0.5v3.7c0,0.2,0.2,0.5,0.5,0.5h40h7.3h40\n",
      "\t\tc0.2,0,0.5-0.2,0.5-0.5v-3.7C215.6,166.6,215.4,166.4,215.1,166.4z\">\n",
      "           </path>\n",
      "           <path class=\"st3\" d=\"M197.3,74.3l17.5,6.8c0.2,0.1,0.4-0.1,0.4-0.2v-2.1c0-0.1,0-0.1-0.1-0.2l-0.3-0.5c0-0.1-0.1-0.1-0.1-0.2v-3.7\n",
      "\t\tL197.3,74.3L197.3,74.3z\">\n",
      "           </path>\n",
      "           <path class=\"st3\" d=\"M127.7,73.3H148l2.4-1c0.2-0.1,0.2-0.5-0.1-0.5h-23.2c-0.2,0-0.3,0.2-0.2,0.4L127.7,73.3z\">\n",
      "           </path>\n",
      "           <path class=\"st3\" d=\"M112.8,79.1v3.1c0,0.2,0.2,0.4,0.4,0.4h7.2c0.2,0,0.3-0.2,0.3-0.4v-3.1l1.2-1.7c0.2-0.2,0-0.6-0.2-0.6h-10\n",
      "\t\tc-0.3,0-0.5,0.3-0.2,0.6L112.8,79.1z\">\n",
      "           </path>\n",
      "           <path class=\"st3\" d=\"M293.8,153.5h-79.4c-0.2-0.7-0.5-1.3-0.7-2h-7.8c-0.2,0-0.4,0.2-0.5,0.4c-0.2,0.6-0.4,1.2-0.7,1.8\n",
      "\t\tc-0.2,0.6-0.6,1.2-1,1.7v3.2h-14.1v-3.2c-0.7-1.2-1.2-2.3-1.6-3.6c-0.1-0.2-0.2-0.4-0.5-0.4H180c-0.2,0-0.4,0.2-0.5,0.4\n",
      "\t\tc-0.3,1.2-0.8,2.4-1.6,3.6v3.2h-5h-2.7h-5v-3.2c-0.7-1.1-1.2-2.3-1.6-3.6c-0.1-0.2-0.2-0.4-0.5-0.4h-7.5c-0.2,0-0.4,0.2-0.5,0.4\n",
      "\t\tc-0.3,1.2-0.9,2.4-1.6,3.6v3.2h-14.1v-3.2c-0.3-0.6-0.7-1.2-1-1.7c-0.2-0.6-0.5-1.2-0.7-1.8c-0.1-0.2-0.2-0.4-0.5-0.4h-7.8\n",
      "\t\tc-0.2,0.7-0.4,1.3-0.7,2H49.2c-0.4,0-0.7,0.3-0.7,0.7v6.8c0,0.4,0.3,0.7,0.7,0.7h78.2v2.6c0,0.4,0.3,0.7,0.7,0.7h42.1h2.7H215\n",
      "\t\tc0.4,0,0.7-0.3,0.7-0.7v-2.6h78.2c0.4,0,0.7-0.3,0.7-0.7v-6.8C294.5,153.9,294.2,153.5,293.8,153.5z\">\n",
      "           </path>\n",
      "           <path class=\"st3\" d=\"M128.2,78.3l-0.3,0.5c0,0.1-0.1,0.1-0.1,0.2v2.1c0,0.2,0.2,0.3,0.4,0.2l17.5-6.8h-17.4L128.2,78.3\n",
      "\t\tC128.3,78.2,128.3,78.2,128.2,78.3z\">\n",
      "           </path>\n",
      "           <path class=\"st3\" d=\"M187.5,107.8c0-0.2,0-0.5,0-0.7c0-3.7,0-7.1,0-7.1c0.2-1.2,0.5-2.3,1-3.5H179c0.5,1.1,0.8,2.2,1,3.5V119v3.8\n",
      "\t\tv26.5v0.1c0,0.4,0.3,0.7,0.7,0.7h6.2c0.4,0,0.7-0.3,0.7-0.7c0,0,0-26.1,0-40.4C187.5,108.6,187.5,108.2,187.5,107.8z\">\n",
      "           </path>\n",
      "           <path class=\"st3\" d=\"M163.1,105.6c0.2-6.7,0.5-7.8,1-9h-9.6c0.5,1.1,0.8,2.2,1,3.5c0,0,0,1.1,0,3c0,14.2,0,46.4,0,46.4\n",
      "\t\tc0,0.4,0.3,0.7,0.7,0.7h6.2c0.4,0,0.7-0.3,0.7-0.7v-0.1v-27v-3.3L163.1,105.6L163.1,105.6z\">\n",
      "           </path>\n",
      "           <path class=\"st3\" d=\"M56.4,87.7c0-0.3,0.3-0.7,0.7-0.7h11.6c0.4,0,0.7,0.2,0.7,0.7v2.9c0,0.3-0.3,0.7-0.7,0.7H57.1\n",
      "\t\tc-0.4,0-0.7-0.2-0.7-0.7V87.7z M75.2,87.7c0-0.3,0.3-0.7,0.7-0.7h11.6c0.4,0,0.7,0.2,0.7,0.7v2.9c0,0.3-0.3,0.7-0.7,0.7H75.8\n",
      "\t\tc-0.4,0-0.7-0.2-0.7-0.7L75.2,87.7L75.2,87.7z M93.9,87.7c0-0.3,0.3-0.7,0.7-0.7h11.6c0.4,0,0.7,0.2,0.7,0.7v2.9\n",
      "\t\tc0,0.3-0.3,0.7-0.7,0.7H94.6c-0.4,0-0.7-0.2-0.7-0.7V87.7z M112.6,87.7c0-0.3,0.3-0.7,0.7-0.7h13.5c0.4,0,0.7,0.2,0.7,0.7v1.9h87.8\n",
      "\t\tv-1.8c0-0.3,0.3-0.7,0.7-0.7h13.5c0.4,0,0.7,0.2,0.7,0.7v2.9c0,0.3-0.3,0.7-0.7,0.7H113.3c-0.4,0-0.7-0.2-0.7-0.7V87.7z M135,83.7\n",
      "\t\tl36.5-14.7L208,83.7h-6.1l-15.2-6.1l-15.2-6.1l-15.2,6.1L141,83.7H135z M236.1,87.7c0-0.3,0.3-0.7,0.7-0.7h11.6\n",
      "\t\tc0.4,0,0.7,0.2,0.7,0.7v2.9c0,0.3-0.3,0.7-0.7,0.7h-11.6c-0.4,0-0.7-0.2-0.7-0.7V87.7z M254.8,87.7c0-0.3,0.3-0.7,0.7-0.7h11.6\n",
      "\t\tc0.4,0,0.7,0.2,0.7,0.7v2.9c0,0.3-0.3,0.7-0.7,0.7h-11.6c-0.4,0-0.7-0.2-0.7-0.7V87.7z M273.6,87.7c0-0.3,0.3-0.7,0.7-0.7h11.6\n",
      "\t\tc0.4,0,0.7,0.2,0.7,0.7v2.9c0,0.3-0.3,0.7-0.7,0.7h-11.6c-0.4,0-0.7-0.2-0.7-0.7V87.7z M218.5,127.6l5.2-2.2c0.1,0,0.1,0,0.2,0\n",
      "\t\ts0.1,0,0.2,0l5.2,2.2c0.2,0.1,0.2,0.2,0.2,0.4c0,0.2-0.2,0.2-0.3,0.2h-10.5c-0.2,0-0.3-0.1-0.3-0.2\n",
      "\t\tC218.2,127.8,218.3,127.6,218.5,127.6z M219,118.7c0-0.1,0.1-0.2,0.2-0.3c0.2-0.3,0.4-0.7,0.4-1.2v-7.2c0-0.5-0.2-0.9-0.4-1.2\n",
      "\t\tc-0.1-0.1-0.2-0.2-0.2-0.3v-1.4c0-0.2,0.2-0.3,0.3-0.3h9.1c0.2,0,0.3,0.2,0.3,0.3v1.4c0,0.1-0.1,0.2-0.2,0.3\n",
      "\t\tc-0.2,0.3-0.4,0.7-0.4,1.2v7.1c0,0.5,0.2,0.9,0.4,1.2c0.1,0.1,0.2,0.2,0.2,0.3v3.2c0,0.2-0.2,0.3-0.3,0.3h-9.1\n",
      "\t\tc-0.2,0-0.3-0.2-0.3-0.3V118.7z M237.3,127.4c0.2-0.2,0.3-0.2,0.5-0.4c1.4-1,3-1.5,4.7-1.5c1.9,0,3.7,0.7,5.2,1.9l0.1,0.1\n",
      "\t\tc0.1,0.1,0.1,0.2,0.1,0.3s-0.1,0.2-0.2,0.2c0,0,0,0-0.1,0c0,0,0,0-0.1,0h-0.1h-10c-0.1,0-0.2-0.1-0.2-0.1c-0.1-0.1-0.1-0.1-0.1-0.2\n",
      "\t\tC237.2,127.7,237.2,127.5,237.3,127.4z M237.7,118.7c0-0.1,0.1-0.2,0.2-0.3c0.2-0.3,0.4-0.7,0.4-1.2v-7.2c0-0.5-0.2-0.9-0.4-1.2\n",
      "\t\tc-0.1-0.1-0.2-0.2-0.2-0.3v-1.4c0-0.2,0.2-0.3,0.3-0.3h9.1c0.2,0,0.3,0.2,0.3,0.3v1.4c0,0.1-0.1,0.2-0.2,0.3\n",
      "\t\tc-0.2,0.3-0.4,0.7-0.4,1.2v7.1c0,0.5,0.2,0.9,0.4,1.2c0.1,0.1,0.2,0.2,0.2,0.3v3.2c0,0.2-0.2,0.3-0.3,0.3H238\n",
      "\t\tc-0.2,0-0.3-0.2-0.3-0.3V118.7z M255.9,127.6l5.3-2.2c0.1,0,0.1,0,0.2,0h0.1c0,0,0,0,0.1,0l5.2,2.2c0.1,0,0.1,0.1,0.2,0.1\n",
      "\t\tc0.1,0.1,0.1,0.2,0.1,0.2c0,0.1-0.1,0.2-0.2,0.2c-0.1,0-0.1,0.1-0.2,0.1h-10.5c-0.1,0-0.2,0-0.2-0.1c-0.1,0-0.1-0.1-0.2-0.2V128\n",
      "\t\tC255.7,127.9,255.7,127.7,255.9,127.6z M256.5,118.7c0-0.1,0.1-0.2,0.2-0.3c0.2-0.3,0.4-0.7,0.4-1.2v-7.2c0-0.5-0.2-0.9-0.4-1.2\n",
      "\t\tc-0.1-0.1-0.2-0.2-0.2-0.3v-1.4c0-0.2,0.2-0.3,0.3-0.3h9.1c0.2,0,0.3,0.2,0.3,0.3v1.4c0,0.1-0.1,0.2-0.2,0.3\n",
      "\t\tc-0.2,0.3-0.4,0.7-0.4,1.2v7.1c0,0.5,0.2,0.9,0.4,1.2c0.1,0.1,0.2,0.2,0.2,0.3v3.2c0,0.2-0.2,0.3-0.3,0.3h-9.1\n",
      "\t\tc-0.2,0-0.3-0.2-0.3-0.3V118.7z M274.8,127.4c0.2-0.2,0.3-0.2,0.5-0.4c1.4-1,3-1.5,4.7-1.5c1.9,0,3.7,0.7,5.2,1.9l0.1,0.1\n",
      "\t\tc0.1,0.1,0.1,0.2,0.1,0.3s-0.1,0.2-0.2,0.2c0,0,0,0-0.1,0c0,0,0,0-0.1,0H285h-10c-0.1,0-0.2-0.1-0.2-0.1c-0.1-0.1-0.1-0.1-0.1-0.2\n",
      "\t\tC274.6,127.7,274.7,127.5,274.8,127.4z M275.2,118.7c0-0.1,0.1-0.2,0.2-0.3c0.2-0.3,0.4-0.7,0.4-1.2v-7.2c0-0.5-0.2-0.9-0.4-1.2\n",
      "\t\tc-0.1-0.1-0.2-0.2-0.2-0.3v-1.4c0-0.2,0.2-0.3,0.3-0.3h9.1c0.2,0,0.3,0.2,0.3,0.3v1.4c0,0.1-0.1,0.2-0.2,0.3\n",
      "\t\tc-0.2,0.3-0.4,0.7-0.4,1.2v7.1c0,0.5,0.2,0.9,0.4,1.2c0.1,0.1,0.2,0.2,0.2,0.3v3.2c0,0.2-0.2,0.3-0.3,0.3h-9.1\n",
      "\t\tc-0.2,0-0.3-0.2-0.3-0.3V118.7z M284.9,131.9c0,0.1-0.1,0.2-0.2,0.3c-0.2,0.3-0.4,0.7-0.4,1.2v8.7c0,0.5,0.2,0.9,0.4,1.2\n",
      "\t\tc0.1,0.1,0.2,0.2,0.2,0.3v3.2c0,0.2-0.2,0.3-0.3,0.3h-9.1c-0.2,0-0.3-0.2-0.3-0.3v-3.2c0-0.1,0.1-0.2,0.2-0.3\n",
      "\t\tc0.2-0.3,0.4-0.7,0.4-1.2v-8.7c0-0.5-0.2-0.9-0.4-1.2c-0.1-0.1-0.2-0.2-0.2-0.3v-1.4c0-0.2,0.2-0.3,0.3-0.3h9.1\n",
      "\t\tc0.2,0,0.3,0.2,0.3,0.3V131.9z M266.2,131.9c0,0.1-0.1,0.2-0.2,0.3c-0.2,0.3-0.4,0.7-0.4,1.2v8.7c0,0.5,0.2,0.9,0.4,1.2\n",
      "\t\tc0.1,0.1,0.2,0.2,0.2,0.3v3.2c0,0.2-0.2,0.3-0.3,0.3h-9.1c-0.2,0-0.3-0.2-0.3-0.3v-3.2c0-0.1,0.1-0.2,0.2-0.3\n",
      "\t\tc0.2-0.3,0.4-0.7,0.4-1.2v-8.7c0-0.5-0.2-0.9-0.4-1.2c-0.1-0.1-0.2-0.2-0.2-0.3v-1.4c0-0.2,0.2-0.3,0.3-0.3h9.1\n",
      "\t\tc0.2,0,0.3,0.2,0.3,0.3V131.9z M247.4,131.9c0,0.1-0.1,0.2-0.2,0.3c-0.2,0.3-0.4,0.7-0.4,1.2v8.7c0,0.5,0.2,0.9,0.4,1.2\n",
      "\t\tc0.1,0.1,0.2,0.2,0.2,0.3v3.2c0,0.2-0.2,0.3-0.3,0.3H238c-0.2,0-0.3-0.2-0.3-0.3v-3.2c0-0.1,0.1-0.2,0.2-0.3\n",
      "\t\tc0.2-0.3,0.4-0.7,0.4-1.2v-8.7c0-0.5-0.2-0.9-0.4-1.2c-0.1-0.1-0.2-0.2-0.2-0.3v-1.4c0-0.2,0.2-0.3,0.3-0.3h9.1\n",
      "\t\tc0.2,0,0.3,0.2,0.3,0.3V131.9z M228.7,131.9c0,0.1-0.1,0.2-0.2,0.3c-0.2,0.3-0.4,0.7-0.4,1.2v8.7c0,0.5,0.2,0.9,0.4,1.2\n",
      "\t\tc0.1,0.1,0.2,0.2,0.2,0.3v3.2c0,0.2-0.2,0.3-0.3,0.3h-9.1c-0.2,0-0.3-0.2-0.3-0.3v-3.2c0-0.1,0.1-0.2,0.2-0.3\n",
      "\t\tc0.2-0.3,0.4-0.7,0.4-1.2v-8.7c0-0.5-0.2-0.9-0.4-1.2c-0.1-0.1-0.2-0.2-0.2-0.3v-1.4c0-0.2,0.2-0.3,0.3-0.3h9.1\n",
      "\t\tc0.2,0,0.3,0.2,0.3,0.3V131.9z M124.4,128.3h-10.5c-0.2,0-0.3-0.1-0.3-0.2c0-0.2,0.1-0.3,0.2-0.4l5.2-2.2c0.1,0,0.1,0,0.2,0\n",
      "\t\tc0.1,0,0.1,0,0.2,0l5.2,2.2c0.2,0.1,0.2,0.2,0.2,0.4C124.7,128.2,124.6,128.3,124.4,128.3z M124,131.9c0,0.1-0.1,0.2-0.2,0.3\n",
      "\t\tc-0.2,0.3-0.4,0.7-0.4,1.2v8.7c0,0.5,0.2,0.9,0.4,1.2c0.1,0.1,0.2,0.2,0.2,0.3v3.2c0,0.2-0.2,0.3-0.3,0.3h-9.1\n",
      "\t\tc-0.2,0-0.3-0.2-0.3-0.3v-3.2c0-0.1,0.1-0.2,0.2-0.3c0.2-0.3,0.4-0.7,0.4-1.2v-8.7c0-0.5-0.2-0.9-0.4-1.2c-0.1-0.1-0.2-0.2-0.2-0.3\n",
      "\t\tv-1.4c0-0.2,0.2-0.3,0.3-0.3h9.1c0.2,0,0.3,0.2,0.3,0.3V131.9z M105.8,127.9c0,0.1-0.1,0.1-0.1,0.2l-0.1,0.1\n",
      "\t\tc-0.1,0-0.1,0.1-0.2,0.1h-10c-0.1,0-0.1,0-0.2-0.1c-0.2-0.1-0.2-0.2-0.2-0.2s0-0.2,0-0.3c0,0,0-0.1,0.1-0.1c0,0,0-0.1,0.1-0.1\n",
      "\t\tc0.3-0.3,0.7-0.6,1.2-0.8c0,0,0.1,0,0.1-0.1c1.2-0.7,2.6-1.1,4-1.1c1.9,0,3.7,0.7,5.2,1.9C105.8,127.5,105.9,127.7,105.8,127.9z\n",
      "\t\t M105.3,131.9c0,0.1-0.1,0.2-0.2,0.3c-0.2,0.3-0.4,0.7-0.4,1.2v8.7c0,0.5,0.2,0.9,0.4,1.2c0.1,0.1,0.2,0.2,0.2,0.3v3.2\n",
      "\t\tc0,0.2-0.2,0.3-0.3,0.3h-9.1c-0.2,0-0.3-0.2-0.3-0.3v-3.2c0-0.1,0.1-0.2,0.2-0.3c0.2-0.3,0.4-0.7,0.4-1.2v-8.7\n",
      "\t\tc0-0.5-0.2-0.9-0.4-1.2c-0.1-0.1-0.2-0.2-0.2-0.3v-1.4c0-0.2,0.2-0.3,0.3-0.3h9.1c0.2,0,0.3,0.2,0.3,0.3V131.9z M87.1,128.2\n",
      "\t\tc-0.1,0-0.1,0.1-0.2,0.1H76.4c-0.1,0-0.1,0-0.2,0s-0.2-0.1-0.2-0.2V128c0-0.2,0.1-0.3,0.2-0.4l5.2-2.2c0,0,0,0,0.1,0h0.1\n",
      "\t\tc0.1,0,0.1,0,0.2,0l5.2,2.2c0.2,0.1,0.2,0.2,0.2,0.4C87.2,128.1,87.2,128.2,87.1,128.2z M86.6,131.9c0,0.1-0.1,0.2-0.2,0.3\n",
      "\t\tc-0.2,0.3-0.4,0.7-0.4,1.2v8.7c0,0.5,0.2,0.9,0.4,1.2c0.1,0.1,0.2,0.2,0.2,0.3v3.2c0,0.2-0.2,0.3-0.3,0.3h-9.1\n",
      "\t\tc-0.2,0-0.3-0.2-0.3-0.3v-3.2c0-0.1,0.1-0.2,0.2-0.3c0.2-0.3,0.4-0.7,0.4-1.2v-8.7c0-0.5-0.2-0.9-0.4-1.2c-0.1-0.1-0.2-0.2-0.2-0.3\n",
      "\t\tv-1.4c0-0.2,0.2-0.3,0.3-0.3h9.1c0.2,0,0.3,0.2,0.3,0.3V131.9z M68.4,127.9c0,0.1-0.1,0.2-0.2,0.2c-0.1,0-0.1,0.1-0.2,0.1H58\n",
      "\t\tc0,0,0,0-0.1,0h-0.1c-0.1-0.1-0.2-0.2-0.2-0.2c-0.1-0.2,0-0.3,0.1-0.4c0,0,0,0,0.1-0.1c0.2-0.1,0.2-0.2,0.4-0.3\n",
      "\t\tc0.1-0.1,0.2-0.1,0.2-0.2c0.2-0.1,0.2-0.2,0.4-0.2c0.1-0.1,0.2-0.2,0.4-0.2c1.2-0.6,2.4-0.9,3.7-0.9c1.9,0,3.7,0.7,5.2,1.9\n",
      "\t\tC68.4,127.5,68.4,127.7,68.4,127.9z M67.8,131.9c0,0.1-0.1,0.2-0.2,0.3c-0.2,0.3-0.4,0.7-0.4,1.2v8.7c0,0.5,0.2,0.9,0.4,1.2\n",
      "\t\tc0.1,0.1,0.2,0.2,0.2,0.3v3.2c0,0.2-0.2,0.3-0.3,0.3h-9.1c-0.2,0-0.3-0.2-0.3-0.3v-3.2c0-0.1,0.1-0.2,0.2-0.3\n",
      "\t\tc0.2-0.3,0.4-0.7,0.4-1.2v-8.7c0-0.5-0.2-0.9-0.4-1.2c-0.1-0.1-0.2-0.2-0.2-0.3v-1.4c0-0.2,0.2-0.3,0.3-0.3h9.1\n",
      "\t\tc0.2,0,0.3,0.2,0.3,0.3V131.9z M58.1,118.7c0-0.1,0.1-0.2,0.2-0.3c0.2-0.3,0.4-0.7,0.4-1.2v-7.1c0-0.5-0.2-0.9-0.4-1.2\n",
      "\t\tc-0.1-0.1-0.2-0.2-0.2-0.3v-1.5c0-0.2,0.2-0.3,0.3-0.3h9.1c0.2,0,0.3,0.2,0.3,0.3v1.4c0,0.1-0.1,0.2-0.2,0.3\n",
      "\t\tc-0.2,0.3-0.4,0.7-0.4,1.2v7.2c0,0.5,0.2,0.9,0.4,1.2c0.1,0.1,0.2,0.2,0.2,0.3v3.2c0,0.2-0.2,0.3-0.3,0.3h-9.1\n",
      "\t\tc-0.2,0-0.3-0.2-0.3-0.3L58.1,118.7L58.1,118.7z M76.8,118.7c0-0.1,0.1-0.2,0.2-0.3c0.2-0.3,0.4-0.7,0.4-1.2v-7.1\n",
      "\t\tc0-0.5-0.2-0.9-0.4-1.2c-0.1-0.1-0.2-0.2-0.2-0.3v-1.5c0-0.2,0.2-0.3,0.3-0.3h9.1c0.2,0,0.3,0.2,0.3,0.3v1.4c0,0.1-0.1,0.2-0.2,0.3\n",
      "\t\tc-0.2,0.3-0.4,0.7-0.4,1.2v7.2c0,0.5,0.2,0.9,0.4,1.2c0.1,0.1,0.2,0.2,0.2,0.3v3.2c0,0.2-0.2,0.3-0.3,0.3h-9.1\n",
      "\t\tc-0.2,0-0.3-0.2-0.3-0.3V118.7z M95.6,118.7c0-0.1,0.1-0.2,0.2-0.3c0.2-0.3,0.4-0.7,0.4-1.2v-7.1c0-0.5-0.2-0.9-0.4-1.2\n",
      "\t\tc-0.1-0.1-0.2-0.2-0.2-0.3v-1.5c0-0.2,0.2-0.3,0.3-0.3h9.1c0.2,0,0.3,0.2,0.3,0.3v1.4c0,0.1-0.1,0.2-0.2,0.3\n",
      "\t\tc-0.2,0.3-0.4,0.7-0.4,1.2v7.2c0,0.5,0.2,0.9,0.4,1.2c0.1,0.1,0.2,0.2,0.2,0.3v3.2c0,0.2-0.2,0.3-0.3,0.3h-9.1\n",
      "\t\tc-0.2,0-0.3-0.2-0.3-0.3V118.7z M114.3,118.7c0-0.1,0.1-0.2,0.2-0.3c0.2-0.3,0.4-0.7,0.4-1.2v-7.1c0-0.5-0.2-0.9-0.4-1.2\n",
      "\t\tc-0.1-0.1-0.2-0.2-0.2-0.3v-1.5c0-0.2,0.2-0.3,0.3-0.3h9.1c0.2,0,0.3,0.2,0.3,0.3v1.4c0,0.1-0.1,0.2-0.2,0.3\n",
      "\t\tc-0.2,0.3-0.4,0.7-0.4,1.2v7.2c0,0.5,0.2,0.9,0.4,1.2c0.1,0.1,0.2,0.2,0.2,0.3v3.2c0,0.2-0.2,0.3-0.3,0.3h-9.1\n",
      "\t\tc-0.2,0-0.3-0.2-0.3-0.3V118.7z M49.2,85.9h2.1c0,0,0.1,0,0.1,0.1v8.5c0,0.2,0.2,0.3,0.4,0.3h76.1c0.3,0.6,0.7,1.2,0.9,1.8\n",
      "\t\tc-4.8,0-79.5,0-79.5,0c-0.2,0-0.5,0.2-0.5,0.5v2.4c0,0.3,0.2,0.5,0.5,0.5h80.3c0,0,0,0.7,0,2.2H51.6c-0.2,0-0.2,0.1-0.2,0.2v47.7\n",
      "\t\tc0.2,0,85.2,0,85.2,0c0.4,0,0.7-0.3,0.7-0.7v-0.1c0-0.4,0.1-48.9,0.1-48.9c0-0.3,0-0.4,0-0.4c0.1-0.9,0.3-1.8,0.6-2.7\n",
      "\t\tc0.3-0.9,0.7-1.7,1.2-2.6h29.8h5.2h29.8c0.5,0.8,0.9,1.7,1.2,2.6s0.5,1.7,0.6,2.7c0,0,0,0.2,0,0.4c0,0,0.1,48.5,0.1,48.9v0.1\n",
      "\t\tc0,0.4,0.3,0.7,0.7,0.7l83.1-0.1h0.2h1.6c0.2,0,0.2-0.1,0.2-0.2v-47.4c0-0.2-0.1-0.2-0.2-0.2h-78.1c0-1.3,0-2.1,0-2.2h80.3\n",
      "\t\tc0.3,0,0.5-0.2,0.5-0.5v-2.4c0-0.2-0.2-0.5-0.5-0.5c0,0-74.7,0-79.5,0c0.2-0.6,0.6-1.2,0.9-1.8h76.2c0.2,0,0.4-0.1,0.4-0.3V86\n",
      "\t\tc0,0,0-0.1,0.1-0.1h2.1c0.3,0,0.5-0.2,0.5-0.5v-1.1c0-0.3-0.2-0.5-0.5-0.5H218c-0.3,0-0.7-0.1-1-0.2l-44.7-18.1v-2.9v-0.9\n",
      "\t\tc0.9-0.2,2.2-0.5,3.2-0.2c5.1,1.7,6.2,1.1,6.2,1c-0.9-1.2-0.6-3.9-0.6-3.9c0.3-2.4,0.2-2.9,0.2-3c-0.2,0.1-1.6,0.9-5-0.2\n",
      "\t\tc-1.8-0.6-3.2-0.7-4-0.8c0-0.5-0.4-0.8-0.9-0.8c-0.4,0.1-0.7,0.4-0.7,0.9v10.7l-44.7,18.1c-0.3,0.2-0.7,0.2-1,0.2H49.2\n",
      "\t\tc-0.3,0-0.5,0.2-0.5,0.5v1.1C48.7,85.7,48.9,85.9,49.2,85.9z\">\n",
      "           </path>\n",
      "           <polygon class=\"st3\" points=\"198.6,96.5 171.5,126.9 144.4,96.5 144.4,96.5 144,96.7 171.2,127.3 171.2,127.2 171.7,127.2\n",
      "\t\t171.8,127.3 198.9,96.8 198.9,96.7 \t\">\n",
      "           </polygon>\n",
      "           <path class=\"st3\" d=\"M172.3,125.7h-1.7c-0.4,0-0.6,0.3-0.6,0.6v4.8c0,0.4,0.3,0.6,0.6,0.6h1.7c0.4,0,0.6-0.3,0.6-0.6v-4.8\n",
      "\t\tC172.9,125.9,172.7,125.7,172.3,125.7z\">\n",
      "           </path>\n",
      "          </g>\n",
      "         </svg>\n",
      "        </a>\n",
      "       </div>\n",
      "       <div class=\"site-header__menu-wrap\">\n",
      "        <nav aria-label=\"Primary Navigation\" class=\"col primary-menu over-four-items over-fourty-characters over-fifty-characters\" data-itemcount=\"5\" data-textlength=\"55\">\n",
      "         <ul class=\"mobile-home-link\">\n",
      "          <li class=\"navlink\">\n",
      "           <a aria-current=\"page\" href=\"https://www.whitehouse.gov/\">\n",
      "            Home\n",
      "           </a>\n",
      "          </li>\n",
      "         </ul>\n",
      "         <ul class=\"row menu site-header__item_inner\" id=\"primary-navigation\">\n",
      "          <li class=\"menu-item menu-item-type-post_type menu-item-object-page menu-item-61 navlink top-level-menu-item\" id=\"menu-item-61\">\n",
      "           <a href=\"https://www.whitehouse.gov/administration/\">\n",
      "            Administration\n",
      "           </a>\n",
      "          </li>\n",
      "          <li class=\"menu-item menu-item-type-post_type menu-item-object-page menu-item-64 navlink top-level-menu-item\" id=\"menu-item-64\">\n",
      "           <a href=\"https://www.whitehouse.gov/priorities/\">\n",
      "            Priorities\n",
      "           </a>\n",
      "          </li>\n",
      "          <li class=\"menu-item menu-item-type-post_type menu-item-object-page menu-item-65469 navlink top-level-menu-item\" id=\"menu-item-65469\">\n",
      "           <a href=\"https://www.whitehouse.gov/therecord/\">\n",
      "            The Record\n",
      "           </a>\n",
      "          </li>\n",
      "          <li class=\"menu-item menu-item-type-post_type menu-item-object-page current_page_parent menu-item-2787 navlink top-level-menu-item\" id=\"menu-item-2787\">\n",
      "           <a href=\"https://www.whitehouse.gov/briefing-room/\">\n",
      "            Briefing Room\n",
      "           </a>\n",
      "          </li>\n",
      "          <li class=\"site-id-2 mlp-language-nav-item menu-item menu-item-type-mlp_language menu-item-object-mlp_language menu-item-199 navlink top-level-menu-item\" id=\"menu-item-199\">\n",
      "           <a href=\"https://www.whitehouse.gov/es/\" hreflang=\"es-US\" lang=\"es-US\" rel=\"alternate\">\n",
      "            Español\n",
      "           </a>\n",
      "          </li>\n",
      "         </ul>\n",
      "        </nav>\n",
      "        <div class=\"site-header__menu-wrap__footer\">\n",
      "         <div class=\"site-header__menu-wrap__footer__social\">\n",
      "          <nav aria-label=\"Social Navigation\" class=\"col-xs-12 col-md-6\">\n",
      "           <ul class=\"social-simple\" id=\"social-navigation-footer\">\n",
      "            <li class=\"menu-item menu-item-type-custom menu-item-object-custom menu-item-87 col-auto top-level-menu-item\" id=\"menu-item-87\">\n",
      "             <a class=\"external-link\" href=\"https://www.instagram.com/whitehouse/\" rel=\"noopener noreferrer\" target=\"_blank\">\n",
      "              <svg aria-hidden=\"true\" tabindex=\"-1\" viewbox=\"0 0 21 20\" xmlns=\"http://www.w3.org/2000/svg\">\n",
      "               <path d=\"M6.92773 6.26953C7.90169 5.29557 9.07617 4.80859 10.4512 4.80859C11.8262 4.80859 12.9863 5.29557 13.9316 6.26953C14.9056 7.21484 15.3926 8.375 15.3926 9.75C15.3926 11.125 14.9056 12.2995 13.9316 13.2734C12.9863 14.2188 11.8262 14.6914 10.4512 14.6914C9.07617 14.6914 7.90169 14.2188 6.92773 13.2734C5.98242 12.2995 5.50977 11.125 5.50977 9.75C5.50977 8.375 5.98242 7.21484 6.92773 6.26953ZM8.17383 12.0273C8.80404 12.6576 9.56315 12.9727 10.4512 12.9727C11.3392 12.9727 12.0983 12.6576 12.7285 12.0273C13.3587 11.3971 13.6738 10.638 13.6738 9.75C13.6738 8.86198 13.3587 8.10286 12.7285 7.47266C12.0983 6.84245 11.3392 6.52734 10.4512 6.52734C9.56315 6.52734 8.80404 6.84245 8.17383 7.47266C7.54362 8.10286 7.22852 8.86198 7.22852 9.75C7.22852 10.638 7.54362 11.3971 8.17383 12.0273ZM16.3809 3.82031C16.61 4.02083 16.7246 4.27865 16.7246 4.59375C16.7246 4.90885 16.61 5.18099 16.3809 5.41016C16.1803 5.63932 15.9225 5.75391 15.6074 5.75391C15.2923 5.75391 15.0202 5.63932 14.791 5.41016C14.5618 5.18099 14.4473 4.90885 14.4473 4.59375C14.4473 4.27865 14.5618 4.02083 14.791 3.82031C15.0202 3.59115 15.2923 3.47656 15.6074 3.47656C15.9225 3.47656 16.1803 3.59115 16.3809 3.82031ZM20.0332 5.79688C20.0618 6.57031 20.0762 7.88802 20.0762 9.75C20.0762 11.612 20.0618 12.9297 20.0332 13.7031C19.9473 15.4505 19.4173 16.8112 18.4434 17.7852C17.498 18.7305 16.1517 19.2318 14.4043 19.2891C13.6309 19.3464 12.3132 19.375 10.4512 19.375C8.58919 19.375 7.27148 19.3464 6.49805 19.2891C4.75065 19.2031 3.4043 18.6875 2.45898 17.7422C2.08659 17.3984 1.78581 16.9974 1.55664 16.5391C1.32747 16.0807 1.1556 15.6367 1.04102 15.207C0.955078 14.7773 0.912109 14.276 0.912109 13.7031C0.854818 12.9297 0.826172 11.612 0.826172 9.75C0.826172 7.88802 0.854818 6.55599 0.912109 5.75391C0.998047 4.03516 1.51367 2.70312 2.45898 1.75781C3.4043 0.783854 4.75065 0.253906 6.49805 0.167969C7.27148 0.139323 8.58919 0.125 10.4512 0.125C12.3132 0.125 13.6309 0.139323 14.4043 0.167969C16.1517 0.253906 17.498 0.783854 18.4434 1.75781C19.4173 2.70312 19.9473 4.04948 20.0332 5.79688ZM17.9707 15.4219C18.0566 15.1927 18.1283 14.9062 18.1855 14.5625C18.2428 14.1901 18.2858 13.7604 18.3145 13.2734C18.3431 12.7578 18.3574 12.3424 18.3574 12.0273C18.3574 11.7122 18.3574 11.2682 18.3574 10.6953C18.3574 10.1224 18.3574 9.80729 18.3574 9.75C18.3574 9.66406 18.3574 9.34896 18.3574 8.80469C18.3574 8.23177 18.3574 7.78776 18.3574 7.47266C18.3574 7.15755 18.3431 6.75651 18.3145 6.26953C18.2858 5.75391 18.2428 5.32422 18.1855 4.98047C18.1283 4.60807 18.0566 4.30729 17.9707 4.07812C17.627 3.1901 17.0111 2.57422 16.123 2.23047C15.8939 2.14453 15.5931 2.07292 15.2207 2.01562C14.877 1.95833 14.4473 1.91536 13.9316 1.88672C13.4447 1.85807 13.0436 1.84375 12.7285 1.84375C12.4421 1.84375 11.998 1.84375 11.3965 1.84375C10.8236 1.84375 10.5085 1.84375 10.4512 1.84375C10.3939 1.84375 10.0788 1.84375 9.50586 1.84375C8.93294 1.84375 8.48893 1.84375 8.17383 1.84375C7.85872 1.84375 7.44336 1.85807 6.92773 1.88672C6.44076 1.91536 6.01107 1.95833 5.63867 2.01562C5.29492 2.07292 5.00846 2.14453 4.7793 2.23047C3.89128 2.57422 3.27539 3.1901 2.93164 4.07812C2.8457 4.30729 2.77409 4.60807 2.7168 4.98047C2.65951 5.32422 2.61654 5.75391 2.58789 6.26953C2.55924 6.75651 2.54492 7.15755 2.54492 7.47266C2.54492 7.75911 2.54492 8.20312 2.54492 8.80469C2.54492 9.3776 2.54492 9.69271 2.54492 9.75C2.54492 9.86458 2.54492 10.1367 2.54492 10.5664C2.54492 10.9674 2.54492 11.3112 2.54492 11.5977C2.54492 11.8555 2.54492 12.1992 2.54492 12.6289C2.57357 13.0586 2.60221 13.431 2.63086 13.7461C2.65951 14.0326 2.70247 14.3333 2.75977 14.6484C2.81706 14.9635 2.87435 15.2214 2.93164 15.4219C3.30404 16.3099 3.91992 16.9258 4.7793 17.2695C5.00846 17.3555 5.29492 17.4271 5.63867 17.4844C6.01107 17.5417 6.44076 17.5846 6.92773 17.6133C7.44336 17.6419 7.8444 17.6562 8.13086 17.6562C8.44596 17.6562 8.88997 17.6562 9.46289 17.6562C10.0645 17.6562 10.3939 17.6562 10.4512 17.6562C10.5371 17.6562 10.8522 17.6562 11.3965 17.6562C11.9694 17.6562 12.4134 17.6562 12.7285 17.6562C13.0436 17.6562 13.4447 17.6419 13.9316 17.6133C14.4473 17.5846 14.877 17.5417 15.2207 17.4844C15.5931 17.4271 15.8939 17.3555 16.123 17.2695C17.0111 16.8971 17.627 16.2812 17.9707 15.4219Z\">\n",
      "               </path>\n",
      "              </svg>\n",
      "              <span class=\"screen-reader-text\">\n",
      "               Instagram\n",
      "               <span class=\"screen-reader-text\">\n",
      "                Opens in a new window\n",
      "               </span>\n",
      "              </span>\n",
      "             </a>\n",
      "            </li>\n",
      "            <li class=\"menu-item menu-item-type-custom menu-item-object-custom menu-item-88 col-auto top-level-menu-item\" id=\"menu-item-88\">\n",
      "             <a class=\"external-link\" href=\"https://www.facebook.com/WhiteHouse/\" rel=\"noopener noreferrer\" target=\"_blank\">\n",
      "              <svg aria-hidden=\"true\" tabindex=\"-1\" viewbox=\"0 0 11 19\" xmlns=\"http://www.w3.org/2000/svg\">\n",
      "               <path d=\"M9.72243 10.375H7.08571V18.25H3.57008V10.375H0.722427V7.10547H3.57008V4.64453C3.57008 3.70703 3.74586 2.91016 4.09743 2.25391C4.44899 1.59766 4.94118 1.10547 5.57399 0.777344C6.23024 0.425781 6.98024 0.25 7.82399 0.25C8.19899 0.25 8.59743 0.273438 9.0193 0.320312C9.44118 0.34375 9.7693 0.378906 10.0037 0.425781L10.3552 0.460938V3.23828H8.94899C8.29274 3.23828 7.81227 3.41406 7.50758 3.76562C7.22633 4.09375 7.08571 4.50391 7.08571 4.99609V7.10547H10.2146L9.72243 10.375Z\">\n",
      "               </path>\n",
      "              </svg>\n",
      "              <span class=\"screen-reader-text\">\n",
      "               Facebook\n",
      "               <span class=\"screen-reader-text\">\n",
      "                Opens in a new window\n",
      "               </span>\n",
      "              </span>\n",
      "             </a>\n",
      "            </li>\n",
      "            <li class=\"menu-item menu-item-type-custom menu-item-object-custom menu-item-89 col-auto top-level-menu-item\" id=\"menu-item-89\">\n",
      "             <a class=\"external-link\" href=\"https://twitter.com/whitehouse\" rel=\"noopener noreferrer\" target=\"_blank\">\n",
      "              <svg aria-hidden=\"true\" tabindex=\"-1\" viewbox=\"0 0 1792 1792\" xmlns=\"http://www.w3.org/2000/svg\">\n",
      "               <path d=\"M1684 408q-67 98-162 167 1 14 1 42 0 130-38 259.5t-115.5 248.5-184.5 210.5-258 146-323 54.5q-271 0-496-145 35 4 78 4 225 0 401-138-105-2-188-64.5t-114-159.5q33 5 61 5 43 0 85-11-112-23-185.5-111.5t-73.5-205.5v-4q68 38 146 41-66-44-105-115t-39-154q0-88 44-163 121 149 294.5 238.5t371.5 99.5q-8-38-8-74 0-134 94.5-228.5t228.5-94.5q140 0 236 102 109-21 205-78-37 115-142 178 93-10 186-50z\">\n",
      "               </path>\n",
      "              </svg>\n",
      "              <span class=\"screen-reader-text\">\n",
      "               Twitter\n",
      "               <span class=\"screen-reader-text\">\n",
      "                Opens in a new window\n",
      "               </span>\n",
      "              </span>\n",
      "             </a>\n",
      "            </li>\n",
      "            <li class=\"menu-item menu-item-type-custom menu-item-object-custom menu-item-90 col-auto top-level-menu-item\" id=\"menu-item-90\">\n",
      "             <a class=\"external-link\" href=\"https://www.youtube.com/user/whitehouse\" rel=\"noopener noreferrer\" target=\"_blank\">\n",
      "              <svg aria-hidden=\"true\" fill=\"none\" tabindex=\"-1\" viewbox=\"0 0 18 12\" xmlns=\"http://www.w3.org/2000/svg\">\n",
      "               <path d=\"M17.1562 1.90625C16.9688 1.15625 16.375 0.5625 15.6562 0.375C14.3125 0 9 0 9 0C9 0 3.65625 0 2.3125 0.375C1.59375 0.5625 1 1.15625 0.8125 1.90625C0.4375 3.21875 0.4375 6.03125 0.4375 6.03125C0.4375 6.03125 0.4375 8.8125 0.8125 10.1562C1 10.9062 1.59375 11.4688 2.3125 11.6562C3.65625 12 9 12 9 12C9 12 14.3125 12 15.6563 11.6562C16.375 11.4687 16.9688 10.9062 17.1563 10.1562C17.5313 8.8125 17.5312 6.03125 17.5312 6.03125C17.5312 6.03125 17.5312 3.21875 17.1562 1.90625ZM7.25 8.5625L7.25 3.5L11.6875 6.03125L7.25 8.5625Z\">\n",
      "               </path>\n",
      "              </svg>\n",
      "              <span class=\"screen-reader-text\">\n",
      "               YouTube\n",
      "               <span class=\"screen-reader-text\">\n",
      "                Opens in a new window\n",
      "               </span>\n",
      "              </span>\n",
      "             </a>\n",
      "            </li>\n",
      "           </ul>\n",
      "          </nav>\n",
      "          <!-- social -->\n",
      "         </div>\n",
      "         <nav class=\"site-header__menu-wrap__footer__menu\">\n",
      "          <ul class=\"row menu\" id=\"header-secondary\">\n",
      "           <li class=\"menu-item menu-item-type-post_type menu-item-object-page menu-item-109 small-text top-level-menu-item\" id=\"menu-item-109\">\n",
      "            <a href=\"https://www.whitehouse.gov/contact/\">\n",
      "             Contact Us\n",
      "            </a>\n",
      "           </li>\n",
      "           <li class=\"menu-item menu-item-type-post_type menu-item-object-page menu-item-1791 small-text top-level-menu-item\" id=\"menu-item-1791\">\n",
      "            <a href=\"https://www.whitehouse.gov/privacy/\">\n",
      "             Privacy Policy\n",
      "            </a>\n",
      "           </li>\n",
      "           <li class=\"menu-item menu-item-type-post_type menu-item-object-page menu-item-699 small-text top-level-menu-item\" id=\"menu-item-699\">\n",
      "            <a href=\"https://www.whitehouse.gov/copyright/\">\n",
      "             Copyright Policy\n",
      "            </a>\n",
      "           </li>\n",
      "           <li class=\"menu-item menu-item-type-post_type menu-item-object-page menu-item-107 small-text top-level-menu-item\" id=\"menu-item-107\">\n",
      "            <a href=\"https://www.whitehouse.gov/accessibility/\">\n",
      "             Accessibility Statement\n",
      "            </a>\n",
      "           </li>\n",
      "          </ul>\n",
      "         </nav>\n",
      "        </div>\n",
      "       </div>\n",
      "       <!-- site-header-menu-wrap -->\n",
      "       <div class=\"mobile-menu-toggle\">\n",
      "        <button aria-labelledby=\"mm-label\" class=\"mobile-menu-toggle__control js-mobile-menu-control js-open-main-menu\">\n",
      "         <span class=\"hamburger-control__wrapper\">\n",
      "          <span aria-hidden=\"true\" class=\"hamburger-control__top\">\n",
      "           <span class=\"hamburger-control__top__inner\">\n",
      "           </span>\n",
      "          </span>\n",
      "          <span class=\"hamburger-control__title\" id=\"mm-label\">\n",
      "           <span class=\"menu-text\">\n",
      "            Menu\n",
      "           </span>\n",
      "           <span class=\"close-text\">\n",
      "            Close\n",
      "           </span>\n",
      "          </span>\n",
      "          <span aria-hidden=\"true\" class=\"hamburger-control\">\n",
      "           <span class=\"hamburger-control__inner\">\n",
      "           </span>\n",
      "          </span>\n",
      "         </span>\n",
      "        </button>\n",
      "       </div>\n",
      "       <!-- mobile menu toggle -->\n",
      "       <form action=\"https://www.whitehouse.gov/\" class=\"search-form\" method=\"get\" role=\"search\">\n",
      "        <label for=\"search-field-search-id-21\">\n",
      "         <span class=\"screen-reader-text\">\n",
      "          To search this site, enter a search term\n",
      "         </span>\n",
      "        </label>\n",
      "        <button aria-hidden=\"true\" aria-label=\"Close\" class=\"search-close-icon\">\n",
      "         <svg height=\"13\" viewbox=\"0 0 13 13\" width=\"13\" xmlns=\"http://www.w3.org/2000/svg\">\n",
      "          <rect fill=\"black\" height=\"1\" transform=\"rotate(45 1.26074 0)\" width=\"16.2296\" x=\"1.26074\">\n",
      "          </rect>\n",
      "          <rect fill=\"black\" height=\"1\" transform=\"rotate(-45 0.737305 11.5178)\" width=\"16.2296\" x=\"0.737305\" y=\"11.5178\">\n",
      "          </rect>\n",
      "         </svg>\n",
      "        </button>\n",
      "        <button aria-label=\"Search\" class=\"search-icon\">\n",
      "         <svg aria-hidden=\"true\" height=\"34\" tabindex=\"-1\" viewbox=\"0 0 34 34\" width=\"34\" xmlns=\"http://www.w3.org/2000/svg\">\n",
      "          <circle cx=\"17\" cy=\"17\" fill=\"#000\" r=\"17\">\n",
      "          </circle>\n",
      "          <path d=\"M15.75 21.3c1.25 0 2.45-.41 3.43-1.18l3.68 3.68.94-.94-3.68-3.68a5.55 5.55 0 1 0-4.37 2.12Zm0-9.77a4.22 4.22 0 1 1 0 8.44 4.22 4.22 0 0 1 0-8.44Z\" fill=\"#fff\">\n",
      "          </path>\n",
      "         </svg>\n",
      "        </button>\n",
      "        <input aria-required=\"false\" autocapitalize=\"off\" autocomplete=\"off\" class=\"search-field\" id=\"search-field-search-id-21\" name=\"s\" placeholder=\"Search…\" required=\"\" spellcheck=\"false\" type=\"text\"/>\n",
      "        <button aria-hidden=\"true\" class=\"search-submit\">\n",
      "         <svg aria-hidden=\"true\" height=\"68\" tabindex=\"-1\" viewbox=\"0 0 63 68\" width=\"63\" xmlns=\"http://www.w3.org/2000/svg\">\n",
      "          <path d=\"m0 0 63 33.74S.66 67.44 0 68V68l17.06-34L0 0Z\" fill=\"currentColor\">\n",
      "          </path>\n",
      "         </svg>\n",
      "         <span class=\"screen-reader-text\">\n",
      "          Search\n",
      "         </span>\n",
      "        </button>\n",
      "       </form>\n",
      "      </div>\n",
      "     </div>\n",
      "    </div>\n",
      "    <div aria-hidden=\"true\" aria-labelledby=\"dialog2Title\" aria-modal=\"true\" class=\"mobile-overlay mobile-nav-overlay\" role=\"dialog\">\n",
      "     <div class=\"screen-reader-text\">\n",
      "      <h2 id=\"dialog2Title\">\n",
      "       Mobile Menu Overlay\n",
      "      </h2>\n",
      "     </div>\n",
      "     <div class=\"overlay-header\">\n",
      "      <div class=\"overlay-logo\">\n",
      "       <a href=\"https://www.whitehouse.gov/\" rel=\"home\">\n",
      "        <svg id=\"wh-oval-nofill-22\" style=\"enable-background:new 0 0 343 243;\" version=\"1.1\" viewbox=\"0 0 343 243\" x=\"0px\" xml:space=\"preserve\" xmlns=\"http://www.w3.org/2000/svg\" xmlns:xlink=\"http://www.w3.org/1999/xlink\" y=\"0px\">\n",
      "         <style type=\"text/css\">\n",
      "          #wh-oval-nofill-22 .st0{fill-rule:evenodd;clip-rule:evenodd;fill:#0A2458;}\n",
      "\t#wh-oval-nofill-22 .st1{opacity:0.5;fill:#0A2458;}\n",
      "\t#wh-oval-nofill-22 .st2{fill:#0A2458;}\n",
      "         </style>\n",
      "         <path class=\"st0\" d=\"M171.5,229.5c87.3,0,158-48.4,158-108s-70.7-108-158-108s-158,48.4-158,108S84.2,229.5,171.5,229.5z M290.8,209\n",
      "\tc-31.1,21.3-73.3,34-119.3,34s-88.2-12.7-119.3-34C21.1,187.8,0,157.1,0,121.5S21.1,55.2,52.2,34C83.3,12.7,125.5,0,171.5,0\n",
      "\ts88.2,12.7,119.3,34c31,21.2,52.2,51.9,52.2,87.5S321.8,187.8,290.8,209z\">\n",
      "         </path>\n",
      "         <g>\n",
      "          <g>\n",
      "           <rect class=\"st1\" height=\"8.5\" width=\"2.7\" x=\"168.3\" y=\"134.4\">\n",
      "           </rect>\n",
      "           <rect class=\"st1\" height=\"8.5\" width=\"2.7\" x=\"168.3\" y=\"143.9\">\n",
      "           </rect>\n",
      "           <rect class=\"st1\" height=\"8.5\" width=\"2.7\" x=\"172\" y=\"143.9\">\n",
      "           </rect>\n",
      "           <rect class=\"st1\" height=\"8.4\" width=\"2.7\" x=\"172\" y=\"134.4\">\n",
      "           </rect>\n",
      "           <path class=\"st1\" d=\"M212.5,92.7h-81.9c-0.6,0-1.1,0.5-1.1,1.1v66c0,0.6,0.5,1.1,1.1,1.1h81.8c0.7,0,1.2-0.5,1.2-1.2v-66\n",
      "\t\t\tC213.6,93.2,213.1,92.7,212.5,92.7z M191.8,118.7c0-0.2,0.1-0.2,0.2-0.3c0.2-0.2,0.4-0.7,0.4-1.2v-7.2c0-0.4-0.2-0.8-0.4-1.2\n",
      "\t\t\tc-0.1-0.1-0.2-0.2-0.2-0.3v-1.4c0-0.2,0.2-0.3,0.3-0.3h9.1c0.2,0,0.3,0.2,0.3,0.3v1.4c0,0.2-0.1,0.2-0.2,0.3\n",
      "\t\t\tc-0.2,0.3-0.4,0.7-0.4,1.2v7.1c0,0.4,0.2,0.8,0.4,1.2c0.1,0.1,0.2,0.2,0.2,0.3v3.2c0,0.2-0.2,0.3-0.3,0.3h-9.1\n",
      "\t\t\tc-0.2,0-0.3-0.2-0.3-0.3V118.7z M166.6,118.7c0-0.2,0.1-0.2,0.2-0.3c0.2-0.2,0.4-0.7,0.4-1.2v-7.1c0-0.4-0.2-0.8-0.4-1.2\n",
      "\t\t\tc-0.1-0.1-0.2-0.2-0.2-0.3v-1.4c0-0.2,0.2-0.3,0.3-0.3h9.1c0.2,0,0.3,0.2,0.3,0.3v1.4c0,0.2-0.1,0.2-0.2,0.3\n",
      "\t\t\tc-0.2,0.2-0.4,0.7-0.4,1.2v7.2c0,0.4,0.2,0.8,0.4,1.2c0.1,0.1,0.2,0.2,0.2,0.3v3.2c0,0.2-0.2,0.3-0.3,0.3h-9.1\n",
      "\t\t\tc-0.2,0-0.3-0.2-0.3-0.3V118.7z M141.5,118.7c0-0.2,0.1-0.2,0.2-0.3c0.2-0.2,0.4-0.7,0.4-1.2v-7.1c0-0.4-0.2-0.8-0.4-1.2\n",
      "\t\t\tc-0.1-0.1-0.2-0.2-0.2-0.3v-1.4c0-0.2,0.2-0.3,0.3-0.3h9.1c0.2,0,0.3,0.2,0.3,0.3v1.4c0,0.2-0.1,0.2-0.2,0.3\n",
      "\t\t\tc-0.2,0.2-0.4,0.7-0.4,1.2v7.2c0,0.4,0.2,0.8,0.4,1.2c0.1,0.1,0.2,0.2,0.2,0.3v3.2c0,0.2-0.2,0.3-0.3,0.3h-9.1\n",
      "\t\t\tc-0.2,0-0.3-0.2-0.3-0.3V118.7z M151.3,131.9c0,0.2-0.1,0.2-0.2,0.3c-0.2,0.2-0.4,0.7-0.4,1.2v8.7c0,0.4,0.2,0.8,0.4,1.2\n",
      "\t\t\tc0.1,0.1,0.2,0.2,0.2,0.3v3.2c0,0.2-0.2,0.3-0.3,0.3h-9.1c-0.2,0-0.3-0.2-0.3-0.3v-3.2c0-0.2,0.1-0.2,0.2-0.3\n",
      "\t\t\tc0.2-0.2,0.4-0.7,0.4-1.2v-8.7c0-0.4-0.2-0.8-0.4-1.2c-0.1-0.1-0.2-0.2-0.2-0.3v-1.4c0-0.2,0.2-0.3,0.3-0.3h9.1\n",
      "\t\t\tc0.2,0,0.3,0.2,0.3,0.3V131.9z M151.8,127.9c-0.1,0.2-0.2,0.2-0.2,0.2h-10c-0.2,0-0.3-0.1-0.4-0.2c-0.1-0.2-0.1-0.4,0.1-0.5\n",
      "\t\t\tc1.5-1.2,3.3-1.9,5.2-1.9c1.9,0,3.7,0.7,5.2,1.9C151.8,127.5,151.9,127.7,151.8,127.9z M176.3,154.1c-3.2,0-6.4,0-9.6,0\n",
      "\t\t\tc-0.2,0-0.5-0.2-0.5-0.5c0-6.9,0-13.7,0-20.7c0.1-6.9,10.4-6.9,10.5,0c0,6.9,0,13.7,0.1,20.7C176.8,153.9,176.5,154.1,176.3,154.1\n",
      "\t\t\tz M201.5,131.9c0,0.2-0.1,0.2-0.2,0.3c-0.2,0.2-0.4,0.7-0.4,1.2v8.7c0,0.4,0.2,0.8,0.4,1.2c0.1,0.1,0.2,0.2,0.2,0.3v3.2\n",
      "\t\t\tc0,0.2-0.2,0.3-0.3,0.3h-9.1c-0.2,0-0.3-0.2-0.3-0.3v-3.2c0-0.2,0.1-0.2,0.2-0.3c0.2-0.2,0.4-0.7,0.4-1.2v-8.7\n",
      "\t\t\tc0-0.4-0.2-0.8-0.4-1.2c-0.1-0.1-0.2-0.2-0.2-0.3v-1.4c0-0.2,0.2-0.3,0.3-0.3h9.1c0.2,0,0.3,0.2,0.3,0.3V131.9z M202,127.9\n",
      "\t\t\tc-0.1,0.2-0.2,0.2-0.2,0.2h-10c-0.2,0-0.3-0.1-0.4-0.2c-0.1-0.2-0.1-0.4,0.1-0.5c1.5-1.2,3.3-1.9,5.2-1.9c1.9,0,3.7,0.7,5.2,1.9\n",
      "\t\t\tC202,127.5,202.1,127.7,202,127.9z\">\n",
      "           </path>\n",
      "          </g>\n",
      "          <path class=\"st2\" d=\"M192.6,72.3l2.4,1h20.3l0.8-1.1c0.2-0.2,0-0.4-0.2-0.4h-23.2C192.4,71.8,192.3,72.3,192.6,72.3z\">\n",
      "          </path>\n",
      "          <path class=\"st2\" d=\"M222.2,79.1v3.1c0,0.2,0.2,0.4,0.3,0.4h7.2c0.2,0,0.3-0.2,0.4-0.4v-3.1l1.2-1.7c0.2-0.2,0-0.6-0.2-0.6h-10\n",
      "\t\tc-0.3,0-0.5,0.3-0.2,0.6L222.2,79.1z\">\n",
      "          </path>\n",
      "          <path class=\"st2\" d=\"M215.1,166.4h-40h-7.3h-39.9c-0.2,0-0.5,0.2-0.5,0.5v3.7c0,0.2,0.2,0.5,0.5,0.5h40h7.3h40\n",
      "\t\tc0.2,0,0.5-0.2,0.5-0.5v-3.7C215.6,166.6,215.4,166.4,215.1,166.4z\">\n",
      "          </path>\n",
      "          <path class=\"st2\" d=\"M197.3,74.3l17.5,6.8c0.2,0.1,0.4-0.1,0.4-0.2v-2.1c0-0.1,0-0.1-0.1-0.2l-0.3-0.5c0-0.1-0.1-0.1-0.1-0.2v-3.7\n",
      "\t\tL197.3,74.3L197.3,74.3z\">\n",
      "          </path>\n",
      "          <path class=\"st2\" d=\"M127.7,73.3H148l2.4-1c0.2-0.1,0.2-0.5-0.1-0.5h-23.2c-0.2,0-0.3,0.2-0.2,0.4L127.7,73.3z\">\n",
      "          </path>\n",
      "          <path class=\"st2\" d=\"M112.8,79.1v3.1c0,0.2,0.2,0.4,0.4,0.4h7.2c0.2,0,0.3-0.2,0.3-0.4v-3.1l1.2-1.7c0.2-0.2,0-0.6-0.2-0.6h-10\n",
      "\t\tc-0.3,0-0.5,0.3-0.2,0.6L112.8,79.1z\">\n",
      "          </path>\n",
      "          <path class=\"st2\" d=\"M293.8,153.5h-79.4c-0.2-0.7-0.5-1.3-0.7-2h-7.8c-0.2,0-0.4,0.2-0.5,0.4c-0.2,0.6-0.4,1.2-0.7,1.8\n",
      "\t\tc-0.2,0.6-0.6,1.2-1,1.7v3.2h-14.1v-3.2c-0.7-1.2-1.2-2.3-1.6-3.6c-0.1-0.2-0.2-0.4-0.5-0.4H180c-0.2,0-0.4,0.2-0.5,0.4\n",
      "\t\tc-0.3,1.2-0.8,2.4-1.6,3.6v3.2h-5h-2.7h-5v-3.2c-0.7-1.1-1.2-2.3-1.6-3.6c-0.1-0.2-0.2-0.4-0.5-0.4h-7.5c-0.2,0-0.4,0.2-0.5,0.4\n",
      "\t\tc-0.3,1.2-0.9,2.4-1.6,3.6v3.2h-14.1v-3.2c-0.3-0.6-0.7-1.2-1-1.7c-0.2-0.6-0.5-1.2-0.7-1.8c-0.1-0.2-0.2-0.4-0.5-0.4h-7.8\n",
      "\t\tc-0.2,0.7-0.4,1.3-0.7,2H49.2c-0.4,0-0.7,0.3-0.7,0.7v6.8c0,0.4,0.3,0.7,0.7,0.7h78.2v2.6c0,0.4,0.3,0.7,0.7,0.7h42.1h2.7H215\n",
      "\t\tc0.4,0,0.7-0.3,0.7-0.7v-2.6h78.2c0.4,0,0.7-0.3,0.7-0.7v-6.8C294.5,153.9,294.2,153.5,293.8,153.5z\">\n",
      "          </path>\n",
      "          <path class=\"st2\" d=\"M128.2,78.3l-0.3,0.5c0,0.1-0.1,0.1-0.1,0.2v2.1c0,0.2,0.2,0.3,0.4,0.2l17.5-6.8h-17.4L128.2,78.3\n",
      "\t\tC128.3,78.2,128.3,78.2,128.2,78.3z\">\n",
      "          </path>\n",
      "          <path class=\"st2\" d=\"M187.5,107.8c0-0.2,0-0.5,0-0.7c0-3.7,0-7.1,0-7.1c0.2-1.2,0.5-2.3,1-3.5H179c0.5,1.1,0.8,2.2,1,3.5V119v3.8\n",
      "\t\tv26.5v0.1c0,0.4,0.3,0.7,0.7,0.7h6.2c0.4,0,0.7-0.3,0.7-0.7c0,0,0-26.1,0-40.4C187.5,108.6,187.5,108.2,187.5,107.8z\">\n",
      "          </path>\n",
      "          <path class=\"st2\" d=\"M163.1,105.6c0.2-6.7,0.5-7.8,1-9h-9.6c0.5,1.1,0.8,2.2,1,3.5c0,0,0,1.1,0,3c0,14.2,0,46.4,0,46.4\n",
      "\t\tc0,0.4,0.3,0.7,0.7,0.7h6.2c0.4,0,0.7-0.3,0.7-0.7v-0.1v-27v-3.3L163.1,105.6L163.1,105.6z\">\n",
      "          </path>\n",
      "          <path class=\"st2\" d=\"M56.4,87.7c0-0.3,0.3-0.7,0.7-0.7h11.6c0.4,0,0.7,0.2,0.7,0.7v2.9c0,0.3-0.3,0.7-0.7,0.7H57.1\n",
      "\t\tc-0.4,0-0.7-0.2-0.7-0.7V87.7z M75.2,87.7c0-0.3,0.3-0.7,0.7-0.7h11.6c0.4,0,0.7,0.2,0.7,0.7v2.9c0,0.3-0.3,0.7-0.7,0.7H75.8\n",
      "\t\tc-0.4,0-0.7-0.2-0.7-0.7L75.2,87.7L75.2,87.7z M93.9,87.7c0-0.3,0.3-0.7,0.7-0.7h11.6c0.4,0,0.7,0.2,0.7,0.7v2.9\n",
      "\t\tc0,0.3-0.3,0.7-0.7,0.7H94.6c-0.4,0-0.7-0.2-0.7-0.7V87.7z M112.6,87.7c0-0.3,0.3-0.7,0.7-0.7h13.5c0.4,0,0.7,0.2,0.7,0.7v1.9h87.8\n",
      "\t\tv-1.8c0-0.3,0.3-0.7,0.7-0.7h13.5c0.4,0,0.7,0.2,0.7,0.7v2.9c0,0.3-0.3,0.7-0.7,0.7H113.3c-0.4,0-0.7-0.2-0.7-0.7V87.7z M135,83.7\n",
      "\t\tl36.5-14.7L208,83.7h-6.1l-15.2-6.1l-15.2-6.1l-15.2,6.1L141,83.7H135z M236.1,87.7c0-0.3,0.3-0.7,0.7-0.7h11.6\n",
      "\t\tc0.4,0,0.7,0.2,0.7,0.7v2.9c0,0.3-0.3,0.7-0.7,0.7h-11.6c-0.4,0-0.7-0.2-0.7-0.7V87.7z M254.8,87.7c0-0.3,0.3-0.7,0.7-0.7h11.6\n",
      "\t\tc0.4,0,0.7,0.2,0.7,0.7v2.9c0,0.3-0.3,0.7-0.7,0.7h-11.6c-0.4,0-0.7-0.2-0.7-0.7V87.7z M273.6,87.7c0-0.3,0.3-0.7,0.7-0.7h11.6\n",
      "\t\tc0.4,0,0.7,0.2,0.7,0.7v2.9c0,0.3-0.3,0.7-0.7,0.7h-11.6c-0.4,0-0.7-0.2-0.7-0.7V87.7z M218.5,127.6l5.2-2.2c0.1,0,0.1,0,0.2,0\n",
      "\t\ts0.1,0,0.2,0l5.2,2.2c0.2,0.1,0.2,0.2,0.2,0.4c0,0.2-0.2,0.2-0.3,0.2h-10.5c-0.2,0-0.3-0.1-0.3-0.2\n",
      "\t\tC218.2,127.8,218.3,127.6,218.5,127.6z M219,118.7c0-0.1,0.1-0.2,0.2-0.3c0.2-0.3,0.4-0.7,0.4-1.2v-7.2c0-0.5-0.2-0.9-0.4-1.2\n",
      "\t\tc-0.1-0.1-0.2-0.2-0.2-0.3v-1.4c0-0.2,0.2-0.3,0.3-0.3h9.1c0.2,0,0.3,0.2,0.3,0.3v1.4c0,0.1-0.1,0.2-0.2,0.3\n",
      "\t\tc-0.2,0.3-0.4,0.7-0.4,1.2v7.1c0,0.5,0.2,0.9,0.4,1.2c0.1,0.1,0.2,0.2,0.2,0.3v3.2c0,0.2-0.2,0.3-0.3,0.3h-9.1\n",
      "\t\tc-0.2,0-0.3-0.2-0.3-0.3V118.7z M237.3,127.4c0.2-0.2,0.3-0.2,0.5-0.4c1.4-1,3-1.5,4.7-1.5c1.9,0,3.7,0.7,5.2,1.9l0.1,0.1\n",
      "\t\tc0.1,0.1,0.1,0.2,0.1,0.3s-0.1,0.2-0.2,0.2c0,0,0,0-0.1,0c0,0,0,0-0.1,0h-0.1h-10c-0.1,0-0.2-0.1-0.2-0.1c-0.1-0.1-0.1-0.1-0.1-0.2\n",
      "\t\tC237.2,127.7,237.2,127.5,237.3,127.4z M237.7,118.7c0-0.1,0.1-0.2,0.2-0.3c0.2-0.3,0.4-0.7,0.4-1.2v-7.2c0-0.5-0.2-0.9-0.4-1.2\n",
      "\t\tc-0.1-0.1-0.2-0.2-0.2-0.3v-1.4c0-0.2,0.2-0.3,0.3-0.3h9.1c0.2,0,0.3,0.2,0.3,0.3v1.4c0,0.1-0.1,0.2-0.2,0.3\n",
      "\t\tc-0.2,0.3-0.4,0.7-0.4,1.2v7.1c0,0.5,0.2,0.9,0.4,1.2c0.1,0.1,0.2,0.2,0.2,0.3v3.2c0,0.2-0.2,0.3-0.3,0.3H238\n",
      "\t\tc-0.2,0-0.3-0.2-0.3-0.3V118.7z M255.9,127.6l5.3-2.2c0.1,0,0.1,0,0.2,0h0.1c0,0,0,0,0.1,0l5.2,2.2c0.1,0,0.1,0.1,0.2,0.1\n",
      "\t\tc0.1,0.1,0.1,0.2,0.1,0.2c0,0.1-0.1,0.2-0.2,0.2c-0.1,0-0.1,0.1-0.2,0.1h-10.5c-0.1,0-0.2,0-0.2-0.1c-0.1,0-0.1-0.1-0.2-0.2V128\n",
      "\t\tC255.7,127.9,255.7,127.7,255.9,127.6z M256.5,118.7c0-0.1,0.1-0.2,0.2-0.3c0.2-0.3,0.4-0.7,0.4-1.2v-7.2c0-0.5-0.2-0.9-0.4-1.2\n",
      "\t\tc-0.1-0.1-0.2-0.2-0.2-0.3v-1.4c0-0.2,0.2-0.3,0.3-0.3h9.1c0.2,0,0.3,0.2,0.3,0.3v1.4c0,0.1-0.1,0.2-0.2,0.3\n",
      "\t\tc-0.2,0.3-0.4,0.7-0.4,1.2v7.1c0,0.5,0.2,0.9,0.4,1.2c0.1,0.1,0.2,0.2,0.2,0.3v3.2c0,0.2-0.2,0.3-0.3,0.3h-9.1\n",
      "\t\tc-0.2,0-0.3-0.2-0.3-0.3V118.7z M274.8,127.4c0.2-0.2,0.3-0.2,0.5-0.4c1.4-1,3-1.5,4.7-1.5c1.9,0,3.7,0.7,5.2,1.9l0.1,0.1\n",
      "\t\tc0.1,0.1,0.1,0.2,0.1,0.3s-0.1,0.2-0.2,0.2c0,0,0,0-0.1,0c0,0,0,0-0.1,0H285h-10c-0.1,0-0.2-0.1-0.2-0.1c-0.1-0.1-0.1-0.1-0.1-0.2\n",
      "\t\tC274.6,127.7,274.7,127.5,274.8,127.4z M275.2,118.7c0-0.1,0.1-0.2,0.2-0.3c0.2-0.3,0.4-0.7,0.4-1.2v-7.2c0-0.5-0.2-0.9-0.4-1.2\n",
      "\t\tc-0.1-0.1-0.2-0.2-0.2-0.3v-1.4c0-0.2,0.2-0.3,0.3-0.3h9.1c0.2,0,0.3,0.2,0.3,0.3v1.4c0,0.1-0.1,0.2-0.2,0.3\n",
      "\t\tc-0.2,0.3-0.4,0.7-0.4,1.2v7.1c0,0.5,0.2,0.9,0.4,1.2c0.1,0.1,0.2,0.2,0.2,0.3v3.2c0,0.2-0.2,0.3-0.3,0.3h-9.1\n",
      "\t\tc-0.2,0-0.3-0.2-0.3-0.3V118.7z M284.9,131.9c0,0.1-0.1,0.2-0.2,0.3c-0.2,0.3-0.4,0.7-0.4,1.2v8.7c0,0.5,0.2,0.9,0.4,1.2\n",
      "\t\tc0.1,0.1,0.2,0.2,0.2,0.3v3.2c0,0.2-0.2,0.3-0.3,0.3h-9.1c-0.2,0-0.3-0.2-0.3-0.3v-3.2c0-0.1,0.1-0.2,0.2-0.3\n",
      "\t\tc0.2-0.3,0.4-0.7,0.4-1.2v-8.7c0-0.5-0.2-0.9-0.4-1.2c-0.1-0.1-0.2-0.2-0.2-0.3v-1.4c0-0.2,0.2-0.3,0.3-0.3h9.1\n",
      "\t\tc0.2,0,0.3,0.2,0.3,0.3V131.9z M266.2,131.9c0,0.1-0.1,0.2-0.2,0.3c-0.2,0.3-0.4,0.7-0.4,1.2v8.7c0,0.5,0.2,0.9,0.4,1.2\n",
      "\t\tc0.1,0.1,0.2,0.2,0.2,0.3v3.2c0,0.2-0.2,0.3-0.3,0.3h-9.1c-0.2,0-0.3-0.2-0.3-0.3v-3.2c0-0.1,0.1-0.2,0.2-0.3\n",
      "\t\tc0.2-0.3,0.4-0.7,0.4-1.2v-8.7c0-0.5-0.2-0.9-0.4-1.2c-0.1-0.1-0.2-0.2-0.2-0.3v-1.4c0-0.2,0.2-0.3,0.3-0.3h9.1\n",
      "\t\tc0.2,0,0.3,0.2,0.3,0.3V131.9z M247.4,131.9c0,0.1-0.1,0.2-0.2,0.3c-0.2,0.3-0.4,0.7-0.4,1.2v8.7c0,0.5,0.2,0.9,0.4,1.2\n",
      "\t\tc0.1,0.1,0.2,0.2,0.2,0.3v3.2c0,0.2-0.2,0.3-0.3,0.3H238c-0.2,0-0.3-0.2-0.3-0.3v-3.2c0-0.1,0.1-0.2,0.2-0.3\n",
      "\t\tc0.2-0.3,0.4-0.7,0.4-1.2v-8.7c0-0.5-0.2-0.9-0.4-1.2c-0.1-0.1-0.2-0.2-0.2-0.3v-1.4c0-0.2,0.2-0.3,0.3-0.3h9.1\n",
      "\t\tc0.2,0,0.3,0.2,0.3,0.3V131.9z M228.7,131.9c0,0.1-0.1,0.2-0.2,0.3c-0.2,0.3-0.4,0.7-0.4,1.2v8.7c0,0.5,0.2,0.9,0.4,1.2\n",
      "\t\tc0.1,0.1,0.2,0.2,0.2,0.3v3.2c0,0.2-0.2,0.3-0.3,0.3h-9.1c-0.2,0-0.3-0.2-0.3-0.3v-3.2c0-0.1,0.1-0.2,0.2-0.3\n",
      "\t\tc0.2-0.3,0.4-0.7,0.4-1.2v-8.7c0-0.5-0.2-0.9-0.4-1.2c-0.1-0.1-0.2-0.2-0.2-0.3v-1.4c0-0.2,0.2-0.3,0.3-0.3h9.1\n",
      "\t\tc0.2,0,0.3,0.2,0.3,0.3V131.9z M124.4,128.3h-10.5c-0.2,0-0.3-0.1-0.3-0.2c0-0.2,0.1-0.3,0.2-0.4l5.2-2.2c0.1,0,0.1,0,0.2,0\n",
      "\t\tc0.1,0,0.1,0,0.2,0l5.2,2.2c0.2,0.1,0.2,0.2,0.2,0.4C124.7,128.2,124.6,128.3,124.4,128.3z M124,131.9c0,0.1-0.1,0.2-0.2,0.3\n",
      "\t\tc-0.2,0.3-0.4,0.7-0.4,1.2v8.7c0,0.5,0.2,0.9,0.4,1.2c0.1,0.1,0.2,0.2,0.2,0.3v3.2c0,0.2-0.2,0.3-0.3,0.3h-9.1\n",
      "\t\tc-0.2,0-0.3-0.2-0.3-0.3v-3.2c0-0.1,0.1-0.2,0.2-0.3c0.2-0.3,0.4-0.7,0.4-1.2v-8.7c0-0.5-0.2-0.9-0.4-1.2c-0.1-0.1-0.2-0.2-0.2-0.3\n",
      "\t\tv-1.4c0-0.2,0.2-0.3,0.3-0.3h9.1c0.2,0,0.3,0.2,0.3,0.3V131.9z M105.8,127.9c0,0.1-0.1,0.1-0.1,0.2l-0.1,0.1\n",
      "\t\tc-0.1,0-0.1,0.1-0.2,0.1h-10c-0.1,0-0.1,0-0.2-0.1c-0.2-0.1-0.2-0.2-0.2-0.2s0-0.2,0-0.3c0,0,0-0.1,0.1-0.1c0,0,0-0.1,0.1-0.1\n",
      "\t\tc0.3-0.3,0.7-0.6,1.2-0.8c0,0,0.1,0,0.1-0.1c1.2-0.7,2.6-1.1,4-1.1c1.9,0,3.7,0.7,5.2,1.9C105.8,127.5,105.9,127.7,105.8,127.9z\n",
      "\t\t M105.3,131.9c0,0.1-0.1,0.2-0.2,0.3c-0.2,0.3-0.4,0.7-0.4,1.2v8.7c0,0.5,0.2,0.9,0.4,1.2c0.1,0.1,0.2,0.2,0.2,0.3v3.2\n",
      "\t\tc0,0.2-0.2,0.3-0.3,0.3h-9.1c-0.2,0-0.3-0.2-0.3-0.3v-3.2c0-0.1,0.1-0.2,0.2-0.3c0.2-0.3,0.4-0.7,0.4-1.2v-8.7\n",
      "\t\tc0-0.5-0.2-0.9-0.4-1.2c-0.1-0.1-0.2-0.2-0.2-0.3v-1.4c0-0.2,0.2-0.3,0.3-0.3h9.1c0.2,0,0.3,0.2,0.3,0.3V131.9z M87.1,128.2\n",
      "\t\tc-0.1,0-0.1,0.1-0.2,0.1H76.4c-0.1,0-0.1,0-0.2,0s-0.2-0.1-0.2-0.2V128c0-0.2,0.1-0.3,0.2-0.4l5.2-2.2c0,0,0,0,0.1,0h0.1\n",
      "\t\tc0.1,0,0.1,0,0.2,0l5.2,2.2c0.2,0.1,0.2,0.2,0.2,0.4C87.2,128.1,87.2,128.2,87.1,128.2z M86.6,131.9c0,0.1-0.1,0.2-0.2,0.3\n",
      "\t\tc-0.2,0.3-0.4,0.7-0.4,1.2v8.7c0,0.5,0.2,0.9,0.4,1.2c0.1,0.1,0.2,0.2,0.2,0.3v3.2c0,0.2-0.2,0.3-0.3,0.3h-9.1\n",
      "\t\tc-0.2,0-0.3-0.2-0.3-0.3v-3.2c0-0.1,0.1-0.2,0.2-0.3c0.2-0.3,0.4-0.7,0.4-1.2v-8.7c0-0.5-0.2-0.9-0.4-1.2c-0.1-0.1-0.2-0.2-0.2-0.3\n",
      "\t\tv-1.4c0-0.2,0.2-0.3,0.3-0.3h9.1c0.2,0,0.3,0.2,0.3,0.3V131.9z M68.4,127.9c0,0.1-0.1,0.2-0.2,0.2c-0.1,0-0.1,0.1-0.2,0.1H58\n",
      "\t\tc0,0,0,0-0.1,0h-0.1c-0.1-0.1-0.2-0.2-0.2-0.2c-0.1-0.2,0-0.3,0.1-0.4c0,0,0,0,0.1-0.1c0.2-0.1,0.2-0.2,0.4-0.3\n",
      "\t\tc0.1-0.1,0.2-0.1,0.2-0.2c0.2-0.1,0.2-0.2,0.4-0.2c0.1-0.1,0.2-0.2,0.4-0.2c1.2-0.6,2.4-0.9,3.7-0.9c1.9,0,3.7,0.7,5.2,1.9\n",
      "\t\tC68.4,127.5,68.4,127.7,68.4,127.9z M67.8,131.9c0,0.1-0.1,0.2-0.2,0.3c-0.2,0.3-0.4,0.7-0.4,1.2v8.7c0,0.5,0.2,0.9,0.4,1.2\n",
      "\t\tc0.1,0.1,0.2,0.2,0.2,0.3v3.2c0,0.2-0.2,0.3-0.3,0.3h-9.1c-0.2,0-0.3-0.2-0.3-0.3v-3.2c0-0.1,0.1-0.2,0.2-0.3\n",
      "\t\tc0.2-0.3,0.4-0.7,0.4-1.2v-8.7c0-0.5-0.2-0.9-0.4-1.2c-0.1-0.1-0.2-0.2-0.2-0.3v-1.4c0-0.2,0.2-0.3,0.3-0.3h9.1\n",
      "\t\tc0.2,0,0.3,0.2,0.3,0.3V131.9z M58.1,118.7c0-0.1,0.1-0.2,0.2-0.3c0.2-0.3,0.4-0.7,0.4-1.2v-7.1c0-0.5-0.2-0.9-0.4-1.2\n",
      "\t\tc-0.1-0.1-0.2-0.2-0.2-0.3v-1.5c0-0.2,0.2-0.3,0.3-0.3h9.1c0.2,0,0.3,0.2,0.3,0.3v1.4c0,0.1-0.1,0.2-0.2,0.3\n",
      "\t\tc-0.2,0.3-0.4,0.7-0.4,1.2v7.2c0,0.5,0.2,0.9,0.4,1.2c0.1,0.1,0.2,0.2,0.2,0.3v3.2c0,0.2-0.2,0.3-0.3,0.3h-9.1\n",
      "\t\tc-0.2,0-0.3-0.2-0.3-0.3L58.1,118.7L58.1,118.7z M76.8,118.7c0-0.1,0.1-0.2,0.2-0.3c0.2-0.3,0.4-0.7,0.4-1.2v-7.1\n",
      "\t\tc0-0.5-0.2-0.9-0.4-1.2c-0.1-0.1-0.2-0.2-0.2-0.3v-1.5c0-0.2,0.2-0.3,0.3-0.3h9.1c0.2,0,0.3,0.2,0.3,0.3v1.4c0,0.1-0.1,0.2-0.2,0.3\n",
      "\t\tc-0.2,0.3-0.4,0.7-0.4,1.2v7.2c0,0.5,0.2,0.9,0.4,1.2c0.1,0.1,0.2,0.2,0.2,0.3v3.2c0,0.2-0.2,0.3-0.3,0.3h-9.1\n",
      "\t\tc-0.2,0-0.3-0.2-0.3-0.3V118.7z M95.6,118.7c0-0.1,0.1-0.2,0.2-0.3c0.2-0.3,0.4-0.7,0.4-1.2v-7.1c0-0.5-0.2-0.9-0.4-1.2\n",
      "\t\tc-0.1-0.1-0.2-0.2-0.2-0.3v-1.5c0-0.2,0.2-0.3,0.3-0.3h9.1c0.2,0,0.3,0.2,0.3,0.3v1.4c0,0.1-0.1,0.2-0.2,0.3\n",
      "\t\tc-0.2,0.3-0.4,0.7-0.4,1.2v7.2c0,0.5,0.2,0.9,0.4,1.2c0.1,0.1,0.2,0.2,0.2,0.3v3.2c0,0.2-0.2,0.3-0.3,0.3h-9.1\n",
      "\t\tc-0.2,0-0.3-0.2-0.3-0.3V118.7z M114.3,118.7c0-0.1,0.1-0.2,0.2-0.3c0.2-0.3,0.4-0.7,0.4-1.2v-7.1c0-0.5-0.2-0.9-0.4-1.2\n",
      "\t\tc-0.1-0.1-0.2-0.2-0.2-0.3v-1.5c0-0.2,0.2-0.3,0.3-0.3h9.1c0.2,0,0.3,0.2,0.3,0.3v1.4c0,0.1-0.1,0.2-0.2,0.3\n",
      "\t\tc-0.2,0.3-0.4,0.7-0.4,1.2v7.2c0,0.5,0.2,0.9,0.4,1.2c0.1,0.1,0.2,0.2,0.2,0.3v3.2c0,0.2-0.2,0.3-0.3,0.3h-9.1\n",
      "\t\tc-0.2,0-0.3-0.2-0.3-0.3V118.7z M49.2,85.9h2.1c0,0,0.1,0,0.1,0.1v8.5c0,0.2,0.2,0.3,0.4,0.3h76.1c0.3,0.6,0.7,1.2,0.9,1.8\n",
      "\t\tc-4.8,0-79.5,0-79.5,0c-0.2,0-0.5,0.2-0.5,0.5v2.4c0,0.3,0.2,0.5,0.5,0.5h80.3c0,0,0,0.7,0,2.2H51.6c-0.2,0-0.2,0.1-0.2,0.2v47.7\n",
      "\t\tc0.2,0,85.2,0,85.2,0c0.4,0,0.7-0.3,0.7-0.7v-0.1c0-0.4,0.1-48.9,0.1-48.9c0-0.3,0-0.4,0-0.4c0.1-0.9,0.3-1.8,0.6-2.7\n",
      "\t\tc0.3-0.9,0.7-1.7,1.2-2.6h29.8h5.2h29.8c0.5,0.8,0.9,1.7,1.2,2.6s0.5,1.7,0.6,2.7c0,0,0,0.2,0,0.4c0,0,0.1,48.5,0.1,48.9v0.1\n",
      "\t\tc0,0.4,0.3,0.7,0.7,0.7l83.1-0.1h0.2h1.6c0.2,0,0.2-0.1,0.2-0.2v-47.4c0-0.2-0.1-0.2-0.2-0.2h-78.1c0-1.3,0-2.1,0-2.2h80.3\n",
      "\t\tc0.3,0,0.5-0.2,0.5-0.5v-2.4c0-0.2-0.2-0.5-0.5-0.5c0,0-74.7,0-79.5,0c0.2-0.6,0.6-1.2,0.9-1.8h76.2c0.2,0,0.4-0.1,0.4-0.3V86\n",
      "\t\tc0,0,0-0.1,0.1-0.1h2.1c0.3,0,0.5-0.2,0.5-0.5v-1.1c0-0.3-0.2-0.5-0.5-0.5H218c-0.3,0-0.7-0.1-1-0.2l-44.7-18.1v-2.9v-0.9\n",
      "\t\tc0.9-0.2,2.2-0.5,3.2-0.2c5.1,1.7,6.2,1.1,6.2,1c-0.9-1.2-0.6-3.9-0.6-3.9c0.3-2.4,0.2-2.9,0.2-3c-0.2,0.1-1.6,0.9-5-0.2\n",
      "\t\tc-1.8-0.6-3.2-0.7-4-0.8c0-0.5-0.4-0.8-0.9-0.8c-0.4,0.1-0.7,0.4-0.7,0.9v10.7l-44.7,18.1c-0.3,0.2-0.7,0.2-1,0.2H49.2\n",
      "\t\tc-0.3,0-0.5,0.2-0.5,0.5v1.1C48.7,85.7,48.9,85.9,49.2,85.9z\">\n",
      "          </path>\n",
      "          <polygon class=\"st2\" points=\"198.6,96.5 171.5,126.9 144.4,96.5 144.4,96.5 144,96.7 171.2,127.3 171.2,127.2 171.7,127.2\n",
      "\t\t171.8,127.3 198.9,96.8 198.9,96.7 \t\">\n",
      "          </polygon>\n",
      "          <path class=\"st2\" d=\"M172.3,125.7h-1.7c-0.4,0-0.6,0.3-0.6,0.6v4.8c0,0.4,0.3,0.6,0.6,0.6h1.7c0.4,0,0.6-0.3,0.6-0.6v-4.8\n",
      "\t\tC172.9,125.9,172.7,125.7,172.3,125.7z\">\n",
      "          </path>\n",
      "         </g>\n",
      "        </svg>\n",
      "       </a>\n",
      "      </div>\n",
      "     </div>\n",
      "     <div class=\"mobile-overlay__inner\">\n",
      "      <div class=\"container\">\n",
      "       <div class=\"row\">\n",
      "        <div class=\"mobile-nav-menus\">\n",
      "         <div class=\"menu-left\">\n",
      "          <nav aria-label=\"Primary Navigation\" class=\"primary-mobile-menu\">\n",
      "           <ul class=\"menu primary-menu\" id=\"menu-primary-expanded-navigation\">\n",
      "            <li class=\"menu-item menu-item-type-post_type menu-item-object-page menu-item-has-children menu-item-69 top-level-menu-item\" id=\"menu-item-69\">\n",
      "             <a href=\"https://www.whitehouse.gov/administration/\">\n",
      "              Administration\n",
      "             </a>\n",
      "             <button aria-expanded=\"false\" class=\"dropdown-trigger\">\n",
      "              <svg fill=\"none\" height=\"68\" viewbox=\"0 0 63 68\" width=\"63\" xmlns=\"http://www.w3.org/2000/svg\">\n",
      "               <path d=\"M0.00171813 0L63 33.7444C63 33.7444 0.660551 67.4376 0.00520349 67.9931L0.00171813 68C-0.0014293 68 -0.000243773 67.9977 0.00520349 67.9931L17.0642 34L0.00171813 0Z\" fill=\"black\">\n",
      "               </path>\n",
      "              </svg>\n",
      "              <span class=\"screen-reader-text\">\n",
      "               Show submenu for “Administration””\n",
      "              </span>\n",
      "             </button>\n",
      "             <ul class=\"sub-menu\">\n",
      "              <li class=\"menu-item menu-item-type-post_type menu-item-object-page menu-item-802\" id=\"menu-item-802\">\n",
      "               <a href=\"https://www.whitehouse.gov/administration/president-biden/\">\n",
      "                President Joe Biden\n",
      "               </a>\n",
      "              </li>\n",
      "              <li class=\"menu-item menu-item-type-post_type menu-item-object-page menu-item-803\" id=\"menu-item-803\">\n",
      "               <a href=\"https://www.whitehouse.gov/administration/vice-president-harris/\">\n",
      "                Vice President Kamala Harris\n",
      "               </a>\n",
      "              </li>\n",
      "              <li class=\"menu-item menu-item-type-post_type menu-item-object-page menu-item-804\" id=\"menu-item-804\">\n",
      "               <a href=\"https://www.whitehouse.gov/administration/dr-jill-biden/\">\n",
      "                First Lady Dr. Jill Biden\n",
      "               </a>\n",
      "              </li>\n",
      "              <li class=\"menu-item menu-item-type-post_type menu-item-object-page menu-item-805\" id=\"menu-item-805\">\n",
      "               <a href=\"https://www.whitehouse.gov/administration/douglas-emhoff/\">\n",
      "                Second Gentleman Douglas Emhoff\n",
      "               </a>\n",
      "              </li>\n",
      "              <li class=\"menu-item menu-item-type-post_type menu-item-object-page menu-item-806\" id=\"menu-item-806\">\n",
      "               <a href=\"https://www.whitehouse.gov/administration/cabinet/\">\n",
      "                The Cabinet\n",
      "               </a>\n",
      "              </li>\n",
      "             </ul>\n",
      "            </li>\n",
      "            <li class=\"menu-item menu-item-type-post_type menu-item-object-page menu-item-has-children menu-item-68 top-level-menu-item\" id=\"menu-item-68\">\n",
      "             <a href=\"https://www.whitehouse.gov/administration/executive-office-of-the-president/\">\n",
      "              Executive Offices\n",
      "             </a>\n",
      "             <button aria-expanded=\"false\" class=\"dropdown-trigger\">\n",
      "              <svg fill=\"none\" height=\"68\" viewbox=\"0 0 63 68\" width=\"63\" xmlns=\"http://www.w3.org/2000/svg\">\n",
      "               <path d=\"M0.00171813 0L63 33.7444C63 33.7444 0.660551 67.4376 0.00520349 67.9931L0.00171813 68C-0.0014293 68 -0.000243773 67.9977 0.00520349 67.9931L17.0642 34L0.00171813 0Z\" fill=\"black\">\n",
      "               </path>\n",
      "              </svg>\n",
      "              <span class=\"screen-reader-text\">\n",
      "               Show submenu for “Executive Offices””\n",
      "              </span>\n",
      "             </button>\n",
      "             <ul class=\"sub-menu\">\n",
      "              <li class=\"menu-item menu-item-type-post_type menu-item-object-eop_cea menu-item-59315\" id=\"menu-item-59315\">\n",
      "               <a href=\"https://www.whitehouse.gov/cea/\">\n",
      "                Council of Economic Advisers\n",
      "               </a>\n",
      "              </li>\n",
      "              <li class=\"menu-item menu-item-type-post_type menu-item-object-eop_ceq menu-item-59320\" id=\"menu-item-59320\">\n",
      "               <a href=\"https://www.whitehouse.gov/ceq/\">\n",
      "                Council on Environmental Quality\n",
      "               </a>\n",
      "              </li>\n",
      "              <li class=\"menu-item menu-item-type-post_type menu-item-object-eop_dpc menu-item-59324\" id=\"menu-item-59324\">\n",
      "               <a href=\"https://www.whitehouse.gov/dpc/\">\n",
      "                Domestic Policy Council\n",
      "               </a>\n",
      "              </li>\n",
      "              <li class=\"menu-item menu-item-type-post_type menu-item-object-eop_gpc menu-item-59328\" id=\"menu-item-59328\">\n",
      "               <a href=\"https://www.whitehouse.gov/gpc/\">\n",
      "                Gender Policy Council\n",
      "               </a>\n",
      "              </li>\n",
      "              <li class=\"menu-item menu-item-type-post_type menu-item-object-eop_nec menu-item-59334\" id=\"menu-item-59334\">\n",
      "               <a href=\"https://www.whitehouse.gov/nec/\">\n",
      "                National Economic Council\n",
      "               </a>\n",
      "              </li>\n",
      "              <li class=\"menu-item menu-item-type-post_type menu-item-object-eop_nsc menu-item-59339\" id=\"menu-item-59339\">\n",
      "               <a href=\"https://www.whitehouse.gov/nsc/\">\n",
      "                National Security Council\n",
      "               </a>\n",
      "              </li>\n",
      "              <li class=\"menu-item menu-item-type-post_type menu-item-object-eop_nspc menu-item-59345\" id=\"menu-item-59345\">\n",
      "               <a href=\"https://www.whitehouse.gov/spacecouncil/\">\n",
      "                National Space Council\n",
      "               </a>\n",
      "              </li>\n",
      "              <li class=\"menu-item menu-item-type-post_type menu-item-object-eop_iga menu-item-59350\" id=\"menu-item-59350\">\n",
      "               <a href=\"https://www.whitehouse.gov/iga/\">\n",
      "                Office of Intergovernmental Affairs\n",
      "               </a>\n",
      "              </li>\n",
      "              <li class=\"menu-item menu-item-type-post_type menu-item-object-eop_omb menu-item-59355\" id=\"menu-item-59355\">\n",
      "               <a href=\"https://www.whitehouse.gov/omb/\">\n",
      "                Office of Management and Budget\n",
      "               </a>\n",
      "              </li>\n",
      "              <li class=\"menu-item menu-item-type-post_type menu-item-object-eop_oncd menu-item-59359\" id=\"menu-item-59359\">\n",
      "               <a href=\"https://www.whitehouse.gov/oncd/\">\n",
      "                Office of the National Cyber Director\n",
      "               </a>\n",
      "              </li>\n",
      "              <li class=\"menu-item menu-item-type-post_type menu-item-object-eop_ondcp menu-item-59308\" id=\"menu-item-59308\">\n",
      "               <a href=\"https://www.whitehouse.gov/ondcp/\">\n",
      "                Office of National Drug Control Policy\n",
      "               </a>\n",
      "              </li>\n",
      "              <li class=\"menu-item menu-item-type-post_type menu-item-object-eop_ope menu-item-59363\" id=\"menu-item-59363\">\n",
      "               <a href=\"https://www.whitehouse.gov/ope/\">\n",
      "                Office of Public Engagement\n",
      "               </a>\n",
      "              </li>\n",
      "              <li class=\"menu-item menu-item-type-post_type menu-item-object-eop_ostp menu-item-55745\" id=\"menu-item-55745\">\n",
      "               <a href=\"https://www.whitehouse.gov/ostp/\">\n",
      "                Office of Science and Technology Policy\n",
      "               </a>\n",
      "              </li>\n",
      "              <li class=\"menu-item menu-item-type-post_type menu-item-object-eop_ustr menu-item-59369\" id=\"menu-item-59369\">\n",
      "               <a href=\"https://www.whitehouse.gov/ustr/\">\n",
      "                Office of the United States Trade Representative\n",
      "               </a>\n",
      "              </li>\n",
      "              <li class=\"menu-item menu-item-type-post_type menu-item-object-eop_odcp menu-item-59373\" id=\"menu-item-59373\">\n",
      "               <a href=\"https://www.whitehouse.gov/cpo/\">\n",
      "                Climate Policy Office\n",
      "               </a>\n",
      "              </li>\n",
      "              <li class=\"menu-item menu-item-type-post_type menu-item-object-eop_ppo menu-item-59378\" id=\"menu-item-59378\">\n",
      "               <a href=\"https://www.whitehouse.gov/ppo/\">\n",
      "                Presidential Personnel Office\n",
      "               </a>\n",
      "              </li>\n",
      "             </ul>\n",
      "            </li>\n",
      "            <li class=\"menu-item menu-item-type-post_type menu-item-object-page menu-item-65 top-level-menu-item\" id=\"menu-item-65\">\n",
      "             <a href=\"https://www.whitehouse.gov/priorities/\">\n",
      "              Priorities\n",
      "             </a>\n",
      "            </li>\n",
      "           </ul>\n",
      "           <ul class=\"menu primary-menu\">\n",
      "            <li class=\"menu-item menu-item-type-post_type menu-item-object-page current_page_parent menu-item-2783 top-level-menu-item\" id=\"menu-item-2783\">\n",
      "             <a href=\"https://www.whitehouse.gov/briefing-room/\">\n",
      "              Briefing Room\n",
      "             </a>\n",
      "            </li>\n",
      "            <li class=\"menu-item menu-item-type-post_type menu-item-object-page menu-item-has-children menu-item-42 top-level-menu-item\" id=\"menu-item-42\">\n",
      "             <a href=\"https://www.whitehouse.gov/about-the-white-house/\">\n",
      "              The White House\n",
      "             </a>\n",
      "             <button aria-expanded=\"false\" class=\"dropdown-trigger\">\n",
      "              <svg fill=\"none\" height=\"68\" viewbox=\"0 0 63 68\" width=\"63\" xmlns=\"http://www.w3.org/2000/svg\">\n",
      "               <path d=\"M0.00171813 0L63 33.7444C63 33.7444 0.660551 67.4376 0.00520349 67.9931L0.00171813 68C-0.0014293 68 -0.000243773 67.9977 0.00520349 67.9931L17.0642 34L0.00171813 0Z\" fill=\"black\">\n",
      "               </path>\n",
      "              </svg>\n",
      "              <span class=\"screen-reader-text\">\n",
      "               Show submenu for “The White House””\n",
      "              </span>\n",
      "             </button>\n",
      "             <ul class=\"sub-menu\">\n",
      "              <li class=\"menu-item menu-item-type-post_type menu-item-object-page menu-item-45\" id=\"menu-item-45\">\n",
      "               <a href=\"https://www.whitehouse.gov/about-the-white-house/presidents/\">\n",
      "                Presidents\n",
      "               </a>\n",
      "              </li>\n",
      "              <li class=\"menu-item menu-item-type-post_type menu-item-object-page menu-item-812\" id=\"menu-item-812\">\n",
      "               <a href=\"https://www.whitehouse.gov/about-the-white-house/first-families/\">\n",
      "                First Families\n",
      "               </a>\n",
      "              </li>\n",
      "              <li class=\"menu-item menu-item-type-post_type menu-item-object-page menu-item-44\" id=\"menu-item-44\">\n",
      "               <a href=\"https://www.whitehouse.gov/about-the-white-house/the-grounds/\">\n",
      "                The Grounds\n",
      "               </a>\n",
      "              </li>\n",
      "              <li class=\"menu-item menu-item-type-post_type menu-item-object-page menu-item-43\" id=\"menu-item-43\">\n",
      "               <a href=\"https://www.whitehouse.gov/about-the-white-house/our-government/\">\n",
      "                Our Government\n",
      "               </a>\n",
      "              </li>\n",
      "             </ul>\n",
      "            </li>\n",
      "            <li class=\"menu-item menu-item-type-post_type menu-item-object-page menu-item-has-children menu-item-72 top-level-menu-item\" id=\"menu-item-72\">\n",
      "             <a href=\"https://www.whitehouse.gov/get-involved/\">\n",
      "              Get Involved\n",
      "             </a>\n",
      "             <button aria-expanded=\"false\" class=\"dropdown-trigger\">\n",
      "              <svg fill=\"none\" height=\"68\" viewbox=\"0 0 63 68\" width=\"63\" xmlns=\"http://www.w3.org/2000/svg\">\n",
      "               <path d=\"M0.00171813 0L63 33.7444C63 33.7444 0.660551 67.4376 0.00520349 67.9931L0.00171813 68C-0.0014293 68 -0.000243773 67.9977 0.00520349 67.9931L17.0642 34L0.00171813 0Z\" fill=\"black\">\n",
      "               </path>\n",
      "              </svg>\n",
      "              <span class=\"screen-reader-text\">\n",
      "               Show submenu for “Get Involved””\n",
      "              </span>\n",
      "             </button>\n",
      "             <ul class=\"sub-menu\">\n",
      "              <li class=\"menu-item menu-item-type-post_type menu-item-object-page menu-item-86\" id=\"menu-item-86\">\n",
      "               <a href=\"https://www.whitehouse.gov/get-involved/write-or-call/\">\n",
      "                Write or Call The White House\n",
      "               </a>\n",
      "              </li>\n",
      "              <li class=\"menu-item menu-item-type-post_type menu-item-object-page menu-item-813\" id=\"menu-item-813\">\n",
      "               <a href=\"https://www.whitehouse.gov/get-involved/join-us/\">\n",
      "                Join Us\n",
      "               </a>\n",
      "              </li>\n",
      "              <li class=\"menu-item menu-item-type-post_type menu-item-object-page menu-item-814\" id=\"menu-item-814\">\n",
      "               <a href=\"https://www.whitehouse.gov/get-involved/fellows/\">\n",
      "                White House Fellows\n",
      "               </a>\n",
      "              </li>\n",
      "              <li class=\"menu-item menu-item-type-post_type menu-item-object-page menu-item-54646\" id=\"menu-item-54646\">\n",
      "               <a href=\"https://www.whitehouse.gov/get-involved/internships/white-house-internship-program/\">\n",
      "                White House Internship Program\n",
      "               </a>\n",
      "              </li>\n",
      "             </ul>\n",
      "            </li>\n",
      "           </ul>\n",
      "           <ul class=\"menu primary-menu\">\n",
      "            <li class=\"menu-item menu-item-type-post_type menu-item-object-page menu-item-65470 top-level-menu-item\" id=\"menu-item-65470\">\n",
      "             <a href=\"https://www.whitehouse.gov/therecord/\">\n",
      "              The Record\n",
      "             </a>\n",
      "            </li>\n",
      "            <li class=\"menu-item menu-item-type-post_type menu-item-object-page menu-item-54645 top-level-menu-item\" id=\"menu-item-54645\">\n",
      "             <a href=\"https://www.whitehouse.gov/disclosures/\">\n",
      "              Disclosures\n",
      "             </a>\n",
      "            </li>\n",
      "            <li class=\"site-id-2 mlp-language-nav-item menu-item menu-item-type-mlp_language menu-item-object-mlp_language menu-item-1799 top-level-menu-item\" id=\"menu-item-1799\">\n",
      "             <a href=\"https://www.whitehouse.gov/es/\" hreflang=\"es-US\" lang=\"es-US\" rel=\"alternate\">\n",
      "              Español\n",
      "             </a>\n",
      "            </li>\n",
      "           </ul>\n",
      "          </nav>\n",
      "          <!-- .main-mobile-menu -->\n",
      "         </div>\n",
      "         <div class=\"menu-right\">\n",
      "          <nav aria-label=\"Secondary Navigation\" class=\"secondary-mobile-menu\">\n",
      "           <ul class=\"menu secondary-menu\" id=\"secondary-navigation-overlay\">\n",
      "            <li class=\"menu-item menu-item-type-post_type menu-item-object-page menu-item-109 top-level-menu-item\">\n",
      "             <a href=\"https://www.whitehouse.gov/contact/\">\n",
      "              Contact Us\n",
      "             </a>\n",
      "            </li>\n",
      "            <li class=\"menu-item menu-item-type-post_type menu-item-object-page menu-item-1791 top-level-menu-item\">\n",
      "             <a href=\"https://www.whitehouse.gov/privacy/\">\n",
      "              Privacy Policy\n",
      "             </a>\n",
      "            </li>\n",
      "            <li class=\"menu-item menu-item-type-post_type menu-item-object-page menu-item-699 top-level-menu-item\">\n",
      "             <a href=\"https://www.whitehouse.gov/copyright/\">\n",
      "              Copyright Policy\n",
      "             </a>\n",
      "            </li>\n",
      "            <li class=\"menu-item menu-item-type-post_type menu-item-object-page menu-item-107 top-level-menu-item\">\n",
      "             <a href=\"https://www.whitehouse.gov/accessibility/\">\n",
      "              Accessibility Statement\n",
      "             </a>\n",
      "            </li>\n",
      "           </ul>\n",
      "          </nav>\n",
      "          <!-- .secondary -->\n",
      "          <div class=\"site-header__menu-wrap__footer__social\">\n",
      "           <nav aria-label=\"Social Navigation\" class=\"col-xs-12\">\n",
      "            <ul class=\"social-simple\" id=\"social-navigation\">\n",
      "             <li class=\"menu-item menu-item-type-custom menu-item-object-custom menu-item-87 col-auto top-level-menu-item\">\n",
      "              <a class=\"external-link\" href=\"https://www.instagram.com/whitehouse/\" rel=\"noopener noreferrer\" target=\"_blank\">\n",
      "               <svg aria-hidden=\"true\" tabindex=\"-1\" viewbox=\"0 0 21 20\" xmlns=\"http://www.w3.org/2000/svg\">\n",
      "                <path d=\"M6.92773 6.26953C7.90169 5.29557 9.07617 4.80859 10.4512 4.80859C11.8262 4.80859 12.9863 5.29557 13.9316 6.26953C14.9056 7.21484 15.3926 8.375 15.3926 9.75C15.3926 11.125 14.9056 12.2995 13.9316 13.2734C12.9863 14.2188 11.8262 14.6914 10.4512 14.6914C9.07617 14.6914 7.90169 14.2188 6.92773 13.2734C5.98242 12.2995 5.50977 11.125 5.50977 9.75C5.50977 8.375 5.98242 7.21484 6.92773 6.26953ZM8.17383 12.0273C8.80404 12.6576 9.56315 12.9727 10.4512 12.9727C11.3392 12.9727 12.0983 12.6576 12.7285 12.0273C13.3587 11.3971 13.6738 10.638 13.6738 9.75C13.6738 8.86198 13.3587 8.10286 12.7285 7.47266C12.0983 6.84245 11.3392 6.52734 10.4512 6.52734C9.56315 6.52734 8.80404 6.84245 8.17383 7.47266C7.54362 8.10286 7.22852 8.86198 7.22852 9.75C7.22852 10.638 7.54362 11.3971 8.17383 12.0273ZM16.3809 3.82031C16.61 4.02083 16.7246 4.27865 16.7246 4.59375C16.7246 4.90885 16.61 5.18099 16.3809 5.41016C16.1803 5.63932 15.9225 5.75391 15.6074 5.75391C15.2923 5.75391 15.0202 5.63932 14.791 5.41016C14.5618 5.18099 14.4473 4.90885 14.4473 4.59375C14.4473 4.27865 14.5618 4.02083 14.791 3.82031C15.0202 3.59115 15.2923 3.47656 15.6074 3.47656C15.9225 3.47656 16.1803 3.59115 16.3809 3.82031ZM20.0332 5.79688C20.0618 6.57031 20.0762 7.88802 20.0762 9.75C20.0762 11.612 20.0618 12.9297 20.0332 13.7031C19.9473 15.4505 19.4173 16.8112 18.4434 17.7852C17.498 18.7305 16.1517 19.2318 14.4043 19.2891C13.6309 19.3464 12.3132 19.375 10.4512 19.375C8.58919 19.375 7.27148 19.3464 6.49805 19.2891C4.75065 19.2031 3.4043 18.6875 2.45898 17.7422C2.08659 17.3984 1.78581 16.9974 1.55664 16.5391C1.32747 16.0807 1.1556 15.6367 1.04102 15.207C0.955078 14.7773 0.912109 14.276 0.912109 13.7031C0.854818 12.9297 0.826172 11.612 0.826172 9.75C0.826172 7.88802 0.854818 6.55599 0.912109 5.75391C0.998047 4.03516 1.51367 2.70312 2.45898 1.75781C3.4043 0.783854 4.75065 0.253906 6.49805 0.167969C7.27148 0.139323 8.58919 0.125 10.4512 0.125C12.3132 0.125 13.6309 0.139323 14.4043 0.167969C16.1517 0.253906 17.498 0.783854 18.4434 1.75781C19.4173 2.70312 19.9473 4.04948 20.0332 5.79688ZM17.9707 15.4219C18.0566 15.1927 18.1283 14.9062 18.1855 14.5625C18.2428 14.1901 18.2858 13.7604 18.3145 13.2734C18.3431 12.7578 18.3574 12.3424 18.3574 12.0273C18.3574 11.7122 18.3574 11.2682 18.3574 10.6953C18.3574 10.1224 18.3574 9.80729 18.3574 9.75C18.3574 9.66406 18.3574 9.34896 18.3574 8.80469C18.3574 8.23177 18.3574 7.78776 18.3574 7.47266C18.3574 7.15755 18.3431 6.75651 18.3145 6.26953C18.2858 5.75391 18.2428 5.32422 18.1855 4.98047C18.1283 4.60807 18.0566 4.30729 17.9707 4.07812C17.627 3.1901 17.0111 2.57422 16.123 2.23047C15.8939 2.14453 15.5931 2.07292 15.2207 2.01562C14.877 1.95833 14.4473 1.91536 13.9316 1.88672C13.4447 1.85807 13.0436 1.84375 12.7285 1.84375C12.4421 1.84375 11.998 1.84375 11.3965 1.84375C10.8236 1.84375 10.5085 1.84375 10.4512 1.84375C10.3939 1.84375 10.0788 1.84375 9.50586 1.84375C8.93294 1.84375 8.48893 1.84375 8.17383 1.84375C7.85872 1.84375 7.44336 1.85807 6.92773 1.88672C6.44076 1.91536 6.01107 1.95833 5.63867 2.01562C5.29492 2.07292 5.00846 2.14453 4.7793 2.23047C3.89128 2.57422 3.27539 3.1901 2.93164 4.07812C2.8457 4.30729 2.77409 4.60807 2.7168 4.98047C2.65951 5.32422 2.61654 5.75391 2.58789 6.26953C2.55924 6.75651 2.54492 7.15755 2.54492 7.47266C2.54492 7.75911 2.54492 8.20312 2.54492 8.80469C2.54492 9.3776 2.54492 9.69271 2.54492 9.75C2.54492 9.86458 2.54492 10.1367 2.54492 10.5664C2.54492 10.9674 2.54492 11.3112 2.54492 11.5977C2.54492 11.8555 2.54492 12.1992 2.54492 12.6289C2.57357 13.0586 2.60221 13.431 2.63086 13.7461C2.65951 14.0326 2.70247 14.3333 2.75977 14.6484C2.81706 14.9635 2.87435 15.2214 2.93164 15.4219C3.30404 16.3099 3.91992 16.9258 4.7793 17.2695C5.00846 17.3555 5.29492 17.4271 5.63867 17.4844C6.01107 17.5417 6.44076 17.5846 6.92773 17.6133C7.44336 17.6419 7.8444 17.6562 8.13086 17.6562C8.44596 17.6562 8.88997 17.6562 9.46289 17.6562C10.0645 17.6562 10.3939 17.6562 10.4512 17.6562C10.5371 17.6562 10.8522 17.6562 11.3965 17.6562C11.9694 17.6562 12.4134 17.6562 12.7285 17.6562C13.0436 17.6562 13.4447 17.6419 13.9316 17.6133C14.4473 17.5846 14.877 17.5417 15.2207 17.4844C15.5931 17.4271 15.8939 17.3555 16.123 17.2695C17.0111 16.8971 17.627 16.2812 17.9707 15.4219Z\">\n",
      "                </path>\n",
      "               </svg>\n",
      "               <span class=\"screen-reader-text\">\n",
      "                Instagram\n",
      "                <span class=\"screen-reader-text\">\n",
      "                 Opens in a new window\n",
      "                </span>\n",
      "               </span>\n",
      "              </a>\n",
      "             </li>\n",
      "             <li class=\"menu-item menu-item-type-custom menu-item-object-custom menu-item-88 col-auto top-level-menu-item\">\n",
      "              <a class=\"external-link\" href=\"https://www.facebook.com/WhiteHouse/\" rel=\"noopener noreferrer\" target=\"_blank\">\n",
      "               <svg aria-hidden=\"true\" tabindex=\"-1\" viewbox=\"0 0 11 19\" xmlns=\"http://www.w3.org/2000/svg\">\n",
      "                <path d=\"M9.72243 10.375H7.08571V18.25H3.57008V10.375H0.722427V7.10547H3.57008V4.64453C3.57008 3.70703 3.74586 2.91016 4.09743 2.25391C4.44899 1.59766 4.94118 1.10547 5.57399 0.777344C6.23024 0.425781 6.98024 0.25 7.82399 0.25C8.19899 0.25 8.59743 0.273438 9.0193 0.320312C9.44118 0.34375 9.7693 0.378906 10.0037 0.425781L10.3552 0.460938V3.23828H8.94899C8.29274 3.23828 7.81227 3.41406 7.50758 3.76562C7.22633 4.09375 7.08571 4.50391 7.08571 4.99609V7.10547H10.2146L9.72243 10.375Z\">\n",
      "                </path>\n",
      "               </svg>\n",
      "               <span class=\"screen-reader-text\">\n",
      "                Facebook\n",
      "                <span class=\"screen-reader-text\">\n",
      "                 Opens in a new window\n",
      "                </span>\n",
      "               </span>\n",
      "              </a>\n",
      "             </li>\n",
      "             <li class=\"menu-item menu-item-type-custom menu-item-object-custom menu-item-89 col-auto top-level-menu-item\">\n",
      "              <a class=\"external-link\" href=\"https://twitter.com/whitehouse\" rel=\"noopener noreferrer\" target=\"_blank\">\n",
      "               <svg aria-hidden=\"true\" tabindex=\"-1\" viewbox=\"0 0 1792 1792\" xmlns=\"http://www.w3.org/2000/svg\">\n",
      "                <path d=\"M1684 408q-67 98-162 167 1 14 1 42 0 130-38 259.5t-115.5 248.5-184.5 210.5-258 146-323 54.5q-271 0-496-145 35 4 78 4 225 0 401-138-105-2-188-64.5t-114-159.5q33 5 61 5 43 0 85-11-112-23-185.5-111.5t-73.5-205.5v-4q68 38 146 41-66-44-105-115t-39-154q0-88 44-163 121 149 294.5 238.5t371.5 99.5q-8-38-8-74 0-134 94.5-228.5t228.5-94.5q140 0 236 102 109-21 205-78-37 115-142 178 93-10 186-50z\">\n",
      "                </path>\n",
      "               </svg>\n",
      "               <span class=\"screen-reader-text\">\n",
      "                Twitter\n",
      "                <span class=\"screen-reader-text\">\n",
      "                 Opens in a new window\n",
      "                </span>\n",
      "               </span>\n",
      "              </a>\n",
      "             </li>\n",
      "             <li class=\"menu-item menu-item-type-custom menu-item-object-custom menu-item-90 col-auto top-level-menu-item\">\n",
      "              <a class=\"external-link\" href=\"https://www.youtube.com/user/whitehouse\" rel=\"noopener noreferrer\" target=\"_blank\">\n",
      "               <svg aria-hidden=\"true\" fill=\"none\" tabindex=\"-1\" viewbox=\"0 0 18 12\" xmlns=\"http://www.w3.org/2000/svg\">\n",
      "                <path d=\"M17.1562 1.90625C16.9688 1.15625 16.375 0.5625 15.6562 0.375C14.3125 0 9 0 9 0C9 0 3.65625 0 2.3125 0.375C1.59375 0.5625 1 1.15625 0.8125 1.90625C0.4375 3.21875 0.4375 6.03125 0.4375 6.03125C0.4375 6.03125 0.4375 8.8125 0.8125 10.1562C1 10.9062 1.59375 11.4688 2.3125 11.6562C3.65625 12 9 12 9 12C9 12 14.3125 12 15.6563 11.6562C16.375 11.4687 16.9688 10.9062 17.1563 10.1562C17.5313 8.8125 17.5312 6.03125 17.5312 6.03125C17.5312 6.03125 17.5312 3.21875 17.1562 1.90625ZM7.25 8.5625L7.25 3.5L11.6875 6.03125L7.25 8.5625Z\">\n",
      "                </path>\n",
      "               </svg>\n",
      "               <span class=\"screen-reader-text\">\n",
      "                YouTube\n",
      "                <span class=\"screen-reader-text\">\n",
      "                 Opens in a new window\n",
      "                </span>\n",
      "               </span>\n",
      "              </a>\n",
      "             </li>\n",
      "            </ul>\n",
      "           </nav>\n",
      "           <!-- social -->\n",
      "          </div>\n",
      "          <div class=\"address\">\n",
      "           <p>\n",
      "            <strong>\n",
      "             The White House\n",
      "            </strong>\n",
      "            <br/>\n",
      "            1600 Pennsylvania Ave NW\n",
      "            <br/>\n",
      "            Washington, DC 20500\n",
      "           </p>\n",
      "          </div>\n",
      "         </div>\n",
      "        </div>\n",
      "        <!-- .mobile-nav-menus -->\n",
      "       </div>\n",
      "       <!-- .row -->\n",
      "      </div>\n",
      "      <!-- .container -->\n",
      "     </div>\n",
      "     <!-- .main-mobile-menu-inner -->\n",
      "     <img alt=\"\" class=\"svgloader\" onload=\"var c=this;!window.fetch?window.llItems.push(c):fetch(c.currentSrc||c.src).then(function(x){return x.text();}).then(function(svgText){c.outerHTML = svgText;});\" src=\"https://www.whitehouse.gov/wp-content/themes/whitehouse/assets/img/wh-outline.svg\"/>\n",
      "    </div>\n",
      "    <!-- .menuOverlay -->\n",
      "   </header>\n",
      "   <main class=\"site-main\" id=\"content\">\n",
      "    <article class=\"post-86674 post type-post status-publish hentry category-presidential-actions\">\n",
      "     <header class=\"topper social-hide topper-primary topper-single topper--no-eyebrow topper--no-deck\" id=\"topper-23\">\n",
      "      <form action=\"https://www.whitehouse.gov/\" class=\"search-form\" method=\"get\" role=\"search\">\n",
      "       <label for=\"search-field-search-id-24\">\n",
      "        <span class=\"screen-reader-text\">\n",
      "         To search this site, enter a search term\n",
      "        </span>\n",
      "       </label>\n",
      "       <button aria-hidden=\"true\" aria-label=\"Close\" class=\"search-close-icon\">\n",
      "        <svg height=\"13\" viewbox=\"0 0 13 13\" width=\"13\" xmlns=\"http://www.w3.org/2000/svg\">\n",
      "         <rect fill=\"black\" height=\"1\" transform=\"rotate(45 1.26074 0)\" width=\"16.2296\" x=\"1.26074\">\n",
      "         </rect>\n",
      "         <rect fill=\"black\" height=\"1\" transform=\"rotate(-45 0.737305 11.5178)\" width=\"16.2296\" x=\"0.737305\" y=\"11.5178\">\n",
      "         </rect>\n",
      "        </svg>\n",
      "       </button>\n",
      "       <button aria-label=\"Search\" class=\"search-icon\">\n",
      "        <svg aria-hidden=\"true\" height=\"34\" tabindex=\"-1\" viewbox=\"0 0 34 34\" width=\"34\" xmlns=\"http://www.w3.org/2000/svg\">\n",
      "         <circle cx=\"17\" cy=\"17\" fill=\"#000\" r=\"17\">\n",
      "         </circle>\n",
      "         <path d=\"M15.75 21.3c1.25 0 2.45-.41 3.43-1.18l3.68 3.68.94-.94-3.68-3.68a5.55 5.55 0 1 0-4.37 2.12Zm0-9.77a4.22 4.22 0 1 1 0 8.44 4.22 4.22 0 0 1 0-8.44Z\" fill=\"#fff\">\n",
      "         </path>\n",
      "        </svg>\n",
      "       </button>\n",
      "       <input aria-required=\"false\" autocapitalize=\"off\" autocomplete=\"off\" class=\"search-field\" id=\"search-field-search-id-24\" name=\"s\" placeholder=\"Search…\" required=\"\" spellcheck=\"false\" type=\"text\"/>\n",
      "       <button aria-hidden=\"true\" class=\"search-submit\">\n",
      "        <svg aria-hidden=\"true\" height=\"68\" tabindex=\"-1\" viewbox=\"0 0 63 68\" width=\"63\" xmlns=\"http://www.w3.org/2000/svg\">\n",
      "         <path d=\"m0 0 63 33.74S.66 67.44 0 68V68l17.06-34L0 0Z\" fill=\"currentColor\">\n",
      "         </path>\n",
      "        </svg>\n",
      "        <span class=\"screen-reader-text\">\n",
      "         Search\n",
      "        </span>\n",
      "       </button>\n",
      "      </form>\n",
      "      <div class=\"container\">\n",
      "       <div class=\"row justify-content-center\">\n",
      "        <div class=\"col-md-10 col-lg-8 col\">\n",
      "         <div class=\"topper__date shared-meta\" data-beat=\"3\" data-beat-topper=\"3\">\n",
      "          <time class=\"posted-on entry-date published updated\" datetime=\"2023-10-30T16:39:11-04:00\">\n",
      "           October 30, 2023\n",
      "          </time>\n",
      "         </div>\n",
      "         <h1 class=\"page-title topper__title news\" data-beat=\"1\" data-beat-topper=\"1\">\n",
      "          Executive Order on the Safe, Secure, and Trustworthy Development and Use of Artificial Intelligence\n",
      "         </h1>\n",
      "         <nav aria-label=\"breadcrumbs\" class=\"wh-breadcrumbs\" data-beat=\"3\" data-beat-topper=\"3\">\n",
      "          <ol class=\"wh-breadcrumbs__wrap\">\n",
      "           <li class=\"wh-breadcrumb wh-breadcrumb--home\">\n",
      "            <a class=\"wh-breadcrumb__link ui-label-base\" href=\"https://www.whitehouse.gov/\" title=\"Home\">\n",
      "             <span class=\"screen-reader-text\">\n",
      "              Home\n",
      "             </span>\n",
      "             <svg aria-hidden=\"true\" height=\"16\" viewbox=\"0 0 34 16\" width=\"34\" xmlns=\"http://www.w3.org/2000/svg\">\n",
      "              <path d=\"m15.85 13.12-.04-4.57-.03-2.25c.02-.16.14-.32.2-.47h-1.3c.06.15.18.31.2.47l-.01 1.04-.06 5.79c0 .06.04.1.1.1h.84a.1.1 0 0 0 .1-.1v-.01Z\">\n",
      "              </path>\n",
      "              <path d=\"m15.44 8.14-.57-.73v.16l.52.6.05-.03ZM18.6 8.17l.53-.6V7.4l-.57.73.05.03Z\">\n",
      "              </path>\n",
      "              <path d=\"M19.13 7.34V6.3c.01-.16.13-.32.2-.47H18c.07.15.19.31.2.47l-.02 2.25-.04 4.57v.01c0 .06.04.1.1.1h.84a.1.1 0 0 0 .1-.1l-.06-5.79ZM11.1 3.33l-.06.06V3.7c0 .03.02.05.04.04l2.4-.94H11.1v.54Z\">\n",
      "              </path>\n",
      "              <path d=\"M1.13 4.62c0-.04.04-.08.1-.08h1.58c.06 0 .1.04.1.08v.4c0 .05-.04.1-.1.1H1.23c-.06 0-.1-.05-.1-.1v-.4Zm2.6 0c0-.04.05-.08.1-.08h1.59c.05 0 .1.04.1.08v.4c0 .05-.05.1-.1.1H3.84c-.06 0-.1-.05-.1-.1v-.4Zm2.61 0c0-.04.05-.08.1-.08h1.58c.06 0 .1.04.1.08v.4c0 .05-.04.1-.1.1H6.44c-.05 0-.1-.05-.1-.1v-.4Zm2.61 0c0-.04.05-.08.1-.08h1.84c.06 0 .1.04.1.08v.26h12v-.26c0-.04.05-.08.1-.08h1.85c.05 0 .1.04.1.08v.4c0 .05-.04.1-.1.1H9.05c-.05 0-.1-.05-.1-.1v-.4Zm3.06-.55 4.99-2 4.99 2h-.83l-2.09-.83L17 2.41l-2.08.83-2.08.84H12l.01-.01Zm13.87.55c0-.04.04-.08.1-.08h1.58c.05 0 .1.04.1.08v.4c0 .05-.05.1-.1.1h-1.58c-.06 0-.1-.05-.1-.1v-.4Zm2.6 0c0-.04.05-.08.1-.08h1.58c.06 0 .1.04.1.08v.4c0 .05-.04.1-.1.1h-1.58c-.05 0-.1-.05-.1-.1v-.4Zm2.61 0c0-.04.05-.08.1-.08h1.59c.05 0 .1.04.1.08v.4c0 .05-.05.1-.1.1h-1.59c-.05 0-.1-.05-.1-.1v-.4ZM.1 4.37h.28l.01.01v1.16c0 .03.02.04.05.04h10.59c.04.08.15.17.19.25H.1a.07.07 0 0 0-.06.07v.33c0 .04.03.07.07.07h11.23l-.06 6.83c0 .06.04.1.1.1h.84a.1.1 0 0 0 .1-.1v-.01l-.06-6.82c.01-.12.04-.25.08-.37.05-.12.17-.24.24-.35h8.85c.07.11.19.23.23.35.04.12.07.24.09.37l-.06 6.82v.01c0 .06.04.1.1.1h.84a.1.1 0 0 0 .1-.1l-.07-6.82H33.9c.04 0 .07-.04.07-.08V5.9a.07.07 0 0 0-.06-.07H22.79c.03-.08.14-.16.19-.24h10.58c.03 0 .06-.02.06-.05V4.38h.28c.05 0 .08-.04.08-.08v-.15a.07.07 0 0 0-.08-.07H23.35c-.05 0-.1-.01-.14-.03L17.13 1.6v-.52c.12-.04.3-.07.43-.02.7.23.85.14.86.14-.13-.17-.08-.54-.08-.54.04-.34.02-.4.02-.41-.03.01-.23.13-.69-.02-.25-.08-.43-.1-.55-.11A.12.12 0 0 0 17 0c-.06 0-.1.06-.1.12V1.6l-6.1 2.46a.4.4 0 0 1-.14.03H.1a.07.07 0 0 0-.07.07v.15c0 .04.03.07.07.07Z\">\n",
      "              </path>\n",
      "              <path d=\"M11.02 2.66h2.77l.33-.14c.04-.01.03-.07-.01-.07h-3.17c-.03 0-.05.04-.03.06l.11.15ZM23.93 3.44v.42c0 .03.02.06.05.06h1c.02 0 .04-.03.04-.06v-.42l.17-.22a.05.05 0 0 0-.03-.08H23.8c-.04 0-.07.04-.04.08l.17.22ZM19.88 2.52l.33.14h2.77l.12-.15c.02-.03 0-.06-.03-.06H19.9c-.04 0-.05.05-.02.07ZM20.53 2.8l2.38.93c.03.01.06 0 .06-.03v-.28l-.02-.02-.04-.07-.01-.02V2.8h-2.37ZM8.98 3.44v.42c0 .03.02.06.05.06h1c.02 0 .04-.03.04-.06v-.42l.18-.22c.02-.04 0-.08-.04-.08H8.85c-.04 0-.06.04-.04.08l.17.22ZM22.97 15.26H11.04a.06.06 0 0 0-.07.07v.4c0 .04.03.07.07.07h11.92c.04 0 .07-.03.07-.07v-.4c0-.04-.03-.07-.06-.07ZM33.9 13.7H22.87a1.95 1.95 0 0 1-.1-.29H21.7a.07.07 0 0 0-.07.06 1.45 1.45 0 0 1-.22.48v.39h-1.94v-.39c-.1-.15-.17-.32-.21-.48a.07.07 0 0 0-.07-.06h-1.02a.07.07 0 0 0-.07.06 1.7 1.7 0 0 1-.22.48v.39H16.12v-.39c-.1-.15-.17-.32-.22-.48a.07.07 0 0 0-.07-.06h-1.01a.07.07 0 0 0-.07.06c-.05.16-.12.33-.22.48v.39h-1.94v-.39a1.68 1.68 0 0 1-.22-.48.07.07 0 0 0-.07-.06h-1.07c-.02.1-.05.19-.1.28H.1a.1.1 0 0 0-.1.1v.92c0 .06.04.1.1.1h10.87v.17c0 .05.04.1.1.1H22.93a.1.1 0 0 0 .1-.1v-.17H33.9a.1.1 0 0 0 .1-.1v-.92a.1.1 0 0 0-.1-.1ZM13.1 8.41h.44v.79h-.44V8.4Zm0-.83h.44v.8h-.44v-.8Zm.49.83h.44v.79h-.44V8.4Zm0-.83h.44v.8h-.44v-.8Zm-.68 1.26a.06.06 0 0 0-.01.04v.44c0 .02.02.04.04.04h1.25c.02 0 .04-.02.04-.04v-.44c0-.02 0-.03-.02-.04a.23.23 0 0 1-.05-.15v-.83c0-.06.02-.12.05-.16a.06.06 0 0 0 .02-.04v-.2c0-.02-.02-.04-.04-.04h-1.25c-.02 0-.04.02-.04.04v.2c0 .02 0 .03.02.04.03.04.05.1.05.16v.83a.2.2 0 0 1-.06.15ZM14.03 11.54h-.44v-.92h.44v.92Zm0 .97h-.44v-.92h.44v.92Zm-.49-.97h-.44v-.92h.44v.92Zm0 .97h-.44v-.92h.44v.92Zm.67-1.76a.06.06 0 0 0 .02-.05v-.2c0-.02-.02-.04-.04-.04h-1.25c-.02 0-.04.02-.04.04v.2c0 .02 0 .03.02.04.03.04.05.1.05.15v1.05c0 .06-.02.12-.06.16a.06.06 0 0 0-.01.04v.48c0 .03.02.05.04.05h1.25c.02 0 .04-.02.04-.05v-.48c0-.02 0-.03-.02-.04a.23.23 0 0 1-.05-.16V10.9c0-.05.02-.1.05-.14ZM20.9 8.37h-.44v-.79h.44v.79Zm0 .83h-.44v-.79h.44v.79Zm-.48-.83h-.44v-.79h.44v.79Zm0 .83h-.44v-.79h.44v.79Zm.67-1.5a.06.06 0 0 0 .02-.04v-.2c0-.02-.02-.04-.05-.04h-1.24c-.03 0-.05.02-.05.04v.2l.02.04c.04.04.06.1.06.16v.83a.2.2 0 0 1-.06.15.06.06 0 0 0-.02.04v.44c0 .02.02.04.05.04h1.24c.02 0 .04-.02.04-.04v-.44l-.01-.04a.23.23 0 0 1-.06-.15v-.83c0-.06.02-.12.06-.16ZM20.9 11.54h-.44v-.92h.44v.92Zm0 .97h-.44v-.92h.44v.92Zm-.48-.97h-.44v-.92h.44v.92Zm0 .97h-.44v-.92h.44v.92Zm.67-1.76a.06.06 0 0 0 .02-.05v-.2c0-.02-.02-.04-.05-.04h-1.24c-.03 0-.05.02-.05.04v.2l.02.04c.04.04.06.1.06.15v1.05c0 .06-.02.12-.06.16a.06.06 0 0 0-.02.04v.48c0 .03.02.05.05.05h1.24c.02 0 .04-.02.04-.05v-.48l-.01-.04a.23.23 0 0 1-.06-.16V10.9c0-.05.02-.1.06-.14Z\">\n",
      "              </path>\n",
      "              <path d=\"M17.47 12.27h-.45v-1.18h.45v1.18Zm0 1.26h-.45v-1.21h.45v1.2Zm-.5-1.26h-.44v-1.18h.45v1.18Zm0 1.26h-.44v-1.21h.45v1.2Zm-.45-2.58v-.5a.66.66 0 0 0-.22.5v2.68c0 .04.03.07.06.07h1.27c.04 0 .06-.03.06-.07v-2.68a.66.66 0 0 0-.2-.5v.5h-.97ZM2.15 8.42h.44v.78h-.44v-.78Zm0-.83h.44v.79h-.44v-.79Zm.48.83h.44v.78h-.44v-.78Zm0-.83h.44v.79h-.44v-.79Zm-.67 1.25a.06.06 0 0 0-.02.04v.45c0 .02.02.04.04.04h1.25c.02 0 .04-.02.04-.04v-.45l-.01-.04a.23.23 0 0 1-.06-.15v-.83c0-.06.02-.11.06-.15a.06.06 0 0 0 .02-.04v-.2c0-.03-.03-.05-.05-.05H1.98c-.02 0-.04.02-.04.04v.2c0 .02 0 .04.02.05.03.03.06.09.06.15v.83a.2.2 0 0 1-.06.15ZM4.5 8.42h.45v.78H4.5v-.78Zm0-.83h.45v.79H4.5v-.79Zm.49.83h.44v.78h-.44v-.78Zm0-.83h.44v.79h-.44v-.79Zm-.67 1.25a.06.06 0 0 0-.02.04v.45c0 .02.02.04.04.04H5.6c.02 0 .04-.02.04-.04v-.45l-.01-.04a.23.23 0 0 1-.06-.15v-.83c0-.06.02-.11.06-.15a.06.06 0 0 0 .02-.04v-.2c0-.03-.03-.05-.05-.05H4.34c-.02 0-.04.02-.04.04v.2c0 .02 0 .04.02.05.04.03.06.09.06.15v.83a.2.2 0 0 1-.06.15ZM6.87 8.42h.44v.78h-.44v-.78Zm0-.83h.44v.79h-.44v-.79Zm.48.83h.44v.78h-.44v-.78Zm0-.83h.44v.79h-.44v-.79Zm-.68 1.25a.06.06 0 0 0-.01.04v.45c0 .02.02.04.04.04h1.25c.02 0 .04-.02.04-.04v-.45c0-.01 0-.03-.02-.04a.23.23 0 0 1-.05-.15v-.83c0-.06.02-.11.05-.15A.06.06 0 0 0 8 7.67v-.2c0-.03-.02-.05-.04-.05H6.7c-.02 0-.04.02-.04.04v.2c0 .02 0 .04.02.05.03.03.05.09.05.15v.83a.2.2 0 0 1-.06.15ZM9.23 8.42h.44v.78h-.44v-.78Zm0-.83h.44v.79h-.44v-.79Zm.48.83h.44v.78h-.44v-.78Zm0-.83h.44v.79h-.44v-.79Zm-.67 1.25a.06.06 0 0 0-.02.04v.45c0 .02.02.04.04.04h1.25c.02 0 .04-.02.04-.04v-.45l-.01-.04a.23.23 0 0 1-.06-.15v-.83c0-.06.02-.11.06-.15a.06.06 0 0 0 .02-.04v-.2c0-.03-.03-.05-.05-.05H9.06c-.02 0-.04.02-.04.04v.2c0 .02 0 .04.02.05.03.03.06.09.06.15v.83c0 .06-.02.11-.06.15ZM3.07 11.55h-.44v-.92h.44v.92Zm0 .96h-.44v-.92h.44v.92Zm-.48-.96h-.44v-.92h.44v.92Zm0 .96h-.44v-.92h.44v.92Zm.67-1.76a.06.06 0 0 0 .02-.04v-.2c0-.03-.03-.04-.05-.04H1.98c-.02 0-.04.01-.04.04v.2c0 .02 0 .03.02.04.03.04.06.1.06.15v1.05c0 .06-.03.12-.06.16a.06.06 0 0 0-.02.04v.48c0 .02.02.04.04.04h1.25c.02 0 .04-.02.04-.04v-.48l-.01-.04a.23.23 0 0 1-.06-.16V10.9c0-.06.02-.11.06-.15ZM5.43 11.55h-.44v-.92h.44v.92Zm0 .96h-.44v-.92h.44v.92Zm-.48-.96H4.5v-.92h.45v.92Zm0 .96H4.5v-.92h.45v.92Zm.67-1.76a.06.06 0 0 0 .02-.04v-.2c0-.03-.03-.04-.05-.04H4.34c-.02 0-.04.01-.04.04v.2c0 .02 0 .03.02.04.04.04.06.1.06.15v1.05c0 .06-.02.12-.06.16a.06.06 0 0 0-.02.04v.48c0 .02.02.04.04.04H5.6c.02 0 .04-.02.04-.04v-.48l-.01-.04a.23.23 0 0 1-.06-.16V10.9c0-.06.02-.11.06-.15ZM7.8 11.55h-.45v-.92h.44v.92Zm0 .96h-.45v-.92h.44v.92Zm-.49-.96h-.44v-.92h.44v.92Zm0 .96h-.44v-.92h.44v.92Zm.67-1.76a.06.06 0 0 0 .02-.04v-.2c0-.03-.02-.04-.05-.04H6.71c-.03 0-.05.01-.05.04v.2l.02.04c.04.04.06.1.06.15v1.05c0 .06-.02.12-.06.16a.06.06 0 0 0-.02.04v.48c0 .02.02.04.05.04h1.24c.02 0 .05-.02.05-.04v-.48l-.02-.04a.23.23 0 0 1-.06-.16V10.9c0-.06.02-.11.06-.15ZM10.15 11.55h-.44v-.92h.44v.92Zm0 .96h-.44v-.92h.44v.92Zm-.48-.96h-.44v-.92h.44v.92Zm0 .96h-.44v-.92h.44v.92Zm.67-1.76a.06.06 0 0 0 .02-.04v-.2c0-.03-.03-.04-.05-.04H9.06c-.02 0-.04.01-.04.04v.2c0 .02 0 .03.02.04.03.04.06.1.06.15v1.05c0 .06-.03.12-.06.16a.06.06 0 0 0-.02.04v.48c0 .02.02.04.04.04h1.25c.02 0 .04-.02.04-.04v-.48l-.01-.04a.23.23 0 0 1-.06-.16V10.9c0-.06.02-.11.06-.15ZM31.85 8.37h-.44v-.79h.44v.79Zm0 .83h-.44v-.79h.44v.79Zm-.49-.83h-.44v-.79h.44v.79Zm0 .83h-.44v-.79h.44v.79Zm.68-1.5a.06.06 0 0 0 .01-.04v-.2c0-.02-.02-.04-.04-.04h-1.25c-.02 0-.04.02-.04.04v.2c0 .02 0 .03.02.04.03.04.05.1.05.16v.83c0 .06-.02.1-.05.15l-.02.04v.44c0 .02.02.04.05.04H32c.02 0 .04-.02.04-.04v-.44l-.01-.04a.2.2 0 0 1-.06-.15v-.83a.2.2 0 0 1 .06-.16ZM29.49 8.37h-.44v-.79h.44v.79Zm0 .83h-.44v-.79h.44v.79ZM29 8.37h-.44v-.79H29v.79Zm0 .83h-.44v-.79H29v.79Zm.68-1.5a.06.06 0 0 0 .02-.04v-.2c0-.02-.03-.04-.05-.04H28.4c-.02 0-.04.02-.04.04v.2c0 .02 0 .03.02.04.03.04.06.1.06.16v.83c0 .06-.03.1-.06.15l-.02.04v.44c0 .02.02.04.05.04h1.24c.02 0 .05-.02.05-.04v-.44l-.02-.04a.2.2 0 0 1-.06-.15v-.83c0-.06.02-.12.06-.16ZM27.13 8.37h-.44v-.79h.44v.79Zm0 .83h-.44v-.79h.44v.79Zm-.49-.83h-.44v-.79h.44v.79Zm0 .83h-.44v-.79h.44v.79Zm.67-1.5a.06.06 0 0 0 .02-.04v-.2c0-.02-.02-.04-.04-.04h-1.25c-.02 0-.04.02-.04.04v.2c0 .02 0 .03.02.04.03.04.05.1.05.16v.83c0 .06-.02.1-.05.15l-.02.04v.44c0 .02.02.04.04.04h1.25c.02 0 .04-.02.04-.04v-.44l-.01-.04a.2.2 0 0 1-.06-.15v-.83c0-.06.02-.12.05-.16ZM24.76 8.37h-.44v-.79h.44v.79Zm0 .83h-.44v-.79h.44v.79Zm-.48-.83h-.44v-.79h.44v.79Zm0 .83h-.44v-.79h.44v.79Zm.68-1.5a.06.06 0 0 0 .01-.04v-.2c0-.02-.02-.04-.04-.04h-1.25c-.02 0-.04.02-.04.04v.2c0 .02 0 .03.02.04.03.04.05.1.05.16v.83c0 .06-.02.1-.05.15l-.02.04v.44c0 .02.02.04.04.04h1.25c.02 0 .04-.02.04-.04v-.44l-.01-.04a.2.2 0 0 1-.06-.15v-.83a.2.2 0 0 1 .06-.16ZM31.85 11.54h-.44v-.92h.44v.92Zm0 .97h-.44v-.92h.44v.92Zm-.49-.97h-.44v-.92h.44v.92Zm0 .97h-.44v-.92h.44v.92Zm.68-1.76a.06.06 0 0 0 .01-.05v-.2c0-.02-.02-.04-.04-.04h-1.25c-.02 0-.04.02-.04.04v.2c0 .02 0 .03.02.04.03.04.05.1.05.15v1.05c0 .06-.02.12-.05.16l-.02.04v.48c0 .03.02.05.05.05H32c.02 0 .04-.02.04-.05v-.48l-.01-.04a.21.21 0 0 1-.06-.16V10.9a.2.2 0 0 1 .06-.14ZM29.49 11.54h-.44v-.92h.44v.92Zm0 .97h-.44v-.92h.44v.92Zm-.49-.97h-.44v-.92H29v.92Zm0 .97h-.44v-.92H29v.92Zm.68-1.76a.06.06 0 0 0 .02-.05v-.2c0-.02-.03-.04-.05-.04H28.4c-.02 0-.04.02-.04.04v.2c0 .02 0 .03.02.04.03.04.06.1.06.15v1.05c0 .06-.03.12-.06.16l-.02.04v.48c0 .03.02.05.05.05h1.24c.02 0 .05-.02.05-.05v-.48l-.02-.04a.21.21 0 0 1-.06-.16V10.9c0-.05.02-.1.06-.14ZM27.13 11.54h-.44v-.92h.44v.92Zm0 .97h-.44v-.92h.44v.92Zm-.49-.97h-.44v-.92h.44v.92Zm0 .97h-.44v-.92h.44v.92Zm.67-1.76a.06.06 0 0 0 .02-.05v-.2c0-.02-.02-.04-.04-.04h-1.25c-.02 0-.04.02-.04.04v.2c0 .02 0 .03.02.04.03.04.05.1.05.15v1.05c0 .06-.02.12-.05.16l-.02.04v.48c0 .03.02.05.04.05h1.25c.02 0 .04-.02.04-.05v-.48l-.01-.04a.21.21 0 0 1-.06-.16V10.9c0-.05.02-.1.05-.14ZM24.77 11.54h-.44v-.92h.44v.92Zm0 .97h-.44v-.92h.44v.92Zm-.49-.97h-.44v-.92h.44v.92Zm0 .97h-.44v-.92h.44v.92Zm.68-1.76a.06.06 0 0 0 .01-.05v-.2c0-.02-.02-.04-.04-.04h-1.25c-.02 0-.04.02-.04.04v.2c0 .02 0 .03.02.04.03.04.05.1.05.15v1.05c0 .06-.02.12-.05.16l-.02.04v.48c0 .03.02.05.04.05h1.25c.02 0 .04-.02.04-.05v-.48l-.01-.04a.21.21 0 0 1-.06-.16V10.9a.2.2 0 0 1 .06-.14ZM17.47 8.37h-.44v-.79h.44v.79Zm0 .83h-.44v-.79h.44v.79ZM17 8.37h-.44v-.79h.44v.79Zm0 .83h-.44v-.79h.44v.79Zm3.65-3.37-1.5 1.73-.53.6-.05-.02.58-.73 1.24-1.58h-.06l-1.18 1.52-.94 1.2-.52.66v-.34l-.02-.04a.23.23 0 0 1-.06-.15v-.83c0-.06.03-.11.06-.15a.06.06 0 0 0 .02-.04v-.2c0-.03-.02-.05-.04-.05h-1.25c-.02 0-.05.02-.05.04v.2l.02.05c.04.04.06.1.06.15v.83a.2.2 0 0 1-.06.15.06.06 0 0 0-.02.04v.36l-.53-.69-.94-1.2-1.18-1.51h-.06l1.24 1.58.57.72-.05.04-.52-.6-1.5-1.74h-.07l1.56 1.8.95 1.1 1.02 1.18h.04l-.43-.55h1.12l-.43.55h.04l.48-.55.02-.03.52-.6.95-1.1 1.56-1.8h-.06Z\">\n",
      "              </path>\n",
      "              <path d=\"M17.2 10.8c0 .04-.04.06-.07.06h-.26c-.03 0-.05-.03-.05-.05v-.77c0-.03.02-.06.05-.06h.26c.04 0 .06.03.06.06v.77Zm-.58-.77c0-.03.02-.05.05-.05h.04c.03 0 .06.03.06.05v.77c0 .03-.03.05-.06.05h-.04c-.03 0-.05-.02-.05-.05v-.77Zm.77.78c0 .03-.03.05-.06.05h-.04c-.03 0-.06-.03-.06-.05v-.77c0-.03.03-.06.06-.06h.04c.03 0 .06.03.06.06v.77Zm-.25-.9H16.51v1.04h.97V9.92h-.35ZM3.32 10.22c.01-.01 0-.03-.01-.04-.2-.13-.45-.2-.7-.2-.26 0-.5.07-.7.2-.02.01-.02.03-.01.04 0 .02.02.03.04.03h1.33c.02 0 .04-.01.05-.03ZM5.71 10.23c0-.02 0-.03-.02-.04l-.7-.22h-.04l-.7.22c-.03 0-.03.02-.03.04l.04.02h1.4c.03 0 .05-.01.05-.02ZM8.04 10.22c.01-.01 0-.03-.01-.04-.2-.13-.44-.2-.7-.2-.26 0-.5.07-.7.2-.02.01-.02.03-.01.04 0 .02.02.03.04.03H8c.03 0 .04-.01.05-.03ZM10.43 10.23c.01-.02 0-.03-.02-.04l-.7-.22h-.04l-.7.22c-.02 0-.03.02-.03.04l.04.02h1.4c.03 0 .05-.01.05-.02ZM30.67 10.22c.01.02.03.03.05.03h1.33c.02 0 .04-.01.05-.03 0-.01 0-.03-.02-.04-.19-.13-.44-.2-.7-.2-.25 0-.5.07-.7.2-.01 0-.02.03 0 .04ZM28.28 10.23l.04.02h1.4c.03 0 .04-.01.05-.02 0-.02 0-.03-.03-.04l-.7-.22H29l-.7.22-.02.04ZM25.96 10.22c0 .02.02.03.04.03h1.33c.02 0 .04-.01.05-.03l-.01-.04c-.2-.13-.45-.2-.7-.2-.26 0-.5.07-.7.2-.02 0-.02.03-.01.04ZM23.56 10.23l.04.02H25l.05-.02c0-.02-.01-.03-.03-.04l-.7-.22h-.04l-.7.22c-.02 0-.03.02-.02.04ZM21.15 10.22l-.01-.04c-.2-.13-.45-.2-.7-.2-.26 0-.5.07-.7.2-.02.01-.02.03-.01.04 0 .02.02.03.04.03h1.33c.03 0 .04-.01.05-.03ZM14.28 10.22c0-.01 0-.03-.02-.04-.2-.13-.44-.2-.7-.2-.25 0-.5.07-.7.2-.01.01-.02.03 0 .04 0 .02.02.03.04.03h1.33c.02 0 .04-.01.05-.03Z\">\n",
      "              </path>\n",
      "              <path d=\"M10.5 6.7v-.09a.04.04 0 0 0-.03-.03H.42a.04.04 0 0 0-.04.03v6.76c0 .02.02.04.04.04h10.05c.02 0 .04-.02.04-.04v-.09a.04.04 0 0 0-.04-.03H1.1a.04.04 0 0 1-.04-.04V6.77c0-.02.02-.03.04-.03h9.38c.02 0 .04-.02.04-.03ZM33.58 6.58H23.53a.04.04 0 0 0-.04.03v.1c0 .01.02.03.04.03h9.38c.02 0 .04.02.04.04V13.22c0 .01-.02.03-.04.03h-9.38a.04.04 0 0 0-.04.04v.09c0 .02.02.03.04.03h10.05c.02 0 .04-.01.04-.03V6.6c0-.02-.02-.03-.04-.03Z\">\n",
      "              </path>\n",
      "             </svg>\n",
      "            </a>\n",
      "           </li>\n",
      "           <li class=\"wh-breadcrumb\">\n",
      "            <a class=\"wh-breadcrumb__link ui-label-base\" href=\"https://www.whitehouse.gov/briefing-room/\">\n",
      "             Briefing Room\n",
      "            </a>\n",
      "           </li>\n",
      "           <li class=\"wh-breadcrumb\">\n",
      "            <a class=\"wh-breadcrumb__link ui-label-base\" href=\"https://www.whitehouse.gov/briefing-room/presidential-actions/\" rel=\"category tag\">\n",
      "             Presidential Actions\n",
      "            </a>\n",
      "           </li>\n",
      "          </ol>\n",
      "         </nav>\n",
      "        </div>\n",
      "       </div>\n",
      "      </div>\n",
      "     </header>\n",
      "     <section class=\"body-content\">\n",
      "      <div class=\"container\">\n",
      "       <div class=\"row\">\n",
      "        <p>\n",
      "         By the authority vested in me as President by the Constitution and the laws of the United States of America, it is hereby ordered as follows:\n",
      "        </p>\n",
      "        <p>\n",
      "         Section 1.  Purpose.  Artificial intelligence (AI) holds extraordinary potential for both promise and peril.  Responsible AI use has the potential to help solve urgent challenges while making our world more prosperous, productive, innovative, and secure.  At the same time, irresponsible use could exacerbate societal harms such as fraud, discrimination, bias, and disinformation; displace and disempower workers; stifle competition; and pose risks to national security.  Harnessing AI for good and realizing its myriad benefits requires mitigating its substantial risks.  This endeavor demands a society-wide effort that includes government, the private sector, academia, and civil society.\n",
      "        </p>\n",
      "        <p>\n",
      "         My Administration places the highest urgency on governing the development and use of AI safely and responsibly, and is therefore advancing a coordinated, Federal Government-wide approach to doing so.  The rapid speed at which AI capabilities are advancing compels the United States to lead in this moment for the sake of our security, economy, and society.\n",
      "        </p>\n",
      "        <p>\n",
      "         In the end, AI reflects the principles of the people who build it, the people who use it, and the data upon which it is built.  I firmly believe that the power of our ideals; the foundations of our society; and the creativity, diversity, and decency of our people are the reasons that America thrived in past eras of rapid change.  They are the reasons we will succeed again in this moment.  We are more than capable of harnessing AI for justice, security, and opportunity for all.\n",
      "        </p>\n",
      "        <p>\n",
      "         Sec. 2.  Policy and Principles.  It is the policy of my Administration to advance and govern the development and use of AI in accordance with eight guiding principles and priorities.  When undertaking the actions set forth in this order, executive departments and agencies (agencies) shall, as appropriate and consistent with applicable law, adhere to these principles, while, as feasible, taking into account the views of other agencies, industry, members of academia, civil society, labor unions, international allies and partners, and other relevant organizations:\n",
      "        </p>\n",
      "        <p>\n",
      "         (a)  Artificial Intelligence must be safe and secure.  Meeting this goal requires robust, reliable, repeatable, and standardized evaluations of AI systems, as well as policies, institutions, and, as appropriate, other mechanisms to test, understand, and mitigate risks from these systems before they are put to use.  It also requires addressing AI systems’ most pressing security risks — including with respect to biotechnology, cybersecurity, critical infrastructure, and other national security dangers — while navigating AI’s opacity and complexity.  Testing and evaluations, including post-deployment performance monitoring, will help ensure that AI systems function as intended, are resilient against misuse or dangerous modifications, are ethically developed and operated in a secure manner, and are compliant with applicable Federal laws and policies.  Finally, my Administration will help develop effective labeling and content provenance mechanisms, so that Americans are able to determine when content is generated using AI and when it is not.  These actions will provide a vital foundation for an approach that addresses AI’s risks without unduly reducing its benefits.\n",
      "        </p>\n",
      "        <p>\n",
      "         (b)  Promoting responsible innovation, competition, and collaboration will allow the United States to lead in AI and unlock the technology’s potential to solve some of society’s most difficult challenges.  This effort requires investments in AI-related education, training, development, research, and capacity, while simultaneously tackling novel intellectual property (IP) questions and other problems to protect inventors and creators.  Across the Federal Government, my Administration will support programs to provide Americans the skills they need for the age of AI and attract the world’s AI talent to our shores — not just to study, but to stay — so that the companies and technologies of the future are made in America.  The Federal Government will promote a fair, open, and competitive ecosystem and marketplace for AI and related technologies so that small developers and entrepreneurs can continue to drive innovation.  Doing so requires stopping unlawful collusion and addressing risks from dominant firms’ use of key assets such as semiconductors, computing power, cloud storage, and data to disadvantage competitors, and it requires supporting a marketplace that harnesses the benefits of AI to provide new opportunities for small businesses, workers, and entrepreneurs.\n",
      "        </p>\n",
      "        <p>\n",
      "         (c)  The responsible development and use of AI require a commitment to supporting American workers.  As AI creates new jobs and industries, all workers need a seat at the table, including through collective bargaining, to ensure that they benefit from these opportunities.  My Administration will seek to adapt job training and education to support a diverse workforce and help provide access to opportunities that AI creates.  In the workplace itself, AI should not be deployed in ways that undermine rights, worsen job quality, encourage undue worker surveillance, lessen market competition, introduce new health and safety risks, or cause harmful labor-force disruptions.  The critical next steps in AI development should be built on the views of workers, labor unions, educators, and employers to support responsible uses of AI that improve workers’ lives, positively augment human work, and help all people safely enjoy the gains and opportunities from technological innovation.\n",
      "        </p>\n",
      "        <p>\n",
      "         (d)  Artificial Intelligence policies must be consistent with my Administration’s dedication to advancing equity and civil rights.  My Administration cannot — and will not — tolerate the use of AI to disadvantage those who are already too often denied equal opportunity and justice.  From hiring to housing to healthcare, we have seen what happens when AI use deepens discrimination and bias, rather than improving quality of life.  Artificial Intelligence systems deployed irresponsibly have reproduced and intensified existing inequities, caused new types of harmful discrimination, and exacerbated online and physical harms.  My Administration will build on the important steps that have already been taken — such as issuing the Blueprint for an AI Bill of Rights, the AI Risk Management Framework, and Executive Order 14091 of February 16, 2023 (Further Advancing Racial Equity and Support for Underserved Communities Through the Federal Government) — in seeking to ensure that AI complies with all Federal laws and to promote robust technical evaluations, careful oversight, engagement with affected communities, and rigorous regulation.  It is necessary to hold those developing and deploying AI accountable to standards that protect against unlawful discrimination and abuse, including in the justice system and the Federal Government.  Only then can Americans trust AI to advance civil rights, civil liberties, equity, and justice for all.\n",
      "        </p>\n",
      "        <p>\n",
      "         (e)  The interests of Americans who increasingly use, interact with, or purchase AI and AI-enabled products in their daily lives must be protected.  Use of new technologies, such as AI, does not excuse organizations from their legal obligations, and hard-won consumer protections are more important than ever in moments of technological change.  The Federal Government will enforce existing consumer protection laws and principles and enact appropriate safeguards against fraud, unintended bias, discrimination, infringements on privacy, and other harms from AI.  Such protections are especially important in critical fields like healthcare, financial services, education, housing, law, and transportation, where mistakes by or misuse of AI could harm patients, cost consumers or small businesses, or jeopardize safety or rights.  At the same time, my Administration will promote responsible uses of AI that protect consumers, raise the quality of goods and services, lower their prices, or expand selection and availability.\n",
      "        </p>\n",
      "        <p>\n",
      "         (f)  Americans’ privacy and civil liberties must be protected as AI continues advancing.  Artificial Intelligence is making it easier to extract, re-identify, link, infer, and act on sensitive information about people’s identities, locations, habits, and desires.  Artificial Intelligence’s capabilities in these areas can increase the risk that personal data could be exploited and exposed.  To combat this risk, the Federal Government will ensure that the collection, use, and retention of data is lawful, is secure, and mitigates privacy and confidentiality risks.  Agencies shall use available policy and technical tools, including privacy-enhancing technologies (PETs) where appropriate, to protect privacy and to combat the broader legal and societal risks — including the chilling of First Amendment rights — that result from the improper collection and use of people’s data.\n",
      "        </p>\n",
      "        <p>\n",
      "         (g)  It is important to manage the risks from the Federal Government’s own use of AI and increase its internal capacity to regulate, govern, and support responsible use of AI to deliver better results for Americans.  These efforts start with people, our Nation’s greatest asset.  My Administration will take steps to attract, retain, and develop public service-oriented AI professionals, including from underserved communities, across disciplines — including technology, policy, managerial, procurement, regulatory, ethical, governance, and legal fields — and ease AI professionals’ path into the Federal Government to help harness and govern AI.  The Federal Government will work to ensure that all members of its workforce receive adequate training to understand the benefits, risks, and limitations of AI for their job functions, and to modernize Federal Government information technology infrastructure, remove bureaucratic obstacles, and ensure that safe and rights-respecting AI is adopted, deployed, and used.\n",
      "        </p>\n",
      "        <p>\n",
      "         (h)  The Federal Government should lead the way to global societal, economic, and technological progress, as the United States has in previous eras of disruptive innovation and change.  This leadership is not measured solely by the technological advancements our country makes.  Effective leadership also means pioneering those systems and safeguards needed to deploy technology responsibly — and building and promoting those safeguards with the rest of the world.  My Administration will engage with international allies and partners in developing a framework to manage AI’s risks, unlock AI’s potential for good, and promote common approaches to shared challenges.  The Federal Government will seek to promote responsible AI safety and security principles and actions with other nations, including our competitors, while leading key global conversations and collaborations to ensure that AI benefits the whole world, rather than exacerbating inequities, threatening human rights, and causing other harms.\n",
      "        </p>\n",
      "        <p>\n",
      "         Sec. 3.  Definitions.  For purposes of this order:\n",
      "        </p>\n",
      "        <p>\n",
      "         (a)  The term “agency” means each agency described in 44 U.S.C. 3502(1), except for the independent regulatory agencies described in 44 U.S.C. 3502(5).\n",
      "        </p>\n",
      "        <p>\n",
      "         (b)  The term “artificial intelligence” or “AI” has the meaning set forth in 15 U.S.C. 9401(3):  a machine-based system that can, for a given set of human-defined objectives, make predictions, recommendations, or decisions influencing real or virtual environments.  Artificial intelligence systems use machine- and human-based inputs to perceive real and virtual environments; abstract such perceptions into models through analysis in an automated manner; and use model inference to formulate options for information or action.\n",
      "        </p>\n",
      "        <p>\n",
      "         (c)  The term “AI model” means a component of an information system that implements AI technology and uses computational, statistical, or machine-learning techniques to produce outputs from a given set of inputs.\n",
      "        </p>\n",
      "        <p>\n",
      "         (d)  The term “AI red-teaming” means a structured testing effort to find flaws and vulnerabilities in an AI system, often in a controlled environment and in collaboration with developers of AI.  Artificial Intelligence red-teaming is most often performed by dedicated “red teams” that adopt adversarial methods to identify flaws and vulnerabilities, such as harmful or discriminatory outputs from an AI system, unforeseen or undesirable system behaviors, limitations, or potential risks associated with the misuse of the system.\n",
      "        </p>\n",
      "        <p>\n",
      "         (e)  The term “AI system” means any data system, software, hardware, application, tool, or utility that operates in whole or in part using AI.\n",
      "        </p>\n",
      "        <p>\n",
      "         (f)  The term “commercially available information” means any information or data about an individual or group of individuals, including an individual’s or group of individuals’ device or location, that is made available or obtainable and sold, leased, or licensed to the general public or to governmental or non-governmental entities.\n",
      "        </p>\n",
      "        <p>\n",
      "         (g)  The term “crime forecasting” means the use of analytical techniques to attempt to predict future crimes or crime-related information.  It can include machine-generated predictions that use algorithms to analyze large volumes of data, as well as other forecasts that are generated without machines and based on statistics, such as historical crime statistics.\n",
      "        </p>\n",
      "        <p>\n",
      "         (h)  The term “critical and emerging technologies” means those technologies listed in the February 2022 Critical and Emerging Technologies List Update issued by the National Science and Technology Council (NSTC), as amended by subsequent updates to the list issued by the NSTC.\n",
      "        </p>\n",
      "        <p>\n",
      "         (i)  The term “critical infrastructure” has the meaning set forth in section 1016(e) of the USA PATRIOT Act of 2001, 42 U.S.C. 5195c(e).\n",
      "        </p>\n",
      "        <p>\n",
      "         (j)  The term “differential-privacy guarantee” means protections that allow information about a group to be shared while provably limiting the improper access, use, or disclosure of personal information about particular entities.\n",
      "        </p>\n",
      "        <p>\n",
      "         (k)  The term “dual-use foundation model” means an AI model that is trained on broad data; generally uses self-supervision; contains at least tens of billions of parameters; is applicable across a wide range of contexts; and that exhibits, or could be easily modified to exhibit, high levels of performance at tasks that pose a serious risk to security, national economic security, national public health or safety, or any combination of those matters, such as by:\n",
      "        </p>\n",
      "        <p>\n",
      "         (i)    substantially lowering the barrier of entry for non-experts to design, synthesize, acquire, or use chemical, biological, radiological, or nuclear (CBRN) weapons;\n",
      "        </p>\n",
      "        <p>\n",
      "         (ii)   enabling powerful offensive cyber operations through automated vulnerability discovery and exploitation against a wide range of potential targets of cyber attacks; or\n",
      "        </p>\n",
      "        <p>\n",
      "         (iii)  permitting the evasion of human control or oversight through means of deception or obfuscation.\n",
      "        </p>\n",
      "        <p>\n",
      "         Models meet this definition even if they are provided to end users with technical safeguards that attempt to prevent users from taking advantage of the relevant unsafe capabilities.\n",
      "        </p>\n",
      "        <p>\n",
      "         (l)  The term “Federal law enforcement agency” has the meaning set forth in section 21(a) of Executive Order 14074 of May 25, 2022 (Advancing Effective, Accountable Policing and Criminal Justice Practices To Enhance Public Trust and Public Safety).\n",
      "        </p>\n",
      "        <p>\n",
      "         (m)  The term “floating-point operation” means any mathematical operation or assignment involving floating-point numbers, which are a subset of the real numbers typically represented on computers by an integer of fixed precision scaled by an integer exponent of a fixed base.\n",
      "        </p>\n",
      "        <p>\n",
      "         (n)  The term “foreign person” has the meaning set forth in section 5(c) of Executive Order 13984 of January 19, 2021 (Taking Additional Steps To Address the National Emergency With Respect to Significant Malicious Cyber-Enabled Activities).\n",
      "        </p>\n",
      "        <p>\n",
      "         (o)  The terms “foreign reseller” and “foreign reseller of United States Infrastructure as a Service Products” mean a foreign person who has established an Infrastructure as a Service Account to provide Infrastructure as a Service Products subsequently, in whole or in part, to a third party.\n",
      "        </p>\n",
      "        <p>\n",
      "         (p)  The term “generative AI” means the class of AI models that emulate the structure and characteristics of input data in order to generate derived synthetic content.  This can include images, videos, audio, text, and other digital content.\n",
      "        </p>\n",
      "        <p>\n",
      "         (q)  The terms “Infrastructure as a Service Product,” “United States Infrastructure as a Service Product,” “United States Infrastructure as a Service Provider,” and “Infrastructure as a Service Account” each have the respective meanings given to those terms in section 5 of Executive Order 13984.\n",
      "        </p>\n",
      "        <p>\n",
      "         (r)  The term “integer operation” means any mathematical operation or assignment involving only integers, or whole numbers expressed without a decimal point.\n",
      "        </p>\n",
      "        <p>\n",
      "         (s)  The term “Intelligence Community” has the meaning given to that term in section 3.5(h) of Executive Order 12333 of December 4, 1981 (United States Intelligence Activities), as amended.\n",
      "        </p>\n",
      "        <p>\n",
      "         (t)  The term “machine learning” means a set of techniques that can be used to train AI algorithms to improve performance at a task based on data.\n",
      "        </p>\n",
      "        <p>\n",
      "         (u)  The term “model weight” means a numerical parameter within an AI model that helps determine the model’s outputs in response to inputs.\n",
      "        </p>\n",
      "        <p>\n",
      "         (v)  The term “national security system” has the meaning set forth in 44 U.S.C. 3552(b)(6).\n",
      "        </p>\n",
      "        <p>\n",
      "         (w)  The term “omics” means biomolecules, including nucleic acids, proteins, and metabolites, that make up a cell or cellular system.\n",
      "        </p>\n",
      "        <p>\n",
      "         (x)  The term “Open RAN” means the Open Radio Access Network approach to telecommunications-network standardization adopted by the O-RAN Alliance, Third Generation Partnership Project, or any similar set of published open standards for multi-vendor network equipment interoperability.\n",
      "        </p>\n",
      "        <p>\n",
      "         (y)  The term “personally identifiable information” has the meaning set forth in Office of Management and Budget (OMB) Circular No. A-130.\n",
      "        </p>\n",
      "        <p>\n",
      "         (z)  The term “privacy-enhancing technology” means any software or hardware solution, technical process, technique, or other technological means of mitigating privacy risks arising from data processing, including by enhancing predictability, manageability, disassociability, storage, security, and confidentiality.  These technological means may include secure multiparty computation, homomorphic encryption, zero-knowledge proofs, federated learning, secure enclaves, differential privacy, and synthetic-data-generation tools.  This is also sometimes referred to as “privacy-preserving technology.”\n",
      "        </p>\n",
      "        <p>\n",
      "         (aa)  The term “privacy impact assessment” has the meaning set forth in OMB Circular No. A-130.\n",
      "        </p>\n",
      "        <p>\n",
      "         (bb)  The term “Sector Risk Management Agency” has the meaning set forth in 6 U.S.C. 650(23).\n",
      "        </p>\n",
      "        <p>\n",
      "         (cc)  The term “self-healing network” means a telecommunications network that automatically diagnoses and addresses network issues to permit self-restoration.\n",
      "        </p>\n",
      "        <p>\n",
      "         (dd)  The term “synthetic biology” means a field of science that involves redesigning organisms, or the biomolecules of organisms, at the genetic level to give them new characteristics.  Synthetic nucleic acids are a type of biomolecule redesigned through synthetic-biology methods.\n",
      "        </p>\n",
      "        <p>\n",
      "         (ee)  The term “synthetic content” means information, such as images, videos, audio clips, and text, that has been significantly modified or generated by algorithms, including by AI.\n",
      "        </p>\n",
      "        <p>\n",
      "         (ff)  The term “testbed” means a facility or mechanism equipped for conducting rigorous, transparent, and replicable testing of tools and technologies, including AI and PETs, to help evaluate the functionality, usability, and performance of those tools or technologies.\n",
      "        </p>\n",
      "        <p>\n",
      "         (gg)  The term “watermarking” means the act of embedding information, which is typically difficult to remove, into outputs created by AI — including into outputs such as photos, videos, audio clips, or text — for the purposes of verifying the authenticity of the output or the identity or characteristics of its provenance, modifications, or conveyance.\n",
      "         <br/>\n",
      "         Sec. 4.  Ensuring the Safety and Security of AI Technology.\n",
      "        </p>\n",
      "        <p>\n",
      "         4.1.  Developing Guidelines, Standards, and Best Practices for AI Safety and Security.  (a)  Within 270 days of the date of this order, to help ensure the development of safe, secure, and trustworthy AI systems, the Secretary of Commerce, acting through the Director of the National Institute of Standards and Technology (NIST), in coordination with the Secretary of Energy, the Secretary of Homeland Security, and the heads of other relevant agencies as the Secretary of Commerce may deem appropriate, shall:\n",
      "        </p>\n",
      "        <p>\n",
      "         (i)   Establish guidelines and best practices, with the aim of promoting consensus industry standards, for developing and deploying safe, secure, and trustworthy AI systems, including:\n",
      "        </p>\n",
      "        <p>\n",
      "         (A)  developing a companion resource to the AI Risk Management Framework, NIST AI 100-1, for generative AI;\n",
      "        </p>\n",
      "        <p>\n",
      "         (B)  developing a companion resource to the Secure Software Development Framework to incorporate secure development practices for generative AI and for dual-use foundation models; and\n",
      "        </p>\n",
      "        <p>\n",
      "         (C)  launching an initiative to create guidance and benchmarks for evaluating and auditing AI capabilities, with a focus on capabilities through which AI could cause harm, such as in the areas of cybersecurity and biosecurity.\n",
      "        </p>\n",
      "        <p>\n",
      "         (ii)  Establish appropriate guidelines (except for AI used as a component of a national security system), including appropriate procedures and processes, to enable developers of AI, especially of dual-use foundation models, to conduct AI red-teaming tests to enable deployment of safe, secure, and trustworthy systems.  These efforts shall include:\n",
      "        </p>\n",
      "        <p>\n",
      "         (A)  coordinating or developing guidelines related to assessing and managing the safety, security, and trustworthiness of dual-use foundation models; and\n",
      "        </p>\n",
      "        <p>\n",
      "         (B)  in coordination with the Secretary of Energy and the Director of the National Science Foundation (NSF), developing and helping to ensure the availability of testing environments, such as testbeds, to support the development of safe, secure, and trustworthy AI technologies, as well as to support the design, development, and deployment of associated PETs, consistent with section 9(b) of this order.\n",
      "        </p>\n",
      "        <p>\n",
      "         (b)  Within 270 days of the date of this order, to understand and mitigate AI security risks, the Secretary of Energy, in coordination with the heads of other Sector Risk Management Agencies (SRMAs) as the Secretary of Energy may deem appropriate, shall develop and, to the extent permitted by law and available appropriations, implement a plan for developing the Department of Energy’s AI model evaluation tools and AI testbeds.  The Secretary shall undertake this work using existing solutions where possible, and shall develop these tools and AI testbeds to be capable of assessing near-term extrapolations of AI systems’ capabilities.  At a minimum, the Secretary shall develop tools to evaluate AI capabilities to generate outputs that may represent nuclear, nonproliferation, biological, chemical, critical infrastructure, and energy-security threats or hazards.  The Secretary shall do this work solely for the purposes of guarding against these threats, and shall also develop model guardrails that reduce such risks.  The Secretary shall, as appropriate, consult with private AI laboratories, academia, civil society, and third-party evaluators, and shall use existing solutions.\n",
      "        </p>\n",
      "        <p>\n",
      "         4.2.  Ensuring Safe and Reliable AI.  (a)  Within 90 days of the date of this order, to ensure and verify the continuous availability of safe, reliable, and effective AI in accordance with the Defense Production Act, as amended, 50 U.S.C. 4501\n",
      "         <em>\n",
      "          et seq\n",
      "         </em>\n",
      "         ., including for the national defense and the protection of critical infrastructure, the Secretary of Commerce shall require:\n",
      "        </p>\n",
      "        <p>\n",
      "         (i)   Companies developing or demonstrating an intent to develop potential dual-use foundation models to provide the Federal Government, on an ongoing basis, with information, reports, or records regarding the following:\n",
      "        </p>\n",
      "        <p>\n",
      "         (A)  any ongoing or planned activities related to training, developing, or producing dual-use foundation models, including the physical and cybersecurity protections taken to assure the integrity of that training process against sophisticated threats;\n",
      "        </p>\n",
      "        <p>\n",
      "         (B)  the ownership and possession of the model weights of any dual-use foundation models, and the physical and cybersecurity measures taken to protect those model weights; and\n",
      "        </p>\n",
      "        <p>\n",
      "         (C)  the results of any developed dual-use foundation model’s performance in relevant AI red-team testing based on guidance developed by NIST pursuant to subsection 4.1(a)(ii) of this section, and a description of any associated measures the company has taken to meet safety objectives, such as mitigations to improve performance on these red-team tests and strengthen overall model security.  Prior to the development of guidance on red-team testing standards by NIST pursuant to subsection 4.1(a)(ii) of this section, this description shall include the results of any red-team testing that the company has conducted relating to lowering the barrier to entry for the development, acquisition, and use of biological weapons by non-state actors; the discovery of software vulnerabilities and development of associated exploits; the use of software or tools to influence real or virtual events; the possibility for self-replication or propagation; and associated measures to meet safety objectives; and\n",
      "        </p>\n",
      "        <p>\n",
      "         (ii)  Companies, individuals, or other organizations or entities that acquire, develop, or possess a potential large-scale computing cluster to report any such acquisition, development, or possession, including the existence and location of these clusters and the amount of total computing power available in each cluster.\n",
      "        </p>\n",
      "        <p>\n",
      "         (b)  The Secretary of Commerce, in consultation with the Secretary of State, the Secretary of Defense, the Secretary of Energy, and the Director of National Intelligence, shall define, and thereafter update as needed on a regular basis, the set of technical conditions for models and computing clusters that would be subject to the reporting requirements of subsection 4.2(a) of this section.  Until such technical conditions are defined, the Secretary shall require compliance with these reporting requirements for:\n",
      "        </p>\n",
      "        <p>\n",
      "         (i)   any model that was trained using a quantity of computing power greater than 10\n",
      "         <sup>\n",
      "          26\n",
      "         </sup>\n",
      "         integer or floating-point operations, or using primarily biological sequence data and using a quantity of computing power greater than 10\n",
      "         <sup>\n",
      "          23\n",
      "         </sup>\n",
      "         integer or floating-point operations; and\n",
      "        </p>\n",
      "        <p>\n",
      "         (ii)  any computing cluster that has a set of machines physically co-located in a single datacenter, transitively connected by data center networking of over 100 Gbit/s, and having a theoretical maximum computing capacity of 10\n",
      "         <sup>\n",
      "          20\n",
      "         </sup>\n",
      "         integer or floating-point operations per second for training AI.\n",
      "        </p>\n",
      "        <p>\n",
      "         (c)  Because I find that additional steps must be taken to deal with the national emergency related to significant malicious cyber-enabled activities declared in Executive Order 13694 of April 1, 2015 (Blocking the Property of Certain Persons Engaging in Significant Malicious Cyber-Enabled Activities), as amended by Executive Order 13757 of December 28, 2016 (Taking Additional Steps to Address the National Emergency With Respect to Significant Malicious Cyber-Enabled Activities), and further amended by Executive Order 13984, to address the use of United States Infrastructure as a Service (IaaS) Products by foreign malicious cyber actors, including to impose additional record-keeping obligations with respect to foreign transactions and to assist in the investigation of transactions involving foreign malicious cyber actors, I hereby direct the Secretary of Commerce, within 90 days of the date of this order, to:\n",
      "        </p>\n",
      "        <p>\n",
      "         (i)    Propose regulations that require United States IaaS Providers to submit a report to the Secretary of Commerce when a foreign person transacts with that United States IaaS Provider to train a large AI model with potential capabilities that could be used in malicious cyber-enabled activity (a “training run”).  Such reports shall include, at a minimum, the identity of the foreign person and the existence of any training run of an AI model meeting the criteria set forth in this section, or other criteria defined by the Secretary in regulations, as well as any additional information identified by the Secretary.\n",
      "        </p>\n",
      "        <p>\n",
      "         (ii)   Include a requirement in the regulations proposed pursuant to subsection 4.2(c)(i) of this section that United States IaaS Providers prohibit any foreign reseller of their United States IaaS Product from providing those products unless such foreign reseller submits to the United States IaaS Provider a report, which the United States IaaS Provider must provide to the Secretary of Commerce, detailing each instance in which a foreign person transacts with the foreign reseller to use the United States IaaS Product to conduct a training run described in subsection 4.2(c)(i) of this section.  Such reports shall include, at a minimum, the information specified in subsection 4.2(c)(i) of this section as well as any additional information identified by the Secretary.\n",
      "        </p>\n",
      "        <p>\n",
      "         (iii)  Determine the set of technical conditions for a large AI model to have potential capabilities that could be used in malicious cyber-enabled activity, and revise that determination as necessary and appropriate.  Until the Secretary makes such a determination, a model shall be considered to have potential capabilities that could be used in malicious cyber-enabled activity if it requires a quantity of computing power greater than 10\n",
      "         <sup>\n",
      "          26\n",
      "         </sup>\n",
      "         integer or floating-point operations and is trained on a computing cluster that has a set of machines physically co-located in a single datacenter, transitively connected by data center networking of over 100 Gbit/s, and having a theoretical maximum compute capacity of 10\n",
      "         <sup>\n",
      "          20\n",
      "         </sup>\n",
      "         integer or floating-point operations per second for training AI.\n",
      "        </p>\n",
      "        <p>\n",
      "         (d)  Within 180 days of the date of this order, pursuant to the finding set forth in subsection 4.2(c) of this section, the Secretary of Commerce shall propose regulations that require United States IaaS Providers to ensure that foreign resellers of United States IaaS Products verify the identity of any foreign person that obtains an IaaS account (account) from the foreign reseller.  These regulations shall, at a minimum:\n",
      "        </p>\n",
      "        <p>\n",
      "         (i)    Set forth the minimum standards that a United States IaaS Provider must require of foreign resellers of its United States IaaS Products to verify the identity of a foreign person who opens an account or maintains an existing account with a foreign reseller, including:\n",
      "        </p>\n",
      "        <p>\n",
      "         (A)  the types of documentation and procedures that foreign resellers of United States IaaS Products must require to verify the identity of any foreign person acting as a lessee or sub-lessee of these products or services;\n",
      "        </p>\n",
      "        <p>\n",
      "         (B)  records that foreign resellers of United States IaaS Products must securely maintain regarding a foreign person that obtains an account, including information establishing:\n",
      "        </p>\n",
      "        <p>\n",
      "         (1)  the identity of such foreign person, including name and address;\n",
      "        </p>\n",
      "        <p>\n",
      "         (2)  the means and source of payment (including any associated financial institution and other identifiers such as credit card number, account number, customer identifier, transaction identifiers, or virtual currency wallet or wallet address identifier);\n",
      "        </p>\n",
      "        <p>\n",
      "         (3)  the electronic mail address and telephonic contact information used to verify a foreign person’s identity; and\n",
      "        </p>\n",
      "        <p>\n",
      "         (4)  the Internet Protocol addresses used for access or administration and the date and time of each such access or administrative action related to ongoing verification of such foreign person’s ownership of such an account; and\n",
      "        </p>\n",
      "        <p>\n",
      "         (C)  methods that foreign resellers of United States IaaS Products must implement to limit all third-party access to the information described in this subsection, except insofar as such access is otherwise consistent with this order and allowed under applicable law;\n",
      "        </p>\n",
      "        <p>\n",
      "         (ii)   Take into consideration the types of accounts maintained by foreign resellers of United States IaaS Products, methods of opening an account, and types of identifying information available to accomplish the objectives of identifying foreign malicious cyber actors using any such products and avoiding the imposition of an undue burden on such resellers; and\n",
      "        </p>\n",
      "        <p>\n",
      "         (iii)  Provide that the Secretary of Commerce, in accordance with such standards and procedures as the Secretary may delineate and in consultation with the Secretary of Defense, the Attorney General, the Secretary of Homeland Security, and the Director of National Intelligence, may exempt a United States IaaS Provider with respect to any specific foreign reseller of their United States IaaS Products, or with respect to any specific type of account or lessee, from the requirements of any regulation issued pursuant to this subsection.  Such standards and procedures may include a finding by the Secretary that such foreign reseller, account, or lessee complies with security best practices to otherwise deter abuse of United States IaaS Products.\n",
      "        </p>\n",
      "        <p>\n",
      "         (e)  The Secretary of Commerce is hereby authorized to take such actions, including the promulgation of rules and regulations, and to employ all powers granted to the President by the International Emergency Economic Powers Act, 50 U.S.C. 1701\n",
      "         <em>\n",
      "          et seq.\n",
      "         </em>\n",
      "         , as may be necessary to carry out the purposes of subsections 4.2(c) and (d) of this section.  Such actions may include a requirement that United States IaaS Providers require foreign resellers of United States IaaS Products to provide United States IaaS Providers verifications relative to those subsections.\n",
      "        </p>\n",
      "        <p>\n",
      "         4.3.  Managing AI in Critical Infrastructure and in Cybersecurity.  (a)  To ensure the protection of critical\n",
      "         <br/>\n",
      "         infrastructure, the following actions shall be taken:\n",
      "        </p>\n",
      "        <p>\n",
      "         (i)    Within 90 days of the date of this order, and at least annually thereafter, the head of each agency with relevant regulatory authority over critical infrastructure and the heads of relevant SRMAs, in coordination with the Director of the Cybersecurity and Infrastructure Security Agency within the Department of Homeland Security for consideration of cross-sector risks, shall evaluate and provide to the Secretary of Homeland Security an assessment of potential risks related to the use of AI in critical infrastructure sectors involved, including ways in which deploying AI may make critical infrastructure systems more vulnerable to critical failures, physical attacks, and cyber attacks, and shall consider ways to mitigate these vulnerabilities.  Independent regulatory agencies are encouraged, as they deem appropriate, to contribute to sector-specific risk assessments.\n",
      "        </p>\n",
      "        <p>\n",
      "         (ii)   Within 150 days of the date of this order, the Secretary of the Treasury shall issue a public report on best practices for financial institutions to manage AI-specific cybersecurity risks.\n",
      "        </p>\n",
      "        <p>\n",
      "         (iii)  Within 180 days of the date of this order, the Secretary of Homeland Security, in coordination with the Secretary of Commerce and with SRMAs and other regulators as determined by the Secretary of Homeland Security, shall incorporate as appropriate the AI Risk Management Framework, NIST AI 100-1, as well as other appropriate security guidance, into relevant safety and security guidelines for use by critical infrastructure owners and operators.\n",
      "        </p>\n",
      "        <p>\n",
      "         (iv)   Within 240 days of the completion of the guidelines described in subsection 4.3(a)(iii) of this section, the Assistant to the President for National Security Affairs and the Director of OMB, in consultation with the Secretary of Homeland Security, shall coordinate work by the heads of agencies with authority over critical infrastructure to develop and take steps for the Federal Government to mandate such guidelines, or appropriate portions thereof, through regulatory or other appropriate action.  Independent regulatory agencies are encouraged, as they deem appropriate, to consider whether to mandate guidance through regulatory action in their areas of authority and responsibility.\n",
      "        </p>\n",
      "        <p>\n",
      "         (v)    The Secretary of Homeland Security shall establish an Artificial Intelligence Safety and Security Board as an advisory committee pursuant to section 871 of the Homeland Security Act of 2002 (Public Law 107-296).  The Advisory Committee shall include AI experts from the private sector, academia, and government, as appropriate, and provide to the Secretary of Homeland Security and the Federal Government’s critical infrastructure community advice, information, or recommendations for improving security, resilience, and incident response related to AI usage in critical infrastructure.\n",
      "        </p>\n",
      "        <p>\n",
      "         (b)  To capitalize on AI’s potential to improve United States cyber defenses:\n",
      "        </p>\n",
      "        <p>\n",
      "         (i)    The Secretary of Defense shall carry out the actions described in subsections 4.3(b)(ii) and (iii) of this section for national security systems, and the Secretary of Homeland Security shall carry out these actions for non-national security systems.  Each shall do so in consultation with the heads of other relevant agencies as the Secretary of Defense and the Secretary of Homeland Security may deem appropriate.\n",
      "        </p>\n",
      "        <p>\n",
      "         (ii)   As set forth in subsection 4.3(b)(i) of this section, within 180 days of the date of this order, the Secretary of Defense and the Secretary of Homeland Security shall, consistent with applicable law, each develop plans for, conduct, and complete an operational pilot project to identify, develop, test, evaluate, and deploy AI capabilities, such as large-language models, to aid in the discovery and remediation of vulnerabilities in critical United States Government software, systems, and networks.\n",
      "        </p>\n",
      "        <p>\n",
      "         (iii)  As set forth in subsection 4.3(b)(i) of this section, within 270 days of the date of this order, the Secretary of Defense and the Secretary of Homeland Security shall each provide a report to the Assistant to the President for National Security Affairs on the results of actions taken pursuant to the plans and operational pilot projects required by subsection 4.3(b)(ii) of this section, including a description of any vulnerabilities found and fixed through the development and deployment of AI capabilities and any lessons learned on how to identify, develop, test, evaluate, and deploy AI capabilities effectively for cyber defense.\n",
      "        </p>\n",
      "        <p>\n",
      "         4.4.  Reducing Risks at the Intersection of AI and CBRN Threats.  (a)  To better understand and mitigate the risk of AI being misused to assist in the development or use of CBRN threats — with a particular focus on biological weapons — the following actions shall be taken:\n",
      "        </p>\n",
      "        <p>\n",
      "         (i)   Within 180 days of the date of this order, the Secretary of Homeland Security, in consultation with the Secretary of Energy and the Director of the Office of Science and Technology Policy (OSTP), shall evaluate the potential for AI to be misused to enable the development or production of CBRN threats, while also considering the benefits and application of AI to counter these threats, including, as appropriate, the results of work conducted under section 8(b) of this order.  The Secretary of Homeland Security shall:\n",
      "        </p>\n",
      "        <p>\n",
      "         (A)  consult with experts in AI and CBRN issues from the Department of Energy, private AI laboratories, academia, and third-party model evaluators, as appropriate, to evaluate AI model capabilities to present CBRN threats — for the sole purpose of guarding against those threats — as well as options for minimizing the risks of AI model misuse to generate or exacerbate those threats; and\n",
      "        </p>\n",
      "        <p>\n",
      "         (B)  submit a report to the President that describes the progress of these efforts, including an assessment of the types of AI models that may present CBRN risks to the United States, and that makes recommendations for regulating or overseeing the training, deployment, publication, or use of these models, including requirements for safety evaluations and guardrails for mitigating potential threats to national security.\n",
      "        </p>\n",
      "        <p>\n",
      "         (ii)  Within 120 days of the date of this order, the Secretary of Defense, in consultation with the Assistant to the President for National Security Affairs and the Director of OSTP, shall enter into a contract with the National Academies of Sciences, Engineering, and Medicine to conduct — and submit to the Secretary of Defense, the Assistant to the President for National Security Affairs, the Director of the Office of Pandemic Preparedness and Response Policy, the Director of OSTP, and the Chair of the Chief Data Officer Council — a study that:\n",
      "        </p>\n",
      "        <p>\n",
      "         (A)  assesses the ways in which AI can increase biosecurity risks, including risks from generative AI models trained on biological data, and makes recommendations on how to mitigate these risks;\n",
      "        </p>\n",
      "        <p>\n",
      "         (B)  considers the national security implications of the use of data and datasets, especially those associated with pathogens and omics studies, that the United States Government hosts, generates, funds the creation of, or otherwise owns, for the training of generative AI models, and makes recommendations on how to mitigate the risks related to the use of these data and datasets;\n",
      "        </p>\n",
      "        <p>\n",
      "         (C)  assesses the ways in which AI applied to biology can be used to reduce biosecurity risks, including recommendations on opportunities to coordinate data and high-performance computing resources; and\n",
      "        </p>\n",
      "        <p>\n",
      "         (D)  considers additional concerns and opportunities at the intersection of AI and synthetic biology that the Secretary of Defense deems appropriate.\n",
      "        </p>\n",
      "        <p>\n",
      "         (b)  To reduce the risk of misuse of synthetic nucleic acids, which could be substantially increased by AI’s capabilities in this area, and improve biosecurity measures for the nucleic acid synthesis industry, the following actions shall be taken:\n",
      "        </p>\n",
      "        <p>\n",
      "         (i)    Within 180 days of the date of this order, the Director of OSTP, in consultation with the Secretary of State, the Secretary of Defense, the Attorney General, the Secretary of Commerce, the Secretary of Health and Human Services (HHS), the Secretary of Energy, the Secretary of Homeland Security, the Director of National Intelligence, and the heads of other relevant agencies as the Director of OSTP may deem appropriate, shall establish a framework, incorporating, as appropriate, existing United States Government guidance, to encourage providers of synthetic nucleic acid sequences to implement comprehensive, scalable, and verifiable synthetic nucleic acid procurement screening mechanisms, including standards and recommended incentives.  As part of this framework, the Director of OSTP shall:\n",
      "        </p>\n",
      "        <p>\n",
      "         (A)  establish criteria and mechanisms for ongoing identification of biological sequences that could be used in a manner that would pose a risk to the national security of the United States; and\n",
      "        </p>\n",
      "        <p>\n",
      "         (B)  determine standardized methodologies and tools for conducting and verifying the performance of sequence synthesis procurement screening, including customer screening approaches to support due diligence with respect to managing security risks posed by purchasers of biological sequences identified in subsection 4.4(b)(i)(A) of this section, and processes for the reporting of concerning activity to enforcement entities.\n",
      "        </p>\n",
      "        <p>\n",
      "         (ii)   Within 180 days of the date of this order, the Secretary of Commerce, acting through the Director of NIST, in coordination with the Director of OSTP, and in consultation with the Secretary of State, the Secretary of HHS, and the heads of other relevant agencies as the Secretary of Commerce may deem appropriate, shall initiate an effort to engage with industry and relevant stakeholders, informed by the framework developed under subsection 4.4(b)(i) of this section, to develop and refine for possible use by synthetic nucleic acid sequence providers:\n",
      "        </p>\n",
      "        <p>\n",
      "         (A)  specifications for effective nucleic acid synthesis procurement screening;\n",
      "        </p>\n",
      "        <p>\n",
      "         (B)  best practices, including security and access controls, for managing sequence-of-concern databases to support such screening;\n",
      "        </p>\n",
      "        <p>\n",
      "         (C)  technical implementation guides for effective screening; and\n",
      "        </p>\n",
      "        <p>\n",
      "         (D)  conformity-assessment best practices and mechanisms.\n",
      "        </p>\n",
      "        <p>\n",
      "         (iii)  Within 180 days of the establishment of the framework pursuant to subsection 4.4(b)(i) of this section, all agencies that fund life-sciences research shall, as appropriate and consistent with applicable law, establish that, as a requirement of funding, synthetic nucleic acid procurement is conducted through providers or manufacturers that adhere to the framework, such as through an attestation from the provider or manufacturer.  The Assistant to the President for National Security Affairs and the Director of OSTP shall coordinate the process of reviewing such funding requirements to facilitate consistency in implementation of the framework across funding agencies.\n",
      "        </p>\n",
      "        <p>\n",
      "         (iv)   In order to facilitate effective implementation of the measures described in subsections 4.4(b)(i)-(iii) of this section, the Secretary of Homeland Security, in consultation with the heads of other relevant agencies as the Secretary of Homeland Security may deem appropriate, shall:\n",
      "        </p>\n",
      "        <p>\n",
      "         (A)  within 180 days of the establishment of the framework pursuant to subsection 4.4(b)(i) of this section, develop a framework to conduct structured evaluation and stress testing of nucleic acid synthesis procurement screening, including the systems developed in accordance with subsections 4.4(b)(i)-(ii) of this section and implemented by providers of synthetic nucleic acid sequences; and\n",
      "        </p>\n",
      "        <p>\n",
      "         (B)  following development of the framework pursuant to subsection 4.4(b)(iv)(A) of this section, submit an annual report to the Assistant to the President for National Security Affairs, the Director of the Office of Pandemic Preparedness and Response Policy, and the Director of OSTP on any results of the activities conducted pursuant to subsection 4.4(b)(iv)(A) of this section, including recommendations, if any, on how to strengthen nucleic acid synthesis procurement screening, including customer screening systems.\n",
      "        </p>\n",
      "        <p>\n",
      "         4.5.  Reducing the Risks Posed by Synthetic Content.\n",
      "        </p>\n",
      "        <figure class=\"wp-block-image size-full\">\n",
      "         <img alt=\"\" class=\"wp-image-86686\" decoding=\"async\" src=\"https://www.whitehouse.gov/wp-content/uploads/2023/10/image.gif\" title=\"Anchor\"/>\n",
      "        </figure>\n",
      "        <figure class=\"wp-block-image size-full\">\n",
      "         <img alt=\"\" class=\"wp-image-86688\" decoding=\"async\" height=\"1\" loading=\"lazy\" src=\"https://www.whitehouse.gov/wp-content/uploads/2023/10/image.gif\" title=\"Anchor\" width=\"1\"/>\n",
      "        </figure>\n",
      "        <p>\n",
      "         To foster capabilities for identifying and labeling synthetic content produced by AI systems, and to establish the authenticity and provenance of digital content, both synthetic and not synthetic, produced by the Federal Government or on its behalf:\n",
      "         <br/>\n",
      "         <br/>\n",
      "         (a)  Within 240 days of the date of this order, the Secretary of Commerce, in consultation with the heads of other relevant agencies as the Secretary of Commerce may deem appropriate, shall submit a report to the Director of OMB and the Assistant to the President for National Security Affairs identifying the existing standards, tools, methods, and practices, as well as the potential development of further science-backed standards and techniques, for:\n",
      "        </p>\n",
      "        <p>\n",
      "         (i)    authenticating content and tracking its provenance;\n",
      "        </p>\n",
      "        <p>\n",
      "         (ii)   labeling synthetic content, such as using watermarking;\n",
      "        </p>\n",
      "        <p>\n",
      "         (iii)  detecting synthetic content;\n",
      "        </p>\n",
      "        <p>\n",
      "         (iv)   preventing generative AI from producing child sexual abuse material or producing non-consensual intimate imagery of real individuals (to include intimate digital depictions of the body or body parts of an identifiable individual);\n",
      "        </p>\n",
      "        <p>\n",
      "         (v)    testing software used for the above purposes; and\n",
      "        </p>\n",
      "        <p>\n",
      "         (vi)   auditing and maintaining synthetic content.\n",
      "         <br/>\n",
      "         <br/>\n",
      "         (b)  Within 180 days of submitting the report required under subsection 4.5(a) of this section, and updated periodically thereafter, the Secretary of Commerce, in coordination with the Director of OMB, shall develop guidance regarding the existing tools and practices for digital content authentication and synthetic content detection measures.  The guidance shall include measures for the purposes listed in subsection 4.5(a) of this section.\n",
      "         <br/>\n",
      "         <br/>\n",
      "         (c)  Within 180 days of the development of the guidance required under subsection 4.5(b) of this section, and updated periodically thereafter, the Director of OMB, in consultation with the Secretary of State; the Secretary of Defense; the Attorney General; the Secretary of Commerce, acting through the Director of NIST; the Secretary of Homeland Security; the Director of National Intelligence; and the heads of other agencies that the Director of OMB deems appropriate, shall — for the purpose of strengthening public confidence in the integrity of official United States Government digital content — issue guidance to agencies for labeling and authenticating such content that they produce or publish.\n",
      "         <br/>\n",
      "         <br/>\n",
      "         (d)  The Federal Acquisition Regulatory Council shall, as appropriate and consistent with applicable law, consider amending the Federal Acquisition Regulation to take into account the guidance established under subsection 4.5 of this section.\n",
      "        </p>\n",
      "        <p>\n",
      "         4.6.  Soliciting Input on Dual-Use Foundation Models with Widely Available Model Weights.  When the weights for a dual-use foundation model are widely available — such as when they are publicly posted on the Internet — there can be substantial benefits to innovation, but also substantial security risks, such as the removal of safeguards within the model.  To address the risks and potential benefits of dual-use foundation models with widely available weights, within 270 days of the date of this order, the Secretary of Commerce, acting through the Assistant Secretary of Commerce for Communications and Information, and in consultation with the Secretary of State, shall:\n",
      "         <br/>\n",
      "         <br/>\n",
      "         (a)  solicit input from the private sector, academia, civil society, and other stakeholders through a public consultation process on potential risks, benefits, other implications, and appropriate policy and regulatory approaches related to dual-use foundation models for which the model weights are widely available, including:\n",
      "        </p>\n",
      "        <p>\n",
      "         (i)    risks associated with actors fine-tuning dual-use foundation models for which the model weights are widely available or removing those models’ safeguards;\n",
      "        </p>\n",
      "        <p>\n",
      "         (ii)   benefits to AI innovation and research, including research into AI safety and risk management, of dual-use foundation models for which the model weights are widely available; and\n",
      "        </p>\n",
      "        <p>\n",
      "         (iii)  potential voluntary, regulatory, and international mechanisms to manage the risks and maximize the benefits of dual-use foundation models for which the model weights are widely available; and\n",
      "         <br/>\n",
      "         <br/>\n",
      "         (b)  based on input from the process described in subsection 4.6(a) of this section, and in consultation with the heads of other relevant agencies as the Secretary of Commerce deems appropriate, submit a report to the President on the potential benefits, risks, and implications of dual-use foundation models for which the model weights are widely available, as well as policy and regulatory recommendations pertaining to those models.\n",
      "        </p>\n",
      "        <p>\n",
      "         4.7.  Promoting Safe Release and Preventing the Malicious Use of Federal Data for AI Training.To improve public data access and manage security risks, and consistent with the objectives of the Open, Public, Electronic, and Necessary Government Data Act (title II of Public Law 115-435) to expand public access to Federal data assets in a machine-readable format while also taking into account security considerations, including the risk that information in an individual data asset in isolation does not pose a security risk but, when combined with other available information, may pose such a risk:\n",
      "         <br/>\n",
      "         <br/>\n",
      "         (a)  within 270 days of the date of this order, the Chief Data Officer Council, in consultation with the Secretary of Defense, the Secretary of Commerce, the Secretary of Energy, the Secretary of Homeland Security, and the Director of National Intelligence, shall develop initial guidelines for performing security reviews, including reviews to identify and manage the potential security risks of releasing Federal data that could aid in the development of CBRN weapons as well as the development of autonomous offensive cyber capabilities, while also providing public access to Federal Government data in line with the goals stated in the Open, Public, Electronic, and Necessary Government Data Act (title II of Public Law 115-435); and\n",
      "        </p>\n",
      "        <p>\n",
      "         (b)  within 180 days of the development of the initial guidelines required by subsection 4.7(a) of this section, agencies shall conduct a security review of all data assets in the comprehensive data inventory required under 44 U.S.C. 3511(a)(1) and (2)(B) and shall take steps, as appropriate and consistent with applicable law, to address the highest-priority potential security risks that releasing that data could raise with respect to CBRN weapons, such as the ways in which that data could be used to train AI systems.\n",
      "        </p>\n",
      "        <p>\n",
      "         4.8.  Directing the Development of a National Security Memorandum.  To develop a coordinated executive branch approach to managing AI’s security risks, the Assistant to the President for National Security Affairs and the Assistant to the President and Deputy Chief of Staff for Policy shall oversee an interagency process with the purpose of, within 270 days of the date of this order, developing and submitting a proposed National Security Memorandum on AI to the President.  The memorandum shall address the governance of AI used as a component of a national security system or for military and intelligence purposes.  The memorandum shall take into account current efforts to govern the development and use of AI for national security systems.  The memorandum shall outline actions for the Department of Defense, the Department of State, other relevant agencies, and the Intelligence Community to address the national security risks and potential benefits posed by AI.  In particular, the memorandum shall:\n",
      "        </p>\n",
      "        <p>\n",
      "         (a)  provide guidance to the Department of Defense, other relevant agencies, and the Intelligence Community on the continued adoption of AI capabilities to advance the United States national security mission, including through directing specific AI assurance and risk-management practices for national security uses of AI that may affect the rights or safety of United States persons and, in appropriate contexts, non-United States persons; and\n",
      "        </p>\n",
      "        <p>\n",
      "         (b)  direct continued actions, as appropriate and consistent with applicable law, to address the potential use of AI systems by adversaries and other foreign actors in ways that threaten the capabilities or objectives of the Department of Defense or the Intelligence Community, or that otherwise pose risks to the security of the United States or its allies and partners.\n",
      "        </p>\n",
      "        <p>\n",
      "         Sec. 5. Promoting Innovation and Competition.\n",
      "        </p>\n",
      "        <p>\n",
      "         5.1.  Attracting AI Talent to the United States.  (a)  Within 90 days of the date of this order, to attract and retain talent in AI and other critical and emerging technologies in the United States economy, the Secretary of State and the Secretary of Homeland Security shall take appropriate steps to:\n",
      "        </p>\n",
      "        <p>\n",
      "         (i)   streamline processing times of visa petitions and applications, including by ensuring timely availability of visa appointments, for noncitizens who seek to travel to the United States to work on, study, or conduct research in AI or other critical and emerging technologies; and\n",
      "        </p>\n",
      "        <p>\n",
      "         (ii)  facilitate continued availability of visa appointments in sufficient volume for applicants with expertise in AI or other critical and emerging technologies.\n",
      "        </p>\n",
      "        <p>\n",
      "         (b)  Within 120 days of the date of this order, the Secretary of State shall:\n",
      "        </p>\n",
      "        <p>\n",
      "         (i)    consider initiating a rulemaking to establish new criteria to designate countries and skills on the Department of State’s Exchange Visitor Skills List as it relates to the 2-year foreign residence requirement for certain J-1 nonimmigrants, including those skills that are critical to the United States;\n",
      "        </p>\n",
      "        <p>\n",
      "         (ii)   consider publishing updates to the 2009 Revised Exchange Visitor Skills List (74 FR 20108); and\n",
      "        </p>\n",
      "        <p>\n",
      "         (iii)  consider implementing a domestic visa renewal program under 22 C.F.R. 41.111(b) to facilitate the ability of qualified applicants, including highly skilled talent in AI and critical and emerging technologies, to continue their work in the United States without unnecessary interruption.\n",
      "        </p>\n",
      "        <p>\n",
      "         (c)  Within 180 days of the date of this order, the Secretary of State shall:\n",
      "        </p>\n",
      "        <p>\n",
      "         (i)   consider initiating a rulemaking to expand the categories of nonimmigrants who qualify for the domestic visa renewal program covered under 22 C.F.R. 41.111(b) to include academic J-1 research scholars and F-1 students in science, technology, engineering, and mathematics (STEM); and\n",
      "        </p>\n",
      "        <p>\n",
      "         (ii)  establish, to the extent permitted by law and available appropriations, a program to identify and attract top talent in AI and other critical and emerging technologies at universities, research institutions, and the private sector overseas, and to establish and increase connections with that talent to educate them on opportunities and resources for research and employment in the United States, including overseas educational components to inform top STEM talent of nonimmigrant and immigrant visa options and potential expedited adjudication of their visa petitions and applications.\n",
      "        </p>\n",
      "        <p>\n",
      "         (d)  Within 180 days of the date of this order, the Secretary of Homeland Security shall:\n",
      "        </p>\n",
      "        <p>\n",
      "         (i)   review and initiate any policy changes the Secretary determines necessary and appropriate to clarify and modernize immigration pathways for experts in AI and other critical and emerging technologies, including O-1A and EB-1 noncitizens of extraordinary ability; EB-2 advanced-degree holders and noncitizens of exceptional ability; and startup founders in AI and other critical and emerging technologies using the International Entrepreneur Rule; and\n",
      "        </p>\n",
      "        <p>\n",
      "         (ii)  continue its rulemaking process to modernize the H-1B program and enhance its integrity and usage, including by experts in AI and other critical and emerging technologies, and consider initiating a rulemaking to enhance the process for noncitizens, including experts in AI and other critical and emerging technologies and their spouses, dependents, and children, to adjust their status to lawful permanent resident.\n",
      "        </p>\n",
      "        <p>\n",
      "         (e)  Within 45 days of the date of this order, for purposes of considering updates to the “Schedule A” list of occupations, 20 C.F.R. 656.5, the Secretary of Labor shall publish a request for information (RFI) to solicit public input, including from industry and worker-advocate communities, identifying AI and other STEM-related occupations, as well as additional occupations across the economy, for which there is an insufficient number of ready, willing, able, and qualified United States workers.\n",
      "        </p>\n",
      "        <p>\n",
      "         (f)  The Secretary of State and the Secretary of Homeland Security shall, consistent with applicable law and implementing regulations, use their discretionary authorities to support and attract foreign nationals with special skills in AI and other critical and emerging technologies seeking to work, study, or conduct research in the United States.\n",
      "        </p>\n",
      "        <p>\n",
      "         (g)  Within 120 days of the date of this order, the Secretary of Homeland Security, in consultation with the Secretary of State, the Secretary of Commerce, and the Director of OSTP, shall develop and publish informational resources to better attract and retain experts in AI and other critical and emerging technologies, including:\n",
      "        </p>\n",
      "        <p>\n",
      "         (i)   a clear and comprehensive guide for experts in AI and other critical and emerging technologies to understand their options for working in the United States, to be published in multiple relevant languages on AI.gov; and\n",
      "        </p>\n",
      "        <p>\n",
      "         (ii)  a public report with relevant data on applications, petitions, approvals, and other key indicators of how experts in AI and other critical and emerging technologies have utilized the immigration system through the end of Fiscal Year 2023.\n",
      "        </p>\n",
      "        <p>\n",
      "         5.2.  Promoting Innovation.  (a)  To develop and strengthen public-private partnerships for advancing innovation, commercialization, and risk-mitigation methods for AI, and to help promote safe, responsible, fair, privacy-protecting, and trustworthy AI systems, the Director of NSF shall take the following steps:\n",
      "        </p>\n",
      "        <p>\n",
      "         (i)    Within 90 days of the date of this order, in coordination with the heads of agencies that the Director of NSF deems appropriate, launch a pilot program implementing the National AI Research Resource (NAIRR), consistent with past recommendations of the NAIRR Task Force.  The program shall pursue the infrastructure, governance mechanisms, and user interfaces to pilot an initial integration of distributed computational, data, model, and training resources to be made available to the research community in support of AI-related research and development.  The Director of NSF shall identify Federal and private sector computational, data, software, and training resources appropriate for inclusion in the NAIRR pilot program.  To assist with such work, within 45 days of the date of this order, the heads of agencies whom the Director of NSF identifies for coordination pursuant to this subsection shall each submit to the Director of NSF a report identifying the agency resources that could be developed and integrated into such a pilot program.  These reports shall include a description of such resources, including their current status and availability; their format, structure, or technical specifications; associated agency expertise that will be provided; and the benefits and risks associated with their inclusion in the NAIRR pilot program.  The heads of independent regulatory agencies are encouraged to take similar steps, as they deem appropriate.\n",
      "        </p>\n",
      "        <p>\n",
      "         (ii)   Within 150 days of the date of this order, fund and launch at least one NSF Regional Innovation Engine that prioritizes AI-related work, such as AI-related research, societal, or workforce needs.\n",
      "        </p>\n",
      "        <p>\n",
      "         (iii)  Within 540 days of the date of this order, establish at least four new National AI Research Institutes, in addition to the 25 currently funded as of the date of this order.\n",
      "        </p>\n",
      "        <p>\n",
      "         (b)  Within 120 days of the date of this order, to support activities involving high-performance and data-intensive computing, the Secretary of Energy, in coordination with the Director of NSF, shall, in a manner consistent with applicable law and available appropriations, establish a pilot program to enhance existing successful training programs for scientists, with the goal of training 500 new researchers by 2025 capable of meeting the rising demand for AI talent.\n",
      "        </p>\n",
      "        <p>\n",
      "         (c)  To promote innovation and clarify issues related to AI and inventorship of patentable subject matter, the Under Secretary of Commerce for Intellectual Property and Director of the United States Patent and Trademark Office (USPTO Director) shall:\n",
      "        </p>\n",
      "        <p>\n",
      "         (i)    within 120 days of the date of this order, publish guidance to USPTO patent examiners and applicants addressing inventorship and the use of AI, including generative AI, in the inventive process, including illustrative examples in which AI systems play different roles in inventive processes and how, in each example, inventorship issues ought to be analyzed;\n",
      "        </p>\n",
      "        <p>\n",
      "         (ii)   subsequently, within 270 days of the date of this order, issue additional guidance to USPTO patent examiners and applicants to address other considerations at the intersection of AI and IP, which could include, as the USPTO Director deems necessary, updated guidance on patent eligibility to address innovation in AI and critical and emerging technologies; and\n",
      "        </p>\n",
      "        <p>\n",
      "         (iii)  within 270 days of the date of this order or 180 days after the United States Copyright Office of the Library of Congress publishes its forthcoming AI study that will address copyright issues raised by AI, whichever comes later, consult with the Director of the United States Copyright Office and issue recommendations to the President on potential executive actions relating to copyright and AI.  The recommendations shall address any copyright and related issues discussed in the United States Copyright Office’s study, including the scope of protection for works produced using AI and the treatment of copyrighted works in AI training.\n",
      "        </p>\n",
      "        <p>\n",
      "         (d)  Within 180 days of the date of this order, to assist developers of AI in combatting AI-related IP risks, the Secretary of Homeland Security, acting through the Director of the National Intellectual Property Rights Coordination Center, and in consultation with the Attorney General, shall develop a training, analysis, and evaluation program to mitigate AI-related IP risks.  Such a program shall:\n",
      "        </p>\n",
      "        <p>\n",
      "         (i)    include appropriate personnel dedicated to collecting and analyzing reports of AI-related IP theft, investigating such incidents with implications for national security, and, where appropriate and consistent with applicable law, pursuing related enforcement actions;\n",
      "        </p>\n",
      "        <p>\n",
      "         (ii)   implement a policy of sharing information and coordinating on such work, as appropriate and consistent with applicable law, with the Federal Bureau of Investigation; United States Customs and Border Protection; other agencies; State and local agencies; and appropriate international organizations, including through work-sharing agreements;\n",
      "        </p>\n",
      "        <p>\n",
      "         (iii)  develop guidance and other appropriate resources to assist private sector actors with mitigating the risks of AI-related IP theft;\n",
      "        </p>\n",
      "        <p>\n",
      "         (iv)   share information and best practices with AI developers and law enforcement personnel to identify incidents, inform stakeholders of current legal requirements, and evaluate AI systems for IP law violations, as well as develop mitigation strategies and resources; and\n",
      "        </p>\n",
      "        <p>\n",
      "         (v)    assist the Intellectual Property Enforcement Coordinator in updating the Intellectual Property Enforcement Coordinator Joint Strategic Plan on Intellectual Property Enforcement to address AI-related issues.\n",
      "        </p>\n",
      "        <p>\n",
      "         (e)  To advance responsible AI innovation by a wide range of healthcare technology developers that promotes the welfare of patients and workers in the healthcare sector, the Secretary of HHS shall identify and, as appropriate and consistent with applicable law and the activities directed in section 8 of this order, prioritize grantmaking and other awards, as well as undertake related efforts, to support responsible AI development and use, including:\n",
      "        </p>\n",
      "        <p>\n",
      "         (i)    collaborating with appropriate private sector actors through HHS programs that may support the advancement of AI-enabled tools that develop personalized immune-response profiles for patients, consistent with section 4 of this order;\n",
      "        </p>\n",
      "        <p>\n",
      "         (ii)   prioritizing the allocation of 2024 Leading Edge Acceleration Project cooperative agreement awards to initiatives that explore ways to improve healthcare-data quality to support the responsible development of AI tools for clinical care, real-world-evidence programs, population health, public health, and related research; and\n",
      "        </p>\n",
      "        <p>\n",
      "         (iii)  accelerating grants awarded through the National Institutes of Health Artificial Intelligence/Machine Learning Consortium to Advance Health Equity and Researcher Diversity (AIM-AHEAD) program and showcasing current AIM-AHEAD activities in underserved communities.\n",
      "        </p>\n",
      "        <p>\n",
      "         (f)  To advance the development of AI systems that improve the quality of veterans’ healthcare, and in order to support small businesses’ innovative capacity, the Secretary of Veterans Affairs shall:\n",
      "        </p>\n",
      "        <p>\n",
      "         (i)   within 365 days of the date of this order, host two 3-month nationwide AI Tech Sprint competitions; and\n",
      "        </p>\n",
      "        <p>\n",
      "         (ii)  as part of the AI Tech Sprint competitions and in collaboration with appropriate partners, provide participants access to technical assistance, mentorship opportunities, individualized expert feedback on products under development, potential contract opportunities, and other programming and resources.\n",
      "        </p>\n",
      "        <p>\n",
      "         (g)  Within 180 days of the date of this order, to support the goal of strengthening our Nation’s resilience against climate change impacts and building an equitable clean energy economy for the future, the Secretary of Energy, in consultation with the Chair of the Federal Energy Regulatory Commission, the Director of OSTP, the Chair of the Council on Environmental Quality, the Assistant to the President and National Climate Advisor, and the heads of other relevant agencies as the Secretary of Energy may deem appropriate, shall:\n",
      "        </p>\n",
      "        <p>\n",
      "         (i)    issue a public report describing the potential for AI to improve planning, permitting, investment, and operations for electric grid infrastructure and to enable the provision of clean, affordable, reliable, resilient, and secure electric power to all Americans;\n",
      "        </p>\n",
      "        <p>\n",
      "         (ii)   develop tools that facilitate building foundation models useful for basic and applied science, including models that streamline permitting and environmental reviews while improving environmental and social outcomes;\n",
      "        </p>\n",
      "        <p>\n",
      "         (iii)  collaborate, as appropriate, with private sector organizations and members of academia to support development of AI tools to mitigate climate change risks;\n",
      "        </p>\n",
      "        <p>\n",
      "         (iv)   take steps to expand partnerships with industry, academia, other agencies, and international allies and partners to utilize the Department of Energy’s computing capabilities and AI testbeds to build foundation models that support new applications in science and energy, and for national security, including partnerships that increase community preparedness for climate-related risks, enable clean-energy deployment (including addressing delays in permitting reviews), and enhance grid reliability and resilience; and\n",
      "        </p>\n",
      "        <p>\n",
      "         (v)    establish an office to coordinate development of AI and other critical and emerging technologies across Department of Energy programs and the 17 National Laboratories.\n",
      "        </p>\n",
      "        <p>\n",
      "         (h)  Within 180 days of the date of this order, to understand AI’s implications for scientific research, the President’s Council of Advisors on Science and Technology shall submit to the President and make publicly available a report on the potential role of AI, especially given recent developments in AI, in research aimed at tackling major societal and global challenges.  The report shall include a discussion of issues that may hinder the effective use of AI in research and practices needed to ensure that AI is used responsibly for research.\n",
      "        </p>\n",
      "        <p>\n",
      "         5.3.  Promoting Competition.  (a)  The head of each agency developing policies and regulations related to AI shall use their authorities, as appropriate and consistent with applicable law, to promote competition in AI and related technologies, as well as in other markets.  Such actions include addressing risks arising from concentrated control of key inputs, taking steps to stop unlawful collusion and prevent dominant firms from disadvantaging competitors, and working to provide new opportunities for small businesses and entrepreneurs.  In particular, the Federal Trade Commission is encouraged to consider, as it deems appropriate, whether to exercise the Commission’s existing authorities, including its rulemaking authority under the Federal Trade Commission Act, 15 U.S.C. 41\n",
      "         <em>\n",
      "          et seq\n",
      "         </em>\n",
      "         ., to ensure fair competition in the AI marketplace and to ensure that consumers and workers are protected from harms that may be enabled by the use of AI.\n",
      "        </p>\n",
      "        <p>\n",
      "         (b)  To promote competition and innovation in the semiconductor industry, recognizing that semiconductors power AI technologies and that their availability is critical to AI competition, the Secretary of Commerce shall, in implementing division A of Public Law 117-167, known as the Creating Helpful Incentives to Produce Semiconductors (CHIPS) Act of 2022, promote competition by:\n",
      "        </p>\n",
      "        <p>\n",
      "         (i)    implementing a flexible membership structure for the National Semiconductor Technology Center that attracts all parts of the semiconductor and microelectronics ecosystem, including startups and small firms;\n",
      "        </p>\n",
      "        <p>\n",
      "         (ii)   implementing mentorship programs to increase interest and participation in the semiconductor industry, including from workers in underserved communities;\n",
      "        </p>\n",
      "        <p>\n",
      "         (iii)  increasing, where appropriate and to the extent permitted by law, the availability of resources to startups and small businesses, including:\n",
      "        </p>\n",
      "        <p>\n",
      "         (A)  funding for physical assets, such as specialty equipment or facilities, to which startups and small businesses may not otherwise have access;\n",
      "        </p>\n",
      "        <p>\n",
      "         (B)  datasets — potentially including test and performance data — collected, aggregated, or shared by CHIPS research and development programs;\n",
      "        </p>\n",
      "        <p>\n",
      "         (C)  workforce development programs;\n",
      "        </p>\n",
      "        <p>\n",
      "         (D)  design and process technology, as well as IP, as appropriate; and\n",
      "        </p>\n",
      "        <p>\n",
      "         (E)  other resources, including technical and intellectual property assistance, that could accelerate commercialization of new technologies by startups and small businesses, as appropriate; and\n",
      "        </p>\n",
      "        <p>\n",
      "         (iv)   considering the inclusion, to the maximum extent possible, and as consistent with applicable law, of competition-increasing measures in notices of funding availability for commercial research-and-development facilities focused on semiconductors, including measures that increase access to facility capacity for startups or small firms developing semiconductors used to power AI technologies.\n",
      "        </p>\n",
      "        <p>\n",
      "         (c)  To support small businesses innovating and commercializing AI, as well as in responsibly adopting and deploying AI, the Administrator of the Small Business Administration shall:\n",
      "        </p>\n",
      "        <p>\n",
      "         (i)    prioritize the allocation of Regional Innovation Cluster program funding for clusters that support planning activities related to the establishment of one or more Small Business AI Innovation and Commercialization Institutes that provide support, technical assistance, and other resources to small businesses seeking to innovate, commercialize, scale, or otherwise advance the development of AI;\n",
      "        </p>\n",
      "        <p>\n",
      "         (ii)   prioritize the allocation of up to $2 million in Growth Accelerator Fund Competition bonus prize funds for accelerators that support the incorporation or expansion of AI-related curricula, training, and technical assistance, or other AI-related resources within their programming; and\n",
      "        </p>\n",
      "        <p>\n",
      "         (iii)  assess the extent to which the eligibility criteria of existing programs, including the State Trade Expansion Program, Technical and Business Assistance funding, and capital-access programs — such as the 7(a) loan program, 504 loan program, and Small Business Investment Company (SBIC) program — support appropriate expenses by small businesses related to the adoption of AI and, if feasible and appropriate, revise eligibility criteria to improve support for these expenses.\n",
      "        </p>\n",
      "        <p>\n",
      "         (d)  The Administrator of the Small Business Administration, in coordination with resource partners, shall conduct outreach regarding, and raise awareness of, opportunities for small businesses to use capital-access programs described in subsection 5.3(c) of this section for eligible AI-related purposes, and for eligible investment funds with AI-related expertise — particularly those seeking to serve or with experience serving underserved communities — to apply for an SBIC license.\n",
      "        </p>\n",
      "        <p>\n",
      "         Sec. 6.  Supporting Workers.(a)  To advance the Government’s understanding of AI’s implications for workers, the following actions shall be taken within 180 days of the date of this order:\n",
      "        </p>\n",
      "        <p>\n",
      "         (i)   The Chairman of the Council of Economic Advisers shall prepare and submit a report to the President on the labor-market effects of AI.\n",
      "        </p>\n",
      "        <p>\n",
      "         (ii)  To evaluate necessary steps for the Federal Government to address AI-related workforce disruptions, the Secretary of Labor shall submit to the President a report analyzing the abilities of agencies to support workers displaced by the adoption of AI and other technological advancements.  The report shall, at a minimum:\n",
      "        </p>\n",
      "        <p>\n",
      "         (A)  assess how current or formerly operational Federal programs designed to assist workers facing job disruptions — including unemployment insurance and programs authorized by the Workforce Innovation and Opportunity Act (Public Law 113-128) — could be used to respond to possible future AI-related disruptions; and\n",
      "        </p>\n",
      "        <p>\n",
      "         (B)  identify options, including potential legislative measures, to strengthen or develop additional Federal support for workers displaced by AI and, in consultation with the Secretary of Commerce and the Secretary of Education, strengthen and expand education and training opportunities that provide individuals pathways to occupations related to AI.\n",
      "        </p>\n",
      "        <p>\n",
      "         (b)  To help ensure that AI deployed in the workplace advances employees’ well-being:\n",
      "        </p>\n",
      "        <p>\n",
      "         (i)    The Secretary of Labor shall, within 180 days of the date of this order and in consultation with other agencies and with outside entities, including labor unions and workers, as the Secretary of Labor deems appropriate, develop and publish principles and best practices for employers that could be used to mitigate AI’s potential harms to employees’ well-being and maximize its potential benefits.  The principles and best practices shall include specific steps for employers to take with regard to AI, and shall cover, at a minimum:\n",
      "        </p>\n",
      "        <p>\n",
      "         (A)  job-displacement risks and career opportunities related to AI, including effects on job skills and evaluation of applicants and workers;\n",
      "        </p>\n",
      "        <p>\n",
      "         (B)  labor standards and job quality, including issues related to the equity, protected-activity, compensation, health, and safety implications of AI in the workplace; and\n",
      "        </p>\n",
      "        <p>\n",
      "         (C)  implications for workers of employers’ AI-related collection and use of data about them, including transparency, engagement, management, and activity protected under worker-protection laws.\n",
      "        </p>\n",
      "        <p>\n",
      "         (ii)   After principles and best practices are developed pursuant to subsection (b)(i) of this section, the heads of agencies shall consider, in consultation with the Secretary of Labor, encouraging the adoption of these guidelines in their programs to the extent appropriate for each program and consistent with applicable law.\n",
      "        </p>\n",
      "        <p>\n",
      "         (iii)  To support employees whose work is monitored or augmented by AI in being compensated appropriately for all of their work time, the Secretary of Labor shall issue guidance to make clear that employers that deploy AI to monitor or augment employees’ work must continue to comply with protections that ensure that workers are compensated for their hours worked, as defined under the Fair Labor Standards Act of 1938, 29 U.S.C. 201\n",
      "         <em>\n",
      "          et seq.\n",
      "         </em>\n",
      "         , and other legal requirements.\n",
      "        </p>\n",
      "        <p>\n",
      "         (c)  To foster a diverse AI-ready workforce, the Director of NSF shall prioritize available resources to support AI-related education and AI-related workforce development through existing programs.  The Director shall additionally consult with agencies, as appropriate, to identify further opportunities for agencies to allocate resources for those purposes.  The actions by the Director shall use appropriate fellowship programs and awards for these purposes.\n",
      "        </p>\n",
      "        <p>\n",
      "         Sec. 7.  Advancing Equity and Civil Rights.\n",
      "        </p>\n",
      "        <p>\n",
      "         7.1.  Strengthening AI and Civil Rights in the Criminal Justice System.  (a)  To address unlawful discrimination and other harms that may be exacerbated by AI, the Attorney General shall:\n",
      "        </p>\n",
      "        <p>\n",
      "         (i)    consistent with Executive Order 12250 of November 2, 1980 (Leadership and Coordination of Nondiscrimination Laws), Executive Order 14091, and 28 C.F.R. 0.50-51, coordinate with and support agencies in their implementation and enforcement of existing Federal laws to address civil rights and civil liberties violations and discrimination related to AI;\n",
      "        </p>\n",
      "        <p>\n",
      "         (ii)   direct the Assistant Attorney General in charge of the Civil Rights Division to convene, within 90 days of the date of this order, a meeting of the heads of Federal civil rights offices — for which meeting the heads of civil rights offices within independent regulatory agencies will be encouraged to join — to discuss comprehensive use of their respective authorities and offices to:  prevent and address discrimination in the use of automated systems, including algorithmic discrimination; increase coordination between the Department of Justice’s Civil Rights Division and Federal civil rights offices concerning issues related to AI and algorithmic discrimination; improve external stakeholder engagement to promote public awareness of potential discriminatory uses and effects of AI; and develop, as appropriate, additional training, technical assistance, guidance, or other resources; and\n",
      "        </p>\n",
      "        <p>\n",
      "         (iii)  consider providing, as appropriate and consistent with applicable law, guidance, technical assistance, and training to State, local, Tribal, and territorial investigators and prosecutors on best practices for investigating and prosecuting civil rights violations and discrimination related to automated systems, including AI.\n",
      "        </p>\n",
      "        <p>\n",
      "         (b)  To promote the equitable treatment of individuals and adhere to the Federal Government’s fundamental obligation to ensure fair and impartial justice for all, with respect to the use of AI in the criminal justice system, the Attorney General shall, in consultation with the Secretary of Homeland Security and the Director of OSTP:\n",
      "        </p>\n",
      "        <p>\n",
      "         (i)    within 365 days of the date of this order, submit to the President a report that addresses the use of AI in the criminal justice system, including any use in:\n",
      "        </p>\n",
      "        <p>\n",
      "         (A)  sentencing;\n",
      "        </p>\n",
      "        <p>\n",
      "         (B)  parole, supervised release, and probation;\n",
      "        </p>\n",
      "        <p>\n",
      "         (C)  bail, pretrial release, and pretrial detention;\n",
      "        </p>\n",
      "        <p>\n",
      "         (D)  risk assessments, including pretrial, earned time, and early release or transfer to home-confinement determinations;\n",
      "        </p>\n",
      "        <p>\n",
      "         (E)  police surveillance;\n",
      "        </p>\n",
      "        <p>\n",
      "         (F)  crime forecasting and predictive policing, including the ingestion of historical crime data into AI systems to predict high-density “hot spots”;\n",
      "        </p>\n",
      "        <p>\n",
      "         (G)  prison-management tools; and\n",
      "        </p>\n",
      "        <p>\n",
      "         (H)  forensic analysis;\n",
      "        </p>\n",
      "        <p>\n",
      "         (ii)   within the report set forth in subsection 7.1(b)(i) of this section:\n",
      "        </p>\n",
      "        <p>\n",
      "         (A)  identify areas where AI can enhance law enforcement efficiency and accuracy, consistent with protections for privacy, civil rights, and civil liberties; and\n",
      "        </p>\n",
      "        <p>\n",
      "         (B)  recommend best practices for law enforcement agencies, including safeguards and appropriate use limits for AI, to address the concerns set forth in section 13(e)(i) of Executive Order 14074 as well as the best practices and the guidelines set forth in section 13(e)(iii) of Executive Order 14074; and\n",
      "        </p>\n",
      "        <p>\n",
      "         (iii)  supplement the report set forth in subsection 7.1(b)(i) of this section as appropriate with recommendations to the President, including with respect to requests for necessary legislation.\n",
      "        </p>\n",
      "        <p>\n",
      "         (c)  To advance the presence of relevant technical experts and expertise (such as machine-learning engineers, software and infrastructure engineering, data privacy experts, data scientists, and user experience researchers) among law enforcement professionals:\n",
      "        </p>\n",
      "        <p>\n",
      "         (i)    The interagency working group created pursuant to section 3 of Executive Order 14074 shall, within 180 days of the date of this order, identify and share best practices for recruiting and hiring law enforcement professionals who have the technical skills mentioned in subsection 7.1(c) of this section, and for training law enforcement professionals about responsible application of AI.\n",
      "        </p>\n",
      "        <p>\n",
      "         (ii)   Within 270 days of the date of this order, the Attorney General shall, in consultation with the Secretary of Homeland Security, consider those best practices and the guidance developed under section 3(d) of Executive Order 14074 and, if necessary, develop additional general recommendations for State, local, Tribal, and territorial law enforcement agencies and criminal justice agencies seeking to recruit, hire, train, promote, and retain highly qualified and service-oriented officers and staff with relevant technical knowledge.  In considering this guidance, the Attorney General shall consult with State, local, Tribal, and territorial law enforcement agencies, as appropriate.\n",
      "        </p>\n",
      "        <p>\n",
      "         (iii)  Within 365 days of the date of this order, the Attorney General shall review the work conducted pursuant to section 2(b) of Executive Order 14074 and, if appropriate, reassess the existing capacity to investigate law enforcement deprivation of rights under color of law resulting from the use of AI, including through improving and increasing training of Federal law enforcement officers, their supervisors, and Federal prosecutors on how to investigate and prosecute cases related to AI involving the deprivation of rights under color of law pursuant to 18 U.S.C. 242.\n",
      "        </p>\n",
      "        <p>\n",
      "         7.2.  Protecting Civil Rights Related to Government Benefits and Programs.  (a)  To advance equity and civil rights, consistent with the directives of Executive Order 14091, and in addition to complying with the guidance on Federal Government use of AI issued pursuant to section 10.1(b) of this order, agencies shall use their respective civil rights and civil liberties offices and authorities — as appropriate and consistent with applicable law — to prevent and address unlawful discrimination and other harms that result from uses of AI in Federal Government programs and benefits administration.  This directive does not apply to agencies’ civil or criminal enforcement authorities.  Agencies shall consider opportunities to ensure that their respective civil rights and civil liberties offices are appropriately consulted on agency decisions regarding the design, development, acquisition, and use of AI in Federal Government programs and benefits administration.  To further these objectives, agencies shall also consider opportunities to increase coordination, communication, and engagement about AI as appropriate with community-based organizations; civil-rights and civil-liberties organizations; academic institutions; industry; State, local, Tribal, and territorial governments; and other stakeholders.\n",
      "        </p>\n",
      "        <p>\n",
      "         (b)  To promote equitable administration of public benefits:\n",
      "        </p>\n",
      "        <p>\n",
      "         (i)   The Secretary of HHS shall, within 180 days of the date of this order and in consultation with relevant agencies, publish a plan, informed by the guidance issued pursuant to section 10.1(b) of this order, addressing the use of automated or algorithmic systems in the implementation by States and localities of public benefits and services administered by the Secretary, such as to promote:  assessment of access to benefits by qualified recipients; notice to recipients about the presence of such systems; regular evaluation to detect unjust denials; processes to retain appropriate levels of discretion of expert agency staff; processes to appeal denials to human reviewers; and analysis of whether algorithmic systems in use by benefit programs achieve equitable and just outcomes.\n",
      "        </p>\n",
      "        <p>\n",
      "         (ii)  The Secretary of Agriculture shall, within 180 days of the date of this order and as informed by the guidance issued pursuant to section 10.1(b) of this order, issue guidance to State, local, Tribal, and territorial public-benefits administrators on the use of automated or algorithmic systems in implementing benefits or in providing customer support for benefit programs administered by the Secretary, to ensure that programs using those systems:\n",
      "        </p>\n",
      "        <p>\n",
      "         (A)  maximize program access for eligible recipients;\n",
      "        </p>\n",
      "        <p>\n",
      "         (B)  employ automated or algorithmic systems in a manner consistent with any requirements for using merit systems personnel in public-benefits programs;\n",
      "        </p>\n",
      "        <p>\n",
      "         (C)  identify instances in which reliance on automated or algorithmic systems would require notification by the State, local, Tribal, or territorial government to the Secretary;\n",
      "        </p>\n",
      "        <p>\n",
      "         (D)  identify instances when applicants and participants can appeal benefit determinations to a human reviewer for reconsideration and can receive other customer support from a human being;\n",
      "        </p>\n",
      "        <p>\n",
      "         (E)  enable auditing and, if necessary, remediation of the logic used to arrive at an individual decision or determination to facilitate the evaluation of appeals; and\n",
      "        </p>\n",
      "        <p>\n",
      "         (F)  enable the analysis of whether algorithmic systems in use by benefit programs achieve equitable outcomes.\n",
      "        </p>\n",
      "        <p>\n",
      "         7.3.  Strengthening AI and Civil Rights in the Broader Economy.  (a)  Within 365 days of the date of this order, to prevent unlawful discrimination from AI used for hiring, the Secretary of Labor shall publish guidance for Federal contractors regarding nondiscrimination in hiring involving AI and other technology-based hiring systems.\n",
      "        </p>\n",
      "        <p>\n",
      "         (b)  To address discrimination and biases against protected groups in housing markets and consumer financial markets, the Director of the Federal Housing Finance Agency and the Director of the Consumer Financial Protection Bureau are encouraged to consider using their authorities, as they deem appropriate, to require their respective regulated entities, where possible, to use appropriate methodologies including AI tools to ensure compliance with Federal law and:\n",
      "        </p>\n",
      "        <p>\n",
      "         (i)   evaluate their underwriting models for bias or disparities affecting protected groups; and\n",
      "        </p>\n",
      "        <p>\n",
      "         (ii)  evaluate automated collateral-valuation and appraisal processes in ways that minimize bias.\n",
      "        </p>\n",
      "        <p>\n",
      "         (c)  Within 180 days of the date of this order, to combat unlawful discrimination enabled by automated or algorithmic tools used to make decisions about access to housing and in other real estate-related transactions, the Secretary of Housing and Urban Development shall, and the Director of the Consumer Financial Protection Bureau is encouraged to, issue additional guidance:\n",
      "        </p>\n",
      "        <p>\n",
      "         (i)   addressing the use of tenant screening systems in ways that may violate the Fair Housing Act (Public Law 90-284), the Fair Credit Reporting Act (Public Law 91-508), or other relevant Federal laws, including how the use of data, such as criminal records, eviction records, and credit information, can lead to discriminatory outcomes in violation of Federal law; and\n",
      "        </p>\n",
      "        <p>\n",
      "         (ii)  addressing how the Fair Housing Act, the Consumer Financial Protection Act of 2010 (title X of Public Law 111-203), or the Equal Credit Opportunity Act (Public Law 93-495) apply to the advertising of housing, credit, and other real estate-related transactions through digital platforms, including those that use algorithms to facilitate advertising delivery, as well as on best practices to avoid violations of Federal law.\n",
      "        </p>\n",
      "        <p>\n",
      "         (d)  To help ensure that people with disabilities benefit from AI’s promise while being protected from its risks, including unequal treatment from the use of biometric data like gaze direction, eye tracking, gait analysis, and hand motions, the Architectural and Transportation Barriers Compliance Board is encouraged, as it deems appropriate, to solicit public participation and conduct community engagement; to issue technical assistance and recommendations on the risks and benefits of AI in using biometric data as an input; and to provide people with disabilities access to information and communication technology and transportation services.\n",
      "        </p>\n",
      "        <p>\n",
      "         Sec. 8.  Protecting Consumers, Patients, Passengers, and Students.  (a)  Independent regulatory agencies are encouraged, as they deem appropriate, to consider using their full range of authorities to protect American consumers from fraud, discrimination, and threats to privacy and to address other risks that may arise from the use of AI, including risks to financial stability, and to consider rulemaking, as well as emphasizing or clarifying where existing regulations and guidance apply to AI, including clarifying the responsibility of regulated entities to conduct due diligence on and monitor any third-party AI services they use, and emphasizing or clarifying requirements and expectations related to the transparency of AI models and regulated entities’ ability to explain their use of AI models.\n",
      "        </p>\n",
      "        <p>\n",
      "         (b)  To help ensure the safe, responsible deployment and use of AI in the healthcare, public-health, and human-services sectors:\n",
      "        </p>\n",
      "        <p>\n",
      "         (i)    Within 90 days of the date of this order, the Secretary of HHS shall, in consultation with the Secretary of Defense and the Secretary of Veterans Affairs, establish an HHS AI Task Force that shall, within 365 days of its creation, develop a strategic plan that includes policies and frameworks — possibly including regulatory action, as appropriate — on responsible deployment and use of AI and AI-enabled technologies in the health and human services sector (including research and discovery, drug and device safety, healthcare delivery and financing, and public health), and identify appropriate guidance and\n",
      "         <br/>\n",
      "         resources to promote that deployment, including in the following areas:\n",
      "        </p>\n",
      "        <p>\n",
      "         (A)  development, maintenance, and use of predictive and generative AI-enabled technologies in healthcare delivery and financing — including quality measurement, performance improvement, program integrity, benefits administration, and patient experience — taking into account considerations such as appropriate human oversight of the application of AI-generated output;\n",
      "        </p>\n",
      "        <p>\n",
      "         (B)  long-term safety and real-world performance monitoring of AI-enabled technologies in the health and human services sector, including clinically relevant or significant modifications and performance across population groups, with a means to communicate product updates to regulators, developers, and users;\n",
      "        </p>\n",
      "        <p>\n",
      "         (C)  incorporation of equity principles in AI-enabled technologies used in the health and human services sector, using disaggregated data on affected populations and representative population data sets when developing new models, monitoring algorithmic performance against discrimination and bias in existing models, and helping to identify and mitigate discrimination and bias in current systems;\n",
      "        </p>\n",
      "        <p>\n",
      "         (D)  incorporation of safety, privacy, and security standards into the software-development lifecycle for protection of personally identifiable information, including measures to address AI-enhanced cybersecurity threats in the health and human services sector;\n",
      "        </p>\n",
      "        <p>\n",
      "         (E)  development, maintenance, and availability of documentation to help users determine appropriate and safe uses of AI in local settings in the health and human services sector;\n",
      "        </p>\n",
      "        <p>\n",
      "         (F)  work to be done with State, local, Tribal, and territorial health and human services agencies to advance positive use cases and best practices for use of AI in local settings; and\n",
      "        </p>\n",
      "        <p>\n",
      "         (G)  identification of uses of AI to promote workplace efficiency and satisfaction in the health and human services sector, including reducing administrative burdens.\n",
      "        </p>\n",
      "        <p>\n",
      "         (ii)   Within 180 days of the date of this order, the Secretary of HHS shall direct HHS components, as the Secretary of HHS deems appropriate, to develop a strategy, in consultation with relevant agencies, to determine whether AI-enabled technologies in the health and human services sector maintain appropriate levels of quality, including, as appropriate, in the areas described in subsection (b)(i) of this section.  This work shall include the development of AI assurance policy — to evaluate important aspects of the performance of AI-enabled healthcare tools — and infrastructure needs for enabling pre-market assessment and post-market oversight of AI-enabled healthcare-technology algorithmic system performance against real-world data.\n",
      "        </p>\n",
      "        <p>\n",
      "         (iii)  Within 180 days of the date of this order, the Secretary of HHS shall, in consultation with relevant agencies as the Secretary of HHS deems appropriate, consider appropriate actions to advance the prompt understanding of, and compliance with, Federal nondiscrimination laws by health and human services providers that receive Federal financial assistance, as well as how those laws relate to AI.  Such actions may include:\n",
      "        </p>\n",
      "        <p>\n",
      "         (A)  convening and providing technical assistance to health and human services providers and payers about their obligations under Federal nondiscrimination and privacy laws as they relate to AI and the potential consequences of noncompliance; and\n",
      "        </p>\n",
      "        <p>\n",
      "         (B)  issuing guidance, or taking other action as appropriate, in response to any complaints or other reports of noncompliance with Federal nondiscrimination and privacy laws as they relate to AI.\n",
      "        </p>\n",
      "        <p>\n",
      "         (iv)   Within 365 days of the date of this order, the Secretary of HHS shall, in consultation with the Secretary of Defense and the Secretary of Veterans Affairs, establish an AI safety program that, in partnership with voluntary federally listed Patient Safety Organizations:\n",
      "        </p>\n",
      "        <p>\n",
      "         (A)  establishes a common framework for approaches to identifying and capturing clinical errors resulting from AI deployed in healthcare settings as well as specifications for a central tracking repository for associated incidents that cause harm, including through bias or discrimination, to patients, caregivers, or other parties;\n",
      "        </p>\n",
      "        <p>\n",
      "         (B)  analyzes captured data and generated evidence to develop, wherever appropriate, recommendations, best practices, or other informal guidelines aimed at avoiding these harms; and\n",
      "        </p>\n",
      "        <p>\n",
      "         (C)  disseminates those recommendations, best practices, or other informal guidance to appropriate stakeholders, including healthcare providers.\n",
      "        </p>\n",
      "        <p>\n",
      "         (v)    Within 365 days of the date of this order, the Secretary of HHS shall develop a strategy for regulating the use of AI or AI-enabled tools in drug-development processes.  The strategy shall, at a minimum:\n",
      "        </p>\n",
      "        <p>\n",
      "         (A)  define the objectives, goals, and high-level principles required for appropriate regulation throughout each phase of drug development;\n",
      "        </p>\n",
      "        <p>\n",
      "         (B)  identify areas where future rulemaking, guidance, or additional statutory authority may be necessary to implement such a regulatory system;\n",
      "        </p>\n",
      "        <p>\n",
      "         (C)  identify the existing budget, resources, personnel, and potential for new public/private partnerships necessary for such a regulatory system; and\n",
      "        </p>\n",
      "        <p>\n",
      "         (D)  consider risks identified by the actions undertaken to implement section 4 of this order.\n",
      "        </p>\n",
      "        <p>\n",
      "         (c)  To promote the safe and responsible development and use of AI in the transportation sector, in consultation with relevant agencies:\n",
      "        </p>\n",
      "        <p>\n",
      "         (i)    Within 30 days of the date of this order, the Secretary of Transportation shall direct the Nontraditional and Emerging Transportation Technology (NETT) Council to assess the need for information, technical assistance, and guidance regarding the use of AI in transportation.  The Secretary of Transportation shall further direct the NETT Council, as part of any such efforts, to:\n",
      "        </p>\n",
      "        <p>\n",
      "         (A)  support existing and future initiatives to pilot transportation-related applications of AI, as they align with policy priorities articulated in the Department of Transportation’s (DOT) Innovation Principles, including, as appropriate, through technical assistance and connecting stakeholders;\n",
      "        </p>\n",
      "        <p>\n",
      "         (B)  evaluate the outcomes of such pilot programs in order to assess when DOT, or other Federal or State agencies, have sufficient information to take regulatory actions, as appropriate, and recommend appropriate actions when that information is available; and\n",
      "        </p>\n",
      "        <p>\n",
      "         (C)  establish a new DOT Cross-Modal Executive Working Group, which will consist of members from different divisions of DOT and coordinate applicable work among these divisions, to solicit and use relevant input from appropriate stakeholders.\n",
      "        </p>\n",
      "        <p>\n",
      "         (ii)   Within 90 days of the date of this order, the Secretary of Transportation shall direct appropriate Federal Advisory Committees of the DOT to provide advice on the safe and responsible use of AI in transportation.  The committees shall include the Advanced Aviation Advisory Committee, the Transforming Transportation Advisory Committee, and the Intelligent Transportation Systems Program Advisory Committee.\n",
      "        </p>\n",
      "        <p>\n",
      "         (iii)  Within 180 days of the date of this order, the Secretary of Transportation shall direct the Advanced Research Projects Agency-Infrastructure (ARPA-I) to explore the transportation-related opportunities and challenges of AI — including regarding software-defined AI enhancements impacting autonomous mobility ecosystems.  The Secretary of Transportation shall further encourage ARPA-I to prioritize the allocation of grants to those opportunities, as appropriate.  The work tasked to ARPA-I shall include soliciting input on these topics through a public consultation process, such as an RFI.\n",
      "        </p>\n",
      "        <p>\n",
      "         (d)  To help ensure the responsible development and deployment of AI in the education sector, the Secretary of Education shall, within 365 days of the date of this order, develop resources, policies, and guidance regarding AI.  These resources shall address safe, responsible, and nondiscriminatory uses of AI in education, including the impact AI systems have on vulnerable and underserved communities, and shall be developed in consultation with stakeholders as appropriate.  They shall also include the development of an “AI toolkit” for education leaders implementing recommendations from the Department of Education’s AI and the Future of Teaching and Learning report, including appropriate human review of AI decisions, designing AI systems to enhance trust and safety and align with privacy-related laws and regulations in the educational context, and developing education-specific guardrails.\n",
      "        </p>\n",
      "        <p>\n",
      "         (e)  The Federal Communications Commission is encouraged to consider actions related to how AI will affect communications networks and consumers, including by:\n",
      "        </p>\n",
      "        <p>\n",
      "         (i)    examining the potential for AI to improve spectrum management, increase the efficiency of non-Federal spectrum usage, and expand opportunities for the sharing of non-Federal spectrum;\n",
      "        </p>\n",
      "        <p>\n",
      "         (ii)   coordinating with the National Telecommunications and Information Administration to create opportunities for sharing spectrum between Federal and non-Federal spectrum operations;\n",
      "        </p>\n",
      "        <p>\n",
      "         (iii)  providing support for efforts to improve network security, resiliency, and interoperability using next-generation technologies that incorporate AI, including self-healing networks, 6G, and Open RAN; and\n",
      "        </p>\n",
      "        <p>\n",
      "         (iv)   encouraging, including through rulemaking, efforts to combat unwanted robocalls and robotexts that are facilitated or exacerbated by AI and to deploy AI technologies that better serve consumers by blocking unwanted robocalls and robotexts.\n",
      "        </p>\n",
      "        <p>\n",
      "         Sec. 9.  Protecting Privacy.  (a)  To mitigate privacy risks potentially exacerbated by AI — including by AI’s facilitation of the collection or use of information about individuals, or the making of inferences about individuals — the Director of OMB shall:\n",
      "        </p>\n",
      "        <p>\n",
      "         (i)    evaluate and take steps to identify commercially available information (CAI) procured by agencies, particularly CAI that contains personally identifiable information and including CAI procured from data brokers and CAI procured and processed indirectly through vendors, in appropriate agency inventory and reporting processes (other than when it is used for the purposes of national security);\n",
      "        </p>\n",
      "        <p>\n",
      "         (ii)   evaluate, in consultation with the Federal Privacy Council and the Interagency Council on Statistical Policy, agency standards and procedures associated with the collection, processing, maintenance, use, sharing, dissemination, and disposition of CAI that contains personally identifiable information (other than when it is used for the purposes of national security) to inform potential guidance to agencies on ways to mitigate privacy and confidentiality risks from agencies’ activities related to CAI;\n",
      "        </p>\n",
      "        <p>\n",
      "         (iii)  within 180 days of the date of this order, in consultation with the Attorney General, the Assistant to the President for Economic Policy, and the Director of OSTP, issue an RFI to inform potential revisions to guidance to agencies on implementing the privacy provisions of the E-Government Act of 2002 (Public Law 107-347).  The RFI shall seek feedback regarding how privacy impact assessments may be more effective at mitigating privacy risks, including those that are further exacerbated by AI; and\n",
      "        </p>\n",
      "        <p>\n",
      "         (iv)   take such steps as are necessary and appropriate, consistent with applicable law, to support and advance the near-term actions and long-term strategy identified through the RFI process, including issuing new or updated guidance or RFIs or consulting other agencies or the Federal Privacy Council.\n",
      "        </p>\n",
      "        <p>\n",
      "         (b)  Within 365 days of the date of this order, to better enable agencies to use PETs to safeguard Americans’ privacy from the potential threats exacerbated by AI, the Secretary of Commerce, acting through the Director of NIST, shall create guidelines for agencies to evaluate the efficacy of differential-privacy-guarantee protections, including for AI.  The guidelines shall, at a minimum, describe the significant factors that bear on differential-privacy safeguards and common risks to realizing differential privacy in practice.\n",
      "        </p>\n",
      "        <p>\n",
      "         (c)  To advance research, development, and implementation related to PETs:\n",
      "        </p>\n",
      "        <p>\n",
      "         (i)    Within 120 days of the date of this order, the Director of NSF, in collaboration with the Secretary of Energy, shall fund the creation of a Research Coordination Network (RCN) dedicated to advancing privacy research and, in particular, the development, deployment, and scaling of PETs.  The RCN shall serve to enable privacy researchers to share information, coordinate and collaborate in research, and develop standards for the privacy-research community.\n",
      "        </p>\n",
      "        <p>\n",
      "         (ii)   Within 240 days of the date of this order, the Director of NSF shall engage with agencies to identify ongoing work and potential opportunities to incorporate PETs into their operations.  The Director of NSF shall, where feasible and appropriate, prioritize research — including efforts to translate research discoveries into practical applications — that encourage the adoption of leading-edge PETs solutions for agencies’ use, including through research engagement through the RCN described in subsection (c)(i) of this section.\n",
      "        </p>\n",
      "        <p>\n",
      "         (iii)  The Director of NSF shall use the results of the United States-United Kingdom PETs Prize Challenge to inform the approaches taken, and opportunities identified, for PETs research and adoption.\n",
      "        </p>\n",
      "        <p>\n",
      "         Sec. 10.  Advancing Federal Government Use of AI.\n",
      "        </p>\n",
      "        <p>\n",
      "         10.1.  Providing Guidance for AI Management.  (a)  To coordinate the use of AI across the Federal Government, within 60 days of the date of this order and on an ongoing basis as necessary, the Director of OMB shall convene and chair an interagency council to coordinate the development and use of AI in agencies’ programs and operations, other than the use of AI in national security systems.  The Director of OSTP shall serve as Vice Chair for the interagency council.  The interagency council’s membership shall include, at minimum, the heads of the agencies identified in 31 U.S.C. 901(b), the Director of National Intelligence, and other agencies as identified by the Chair.  Until agencies designate their permanent Chief AI Officers consistent with the guidance described in subsection 10.1(b) of this section, they shall be represented on the interagency council by an appropriate official at the Assistant Secretary level or equivalent, as determined by the head of each agency.\n",
      "        </p>\n",
      "        <p>\n",
      "         (b)  To provide guidance on Federal Government use of AI, within 150 days of the date of this order and updated periodically thereafter, the Director of OMB, in coordination with the Director of OSTP, and in consultation with the interagency council established in subsection 10.1(a) of this section, shall issue guidance to agencies to strengthen the effective and appropriate use of AI, advance AI innovation, and manage risks from AI in the Federal Government.  The Director of OMB’s guidance shall specify, to the extent appropriate and consistent with applicable law:\n",
      "        </p>\n",
      "        <p>\n",
      "         (i)     the requirement to designate at each agency within 60 days of the issuance of the guidance a Chief Artificial Intelligence Officer who shall hold primary responsibility in their agency, in coordination with other responsible officials, for coordinating their agency’s use of AI, promoting AI innovation in their agency, managing risks from their agency’s use of AI, and carrying out the responsibilities described in section 8(c) of Executive Order 13960 of December 3, 2020 (Promoting the Use of Trustworthy Artificial Intelligence in the Federal Government), and section 4(b) of Executive Order 14091;\n",
      "        </p>\n",
      "        <p>\n",
      "         (ii)    the Chief Artificial Intelligence Officers’ roles, responsibilities, seniority, position, and reporting structures;\n",
      "        </p>\n",
      "        <p>\n",
      "         (iii)   for the agencies identified in 31 U.S.C. 901(b), the creation of internal Artificial Intelligence Governance Boards, or other appropriate mechanisms, at each agency within 60 days of the issuance of the guidance to coordinate and govern AI issues through relevant senior leaders from across the agency;\n",
      "        </p>\n",
      "        <p>\n",
      "         (iv)    required minimum risk-management practices for Government uses of AI that impact people’s rights or safety, including, where appropriate, the following practices derived from OSTP’s Blueprint for an AI Bill of Rights and the NIST AI Risk Management Framework:  conducting public consultation; assessing data quality; assessing and mitigating disparate impacts and algorithmic discrimination; providing notice of the use of AI; continuously monitoring and evaluating deployed AI; and granting human consideration and remedies for adverse decisions made using AI;\n",
      "        </p>\n",
      "        <p>\n",
      "         (v)     specific Federal Government uses of AI that are presumed by default to impact rights or safety;\n",
      "        </p>\n",
      "        <p>\n",
      "         (vi)    recommendations to agencies to reduce barriers to the responsible use of AI, including barriers related to information technology infrastructure, data, workforce, budgetary restrictions, and cybersecurity processes;\n",
      "        </p>\n",
      "        <p>\n",
      "         (vii)   requirements that agencies identified in 31 U.S.C. 901(b) develop AI strategies and pursue high-impact AI use cases;\n",
      "        </p>\n",
      "        <p>\n",
      "         (viii)  in consultation with the Secretary of Commerce, the Secretary of Homeland Security, and the heads of other appropriate agencies as determined by the Director of OMB, recommendations to agencies regarding:\n",
      "        </p>\n",
      "        <p>\n",
      "         (A)  external testing for AI, including AI red-teaming for generative AI, to be developed in coordination with the Cybersecurity and Infrastructure Security Agency;\n",
      "        </p>\n",
      "        <p>\n",
      "         (B)  testing and safeguards against discriminatory, misleading, inflammatory, unsafe, or deceptive outputs, as well as against producing child sexual abuse material and against producing non-consensual intimate imagery of real individuals (including intimate digital depictions of the body or body parts of an identifiable individual), for generative AI;\n",
      "        </p>\n",
      "        <p>\n",
      "         (C)  reasonable steps to watermark or otherwise label output from generative AI;\n",
      "        </p>\n",
      "        <p>\n",
      "         (D)  application of the mandatory minimum risk-management practices defined under subsection 10.1(b)(iv) of this section to procured AI;\n",
      "        </p>\n",
      "        <p>\n",
      "         (E)  independent evaluation of vendors’ claims concerning both the effectiveness and risk mitigation of their AI offerings;\n",
      "        </p>\n",
      "        <p>\n",
      "         (F)  documentation and oversight of procured AI;\n",
      "        </p>\n",
      "        <p>\n",
      "         (G)  maximizing the value to agencies when relying on contractors to use and enrich Federal Government data for the purposes of AI development and operation;\n",
      "        </p>\n",
      "        <p>\n",
      "         (H)  provision of incentives for the continuous improvement of procured AI; and\n",
      "        </p>\n",
      "        <p>\n",
      "         (I)  training on AI in accordance with the principles set out in this order and in other references related to AI listed herein; and\n",
      "        </p>\n",
      "        <p>\n",
      "         (ix)    requirements for public reporting on compliance with this guidance.\n",
      "        </p>\n",
      "        <p>\n",
      "         (c)  To track agencies’ AI progress, within 60 days of the issuance of the guidance established in subsection 10.1(b) of this section and updated periodically thereafter, the Director of OMB shall develop a method for agencies to track and assess their ability to adopt AI into their programs and operations, manage its risks, and comply with Federal policy on AI.  This method should draw on existing related efforts as appropriate and should address, as appropriate and consistent with applicable law, the practices, processes, and capabilities necessary for responsible AI adoption, training, and governance across, at a minimum, the areas of information technology infrastructure, data, workforce, leadership, and risk management.\n",
      "        </p>\n",
      "        <p>\n",
      "         (d)  To assist agencies in implementing the guidance to be established in subsection 10.1(b) of this section:\n",
      "        </p>\n",
      "        <p>\n",
      "         (i)   within 90 days of the issuance of the guidance, the Secretary of Commerce, acting through the Director of NIST, and in coordination with the Director of OMB and the Director of OSTP, shall develop guidelines, tools, and practices to support implementation of the minimum risk-management practices described in subsection 10.1(b)(iv) of this section; and\n",
      "        </p>\n",
      "        <p>\n",
      "         (ii)  within 180 days of the issuance of the guidance, the Director of OMB shall develop an initial means to ensure that agency contracts for the acquisition of AI systems and services align with the guidance described in subsection 10.1(b) of this section and advance the other aims identified in section 7224(d)(1) of the Advancing American AI Act (Public Law 117-263, div. G, title LXXII, subtitle B).\n",
      "        </p>\n",
      "        <p>\n",
      "         (e)  To improve transparency for agencies’ use of AI, the Director of OMB shall, on an annual basis, issue instructions to agencies for the collection, reporting, and publication of agency AI use cases, pursuant to section 7225(a) of the Advancing American AI Act.  Through these instructions, the Director shall, as appropriate, expand agencies’ reporting on how they are managing risks from their AI use cases and update or replace the guidance originally established in section 5 of Executive Order 13960.\n",
      "        </p>\n",
      "        <p>\n",
      "         (f)  To advance the responsible and secure use of generative AI in the Federal Government:\n",
      "        </p>\n",
      "        <p>\n",
      "         (i)    As generative AI products become widely available and common in online platforms, agencies are discouraged from imposing broad general bans or blocks on agency use of generative AI.  Agencies should instead limit access, as necessary, to specific generative AI services based on specific risk assessments; establish guidelines and limitations on the appropriate use of generative AI; and, with appropriate safeguards in place, provide their personnel and programs with access to secure and reliable generative AI capabilities, at least for the purposes of experimentation and routine tasks that carry a low risk of impacting Americans’ rights.  To protect Federal Government information, agencies are also encouraged to employ risk-management practices, such as training their staff on proper use, protection, dissemination, and disposition of Federal information; negotiating appropriate terms of service with vendors; implementing measures designed to ensure compliance with record-keeping, cybersecurity, confidentiality, privacy, and data protection requirements; and deploying other measures to prevent misuse of Federal Government information in generative AI.\n",
      "        </p>\n",
      "        <p>\n",
      "         (ii)   Within 90 days of the date of this order, the Administrator of General Services, in coordination with the Director of OMB, and in consultation with the Federal Secure Cloud Advisory Committee and other relevant agencies as the Administrator of General Services may deem appropriate, shall develop and issue a framework for prioritizing critical and emerging technologies offerings in the Federal Risk and Authorization Management Program authorization process, starting with generative AI offerings that have the primary purpose of providing large language model-based chat interfaces, code-generation and debugging tools, and associated application programming interfaces, as well as prompt-based image generators.  This framework shall apply for no less than 2 years from the date of its issuance.  Agency Chief Information Officers, Chief Information Security Officers, and authorizing officials are also encouraged to prioritize generative AI and other critical and emerging technologies in granting authorities for agency operation of information technology systems and any other applicable release or oversight processes, using continuous authorizations and approvals wherever feasible.\n",
      "        </p>\n",
      "        <p>\n",
      "         (iii)  Within 180 days of the date of this order, the Director of the Office of Personnel Management (OPM), in coordination with the Director of OMB, shall develop guidance on the use of generative AI for work by the Federal workforce.\n",
      "        </p>\n",
      "        <p>\n",
      "         (g)  Within 30 days of the date of this order, to increase agency investment in AI, the Technology Modernization Board shall consider, as it deems appropriate and consistent with applicable law, prioritizing funding for AI projects for the Technology Modernization Fund for a period of at least 1 year.  Agencies are encouraged to submit to the Technology Modernization Fund project funding proposals that include AI — and particularly generative AI — in service of mission delivery.\n",
      "        </p>\n",
      "        <p>\n",
      "         (h)  Within 180 days of the date of this order, to facilitate agencies’ access to commercial AI capabilities, the Administrator of General Services, in coordination with the Director of OMB, and in collaboration with the Secretary of Defense, the Secretary of Homeland Security, the Director of National Intelligence, the Administrator of the National Aeronautics and Space Administration, and the head of any other agency identified by the Administrator of General Services, shall take steps consistent with applicable law to facilitate access to Federal Government-wide acquisition solutions for specified types of AI services and products, such as through the creation of a resource guide or other tools to assist the acquisition workforce.  Specified types of AI capabilities shall include generative AI and specialized computing infrastructure.\n",
      "        </p>\n",
      "        <p>\n",
      "         (i)  The initial means, instructions, and guidance issued pursuant to subsections 10.1(a)-(h) of this section shall not apply to AI when it is used as a component of a national security system, which shall be addressed by the proposed National Security Memorandum described in subsection 4.8 of this order.\n",
      "        </p>\n",
      "        <p>\n",
      "         10.2.  Increasing AI Talent in Government.  (a)  Within 45 days of the date of this order, to plan a national surge in AI talent in the Federal Government, the Director of OSTP and the Director of OMB, in consultation with the Assistant to the President for National Security Affairs, the Assistant to the President for Economic Policy, the Assistant to the President and Domestic Policy Advisor, and the Assistant to the President and Director of the Gender Policy Council, shall identify priority mission areas for increased Federal Government AI talent, the types of talent that are highest priority to recruit and develop to ensure adequate implementation of this order and use of relevant enforcement and regulatory authorities to address AI risks, and accelerated hiring pathways.\n",
      "        </p>\n",
      "        <p>\n",
      "         (b)  Within 45 days of the date of this order, to coordinate rapid advances in the capacity of the Federal AI workforce, the Assistant to the President and Deputy Chief of Staff for Policy, in coordination with the Director of OSTP and the Director of OMB, and in consultation with the National Cyber Director, shall convene an AI and Technology Talent Task Force, which shall include the Director of OPM, the Director of the General Services Administration’s Technology Transformation Services, a representative from the Chief Human Capital Officers Council, the Assistant to the President for Presidential Personnel, members of appropriate agency technology talent programs, a representative of the Chief Data Officer Council, and a representative of the interagency council convened under subsection 10.1(a) of this section.  The Task Force’s purpose shall be to accelerate and track the hiring of AI and AI-enabling talent across the Federal Government, including through the following actions:\n",
      "        </p>\n",
      "        <p>\n",
      "         (i)    within 180 days of the date of this order, tracking and reporting progress to the President on increasing AI capacity across the Federal Government, including submitting to the President a report and recommendations for further increasing capacity;\n",
      "        </p>\n",
      "        <p>\n",
      "         (ii)   identifying and circulating best practices for agencies to attract, hire, retain, train, and empower AI talent, including diversity, inclusion, and accessibility best practices, as well as to plan and budget adequately for AI workforce needs;\n",
      "        </p>\n",
      "        <p>\n",
      "         (iii)  coordinating, in consultation with the Director of OPM, the use of fellowship programs and agency technology-talent programs and human-capital teams to build hiring capabilities, execute hires, and place AI talent to fill staffing gaps; and\n",
      "        </p>\n",
      "        <p>\n",
      "         (iv)   convening a cross-agency forum for ongoing collaboration between AI professionals to share best practices and improve retention.\n",
      "        </p>\n",
      "        <p>\n",
      "         (c)  Within 45 days of the date of this order, to advance existing Federal technology talent programs, the United States Digital Service, Presidential Innovation Fellowship, United States Digital Corps, OPM, and technology talent programs at agencies, with support from the AI and Technology Talent Task Force described in subsection 10.2(b) of this section, as appropriate and permitted by law, shall develop and begin to implement plans to support the rapid recruitment of individuals as part of a Federal Government-wide AI talent surge to accelerate the placement of key AI and AI-enabling talent in high-priority areas and to advance agencies’ data and technology strategies.\n",
      "        </p>\n",
      "        <p>\n",
      "         (d)  To meet the critical hiring need for qualified personnel to execute the initiatives in this order, and to improve Federal hiring practices for AI talent, the Director of OPM, in consultation with the Director of OMB, shall:\n",
      "        </p>\n",
      "        <p>\n",
      "         (i)     within 60 days of the date of this order, conduct an evidence-based review on the need for hiring and workplace flexibility, including Federal Government-wide direct-hire authority for AI and related data-science and technical roles, and, where the Director of OPM finds such authority is appropriate, grant it; this review shall include the following job series at all General Schedule (GS) levels:  IT Specialist (2210), Computer Scientist (1550), Computer Engineer (0854), and Program Analyst (0343) focused on AI, and any subsequently developed job series derived from these job series;\n",
      "        </p>\n",
      "        <p>\n",
      "         (ii)    within 60 days of the date of this order, consider authorizing the use of excepted service appointments under 5 C.F.R. 213.3102(i)(3) to address the need for hiring additional staff to implement directives of this order;\n",
      "        </p>\n",
      "        <p>\n",
      "         (iii)   within 90 days of the date of this order, coordinate a pooled-hiring action informed by subject-matter experts and using skills-based assessments to support the recruitment of AI talent across agencies;\n",
      "        </p>\n",
      "        <p>\n",
      "         (iv)    within 120 days of the date of this order, as appropriate and permitted by law, issue guidance for agency application of existing pay flexibilities or incentive pay programs for AI, AI-enabling, and other key technical positions to facilitate appropriate use of current pay incentives;\n",
      "        </p>\n",
      "        <p>\n",
      "         (v)     within 180 days of the date of this order, establish guidance and policy on skills-based, Federal Government-wide hiring of AI, data, and technology talent in order to increase access to those with nontraditional academic backgrounds to Federal AI, data, and technology roles;\n",
      "        </p>\n",
      "        <p>\n",
      "         (vi)    within 180 days of the date of this order, establish an interagency working group, staffed with both human-resources professionals and recruiting technical experts, to facilitate Federal Government-wide hiring of people with AI and other technical skills;\n",
      "        </p>\n",
      "        <p>\n",
      "         (vii)   within 180 days of the date of this order, review existing Executive Core Qualifications (ECQs) for Senior Executive Service (SES) positions informed by data and AI literacy competencies and, within 365 days of the date of this order, implement new ECQs as appropriate in the SES assessment process;\n",
      "        </p>\n",
      "        <p>\n",
      "         (viii)  within 180 days of the date of this order, complete a review of competencies for civil engineers (GS-0810 series) and, if applicable, other related occupations, and make recommendations for ensuring that adequate AI expertise and credentials in these occupations in the Federal Government reflect the increased use of AI in critical infrastructure; and\n",
      "        </p>\n",
      "        <p>\n",
      "         (ix)    work with the Security, Suitability, and Credentialing Performance Accountability Council to assess mechanisms to streamline and accelerate personnel-vetting requirements, as appropriate, to support AI and fields related to other critical and emerging technologies.\n",
      "        </p>\n",
      "        <p>\n",
      "         (e)  To expand the use of special authorities for AI hiring and retention, agencies shall use all appropriate hiring authorities, including Schedule A(r) excepted service hiring and direct-hire authority, as applicable and appropriate, to hire AI talent and AI-enabling talent rapidly.  In addition to participating in OPM-led pooled hiring actions, agencies shall collaborate, where appropriate, on agency-led pooled hiring under the Competitive Service Act of 2015 (Public Law 114-137) and other shared hiring.  Agencies shall also, where applicable, use existing incentives, pay-setting authorities, and other compensation flexibilities, similar to those used for cyber and information technology positions, for AI and data-science professionals, as well as plain-language job titles, to help recruit and retain these highly skilled professionals.  Agencies shall ensure that AI and other related talent needs (such as technology governance and privacy) are reflected in strategic workforce planning and budget formulation.\n",
      "        </p>\n",
      "        <p>\n",
      "         (f)  To facilitate the hiring of data scientists, the Chief Data Officer Council shall develop a position-description library for data scientists (job series 1560) and a hiring guide to support agencies in hiring data scientists.\n",
      "        </p>\n",
      "        <p>\n",
      "         (g)  To help train the Federal workforce on AI issues, the head of each agency shall implement — or increase the availability and use of — AI training and familiarization programs for employees, managers, and leadership in technology as well as relevant policy, managerial, procurement, regulatory, ethical, governance, and legal fields.  Such training programs should, for example, empower Federal employees, managers, and leaders to develop and maintain an operating knowledge of emerging AI technologies to assess opportunities to use these technologies to enhance the delivery of services to the public, and to mitigate risks associated with these technologies.  Agencies that provide professional-development opportunities, grants, or funds for their staff should take appropriate steps to ensure that employees who do not serve in traditional technical roles, such as policy, managerial, procurement, or legal fields, are nonetheless eligible to receive funding for programs and courses that focus on AI, machine learning, data science, or other related subject areas.\n",
      "        </p>\n",
      "        <p>\n",
      "         (h)  Within 180 days of the date of this order, to address gaps in AI talent for national defense, the Secretary of Defense shall submit a report to the President through the Assistant to the President for\n",
      "         <br/>\n",
      "         National Security Affairs that includes:\n",
      "        </p>\n",
      "        <p>\n",
      "         (i)    recommendations to address challenges in the Department of Defense’s ability to hire certain noncitizens, including at the Science and Technology Reinvention Laboratories;\n",
      "        </p>\n",
      "        <p>\n",
      "         (ii)   recommendations to clarify and streamline processes for accessing classified information for certain noncitizens through Limited Access Authorization at Department of Defense laboratories;\n",
      "        </p>\n",
      "        <p>\n",
      "         (iii)  recommendations for the appropriate use of enlistment authority under 10 U.S.C. 504(b)(2) for experts in AI and other critical and emerging technologies; and\n",
      "        </p>\n",
      "        <p>\n",
      "         (iv)   recommendations for the Department of Defense and the Department of Homeland Security to work together to enhance the use of appropriate authorities for the retention of certain noncitizens of vital importance to national security by the Department of Defense and the Department of Homeland Security.\n",
      "        </p>\n",
      "        <figure class=\"wp-block-image size-full\">\n",
      "         <img alt=\"\" class=\"wp-image-86687\" decoding=\"async\" src=\"https://www.whitehouse.gov/wp-content/uploads/2023/10/image.gif\" title=\"Anchor\"/>\n",
      "        </figure>\n",
      "        <p>\n",
      "         Sec. 11.  Strengthening American Leadership Abroad.  (a)  To strengthen United States leadership of global efforts to unlock AI’s potential and meet its challenges, the Secretary of State, in coordination with the Assistant to the President for National Security Affairs, the Assistant to the President for Economic Policy, the Director of OSTP, and the heads of other relevant agencies as appropriate, shall:\n",
      "        </p>\n",
      "        <p>\n",
      "         (i)   lead efforts outside of military and intelligence areas to expand engagements with international allies and partners in relevant bilateral, multilateral, and multi-stakeholder fora to advance those allies’ and partners’ understanding of existing and planned AI-related guidance and policies of the United States, as well as to enhance international collaboration; and\n",
      "        </p>\n",
      "        <p>\n",
      "         (ii)  lead efforts to establish a strong international framework for managing the risks and harnessing the benefits of AI, including by encouraging international allies and partners to support voluntary commitments similar to those that United States companies have made in pursuit of these objectives and coordinating the activities directed by subsections (b), (c), (d), and (e) of this section, and to develop common regulatory and other accountability principles for foreign nations, including to manage the risk that AI systems pose.\n",
      "        </p>\n",
      "        <p>\n",
      "         (b)  To advance responsible global technical standards for AI development and use outside of military and intelligence areas, the Secretary of Commerce, in coordination with the Secretary of State and the heads of other relevant agencies as appropriate, shall lead preparations for a coordinated effort with key international allies and partners and with standards development organizations, to drive the development and implementation of AI-related consensus standards, cooperation and coordination, and information sharing.  In particular, the Secretary of Commerce shall:\n",
      "        </p>\n",
      "        <p>\n",
      "         (i)    within 270 days of the date of this order, establish a plan for global engagement on promoting and developing AI standards, with lines of effort that may include:\n",
      "        </p>\n",
      "        <p>\n",
      "         (A)  AI nomenclature and terminology;\n",
      "        </p>\n",
      "        <p>\n",
      "         (B)  best practices regarding data capture, processing, protection, privacy, confidentiality, handling, and analysis;\n",
      "        </p>\n",
      "        <p>\n",
      "         (C)  trustworthiness, verification, and assurance of AI systems; and\n",
      "        </p>\n",
      "        <p>\n",
      "         (D)  AI risk management;\n",
      "        </p>\n",
      "        <p>\n",
      "         (ii)   within 180 days of the date the plan is established, submit a report to the President on priority actions taken pursuant to the plan; and\n",
      "        </p>\n",
      "        <p>\n",
      "         (iii)  ensure that such efforts are guided by principles set out in the NIST AI Risk Management Framework and United States Government National Standards Strategy for Critical and Emerging Technology.\n",
      "        </p>\n",
      "        <p>\n",
      "         (c)  Within 365 days of the date of this order, to promote safe, responsible, and rights-affirming development and deployment of AI abroad:\n",
      "        </p>\n",
      "        <p>\n",
      "         (i)   The Secretary of State and the Administrator of the United States Agency for International Development, in coordination with the Secretary of Commerce, acting through the director of NIST, shall publish an AI in Global Development Playbook that incorporates the AI Risk Management Framework’s principles, guidelines, and best practices into the social, technical, economic, governance, human rights, and security conditions of contexts beyond United States borders.  As part of this work, the Secretary of State and the Administrator of the United States Agency for International Development shall draw on lessons learned from programmatic uses of AI in global development.\n",
      "        </p>\n",
      "        <p>\n",
      "         (ii)  The Secretary of State and the Administrator of the United States Agency for International Development, in collaboration with the Secretary of Energy and the Director of NSF, shall develop a Global AI Research Agenda to guide the objectives and implementation of AI-related research in contexts beyond United States borders.  The Agenda shall:\n",
      "        </p>\n",
      "        <p>\n",
      "         (A)  include principles, guidelines, priorities, and best practices aimed at ensuring the safe, responsible, beneficial, and sustainable global development and adoption of AI; and\n",
      "        </p>\n",
      "        <p>\n",
      "         (B)  address AI’s labor-market implications across international contexts, including by recommending risk mitigations.\n",
      "        </p>\n",
      "        <p>\n",
      "         (d)  To address cross-border and global AI risks to critical infrastructure, the Secretary of Homeland Security, in coordination with the Secretary of State, and in consultation with the heads of other relevant agencies as the Secretary of Homeland Security deems appropriate, shall lead efforts with international allies and partners to enhance cooperation to prevent, respond to, and recover from potential critical infrastructure disruptions resulting from incorporation of AI into critical infrastructure systems or malicious use of AI.\n",
      "        </p>\n",
      "        <p>\n",
      "         (i)   Within 270 days of the date of this order, the Secretary of Homeland Security, in coordination with the Secretary of State, shall develop a plan for multilateral engagements to encourage the adoption of the AI safety and security guidelines for use by critical infrastructure owners and operators developed in section 4.3(a) of this order.\n",
      "        </p>\n",
      "        <p>\n",
      "         (ii)  Within 180 days of establishing the plan described in subsection (d)(i) of this section, the Secretary of Homeland Security shall submit a report to the President on priority actions to mitigate cross-border risks to critical United States infrastructure.\n",
      "        </p>\n",
      "        <p>\n",
      "         Sec. 12.  Implementation.  (a)  There is established, within the Executive Office of the President, the White House Artificial Intelligence Council (White House AI Council).  The function of the White House AI Council is to coordinate the activities of agencies across the Federal Government to ensure the effective formulation, development, communication, industry engagement related to, and timely implementation of AI-related policies, including policies set forth in this order.\n",
      "        </p>\n",
      "        <p>\n",
      "         (b)  The Assistant to the President and Deputy Chief of Staff for Policy shall serve as Chair of the White House AI Council.\n",
      "        </p>\n",
      "        <p>\n",
      "         (c)  In addition to the Chair, the White House AI Council shall consist of the following members, or their designees:\n",
      "        </p>\n",
      "        <p>\n",
      "         (i)       the Secretary of State;\n",
      "        </p>\n",
      "        <p>\n",
      "         (ii)      the Secretary of the Treasury;\n",
      "        </p>\n",
      "        <p>\n",
      "         (iii)     the Secretary of Defense;\n",
      "        </p>\n",
      "        <p>\n",
      "         (iv)      the Attorney General;\n",
      "        </p>\n",
      "        <p>\n",
      "         (v)       the Secretary of Agriculture;\n",
      "        </p>\n",
      "        <p>\n",
      "         (vi)      the Secretary of Commerce;\n",
      "        </p>\n",
      "        <p>\n",
      "         (vii)     the Secretary of Labor;\n",
      "        </p>\n",
      "        <p>\n",
      "         (viii)    the Secretary of HHS;\n",
      "        </p>\n",
      "        <p>\n",
      "         (ix)      the Secretary of Housing and Urban Development;\n",
      "        </p>\n",
      "        <p>\n",
      "         (x)       the Secretary of Transportation;\n",
      "        </p>\n",
      "        <p>\n",
      "         (xi)      the Secretary of Energy;\n",
      "        </p>\n",
      "        <p>\n",
      "         (xii)     the Secretary of Education;\n",
      "        </p>\n",
      "        <p>\n",
      "         (xiii)    the Secretary of Veterans Affairs;\n",
      "        </p>\n",
      "        <p>\n",
      "         (xiv)     the Secretary of Homeland Security;\n",
      "        </p>\n",
      "        <p>\n",
      "         (xv)      the Administrator of the Small Business Administration;\n",
      "        </p>\n",
      "        <p>\n",
      "         (xvi)     the Administrator of the United States Agency for International Development;\n",
      "        </p>\n",
      "        <p>\n",
      "         (xvii)    the Director of National Intelligence;\n",
      "        </p>\n",
      "        <p>\n",
      "         (xviii)   the Director of NSF;\n",
      "        </p>\n",
      "        <p>\n",
      "         (xix)     the Director of OMB;\n",
      "        </p>\n",
      "        <p>\n",
      "         (xx)      the Director of OSTP;\n",
      "        </p>\n",
      "        <p>\n",
      "         (xxi)     the Assistant to the President for National Security Affairs;\n",
      "        </p>\n",
      "        <p>\n",
      "         (xxii)    the Assistant to the President for Economic Policy;\n",
      "        </p>\n",
      "        <p>\n",
      "         (xxiii)   the Assistant to the President and Domestic Policy Advisor;\n",
      "        </p>\n",
      "        <p>\n",
      "         (xxiv)    the Assistant to the President and Chief of Staff to the Vice President;\n",
      "        </p>\n",
      "        <p>\n",
      "         (xxv)     the Assistant to the President and Director of the Gender Policy Council;\n",
      "        </p>\n",
      "        <p>\n",
      "         (xxvi)    the Chairman of the Council of Economic Advisers;\n",
      "        </p>\n",
      "        <p>\n",
      "         (xxvii)   the National Cyber Director;\n",
      "        </p>\n",
      "        <p>\n",
      "         (xxviii)  the Chairman of the Joint Chiefs of Staff; and\n",
      "        </p>\n",
      "        <p>\n",
      "         (xxix)    the heads of such other agencies, independent regulatory agencies, and executive offices as the Chair may from time to time designate or invite to participate.\n",
      "        </p>\n",
      "        <p>\n",
      "         (d)  The Chair may create and coordinate subgroups consisting of White House AI Council members or their designees, as appropriate.\n",
      "        </p>\n",
      "        <p>\n",
      "         Sec. 13.  General Provisions.  (a)  Nothing in this order shall be construed to impair or otherwise affect:\n",
      "        </p>\n",
      "        <p>\n",
      "         (i)   the authority granted by law to an executive department or agency, or the head thereof; or\n",
      "        </p>\n",
      "        <p>\n",
      "         (ii)  the functions of the Director of the Office of Management and Budget relating to budgetary, administrative, or legislative proposals.\n",
      "        </p>\n",
      "        <p>\n",
      "         (b)  This order shall be implemented consistent with applicable law and subject to the availability of appropriations.\n",
      "         <br/>\n",
      "         <br/>\n",
      "         (c)  This order is not intended to, and does not, create any right or benefit, substantive or procedural, enforceable at law or in equity by any party against the United States, its departments, agencies, or entities, its officers, employees, or agents, or any other person.\n",
      "         <br/>\n",
      "        </p>\n",
      "        <p class=\"has-text-align-right\">\n",
      "         JOSEPH R. BIDEN JR.\n",
      "        </p>\n",
      "        <p class=\"has-text-align-left\">\n",
      "         THE WHITE HOUSE,\n",
      "         <br/>\n",
      "         October 30, 2023.\n",
      "        </p>\n",
      "       </div>\n",
      "      </div>\n",
      "     </section>\n",
      "    </article>\n",
      "    <nav class=\"next-prev container\">\n",
      "     <div class=\"row\">\n",
      "      <div class=\"next-prev__next col next-prev__next--post\">\n",
      "       <a class=\"overlay-link\" href=\"https://www.whitehouse.gov/briefing-room/statements-releases/2023/10/30/statement-from-president-joe-biden-on-historic-tentative-agreement-between-general-motors-and-uaw/\">\n",
      "        <span class=\"screen-reader-text\">\n",
      "         Next Post: Statement from President Joe Biden on Historic Tentative Agreement Between General Motors and UAW\n",
      "        </span>\n",
      "       </a>\n",
      "       <span class=\"next-prev__title h2\">\n",
      "        Statement from President Joe\n",
      "        <span class=\"dewidow\">\n",
      "        </span>\n",
      "        Biden on Historic Tentative Agreement Between General Motors and\n",
      "        <span class=\"dewidow\">\n",
      "        </span>\n",
      "        UAW\n",
      "       </span>\n",
      "       <div class=\"next-prev__meta shared-meta\">\n",
      "        <time class=\"posted-on entry-date published updated\" datetime=\"2023-10-30T16:51:58-04:00\">\n",
      "         October 30, 2023\n",
      "        </time>\n",
      "        <span class=\"separator\">\n",
      "         •\n",
      "        </span>\n",
      "        <span class=\"tax-links cat-links\">\n",
      "         Statements and Releases\n",
      "        </span>\n",
      "       </div>\n",
      "       <div class=\"link-icon-wrapper\">\n",
      "        <span class=\"next-prev__link link link__arrow\">\n",
      "         <span class=\"link__lblue\">\n",
      "          Next\n",
      "          <span class=\"screen-reader-text\">\n",
      "           Post\n",
      "          </span>\n",
      "          <svg aria-hidden=\"true\" height=\"68\" tabindex=\"-1\" viewbox=\"0 0 63 68\" width=\"63\" xmlns=\"http://www.w3.org/2000/svg\">\n",
      "           <path d=\"m0 0 63 33.74S.66 67.44 0 68V68l17.06-34L0 0Z\" fill=\"currentColor\">\n",
      "           </path>\n",
      "          </svg>\n",
      "         </span>\n",
      "        </span>\n",
      "       </div>\n",
      "      </div>\n",
      "      <!-- .next-post -->\n",
      "     </div>\n",
      "    </nav>\n",
      "    <section class=\"bottomcta\">\n",
      "     <div class=\"container\">\n",
      "      <div class=\"row\">\n",
      "       <div class=\"bottomcta-wrapper\">\n",
      "        <div class=\"bottomcta-logo\">\n",
      "         <img alt=\"\" class=\"svgloader\" onload=\"var c=this;!window.fetch?window.llItems.push(c):fetch(c.currentSrc||c.src).then(function(x){return x.text();}).then(function(svgText){c.outerHTML = svgText;});\" src=\"https://www.whitehouse.gov/wp-content/themes/whitehouse/assets/img/bottomcta-logo.svg\"/>\n",
      "        </div>\n",
      "        <div class=\"col-xs-2 col-md-8 bottomcta__form\">\n",
      "         <div class=\"bottomcta__form__inner\">\n",
      "          <div class=\"bottomcta__form__inner__wrapper\">\n",
      "           <div id=\"mc_embed_signup\">\n",
      "            <h2 class=\"h4alt\">\n",
      "             Stay Connected\n",
      "            </h2>\n",
      "            <form action=\"https://whitehouse.us19.list-manage.com/subscribe/post?u=c97630621baff8c44fe607661&amp;id=01c3fdf5ca\" id=\"mc_embed_signup_form\" method=\"POST\" name=\"mc-embed-signup-form\" target=\"_blank\">\n",
      "             <fieldset>\n",
      "              <legend class=\"screen-reader-text\">\n",
      "               Sign Up\n",
      "              </legend>\n",
      "              <div class=\"mc-field-group email\">\n",
      "               <label for=\"mce-EMAIL\">\n",
      "                Email Address\n",
      "                <sup aria-hidden=\"true\">\n",
      "                 *\n",
      "                </sup>\n",
      "                <span class=\"screen-reader-text\">\n",
      "                 Required\n",
      "                </span>\n",
      "               </label>\n",
      "               <input class=\"required email\" id=\"mce-EMAIL\" name=\"EMAIL\" placeholder=\"example@example.com\" required=\"\" type=\"email\" value=\"\"/>\n",
      "              </div>\n",
      "              <div class=\"mc-field-group zip\">\n",
      "               <label for=\"mce-ZIPCODE\">\n",
      "                ZIP Code\n",
      "               </label>\n",
      "               <input class=\"\" id=\"mce-ZIPCODE\" maxlength=\"5\" name=\"ZIPCODE\" placeholder=\"ZIP Code\" required=\"\" type=\"text\" value=\"\"/>\n",
      "              </div>\n",
      "              <div aria-hidden=\"true\" style=\"position: absolute; left: -5000px;\">\n",
      "               <!-- real people should not fill this in and expect good things - do not remove this or risk form bot signups-->\n",
      "               <label for=\"mce-8cafb01033\">\n",
      "                Please leave blank.\n",
      "               </label>\n",
      "               <input id=\"mce-8cafb01033\" name=\"b_4da4828d48b4efa4fc1138955_8cafb01033\" tabindex=\"-1\" type=\"text\" value=\"\"/>\n",
      "              </div>\n",
      "              <div style=\"display: none\">\n",
      "               <input name=\"SIGNUP\" type=\"hidden\" value=\"\"/>\n",
      "               <input name=\"SIGNUP_SRC\" type=\"hidden\" value=\"\"/>\n",
      "               <input name=\"LANGUAGE\" type=\"hidden\" value=\"en\"/>\n",
      "              </div>\n",
      "              <div class=\"clear submit-wrapper\">\n",
      "               <input class=\"button\" id=\"mc-embedded-subscribe\" name=\"subscribe\" type=\"submit\" value=\"Sign Up\"/>\n",
      "              </div>\n",
      "             </fieldset>\n",
      "             <div class=\"success-message deck--md\">\n",
      "              <p>\n",
      "               We'll be in touch with the latest information on how President Biden and his administration are working for the American people, as well as ways you can get involved and help our country build back better.\n",
      "              </p>\n",
      "             </div>\n",
      "            </form>\n",
      "           </div>\n",
      "           <p class=\"bottomcta__community mobile-only\">\n",
      "            <a href=\"https://my.community.com/potus?t=Hello%20Mr.%20President%20%F0%9F%87%BA%F0%9F%87%B8\" rel=\"noopener noreferer\" target=\"_blank\">\n",
      "             Opt in to send and receive text messages from President Biden.\n",
      "            </a>\n",
      "           </p>\n",
      "          </div>\n",
      "         </div>\n",
      "        </div>\n",
      "       </div>\n",
      "      </div>\n",
      "     </div>\n",
      "    </section>\n",
      "    <aside class=\"social-nav shares-simple behind\">\n",
      "     <div class=\"small-text shares-simple__title\">\n",
      "      Share\n",
      "     </div>\n",
      "     <ul class=\"menu shares-simple__list\">\n",
      "      <li class=\"social-sharing-item facebook\">\n",
      "       <a class=\"social-pop\" href=\"https://www.facebook.com/sharer.php?u=https://www.whitehouse.gov/briefing-room/presidential-actions/2023/10/30/executive-order-on-the-safe-secure-and-trustworthy-development-and-use-of-artificial-intelligence/?utm_source=facebook&amp;t=Executive%20Order%20on%20the%20Safe,%20Secure,%20and%20Trustworthy%20Development%20and%20Use%20of%20Artificial%20Intelligence\" rel=\"noopener noreferer\" tabindex=\"-1\" target=\"_blank\">\n",
      "        <span class=\"screen-reader-text\">\n",
      "         Share this page on Facebook\n",
      "        </span>\n",
      "        <span aria-hidden=\"true\">\n",
      "         <svg aria-hidden=\"true\" tabindex=\"-1\" viewbox=\"0 0 11 19\" xmlns=\"http://www.w3.org/2000/svg\">\n",
      "          <path d=\"M9.72243 10.375H7.08571V18.25H3.57008V10.375H0.722427V7.10547H3.57008V4.64453C3.57008 3.70703 3.74586 2.91016 4.09743 2.25391C4.44899 1.59766 4.94118 1.10547 5.57399 0.777344C6.23024 0.425781 6.98024 0.25 7.82399 0.25C8.19899 0.25 8.59743 0.273438 9.0193 0.320312C9.44118 0.34375 9.7693 0.378906 10.0037 0.425781L10.3552 0.460938V3.23828H8.94899C8.29274 3.23828 7.81227 3.41406 7.50758 3.76562C7.22633 4.09375 7.08571 4.50391 7.08571 4.99609V7.10547H10.2146L9.72243 10.375Z\">\n",
      "          </path>\n",
      "         </svg>\n",
      "        </span>\n",
      "       </a>\n",
      "      </li>\n",
      "      <!-- .facebook -->\n",
      "      <li class=\"social-sharing-item twitter\">\n",
      "       <a class=\"social-pop\" href=\"https://twitter.com/intent/tweet?via=whitehouse&amp;url=https://www.whitehouse.gov/briefing-room/presidential-actions/2023/10/30/executive-order-on-the-safe-secure-and-trustworthy-development-and-use-of-artificial-intelligence/?utm_source=twitter&amp;text=Executive%20Order%20on%20the%20Safe,%20Secure,%20and%20Trustworthy%20Development%20and%20Use%20of%20Artificial%20Intelligence\" rel=\"noopener noreferer\" tabindex=\"-1\" target=\"_blank\">\n",
      "        <span class=\"screen-reader-text\">\n",
      "         Share this page on Twitter\n",
      "        </span>\n",
      "        <span aria-hidden=\"true\">\n",
      "         <svg aria-hidden=\"true\" tabindex=\"-1\" viewbox=\"0 0 1792 1792\" xmlns=\"http://www.w3.org/2000/svg\">\n",
      "          <path d=\"M1684 408q-67 98-162 167 1 14 1 42 0 130-38 259.5t-115.5 248.5-184.5 210.5-258 146-323 54.5q-271 0-496-145 35 4 78 4 225 0 401-138-105-2-188-64.5t-114-159.5q33 5 61 5 43 0 85-11-112-23-185.5-111.5t-73.5-205.5v-4q68 38 146 41-66-44-105-115t-39-154q0-88 44-163 121 149 294.5 238.5t371.5 99.5q-8-38-8-74 0-134 94.5-228.5t228.5-94.5q140 0 236 102 109-21 205-78-37 115-142 178 93-10 186-50z\">\n",
      "          </path>\n",
      "         </svg>\n",
      "        </span>\n",
      "       </a>\n",
      "      </li>\n",
      "      <!-- .twitter -->\n",
      "      <li class=\"social-sharing-item copy-link\">\n",
      "       <a class=\"js-click-to-copy\" role=\"button\" tabindex=\"-1\" title=\"Click to copy the page URL\">\n",
      "        <span class=\"js-click-to-copy-link screen-reader-text\">\n",
      "         https://www.whitehouse.gov/briefing-room/presidential-actions/2023/10/30/executive-order-on-the-safe-secure-and-trustworthy-development-and-use-of-artificial-intelligence/?utm_source=link\n",
      "        </span>\n",
      "        <span aria-hidden=\"true\" class=\"link-icon\">\n",
      "         <svg fill=\"none\" height=\"51\" viewbox=\"0 0 51 51\" width=\"51\" xmlns=\"http://www.w3.org/2000/svg\">\n",
      "          <path d=\"M46.0634 2.86257C40.4108 -1.57396 32.1413 -0.758049 27.4831 4.64738L23.5577 9.18589C22.3539 10.5627 22.5633 12.6025 23.9764 13.7754C25.3896 14.9483 27.4831 14.7443 28.6869 13.3674L32.6123 8.77794C34.9676 6.02423 39.1547 5.66727 41.981 7.96202C42.0333 8.01302 42.0856 8.06401 42.138 8.06401C44.8073 10.4608 45.0689 14.4893 42.7137 17.192L34.5489 26.779L34.4965 26.881C34.0778 27.3909 33.5544 27.7989 32.9787 28.1559C30.2571 29.7877 26.7504 29.3287 24.6045 27.085C23.3484 25.7591 21.2548 25.7081 19.894 26.932C18.5332 28.1559 18.4809 30.1957 19.737 31.5215C22.825 34.7342 27.3261 36.213 31.7749 35.4481C32.4553 35.3461 33.1357 35.1421 33.7638 34.9381C36.0667 34.1732 38.1602 32.7964 39.7304 30.9606L47.8429 21.4756C50.1981 18.7219 51.2973 15.2032 50.9309 11.6336C50.5645 8.21699 48.785 5.05533 46.0634 2.86257Z\" fill=\"black\">\n",
      "          </path>\n",
      "          <path d=\"M22.0399 37.9978L18.5332 42.0774C16.2303 44.8311 12.0955 45.29 9.2169 43.1483C6.33827 40.9555 5.81488 36.8759 8.11779 34.0202C8.17013 33.9692 8.17013 33.9183 8.22246 33.8673L16.492 24.2293L16.5443 24.1783C16.963 23.6683 17.4864 23.2604 18.0621 22.9034C20.5221 21.4246 23.6101 21.6286 25.8083 23.4134C26.07 23.6174 26.2793 23.8723 26.541 24.0763C27.1691 24.7902 28.1112 25.1982 29.1056 25.1982C30.0477 25.1982 30.9898 24.7392 31.5655 24.0253L31.6179 23.9743C32.6647 22.7504 32.6647 20.9656 31.5655 19.7928C26.698 14.4893 18.2715 13.9794 12.7236 18.7219C12.2002 19.1808 11.7292 19.6398 11.3105 20.1497L3.09327 29.7367C-1.56488 35.1931 -0.884479 43.2503 4.61109 47.8908C7.28037 50.1345 10.7871 51.2564 14.3461 50.9504C14.7648 50.8994 15.1835 50.8484 15.6022 50.7975C18.7949 50.2365 21.6735 48.6557 23.7147 46.2589L27.2214 42.1794C28.4252 40.8025 28.2159 38.7627 26.8027 37.5899C25.3372 36.468 23.1913 36.621 22.0399 37.9978Z\" fill=\"black\">\n",
      "          </path>\n",
      "         </svg>\n",
      "        </span>\n",
      "        <span aria-hidden=\"true\" class=\"check-icon\" title=\"Copied!\">\n",
      "         <svg aria-hidden=\"true\" role=\"img\" tabindex=\"0\" viewbox=\"0 0 1792 1792\" xmlns=\"http://www.w3.org/2000/svg\">\n",
      "          <path d=\"M1671 566q0 40-28 68l-724 724-136 136q-28 28-68 28t-68-28l-136-136-362-362q-28-28-28-68t28-68l136-136q28-28 68-28t68 28l294 295 656-657q28-28 68-28t68 28l136 136q28 28 28 68z\">\n",
      "          </path>\n",
      "         </svg>\n",
      "        </span>\n",
      "       </a>\n",
      "      </li>\n",
      "      <!-- .copy-link -->\n",
      "     </ul>\n",
      "    </aside>\n",
      "    <!-- .social-nav -->\n",
      "   </main>\n",
      "   <!-- .site-main -->\n",
      "   <footer class=\"social-hide site-footer body-copy\" data-js-social-hide=\"\" id=\"colophon\">\n",
      "    <div class=\"seal-icon-wrapper\">\n",
      "     <img alt=\"\" class=\"svgloader\" onload=\"var c=this;!window.fetch?window.llItems.push(c):fetch(c.currentSrc||c.src).then(function(x){return x.text();}).then(function(svgText){c.outerHTML = svgText;});\" src=\"https://www.whitehouse.gov/wp-content/themes/whitehouse/assets/img/footer-seal.svg\"/>\n",
      "    </div>\n",
      "    <div class=\"container\">\n",
      "     <div class=\"row\">\n",
      "      <div class=\"footer-wrapper\">\n",
      "       <section class=\"justify-content-center footer-navigation-section primary-footer-navigation\" id=\"primary-footer-menu-section\">\n",
      "        <nav aria-label=\"Primary Footer Navigation\" class=\"primary col col-xs-12 col-md-12 col-lg-10\">\n",
      "         <ul class=\"menu\" id=\"primary-navigation-footer\">\n",
      "          <li class=\"menu-item menu-item-type-custom menu-item-object-custom menu-item-home menu-item-91 col navlink top-level-menu-item\" id=\"menu-item-91\">\n",
      "           <a href=\"https://www.whitehouse.gov/\">\n",
      "            Home\n",
      "           </a>\n",
      "          </li>\n",
      "          <li class=\"menu-item menu-item-type-post_type menu-item-object-page menu-item-98 col navlink top-level-menu-item\" id=\"menu-item-98\">\n",
      "           <a href=\"https://www.whitehouse.gov/administration/\">\n",
      "            The Administration\n",
      "           </a>\n",
      "          </li>\n",
      "          <li class=\"menu-item menu-item-type-post_type menu-item-object-page menu-item-2215 col navlink top-level-menu-item\" id=\"menu-item-2215\">\n",
      "           <a href=\"https://www.whitehouse.gov/administration/executive-office-of-the-president/\">\n",
      "            Executive Offices\n",
      "           </a>\n",
      "          </li>\n",
      "          <li class=\"menu-item menu-item-type-post_type menu-item-object-page menu-item-93 col navlink top-level-menu-item\" id=\"menu-item-93\">\n",
      "           <a href=\"https://www.whitehouse.gov/priorities/\">\n",
      "            Priorities\n",
      "           </a>\n",
      "          </li>\n",
      "          <li class=\"menu-item menu-item-type-post_type menu-item-object-page menu-item-65471 col navlink top-level-menu-item\" id=\"menu-item-65471\">\n",
      "           <a href=\"https://www.whitehouse.gov/therecord/\">\n",
      "            The Record\n",
      "           </a>\n",
      "          </li>\n",
      "          <li class=\"menu-item menu-item-type-post_type menu-item-object-page current_page_parent menu-item-2785 col navlink top-level-menu-item\" id=\"menu-item-2785\">\n",
      "           <a href=\"https://www.whitehouse.gov/briefing-room/\">\n",
      "            Briefing Room\n",
      "           </a>\n",
      "          </li>\n",
      "          <li class=\"menu-item menu-item-type-post_type menu-item-object-page menu-item-92 col navlink top-level-menu-item\" id=\"menu-item-92\">\n",
      "           <a href=\"https://www.whitehouse.gov/about-the-white-house/\">\n",
      "            The White House\n",
      "           </a>\n",
      "          </li>\n",
      "          <li class=\"menu-item menu-item-type-post_type menu-item-object-page menu-item-65472 col navlink top-level-menu-item\" id=\"menu-item-65472\">\n",
      "           <a href=\"https://www.whitehouse.gov/disclosures/\">\n",
      "            Disclosures\n",
      "           </a>\n",
      "          </li>\n",
      "          <li class=\"menu-item menu-item-type-post_type menu-item-object-page menu-item-96 col navlink top-level-menu-item\" id=\"menu-item-96\">\n",
      "           <a href=\"https://www.whitehouse.gov/get-involved/\">\n",
      "            Get Involved\n",
      "           </a>\n",
      "          </li>\n",
      "          <li class=\"site-id-2 mlp-language-nav-item menu-item menu-item-type-mlp_language menu-item-object-mlp_language menu-item-1801 col navlink top-level-menu-item\" id=\"menu-item-1801\">\n",
      "           <a href=\"https://www.whitehouse.gov/es/\" hreflang=\"es-US\" lang=\"es-US\" rel=\"alternate\">\n",
      "            Español\n",
      "           </a>\n",
      "          </li>\n",
      "         </ul>\n",
      "        </nav>\n",
      "        <!-- .primary -->\n",
      "       </section>\n",
      "       <!-- #primary-footer-menu-section -->\n",
      "       <div class=\"footer-right\">\n",
      "        <section class=\"justify-content-center footer-navigation-section secondary-footer-navigation\">\n",
      "         <nav aria-label=\"Secondary Footer Navigation\" class=\"footer-secondary col-xs-12 col-md-12 col-lg-10\">\n",
      "          <ul class=\"menu\" id=\"footer-secondary\">\n",
      "           <li class=\"menu-item menu-item-type-post_type menu-item-object-page menu-item-54640 col small-text top-level-menu-item\" id=\"menu-item-54640\">\n",
      "            <a href=\"https://www.whitehouse.gov/contact/\">\n",
      "             Contact Us\n",
      "            </a>\n",
      "           </li>\n",
      "           <li class=\"menu-item menu-item-type-post_type menu-item-object-page menu-item-54641 col small-text top-level-menu-item\" id=\"menu-item-54641\">\n",
      "            <a href=\"https://www.whitehouse.gov/privacy/\">\n",
      "             Privacy Policy\n",
      "            </a>\n",
      "           </li>\n",
      "           <li class=\"menu-item menu-item-type-post_type menu-item-object-page menu-item-54642 col small-text top-level-menu-item\" id=\"menu-item-54642\">\n",
      "            <a href=\"https://www.whitehouse.gov/copyright/\">\n",
      "             Copyright Policy\n",
      "            </a>\n",
      "           </li>\n",
      "           <li class=\"menu-item menu-item-type-post_type menu-item-object-page menu-item-54643 col small-text top-level-menu-item\" id=\"menu-item-54643\">\n",
      "            <a href=\"https://www.whitehouse.gov/accessibility/\">\n",
      "             Accessibility Statement\n",
      "            </a>\n",
      "           </li>\n",
      "          </ul>\n",
      "         </nav>\n",
      "         <!-- .footer-secondary -->\n",
      "        </section>\n",
      "        <div class=\"social-and-address\">\n",
      "         <div class=\"footer__social\">\n",
      "          <nav aria-label=\"Social Navigation\" class=\"col-xs-12\">\n",
      "           <ul class=\"social-simple\" id=\"footer-social-navigation\">\n",
      "            <li class=\"menu-item menu-item-type-custom menu-item-object-custom menu-item-87 col-auto top-level-menu-item\">\n",
      "             <a class=\"external-link\" href=\"https://www.instagram.com/whitehouse/\" rel=\"noopener noreferrer\" target=\"_blank\">\n",
      "              <svg aria-hidden=\"true\" tabindex=\"-1\" viewbox=\"0 0 21 20\" xmlns=\"http://www.w3.org/2000/svg\">\n",
      "               <path d=\"M6.92773 6.26953C7.90169 5.29557 9.07617 4.80859 10.4512 4.80859C11.8262 4.80859 12.9863 5.29557 13.9316 6.26953C14.9056 7.21484 15.3926 8.375 15.3926 9.75C15.3926 11.125 14.9056 12.2995 13.9316 13.2734C12.9863 14.2188 11.8262 14.6914 10.4512 14.6914C9.07617 14.6914 7.90169 14.2188 6.92773 13.2734C5.98242 12.2995 5.50977 11.125 5.50977 9.75C5.50977 8.375 5.98242 7.21484 6.92773 6.26953ZM8.17383 12.0273C8.80404 12.6576 9.56315 12.9727 10.4512 12.9727C11.3392 12.9727 12.0983 12.6576 12.7285 12.0273C13.3587 11.3971 13.6738 10.638 13.6738 9.75C13.6738 8.86198 13.3587 8.10286 12.7285 7.47266C12.0983 6.84245 11.3392 6.52734 10.4512 6.52734C9.56315 6.52734 8.80404 6.84245 8.17383 7.47266C7.54362 8.10286 7.22852 8.86198 7.22852 9.75C7.22852 10.638 7.54362 11.3971 8.17383 12.0273ZM16.3809 3.82031C16.61 4.02083 16.7246 4.27865 16.7246 4.59375C16.7246 4.90885 16.61 5.18099 16.3809 5.41016C16.1803 5.63932 15.9225 5.75391 15.6074 5.75391C15.2923 5.75391 15.0202 5.63932 14.791 5.41016C14.5618 5.18099 14.4473 4.90885 14.4473 4.59375C14.4473 4.27865 14.5618 4.02083 14.791 3.82031C15.0202 3.59115 15.2923 3.47656 15.6074 3.47656C15.9225 3.47656 16.1803 3.59115 16.3809 3.82031ZM20.0332 5.79688C20.0618 6.57031 20.0762 7.88802 20.0762 9.75C20.0762 11.612 20.0618 12.9297 20.0332 13.7031C19.9473 15.4505 19.4173 16.8112 18.4434 17.7852C17.498 18.7305 16.1517 19.2318 14.4043 19.2891C13.6309 19.3464 12.3132 19.375 10.4512 19.375C8.58919 19.375 7.27148 19.3464 6.49805 19.2891C4.75065 19.2031 3.4043 18.6875 2.45898 17.7422C2.08659 17.3984 1.78581 16.9974 1.55664 16.5391C1.32747 16.0807 1.1556 15.6367 1.04102 15.207C0.955078 14.7773 0.912109 14.276 0.912109 13.7031C0.854818 12.9297 0.826172 11.612 0.826172 9.75C0.826172 7.88802 0.854818 6.55599 0.912109 5.75391C0.998047 4.03516 1.51367 2.70312 2.45898 1.75781C3.4043 0.783854 4.75065 0.253906 6.49805 0.167969C7.27148 0.139323 8.58919 0.125 10.4512 0.125C12.3132 0.125 13.6309 0.139323 14.4043 0.167969C16.1517 0.253906 17.498 0.783854 18.4434 1.75781C19.4173 2.70312 19.9473 4.04948 20.0332 5.79688ZM17.9707 15.4219C18.0566 15.1927 18.1283 14.9062 18.1855 14.5625C18.2428 14.1901 18.2858 13.7604 18.3145 13.2734C18.3431 12.7578 18.3574 12.3424 18.3574 12.0273C18.3574 11.7122 18.3574 11.2682 18.3574 10.6953C18.3574 10.1224 18.3574 9.80729 18.3574 9.75C18.3574 9.66406 18.3574 9.34896 18.3574 8.80469C18.3574 8.23177 18.3574 7.78776 18.3574 7.47266C18.3574 7.15755 18.3431 6.75651 18.3145 6.26953C18.2858 5.75391 18.2428 5.32422 18.1855 4.98047C18.1283 4.60807 18.0566 4.30729 17.9707 4.07812C17.627 3.1901 17.0111 2.57422 16.123 2.23047C15.8939 2.14453 15.5931 2.07292 15.2207 2.01562C14.877 1.95833 14.4473 1.91536 13.9316 1.88672C13.4447 1.85807 13.0436 1.84375 12.7285 1.84375C12.4421 1.84375 11.998 1.84375 11.3965 1.84375C10.8236 1.84375 10.5085 1.84375 10.4512 1.84375C10.3939 1.84375 10.0788 1.84375 9.50586 1.84375C8.93294 1.84375 8.48893 1.84375 8.17383 1.84375C7.85872 1.84375 7.44336 1.85807 6.92773 1.88672C6.44076 1.91536 6.01107 1.95833 5.63867 2.01562C5.29492 2.07292 5.00846 2.14453 4.7793 2.23047C3.89128 2.57422 3.27539 3.1901 2.93164 4.07812C2.8457 4.30729 2.77409 4.60807 2.7168 4.98047C2.65951 5.32422 2.61654 5.75391 2.58789 6.26953C2.55924 6.75651 2.54492 7.15755 2.54492 7.47266C2.54492 7.75911 2.54492 8.20312 2.54492 8.80469C2.54492 9.3776 2.54492 9.69271 2.54492 9.75C2.54492 9.86458 2.54492 10.1367 2.54492 10.5664C2.54492 10.9674 2.54492 11.3112 2.54492 11.5977C2.54492 11.8555 2.54492 12.1992 2.54492 12.6289C2.57357 13.0586 2.60221 13.431 2.63086 13.7461C2.65951 14.0326 2.70247 14.3333 2.75977 14.6484C2.81706 14.9635 2.87435 15.2214 2.93164 15.4219C3.30404 16.3099 3.91992 16.9258 4.7793 17.2695C5.00846 17.3555 5.29492 17.4271 5.63867 17.4844C6.01107 17.5417 6.44076 17.5846 6.92773 17.6133C7.44336 17.6419 7.8444 17.6562 8.13086 17.6562C8.44596 17.6562 8.88997 17.6562 9.46289 17.6562C10.0645 17.6562 10.3939 17.6562 10.4512 17.6562C10.5371 17.6562 10.8522 17.6562 11.3965 17.6562C11.9694 17.6562 12.4134 17.6562 12.7285 17.6562C13.0436 17.6562 13.4447 17.6419 13.9316 17.6133C14.4473 17.5846 14.877 17.5417 15.2207 17.4844C15.5931 17.4271 15.8939 17.3555 16.123 17.2695C17.0111 16.8971 17.627 16.2812 17.9707 15.4219Z\">\n",
      "               </path>\n",
      "              </svg>\n",
      "              <span class=\"screen-reader-text\">\n",
      "               Instagram\n",
      "               <span class=\"screen-reader-text\">\n",
      "                Opens in a new window\n",
      "               </span>\n",
      "              </span>\n",
      "             </a>\n",
      "            </li>\n",
      "            <li class=\"menu-item menu-item-type-custom menu-item-object-custom menu-item-88 col-auto top-level-menu-item\">\n",
      "             <a class=\"external-link\" href=\"https://www.facebook.com/WhiteHouse/\" rel=\"noopener noreferrer\" target=\"_blank\">\n",
      "              <svg aria-hidden=\"true\" tabindex=\"-1\" viewbox=\"0 0 11 19\" xmlns=\"http://www.w3.org/2000/svg\">\n",
      "               <path d=\"M9.72243 10.375H7.08571V18.25H3.57008V10.375H0.722427V7.10547H3.57008V4.64453C3.57008 3.70703 3.74586 2.91016 4.09743 2.25391C4.44899 1.59766 4.94118 1.10547 5.57399 0.777344C6.23024 0.425781 6.98024 0.25 7.82399 0.25C8.19899 0.25 8.59743 0.273438 9.0193 0.320312C9.44118 0.34375 9.7693 0.378906 10.0037 0.425781L10.3552 0.460938V3.23828H8.94899C8.29274 3.23828 7.81227 3.41406 7.50758 3.76562C7.22633 4.09375 7.08571 4.50391 7.08571 4.99609V7.10547H10.2146L9.72243 10.375Z\">\n",
      "               </path>\n",
      "              </svg>\n",
      "              <span class=\"screen-reader-text\">\n",
      "               Facebook\n",
      "               <span class=\"screen-reader-text\">\n",
      "                Opens in a new window\n",
      "               </span>\n",
      "              </span>\n",
      "             </a>\n",
      "            </li>\n",
      "            <li class=\"menu-item menu-item-type-custom menu-item-object-custom menu-item-89 col-auto top-level-menu-item\">\n",
      "             <a class=\"external-link\" href=\"https://twitter.com/whitehouse\" rel=\"noopener noreferrer\" target=\"_blank\">\n",
      "              <svg aria-hidden=\"true\" tabindex=\"-1\" viewbox=\"0 0 1792 1792\" xmlns=\"http://www.w3.org/2000/svg\">\n",
      "               <path d=\"M1684 408q-67 98-162 167 1 14 1 42 0 130-38 259.5t-115.5 248.5-184.5 210.5-258 146-323 54.5q-271 0-496-145 35 4 78 4 225 0 401-138-105-2-188-64.5t-114-159.5q33 5 61 5 43 0 85-11-112-23-185.5-111.5t-73.5-205.5v-4q68 38 146 41-66-44-105-115t-39-154q0-88 44-163 121 149 294.5 238.5t371.5 99.5q-8-38-8-74 0-134 94.5-228.5t228.5-94.5q140 0 236 102 109-21 205-78-37 115-142 178 93-10 186-50z\">\n",
      "               </path>\n",
      "              </svg>\n",
      "              <span class=\"screen-reader-text\">\n",
      "               Twitter\n",
      "               <span class=\"screen-reader-text\">\n",
      "                Opens in a new window\n",
      "               </span>\n",
      "              </span>\n",
      "             </a>\n",
      "            </li>\n",
      "            <li class=\"menu-item menu-item-type-custom menu-item-object-custom menu-item-90 col-auto top-level-menu-item\">\n",
      "             <a class=\"external-link\" href=\"https://www.youtube.com/user/whitehouse\" rel=\"noopener noreferrer\" target=\"_blank\">\n",
      "              <svg aria-hidden=\"true\" fill=\"none\" tabindex=\"-1\" viewbox=\"0 0 18 12\" xmlns=\"http://www.w3.org/2000/svg\">\n",
      "               <path d=\"M17.1562 1.90625C16.9688 1.15625 16.375 0.5625 15.6562 0.375C14.3125 0 9 0 9 0C9 0 3.65625 0 2.3125 0.375C1.59375 0.5625 1 1.15625 0.8125 1.90625C0.4375 3.21875 0.4375 6.03125 0.4375 6.03125C0.4375 6.03125 0.4375 8.8125 0.8125 10.1562C1 10.9062 1.59375 11.4688 2.3125 11.6562C3.65625 12 9 12 9 12C9 12 14.3125 12 15.6563 11.6562C16.375 11.4687 16.9688 10.9062 17.1563 10.1562C17.5313 8.8125 17.5312 6.03125 17.5312 6.03125C17.5312 6.03125 17.5312 3.21875 17.1562 1.90625ZM7.25 8.5625L7.25 3.5L11.6875 6.03125L7.25 8.5625Z\">\n",
      "               </path>\n",
      "              </svg>\n",
      "              <span class=\"screen-reader-text\">\n",
      "               YouTube\n",
      "               <span class=\"screen-reader-text\">\n",
      "                Opens in a new window\n",
      "               </span>\n",
      "              </span>\n",
      "             </a>\n",
      "            </li>\n",
      "           </ul>\n",
      "          </nav>\n",
      "          <!-- social -->\n",
      "         </div>\n",
      "         <!-- .footer__social -->\n",
      "         <p class=\"address\">\n",
      "          <strong>\n",
      "           The White House\n",
      "          </strong>\n",
      "          <br/>\n",
      "          1600 Pennsylvania Ave NW\n",
      "          <br/>\n",
      "          Washington, DC 20500\n",
      "         </p>\n",
      "         <!-- .address -->\n",
      "         <a class=\"wh-logo-link\" href=\"https://www.whitehouse.gov/\" rel=\"home\">\n",
      "          <span class=\"screen-reader-text\">\n",
      "           WH.gov\n",
      "          </span>\n",
      "          <svg viewbox=\"0 0 1231 180\" xmlns=\"http://www.w3.org/2000/svg\">\n",
      "           <path d=\"M200.9,126h1.5l30-102.8l-18.7-9V4.5h60.7v9.7l-21.7,10.5L200.9,177h-22.5l-39-113.3H138L94.5,177H72L23.2,21.8L0,14.3\n",
      "\t\tV4.5h86.2v9l-20.2,6l30,107.3h0.7l33.7-90l-6-15.8l-18-7.5v-9h80.2v9l-20.2,6.8L200.9,126z\">\n",
      "           </path>\n",
      "           <path d=\"M446.1,21l-22.5-6V4.5h88.5V15l-25.5,6v138.8l25.5,6v9.8h-88.5v-9.8l22.5-6V96h-72v63.8l22.5,6v9.8h-88.5v-9.8l25.5-6V21\n",
      "\t\tl-25.5-6V4.5h89.2V15l-22.5,6v57.8h72V21H446.1z\">\n",
      "           </path>\n",
      "           <path d=\"M577.3,180c-9.7,0-17.2-7.5-17.2-17.2c0-9,7.5-17.2,17.2-17.2c9.7,0,17.2,7.5,17.2,17.2C594.5,171.7,587,180,577.3,180z\">\n",
      "           </path>\n",
      "           <path d=\"M770.7,57.8c-16.5-31.5-32.2-45-56.2-45c-27.7,0-51.7,24.8-51.7,74.2c0,51,24.7,77.2,60.7,77.2c13.5,0,22.5-3.8,32.2-9\n",
      "\t\tv-43.5l-25.5-6V96h74.2v9.8l-22.5,6v66l-8.2,1.5l-13.5-13.5c-13.5,8.2-27,13.5-47.2,13.5c-46.5,0-83.2-33-83.2-86.2\n",
      "\t\tc0-51.8,38.2-92.2,89.2-92.2c16.5,0,30,3.8,40.5,9l8.2-9.8h9l1.5,57L770.7,57.8z\">\n",
      "           </path>\n",
      "           <path d=\"M931.9,179.3c-54,0-83.2-41.2-83.2-89.3c0-48,33-89.2,84.7-89.2c54,0,83.2,41.2,83.2,89.2\n",
      "\t\tC1016.6,138.8,982.9,179.3,931.9,179.3z M929.7,12c-24.7,0-49.5,18-49.5,78c0,60,28.5,78,55.5,78c24.7,0,49.5-24.8,49.5-78\n",
      "\t\tC985.2,36.8,956.7,12,929.7,12z\">\n",
      "           </path>\n",
      "           <path d=\"M1146.3,177h-13.5l-60.7-155.3l-24.7-6.8V4.5h81v9.7l-26.2,6l45,121.5l45-119.3l-20.2-7.5V4.5h59.2v9.7l-22.5,7.5\n",
      "\t\tL1146.3,177z\">\n",
      "           </path>\n",
      "          </svg>\n",
      "         </a>\n",
      "        </div>\n",
      "       </div>\n",
      "       <!-- .footer-right -->\n",
      "      </div>\n",
      "      <!-- .footer-wrapper -->\n",
      "     </div>\n",
      "     <!-- .row -->\n",
      "    </div>\n",
      "    <!-- .container -->\n",
      "   </footer>\n",
      "   <!-- #colophon -->\n",
      "  </div>\n",
      "  <!-- #page -->\n",
      "  <div class=\"scroll-to-top\">\n",
      "   <a class=\"scroll-read-more\" href=\"#content\">\n",
      "    <div class=\"scroll-to-top__inner\">\n",
      "     <span class=\"screen-reader-text\">\n",
      "      Scroll to Top\n",
      "     </span>\n",
      "     <svg aria-labelledby=\"scroll-to-top-svg-title\" role=\"img\" viewbox=\"0 0 11.3 28\" xmlns=\"http://www.w3.org/2000/svg\">\n",
      "      <title id=\"scroll-to-top-svg-title\">\n",
      "       Scroll to Top\n",
      "      </title>\n",
      "      <path d=\"M5.6,0L0,14l5-2.5V28h1.3V11.5l5,2.5C11.3,14.1,5.6,0,5.6,0z\">\n",
      "      </path>\n",
      "     </svg>\n",
      "    </div>\n",
      "    <span class=\"small-text scroll-to-top__dirtext\">\n",
      "     Top\n",
      "    </span>\n",
      "   </a>\n",
      "  </div>\n",
      "  <script id=\"theme_js-js-extra\">\n",
      "   var emailSignupL10n = {\"fakeOrInvalid\":\"This email address looks fake or invalid. Please enter a real email address.\",\"tooManySignups\":\"Email address has too many recent signup requests.\",\"defaultError\":\"There was an error processing your email.\"};\n",
      "  </script>\n",
      "  <script src=\"https://www.whitehouse.gov/wp-content/themes/whitehouse/assets/js/script.min.js?m=1701297001g\" type=\"text/javascript\">\n",
      "  </script>\n",
      " </body>\n",
      "</html>\n",
      "\n"
     ]
    }
   ],
   "source": [
    "print(soup.prettify())"
   ]
  },
  {
   "cell_type": "code",
   "execution_count": 7,
   "id": "0e81cdea",
   "metadata": {},
   "outputs": [
    {
     "data": {
      "text/plain": [
       "\"\\n\\n\\nSkip to content\\n\\n\\nYou have JavaScript disabled. Please enable JavaScript to use this feature.\\n\\n\\n\\nToggle High Contrast\\n\\n\\n\\n\\n\\t\\tToggle High Contrast\\t\\n\\n\\n\\n\\n\\n\\nToggle Large Font Size\\n\\n\\n\\n\\n\\t\\tToggle Large Font Size\\t\\n\\n\\n\\n\\n\\n\\n\\n\\n\\n\\n\\n\\n\\n\\n\\nThe White House\\n\\n\\nThe White House\\n \\n\\n\\n\\n\\nThe White House\\n\\n\\n\\n\\n\\n\\n\\n\\n\\n\\n\\n\\n\\n\\n\\n\\n\\n\\n\\n\\n\\n\\n\\n\\n\\n\\n\\n\\n\\n\\n\\n\\n\\n\\n\\n\\n\\t\\t\\t\\t\\t\\t\\t\\tHome\\t\\t\\t\\t\\t\\t\\t\\n\\n\\nAdministration\\nPriorities\\nThe Record\\nBriefing Room\\nEspañol\\n \\n\\n\\n\\nInstagramOpens in a new window\\nFacebookOpens in a new window\\nTwitterOpens in a new window\\nYouTubeOpens in a new window\\n \\n\\n\\nContact Us\\nPrivacy Policy\\nCopyright Policy\\nAccessibility Statement\\n \\n\\n\\n\\n\\n\\n\\n\\n\\n\\nMenu\\nClose\\n\\n\\n\\n\\n\\n\\n\\n\\nTo search this site, enter a search term\\n\\n \\n\\n\\nSearch\\n\\n\\n\\n\\n\\n\\nMobile Menu Overlay\\n\\n\\n\\n\\n\\n\\n\\n\\n\\n\\n\\n\\n\\n\\n\\n\\n\\n\\n\\n\\n\\n\\n\\n\\n\\n\\n\\n\\n\\n\\n\\n\\n\\n\\n\\n\\n\\n\\n\\nAdministration\\n\\nShow submenu for “Administration””\\n\\n\\nPresident Joe Biden\\nVice President Kamala Harris\\nFirst Lady Dr. Jill Biden\\nSecond Gentleman Douglas Emhoff\\nThe Cabinet\\n\\n\\nExecutive Offices\\n\\nShow submenu for “Executive Offices””\\n\\n\\nCouncil of Economic Advisers\\nCouncil on Environmental Quality\\nDomestic Policy Council\\nGender Policy Council\\nNational Economic Council\\nNational Security Council\\nNational Space Council\\nOffice of Intergovernmental Affairs\\nOffice of Management and Budget\\nOffice of the National Cyber Director\\nOffice of National Drug Control Policy\\nOffice of Public Engagement\\nOffice of Science and Technology Policy\\nOffice of the United States Trade Representative\\nClimate Policy Office\\nPresidential Personnel Office\\n\\n\\nPriorities\\n\\n\\nBriefing Room\\nThe White House\\n\\nShow submenu for “The White House””\\n\\n\\nPresidents\\nFirst Families\\nThe Grounds\\nOur Government\\n\\n\\nGet Involved\\n\\nShow submenu for “Get Involved””\\n\\n\\nWrite or Call The White House\\nJoin Us\\nWhite House Fellows\\nWhite House Internship Program\\n\\n\\n\\n\\nThe Record\\nDisclosures\\nEspañol\\n \\n\\n\\n\\nContact Us\\nPrivacy Policy\\nCopyright Policy\\nAccessibility Statement\\n \\n\\n\\nInstagramOpens in a new window\\nFacebookOpens in a new window\\nTwitterOpens in a new window\\nYouTubeOpens in a new window\\n \\n\\n\\n\\nThe White House\\n\\t\\t\\t\\t\\t\\t\\t\\t1600 Pennsylvania Ave NW\\n\\t\\t\\t\\t\\t\\t\\t\\tWashington, DC 20500\\n\\t\\t\\t\\t\\t\\t\\t\\n\\n\\n\\n\\n\\n\\n\\n\\n\\n\\n\\n\\nTo search this site, enter a search term\\n\\n \\n\\n\\nSearch\\n\\n\\n\\n\\n\\nOctober 30, 2023 \\n\\n\\t\\t\\t\\t\\t\\tExecutive Order on the Safe, Secure, and Trustworthy Development and Use of Artificial Intelligence\\t\\t\\t\\t\\t\\n\\n\\n\\n\\nHome\\n \\n\\n\\n\\n\\t\\t\\t\\t\\tBriefing Room\\t\\t\\t\\t\\n\\n\\n\\n\\t\\t\\t\\t\\tPresidential Actions\\t\\t\\t\\t\\n\\n\\n\\n\\n\\n\\n\\n\\n\\n\\n\\xa0 \\xa0 \\xa0By the authority vested in me as President by the Constitution and the laws of the United States of America, it is hereby ordered as follows:\\n\\xa0 \\xa0 \\xa0Section 1.\\xa0 Purpose.\\xa0 Artificial intelligence (AI) holds extraordinary potential for both promise and peril.\\xa0 Responsible AI use has the potential to help solve urgent challenges while making our world more prosperous, productive, innovative, and secure.\\xa0 At the same time, irresponsible use could exacerbate societal harms such as fraud, discrimination, bias, and disinformation; displace and disempower workers; stifle competition; and pose risks to national security.\\xa0 Harnessing AI for good and realizing its myriad benefits requires mitigating its substantial risks.\\xa0 This endeavor demands a society-wide effort that includes government, the private sector, academia, and civil society.\\n\\xa0 \\xa0 \\xa0My Administration places the highest urgency on governing the development and use of AI safely and responsibly, and is therefore advancing a coordinated, Federal Government-wide approach to doing so. \\xa0The rapid speed at which AI capabilities are advancing compels the United States to lead in this moment for the sake of our security, economy, and society.\\n\\xa0 \\xa0 \\xa0In the end, AI reflects the principles of the people who build it, the people who use it, and the data upon which it is built.\\xa0 I firmly believe that the power of our ideals; the foundations of our society; and the creativity, diversity, and decency of our people are the reasons that America thrived in past eras of rapid change.\\xa0 They are the reasons we will succeed again in this moment.\\xa0 We are more than capable of harnessing AI for justice, security, and opportunity for all.\\n\\xa0 \\xa0 \\xa0Sec. 2.\\xa0 Policy and Principles.\\xa0 It is the policy of my Administration to advance and govern the development and use of AI in accordance with eight guiding principles and priorities.\\xa0 When undertaking the actions set forth in this order, executive departments and agencies (agencies) shall, as appropriate and consistent with applicable law, adhere to these principles, while, as feasible, taking into account the views of other agencies, industry, members of academia, civil society, labor unions, international allies and partners, and other relevant organizations:\\n\\xa0 \\xa0 \\xa0(a)\\xa0 Artificial Intelligence must be safe and secure.\\xa0 Meeting this goal requires robust, reliable, repeatable, and standardized evaluations of AI systems, as well as policies, institutions, and, as appropriate, other mechanisms to test, understand, and mitigate risks from these systems before they are put to use.\\xa0 It also requires addressing AI systems’ most pressing security risks — including with respect to biotechnology, cybersecurity, critical infrastructure, and other national security dangers — while navigating AI’s opacity and complexity.\\xa0 Testing and evaluations, including post-deployment performance monitoring, will help ensure that AI systems function as intended, are resilient against misuse or dangerous modifications, are ethically developed and operated in a secure manner, and are compliant with applicable Federal laws and policies.\\xa0 Finally, my Administration will help develop effective labeling and content provenance mechanisms, so that Americans are able to determine when content is generated using AI and when it is not.\\xa0 These actions will provide a vital foundation for an approach that addresses AI’s risks without unduly reducing its benefits.\\xa0\\n\\xa0 \\xa0 \\xa0(b)\\xa0 Promoting responsible innovation, competition, and collaboration will allow the United States to lead in AI and unlock the technology’s potential to solve some of society’s most difficult challenges.\\xa0 This effort requires investments in AI-related education, training, development, research, and capacity, while simultaneously tackling novel intellectual property (IP) questions and other problems to protect inventors and creators.\\xa0 Across the Federal Government, my Administration will support programs to provide Americans the skills they need for the age of AI and attract the world’s AI talent to our shores — not just to study, but to stay — so that the companies and technologies of the future are made in America.\\xa0 The Federal Government will promote a fair, open, and competitive ecosystem and marketplace for AI and related technologies so that small developers and entrepreneurs can continue to drive innovation.\\xa0 Doing so requires stopping unlawful collusion and addressing risks from dominant firms’ use of key assets such as semiconductors, computing power, cloud storage, and data to disadvantage competitors, and it requires supporting a marketplace that harnesses the benefits of AI to provide new opportunities for small businesses, workers, and entrepreneurs.\\xa0\\n\\xa0 \\xa0 \\xa0(c)\\xa0 The responsible development and use of AI require a commitment to supporting American workers.\\xa0 As AI creates new jobs and industries, all workers need a seat at the table, including through collective bargaining, to ensure that they benefit from these opportunities.\\xa0 My Administration will seek to adapt job training and education to support a diverse workforce and help provide access to opportunities that AI creates.\\xa0 In the workplace itself, AI should not be deployed in ways that undermine rights, worsen job quality, encourage undue worker surveillance, lessen market competition, introduce new health and safety risks, or cause harmful labor-force disruptions.\\xa0 The critical next steps in AI development should be built on the views of workers, labor unions, educators, and employers to support responsible uses of AI that improve workers’ lives, positively augment human work, and help all people safely enjoy the gains and opportunities from technological innovation.\\n\\xa0 \\xa0 \\xa0(d)\\xa0 Artificial Intelligence policies must be consistent with my Administration’s dedication to advancing equity and civil rights.\\xa0 My Administration cannot — and will not — tolerate the use of AI to disadvantage those who are already too often denied equal opportunity and justice.\\xa0 From hiring to housing to healthcare, we have seen what happens when AI use deepens discrimination and bias, rather than improving quality of life.\\xa0 Artificial Intelligence systems deployed irresponsibly have reproduced and intensified existing inequities, caused new types of harmful discrimination, and exacerbated online and physical harms.\\xa0 My Administration will build on the important steps that have already been taken — such as issuing the Blueprint for an AI Bill of Rights, the AI Risk Management Framework, and Executive Order 14091 of February 16, 2023 (Further Advancing Racial Equity and Support for Underserved Communities Through the Federal Government) — in seeking to ensure that AI complies with all Federal laws and to promote robust technical evaluations, careful oversight, engagement with affected communities, and rigorous regulation.\\xa0 It is necessary to hold those developing and deploying AI accountable to standards that protect against unlawful discrimination and abuse, including in the justice system and the Federal Government.\\xa0 Only then can Americans trust AI to advance civil rights, civil liberties, equity, and justice for all.\\n\\xa0 \\xa0 \\xa0(e)\\xa0 The interests of Americans who increasingly use, interact with, or purchase AI and AI-enabled products in their daily lives must be protected.\\xa0 Use of new technologies, such as AI, does not excuse organizations from their legal obligations, and hard-won consumer protections are more important than ever in moments of technological change.\\xa0 The Federal Government will enforce existing consumer protection laws and principles and enact appropriate safeguards against fraud, unintended bias, discrimination, infringements on privacy, and other harms from AI.\\xa0 Such protections are especially important in critical fields like healthcare, financial services, education, housing, law, and transportation, where mistakes by or misuse of AI could harm patients, cost consumers or small businesses, or jeopardize safety or rights.\\xa0 At the same time, my Administration will promote responsible uses of AI that protect consumers, raise the quality of goods and services, lower their prices, or expand selection and availability.\\n\\xa0 \\xa0 \\xa0(f)\\xa0 Americans’ privacy and civil liberties must be protected as AI continues advancing.\\xa0 Artificial Intelligence is making it easier to extract, re-identify, link, infer, and act on sensitive information about people’s identities, locations, habits, and desires.\\xa0 Artificial Intelligence’s capabilities in these areas can increase the risk that personal data could be exploited and exposed.\\xa0 To combat this risk, the Federal Government will ensure that the collection, use, and retention of data is lawful, is secure, and mitigates privacy and confidentiality risks.\\xa0 Agencies shall use available policy and technical tools, including privacy-enhancing technologies (PETs) where appropriate, to protect privacy and to combat the broader legal and societal risks — including the chilling of First Amendment rights — that result from the improper collection and use of people’s data.\\n\\xa0 \\xa0 \\xa0(g)\\xa0 It is important to manage the risks from the Federal Government’s own use of AI and increase its internal capacity to regulate, govern, and support responsible use of AI to deliver better results for Americans.\\xa0 These efforts start with people, our Nation’s greatest asset.\\xa0 My Administration will take steps to attract, retain, and develop public service-oriented AI professionals, including from underserved communities, across\\xa0disciplines — including technology, policy, managerial,\\xa0procurement, regulatory, ethical, governance, and legal fields — and ease AI professionals’ path into the Federal Government to help harness and govern AI.\\xa0 The Federal Government will work to ensure that all members of its workforce receive adequate training to understand the benefits, risks, and limitations of AI for their job functions, and to modernize Federal Government information technology infrastructure, remove\\xa0bureaucratic obstacles, and ensure that safe and rights-respecting AI is adopted, deployed, and used.\\xa0\\n\\xa0 \\xa0 \\xa0(h)\\xa0 The Federal Government should lead the way to global societal, economic, and technological progress, as the United\\xa0States has in previous eras of disruptive innovation and change.\\xa0 This leadership is not measured solely by the technological advancements our country makes.\\xa0 Effective leadership also means pioneering those systems and safeguards needed to deploy technology responsibly — and building and promoting those safeguards with the rest of the world. \\xa0My Administration will engage with international allies and partners in developing a framework to manage AI’s risks, unlock AI’s potential for good, and promote common approaches to shared challenges.\\xa0 The Federal Government will seek to promote responsible AI safety and security principles and actions with other nations, including our competitors, while leading key global conversations and collaborations to ensure that AI benefits the whole world, rather than exacerbating inequities, threatening human rights, and causing other harms.\\xa0\\n\\xa0 \\xa0 \\xa0Sec. 3.\\xa0 Definitions.\\xa0 For purposes of this order:\\n\\xa0 \\xa0 \\xa0(a)\\xa0 The term “agency” means each agency described in 44\\xa0U.S.C. 3502(1), except for the independent regulatory agencies described in 44 U.S.C. 3502(5).\\n\\xa0 \\xa0 \\xa0(b)\\xa0 The term “artificial intelligence” or “AI” has the meaning set forth in 15 U.S.C. 9401(3): \\xa0a machine-based system that can, for a given set of human-defined objectives, make predictions, recommendations, or decisions influencing real or virtual environments.\\xa0 Artificial intelligence systems use machine- and human-based inputs to perceive real and virtual environments; abstract such perceptions into models through analysis in an automated manner; and use model inference to formulate options for information or action.\\n\\xa0 \\xa0 \\xa0(c)\\xa0 The term “AI model” means a component of an information system that implements AI technology and uses computational, statistical, or machine-learning techniques to produce outputs from a given set of inputs.\\n\\xa0 \\xa0 \\xa0(d)\\xa0 The term “AI red-teaming” means a structured testing effort to find flaws and vulnerabilities in an AI system, often in a controlled environment and in collaboration with developers of AI.\\xa0 Artificial Intelligence red-teaming is most often performed by dedicated “red teams” that adopt adversarial methods to identify flaws and vulnerabilities, such as harmful or discriminatory outputs from an AI system, unforeseen or undesirable system behaviors, limitations, or potential risks associated with the misuse of the system.\\n\\xa0 \\xa0 \\xa0(e)\\xa0 The term “AI system” means any data system, software, hardware, application, tool, or utility that operates in whole or in part using AI.\\n\\xa0 \\xa0 \\xa0(f)\\xa0 The term “commercially available information” means any information or data about an individual or group of individuals, including an individual’s or group of individuals’ device or location, that is made available or obtainable and sold, leased, or licensed to the general public or to governmental or non-governmental entities.\\xa0\\n\\xa0 \\xa0 \\xa0(g)\\xa0 The term “crime forecasting” means the use of analytical techniques to attempt to predict future crimes or crime-related information.\\xa0 It can include machine-generated predictions that use algorithms to analyze large volumes of data, as well as other forecasts that are generated without machines and based on statistics, such as historical crime statistics.\\n\\xa0 \\xa0 \\xa0(h)\\xa0 The term “critical and emerging technologies” means those technologies listed in the February 2022 Critical and Emerging Technologies List Update issued by the National Science and Technology Council (NSTC), as amended by subsequent updates to the list issued by the NSTC.\\xa0\\n\\xa0 \\xa0 \\xa0(i)\\xa0 The term “critical infrastructure” has the meaning set forth in section 1016(e) of the USA PATRIOT Act of 2001, 42\\xa0U.S.C. 5195c(e).\\n\\xa0 \\xa0 \\xa0(j)\\xa0 The term “differential-privacy guarantee” means protections that allow information about a group to be shared while provably limiting the improper access, use, or disclosure of personal information about particular entities. \\xa0\\n\\xa0 \\xa0 \\xa0(k)\\xa0 The term “dual-use foundation model” means an AI model that is trained on broad data; generally uses self-supervision; contains at least tens of billions of parameters; is applicable across a wide range of contexts; and that exhibits, or could be easily modified to exhibit, high levels of performance at tasks that pose a serious risk to security, national economic security, national public health or safety, or any combination of those matters, such as by:\\n\\xa0 \\xa0 \\xa0 \\xa0 \\xa0\\xa0(i) \\xa0\\xa0\\xa0substantially lowering the barrier of entry for non-experts to design, synthesize, acquire, or use chemical, biological, radiological, or nuclear (CBRN) weapons;\\n\\xa0 \\xa0\\xa0 \\xa0 \\xa0 \\xa0(ii)\\xa0 \\xa0enabling powerful offensive cyber operations through automated vulnerability discovery and exploitation against a wide range of potential targets of cyber attacks; or\\n\\xa0 \\xa0 \\xa0 \\xa0 \\xa0\\xa0(iii)\\xa0 permitting the evasion of human control or oversight through means of deception or obfuscation.\\nModels meet this definition even if they are provided to end users with technical safeguards that attempt to prevent users from taking advantage of the relevant unsafe capabilities.\\xa0\\n\\xa0 \\xa0 \\xa0(l)\\xa0 The term “Federal law enforcement agency” has the meaning set forth in section 21(a) of Executive Order 14074 of May 25, 2022 (Advancing Effective, Accountable Policing and Criminal Justice Practices To Enhance Public Trust and Public Safety).\\n\\xa0 \\xa0 \\xa0(m)\\xa0 The term “floating-point operation” means any mathematical operation or assignment involving floating-point numbers, which are a subset of the real numbers typically represented on computers by an integer of fixed precision scaled by an integer exponent of a fixed base.\\n\\xa0 \\xa0 \\xa0(n)\\xa0 The term “foreign person” has the meaning set forth in section 5(c) of Executive Order 13984 of January 19, 2021 (Taking Additional Steps To Address the National Emergency With Respect to Significant Malicious Cyber-Enabled Activities).\\n\\xa0 \\xa0 \\xa0(o)\\xa0 The terms “foreign reseller” and “foreign reseller of United States Infrastructure as a Service Products” mean a foreign person who has established an Infrastructure as a Service Account to provide Infrastructure as a Service Products subsequently, in whole or in part, to a third party.\\n\\xa0 \\xa0 \\xa0(p)\\xa0 The term “generative AI” means the class of AI models that emulate the structure and characteristics of input data in order to generate derived synthetic content.\\xa0 This can include images, videos, audio, text, and other digital content.\\n\\xa0 \\xa0 \\xa0(q)\\xa0 The terms “Infrastructure as a Service Product,” “United States Infrastructure as a Service Product,” “United States Infrastructure as a Service Provider,” and “Infrastructure as a Service Account” each have the respective meanings given to those terms in section 5 of Executive Order 13984.\\n\\xa0 \\xa0 \\xa0(r)\\xa0 The term “integer operation” means any mathematical operation or assignment involving only integers, or whole numbers expressed without a decimal point.\\n\\xa0 \\xa0 \\xa0(s)\\xa0 The term “Intelligence Community” has the meaning given to that term in section 3.5(h) of Executive Order 12333 of December 4, 1981 (United States Intelligence Activities), as amended.\\xa0\\n\\xa0 \\xa0 \\xa0(t)\\xa0 The term “machine learning” means a set of techniques that can be used to train AI algorithms to improve performance at a task based on data.\\n\\xa0 \\xa0 \\xa0(u)\\xa0 The term “model weight” means a numerical parameter within an AI model that helps determine the model’s outputs in response to inputs.\\n\\xa0 \\xa0 \\xa0(v)\\xa0 The term “national security system” has the meaning set forth in 44 U.S.C. 3552(b)(6).\\n\\xa0 \\xa0 \\xa0(w)\\xa0 The term “omics” means biomolecules, including nucleic acids, proteins, and metabolites, that make up a cell or cellular system.\\n\\xa0 \\xa0 \\xa0(x)\\xa0 The term “Open RAN” means the Open Radio Access Network approach to telecommunications-network standardization adopted by the O-RAN Alliance, Third Generation Partnership Project, or any similar set of published open standards for multi-vendor network equipment interoperability.\\n\\xa0 \\xa0 \\xa0(y)\\xa0 The term “personally identifiable information” has the meaning set forth in Office of Management and Budget (OMB) Circular No. A-130.\\n\\xa0 \\xa0 \\xa0(z)\\xa0 The term “privacy-enhancing technology” means any software or hardware solution, technical process, technique, or other technological means of mitigating privacy risks arising from data processing, including by enhancing predictability, manageability, disassociability, storage, security, and confidentiality.\\xa0 These technological means may include secure multiparty computation, homomorphic encryption, zero-knowledge proofs, federated learning, secure enclaves, differential privacy, and synthetic-data-generation tools.\\xa0 This is also sometimes referred to as “privacy-preserving technology.”\\n\\xa0 \\xa0 \\xa0(aa)\\xa0 The term “privacy impact assessment” has the meaning set forth in OMB Circular No. A-130.\\n\\xa0 \\xa0 \\xa0(bb)\\xa0 The term “Sector Risk Management Agency” has the meaning set forth in 6 U.S.C. 650(23).\\n\\xa0 \\xa0 \\xa0(cc)\\xa0 The term “self-healing network” means a telecommunications network that automatically diagnoses and addresses network issues to permit self-restoration.\\n\\xa0 \\xa0 \\xa0(dd)\\xa0 The term “synthetic biology” means a field of science that involves redesigning organisms, or the biomolecules of organisms, at the genetic level to give them new characteristics.\\xa0 Synthetic nucleic acids are a type of biomolecule redesigned through synthetic-biology methods.\\n\\xa0 \\xa0 \\xa0(ee)\\xa0 The term “synthetic content” means information, such as images, videos, audio clips, and text, that has been significantly modified or generated by algorithms, including by AI.\\n\\xa0 \\xa0 \\xa0(ff)\\xa0 The term “testbed” means a facility or mechanism equipped for conducting rigorous, transparent, and replicable testing of tools and technologies, including AI and PETs, to help evaluate the functionality, usability, and performance of those tools or technologies.\\n\\xa0 \\xa0 \\xa0(gg)\\xa0 The term “watermarking” means the act of embedding information, which is typically difficult to remove, into outputs created by AI — including into outputs such as photos, videos, audio clips, or text — for the purposes of verifying the authenticity of the output or the identity or characteristics of its provenance, modifications, or conveyance.\\xa0 \\xa0 \\xa0Sec. 4.\\xa0 Ensuring the Safety and Security of AI Technology.\\n\\xa0 \\xa0 \\xa04.1.\\xa0 Developing Guidelines, Standards, and Best Practices for AI Safety and Security. \\xa0(a)\\xa0 Within 270 days of the date of this order, to help ensure the development of safe, secure, and trustworthy AI systems, the Secretary of Commerce, acting through the Director of the National Institute of Standards and Technology (NIST), in coordination with the Secretary of Energy, the Secretary of Homeland Security, and the heads of other relevant agencies as the Secretary of Commerce may deem appropriate, shall:\\n\\xa0 \\xa0 \\xa0\\xa0 \\xa0 \\xa0(i)\\xa0 \\xa0Establish guidelines and best practices, with the aim of promoting consensus industry standards, for developing and deploying safe, secure, and trustworthy AI systems, including:\\n\\xa0 \\xa0 \\xa0\\xa0 \\xa0 \\xa0\\xa0 \\xa0 \\xa0(A)\\xa0 developing a companion resource to the AI Risk Management Framework, NIST AI 100-1, for generative AI;\\n\\xa0 \\xa0 \\xa0\\xa0 \\xa0 \\xa0\\xa0 \\xa0 \\xa0(B)\\xa0 developing a companion resource to the Secure Software Development Framework to incorporate secure development practices for generative AI and for dual-use foundation models; and\\n\\xa0 \\xa0 \\xa0\\xa0 \\xa0 \\xa0\\xa0 \\xa0 \\xa0(C)\\xa0 launching an initiative to create guidance and benchmarks for evaluating and auditing AI capabilities, with a focus on capabilities through which AI could cause harm, such as in the areas of cybersecurity and biosecurity.\\n\\xa0 \\xa0 \\xa0\\xa0 \\xa0 \\xa0(ii)\\xa0 Establish appropriate guidelines (except for AI used as a component of a national security system), including appropriate procedures and processes, to enable developers of AI, especially of dual-use foundation models, to conduct AI red-teaming tests to enable deployment of safe, secure, and trustworthy systems.\\xa0 These efforts shall include:\\n\\xa0 \\xa0 \\xa0\\xa0 \\xa0 \\xa0\\xa0 \\xa0 \\xa0(A)\\xa0 coordinating or developing guidelines related to assessing and managing the safety, security, and trustworthiness of dual-use foundation models; and\\n\\xa0 \\xa0 \\xa0\\xa0 \\xa0 \\xa0\\xa0 \\xa0 \\xa0(B)\\xa0 in coordination with the Secretary of Energy and the Director of the National Science Foundation (NSF), developing and helping to ensure the availability of testing environments, such as testbeds, to support the development of safe, secure, and trustworthy AI technologies, as well as to support the design, development, and deployment of associated PETs, consistent with section 9(b) of this order.\\xa0\\n\\xa0 \\xa0 \\xa0(b)\\xa0 Within 270 days of the date of this order, to understand and mitigate AI security risks, the Secretary of Energy, in coordination with the heads of other Sector Risk Management Agencies (SRMAs) as the Secretary of Energy may deem appropriate, shall develop and, to the extent permitted by law and available appropriations, implement a plan for developing the Department of Energy’s AI model evaluation tools and AI testbeds.\\xa0 The Secretary shall undertake this work using existing solutions where possible, and shall develop these tools and AI testbeds to be capable of assessing near-term extrapolations of AI systems’ capabilities.\\xa0 At a minimum, the Secretary shall develop tools to evaluate AI capabilities to generate outputs that may represent nuclear, nonproliferation, biological, chemical, critical infrastructure, and energy-security threats or hazards.\\xa0 The Secretary shall do this work solely for the purposes of guarding against these threats, and shall also develop model guardrails that reduce such risks.\\xa0 The Secretary shall, as appropriate, consult with private AI laboratories, academia, civil society, and third-party evaluators, and shall use existing solutions.\\n\\xa0 \\xa0 \\xa04.2.\\xa0 Ensuring Safe and Reliable AI. \\xa0(a)\\xa0 Within 90 days of the date of this order, to ensure and verify the continuous availability of safe, reliable, and effective AI in accordance with the Defense Production Act, as amended, 50 U.S.C. 4501 et seq., including for the national defense and the protection of critical infrastructure, the Secretary of Commerce shall require:\\n\\xa0 \\xa0 \\xa0\\xa0 \\xa0 \\xa0(i)\\xa0 \\xa0Companies developing or demonstrating an intent to develop potential dual-use foundation models to provide the Federal Government, on an ongoing basis, with information, reports, or records regarding the following:\\n\\xa0 \\xa0 \\xa0\\xa0 \\xa0 \\xa0\\xa0 \\xa0 \\xa0(A)\\xa0 any ongoing or planned activities related to training, developing, or producing dual-use foundation models, including the physical and cybersecurity protections taken to assure the integrity of that training process against sophisticated threats;\\n\\xa0 \\xa0 \\xa0\\xa0 \\xa0 \\xa0\\xa0 \\xa0 \\xa0(B)\\xa0 the ownership and possession of the model weights of any dual-use foundation models, and the physical and cybersecurity measures taken to protect those model weights; and\\n\\xa0 \\xa0 \\xa0\\xa0 \\xa0 \\xa0\\xa0 \\xa0 \\xa0(C)\\xa0 the results of any developed dual-use foundation model’s performance in relevant AI red-team testing based on guidance developed by NIST pursuant to subsection 4.1(a)(ii) of this section, and a description of any associated measures the company has taken to meet safety objectives, such as mitigations to improve performance on these red-team tests and strengthen overall model security. \\xa0Prior to the development of guidance on red-team testing standards by NIST pursuant to subsection 4.1(a)(ii) of this section, this description shall include the results of any red-team testing that the company has conducted relating to lowering the barrier to entry for the development, acquisition, and use of biological weapons by non-state actors; the discovery of software vulnerabilities and development of associated exploits; the use of software or tools to influence real or virtual events; the possibility for self-replication or propagation; and associated measures to meet safety objectives; and\\n\\xa0 \\xa0 \\xa0\\xa0 \\xa0 \\xa0(ii)\\xa0 Companies, individuals, or other organizations or entities that acquire, develop, or possess a potential large-scale computing cluster to report any such acquisition, development, or possession, including the existence and location of these clusters and the amount of total computing power available in each cluster.\\n\\xa0 \\xa0 \\xa0(b)\\xa0 The Secretary of Commerce, in consultation with the Secretary of State, the Secretary of Defense, the Secretary of Energy, and the Director of National Intelligence, shall define, and thereafter update as needed on a regular basis, the set of technical conditions for models and computing clusters that would be subject to the reporting requirements of subsection 4.2(a) of this section.\\xa0 Until such technical conditions are defined, the Secretary shall require compliance with these reporting requirements for:\\n\\xa0 \\xa0 \\xa0\\xa0 \\xa0 \\xa0(i)\\xa0 \\xa0any model that was trained using a quantity of computing power greater than 1026 integer or floating-point operations, or using primarily biological sequence data and using a quantity of computing power greater than 1023 integer or floating-point operations; and\\n\\xa0 \\xa0 \\xa0\\xa0 \\xa0 \\xa0(ii)\\xa0 any computing cluster that has a set of machines physically co-located in a single datacenter, transitively connected by data center networking of over 100 Gbit/s, and having a theoretical maximum computing capacity of 1020 integer or floating-point operations per second for training AI.\\n\\xa0 \\xa0 \\xa0(c)\\xa0 Because I find that additional steps must be taken to deal with the national emergency related to significant malicious cyber-enabled activities declared in Executive Order 13694 of April 1, 2015 (Blocking the Property of Certain Persons Engaging in Significant Malicious Cyber-Enabled Activities), as amended by Executive Order 13757 of December 28, 2016 (Taking Additional Steps to Address the National Emergency With Respect to Significant Malicious Cyber-Enabled Activities), and further amended by Executive Order 13984, to address the use of United States Infrastructure as a Service (IaaS) Products by foreign malicious cyber actors, including to impose additional record-keeping obligations with respect to foreign transactions and to assist in the investigation of transactions involving foreign malicious cyber actors, I hereby direct the Secretary of Commerce, within 90 days of the date of this order, to:\\n\\xa0 \\xa0 \\xa0\\xa0 \\xa0 \\xa0(i) \\xa0\\xa0\\xa0Propose regulations that require United States IaaS Providers to submit a report to the Secretary of Commerce when a foreign person transacts with that United States IaaS Provider to train a large AI model with potential capabilities that could be used in malicious cyber-enabled activity (a “training run”). \\xa0Such reports shall include, at a minimum, the identity of the foreign person and the existence of any training run of an AI model meeting the criteria set forth in this section, or other criteria defined by the Secretary in regulations, as well as any additional information identified by the Secretary.\\n\\xa0 \\xa0 \\xa0\\xa0 \\xa0 \\xa0(ii) \\xa0\\xa0Include a requirement in the regulations proposed pursuant to subsection 4.2(c)(i) of this section that United States IaaS Providers prohibit any foreign reseller of their United States IaaS Product from providing those products unless such foreign reseller submits to the United States IaaS Provider a report, which the United States IaaS Provider must provide to the Secretary of Commerce, detailing each instance in which a foreign person transacts with the foreign reseller to use the United States IaaS Product to conduct a training run described in subsection 4.2(c)(i) of this section.\\xa0 Such reports shall include, at a minimum, the information specified in subsection 4.2(c)(i) of this section as well as any additional information identified by the Secretary.\\n\\xa0 \\xa0 \\xa0\\xa0 \\xa0 \\xa0(iii) \\xa0Determine the set of technical conditions for a large AI model to have potential capabilities that could be used in malicious cyber-enabled activity, and revise that determination as necessary and appropriate. \\xa0Until the Secretary makes such a determination, a model shall be considered to have potential capabilities that could be used in malicious cyber-enabled activity if it requires a quantity of computing power greater than 1026 integer or floating-point operations and is trained on a computing cluster that has a set of machines physically co-located in a single datacenter, transitively connected by data center networking of over 100 Gbit/s, and having a theoretical maximum compute capacity of 1020 integer or floating-point operations per second for training AI.\\xa0\\xa0\\xa0\\n\\xa0 \\xa0 \\xa0(d)\\xa0 Within 180 days of the date of this order, pursuant to the finding set forth in subsection 4.2(c) of this section, the Secretary of Commerce shall propose regulations that require United States IaaS Providers to ensure that foreign resellers of United States IaaS Products verify the identity of any foreign person that obtains an IaaS account (account) from the foreign reseller.\\xa0 These regulations shall, at a minimum:\\n\\xa0 \\xa0 \\xa0 \\xa0 \\xa0\\xa0(i) \\xa0\\xa0\\xa0Set forth the minimum standards that a United States IaaS Provider must require of foreign resellers of its United States IaaS Products to verify the identity of a foreign person who opens an account or maintains an existing account with a foreign reseller, including:\\n\\xa0 \\xa0 \\xa0\\xa0 \\xa0 \\xa0 \\xa0\\xa0 \\xa0(A)\\xa0 the types of documentation and procedures that foreign resellers of United States IaaS Products must require to verify the identity of any foreign person acting as a lessee or sub-lessee of these products or services;\\n\\xa0 \\xa0 \\xa0\\xa0 \\xa0 \\xa0\\xa0 \\xa0 \\xa0(B)\\xa0 records that foreign resellers of United States IaaS Products must securely maintain regarding a foreign person that obtains an account, including information establishing:\\n\\xa0 \\xa0 \\xa0\\xa0 \\xa0 \\xa0\\xa0 \\xa0 \\xa0\\xa0 \\xa0 \\xa0(1)\\xa0 the identity of such foreign person, including name and address;\\n\\xa0 \\xa0 \\xa0\\xa0 \\xa0 \\xa0\\xa0 \\xa0 \\xa0\\xa0 \\xa0 \\xa0(2)\\xa0 the means and source of payment (including any associated financial institution and other identifiers such as credit card number, account number, customer identifier, transaction identifiers, or virtual currency wallet or wallet address identifier);\\n\\xa0 \\xa0 \\xa0\\xa0 \\xa0 \\xa0\\xa0 \\xa0 \\xa0\\xa0 \\xa0 \\xa0(3)\\xa0 the electronic mail address and telephonic contact information used to verify a foreign person’s identity; and\\n\\xa0 \\xa0 \\xa0\\xa0 \\xa0 \\xa0\\xa0 \\xa0 \\xa0\\xa0 \\xa0 \\xa0(4)\\xa0 the Internet Protocol addresses used for access or administration and the date and time of each such access or administrative action related to ongoing verification of such foreign person’s ownership of such an account; and\\n\\xa0 \\xa0 \\xa0\\xa0 \\xa0 \\xa0\\xa0 \\xa0 \\xa0(C)\\xa0 methods that foreign resellers of United States IaaS Products must implement to limit all third-party access to the information described in this subsection, except insofar as such access is otherwise consistent with this order and allowed under applicable law;\\n\\xa0 \\xa0 \\xa0\\xa0 \\xa0 \\xa0(ii) \\xa0\\xa0Take into consideration the types of accounts maintained by foreign resellers of United States IaaS Products, methods of opening an account, and types of identifying information available to accomplish the objectives of identifying foreign malicious cyber actors using any such products and avoiding the imposition of an undue burden on such resellers; and\\n\\xa0 \\xa0 \\xa0\\xa0 \\xa0 \\xa0(iii)\\xa0 Provide that the Secretary of Commerce, in accordance with such standards and procedures as the Secretary may delineate and in consultation with the Secretary of Defense, the Attorney General, the Secretary of Homeland Security, and the Director of National Intelligence, may exempt a United States IaaS Provider with respect to any specific foreign reseller of their United States IaaS Products, or with respect to any specific type of account or lessee, from the requirements of any regulation issued pursuant to this subsection.\\xa0 Such standards and procedures may include a finding by the Secretary that such foreign reseller, account, or lessee complies with security best practices to otherwise deter abuse of United States IaaS Products.\\n\\xa0 \\xa0 \\xa0(e) \\xa0The Secretary of Commerce is hereby authorized to take such actions, including the promulgation of rules and regulations, and to employ all powers granted to the President by the International Emergency Economic Powers Act, 50 U.S.C. 1701 et seq., as may be necessary to carry out the purposes of subsections 4.2(c) and (d) of this section.\\xa0 Such actions may include a requirement that United States IaaS Providers require foreign resellers of United States IaaS Products to provide United States IaaS Providers verifications relative to those subsections.\\n\\xa0 \\xa0 \\xa04.3.\\xa0 Managing AI in Critical Infrastructure and in Cybersecurity.\\xa0 (a)\\xa0 To ensure the protection of criticalinfrastructure, the following actions shall be taken:\\n\\xa0 \\xa0 \\xa0\\xa0 \\xa0 \\xa0(i) \\xa0\\xa0\\xa0Within 90 days of the date of this order, and at least annually thereafter, the head of each agency with relevant regulatory authority over critical infrastructure and the heads of relevant SRMAs, in coordination with the Director of the Cybersecurity and Infrastructure Security Agency within the Department of Homeland Security for consideration of cross-sector risks, shall evaluate and provide to the Secretary of Homeland Security an assessment of potential risks related to the use of AI in critical infrastructure sectors involved, including ways in which deploying AI may make critical infrastructure systems more vulnerable to critical failures, physical attacks, and cyber attacks, and shall consider ways to mitigate these vulnerabilities.\\xa0 Independent regulatory agencies are encouraged, as they deem appropriate, to contribute to sector-specific risk assessments.\\n\\xa0 \\xa0 \\xa0\\xa0 \\xa0 \\xa0(ii) \\xa0\\xa0Within 150 days of the date of this order, the Secretary of the Treasury shall issue a public report on best practices for financial institutions to manage AI-specific cybersecurity risks.\\n\\xa0 \\xa0 \\xa0\\xa0 \\xa0 \\xa0(iii)\\xa0 Within 180 days of the date of this order, the Secretary of Homeland Security, in coordination with the Secretary of Commerce and with SRMAs and other regulators as determined by the Secretary of Homeland Security, shall incorporate as appropriate the AI Risk Management Framework, NIST AI 100-1, as well as other appropriate security guidance, into relevant safety and security guidelines for use by critical infrastructure owners and operators.\\n\\xa0 \\xa0 \\xa0\\xa0 \\xa0 \\xa0(iv)\\xa0 \\xa0Within 240 days of the completion of the guidelines described in subsection 4.3(a)(iii) of this section, the Assistant to the President for National Security Affairs and the Director of OMB, in consultation with the Secretary of Homeland Security, shall coordinate work by the heads of agencies with authority over critical infrastructure to develop and take steps for the Federal Government to mandate such guidelines, or appropriate portions thereof, through regulatory or other appropriate action.\\xa0 Independent regulatory agencies are encouraged, as they deem appropriate, to consider whether to mandate guidance through regulatory action in their areas of authority and responsibility.\\n\\xa0 \\xa0 \\xa0\\xa0 \\xa0 \\xa0(v) \\xa0\\xa0\\xa0The Secretary of Homeland Security shall establish an Artificial Intelligence Safety and Security Board as an advisory committee pursuant to section 871 of the Homeland Security Act of 2002 (Public Law 107-296).\\xa0 The Advisory Committee shall include AI experts from the private sector, academia, and government, as appropriate, and provide to the Secretary of Homeland Security and the Federal Government’s critical infrastructure community advice, information, or recommendations for improving security, resilience, and incident response related to AI usage in critical infrastructure.\\n\\xa0 \\xa0 \\xa0(b)\\xa0 To capitalize on AI’s potential to improve United States cyber defenses:\\n\\xa0 \\xa0 \\xa0\\xa0 \\xa0 \\xa0(i) \\xa0\\xa0\\xa0The Secretary of Defense shall carry out the actions described in subsections 4.3(b)(ii) and (iii) of this section for national security systems, and the Secretary of Homeland Security shall carry out these actions for non-national security systems.\\xa0 Each shall do so in consultation with the heads of other relevant agencies as the Secretary of Defense and the Secretary of Homeland Security may deem appropriate.\\xa0\\n\\xa0 \\xa0 \\xa0\\xa0 \\xa0 \\xa0(ii) \\xa0\\xa0As set forth in subsection 4.3(b)(i) of this section, within 180 days of the date of this order, the Secretary of Defense and the Secretary of Homeland Security shall, consistent with applicable law, each develop plans for, conduct, and complete an operational pilot project to identify, develop, test, evaluate, and deploy AI capabilities, such as large-language models, to aid in the discovery and remediation of vulnerabilities in critical United States Government software, systems, and networks.\\n\\xa0 \\xa0 \\xa0\\xa0 \\xa0 \\xa0(iii)\\xa0 As set forth in subsection 4.3(b)(i) of this section, within 270 days of the date of this order, the Secretary of Defense and the Secretary of Homeland Security shall each provide a report to the Assistant to the President for National Security Affairs on the results of actions taken pursuant to the plans and operational pilot projects required by subsection 4.3(b)(ii) of this section, including a description of any vulnerabilities found and fixed through the development and deployment of AI capabilities and any lessons learned on how to identify, develop, test, evaluate, and deploy AI capabilities effectively for cyber defense.\\n\\xa0 \\xa0 \\xa04.4.\\xa0 Reducing Risks at the Intersection of AI and CBRN Threats.\\xa0 (a)\\xa0 To better understand and mitigate the risk of AI being misused to assist in the development or use of CBRN threats — with a particular focus on biological weapons — the following actions shall be taken:\\xa0\\n\\xa0 \\xa0 \\xa0\\xa0 \\xa0 \\xa0(i) \\xa0\\xa0Within 180 days of the date of this order, the Secretary of Homeland Security, in consultation with the Secretary of Energy and the Director of the Office of Science and Technology Policy (OSTP), shall evaluate the potential for AI to be misused to enable the development or production of CBRN threats, while also considering the benefits and application of AI to counter these threats, including, as appropriate, the results of work conducted under section 8(b) of this order.\\xa0 The Secretary of Homeland Security shall:\\n\\xa0 \\xa0 \\xa0\\xa0 \\xa0 \\xa0\\xa0 \\xa0 \\xa0(A)\\xa0 consult with experts in AI and CBRN issues from the Department of Energy, private AI laboratories, academia, and third-party model evaluators, as appropriate, to evaluate AI model capabilities to present CBRN threats — for the sole purpose of guarding against those threats — as well as options for minimizing the risks of AI model misuse to generate or exacerbate those threats; and\\n\\xa0 \\xa0 \\xa0\\xa0 \\xa0 \\xa0\\xa0 \\xa0 \\xa0(B)\\xa0 submit a report to the President that describes the progress of these efforts, including an assessment of the types of AI models that may present CBRN risks to the United States, and that makes recommendations for regulating or overseeing the training, deployment, publication, or use of these models, including requirements for safety evaluations and guardrails for mitigating potential threats to national security.\\n\\xa0 \\xa0 \\xa0\\xa0 \\xa0 \\xa0(ii)\\xa0 Within 120 days of the date of this order, the Secretary of Defense, in consultation with the Assistant to the President for National Security Affairs and the Director of OSTP, shall enter into a contract with the National Academies of Sciences, Engineering, and Medicine to conduct — and submit to the Secretary of Defense, the Assistant to the President for National Security Affairs, the Director of the Office of Pandemic Preparedness and Response Policy, the Director of OSTP, and the Chair of the Chief Data Officer Council — a study that:\\n\\xa0 \\xa0 \\xa0\\xa0 \\xa0 \\xa0\\xa0 \\xa0 \\xa0(A)\\xa0 assesses the ways in which AI can increase biosecurity risks, including risks from generative AI models trained on biological data, and makes recommendations on how to mitigate these risks;\\n\\xa0 \\xa0 \\xa0\\xa0 \\xa0 \\xa0\\xa0 \\xa0 \\xa0(B)\\xa0 considers the national security implications of the use of data and datasets, especially those associated with pathogens and omics studies, that the United States Government hosts, generates, funds the creation of, or otherwise owns, for the training of generative AI models, and makes recommendations on how to mitigate the risks related to the use of these data and datasets;\\n\\xa0 \\xa0 \\xa0\\xa0 \\xa0 \\xa0\\xa0 \\xa0 \\xa0(C)\\xa0 assesses the ways in which AI applied to biology can be used to reduce biosecurity risks, including recommendations on opportunities to coordinate data and high-performance computing resources; and\\n\\xa0 \\xa0 \\xa0\\xa0 \\xa0 \\xa0\\xa0 \\xa0 \\xa0(D)\\xa0 considers additional concerns and opportunities at the intersection of AI and synthetic biology that the Secretary of Defense deems appropriate.\\n\\xa0 \\xa0 \\xa0(b)\\xa0 To reduce the risk of misuse of synthetic nucleic acids, which could be substantially increased by AI’s capabilities in this area, and improve biosecurity measures for the nucleic acid synthesis industry, the following actions shall be taken:\\n\\xa0 \\xa0 \\xa0\\xa0 \\xa0 \\xa0(i) \\xa0\\xa0\\xa0Within 180 days of the date of this order, the Director of OSTP, in consultation with the Secretary of State, the Secretary of Defense, the Attorney General, the Secretary of Commerce, the Secretary of Health and Human Services (HHS), the Secretary of Energy, the Secretary of Homeland Security, the Director of National Intelligence, and the heads of other relevant agencies as the Director of OSTP may deem appropriate, shall establish a framework, incorporating, as appropriate, existing United States Government guidance, to encourage providers of synthetic nucleic acid sequences to implement comprehensive, scalable, and verifiable synthetic nucleic acid procurement screening mechanisms, including standards and recommended incentives.\\xa0 As part of this framework, the Director of OSTP shall:\\n\\xa0 \\xa0 \\xa0\\xa0 \\xa0 \\xa0\\xa0 \\xa0 \\xa0(A)\\xa0 establish criteria and mechanisms for ongoing identification of biological sequences that could be used in a manner that would pose a risk to the national security of the United States; and\\n\\xa0 \\xa0 \\xa0\\xa0 \\xa0 \\xa0\\xa0 \\xa0 \\xa0(B)\\xa0 determine standardized methodologies and tools for conducting and verifying the performance of sequence synthesis procurement screening, including customer screening approaches to support due diligence with respect to managing security risks posed by purchasers of biological sequences identified in subsection 4.4(b)(i)(A) of this section, and processes for the reporting of concerning activity to enforcement entities.\\n\\xa0 \\xa0 \\xa0\\xa0 \\xa0 \\xa0(ii) \\xa0\\xa0Within 180 days of the date of this order, the Secretary of Commerce, acting through the Director of NIST, in coordination with the Director of OSTP, and in consultation with the Secretary of State, the Secretary of HHS, and the heads of other relevant agencies as the Secretary of Commerce may deem appropriate, shall initiate an effort to engage with industry and relevant stakeholders, informed by the framework developed under subsection 4.4(b)(i) of this section, to develop and refine for possible use by synthetic nucleic acid sequence providers:\\n\\xa0 \\xa0 \\xa0\\xa0 \\xa0 \\xa0\\xa0 \\xa0 \\xa0(A) \\xa0specifications for effective nucleic acid synthesis procurement screening;\\n\\xa0 \\xa0 \\xa0\\xa0 \\xa0 \\xa0\\xa0 \\xa0 \\xa0(B) \\xa0best practices, including security and access controls, for managing sequence-of-concern databases to support such screening;\\n\\xa0 \\xa0 \\xa0\\xa0 \\xa0 \\xa0\\xa0 \\xa0 \\xa0(C) \\xa0technical implementation guides for effective screening; and\\n\\xa0 \\xa0 \\xa0\\xa0 \\xa0 \\xa0\\xa0 \\xa0 \\xa0(D) \\xa0conformity-assessment best practices and mechanisms.\\n\\xa0 \\xa0 \\xa0\\xa0 \\xa0 \\xa0(iii)\\xa0 Within 180 days of the establishment of the framework pursuant to subsection 4.4(b)(i) of this section, all agencies that fund life-sciences research shall, as appropriate and consistent with applicable law, establish that, as a requirement of funding, synthetic nucleic acid procurement is conducted through providers or manufacturers that adhere to the framework, such as through an attestation from the provider or manufacturer. \\xa0The Assistant to the President for National Security Affairs and the Director of OSTP shall coordinate the process of reviewing such funding requirements to facilitate consistency in implementation of the framework across funding agencies.\\n\\xa0 \\xa0 \\xa0\\xa0 \\xa0 \\xa0(iv) \\xa0\\xa0In order to facilitate effective implementation of the measures described in subsections 4.4(b)(i)-(iii) of this section, the Secretary of Homeland Security, in consultation with the heads of other relevant agencies as the Secretary of Homeland Security may deem appropriate, shall:\\n\\xa0 \\xa0 \\xa0\\xa0 \\xa0 \\xa0\\xa0 \\xa0 \\xa0(A)\\xa0 within 180 days of the establishment of the framework pursuant to subsection 4.4(b)(i) of this section, develop a framework to conduct structured evaluation and stress testing of nucleic acid synthesis procurement screening, including the systems developed in accordance with subsections 4.4(b)(i)-(ii) of this section and implemented by providers of synthetic nucleic acid sequences; and\\n\\xa0 \\xa0 \\xa0\\xa0 \\xa0 \\xa0\\xa0 \\xa0 \\xa0(B)\\xa0 following development of the framework pursuant to subsection 4.4(b)(iv)(A) of this section, submit an annual report to the Assistant to the President for National Security Affairs, the Director of the Office of Pandemic Preparedness and Response Policy, and the Director of OSTP on any results of the activities conducted pursuant to subsection 4.4(b)(iv)(A) of this section, including recommendations, if any, on how to strengthen nucleic acid synthesis procurement screening, including customer screening systems.\\n\\xa0 \\xa0 \\xa04.5.\\xa0 Reducing the Risks Posed by Synthetic Content.\\n\\n\\n\\xa0To foster capabilities for identifying and labeling synthetic content produced by AI systems, and to establish the authenticity and provenance of digital content, both synthetic and not synthetic, produced by the Federal Government or on its behalf:\\xa0 \\xa0 \\xa0(a)\\xa0 Within 240 days of the date of this order, the Secretary of Commerce, in consultation with the heads of other relevant agencies as the Secretary of Commerce may deem appropriate, shall submit a report to the Director of OMB and the Assistant to the President for National Security Affairs identifying the existing standards, tools, methods, and practices, as well as the potential development of further science-backed standards and techniques, for:\\n\\xa0 \\xa0 \\xa0\\xa0 \\xa0 \\xa0(i) \\xa0\\xa0\\xa0authenticating content and tracking its provenance;\\n\\xa0 \\xa0 \\xa0\\xa0 \\xa0 \\xa0(ii)\\xa0 \\xa0labeling synthetic content, such as using watermarking;\\n\\xa0 \\xa0 \\xa0\\xa0 \\xa0 \\xa0(iii)\\xa0 detecting synthetic content;\\n\\xa0 \\xa0 \\xa0\\xa0 \\xa0 \\xa0(iv) \\xa0\\xa0preventing generative AI from producing child sexual abuse material or producing non-consensual intimate imagery of real individuals (to include intimate digital depictions of the body or body parts of an identifiable individual);\\n\\xa0 \\xa0 \\xa0\\xa0 \\xa0 \\xa0(v) \\xa0\\xa0\\xa0testing software used for the above purposes; and\\n\\xa0 \\xa0 \\xa0\\xa0 \\xa0 \\xa0(vi) \\xa0\\xa0auditing and maintaining synthetic content.\\xa0 \\xa0 \\xa0(b)\\xa0 Within 180 days of submitting the report required under subsection 4.5(a) of this section, and updated periodically thereafter, the Secretary of Commerce, in coordination with the Director of OMB, shall develop guidance regarding the existing tools and practices for digital content authentication and synthetic content detection measures.\\xa0 The guidance shall include measures for the purposes listed in subsection 4.5(a) of this section.\\xa0 \\xa0 \\xa0(c)\\xa0 Within 180 days of the development of the guidance required under subsection 4.5(b) of this section, and updated periodically thereafter, the Director of OMB, in consultation with the Secretary of State; the Secretary of Defense; the Attorney General; the Secretary of Commerce, acting through the Director of NIST; the Secretary of Homeland Security; the Director of National Intelligence; and the heads of other agencies that the Director of OMB deems appropriate, shall — for the purpose of strengthening public confidence in the\\xa0integrity of official United States Government digital content — issue guidance to agencies for labeling and authenticating such content that they produce or publish.\\xa0 \\xa0 \\xa0(d)\\xa0 The Federal Acquisition Regulatory Council shall, as appropriate and consistent with applicable law, consider amending the Federal Acquisition Regulation to take into account the guidance established under subsection 4.5 of this section.\\n\\xa0 \\xa0 \\xa04.6.\\xa0 Soliciting Input on Dual-Use Foundation Models with Widely Available Model Weights.\\xa0 When the weights for a dual-use foundation model are widely available — such as when they are publicly posted on the Internet — there can be substantial benefits to innovation, but also substantial security risks, such as the removal of safeguards within the model. \\xa0To address the risks and potential benefits of dual-use foundation models with widely available weights, within 270 days of the date of this order, the Secretary of Commerce, acting through the Assistant Secretary of Commerce for Communications and Information, and in consultation with the Secretary of State, shall:\\xa0 \\xa0 \\xa0(a)\\xa0 solicit input from the private sector, academia, civil society, and other stakeholders through a public consultation process on potential risks, benefits, other implications, and appropriate policy and regulatory approaches related to dual-use foundation models for which the model weights are widely available, including:\\n\\xa0 \\xa0 \\xa0\\xa0 \\xa0 \\xa0(i)\\xa0 \\xa0\\xa0risks associated with actors fine-tuning dual-use foundation models for which the model weights are widely available or removing those models’ safeguards;\\n\\xa0 \\xa0 \\xa0\\xa0 \\xa0 \\xa0(ii)\\xa0 \\xa0benefits to AI innovation and research, including research into AI safety and risk management, of dual-use foundation models for which the model weights are widely available; and\\n\\xa0 \\xa0 \\xa0\\xa0 \\xa0 \\xa0(iii)\\xa0 potential voluntary, regulatory, and international mechanisms to manage the risks and maximize the benefits of dual-use foundation models for which the model weights are widely available; and\\xa0 \\xa0 \\xa0(b)\\xa0 based on input from the process described in subsection 4.6(a) of this section, and in consultation with the heads of other relevant agencies as the Secretary of Commerce deems appropriate, submit a report to the President on the potential benefits, risks, and implications of dual-use foundation models for which the model weights are widely available, as well as policy and regulatory recommendations pertaining to those models.\\n\\xa0 \\xa0 \\xa04.7.\\xa0 Promoting Safe Release and Preventing the Malicious Use of Federal Data for AI Training.To improve public data access and manage security risks, and consistent with the objectives of the Open, Public, Electronic, and Necessary Government Data Act (title II of Public Law 115-435) to expand public access to Federal data assets in a machine-readable format while also taking into account security considerations, including the risk that information in an individual data asset in isolation does not pose a security risk but, when combined with other available information, may pose such a risk:\\xa0 \\xa0 \\xa0(a)\\xa0 within 270 days of the date of this order, the Chief Data Officer Council, in consultation with the Secretary of Defense, the Secretary of Commerce, the Secretary of Energy, the Secretary of Homeland Security, and the Director of National Intelligence, shall develop initial guidelines for performing security reviews, including reviews to identify and manage the potential security risks of releasing Federal data that could aid in the development of CBRN weapons as well as the development of autonomous offensive cyber capabilities, while also providing public access to Federal Government data in line with the goals stated in the Open, Public, Electronic, and Necessary Government Data Act (title II of Public Law 115-435); and\\n\\xa0\\xa0\\xa0\\xa0 (b)\\xa0 within 180 days of the development of the initial guidelines required by subsection 4.7(a) of this section, agencies shall conduct a security review of all data assets in the comprehensive data inventory required under 44 U.S.C. 3511(a)(1) and (2)(B) and shall take steps, as appropriate and consistent with applicable law, to address the highest-priority potential security risks that releasing that data could raise with respect to CBRN weapons, such as the ways in which that data could be used to train AI systems.\\n\\xa0 \\xa0 \\xa04.8.\\xa0 Directing the Development of a National Security Memorandum.\\xa0 To develop a coordinated executive branch approach to managing AI’s security risks, the Assistant to the President for National Security Affairs and the Assistant to the President and Deputy Chief of Staff for Policy shall oversee an interagency process with the purpose of, within 270 days of the date of this order, developing and submitting a proposed National Security Memorandum on AI to the President.\\xa0 The memorandum shall address the governance of AI used as a component of a national security system or for military and intelligence purposes.\\xa0 The memorandum shall take into account current efforts to govern the development and use of AI for national security systems.\\xa0 The memorandum shall outline actions for the Department of Defense, the Department of State, other relevant agencies, and the Intelligence Community to address the national security risks and potential benefits posed by AI.\\xa0 In particular, the memorandum shall:\\n\\xa0 \\xa0 \\xa0(a)\\xa0 provide guidance to the Department of Defense, other relevant agencies, and the Intelligence Community on the continued adoption of AI capabilities to advance the United States national security mission, including through directing specific AI assurance and risk-management practices for national security uses of AI that may affect the rights or safety of United States persons and, in appropriate contexts, non-United States persons; and\\n\\xa0 \\xa0 \\xa0(b)\\xa0 direct continued actions, as appropriate and consistent with applicable law, to address the potential use of AI systems by adversaries and other foreign actors in ways that threaten the capabilities or objectives of the Department of Defense or the Intelligence Community, or that otherwise pose risks to the security of the United States or its allies and partners. \\xa0\\n\\xa0 \\xa0 \\xa0Sec. 5. Promoting Innovation and Competition.\\n\\xa0 \\xa0 \\xa05.1.\\xa0 Attracting AI Talent to the United States.\\xa0 (a)\\xa0 Within 90 days of the date of this order, to attract and retain talent in AI and other critical and emerging technologies in the United States economy, the Secretary of State and the Secretary of Homeland Security shall take appropriate steps to:\\n\\xa0 \\xa0 \\xa0\\xa0 \\xa0 \\xa0(i) \\xa0\\xa0streamline processing times of visa petitions and applications, including by ensuring timely availability of visa appointments, for noncitizens who seek to travel to the United States to work on, study, or conduct research in AI or other critical and emerging technologies; and\\xa0\\n\\xa0 \\xa0 \\xa0\\xa0 \\xa0 \\xa0(ii)\\xa0 facilitate continued availability of visa appointments in sufficient volume for applicants with expertise in AI or other critical and emerging technologies.\\n\\xa0 \\xa0 \\xa0(b)\\xa0 Within 120 days of the date of this order, the Secretary of State shall:\\n\\xa0 \\xa0 \\xa0\\xa0 \\xa0 \\xa0(i) \\xa0\\xa0\\xa0consider initiating a rulemaking to establish new criteria to designate countries and skills on the Department of State’s Exchange Visitor Skills List as it relates to the 2-year foreign residence requirement for certain J-1 nonimmigrants, including those skills that are critical to the United States;\\n\\xa0 \\xa0 \\xa0\\xa0 \\xa0 \\xa0(ii) \\xa0\\xa0consider publishing updates to the 2009 Revised Exchange Visitor Skills List (74 FR 20108); and\\n\\xa0 \\xa0 \\xa0\\xa0 \\xa0 \\xa0(iii)\\xa0 consider implementing a domestic visa renewal program under 22 C.F.R. 41.111(b) to facilitate the ability of qualified applicants, including highly skilled talent in AI and critical and emerging technologies, to continue their work in the United States without unnecessary interruption.\\n\\xa0 \\xa0 \\xa0(c)\\xa0 Within 180 days of the date of this order, the Secretary of State shall:\\n\\xa0 \\xa0 \\xa0\\xa0 \\xa0 \\xa0(i) \\xa0\\xa0consider initiating a rulemaking to expand the categories of nonimmigrants who qualify for the domestic visa renewal program covered under 22 C.F.R. 41.111(b) to include academic J-1 research scholars and F-1 students in science, technology, engineering, and mathematics (STEM); and\\n\\xa0 \\xa0 \\xa0\\xa0 \\xa0 \\xa0(ii)\\xa0 establish, to the extent permitted by law and available appropriations, a program to identify and attract top talent in AI and other critical and emerging technologies at universities, research institutions, and the private sector overseas, and to establish and increase connections with that talent to educate them on opportunities and resources for research and employment in the United States, including overseas educational components to inform top STEM talent of nonimmigrant and immigrant visa options and potential expedited adjudication of their visa petitions and applications.\\n\\xa0 \\xa0 \\xa0(d)\\xa0 Within 180 days of the date of this order, the Secretary of Homeland Security shall:\\n\\xa0 \\xa0 \\xa0\\xa0 \\xa0 \\xa0(i) \\xa0\\xa0review and initiate any policy changes the Secretary determines necessary and appropriate to clarify and modernize immigration pathways for experts in AI and other critical and emerging technologies, including O-1A and EB-1 noncitizens of extraordinary ability; EB-2 advanced-degree holders and noncitizens of exceptional ability; and startup founders in AI and other critical and emerging technologies using the International Entrepreneur Rule; and\\n\\xa0 \\xa0 \\xa0\\xa0 \\xa0 \\xa0(ii)\\xa0 continue its rulemaking process to modernize the H-1B program and enhance its integrity and usage, including by experts in AI and other critical and emerging technologies, and consider initiating a rulemaking to enhance the process for noncitizens, including experts in AI and other critical and emerging technologies and their spouses, dependents, and children, to adjust their status to lawful permanent resident.\\n\\xa0 \\xa0 \\xa0(e)\\xa0 Within 45 days of the date of this order, for purposes of considering updates to the “Schedule A” list of occupations, 20 C.F.R. 656.5, the Secretary of Labor shall publish a request for information (RFI) to solicit public input, including from industry and worker-advocate communities, identifying AI and other STEM-related occupations, as well as additional occupations across the economy, for which there is an insufficient number of ready, willing, able, and qualified United States workers.\\n\\xa0 \\xa0 \\xa0(f)\\xa0 The Secretary of State and the Secretary of Homeland Security shall, consistent with applicable law and implementing regulations, use their discretionary authorities to support and attract foreign nationals with special skills in AI and other critical and emerging technologies seeking to work, study, or conduct research in the United States.\\n\\xa0 \\xa0 \\xa0(g)\\xa0 Within 120 days of the date of this order, the Secretary of Homeland Security, in consultation with the Secretary of State, the Secretary of Commerce, and the Director of OSTP, shall develop and publish informational resources to better attract and retain experts in AI and other critical and emerging technologies, including:\\n\\xa0 \\xa0 \\xa0\\xa0 \\xa0 \\xa0(i) \\xa0\\xa0a clear and comprehensive guide for experts in AI and other critical and emerging technologies to understand their options for working in the United States, to be published in multiple relevant languages on AI.gov; and\\n\\xa0 \\xa0 \\xa0\\xa0 \\xa0 \\xa0(ii)\\xa0 a public report with relevant data on applications, petitions, approvals, and other key indicators of how experts in AI and other critical and emerging technologies have utilized the immigration system through the end of Fiscal Year 2023.\\n\\xa0 \\xa0 \\xa05.2.\\xa0 Promoting Innovation.\\xa0 (a)\\xa0 To develop and strengthen public-private partnerships for advancing innovation, commercialization, and risk-mitigation methods for AI, and to help promote safe, responsible, fair, privacy-protecting, and trustworthy AI systems, the Director of NSF shall take the following steps:\\n\\xa0 \\xa0 \\xa0\\xa0 \\xa0 \\xa0(i) \\xa0\\xa0\\xa0Within 90 days of the date of this order, in coordination with the heads of agencies that the Director of NSF deems appropriate, launch a pilot program implementing the National AI Research Resource (NAIRR), consistent with past recommendations of the NAIRR Task Force.\\xa0 The program shall pursue the infrastructure, governance mechanisms, and user interfaces to pilot an initial integration of distributed computational, data, model, and training resources to be made available to the research community in support of AI-related research and development.\\xa0 The Director of NSF shall identify Federal and private sector computational, data, software, and training resources appropriate for inclusion in the NAIRR pilot program.\\xa0 To assist with such work, within 45 days of the date of this order, the heads of agencies whom the Director of NSF identifies for coordination pursuant to this subsection shall each submit to the Director of NSF a report identifying the agency resources that could be developed and integrated into such a pilot program.\\xa0 These reports shall include a description of such resources, including their current status and availability; their format, structure, or technical specifications; associated agency expertise that will be provided; and the benefits and risks associated with their inclusion in the NAIRR pilot program.\\xa0 The heads of independent regulatory agencies are encouraged to take similar steps, as they deem appropriate.\\n\\xa0 \\xa0 \\xa0\\xa0 \\xa0 \\xa0(ii) \\xa0\\xa0Within 150 days of the date of this order, fund and launch at least one NSF Regional Innovation Engine that prioritizes AI-related work, such as AI-related research, societal, or workforce needs.\\n\\xa0 \\xa0 \\xa0\\xa0 \\xa0 \\xa0(iii)\\xa0 Within 540 days of the date of this order, establish at least four new National AI Research Institutes, in addition to the 25 currently funded as of the date of this order.\\xa0\\n\\xa0 \\xa0 \\xa0(b)\\xa0 Within 120 days of the date of this order, to support activities involving high-performance and data-intensive computing, the Secretary of Energy, in coordination with the Director of NSF, shall, in a manner consistent with applicable law and available appropriations, establish a pilot program to enhance existing successful training programs for scientists, with the goal of training 500 new researchers by 2025 capable of meeting the rising demand for AI talent.\\n\\xa0 \\xa0 \\xa0(c)\\xa0 To promote innovation and clarify issues related to AI and inventorship of patentable subject matter, the Under Secretary of Commerce for Intellectual Property and Director of the United States Patent and Trademark Office (USPTO Director) shall:\\n\\xa0 \\xa0 \\xa0\\xa0 \\xa0 \\xa0(i)\\xa0 \\xa0\\xa0within 120 days of the date of this order, publish guidance to USPTO patent examiners and applicants addressing inventorship and the use of AI, including generative AI, in the inventive process, including illustrative examples in which AI systems play different roles in inventive processes and how, in each example, inventorship issues ought to be analyzed;\\n\\xa0 \\xa0 \\xa0\\xa0 \\xa0 \\xa0(ii) \\xa0\\xa0subsequently, within 270 days of the date of this order, issue additional guidance to USPTO patent examiners and applicants to address other considerations at the intersection of AI and IP, which could include, as the USPTO Director deems necessary, updated guidance on patent eligibility to address innovation in AI and critical and emerging technologies; and\\n\\xa0 \\xa0 \\xa0\\xa0 \\xa0 \\xa0(iii)\\xa0 within 270 days of the date of this order or 180 days after the\\xa0United States Copyright Office of the Library of Congress publishes its forthcoming AI study that will address copyright issues raised by AI, whichever comes later, consult with the Director of the United States Copyright Office and issue recommendations to the President on potential executive actions relating to copyright and AI.\\xa0 The recommendations shall address any copyright and related issues discussed in the United States Copyright Office’s study, including the scope of protection for works produced using AI and the treatment of copyrighted works in AI training.\\n\\xa0 \\xa0 \\xa0(d)\\xa0 Within 180 days of the date of this order, to assist developers of AI in combatting AI-related IP risks, the Secretary of Homeland Security, acting through the Director of the National Intellectual Property Rights Coordination Center, and in consultation with the Attorney General, shall develop a training, analysis, and evaluation program to mitigate AI-related IP risks.\\xa0 Such a program shall:\\n\\xa0 \\xa0 \\xa0\\xa0 \\xa0 \\xa0(i)\\xa0 \\xa0\\xa0include appropriate personnel dedicated to collecting and analyzing reports of AI-related IP theft, investigating such incidents with implications for national security, and, where appropriate and consistent with applicable law, pursuing related enforcement actions;\\n\\xa0 \\xa0 \\xa0\\xa0 \\xa0 \\xa0(ii) \\xa0\\xa0implement a policy of sharing information and coordinating on such work, as appropriate and consistent with applicable law, with the Federal Bureau of Investigation; United States Customs and Border Protection; other agencies; State and local agencies; and appropriate international organizations, including through work-sharing agreements;\\n\\xa0 \\xa0 \\xa0\\xa0 \\xa0 \\xa0(iii)\\xa0 develop guidance and other appropriate resources to assist private sector actors with mitigating the risks of AI-related IP theft;\\n\\xa0 \\xa0 \\xa0\\xa0 \\xa0 \\xa0(iv) \\xa0\\xa0share information and best practices with AI developers and law enforcement personnel to identify incidents, inform stakeholders of current legal requirements, and evaluate AI systems for IP law violations, as well as develop mitigation strategies and resources; and\\n\\xa0 \\xa0 \\xa0\\xa0 \\xa0 \\xa0(v) \\xa0\\xa0\\xa0assist the Intellectual Property Enforcement Coordinator in updating the Intellectual Property Enforcement Coordinator Joint Strategic Plan on Intellectual Property Enforcement to address AI-related issues.\\n\\xa0 \\xa0 \\xa0(e)\\xa0 To advance responsible AI innovation by a wide range of healthcare technology developers that promotes the welfare of patients and workers in the healthcare sector, the Secretary of HHS shall identify and, as appropriate and consistent with applicable law and the activities directed in section 8 of this order, prioritize grantmaking and other awards, as well as undertake related efforts, to support responsible AI development and use, including:\\n\\xa0 \\xa0 \\xa0\\xa0 \\xa0 \\xa0(i) \\xa0\\xa0\\xa0collaborating with appropriate private sector actors through HHS programs that may support the advancement of AI-enabled tools that develop personalized immune-response profiles for patients, consistent with section 4 of this order;\\n\\xa0 \\xa0 \\xa0\\xa0 \\xa0 \\xa0(ii) \\xa0\\xa0prioritizing the allocation of 2024 Leading Edge Acceleration Project cooperative agreement awards to initiatives that explore ways to improve healthcare-data quality to support the responsible development of AI tools for clinical care, real-world-evidence programs, population health, public health, and related research; and\\n\\xa0 \\xa0 \\xa0\\xa0 \\xa0 \\xa0(iii)\\xa0 accelerating grants awarded through the National Institutes of Health Artificial Intelligence/Machine Learning Consortium to Advance Health Equity and Researcher Diversity (AIM-AHEAD) program and showcasing current AIM-AHEAD activities in underserved communities.\\n\\xa0 \\xa0 \\xa0(f) \\xa0To advance the development of AI systems that improve the quality of veterans’ healthcare, and in order to support small businesses’ innovative capacity, the Secretary of Veterans Affairs shall:\\n\\xa0 \\xa0 \\xa0\\xa0 \\xa0 \\xa0(i) \\xa0\\xa0within 365 days of the date of this order, host two 3-month nationwide AI Tech Sprint competitions; and\\n\\xa0 \\xa0 \\xa0\\xa0 \\xa0 \\xa0(ii)\\xa0 as part of the AI Tech Sprint competitions and in collaboration with appropriate partners, provide participants access to technical assistance, mentorship opportunities, individualized expert feedback on products under development, potential contract opportunities, and other programming and resources.\\n\\xa0 \\xa0 \\xa0(g)\\xa0 Within 180 days of the date of this order, to support the goal of strengthening our Nation’s resilience against climate change impacts and building an equitable clean energy economy for the future, the Secretary of Energy, in consultation with the Chair of the Federal Energy Regulatory Commission, the Director of OSTP, the Chair of the Council on Environmental Quality, the Assistant to the President and National Climate Advisor, and the heads of other relevant agencies as the Secretary of Energy may deem appropriate, shall:\\n\\xa0 \\xa0 \\xa0\\xa0 \\xa0 \\xa0(i) \\xa0\\xa0\\xa0issue a public report describing the potential for AI to improve planning, permitting, investment, and operations for electric grid infrastructure and to enable the provision of clean, affordable, reliable, resilient, and secure electric power to all Americans;\\n\\xa0 \\xa0 \\xa0\\xa0 \\xa0 \\xa0(ii) \\xa0\\xa0develop tools that facilitate building foundation models useful for basic and applied science, including models that streamline permitting and environmental reviews while improving environmental and social outcomes;\\n\\xa0 \\xa0 \\xa0\\xa0 \\xa0 \\xa0(iii)\\xa0 collaborate, as appropriate, with private sector organizations and members of academia to support development of AI tools to mitigate climate change risks;\\n\\xa0 \\xa0 \\xa0\\xa0 \\xa0 \\xa0(iv) \\xa0\\xa0take steps to expand partnerships with industry, academia, other agencies, and international allies and partners to utilize the Department of Energy’s computing capabilities and AI testbeds to build foundation models that support new applications in science and energy, and for national security, including partnerships that increase community preparedness for climate-related risks, enable clean-energy deployment (including addressing delays in permitting reviews), and enhance grid reliability and resilience; and\\n\\xa0 \\xa0 \\xa0\\xa0 \\xa0 \\xa0(v) \\xa0\\xa0\\xa0establish an office to coordinate development of AI and other critical and emerging technologies across Department of Energy programs and the 17 National Laboratories.\\n\\xa0 \\xa0 \\xa0(h)\\xa0 Within 180 days of the date of this order, to understand AI’s implications for scientific research, the President’s Council of Advisors on Science and Technology shall submit to the President and make publicly available a report on the potential role of AI, especially given recent developments in AI, in research aimed at tackling major societal and global challenges.\\xa0 The report shall include a discussion of issues that may hinder the effective use of AI in research and practices needed to ensure that AI is used responsibly for research.\\n\\xa0 \\xa0 \\xa05.3.\\xa0 Promoting Competition.\\xa0 (a)\\xa0 The head of each agency developing policies and regulations related to AI shall use their authorities, as appropriate and consistent with applicable law, to promote competition in AI and related technologies, as well as in other markets.\\xa0 Such actions include addressing risks arising from concentrated control of key inputs, taking steps to stop unlawful collusion and prevent dominant firms from disadvantaging competitors, and working to provide new opportunities for small businesses and entrepreneurs.\\xa0 In particular, the Federal Trade Commission is encouraged to consider, as it deems appropriate, whether to exercise the Commission’s existing authorities, including its rulemaking authority under the Federal Trade Commission Act, 15 U.S.C. 41 et seq., to ensure fair competition in the AI marketplace and to ensure that consumers and workers are protected from harms that may be enabled by the use of AI.\\n\\xa0 \\xa0 \\xa0(b)\\xa0 To promote competition and innovation in the semiconductor industry, recognizing that semiconductors power AI technologies and that their availability is critical to AI competition, the Secretary of Commerce shall, in implementing division A of Public Law 117-167, known as the Creating Helpful Incentives to Produce Semiconductors (CHIPS) Act of 2022, promote competition by:\\n\\xa0 \\xa0 \\xa0\\xa0 \\xa0 \\xa0(i) \\xa0\\xa0\\xa0implementing a flexible membership structure for the National Semiconductor Technology Center that attracts all parts of the semiconductor and microelectronics ecosystem, including startups and small firms;\\n\\xa0 \\xa0 \\xa0\\xa0 \\xa0 \\xa0(ii) \\xa0\\xa0implementing mentorship programs to increase interest and participation in the semiconductor industry, including from workers in underserved communities;\\n\\xa0 \\xa0 \\xa0\\xa0 \\xa0 \\xa0(iii)\\xa0 increasing, where appropriate and to the extent permitted by law, the availability of resources to startups and small businesses, including:\\n\\xa0 \\xa0 \\xa0\\xa0 \\xa0 \\xa0\\xa0 \\xa0 \\xa0(A)\\xa0 funding for physical assets, such as specialty equipment or facilities, to which startups and small businesses may not otherwise have access;\\n\\xa0 \\xa0 \\xa0\\xa0 \\xa0 \\xa0\\xa0 \\xa0 \\xa0(B)\\xa0 datasets — potentially including test and performance data — collected, aggregated, or shared by CHIPS research and development programs;\\n\\xa0 \\xa0 \\xa0\\xa0 \\xa0 \\xa0\\xa0 \\xa0 \\xa0(C)\\xa0 workforce development programs;\\n\\xa0 \\xa0 \\xa0\\xa0 \\xa0 \\xa0\\xa0 \\xa0 \\xa0(D)\\xa0 design and process technology, as well as IP, as appropriate; and\\n\\xa0 \\xa0 \\xa0\\xa0 \\xa0 \\xa0\\xa0 \\xa0 \\xa0(E)\\xa0 other resources, including technical and intellectual property assistance, that could accelerate commercialization of new technologies by startups and small businesses, as appropriate; and\\n\\xa0 \\xa0 \\xa0\\xa0 \\xa0 \\xa0(iv) \\xa0\\xa0considering the inclusion, to the maximum extent possible, and as consistent with applicable law, of competition-increasing measures in notices of funding availability for commercial research-and-development facilities focused on semiconductors, including measures that increase access to facility capacity for startups or small firms developing semiconductors used to power AI technologies.\\n\\xa0 \\xa0 \\xa0(c)\\xa0 To support small businesses innovating and commercializing AI, as well as in responsibly adopting and deploying AI, the Administrator of the Small Business Administration shall:\\n\\xa0 \\xa0 \\xa0\\xa0 \\xa0 \\xa0(i) \\xa0\\xa0\\xa0prioritize the allocation of Regional Innovation Cluster program funding for clusters that support planning activities related to the establishment of one or more Small Business AI Innovation and Commercialization Institutes that provide support, technical assistance, and other resources to small businesses seeking to innovate, commercialize, scale, or otherwise advance the development of AI;\\n\\xa0 \\xa0 \\xa0\\xa0 \\xa0 \\xa0(ii) \\xa0\\xa0prioritize the allocation of up to $2 million in Growth Accelerator Fund Competition bonus prize funds for accelerators that support the incorporation or expansion of AI-related curricula, training, and technical assistance, or other AI-related resources within their programming; and\\n\\xa0 \\xa0 \\xa0\\xa0 \\xa0 \\xa0(iii)\\xa0 assess the extent to which the eligibility criteria of existing programs, including the State Trade Expansion Program, Technical and Business Assistance funding, and capital-access programs — such as the 7(a) loan program, 504 loan program, and Small Business Investment Company (SBIC) program — support appropriate expenses by small businesses related to the adoption of AI and, if feasible and appropriate, revise eligibility criteria to improve support for these expenses.\\xa0\\n\\xa0 \\xa0 \\xa0(d)\\xa0 The Administrator of the Small Business Administration, in coordination with resource partners, shall conduct outreach regarding, and raise awareness of, opportunities for small businesses to use capital-access programs described in subsection 5.3(c) of this section for eligible AI-related purposes, and for eligible investment funds with AI-related expertise — particularly those seeking to serve or with experience serving underserved communities — to apply for an SBIC license.\\n\\xa0 \\xa0 \\xa0Sec. 6. \\xa0Supporting Workers.(a)\\xa0 To advance the Government’s understanding of AI’s implications for workers, the following actions shall be taken within 180 days of the date of this order:\\n\\xa0 \\xa0 \\xa0\\xa0 \\xa0 \\xa0(i) \\xa0\\xa0The Chairman of the Council of Economic Advisers shall prepare and submit a report to the President on the labor-market effects of AI.\\n\\xa0 \\xa0 \\xa0\\xa0 \\xa0 \\xa0(ii)\\xa0 To evaluate necessary steps for the Federal Government to address AI-related workforce disruptions, the Secretary of Labor shall submit to the President a report analyzing the abilities of agencies to support workers displaced by the adoption of AI and other technological advancements. \\xa0The report shall, at a minimum:\\n\\xa0 \\xa0 \\xa0\\xa0 \\xa0 \\xa0\\xa0 \\xa0 \\xa0(A)\\xa0 assess how current or formerly operational Federal programs designed to assist workers facing job disruptions — including unemployment insurance and programs authorized by the Workforce Innovation and Opportunity Act (Public Law 113-128) — could be used to respond to possible future AI-related disruptions; and\\n\\xa0 \\xa0 \\xa0\\xa0 \\xa0 \\xa0\\xa0 \\xa0 \\xa0(B)\\xa0 identify options, including potential legislative measures, to strengthen or develop additional Federal support for workers displaced by AI and, in consultation with the Secretary of Commerce and the Secretary of Education, strengthen and expand education and training opportunities that provide individuals pathways to occupations related to AI.\\n\\xa0 \\xa0 \\xa0(b)\\xa0 To help ensure that AI deployed in the workplace advances employees’ well-being:\\n\\xa0 \\xa0 \\xa0\\xa0 \\xa0 \\xa0(i) \\xa0\\xa0\\xa0The Secretary of Labor shall, within 180 days of the date of this order and in consultation with other agencies and with outside entities, including labor unions and workers, as the Secretary of Labor deems appropriate, develop and publish principles and best practices for employers that could be used to mitigate AI’s potential harms to employees’ well-being and maximize its potential benefits. \\xa0The principles and best practices shall include specific steps for employers to take with regard to AI, and shall cover, at a minimum:\\n\\xa0 \\xa0 \\xa0\\xa0 \\xa0 \\xa0\\xa0 \\xa0 \\xa0(A)\\xa0 job-displacement risks and career opportunities related to AI, including effects on job skills and evaluation of applicants and workers;\\n\\xa0 \\xa0 \\xa0\\xa0 \\xa0 \\xa0\\xa0 \\xa0 \\xa0(B)\\xa0 labor standards and job quality, including issues related to the equity, protected-activity, compensation, health, and safety implications of AI in the workplace; and\\n\\xa0 \\xa0 \\xa0\\xa0 \\xa0 \\xa0\\xa0 \\xa0 \\xa0(C)\\xa0 implications for workers of employers’ AI-related collection and use of data about them, including transparency, engagement, management, and activity protected under worker-protection laws.\\n\\xa0 \\xa0 \\xa0\\xa0 \\xa0 \\xa0(ii) \\xa0\\xa0After principles and best practices are developed pursuant to subsection (b)(i) of this section, the heads of agencies shall consider, in consultation with the Secretary of Labor, encouraging the adoption of these guidelines in their programs to the extent appropriate for each program and consistent with applicable law.\\n\\xa0 \\xa0 \\xa0\\xa0 \\xa0 \\xa0(iii)\\xa0 To support employees whose work is monitored or augmented by AI in being compensated appropriately for all of their work time, the Secretary of Labor shall issue guidance to make clear that employers that deploy AI to monitor or augment employees’ work must continue to comply with protections that ensure that workers are compensated for their hours worked, as defined under the Fair Labor Standards Act of 1938, 29 U.S.C. 201 et seq., and other legal requirements.\\n\\xa0 \\xa0 \\xa0(c)\\xa0 To foster a diverse AI-ready workforce, the Director of NSF shall prioritize available resources to support AI-related education and AI-related workforce development through existing programs. \\xa0The Director shall additionally consult with agencies, as appropriate, to identify further opportunities for agencies to allocate resources for those purposes. \\xa0The actions by the Director shall use appropriate fellowship programs and awards for these purposes.\\n\\xa0 \\xa0 \\xa0Sec. 7. \\xa0Advancing Equity and Civil Rights.\\n\\xa0 \\xa0 \\xa07.1. \\xa0Strengthening AI and Civil Rights in the Criminal Justice System.\\xa0 (a)\\xa0 To address unlawful discrimination and other harms that may be exacerbated by AI, the Attorney General shall:\\n\\xa0 \\xa0 \\xa0\\xa0 \\xa0 \\xa0(i) \\xa0\\xa0\\xa0consistent with Executive Order 12250 of November 2, 1980 (Leadership and Coordination of Nondiscrimination Laws), Executive Order 14091, and 28 C.F.R. 0.50-51, coordinate with and support agencies in their implementation and enforcement of existing Federal laws to address civil rights and civil liberties violations and discrimination related to AI;\\xa0\\n\\xa0 \\xa0 \\xa0\\xa0 \\xa0 \\xa0(ii) \\xa0\\xa0direct the Assistant Attorney General in charge of the Civil Rights Division to convene, within 90 days of the date of this order, a meeting of the heads of Federal civil rights offices — for which meeting the heads of civil rights offices within independent regulatory agencies will be encouraged to join — to discuss comprehensive use of their respective authorities and offices to: \\xa0prevent and address discrimination in the use of automated systems, including algorithmic discrimination; increase coordination between the Department of Justice’s Civil Rights Division and Federal civil rights offices concerning issues related to AI and algorithmic discrimination; improve external stakeholder engagement to promote public awareness of potential discriminatory uses and effects of AI; and develop, as appropriate, additional training, technical assistance, guidance, or other resources; and \\xa0\\n\\xa0 \\xa0 \\xa0\\xa0 \\xa0 \\xa0(iii)\\xa0 consider providing, as appropriate and consistent with applicable law, guidance, technical assistance, and training to State, local, Tribal, and territorial investigators and prosecutors on best practices for investigating and prosecuting civil rights violations and discrimination related to automated systems, including AI.\\n\\xa0 \\xa0 \\xa0(b)\\xa0 To promote the equitable treatment of individuals and adhere to the Federal Government’s fundamental obligation to ensure fair and impartial justice for all, with respect to the use of AI in the criminal justice system, the Attorney General shall, in consultation with the Secretary of Homeland Security and the Director of OSTP:\\n\\xa0 \\xa0 \\xa0\\xa0 \\xa0 \\xa0(i)\\xa0 \\xa0\\xa0within 365 days of the date of this order, submit to the President a report that addresses the use of AI in the criminal justice system, including any use in:\\n\\xa0 \\xa0 \\xa0\\xa0 \\xa0 \\xa0\\xa0 \\xa0 \\xa0(A) \\xa0sentencing;\\n\\xa0 \\xa0 \\xa0\\xa0 \\xa0 \\xa0\\xa0 \\xa0 \\xa0(B)\\xa0 parole, supervised release, and probation;\\n\\xa0 \\xa0 \\xa0\\xa0 \\xa0 \\xa0\\xa0 \\xa0 \\xa0(C)\\xa0 bail, pretrial release, and pretrial detention;\\n\\xa0 \\xa0 \\xa0\\xa0 \\xa0 \\xa0\\xa0 \\xa0 \\xa0(D)\\xa0 risk assessments, including pretrial, earned time, and early release or transfer to home-confinement determinations;\\n\\xa0 \\xa0 \\xa0\\xa0 \\xa0 \\xa0\\xa0 \\xa0 \\xa0(E)\\xa0 police surveillance;\\n\\xa0 \\xa0 \\xa0\\xa0 \\xa0 \\xa0\\xa0 \\xa0 \\xa0(F) \\xa0crime forecasting and predictive policing, including the ingestion of historical crime data into AI systems to predict high-density “hot spots”;\\n\\xa0 \\xa0 \\xa0\\xa0 \\xa0 \\xa0\\xa0 \\xa0 \\xa0(G) \\xa0prison-management tools; and\\n\\xa0 \\xa0 \\xa0\\xa0 \\xa0 \\xa0\\xa0 \\xa0 \\xa0(H)\\xa0 forensic analysis; \\xa0\\n\\xa0 \\xa0 \\xa0\\xa0 \\xa0 \\xa0(ii) \\xa0\\xa0within the report set forth in subsection 7.1(b)(i) of this section:\\n\\xa0 \\xa0 \\xa0 \\xa0 \\xa0\\xa0\\xa0 \\xa0 \\xa0(A)\\xa0 identify areas where AI can enhance law enforcement efficiency and accuracy, consistent with protections for privacy, civil rights, and civil liberties; and\\n\\xa0 \\xa0 \\xa0\\xa0 \\xa0 \\xa0\\xa0 \\xa0 \\xa0(B)\\xa0 recommend best practices for law enforcement agencies, including safeguards and appropriate use limits for AI, to address the concerns set forth in section 13(e)(i) of Executive Order 14074 as well as the best practices and the guidelines set forth in section 13(e)(iii) of Executive Order 14074; and \\xa0\\n\\xa0 \\xa0 \\xa0\\xa0 \\xa0 \\xa0(iii)\\xa0 supplement the report set forth in subsection 7.1(b)(i) of this section as appropriate with recommendations to the President, including with respect to requests for necessary legislation. \\xa0\\n\\xa0 \\xa0 \\xa0(c)\\xa0 To advance the presence of relevant technical experts and expertise (such as machine-learning engineers, software and infrastructure engineering, data privacy experts, data scientists, and user experience researchers) among law enforcement professionals:\\n\\xa0 \\xa0 \\xa0\\xa0 \\xa0 \\xa0(i) \\xa0\\xa0\\xa0The interagency working group created pursuant to section 3 of Executive Order 14074 shall, within 180 days of the date of this order, identify and share best practices for recruiting and hiring law enforcement professionals who have the technical skills mentioned in subsection 7.1(c) of this section, and for training law enforcement professionals about responsible application of AI.\\n\\xa0 \\xa0 \\xa0\\xa0 \\xa0 \\xa0(ii) \\xa0\\xa0Within 270 days of the date of this order, the Attorney General shall, in consultation with the Secretary of Homeland Security, consider those best practices and the guidance developed under section 3(d) of Executive Order 14074 and, if necessary, develop additional general recommendations for State, local, Tribal, and territorial law enforcement agencies and criminal justice agencies seeking to recruit, hire, train, promote, and retain highly qualified and service-oriented officers and staff with relevant technical knowledge.\\xa0 In considering this guidance, the Attorney General shall consult with State, local, Tribal, and territorial law enforcement agencies, as appropriate.\\n\\xa0 \\xa0 \\xa0\\xa0 \\xa0 \\xa0(iii)\\xa0 Within 365 days of the date of this order, the Attorney General shall review the work conducted pursuant to section 2(b) of Executive Order 14074 and, if appropriate, reassess the existing capacity to investigate law enforcement deprivation of rights under color of law resulting from the use of AI, including through improving and increasing training of Federal law enforcement officers, their supervisors, and Federal prosecutors on how to investigate and prosecute cases related to AI involving the deprivation of rights under color of law pursuant to 18 U.S.C. 242.\\xa0\\n\\xa0 \\xa0 \\xa07.2. \\xa0Protecting Civil Rights Related to Government Benefits and Programs.\\xa0 (a)\\xa0 To advance equity and civil rights, consistent with the directives of Executive Order 14091, and in addition to complying with the guidance on Federal Government use of AI issued pursuant to section 10.1(b) of this order, agencies shall use their respective civil rights and civil liberties offices and authorities — as appropriate and consistent with applicable law — to prevent and address unlawful discrimination and other harms that result from uses of AI in Federal Government programs and benefits administration. \\xa0This directive does not apply to agencies’ civil or criminal enforcement authorities.\\xa0 Agencies shall consider opportunities to ensure that their respective civil rights and civil liberties offices are appropriately consulted on agency decisions regarding the design, development, acquisition, and use of AI in Federal Government programs and benefits administration. \\xa0To further these objectives, agencies shall also consider opportunities to increase coordination, communication, and engagement about AI as appropriate with community-based organizations; civil-rights and civil-liberties organizations; academic institutions; industry; State, local, Tribal, and territorial governments; and other stakeholders. \\xa0\\n\\xa0 \\xa0 \\xa0(b)\\xa0 To promote equitable administration of public benefits:\\n\\xa0 \\xa0 \\xa0\\xa0 \\xa0 \\xa0(i) \\xa0\\xa0The Secretary of HHS shall, within 180 days of the date of this order and in consultation with relevant agencies, publish\\xa0a plan, informed by the guidance issued pursuant to section 10.1(b) of this order, addressing the use of automated or algorithmic systems in the implementation by States and localities of public benefits and services administered by the Secretary, such as to promote: \\xa0assessment of access to benefits by qualified recipients; notice to recipients about the presence of such systems; regular evaluation to detect unjust denials; processes to retain appropriate levels of discretion of expert agency staff; processes to appeal denials to human reviewers; and analysis of whether algorithmic systems in use by benefit programs achieve equitable and just outcomes.\\n\\xa0 \\xa0 \\xa0\\xa0 \\xa0 \\xa0(ii)\\xa0 The Secretary of Agriculture shall, within 180 days of the date of this order and as informed by the guidance issued pursuant to section 10.1(b) of this order, issue guidance to State, local, Tribal, and territorial public-benefits administrators on the use of automated or algorithmic systems in implementing benefits or in providing customer support for benefit programs administered by the Secretary, to ensure that programs using those systems:\\n\\xa0 \\xa0 \\xa0\\xa0 \\xa0 \\xa0\\xa0 \\xa0 \\xa0(A)\\xa0 maximize program access for eligible recipients;\\n\\xa0 \\xa0 \\xa0\\xa0 \\xa0 \\xa0\\xa0 \\xa0 \\xa0(B)\\xa0 employ automated or algorithmic systems in a manner consistent with any requirements for using merit systems personnel in public-benefits programs;\\n\\xa0 \\xa0 \\xa0\\xa0 \\xa0 \\xa0\\xa0 \\xa0 \\xa0(C) \\xa0identify instances in which reliance on automated or algorithmic systems would require notification by the State, local, Tribal, or territorial government to the Secretary;\\n\\xa0 \\xa0 \\xa0\\xa0 \\xa0 \\xa0\\xa0 \\xa0 \\xa0(D)\\xa0 identify instances when applicants and participants can appeal benefit determinations to a human reviewer for reconsideration and can receive other customer support from a human being;\\n\\xa0 \\xa0 \\xa0\\xa0 \\xa0 \\xa0\\xa0 \\xa0 \\xa0(E) \\xa0enable auditing and, if necessary, remediation of the logic used to arrive at an individual decision or determination to facilitate the evaluation of appeals; and\\n\\xa0 \\xa0 \\xa0\\xa0 \\xa0 \\xa0\\xa0 \\xa0 \\xa0(F)\\xa0 enable the analysis of whether algorithmic systems in use by benefit programs achieve equitable outcomes.\\n\\xa0 \\xa0 \\xa07.3. \\xa0Strengthening AI and Civil Rights in the Broader Economy.\\xa0 (a)\\xa0 Within 365 days of the date of this order, to prevent unlawful discrimination from AI used for hiring, the Secretary of Labor shall publish guidance for Federal contractors regarding nondiscrimination in hiring involving AI and other technology-based hiring systems.\\n\\xa0 \\xa0 \\xa0(b)\\xa0 To address discrimination and biases against protected groups in housing markets and consumer financial markets, the Director of the Federal Housing Finance Agency and the Director of the Consumer Financial Protection Bureau are encouraged to consider using their authorities, as they deem appropriate, to require their respective regulated entities, where possible, to use appropriate methodologies including AI tools to ensure compliance with Federal law and:\\n\\xa0 \\xa0 \\xa0\\xa0 \\xa0 \\xa0(i) \\xa0\\xa0evaluate their underwriting models for bias or disparities affecting protected groups; and\\n\\xa0 \\xa0 \\xa0\\xa0 \\xa0 \\xa0(ii)\\xa0 evaluate automated collateral-valuation and appraisal processes in ways that minimize bias.\\n\\xa0 \\xa0 \\xa0(c)\\xa0 Within 180 days of the date of this order, to combat unlawful discrimination enabled by automated or algorithmic tools used to make decisions about access to housing and in other real estate-related transactions, the Secretary of Housing and Urban Development shall, and the Director of the Consumer Financial Protection Bureau is encouraged to, issue additional guidance:\\n\\xa0 \\xa0 \\xa0\\xa0 \\xa0 \\xa0(i) \\xa0\\xa0addressing the use of tenant screening systems in ways that may violate the Fair Housing Act (Public Law 90-284), the Fair Credit Reporting Act (Public Law 91-508), or other relevant Federal laws, including how the use of data, such as criminal records, eviction records, and credit information, can lead to discriminatory outcomes in violation of Federal law; and\\n\\xa0 \\xa0 \\xa0\\xa0 \\xa0 \\xa0(ii)\\xa0 addressing how the Fair Housing Act, the Consumer Financial Protection Act of 2010 (title X of Public Law 111-203), or the Equal Credit Opportunity Act (Public Law 93-495) apply to the advertising of housing, credit, and other real estate-related transactions through digital platforms, including those that use algorithms to facilitate advertising delivery, as well as on best practices to avoid violations of Federal law.\\n\\xa0 \\xa0 \\xa0(d)\\xa0 To help ensure that people with disabilities benefit from AI’s promise while being protected from its risks, including unequal treatment from the use of biometric data like gaze direction, eye tracking, gait analysis, and hand motions, the Architectural and Transportation Barriers Compliance Board is encouraged, as it deems appropriate, to solicit public participation and conduct community engagement; to issue technical assistance and recommendations on the risks and benefits of AI in using biometric data as an input; and to provide people with disabilities access to information and communication technology and transportation services.\\n\\xa0 \\xa0 \\xa0Sec. 8. \\xa0Protecting Consumers, Patients, Passengers, and Students.\\xa0 (a) \\xa0Independent regulatory agencies are encouraged, as they deem appropriate, to consider using their full range of authorities to protect American consumers from fraud, discrimination, and threats to privacy and to address other risks that may arise from the use of AI, including risks to financial stability, and to consider rulemaking, as well as emphasizing or clarifying where existing regulations and guidance apply to AI, including clarifying the responsibility of regulated entities to conduct due diligence on and monitor any third-party AI services they use, and emphasizing or clarifying requirements and expectations related to the transparency of AI models and regulated entities’ ability to explain their use of AI models.\\n\\xa0 \\xa0 \\xa0(b)\\xa0 To help ensure the safe, responsible deployment and use of AI in the healthcare, public-health, and human-services sectors:\\n\\xa0 \\xa0 \\xa0\\xa0 \\xa0 \\xa0(i)\\xa0 \\xa0\\xa0Within 90 days of the date of this order, the Secretary of HHS shall, in consultation with the Secretary of Defense and the Secretary of Veterans Affairs, establish an HHS AI Task Force that shall, within 365 days of its creation, develop a strategic plan that includes policies and frameworks — possibly including regulatory action, as appropriate — on responsible deployment and use of AI and AI-enabled technologies in the health and human services sector (including research and discovery, drug and device safety, healthcare delivery and financing, and public health), and identify appropriate guidance andresources to promote that deployment, including in the following areas:\\n\\xa0 \\xa0 \\xa0\\xa0 \\xa0 \\xa0\\xa0 \\xa0 \\xa0(A)\\xa0 development, maintenance, and use of predictive and generative AI-enabled technologies in healthcare delivery and financing — including quality measurement, performance improvement, program integrity, benefits administration, and patient experience — taking into account considerations such as appropriate human oversight of the application of AI-generated output;\\n\\xa0 \\xa0 \\xa0\\xa0 \\xa0 \\xa0\\xa0 \\xa0 \\xa0(B) \\xa0long-term safety and real-world performance monitoring of AI-enabled technologies in the health and human services sector, including clinically relevant or significant modifications and performance across population groups, with a means to communicate product updates to regulators, developers, and users;\\xa0\\n\\xa0 \\xa0 \\xa0\\xa0 \\xa0 \\xa0\\xa0 \\xa0 \\xa0(C)\\xa0 incorporation of equity principles in AI-enabled technologies used in the health and human services sector, using disaggregated data on affected populations and representative population data sets when developing new models, monitoring algorithmic performance against discrimination and bias in existing models, and helping to identify and mitigate discrimination and bias in current systems;\\xa0\\n\\xa0 \\xa0 \\xa0\\xa0 \\xa0 \\xa0\\xa0 \\xa0 \\xa0(D)\\xa0 incorporation of safety, privacy, and security standards into the software-development lifecycle for protection of personally identifiable information, including measures to address AI-enhanced cybersecurity threats in the health and human services sector;\\n\\xa0 \\xa0 \\xa0\\xa0 \\xa0 \\xa0\\xa0 \\xa0 \\xa0(E)\\xa0 development, maintenance, and availability of documentation to help users determine appropriate and safe uses of AI in local settings in the health and human services sector;\\n\\xa0 \\xa0 \\xa0\\xa0 \\xa0 \\xa0\\xa0 \\xa0 \\xa0(F)\\xa0 work to be done with State, local, Tribal, and territorial health and human services agencies to advance positive use cases and best practices for use of AI in local settings; and\\n\\xa0 \\xa0 \\xa0\\xa0 \\xa0 \\xa0\\xa0 \\xa0 \\xa0(G)\\xa0 identification of uses of AI to promote workplace efficiency and satisfaction in the health and human services sector, including reducing administrative burdens.\\n\\xa0 \\xa0 \\xa0\\xa0 \\xa0 \\xa0(ii) \\xa0\\xa0Within 180 days of the date of this order, the Secretary of HHS shall direct HHS components, as the Secretary of HHS deems appropriate, to develop a strategy, in consultation with relevant agencies, to determine whether AI-enabled technologies in the health and human services sector maintain appropriate levels of quality, including, as appropriate, in the areas described in subsection (b)(i) of this section. \\xa0This work shall include the development of AI assurance policy — to evaluate important aspects of the performance of AI-enabled healthcare tools — and infrastructure needs for enabling pre-market assessment and post-market oversight of AI-enabled healthcare-technology algorithmic system performance against real-world data.\\n\\xa0 \\xa0 \\xa0\\xa0 \\xa0 \\xa0(iii) \\xa0Within 180 days of the date of this order, the Secretary of HHS shall, in consultation with relevant agencies as the Secretary of HHS deems appropriate, consider appropriate actions to advance the prompt understanding of, and compliance with, Federal nondiscrimination laws by health and human services providers that receive Federal financial assistance, as well as how those laws relate to AI.\\xa0 Such actions may include:\\n\\xa0 \\xa0 \\xa0\\xa0 \\xa0 \\xa0\\xa0 \\xa0 \\xa0(A)\\xa0 convening and providing technical assistance to health and human services providers and payers about their obligations under Federal nondiscrimination and privacy laws as they relate to AI and the potential consequences of noncompliance; and\\n\\xa0 \\xa0 \\xa0\\xa0 \\xa0 \\xa0\\xa0 \\xa0 \\xa0(B)\\xa0 issuing guidance, or taking other action as appropriate, in response to any complaints or other reports of noncompliance with Federal nondiscrimination and privacy laws as they relate to AI.\\n\\xa0 \\xa0 \\xa0\\xa0 \\xa0 \\xa0(iv) \\xa0\\xa0Within 365 days of the date of this order, the Secretary of HHS shall, in consultation with the Secretary of Defense and the Secretary of Veterans Affairs, establish an AI safety program that, in partnership with voluntary federally listed Patient Safety Organizations:\\n\\xa0 \\xa0 \\xa0\\xa0 \\xa0 \\xa0\\xa0 \\xa0 \\xa0(A)\\xa0 establishes a common framework for approaches to identifying and capturing clinical errors resulting from AI deployed in healthcare settings as well as specifications for a central tracking repository for associated incidents that cause harm, including through bias or discrimination, to patients, caregivers, or other parties;\\xa0\\n\\xa0 \\xa0 \\xa0\\xa0 \\xa0 \\xa0\\xa0 \\xa0 \\xa0(B)\\xa0 analyzes captured data and generated evidence to develop, wherever appropriate, recommendations, best practices, or other informal guidelines aimed at avoiding these harms; and\\n\\xa0 \\xa0 \\xa0\\xa0 \\xa0 \\xa0\\xa0 \\xa0 \\xa0(C)\\xa0 disseminates those recommendations, best practices, or other informal guidance to appropriate stakeholders, including healthcare providers.\\n\\xa0 \\xa0 \\xa0\\xa0 \\xa0 \\xa0(v) \\xa0\\xa0\\xa0Within 365 days of the date of this order, the Secretary of HHS shall develop a strategy for regulating the use of AI or AI-enabled tools in drug-development processes.\\xa0 The strategy shall, at a minimum:\\n\\xa0 \\xa0 \\xa0\\xa0 \\xa0 \\xa0\\xa0 \\xa0 \\xa0(A)\\xa0 define the objectives, goals, and high-level principles required for appropriate regulation throughout each phase of drug development;\\n\\xa0 \\xa0 \\xa0\\xa0 \\xa0 \\xa0\\xa0 \\xa0 \\xa0(B)\\xa0 identify areas where future rulemaking, guidance, or additional statutory authority may be necessary to implement such a regulatory system;\\n\\xa0 \\xa0 \\xa0\\xa0 \\xa0 \\xa0\\xa0 \\xa0 \\xa0(C)\\xa0 identify the existing budget, resources, personnel, and potential for new public/private partnerships necessary for such a regulatory system; and\\n\\xa0 \\xa0 \\xa0\\xa0 \\xa0 \\xa0\\xa0 \\xa0 \\xa0(D) \\xa0consider risks identified by the actions undertaken to implement section 4 of this order.\\n\\xa0 \\xa0 \\xa0(c)\\xa0 To promote the safe and responsible development and use of AI in the transportation sector, in consultation with relevant agencies:\\n\\xa0 \\xa0 \\xa0\\xa0 \\xa0 \\xa0(i)\\xa0 \\xa0\\xa0Within 30 days of the date of this order, the Secretary of Transportation shall direct the Nontraditional and Emerging Transportation Technology (NETT) Council to assess the need for information, technical assistance, and guidance regarding the use of AI in transportation.\\xa0 The Secretary of Transportation shall further direct the NETT Council, as part of any such efforts, to:\\n\\xa0 \\xa0 \\xa0\\xa0 \\xa0 \\xa0\\xa0 \\xa0 \\xa0(A)\\xa0 support existing and future initiatives to pilot transportation-related applications of AI, as they align with policy priorities articulated in the Department of Transportation’s (DOT) Innovation Principles, including, as appropriate, through technical assistance and connecting stakeholders;\\n\\xa0 \\xa0 \\xa0\\xa0 \\xa0 \\xa0\\xa0 \\xa0 \\xa0(B)\\xa0 evaluate the outcomes of such pilot programs in order to assess when DOT, or other Federal or State agencies, have sufficient information to take regulatory actions, as appropriate, and recommend appropriate actions when that information is available; and\\n\\xa0 \\xa0 \\xa0\\xa0 \\xa0 \\xa0\\xa0 \\xa0 \\xa0(C)\\xa0 establish a new DOT Cross-Modal Executive Working Group, which will consist of members from different divisions of DOT and coordinate applicable work among these divisions, to solicit and use relevant input from appropriate stakeholders.\\n\\xa0 \\xa0 \\xa0\\xa0 \\xa0 \\xa0(ii) \\xa0\\xa0Within 90 days of the date of this order, the Secretary of Transportation shall direct appropriate Federal Advisory Committees of the DOT to provide advice on the safe and responsible use of AI in transportation.\\xa0 The committees shall include the Advanced Aviation Advisory Committee, the Transforming Transportation Advisory Committee, and the Intelligent Transportation Systems Program Advisory Committee.\\n\\xa0 \\xa0 \\xa0\\xa0 \\xa0 \\xa0(iii)\\xa0 Within 180 days of the date of this order, the Secretary of Transportation shall direct the Advanced Research Projects Agency-Infrastructure (ARPA-I) to explore the transportation-related opportunities and challenges of AI — including regarding software-defined AI enhancements impacting autonomous mobility ecosystems. \\xa0The Secretary of Transportation shall further encourage ARPA-I to prioritize the allocation of grants to those opportunities, as appropriate. \\xa0The work tasked to ARPA-I shall include soliciting input on these topics through a public consultation process, such as an RFI.\\n\\xa0 \\xa0 \\xa0(d)\\xa0 To help ensure the responsible development and deployment of AI in the education sector, the Secretary of Education shall, within 365 days of the date of this order, develop resources, policies, and guidance regarding AI. \\xa0These resources shall address safe, responsible, and nondiscriminatory uses of AI in education, including the impact AI systems have on vulnerable and underserved communities, and shall be developed in consultation with stakeholders as appropriate. \\xa0They shall also include the development of an “AI toolkit” for education leaders implementing recommendations from the Department of Education’s AI and the Future of Teaching and Learning report, including appropriate human review of AI decisions, designing AI systems to enhance trust and safety and align with privacy-related laws and regulations in the educational context, and developing education-specific guardrails.\\n\\xa0 \\xa0 \\xa0(e)\\xa0 The Federal Communications Commission is encouraged to consider actions related to how AI will affect communications networks and consumers, including by:\\n\\xa0 \\xa0 \\xa0\\xa0 \\xa0 \\xa0(i) \\xa0\\xa0\\xa0examining the potential for AI to improve spectrum management, increase the efficiency of non-Federal spectrum usage, and expand opportunities for the sharing of non-Federal spectrum;\\n\\xa0 \\xa0 \\xa0\\xa0 \\xa0 \\xa0(ii) \\xa0\\xa0coordinating with the National Telecommunications and Information Administration to create opportunities for sharing spectrum between Federal and non-Federal spectrum operations;\\n\\xa0 \\xa0 \\xa0\\xa0 \\xa0 \\xa0(iii)\\xa0 providing support for efforts to improve network security, resiliency, and interoperability using next-generation technologies that incorporate AI, including self-healing networks, 6G, and Open RAN; and\\n\\xa0 \\xa0 \\xa0\\xa0 \\xa0 \\xa0(iv)\\xa0 \\xa0encouraging, including through rulemaking, efforts to combat unwanted robocalls and robotexts that are facilitated or exacerbated by AI and to deploy AI technologies that better serve consumers by blocking unwanted robocalls and robotexts.\\n\\xa0 \\xa0 \\xa0Sec. 9. \\xa0Protecting Privacy.\\xa0 (a)\\xa0 To mitigate privacy risks potentially exacerbated by AI — including by AI’s facilitation of the collection or use of information about individuals, or the making of inferences about individuals — the Director of OMB shall:\\n\\xa0 \\xa0 \\xa0\\xa0 \\xa0 \\xa0(i) \\xa0\\xa0\\xa0evaluate and take steps to identify commercially available information (CAI) procured by agencies, particularly CAI that contains personally identifiable information and including CAI procured from data brokers and CAI procured and processed indirectly through vendors, in appropriate agency inventory and reporting processes (other than when it is used for the purposes of national security);\\n\\xa0 \\xa0 \\xa0\\xa0 \\xa0 \\xa0(ii) \\xa0\\xa0evaluate, in consultation with the Federal Privacy Council and the Interagency Council on Statistical Policy, agency standards and procedures associated with the collection, processing, maintenance, use, sharing, dissemination, and disposition of CAI that contains personally identifiable information (other than when it is used for the purposes of national security) to inform potential guidance to agencies on ways to mitigate privacy and confidentiality risks from agencies’ activities related to CAI;\\n\\xa0 \\xa0 \\xa0\\xa0 \\xa0 \\xa0(iii)\\xa0 within 180 days of the date of this order, in consultation with the Attorney General, the Assistant to the President for Economic Policy, and the Director of OSTP, issue an RFI to inform potential revisions to guidance to agencies on implementing the privacy provisions of the E-Government Act of 2002 (Public\\xa0Law\\xa0107-347).\\xa0 The RFI shall seek feedback regarding how\\xa0privacy impact assessments\\xa0may be\\xa0more effective at mitigating privacy risks, including those that are further exacerbated by AI; and\\n\\xa0 \\xa0 \\xa0\\xa0 \\xa0 \\xa0(iv) \\xa0\\xa0take such steps as are necessary and appropriate, consistent with applicable law, to support and advance the near-term actions and long-term strategy identified through the RFI process, including issuing new or updated guidance or RFIs or consulting other agencies or the Federal Privacy Council.\\n\\xa0 \\xa0 \\xa0(b)\\xa0 Within 365 days of the date of this order, to better enable agencies to use PETs to safeguard Americans’ privacy from the potential threats exacerbated by AI, the Secretary of Commerce, acting through the Director of NIST, shall create guidelines for agencies to evaluate the efficacy of differential-privacy-guarantee protections, including for AI. \\xa0The guidelines shall, at a minimum, describe the significant factors that bear on differential-privacy safeguards and common risks to realizing differential privacy in practice.\\n\\xa0 \\xa0 \\xa0(c)\\xa0 To advance research, development, and implementation related to PETs:\\n\\xa0 \\xa0 \\xa0\\xa0 \\xa0 \\xa0(i) \\xa0\\xa0\\xa0Within 120 days of the date of this order, the Director of NSF, in collaboration with the Secretary of Energy, shall fund the creation of a Research Coordination Network (RCN) dedicated to advancing privacy research and, in particular, the development, deployment, and scaling of PETs. \\xa0The RCN shall serve to enable privacy researchers to share information, coordinate and collaborate in research, and develop standards for the privacy-research community. \\xa0\\n\\xa0 \\xa0 \\xa0\\xa0 \\xa0 \\xa0(ii) \\xa0\\xa0Within 240 days of the date of this order, the Director of NSF shall engage with agencies to identify ongoing work and potential opportunities to incorporate PETs into their operations. \\xa0The Director of NSF shall, where feasible and appropriate, prioritize research — including efforts to translate research discoveries into practical applications — that encourage the adoption of leading-edge PETs solutions for agencies’ use, including through research engagement through the RCN described in subsection (c)(i) of this section.\\n\\xa0 \\xa0 \\xa0\\xa0 \\xa0 \\xa0(iii) \\xa0The Director of NSF shall use the results of the United States-United Kingdom PETs Prize Challenge to inform the approaches taken, and opportunities identified, for PETs research and adoption.\\n\\xa0 \\xa0 \\xa0Sec. 10. \\xa0Advancing Federal Government Use of AI.\\n\\xa0 \\xa0 \\xa010.1. \\xa0Providing Guidance for AI Management.\\xa0 (a)\\xa0 To coordinate the use of AI across the Federal Government, within 60 days of the date of this order and on an ongoing basis as necessary, the Director of OMB shall convene and chair an interagency council to coordinate the development and use of AI in agencies’ programs and operations, other than the use of AI in national security systems. \\xa0The Director of OSTP shall serve as Vice Chair for the interagency council. \\xa0The interagency council’s membership shall include, at minimum, the heads of the agencies identified in 31 U.S.C. 901(b), the Director of National Intelligence, and other agencies as identified by the Chair.\\xa0 Until agencies designate their permanent Chief AI Officers consistent with the guidance described in subsection 10.1(b) of this section, they shall be represented on the interagency council by an appropriate official at the Assistant Secretary level or equivalent, as determined by the head of each agency. \\xa0\\n\\xa0 \\xa0 \\xa0(b)\\xa0 To provide guidance on Federal Government use of AI, within 150 days of the date of this order and updated periodically thereafter, the Director of OMB, in coordination with the Director of OSTP, and in consultation with the interagency council established in subsection 10.1(a) of this section, shall issue guidance to agencies to strengthen the effective and appropriate use of AI, advance AI innovation, and manage risks from AI in the Federal Government.\\xa0 The Director of OMB’s guidance shall specify, to the extent appropriate and consistent with applicable law:\\n\\xa0 \\xa0 \\xa0\\xa0 \\xa0 \\xa0(i) \\xa0\\xa0\\xa0\\xa0the requirement to designate at each agency within 60 days of the issuance of the guidance a Chief Artificial Intelligence Officer who shall hold primary responsibility in their agency, in coordination with other responsible officials, for coordinating their agency’s use of AI, promoting AI innovation in their agency, managing risks from their agency’s use of AI, and carrying out the responsibilities described in section 8(c) of Executive Order 13960 of December 3, 2020 (Promoting the Use of Trustworthy Artificial Intelligence in the Federal Government), and section 4(b) of Executive Order 14091;\\n\\xa0 \\xa0 \\xa0\\xa0 \\xa0 \\xa0(ii) \\xa0\\xa0\\xa0the Chief Artificial Intelligence Officers’ roles, responsibilities, seniority, position, and reporting structures;\\n\\xa0 \\xa0 \\xa0\\xa0 \\xa0 \\xa0(iii) \\xa0\\xa0for the agencies identified in 31 U.S.C. 901(b), the creation of internal Artificial Intelligence Governance Boards, or other appropriate mechanisms, at each agency within 60 days of the issuance of the guidance to coordinate and govern AI issues through relevant senior leaders from across the agency;\\n\\xa0 \\xa0 \\xa0\\xa0 \\xa0 \\xa0(iv) \\xa0\\xa0\\xa0required minimum risk-management practices for Government uses of AI that impact people’s rights or safety, including, where appropriate, the following practices derived from OSTP’s Blueprint for an AI Bill of Rights and the NIST AI Risk Management Framework: \\xa0conducting public consultation; assessing data quality; assessing and mitigating disparate impacts and algorithmic discrimination; providing notice of the use of AI; continuously monitoring and evaluating deployed AI; and granting human consideration and remedies for adverse decisions made using AI;\\n\\xa0 \\xa0 \\xa0\\xa0 \\xa0 \\xa0(v) \\xa0\\xa0\\xa0\\xa0specific Federal Government uses of AI that are presumed by default to impact rights or safety;\\n\\xa0 \\xa0 \\xa0\\xa0 \\xa0 \\xa0(vi) \\xa0\\xa0\\xa0recommendations to agencies to reduce barriers to the responsible use of AI, including barriers related to information technology infrastructure, data, workforce, budgetary restrictions, and cybersecurity processes;\\xa0\\n\\xa0 \\xa0 \\xa0\\xa0 \\xa0 \\xa0(vii) \\xa0\\xa0requirements that agencies identified in 31 U.S.C. 901(b) develop AI strategies and pursue high-impact AI use cases;\\n\\xa0 \\xa0 \\xa0\\xa0 \\xa0 \\xa0(viii) \\xa0in consultation with the Secretary of Commerce, the Secretary of Homeland Security, and the heads of other appropriate agencies as determined by the Director of OMB, recommendations to agencies regarding:\\n\\xa0 \\xa0 \\xa0\\xa0 \\xa0 \\xa0\\xa0 \\xa0 \\xa0(A)\\xa0 external testing for AI, including AI red-teaming for generative AI, to be developed in coordination with the Cybersecurity and Infrastructure Security Agency;\\n\\xa0 \\xa0 \\xa0\\xa0 \\xa0 \\xa0\\xa0 \\xa0 \\xa0(B)\\xa0 testing and safeguards against discriminatory, misleading, inflammatory, unsafe, or deceptive outputs, as well as against producing child sexual abuse material and against producing non-consensual intimate imagery of real individuals (including intimate digital depictions of the body or body parts of an identifiable individual), for generative AI;\\n\\xa0 \\xa0 \\xa0\\xa0 \\xa0 \\xa0\\xa0 \\xa0 \\xa0(C)\\xa0 reasonable steps to watermark or otherwise label output from generative AI;\\n\\xa0 \\xa0 \\xa0\\xa0 \\xa0 \\xa0\\xa0 \\xa0 \\xa0(D)\\xa0 application of the mandatory minimum risk-management practices defined under subsection 10.1(b)(iv) of this section to procured AI;\\n\\xa0 \\xa0 \\xa0\\xa0 \\xa0 \\xa0\\xa0 \\xa0 \\xa0(E)\\xa0 independent evaluation of vendors’ claims concerning both the effectiveness and risk mitigation of their AI offerings;\\n\\xa0 \\xa0 \\xa0\\xa0 \\xa0 \\xa0\\xa0 \\xa0 \\xa0(F)\\xa0 documentation and oversight of procured AI;\\n\\xa0 \\xa0 \\xa0\\xa0 \\xa0 \\xa0\\xa0 \\xa0 \\xa0(G)\\xa0 maximizing the value to agencies when relying on contractors to use and enrich Federal Government data for the purposes of AI development and operation;\\n\\xa0 \\xa0 \\xa0\\xa0 \\xa0 \\xa0\\xa0 \\xa0 \\xa0(H)\\xa0 provision of incentives for the continuous improvement of procured AI; and\\n\\xa0 \\xa0 \\xa0\\xa0 \\xa0 \\xa0\\xa0 \\xa0 \\xa0(I) \\xa0training on AI in accordance with the principles set out in this order and in other references related to AI listed herein; and\\n\\xa0 \\xa0 \\xa0\\xa0 \\xa0 \\xa0(ix) \\xa0\\xa0\\xa0requirements for public reporting on compliance with this guidance.\\n\\xa0 \\xa0 \\xa0(c)\\xa0 To track agencies’ AI progress, within 60 days of the issuance of the guidance established in subsection 10.1(b) of this section and updated periodically thereafter, the Director of OMB shall develop a method for agencies to track and assess their ability to adopt AI into their programs and operations, manage its risks, and comply with Federal policy on AI. \\xa0This method should draw on existing related efforts as appropriate and should address, as appropriate and consistent with applicable law, the practices, processes, and capabilities necessary for responsible AI adoption, training, and governance across, at a minimum, the areas of information technology infrastructure, data, workforce, leadership, and risk management. \\xa0\\n\\xa0 \\xa0 \\xa0(d)\\xa0 To assist agencies in implementing the guidance to be established in subsection 10.1(b) of this section:\\n\\xa0 \\xa0 \\xa0\\xa0 \\xa0 \\xa0(i) \\xa0\\xa0within 90 days of the issuance of the guidance, the Secretary of Commerce, acting through the Director of NIST, and in coordination with the Director of OMB and the Director of OSTP, shall develop guidelines, tools, and practices to support implementation of the minimum risk-management practices described in subsection 10.1(b)(iv) of this section; and\\n\\xa0 \\xa0 \\xa0\\xa0 \\xa0 \\xa0(ii)\\xa0 within 180 days of the issuance of the guidance, the Director of OMB shall develop an initial means to ensure that agency contracts for the acquisition of AI systems and services align with the guidance described in subsection 10.1(b) of this section and advance the other aims identified in section 7224(d)(1) of the Advancing American AI Act (Public Law 117-263, div. G, title LXXII, subtitle B).\\xa0\\n\\xa0 \\xa0 \\xa0(e)\\xa0 To improve transparency for agencies’ use of AI, the Director of OMB shall, on an annual basis, issue instructions to agencies for the collection, reporting, and publication of agency AI use cases, pursuant to section 7225(a) of the Advancing American AI Act.\\xa0 Through these instructions, the Director shall, as appropriate, expand agencies’ reporting on how they are managing risks from their AI use cases and update or replace the guidance originally established in section 5 of Executive Order 13960.\\n\\xa0 \\xa0 \\xa0(f)\\xa0 To advance the responsible and secure use of generative AI in the Federal Government:\\n\\xa0 \\xa0 \\xa0\\xa0 \\xa0 \\xa0(i) \\xa0\\xa0\\xa0As generative AI products become widely available and common in online platforms, agencies are discouraged from imposing broad general bans or blocks on agency use of generative AI.\\xa0 Agencies should instead limit access, as necessary, to specific generative AI services based on specific risk assessments; establish guidelines and limitations on the appropriate use of generative AI; and, with appropriate safeguards in place, provide their personnel and programs with access to secure and reliable generative AI capabilities, at least for the purposes of experimentation and routine tasks that carry a low risk of impacting Americans’ rights. \\xa0To protect Federal Government information, agencies are also encouraged to employ risk-management practices, such as training their staff on proper use, protection, dissemination, and disposition of Federal information; negotiating appropriate terms of service with vendors; implementing measures designed to ensure compliance with record-keeping, cybersecurity, confidentiality, privacy, and data protection requirements; and deploying other measures to prevent misuse of Federal Government information in generative AI.\\xa0\\n\\xa0 \\xa0 \\xa0\\xa0 \\xa0 \\xa0(ii) \\xa0\\xa0Within 90 days of the date of this order, the Administrator of General Services, in coordination with the Director of OMB, and in consultation with the Federal Secure Cloud Advisory Committee and other relevant agencies as the Administrator of General Services may deem appropriate, shall develop and issue a framework for prioritizing critical and emerging technologies offerings in the Federal Risk and Authorization Management Program authorization process, starting with generative AI offerings that have the primary purpose of providing large language model-based chat interfaces, code-generation and debugging tools, and associated application programming interfaces, as well as prompt-based image generators. \\xa0This framework shall apply for no less than 2 years from the date of its issuance. \\xa0Agency Chief Information Officers, Chief Information Security Officers, and authorizing officials are also encouraged to prioritize generative AI and other critical and emerging technologies in granting authorities for agency operation of information technology systems and any other applicable release or oversight processes, using continuous authorizations and approvals wherever feasible.\\n\\xa0 \\xa0 \\xa0\\xa0 \\xa0 \\xa0(iii)\\xa0 Within 180 days of the date of this order, the Director of the Office of Personnel Management (OPM), in coordination with the Director of OMB, shall develop guidance on the use of generative AI for work by the Federal workforce.\\n\\xa0 \\xa0 \\xa0(g)\\xa0 Within 30 days of the date of this order, to increase agency investment in AI, the Technology Modernization Board shall consider, as it deems appropriate and consistent with applicable law, prioritizing funding for AI projects for the Technology Modernization Fund for a period of at least 1 year. \\xa0Agencies are encouraged to submit to the Technology Modernization Fund project funding proposals that include AI — and particularly generative AI — in service of mission delivery.\\n\\xa0 \\xa0 \\xa0(h)\\xa0 Within 180 days of the date of this order, to facilitate agencies’ access to commercial AI capabilities, the Administrator of General Services, in coordination with the Director of OMB, and in collaboration with the Secretary of Defense, the Secretary of Homeland Security, the Director of National Intelligence, the Administrator of the National Aeronautics and Space Administration, and the head of any other agency identified by the Administrator of General Services, shall take steps consistent with applicable law to facilitate access to Federal Government-wide acquisition solutions for specified types of AI services and products, such as through the creation of a resource guide or other tools to assist the acquisition workforce. \\xa0Specified types of AI capabilities shall include generative AI and specialized computing infrastructure.\\n\\xa0 \\xa0 \\xa0(i)\\xa0 The initial means, instructions, and guidance issued pursuant to subsections 10.1(a)-(h) of this section shall not apply to AI when it is used as a component of a national security system, which shall be addressed by the proposed National Security Memorandum described in subsection 4.8 of this order.\\xa0\\n\\xa0 \\xa0 \\xa010.2. \\xa0Increasing AI Talent in Government.\\xa0 (a)\\xa0 Within 45 days of the date of this order, to plan a national surge in AI talent in the Federal Government, the Director of OSTP and the Director of OMB, in consultation with the Assistant to the President for National Security Affairs, the Assistant to the President for Economic Policy, the Assistant to the President and Domestic Policy Advisor, and the Assistant to the President and Director of the Gender Policy Council, shall identify priority mission areas for increased Federal Government AI talent, the types of talent that are highest priority to recruit and develop to ensure adequate implementation of this order and use of relevant enforcement and regulatory authorities to address AI risks, and accelerated hiring pathways.\\n\\xa0 \\xa0 \\xa0(b)\\xa0 Within 45 days of the date of this order, to coordinate rapid advances in the capacity of the Federal AI workforce, the Assistant to the President and Deputy Chief of Staff for Policy, in coordination with the Director of OSTP and the Director of OMB, and in consultation with the National Cyber Director, shall convene an AI and Technology Talent Task Force, which shall include the Director of OPM, the Director of the General Services Administration’s Technology Transformation Services, a representative from the Chief Human Capital Officers Council, the Assistant to the President for Presidential Personnel, members of appropriate agency technology talent programs, a representative of the Chief Data Officer Council, and a representative of the interagency council convened under subsection 10.1(a) of this section. \\xa0The Task Force’s purpose shall be to accelerate and track the hiring of AI and AI-enabling talent across the Federal Government, including through the following actions:\\n\\xa0 \\xa0 \\xa0\\xa0 \\xa0 \\xa0(i) \\xa0\\xa0\\xa0within 180 days of the date of this order, tracking and reporting progress to the President on increasing AI capacity across the Federal Government, including submitting to the President a report and recommendations for further increasing capacity;\\xa0\\n\\xa0 \\xa0 \\xa0\\xa0 \\xa0 \\xa0(ii) \\xa0\\xa0identifying and circulating best practices for agencies to attract, hire, retain, train, and empower AI talent, including diversity, inclusion, and accessibility best practices, as well as to plan and budget adequately for AI workforce needs;\\n\\xa0 \\xa0 \\xa0\\xa0 \\xa0 \\xa0(iii) \\xa0coordinating, in consultation with the Director of OPM, the use of fellowship programs and agency technology-talent programs and human-capital teams to build hiring capabilities, execute hires, and place AI talent to fill staffing gaps; and\\n\\xa0 \\xa0 \\xa0\\xa0 \\xa0 \\xa0(iv) \\xa0\\xa0convening a cross-agency forum for ongoing collaboration between AI professionals to share best practices and improve retention.\\n\\xa0 \\xa0 \\xa0(c)\\xa0 Within 45 days of the date of this order, to advance existing Federal technology talent programs, the United States Digital Service, Presidential Innovation Fellowship, United States Digital Corps, OPM, and technology talent programs at agencies, with support from the AI and Technology Talent Task Force described in subsection 10.2(b) of this section, as appropriate and permitted by law, shall develop and begin to implement plans to support the rapid recruitment of individuals as part of a Federal Government-wide AI talent surge to accelerate the placement of key AI and AI-enabling talent in high-priority areas and to advance agencies’ data and technology strategies.\\n\\xa0 \\xa0 \\xa0(d)\\xa0 To meet the critical hiring need for qualified personnel to execute the initiatives in this order, and to improve Federal hiring practices for AI talent, the Director of OPM, in consultation with the Director of OMB, shall:\\n\\xa0 \\xa0 \\xa0\\xa0 \\xa0 \\xa0(i) \\xa0\\xa0\\xa0\\xa0within 60 days of the date of this order, conduct an evidence-based review on the need for hiring and workplace flexibility, including Federal Government-wide direct-hire authority for AI and related data-science and technical roles, and, where the Director of OPM finds such authority is appropriate, grant it; this review shall include the following job series at all General Schedule (GS) levels: \\xa0IT Specialist (2210), Computer Scientist (1550), Computer Engineer (0854), and Program Analyst (0343) focused on AI, and any subsequently developed job series derived from these job series;\\n\\xa0 \\xa0 \\xa0\\xa0 \\xa0 \\xa0(ii) \\xa0\\xa0\\xa0within 60 days of the date of this order, consider authorizing the use of excepted service appointments under 5 C.F.R. 213.3102(i)(3) to address the need for hiring additional staff to implement directives of this order;\\n\\xa0 \\xa0 \\xa0\\xa0 \\xa0 \\xa0(iii) \\xa0\\xa0within 90 days of the date of this order, coordinate a pooled-hiring action informed by subject-matter experts and using skills-based assessments to support the recruitment of AI talent across agencies;\\n\\xa0 \\xa0 \\xa0\\xa0 \\xa0 \\xa0(iv) \\xa0\\xa0\\xa0within 120 days of the date of this order, as appropriate and permitted by law, issue guidance for agency application of existing pay flexibilities or incentive pay programs for AI, AI-enabling, and other key technical positions to facilitate appropriate use of current pay incentives;\\n\\xa0 \\xa0 \\xa0\\xa0 \\xa0 \\xa0(v) \\xa0\\xa0\\xa0\\xa0within 180 days of the date of this order, establish guidance and policy on skills-based, Federal Government-wide hiring of AI, data, and technology talent in order to increase access to those with nontraditional academic backgrounds to Federal AI, data, and technology roles;\\xa0\\n\\xa0 \\xa0 \\xa0\\xa0 \\xa0 \\xa0(vi) \\xa0\\xa0\\xa0within 180 days of the date of this order, establish an interagency working group, staffed with both human-resources professionals and recruiting technical experts, to facilitate Federal Government-wide hiring of people with AI and other technical skills;\\n\\xa0 \\xa0 \\xa0\\xa0 \\xa0 \\xa0(vii) \\xa0\\xa0within 180 days of the date of this order, review existing Executive Core Qualifications (ECQs) for Senior Executive Service (SES) positions informed by data and AI literacy competencies and, within 365 days of the date of this order, implement new ECQs as appropriate in the SES assessment process;\\n\\xa0 \\xa0 \\xa0\\xa0 \\xa0 \\xa0(viii)\\xa0 within 180 days of the date of this order, complete a review of competencies for civil engineers (GS-0810 series) and, if applicable, other related occupations, and make recommendations for ensuring that adequate AI expertise and credentials in these occupations in the Federal Government reflect the increased use of AI in critical infrastructure; and\\n\\xa0 \\xa0 \\xa0\\xa0 \\xa0 \\xa0(ix)\\xa0 \\xa0\\xa0work with the Security, Suitability, and Credentialing Performance Accountability Council to assess mechanisms to streamline and accelerate personnel-vetting requirements, as appropriate, to support AI and fields related to other critical and emerging technologies. \\xa0\\n\\xa0 \\xa0 \\xa0(e)\\xa0 To expand the use of special authorities for AI hiring and retention, agencies shall use all appropriate hiring authorities, including Schedule A(r) excepted service hiring and direct-hire authority, as applicable and appropriate, to hire AI talent and AI-enabling talent rapidly. \\xa0In addition to participating in OPM-led pooled hiring actions, agencies shall collaborate, where appropriate, on agency-led pooled hiring under the Competitive Service Act of 2015 (Public Law 114-137) and other shared hiring. \\xa0Agencies shall also, where applicable, use existing incentives, pay-setting authorities, and other compensation flexibilities, similar to those used for cyber and information technology positions, for AI and data-science professionals, as well as plain-language job titles, to help recruit and retain these highly skilled professionals. \\xa0Agencies shall ensure that AI and other related talent needs (such as technology governance and privacy) are reflected in strategic workforce planning and budget formulation.\\xa0\\n\\xa0 \\xa0 \\xa0(f)\\xa0 To facilitate the hiring of data scientists, the Chief Data Officer Council shall develop a position-description library for data scientists (job series 1560) and a hiring guide to support agencies in hiring data scientists.\\n\\xa0 \\xa0 \\xa0(g)\\xa0 To help train the Federal workforce on AI issues, the head of each agency shall implement — or increase the availability and use of — AI training and familiarization programs for employees, managers, and leadership in technology as well as relevant policy, managerial, procurement, regulatory, ethical, governance, and legal fields.\\xa0 Such training programs should, for example, empower Federal employees, managers, and leaders to develop and maintain an operating knowledge of emerging AI technologies to assess opportunities to use these technologies to enhance the delivery of services to the public, and to mitigate risks associated with these technologies. \\xa0Agencies that provide professional-development opportunities, grants, or funds for their staff should take appropriate steps to ensure that employees who do not serve in traditional technical roles, such as policy, managerial, procurement, or legal fields, are nonetheless eligible to receive funding for programs and courses that focus on AI, machine learning, data science, or other related subject areas. \\xa0\\n\\xa0 \\xa0 \\xa0(h)\\xa0 Within 180 days of the date of this order, to address gaps in AI talent for national defense, the Secretary of Defense shall submit a report to the President through the Assistant to the President forNational Security Affairs that includes:\\n\\xa0 \\xa0\\xa0 \\xa0 \\xa0 \\xa0(i) \\xa0\\xa0\\xa0recommendations to address challenges in the Department of Defense’s ability to hire certain noncitizens, including at the Science and Technology Reinvention Laboratories;\\n\\xa0 \\xa0 \\xa0\\xa0 \\xa0 \\xa0(ii) \\xa0\\xa0recommendations to clarify and streamline processes for accessing classified information for certain noncitizens through Limited Access Authorization at Department of Defense laboratories;\\n\\xa0 \\xa0 \\xa0\\xa0 \\xa0 \\xa0(iii)\\xa0 recommendations for the appropriate use of enlistment authority under 10 U.S.C. 504(b)(2) for experts in AI and other critical and emerging technologies; and\\n\\xa0 \\xa0 \\xa0\\xa0 \\xa0 \\xa0(iv) \\xa0\\xa0recommendations for the Department of Defense and the Department of Homeland Security to work together to enhance the use of appropriate authorities for the retention of certain noncitizens of vital importance to national security by the Department of Defense and the Department of Homeland Security. \\xa0\\n\\n\\xa0 \\xa0 \\xa0Sec. 11. \\xa0Strengthening American Leadership Abroad.\\xa0 (a)\\xa0 To strengthen United States leadership of global efforts to unlock AI’s potential and meet its challenges, the Secretary of State, in coordination with the Assistant to the President for National Security Affairs, the Assistant to the President for Economic Policy, the Director of OSTP, and the heads of other relevant agencies as appropriate, shall:\\n\\xa0 \\xa0 \\xa0\\xa0 \\xa0 \\xa0(i) \\xa0\\xa0lead efforts outside of military and intelligence areas to expand engagements with international allies and partners in relevant bilateral, multilateral, and multi-stakeholder fora to advance those allies’ and partners’ understanding of existing and planned AI-related guidance and policies of the United States, as well as to enhance international collaboration; and\\n\\xa0 \\xa0 \\xa0\\xa0 \\xa0 \\xa0(ii) \\xa0lead efforts to establish a strong international framework for managing the risks and harnessing the benefits of AI, including by encouraging international allies and partners to support voluntary commitments similar to those that United States companies have made in pursuit of these objectives and coordinating the activities directed by subsections (b), (c), (d), and (e) of this section, and to develop common regulatory and other accountability principles for foreign nations, including to manage the risk that AI systems pose.\\n\\xa0 \\xa0 \\xa0(b)\\xa0 To advance responsible global technical standards for AI development and use outside of military and intelligence areas, the Secretary of Commerce, in coordination with the Secretary of State and the heads of other relevant agencies as appropriate, shall lead preparations for a coordinated effort with key international allies and partners and with standards development organizations, to drive the development and implementation of AI-related consensus standards, cooperation and coordination, and information sharing. \\xa0In particular, the Secretary of Commerce shall:\\n\\xa0 \\xa0 \\xa0\\xa0 \\xa0 \\xa0(i)\\xa0 \\xa0\\xa0within 270 days of the date of this order, establish a plan for global engagement on promoting and developing AI standards, with lines of effort that may include:\\n\\xa0 \\xa0 \\xa0\\xa0 \\xa0 \\xa0\\xa0 \\xa0 \\xa0(A) \\xa0AI nomenclature and terminology;\\n\\xa0 \\xa0 \\xa0\\xa0 \\xa0 \\xa0\\xa0 \\xa0 \\xa0(B)\\xa0 best practices regarding data capture, processing, protection, privacy, confidentiality, handling, and analysis;\\n\\xa0 \\xa0 \\xa0\\xa0 \\xa0 \\xa0\\xa0 \\xa0 \\xa0(C)\\xa0 trustworthiness, verification, and assurance of AI systems; and\\n\\xa0 \\xa0 \\xa0\\xa0 \\xa0 \\xa0\\xa0 \\xa0 \\xa0(D) \\xa0AI risk management;\\n\\xa0 \\xa0 \\xa0\\xa0 \\xa0 \\xa0(ii)\\xa0 \\xa0within 180 days of the date the plan is established, submit a report to the President on priority actions taken pursuant to the plan; and\\n\\xa0 \\xa0 \\xa0\\xa0 \\xa0 \\xa0(iii)\\xa0 ensure that such efforts are guided by principles set out in the NIST AI Risk Management Framework and United States Government National Standards Strategy for Critical and Emerging Technology.\\n\\xa0 \\xa0 \\xa0(c)\\xa0 Within 365 days of the date of this order, to promote safe, responsible, and rights-affirming development and deployment of AI abroad:\\n\\xa0 \\xa0 \\xa0\\xa0 \\xa0 \\xa0(i) \\xa0\\xa0The Secretary of State and the Administrator of the United States Agency for International Development, in coordination with the Secretary of Commerce, acting through the director of NIST, shall publish an AI in Global Development Playbook that incorporates the AI Risk Management Framework’s principles, guidelines, and best practices into the social, technical, economic, governance, human rights, and security conditions of contexts beyond United States borders. \\xa0As part of this work, the Secretary of State and the Administrator of the United States Agency for International Development shall draw on lessons learned from programmatic uses of AI in global development.\\n\\xa0 \\xa0 \\xa0\\xa0 \\xa0 \\xa0(ii)\\xa0 The Secretary of State and the Administrator of the United States Agency for International Development, in collaboration with the Secretary of Energy and the Director of NSF, shall develop a Global AI Research Agenda to guide the objectives and implementation of AI-related research in contexts beyond United States borders. \\xa0The Agenda shall:\\n\\xa0 \\xa0 \\xa0\\xa0 \\xa0 \\xa0\\xa0 \\xa0 \\xa0(A)\\xa0 include principles, guidelines, priorities, and best practices aimed at ensuring the safe, responsible, beneficial, and sustainable global development and adoption of AI; and\\n\\xa0 \\xa0 \\xa0\\xa0 \\xa0 \\xa0\\xa0 \\xa0 \\xa0(B)\\xa0 address AI’s labor-market implications across international contexts, including by recommending risk mitigations. \\xa0\\n\\xa0 \\xa0 \\xa0(d) \\xa0To address cross-border and global AI risks to critical infrastructure, the Secretary of Homeland Security, in coordination with the Secretary of State, and in consultation with the heads of other relevant agencies as the Secretary of Homeland Security deems appropriate, shall lead efforts with international allies and partners to enhance cooperation to prevent, respond to, and recover from potential critical infrastructure disruptions resulting from incorporation of AI into critical infrastructure systems or malicious use of AI.\\xa0\\n\\xa0 \\xa0 \\xa0\\xa0 \\xa0 \\xa0(i) \\xa0\\xa0Within 270 days of the date of this order, the Secretary of Homeland Security, in coordination with the Secretary of State, shall develop a plan for multilateral engagements to encourage the adoption of the AI safety and security guidelines for use by critical infrastructure owners and operators developed in section 4.3(a) of this order.\\n\\xa0 \\xa0 \\xa0\\xa0 \\xa0 \\xa0(ii) \\xa0Within 180 days of establishing the plan described in subsection (d)(i) of this section, the Secretary of Homeland Security shall submit a report to the President on priority actions to mitigate cross-border risks to critical United States infrastructure.\\n\\xa0 \\xa0 \\xa0Sec. 12. \\xa0Implementation. \\xa0(a)\\xa0 There is established, within the Executive Office of the President, the White House Artificial Intelligence Council (White House AI Council). \\xa0The function of the White House AI Council is to coordinate the activities of agencies across the Federal Government to ensure the effective formulation, development, communication, industry engagement related to, and timely implementation of AI-related policies, including policies set forth in this order.\\n\\xa0 \\xa0 \\xa0(b)\\xa0 The Assistant to the President and Deputy Chief of Staff for Policy shall serve as Chair of the White House AI Council.\\n\\xa0 \\xa0 \\xa0(c) \\xa0In addition to the Chair, the White House AI Council shall consist of the following members, or their designees:\\n\\xa0 \\xa0 \\xa0\\xa0 \\xa0 \\xa0(i) \\xa0\\xa0\\xa0\\xa0\\xa0\\xa0the Secretary of State;\\n\\xa0 \\xa0 \\xa0\\xa0 \\xa0 \\xa0(ii) \\xa0\\xa0\\xa0\\xa0\\xa0the Secretary of the Treasury;\\n\\xa0 \\xa0 \\xa0\\xa0 \\xa0 \\xa0(iii) \\xa0\\xa0\\xa0\\xa0the Secretary of Defense;\\n\\xa0 \\xa0 \\xa0\\xa0 \\xa0 \\xa0(iv) \\xa0\\xa0\\xa0\\xa0\\xa0the Attorney General;\\n\\xa0 \\xa0 \\xa0\\xa0 \\xa0 \\xa0(v) \\xa0\\xa0\\xa0\\xa0\\xa0\\xa0the Secretary of Agriculture;\\n\\xa0 \\xa0 \\xa0\\xa0 \\xa0 \\xa0(vi) \\xa0\\xa0\\xa0\\xa0\\xa0the Secretary of Commerce;\\n\\xa0 \\xa0 \\xa0\\xa0 \\xa0 \\xa0(vii) \\xa0\\xa0\\xa0\\xa0the Secretary of Labor;\\n\\xa0 \\xa0 \\xa0\\xa0 \\xa0 \\xa0(viii) \\xa0\\xa0\\xa0the Secretary of HHS;\\n\\xa0 \\xa0 \\xa0\\xa0 \\xa0 \\xa0(ix) \\xa0\\xa0\\xa0\\xa0\\xa0the Secretary of Housing and Urban Development;\\n\\xa0 \\xa0 \\xa0\\xa0 \\xa0 \\xa0(x) \\xa0\\xa0\\xa0\\xa0\\xa0\\xa0the Secretary of Transportation;\\n\\xa0 \\xa0 \\xa0\\xa0 \\xa0 \\xa0(xi) \\xa0\\xa0\\xa0\\xa0\\xa0the Secretary of Energy;\\n\\xa0 \\xa0 \\xa0\\xa0 \\xa0 \\xa0(xii) \\xa0\\xa0\\xa0\\xa0the Secretary of Education;\\n\\xa0 \\xa0 \\xa0\\xa0 \\xa0 \\xa0(xiii) \\xa0\\xa0\\xa0the Secretary of Veterans Affairs;\\n\\xa0 \\xa0 \\xa0\\xa0 \\xa0 \\xa0(xiv) \\xa0\\xa0\\xa0\\xa0the Secretary of Homeland Security;\\n\\xa0 \\xa0 \\xa0\\xa0 \\xa0 \\xa0(xv) \\xa0\\xa0\\xa0\\xa0\\xa0the Administrator of the Small Business Administration;\\n\\xa0 \\xa0 \\xa0\\xa0 \\xa0 \\xa0(xvi)\\xa0\\xa0 \\xa0\\xa0the Administrator of the United States Agency for International Development;\\n\\xa0 \\xa0 \\xa0\\xa0 \\xa0 \\xa0(xvii)\\xa0 \\xa0\\xa0the Director of National Intelligence;\\n\\xa0 \\xa0 \\xa0\\xa0 \\xa0 \\xa0(xviii) \\xa0\\xa0the Director of NSF;\\n\\xa0 \\xa0 \\xa0\\xa0 \\xa0 \\xa0(xix) \\xa0\\xa0\\xa0\\xa0the Director of OMB;\\n\\xa0 \\xa0 \\xa0\\xa0 \\xa0 \\xa0(xx)\\xa0\\xa0 \\xa0\\xa0\\xa0the Director of OSTP;\\n\\xa0 \\xa0 \\xa0\\xa0 \\xa0 \\xa0(xxi)\\xa0 \\xa0\\xa0\\xa0the Assistant to the President for National Security Affairs;\\n\\xa0 \\xa0 \\xa0\\xa0 \\xa0 \\xa0(xxii)\\xa0 \\xa0\\xa0the Assistant to the President for Economic Policy;\\n\\xa0 \\xa0 \\xa0\\xa0 \\xa0 \\xa0(xxiii) \\xa0\\xa0the Assistant to the President and Domestic Policy Advisor;\\n\\xa0 \\xa0 \\xa0\\xa0 \\xa0 \\xa0(xxiv)\\xa0 \\xa0\\xa0the Assistant to the President and Chief of Staff to the Vice President;\\n\\xa0 \\xa0 \\xa0\\xa0 \\xa0 \\xa0(xxv)\\xa0 \\xa0\\xa0\\xa0the Assistant to the President and Director of the Gender Policy Council;\\n\\xa0 \\xa0 \\xa0\\xa0 \\xa0 \\xa0(xxvi) \\xa0\\xa0\\xa0the Chairman of the Council of Economic Advisers;\\n\\xa0 \\xa0 \\xa0\\xa0 \\xa0 \\xa0(xxvii) \\xa0\\xa0the National Cyber Director;\\n\\xa0 \\xa0 \\xa0\\xa0 \\xa0 \\xa0(xxviii) \\xa0the Chairman of the Joint Chiefs of Staff; and\\n\\xa0 \\xa0 \\xa0\\xa0 \\xa0 \\xa0(xxix)\\xa0 \\xa0\\xa0the heads of such other agencies, independent regulatory agencies, and executive offices as the Chair may from time to time designate or invite to participate.\\n\\xa0 \\xa0 \\xa0(d)\\xa0 The Chair may create and coordinate subgroups consisting of White House AI Council members or their designees, as appropriate.\\n\\xa0 \\xa0 \\xa0Sec. 13. \\xa0General Provisions.\\xa0 (a)\\xa0 Nothing in this order shall be construed to impair or otherwise affect:\\n\\xa0 \\xa0 \\xa0\\xa0 \\xa0 \\xa0(i)\\xa0 \\xa0the authority granted by law to an executive department or agency, or the head thereof; or\\n\\xa0 \\xa0 \\xa0\\xa0 \\xa0 \\xa0(ii)\\xa0 the functions of the Director of the Office of Management and Budget relating to budgetary, administrative, or legislative proposals.\\n\\xa0 \\xa0 \\xa0(b)\\xa0 This order shall be implemented consistent with applicable law and subject to the availability of appropriations.\\xa0 \\xa0 \\xa0(c)\\xa0 This order is not intended to, and does not, create any right or benefit, substantive or procedural, enforceable at law or in equity by any party against the United States, its departments, agencies, or entities, its officers, employees, or agents, or any other person.\\n\\xa0\\xa0\\xa0\\xa0\\xa0\\xa0\\xa0\\xa0\\xa0\\xa0\\xa0\\xa0\\xa0\\xa0\\xa0\\xa0\\xa0\\xa0\\xa0\\xa0\\xa0\\xa0\\xa0\\xa0\\xa0\\xa0\\xa0\\xa0 JOSEPH R. BIDEN JR.\\nTHE WHITE HOUSE,\\xa0 October 30, 2023.\\n\\n\\n\\n\\n\\n\\n\\n\\n\\n\\t\\t\\t\\t\\tNext Post: Statement from President Joe Biden on Historic Tentative Agreement Between General Motors and UAW\\t\\t\\t\\t\\n\\n\\n\\t\\t\\t\\tStatement from President Joe\\xa0Biden on Historic Tentative Agreement Between General Motors and\\xa0UAW\\t\\t\\t\\n\\nOctober 30, 2023 •\\nStatements and Releases \\n\\n\\n\\n\\t\\t\\t\\t\\t\\tNext\\t\\t\\t\\t\\t\\tPost\\n \\n\\n\\n\\n\\n\\n\\n\\n\\n\\n\\n \\n\\n\\n\\n\\nStay Connected\\n\\n\\nSign Up\\n\\nEmail Address* Required\\n\\n\\n\\nZIP Code\\n\\n\\n\\n\\nPlease leave blank.\\n\\n\\n\\n\\n\\n\\n\\n\\n\\n\\nWe'll be in touch with the latest information on how President Biden and his administration are working for the American people, as well as ways you can get involved and help our country build back better.\\n\\n\\n\\n\\n\\n\\t\\t\\t\\t\\t\\t\\t\\t\\t\\t\\t\\t\\t\\t\\t\\t\\t\\tOpt in to send and receive text messages from President Biden.\\t\\t\\t\\t\\t\\t\\t\\t\\n\\n\\n\\n\\n\\n\\n\\n\\n\\nShare\\n\\n\\n\\nShare this page on Facebook\\n\\n\\n\\n\\n\\nShare this page on Twitter\\n\\n\\n\\n\\n\\nhttps://www.whitehouse.gov/briefing-room/presidential-actions/2023/10/30/executive-order-on-the-safe-secure-and-trustworthy-development-and-use-of-artificial-intelligence/?utm_source=link\\n\\n\\n\\n\\n\\n\\n\\n\\n\\n \\n\\n\\n\\n\\n\\nHome\\nThe Administration\\nExecutive Offices\\nPriorities\\nThe Record\\nBriefing Room\\nThe White House\\nDisclosures\\nGet Involved\\nEspañol\\n \\n\\n\\n\\n\\nContact Us\\nPrivacy Policy\\nCopyright Policy\\nAccessibility Statement\\n \\n\\n\\n\\n\\nInstagramOpens in a new window\\nFacebookOpens in a new window\\nTwitterOpens in a new window\\nYouTubeOpens in a new window\\n \\n\\n\\nThe White House\\n\\t\\t\\t\\t\\t\\t\\t\\t1600 Pennsylvania Ave NW\\n\\t\\t\\t\\t\\t\\t\\t\\tWashington, DC 20500\\n\\t\\t\\t\\t\\t\\t\\t\\n\\nWH.gov\\n \\n\\n\\n\\n\\n\\n\\n\\n\\n\\n\\nScroll to Top\\n\\n\\n\\t\\tScroll to Top\\t\\n\\n\\n\\nTop\\n\\n\\n\\n\""
      ]
     },
     "execution_count": 7,
     "metadata": {},
     "output_type": "execute_result"
    }
   ],
   "source": [
    "soup.find('body').getText()"
   ]
  },
  {
   "cell_type": "code",
   "execution_count": 8,
   "id": "16433994",
   "metadata": {},
   "outputs": [
    {
     "data": {
      "text/plain": [
       "[<p>\n",
       " <strong>The White House</strong><br/>\n",
       " \t\t\t\t\t\t\t\t1600 Pennsylvania Ave NW<br/>\n",
       " \t\t\t\t\t\t\t\tWashington, DC 20500\n",
       " \t\t\t\t\t\t\t</p>,\n",
       " <p>     By the authority vested in me as President by the Constitution and the laws of the United States of America, it is hereby ordered as follows:</p>,\n",
       " <p>     Section 1.  Purpose.  Artificial intelligence (AI) holds extraordinary potential for both promise and peril.  Responsible AI use has the potential to help solve urgent challenges while making our world more prosperous, productive, innovative, and secure.  At the same time, irresponsible use could exacerbate societal harms such as fraud, discrimination, bias, and disinformation; displace and disempower workers; stifle competition; and pose risks to national security.  Harnessing AI for good and realizing its myriad benefits requires mitigating its substantial risks.  This endeavor demands a society-wide effort that includes government, the private sector, academia, and civil society.</p>,\n",
       " <p>     My Administration places the highest urgency on governing the development and use of AI safely and responsibly, and is therefore advancing a coordinated, Federal Government-wide approach to doing so.  The rapid speed at which AI capabilities are advancing compels the United States to lead in this moment for the sake of our security, economy, and society.</p>,\n",
       " <p>     In the end, AI reflects the principles of the people who build it, the people who use it, and the data upon which it is built.  I firmly believe that the power of our ideals; the foundations of our society; and the creativity, diversity, and decency of our people are the reasons that America thrived in past eras of rapid change.  They are the reasons we will succeed again in this moment.  We are more than capable of harnessing AI for justice, security, and opportunity for all.</p>,\n",
       " <p>     Sec. 2.  Policy and Principles.  It is the policy of my Administration to advance and govern the development and use of AI in accordance with eight guiding principles and priorities.  When undertaking the actions set forth in this order, executive departments and agencies (agencies) shall, as appropriate and consistent with applicable law, adhere to these principles, while, as feasible, taking into account the views of other agencies, industry, members of academia, civil society, labor unions, international allies and partners, and other relevant organizations:</p>,\n",
       " <p>     (a)  Artificial Intelligence must be safe and secure.  Meeting this goal requires robust, reliable, repeatable, and standardized evaluations of AI systems, as well as policies, institutions, and, as appropriate, other mechanisms to test, understand, and mitigate risks from these systems before they are put to use.  It also requires addressing AI systems’ most pressing security risks — including with respect to biotechnology, cybersecurity, critical infrastructure, and other national security dangers — while navigating AI’s opacity and complexity.  Testing and evaluations, including post-deployment performance monitoring, will help ensure that AI systems function as intended, are resilient against misuse or dangerous modifications, are ethically developed and operated in a secure manner, and are compliant with applicable Federal laws and policies.  Finally, my Administration will help develop effective labeling and content provenance mechanisms, so that Americans are able to determine when content is generated using AI and when it is not.  These actions will provide a vital foundation for an approach that addresses AI’s risks without unduly reducing its benefits. </p>,\n",
       " <p>     (b)  Promoting responsible innovation, competition, and collaboration will allow the United States to lead in AI and unlock the technology’s potential to solve some of society’s most difficult challenges.  This effort requires investments in AI-related education, training, development, research, and capacity, while simultaneously tackling novel intellectual property (IP) questions and other problems to protect inventors and creators.  Across the Federal Government, my Administration will support programs to provide Americans the skills they need for the age of AI and attract the world’s AI talent to our shores — not just to study, but to stay — so that the companies and technologies of the future are made in America.  The Federal Government will promote a fair, open, and competitive ecosystem and marketplace for AI and related technologies so that small developers and entrepreneurs can continue to drive innovation.  Doing so requires stopping unlawful collusion and addressing risks from dominant firms’ use of key assets such as semiconductors, computing power, cloud storage, and data to disadvantage competitors, and it requires supporting a marketplace that harnesses the benefits of AI to provide new opportunities for small businesses, workers, and entrepreneurs. </p>,\n",
       " <p>     (c)  The responsible development and use of AI require a commitment to supporting American workers.  As AI creates new jobs and industries, all workers need a seat at the table, including through collective bargaining, to ensure that they benefit from these opportunities.  My Administration will seek to adapt job training and education to support a diverse workforce and help provide access to opportunities that AI creates.  In the workplace itself, AI should not be deployed in ways that undermine rights, worsen job quality, encourage undue worker surveillance, lessen market competition, introduce new health and safety risks, or cause harmful labor-force disruptions.  The critical next steps in AI development should be built on the views of workers, labor unions, educators, and employers to support responsible uses of AI that improve workers’ lives, positively augment human work, and help all people safely enjoy the gains and opportunities from technological innovation.</p>,\n",
       " <p>     (d)  Artificial Intelligence policies must be consistent with my Administration’s dedication to advancing equity and civil rights.  My Administration cannot — and will not — tolerate the use of AI to disadvantage those who are already too often denied equal opportunity and justice.  From hiring to housing to healthcare, we have seen what happens when AI use deepens discrimination and bias, rather than improving quality of life.  Artificial Intelligence systems deployed irresponsibly have reproduced and intensified existing inequities, caused new types of harmful discrimination, and exacerbated online and physical harms.  My Administration will build on the important steps that have already been taken — such as issuing the Blueprint for an AI Bill of Rights, the AI Risk Management Framework, and Executive Order 14091 of February 16, 2023 (Further Advancing Racial Equity and Support for Underserved Communities Through the Federal Government) — in seeking to ensure that AI complies with all Federal laws and to promote robust technical evaluations, careful oversight, engagement with affected communities, and rigorous regulation.  It is necessary to hold those developing and deploying AI accountable to standards that protect against unlawful discrimination and abuse, including in the justice system and the Federal Government.  Only then can Americans trust AI to advance civil rights, civil liberties, equity, and justice for all.</p>,\n",
       " <p>     (e)  The interests of Americans who increasingly use, interact with, or purchase AI and AI-enabled products in their daily lives must be protected.  Use of new technologies, such as AI, does not excuse organizations from their legal obligations, and hard-won consumer protections are more important than ever in moments of technological change.  The Federal Government will enforce existing consumer protection laws and principles and enact appropriate safeguards against fraud, unintended bias, discrimination, infringements on privacy, and other harms from AI.  Such protections are especially important in critical fields like healthcare, financial services, education, housing, law, and transportation, where mistakes by or misuse of AI could harm patients, cost consumers or small businesses, or jeopardize safety or rights.  At the same time, my Administration will promote responsible uses of AI that protect consumers, raise the quality of goods and services, lower their prices, or expand selection and availability.</p>,\n",
       " <p>     (f)  Americans’ privacy and civil liberties must be protected as AI continues advancing.  Artificial Intelligence is making it easier to extract, re-identify, link, infer, and act on sensitive information about people’s identities, locations, habits, and desires.  Artificial Intelligence’s capabilities in these areas can increase the risk that personal data could be exploited and exposed.  To combat this risk, the Federal Government will ensure that the collection, use, and retention of data is lawful, is secure, and mitigates privacy and confidentiality risks.  Agencies shall use available policy and technical tools, including privacy-enhancing technologies (PETs) where appropriate, to protect privacy and to combat the broader legal and societal risks — including the chilling of First Amendment rights — that result from the improper collection and use of people’s data.</p>,\n",
       " <p>     (g)  It is important to manage the risks from the Federal Government’s own use of AI and increase its internal capacity to regulate, govern, and support responsible use of AI to deliver better results for Americans.  These efforts start with people, our Nation’s greatest asset.  My Administration will take steps to attract, retain, and develop public service-oriented AI professionals, including from underserved communities, across disciplines — including technology, policy, managerial, procurement, regulatory, ethical, governance, and legal fields — and ease AI professionals’ path into the Federal Government to help harness and govern AI.  The Federal Government will work to ensure that all members of its workforce receive adequate training to understand the benefits, risks, and limitations of AI for their job functions, and to modernize Federal Government information technology infrastructure, remove bureaucratic obstacles, and ensure that safe and rights-respecting AI is adopted, deployed, and used. </p>,\n",
       " <p>     (h)  The Federal Government should lead the way to global societal, economic, and technological progress, as the United States has in previous eras of disruptive innovation and change.  This leadership is not measured solely by the technological advancements our country makes.  Effective leadership also means pioneering those systems and safeguards needed to deploy technology responsibly — and building and promoting those safeguards with the rest of the world.  My Administration will engage with international allies and partners in developing a framework to manage AI’s risks, unlock AI’s potential for good, and promote common approaches to shared challenges.  The Federal Government will seek to promote responsible AI safety and security principles and actions with other nations, including our competitors, while leading key global conversations and collaborations to ensure that AI benefits the whole world, rather than exacerbating inequities, threatening human rights, and causing other harms. </p>,\n",
       " <p>     Sec. 3.  Definitions.  For purposes of this order:</p>,\n",
       " <p>     (a)  The term “agency” means each agency described in 44 U.S.C. 3502(1), except for the independent regulatory agencies described in 44 U.S.C. 3502(5).</p>,\n",
       " <p>     (b)  The term “artificial intelligence” or “AI” has the meaning set forth in 15 U.S.C. 9401(3):  a machine-based system that can, for a given set of human-defined objectives, make predictions, recommendations, or decisions influencing real or virtual environments.  Artificial intelligence systems use machine- and human-based inputs to perceive real and virtual environments; abstract such perceptions into models through analysis in an automated manner; and use model inference to formulate options for information or action.</p>,\n",
       " <p>     (c)  The term “AI model” means a component of an information system that implements AI technology and uses computational, statistical, or machine-learning techniques to produce outputs from a given set of inputs.</p>,\n",
       " <p>     (d)  The term “AI red-teaming” means a structured testing effort to find flaws and vulnerabilities in an AI system, often in a controlled environment and in collaboration with developers of AI.  Artificial Intelligence red-teaming is most often performed by dedicated “red teams” that adopt adversarial methods to identify flaws and vulnerabilities, such as harmful or discriminatory outputs from an AI system, unforeseen or undesirable system behaviors, limitations, or potential risks associated with the misuse of the system.</p>,\n",
       " <p>     (e)  The term “AI system” means any data system, software, hardware, application, tool, or utility that operates in whole or in part using AI.</p>,\n",
       " <p>     (f)  The term “commercially available information” means any information or data about an individual or group of individuals, including an individual’s or group of individuals’ device or location, that is made available or obtainable and sold, leased, or licensed to the general public or to governmental or non-governmental entities. </p>,\n",
       " <p>     (g)  The term “crime forecasting” means the use of analytical techniques to attempt to predict future crimes or crime-related information.  It can include machine-generated predictions that use algorithms to analyze large volumes of data, as well as other forecasts that are generated without machines and based on statistics, such as historical crime statistics.</p>,\n",
       " <p>     (h)  The term “critical and emerging technologies” means those technologies listed in the February 2022 Critical and Emerging Technologies List Update issued by the National Science and Technology Council (NSTC), as amended by subsequent updates to the list issued by the NSTC. </p>,\n",
       " <p>     (i)  The term “critical infrastructure” has the meaning set forth in section 1016(e) of the USA PATRIOT Act of 2001, 42 U.S.C. 5195c(e).</p>,\n",
       " <p>     (j)  The term “differential-privacy guarantee” means protections that allow information about a group to be shared while provably limiting the improper access, use, or disclosure of personal information about particular entities.  </p>,\n",
       " <p>     (k)  The term “dual-use foundation model” means an AI model that is trained on broad data; generally uses self-supervision; contains at least tens of billions of parameters; is applicable across a wide range of contexts; and that exhibits, or could be easily modified to exhibit, high levels of performance at tasks that pose a serious risk to security, national economic security, national public health or safety, or any combination of those matters, such as by:</p>,\n",
       " <p>          (i)    substantially lowering the barrier of entry for non-experts to design, synthesize, acquire, or use chemical, biological, radiological, or nuclear (CBRN) weapons;</p>,\n",
       " <p>          (ii)   enabling powerful offensive cyber operations through automated vulnerability discovery and exploitation against a wide range of potential targets of cyber attacks; or</p>,\n",
       " <p>          (iii)  permitting the evasion of human control or oversight through means of deception or obfuscation.</p>,\n",
       " <p>Models meet this definition even if they are provided to end users with technical safeguards that attempt to prevent users from taking advantage of the relevant unsafe capabilities. </p>,\n",
       " <p>     (l)  The term “Federal law enforcement agency” has the meaning set forth in section 21(a) of Executive Order 14074 of May 25, 2022 (Advancing Effective, Accountable Policing and Criminal Justice Practices To Enhance Public Trust and Public Safety).</p>,\n",
       " <p>     (m)  The term “floating-point operation” means any mathematical operation or assignment involving floating-point numbers, which are a subset of the real numbers typically represented on computers by an integer of fixed precision scaled by an integer exponent of a fixed base.</p>,\n",
       " <p>     (n)  The term “foreign person” has the meaning set forth in section 5(c) of Executive Order 13984 of January 19, 2021 (Taking Additional Steps To Address the National Emergency With Respect to Significant Malicious Cyber-Enabled Activities).</p>,\n",
       " <p>     (o)  The terms “foreign reseller” and “foreign reseller of United States Infrastructure as a Service Products” mean a foreign person who has established an Infrastructure as a Service Account to provide Infrastructure as a Service Products subsequently, in whole or in part, to a third party.</p>,\n",
       " <p>     (p)  The term “generative AI” means the class of AI models that emulate the structure and characteristics of input data in order to generate derived synthetic content.  This can include images, videos, audio, text, and other digital content.</p>,\n",
       " <p>     (q)  The terms “Infrastructure as a Service Product,” “United States Infrastructure as a Service Product,” “United States Infrastructure as a Service Provider,” and “Infrastructure as a Service Account” each have the respective meanings given to those terms in section 5 of Executive Order 13984.</p>,\n",
       " <p>     (r)  The term “integer operation” means any mathematical operation or assignment involving only integers, or whole numbers expressed without a decimal point.</p>,\n",
       " <p>     (s)  The term “Intelligence Community” has the meaning given to that term in section 3.5(h) of Executive Order 12333 of December 4, 1981 (United States Intelligence Activities), as amended. </p>,\n",
       " <p>     (t)  The term “machine learning” means a set of techniques that can be used to train AI algorithms to improve performance at a task based on data.</p>,\n",
       " <p>     (u)  The term “model weight” means a numerical parameter within an AI model that helps determine the model’s outputs in response to inputs.</p>,\n",
       " <p>     (v)  The term “national security system” has the meaning set forth in 44 U.S.C. 3552(b)(6).</p>,\n",
       " <p>     (w)  The term “omics” means biomolecules, including nucleic acids, proteins, and metabolites, that make up a cell or cellular system.</p>,\n",
       " <p>     (x)  The term “Open RAN” means the Open Radio Access Network approach to telecommunications-network standardization adopted by the O-RAN Alliance, Third Generation Partnership Project, or any similar set of published open standards for multi-vendor network equipment interoperability.</p>,\n",
       " <p>     (y)  The term “personally identifiable information” has the meaning set forth in Office of Management and Budget (OMB) Circular No. A-130.</p>,\n",
       " <p>     (z)  The term “privacy-enhancing technology” means any software or hardware solution, technical process, technique, or other technological means of mitigating privacy risks arising from data processing, including by enhancing predictability, manageability, disassociability, storage, security, and confidentiality.  These technological means may include secure multiparty computation, homomorphic encryption, zero-knowledge proofs, federated learning, secure enclaves, differential privacy, and synthetic-data-generation tools.  This is also sometimes referred to as “privacy-preserving technology.”</p>,\n",
       " <p>     (aa)  The term “privacy impact assessment” has the meaning set forth in OMB Circular No. A-130.</p>,\n",
       " <p>     (bb)  The term “Sector Risk Management Agency” has the meaning set forth in 6 U.S.C. 650(23).</p>,\n",
       " <p>     (cc)  The term “self-healing network” means a telecommunications network that automatically diagnoses and addresses network issues to permit self-restoration.</p>,\n",
       " <p>     (dd)  The term “synthetic biology” means a field of science that involves redesigning organisms, or the biomolecules of organisms, at the genetic level to give them new characteristics.  Synthetic nucleic acids are a type of biomolecule redesigned through synthetic-biology methods.</p>,\n",
       " <p>     (ee)  The term “synthetic content” means information, such as images, videos, audio clips, and text, that has been significantly modified or generated by algorithms, including by AI.</p>,\n",
       " <p>     (ff)  The term “testbed” means a facility or mechanism equipped for conducting rigorous, transparent, and replicable testing of tools and technologies, including AI and PETs, to help evaluate the functionality, usability, and performance of those tools or technologies.</p>,\n",
       " <p>     (gg)  The term “watermarking” means the act of embedding information, which is typically difficult to remove, into outputs created by AI — including into outputs such as photos, videos, audio clips, or text — for the purposes of verifying the authenticity of the output or the identity or characteristics of its provenance, modifications, or conveyance.<br/>     Sec. 4.  Ensuring the Safety and Security of AI Technology.</p>,\n",
       " <p>     4.1.  Developing Guidelines, Standards, and Best Practices for AI Safety and Security.  (a)  Within 270 days of the date of this order, to help ensure the development of safe, secure, and trustworthy AI systems, the Secretary of Commerce, acting through the Director of the National Institute of Standards and Technology (NIST), in coordination with the Secretary of Energy, the Secretary of Homeland Security, and the heads of other relevant agencies as the Secretary of Commerce may deem appropriate, shall:</p>,\n",
       " <p>          (i)   Establish guidelines and best practices, with the aim of promoting consensus industry standards, for developing and deploying safe, secure, and trustworthy AI systems, including:</p>,\n",
       " <p>               (A)  developing a companion resource to the AI Risk Management Framework, NIST AI 100-1, for generative AI;</p>,\n",
       " <p>               (B)  developing a companion resource to the Secure Software Development Framework to incorporate secure development practices for generative AI and for dual-use foundation models; and</p>,\n",
       " <p>               (C)  launching an initiative to create guidance and benchmarks for evaluating and auditing AI capabilities, with a focus on capabilities through which AI could cause harm, such as in the areas of cybersecurity and biosecurity.</p>,\n",
       " <p>          (ii)  Establish appropriate guidelines (except for AI used as a component of a national security system), including appropriate procedures and processes, to enable developers of AI, especially of dual-use foundation models, to conduct AI red-teaming tests to enable deployment of safe, secure, and trustworthy systems.  These efforts shall include:</p>,\n",
       " <p>               (A)  coordinating or developing guidelines related to assessing and managing the safety, security, and trustworthiness of dual-use foundation models; and</p>,\n",
       " <p>               (B)  in coordination with the Secretary of Energy and the Director of the National Science Foundation (NSF), developing and helping to ensure the availability of testing environments, such as testbeds, to support the development of safe, secure, and trustworthy AI technologies, as well as to support the design, development, and deployment of associated PETs, consistent with section 9(b) of this order. </p>,\n",
       " <p>     (b)  Within 270 days of the date of this order, to understand and mitigate AI security risks, the Secretary of Energy, in coordination with the heads of other Sector Risk Management Agencies (SRMAs) as the Secretary of Energy may deem appropriate, shall develop and, to the extent permitted by law and available appropriations, implement a plan for developing the Department of Energy’s AI model evaluation tools and AI testbeds.  The Secretary shall undertake this work using existing solutions where possible, and shall develop these tools and AI testbeds to be capable of assessing near-term extrapolations of AI systems’ capabilities.  At a minimum, the Secretary shall develop tools to evaluate AI capabilities to generate outputs that may represent nuclear, nonproliferation, biological, chemical, critical infrastructure, and energy-security threats or hazards.  The Secretary shall do this work solely for the purposes of guarding against these threats, and shall also develop model guardrails that reduce such risks.  The Secretary shall, as appropriate, consult with private AI laboratories, academia, civil society, and third-party evaluators, and shall use existing solutions.</p>,\n",
       " <p>     4.2.  Ensuring Safe and Reliable AI.  (a)  Within 90 days of the date of this order, to ensure and verify the continuous availability of safe, reliable, and effective AI in accordance with the Defense Production Act, as amended, 50 U.S.C. 4501 <em>et seq</em>., including for the national defense and the protection of critical infrastructure, the Secretary of Commerce shall require:</p>,\n",
       " <p>          (i)   Companies developing or demonstrating an intent to develop potential dual-use foundation models to provide the Federal Government, on an ongoing basis, with information, reports, or records regarding the following:</p>,\n",
       " <p>               (A)  any ongoing or planned activities related to training, developing, or producing dual-use foundation models, including the physical and cybersecurity protections taken to assure the integrity of that training process against sophisticated threats;</p>,\n",
       " <p>               (B)  the ownership and possession of the model weights of any dual-use foundation models, and the physical and cybersecurity measures taken to protect those model weights; and</p>,\n",
       " <p>               (C)  the results of any developed dual-use foundation model’s performance in relevant AI red-team testing based on guidance developed by NIST pursuant to subsection 4.1(a)(ii) of this section, and a description of any associated measures the company has taken to meet safety objectives, such as mitigations to improve performance on these red-team tests and strengthen overall model security.  Prior to the development of guidance on red-team testing standards by NIST pursuant to subsection 4.1(a)(ii) of this section, this description shall include the results of any red-team testing that the company has conducted relating to lowering the barrier to entry for the development, acquisition, and use of biological weapons by non-state actors; the discovery of software vulnerabilities and development of associated exploits; the use of software or tools to influence real or virtual events; the possibility for self-replication or propagation; and associated measures to meet safety objectives; and</p>,\n",
       " <p>          (ii)  Companies, individuals, or other organizations or entities that acquire, develop, or possess a potential large-scale computing cluster to report any such acquisition, development, or possession, including the existence and location of these clusters and the amount of total computing power available in each cluster.</p>,\n",
       " <p>     (b)  The Secretary of Commerce, in consultation with the Secretary of State, the Secretary of Defense, the Secretary of Energy, and the Director of National Intelligence, shall define, and thereafter update as needed on a regular basis, the set of technical conditions for models and computing clusters that would be subject to the reporting requirements of subsection 4.2(a) of this section.  Until such technical conditions are defined, the Secretary shall require compliance with these reporting requirements for:</p>,\n",
       " <p>          (i)   any model that was trained using a quantity of computing power greater than 10<sup>26</sup> integer or floating-point operations, or using primarily biological sequence data and using a quantity of computing power greater than 10<sup>23</sup> integer or floating-point operations; and</p>,\n",
       " <p>          (ii)  any computing cluster that has a set of machines physically co-located in a single datacenter, transitively connected by data center networking of over 100 Gbit/s, and having a theoretical maximum computing capacity of 10<sup>20</sup> integer or floating-point operations per second for training AI.</p>,\n",
       " <p>     (c)  Because I find that additional steps must be taken to deal with the national emergency related to significant malicious cyber-enabled activities declared in Executive Order 13694 of April 1, 2015 (Blocking the Property of Certain Persons Engaging in Significant Malicious Cyber-Enabled Activities), as amended by Executive Order 13757 of December 28, 2016 (Taking Additional Steps to Address the National Emergency With Respect to Significant Malicious Cyber-Enabled Activities), and further amended by Executive Order 13984, to address the use of United States Infrastructure as a Service (IaaS) Products by foreign malicious cyber actors, including to impose additional record-keeping obligations with respect to foreign transactions and to assist in the investigation of transactions involving foreign malicious cyber actors, I hereby direct the Secretary of Commerce, within 90 days of the date of this order, to:</p>,\n",
       " <p>          (i)    Propose regulations that require United States IaaS Providers to submit a report to the Secretary of Commerce when a foreign person transacts with that United States IaaS Provider to train a large AI model with potential capabilities that could be used in malicious cyber-enabled activity (a “training run”).  Such reports shall include, at a minimum, the identity of the foreign person and the existence of any training run of an AI model meeting the criteria set forth in this section, or other criteria defined by the Secretary in regulations, as well as any additional information identified by the Secretary.</p>,\n",
       " <p>          (ii)   Include a requirement in the regulations proposed pursuant to subsection 4.2(c)(i) of this section that United States IaaS Providers prohibit any foreign reseller of their United States IaaS Product from providing those products unless such foreign reseller submits to the United States IaaS Provider a report, which the United States IaaS Provider must provide to the Secretary of Commerce, detailing each instance in which a foreign person transacts with the foreign reseller to use the United States IaaS Product to conduct a training run described in subsection 4.2(c)(i) of this section.  Such reports shall include, at a minimum, the information specified in subsection 4.2(c)(i) of this section as well as any additional information identified by the Secretary.</p>,\n",
       " <p>          (iii)  Determine the set of technical conditions for a large AI model to have potential capabilities that could be used in malicious cyber-enabled activity, and revise that determination as necessary and appropriate.  Until the Secretary makes such a determination, a model shall be considered to have potential capabilities that could be used in malicious cyber-enabled activity if it requires a quantity of computing power greater than 10<sup>26</sup> integer or floating-point operations and is trained on a computing cluster that has a set of machines physically co-located in a single datacenter, transitively connected by data center networking of over 100 Gbit/s, and having a theoretical maximum compute capacity of 10<sup>20</sup> integer or floating-point operations per second for training AI.   </p>,\n",
       " <p>     (d)  Within 180 days of the date of this order, pursuant to the finding set forth in subsection 4.2(c) of this section, the Secretary of Commerce shall propose regulations that require United States IaaS Providers to ensure that foreign resellers of United States IaaS Products verify the identity of any foreign person that obtains an IaaS account (account) from the foreign reseller.  These regulations shall, at a minimum:</p>,\n",
       " <p>          (i)    Set forth the minimum standards that a United States IaaS Provider must require of foreign resellers of its United States IaaS Products to verify the identity of a foreign person who opens an account or maintains an existing account with a foreign reseller, including:</p>,\n",
       " <p>               (A)  the types of documentation and procedures that foreign resellers of United States IaaS Products must require to verify the identity of any foreign person acting as a lessee or sub-lessee of these products or services;</p>,\n",
       " <p>               (B)  records that foreign resellers of United States IaaS Products must securely maintain regarding a foreign person that obtains an account, including information establishing:</p>,\n",
       " <p>                    (1)  the identity of such foreign person, including name and address;</p>,\n",
       " <p>                    (2)  the means and source of payment (including any associated financial institution and other identifiers such as credit card number, account number, customer identifier, transaction identifiers, or virtual currency wallet or wallet address identifier);</p>,\n",
       " <p>                    (3)  the electronic mail address and telephonic contact information used to verify a foreign person’s identity; and</p>,\n",
       " <p>                    (4)  the Internet Protocol addresses used for access or administration and the date and time of each such access or administrative action related to ongoing verification of such foreign person’s ownership of such an account; and</p>,\n",
       " <p>               (C)  methods that foreign resellers of United States IaaS Products must implement to limit all third-party access to the information described in this subsection, except insofar as such access is otherwise consistent with this order and allowed under applicable law;</p>,\n",
       " <p>          (ii)   Take into consideration the types of accounts maintained by foreign resellers of United States IaaS Products, methods of opening an account, and types of identifying information available to accomplish the objectives of identifying foreign malicious cyber actors using any such products and avoiding the imposition of an undue burden on such resellers; and</p>,\n",
       " <p>          (iii)  Provide that the Secretary of Commerce, in accordance with such standards and procedures as the Secretary may delineate and in consultation with the Secretary of Defense, the Attorney General, the Secretary of Homeland Security, and the Director of National Intelligence, may exempt a United States IaaS Provider with respect to any specific foreign reseller of their United States IaaS Products, or with respect to any specific type of account or lessee, from the requirements of any regulation issued pursuant to this subsection.  Such standards and procedures may include a finding by the Secretary that such foreign reseller, account, or lessee complies with security best practices to otherwise deter abuse of United States IaaS Products.</p>,\n",
       " <p>     (e)  The Secretary of Commerce is hereby authorized to take such actions, including the promulgation of rules and regulations, and to employ all powers granted to the President by the International Emergency Economic Powers Act, 50 U.S.C. 1701 <em>et seq.</em>, as may be necessary to carry out the purposes of subsections 4.2(c) and (d) of this section.  Such actions may include a requirement that United States IaaS Providers require foreign resellers of United States IaaS Products to provide United States IaaS Providers verifications relative to those subsections.</p>,\n",
       " <p>     4.3.  Managing AI in Critical Infrastructure and in Cybersecurity.  (a)  To ensure the protection of critical<br/>infrastructure, the following actions shall be taken:</p>,\n",
       " <p>          (i)    Within 90 days of the date of this order, and at least annually thereafter, the head of each agency with relevant regulatory authority over critical infrastructure and the heads of relevant SRMAs, in coordination with the Director of the Cybersecurity and Infrastructure Security Agency within the Department of Homeland Security for consideration of cross-sector risks, shall evaluate and provide to the Secretary of Homeland Security an assessment of potential risks related to the use of AI in critical infrastructure sectors involved, including ways in which deploying AI may make critical infrastructure systems more vulnerable to critical failures, physical attacks, and cyber attacks, and shall consider ways to mitigate these vulnerabilities.  Independent regulatory agencies are encouraged, as they deem appropriate, to contribute to sector-specific risk assessments.</p>,\n",
       " <p>          (ii)   Within 150 days of the date of this order, the Secretary of the Treasury shall issue a public report on best practices for financial institutions to manage AI-specific cybersecurity risks.</p>,\n",
       " <p>          (iii)  Within 180 days of the date of this order, the Secretary of Homeland Security, in coordination with the Secretary of Commerce and with SRMAs and other regulators as determined by the Secretary of Homeland Security, shall incorporate as appropriate the AI Risk Management Framework, NIST AI 100-1, as well as other appropriate security guidance, into relevant safety and security guidelines for use by critical infrastructure owners and operators.</p>,\n",
       " <p>          (iv)   Within 240 days of the completion of the guidelines described in subsection 4.3(a)(iii) of this section, the Assistant to the President for National Security Affairs and the Director of OMB, in consultation with the Secretary of Homeland Security, shall coordinate work by the heads of agencies with authority over critical infrastructure to develop and take steps for the Federal Government to mandate such guidelines, or appropriate portions thereof, through regulatory or other appropriate action.  Independent regulatory agencies are encouraged, as they deem appropriate, to consider whether to mandate guidance through regulatory action in their areas of authority and responsibility.</p>,\n",
       " <p>          (v)    The Secretary of Homeland Security shall establish an Artificial Intelligence Safety and Security Board as an advisory committee pursuant to section 871 of the Homeland Security Act of 2002 (Public Law 107-296).  The Advisory Committee shall include AI experts from the private sector, academia, and government, as appropriate, and provide to the Secretary of Homeland Security and the Federal Government’s critical infrastructure community advice, information, or recommendations for improving security, resilience, and incident response related to AI usage in critical infrastructure.</p>,\n",
       " <p>     (b)  To capitalize on AI’s potential to improve United States cyber defenses:</p>,\n",
       " <p>          (i)    The Secretary of Defense shall carry out the actions described in subsections 4.3(b)(ii) and (iii) of this section for national security systems, and the Secretary of Homeland Security shall carry out these actions for non-national security systems.  Each shall do so in consultation with the heads of other relevant agencies as the Secretary of Defense and the Secretary of Homeland Security may deem appropriate. </p>,\n",
       " <p>          (ii)   As set forth in subsection 4.3(b)(i) of this section, within 180 days of the date of this order, the Secretary of Defense and the Secretary of Homeland Security shall, consistent with applicable law, each develop plans for, conduct, and complete an operational pilot project to identify, develop, test, evaluate, and deploy AI capabilities, such as large-language models, to aid in the discovery and remediation of vulnerabilities in critical United States Government software, systems, and networks.</p>,\n",
       " <p>          (iii)  As set forth in subsection 4.3(b)(i) of this section, within 270 days of the date of this order, the Secretary of Defense and the Secretary of Homeland Security shall each provide a report to the Assistant to the President for National Security Affairs on the results of actions taken pursuant to the plans and operational pilot projects required by subsection 4.3(b)(ii) of this section, including a description of any vulnerabilities found and fixed through the development and deployment of AI capabilities and any lessons learned on how to identify, develop, test, evaluate, and deploy AI capabilities effectively for cyber defense.</p>,\n",
       " <p>     4.4.  Reducing Risks at the Intersection of AI and CBRN Threats.  (a)  To better understand and mitigate the risk of AI being misused to assist in the development or use of CBRN threats — with a particular focus on biological weapons — the following actions shall be taken: </p>,\n",
       " <p>          (i)   Within 180 days of the date of this order, the Secretary of Homeland Security, in consultation with the Secretary of Energy and the Director of the Office of Science and Technology Policy (OSTP), shall evaluate the potential for AI to be misused to enable the development or production of CBRN threats, while also considering the benefits and application of AI to counter these threats, including, as appropriate, the results of work conducted under section 8(b) of this order.  The Secretary of Homeland Security shall:</p>,\n",
       " <p>               (A)  consult with experts in AI and CBRN issues from the Department of Energy, private AI laboratories, academia, and third-party model evaluators, as appropriate, to evaluate AI model capabilities to present CBRN threats — for the sole purpose of guarding against those threats — as well as options for minimizing the risks of AI model misuse to generate or exacerbate those threats; and</p>,\n",
       " <p>               (B)  submit a report to the President that describes the progress of these efforts, including an assessment of the types of AI models that may present CBRN risks to the United States, and that makes recommendations for regulating or overseeing the training, deployment, publication, or use of these models, including requirements for safety evaluations and guardrails for mitigating potential threats to national security.</p>,\n",
       " <p>          (ii)  Within 120 days of the date of this order, the Secretary of Defense, in consultation with the Assistant to the President for National Security Affairs and the Director of OSTP, shall enter into a contract with the National Academies of Sciences, Engineering, and Medicine to conduct — and submit to the Secretary of Defense, the Assistant to the President for National Security Affairs, the Director of the Office of Pandemic Preparedness and Response Policy, the Director of OSTP, and the Chair of the Chief Data Officer Council — a study that:</p>,\n",
       " <p>               (A)  assesses the ways in which AI can increase biosecurity risks, including risks from generative AI models trained on biological data, and makes recommendations on how to mitigate these risks;</p>,\n",
       " <p>               (B)  considers the national security implications of the use of data and datasets, especially those associated with pathogens and omics studies, that the United States Government hosts, generates, funds the creation of, or otherwise owns, for the training of generative AI models, and makes recommendations on how to mitigate the risks related to the use of these data and datasets;</p>,\n",
       " <p>               (C)  assesses the ways in which AI applied to biology can be used to reduce biosecurity risks, including recommendations on opportunities to coordinate data and high-performance computing resources; and</p>,\n",
       " <p>               (D)  considers additional concerns and opportunities at the intersection of AI and synthetic biology that the Secretary of Defense deems appropriate.</p>,\n",
       " <p>     (b)  To reduce the risk of misuse of synthetic nucleic acids, which could be substantially increased by AI’s capabilities in this area, and improve biosecurity measures for the nucleic acid synthesis industry, the following actions shall be taken:</p>,\n",
       " <p>          (i)    Within 180 days of the date of this order, the Director of OSTP, in consultation with the Secretary of State, the Secretary of Defense, the Attorney General, the Secretary of Commerce, the Secretary of Health and Human Services (HHS), the Secretary of Energy, the Secretary of Homeland Security, the Director of National Intelligence, and the heads of other relevant agencies as the Director of OSTP may deem appropriate, shall establish a framework, incorporating, as appropriate, existing United States Government guidance, to encourage providers of synthetic nucleic acid sequences to implement comprehensive, scalable, and verifiable synthetic nucleic acid procurement screening mechanisms, including standards and recommended incentives.  As part of this framework, the Director of OSTP shall:</p>,\n",
       " <p>               (A)  establish criteria and mechanisms for ongoing identification of biological sequences that could be used in a manner that would pose a risk to the national security of the United States; and</p>,\n",
       " <p>               (B)  determine standardized methodologies and tools for conducting and verifying the performance of sequence synthesis procurement screening, including customer screening approaches to support due diligence with respect to managing security risks posed by purchasers of biological sequences identified in subsection 4.4(b)(i)(A) of this section, and processes for the reporting of concerning activity to enforcement entities.</p>,\n",
       " <p>          (ii)   Within 180 days of the date of this order, the Secretary of Commerce, acting through the Director of NIST, in coordination with the Director of OSTP, and in consultation with the Secretary of State, the Secretary of HHS, and the heads of other relevant agencies as the Secretary of Commerce may deem appropriate, shall initiate an effort to engage with industry and relevant stakeholders, informed by the framework developed under subsection 4.4(b)(i) of this section, to develop and refine for possible use by synthetic nucleic acid sequence providers:</p>,\n",
       " <p>               (A)  specifications for effective nucleic acid synthesis procurement screening;</p>,\n",
       " <p>               (B)  best practices, including security and access controls, for managing sequence-of-concern databases to support such screening;</p>,\n",
       " <p>               (C)  technical implementation guides for effective screening; and</p>,\n",
       " <p>               (D)  conformity-assessment best practices and mechanisms.</p>,\n",
       " <p>          (iii)  Within 180 days of the establishment of the framework pursuant to subsection 4.4(b)(i) of this section, all agencies that fund life-sciences research shall, as appropriate and consistent with applicable law, establish that, as a requirement of funding, synthetic nucleic acid procurement is conducted through providers or manufacturers that adhere to the framework, such as through an attestation from the provider or manufacturer.  The Assistant to the President for National Security Affairs and the Director of OSTP shall coordinate the process of reviewing such funding requirements to facilitate consistency in implementation of the framework across funding agencies.</p>,\n",
       " <p>          (iv)   In order to facilitate effective implementation of the measures described in subsections 4.4(b)(i)-(iii) of this section, the Secretary of Homeland Security, in consultation with the heads of other relevant agencies as the Secretary of Homeland Security may deem appropriate, shall:</p>,\n",
       " <p>               (A)  within 180 days of the establishment of the framework pursuant to subsection 4.4(b)(i) of this section, develop a framework to conduct structured evaluation and stress testing of nucleic acid synthesis procurement screening, including the systems developed in accordance with subsections 4.4(b)(i)-(ii) of this section and implemented by providers of synthetic nucleic acid sequences; and</p>,\n",
       " <p>               (B)  following development of the framework pursuant to subsection 4.4(b)(iv)(A) of this section, submit an annual report to the Assistant to the President for National Security Affairs, the Director of the Office of Pandemic Preparedness and Response Policy, and the Director of OSTP on any results of the activities conducted pursuant to subsection 4.4(b)(iv)(A) of this section, including recommendations, if any, on how to strengthen nucleic acid synthesis procurement screening, including customer screening systems.</p>,\n",
       " <p>     4.5.  Reducing the Risks Posed by Synthetic Content.</p>,\n",
       " <p> To foster capabilities for identifying and labeling synthetic content produced by AI systems, and to establish the authenticity and provenance of digital content, both synthetic and not synthetic, produced by the Federal Government or on its behalf:<br/><br/>     (a)  Within 240 days of the date of this order, the Secretary of Commerce, in consultation with the heads of other relevant agencies as the Secretary of Commerce may deem appropriate, shall submit a report to the Director of OMB and the Assistant to the President for National Security Affairs identifying the existing standards, tools, methods, and practices, as well as the potential development of further science-backed standards and techniques, for:</p>,\n",
       " <p>          (i)    authenticating content and tracking its provenance;</p>,\n",
       " <p>          (ii)   labeling synthetic content, such as using watermarking;</p>,\n",
       " <p>          (iii)  detecting synthetic content;</p>,\n",
       " <p>          (iv)   preventing generative AI from producing child sexual abuse material or producing non-consensual intimate imagery of real individuals (to include intimate digital depictions of the body or body parts of an identifiable individual);</p>,\n",
       " <p>          (v)    testing software used for the above purposes; and</p>,\n",
       " <p>          (vi)   auditing and maintaining synthetic content.<br/><br/>     (b)  Within 180 days of submitting the report required under subsection 4.5(a) of this section, and updated periodically thereafter, the Secretary of Commerce, in coordination with the Director of OMB, shall develop guidance regarding the existing tools and practices for digital content authentication and synthetic content detection measures.  The guidance shall include measures for the purposes listed in subsection 4.5(a) of this section.<br/><br/>     (c)  Within 180 days of the development of the guidance required under subsection 4.5(b) of this section, and updated periodically thereafter, the Director of OMB, in consultation with the Secretary of State; the Secretary of Defense; the Attorney General; the Secretary of Commerce, acting through the Director of NIST; the Secretary of Homeland Security; the Director of National Intelligence; and the heads of other agencies that the Director of OMB deems appropriate, shall — for the purpose of strengthening public confidence in the integrity of official United States Government digital content — issue guidance to agencies for labeling and authenticating such content that they produce or publish.<br/><br/>     (d)  The Federal Acquisition Regulatory Council shall, as appropriate and consistent with applicable law, consider amending the Federal Acquisition Regulation to take into account the guidance established under subsection 4.5 of this section.</p>,\n",
       " <p>     4.6.  Soliciting Input on Dual-Use Foundation Models with Widely Available Model Weights.  When the weights for a dual-use foundation model are widely available — such as when they are publicly posted on the Internet — there can be substantial benefits to innovation, but also substantial security risks, such as the removal of safeguards within the model.  To address the risks and potential benefits of dual-use foundation models with widely available weights, within 270 days of the date of this order, the Secretary of Commerce, acting through the Assistant Secretary of Commerce for Communications and Information, and in consultation with the Secretary of State, shall:<br/><br/>     (a)  solicit input from the private sector, academia, civil society, and other stakeholders through a public consultation process on potential risks, benefits, other implications, and appropriate policy and regulatory approaches related to dual-use foundation models for which the model weights are widely available, including:</p>,\n",
       " <p>          (i)    risks associated with actors fine-tuning dual-use foundation models for which the model weights are widely available or removing those models’ safeguards;</p>,\n",
       " <p>          (ii)   benefits to AI innovation and research, including research into AI safety and risk management, of dual-use foundation models for which the model weights are widely available; and</p>,\n",
       " <p>          (iii)  potential voluntary, regulatory, and international mechanisms to manage the risks and maximize the benefits of dual-use foundation models for which the model weights are widely available; and<br/><br/>     (b)  based on input from the process described in subsection 4.6(a) of this section, and in consultation with the heads of other relevant agencies as the Secretary of Commerce deems appropriate, submit a report to the President on the potential benefits, risks, and implications of dual-use foundation models for which the model weights are widely available, as well as policy and regulatory recommendations pertaining to those models.</p>,\n",
       " <p>     4.7.  Promoting Safe Release and Preventing the Malicious Use of Federal Data for AI Training.To improve public data access and manage security risks, and consistent with the objectives of the Open, Public, Electronic, and Necessary Government Data Act (title II of Public Law 115-435) to expand public access to Federal data assets in a machine-readable format while also taking into account security considerations, including the risk that information in an individual data asset in isolation does not pose a security risk but, when combined with other available information, may pose such a risk:<br/><br/>     (a)  within 270 days of the date of this order, the Chief Data Officer Council, in consultation with the Secretary of Defense, the Secretary of Commerce, the Secretary of Energy, the Secretary of Homeland Security, and the Director of National Intelligence, shall develop initial guidelines for performing security reviews, including reviews to identify and manage the potential security risks of releasing Federal data that could aid in the development of CBRN weapons as well as the development of autonomous offensive cyber capabilities, while also providing public access to Federal Government data in line with the goals stated in the Open, Public, Electronic, and Necessary Government Data Act (title II of Public Law 115-435); and</p>,\n",
       " <p>     (b)  within 180 days of the development of the initial guidelines required by subsection 4.7(a) of this section, agencies shall conduct a security review of all data assets in the comprehensive data inventory required under 44 U.S.C. 3511(a)(1) and (2)(B) and shall take steps, as appropriate and consistent with applicable law, to address the highest-priority potential security risks that releasing that data could raise with respect to CBRN weapons, such as the ways in which that data could be used to train AI systems.</p>,\n",
       " <p>     4.8.  Directing the Development of a National Security Memorandum.  To develop a coordinated executive branch approach to managing AI’s security risks, the Assistant to the President for National Security Affairs and the Assistant to the President and Deputy Chief of Staff for Policy shall oversee an interagency process with the purpose of, within 270 days of the date of this order, developing and submitting a proposed National Security Memorandum on AI to the President.  The memorandum shall address the governance of AI used as a component of a national security system or for military and intelligence purposes.  The memorandum shall take into account current efforts to govern the development and use of AI for national security systems.  The memorandum shall outline actions for the Department of Defense, the Department of State, other relevant agencies, and the Intelligence Community to address the national security risks and potential benefits posed by AI.  In particular, the memorandum shall:</p>,\n",
       " <p>     (a)  provide guidance to the Department of Defense, other relevant agencies, and the Intelligence Community on the continued adoption of AI capabilities to advance the United States national security mission, including through directing specific AI assurance and risk-management practices for national security uses of AI that may affect the rights or safety of United States persons and, in appropriate contexts, non-United States persons; and</p>,\n",
       " <p>     (b)  direct continued actions, as appropriate and consistent with applicable law, to address the potential use of AI systems by adversaries and other foreign actors in ways that threaten the capabilities or objectives of the Department of Defense or the Intelligence Community, or that otherwise pose risks to the security of the United States or its allies and partners.  </p>,\n",
       " <p>     Sec. 5. Promoting Innovation and Competition.</p>,\n",
       " <p>     5.1.  Attracting AI Talent to the United States.  (a)  Within 90 days of the date of this order, to attract and retain talent in AI and other critical and emerging technologies in the United States economy, the Secretary of State and the Secretary of Homeland Security shall take appropriate steps to:</p>,\n",
       " <p>          (i)   streamline processing times of visa petitions and applications, including by ensuring timely availability of visa appointments, for noncitizens who seek to travel to the United States to work on, study, or conduct research in AI or other critical and emerging technologies; and </p>,\n",
       " <p>          (ii)  facilitate continued availability of visa appointments in sufficient volume for applicants with expertise in AI or other critical and emerging technologies.</p>,\n",
       " <p>     (b)  Within 120 days of the date of this order, the Secretary of State shall:</p>,\n",
       " <p>          (i)    consider initiating a rulemaking to establish new criteria to designate countries and skills on the Department of State’s Exchange Visitor Skills List as it relates to the 2-year foreign residence requirement for certain J-1 nonimmigrants, including those skills that are critical to the United States;</p>,\n",
       " <p>          (ii)   consider publishing updates to the 2009 Revised Exchange Visitor Skills List (74 FR 20108); and</p>,\n",
       " <p>          (iii)  consider implementing a domestic visa renewal program under 22 C.F.R. 41.111(b) to facilitate the ability of qualified applicants, including highly skilled talent in AI and critical and emerging technologies, to continue their work in the United States without unnecessary interruption.</p>,\n",
       " <p>     (c)  Within 180 days of the date of this order, the Secretary of State shall:</p>,\n",
       " <p>          (i)   consider initiating a rulemaking to expand the categories of nonimmigrants who qualify for the domestic visa renewal program covered under 22 C.F.R. 41.111(b) to include academic J-1 research scholars and F-1 students in science, technology, engineering, and mathematics (STEM); and</p>,\n",
       " <p>          (ii)  establish, to the extent permitted by law and available appropriations, a program to identify and attract top talent in AI and other critical and emerging technologies at universities, research institutions, and the private sector overseas, and to establish and increase connections with that talent to educate them on opportunities and resources for research and employment in the United States, including overseas educational components to inform top STEM talent of nonimmigrant and immigrant visa options and potential expedited adjudication of their visa petitions and applications.</p>,\n",
       " <p>     (d)  Within 180 days of the date of this order, the Secretary of Homeland Security shall:</p>,\n",
       " <p>          (i)   review and initiate any policy changes the Secretary determines necessary and appropriate to clarify and modernize immigration pathways for experts in AI and other critical and emerging technologies, including O-1A and EB-1 noncitizens of extraordinary ability; EB-2 advanced-degree holders and noncitizens of exceptional ability; and startup founders in AI and other critical and emerging technologies using the International Entrepreneur Rule; and</p>,\n",
       " <p>          (ii)  continue its rulemaking process to modernize the H-1B program and enhance its integrity and usage, including by experts in AI and other critical and emerging technologies, and consider initiating a rulemaking to enhance the process for noncitizens, including experts in AI and other critical and emerging technologies and their spouses, dependents, and children, to adjust their status to lawful permanent resident.</p>,\n",
       " <p>     (e)  Within 45 days of the date of this order, for purposes of considering updates to the “Schedule A” list of occupations, 20 C.F.R. 656.5, the Secretary of Labor shall publish a request for information (RFI) to solicit public input, including from industry and worker-advocate communities, identifying AI and other STEM-related occupations, as well as additional occupations across the economy, for which there is an insufficient number of ready, willing, able, and qualified United States workers.</p>,\n",
       " <p>     (f)  The Secretary of State and the Secretary of Homeland Security shall, consistent with applicable law and implementing regulations, use their discretionary authorities to support and attract foreign nationals with special skills in AI and other critical and emerging technologies seeking to work, study, or conduct research in the United States.</p>,\n",
       " <p>     (g)  Within 120 days of the date of this order, the Secretary of Homeland Security, in consultation with the Secretary of State, the Secretary of Commerce, and the Director of OSTP, shall develop and publish informational resources to better attract and retain experts in AI and other critical and emerging technologies, including:</p>,\n",
       " <p>          (i)   a clear and comprehensive guide for experts in AI and other critical and emerging technologies to understand their options for working in the United States, to be published in multiple relevant languages on AI.gov; and</p>,\n",
       " <p>          (ii)  a public report with relevant data on applications, petitions, approvals, and other key indicators of how experts in AI and other critical and emerging technologies have utilized the immigration system through the end of Fiscal Year 2023.</p>,\n",
       " <p>     5.2.  Promoting Innovation.  (a)  To develop and strengthen public-private partnerships for advancing innovation, commercialization, and risk-mitigation methods for AI, and to help promote safe, responsible, fair, privacy-protecting, and trustworthy AI systems, the Director of NSF shall take the following steps:</p>,\n",
       " <p>          (i)    Within 90 days of the date of this order, in coordination with the heads of agencies that the Director of NSF deems appropriate, launch a pilot program implementing the National AI Research Resource (NAIRR), consistent with past recommendations of the NAIRR Task Force.  The program shall pursue the infrastructure, governance mechanisms, and user interfaces to pilot an initial integration of distributed computational, data, model, and training resources to be made available to the research community in support of AI-related research and development.  The Director of NSF shall identify Federal and private sector computational, data, software, and training resources appropriate for inclusion in the NAIRR pilot program.  To assist with such work, within 45 days of the date of this order, the heads of agencies whom the Director of NSF identifies for coordination pursuant to this subsection shall each submit to the Director of NSF a report identifying the agency resources that could be developed and integrated into such a pilot program.  These reports shall include a description of such resources, including their current status and availability; their format, structure, or technical specifications; associated agency expertise that will be provided; and the benefits and risks associated with their inclusion in the NAIRR pilot program.  The heads of independent regulatory agencies are encouraged to take similar steps, as they deem appropriate.</p>,\n",
       " <p>          (ii)   Within 150 days of the date of this order, fund and launch at least one NSF Regional Innovation Engine that prioritizes AI-related work, such as AI-related research, societal, or workforce needs.</p>,\n",
       " <p>          (iii)  Within 540 days of the date of this order, establish at least four new National AI Research Institutes, in addition to the 25 currently funded as of the date of this order. </p>,\n",
       " <p>     (b)  Within 120 days of the date of this order, to support activities involving high-performance and data-intensive computing, the Secretary of Energy, in coordination with the Director of NSF, shall, in a manner consistent with applicable law and available appropriations, establish a pilot program to enhance existing successful training programs for scientists, with the goal of training 500 new researchers by 2025 capable of meeting the rising demand for AI talent.</p>,\n",
       " <p>     (c)  To promote innovation and clarify issues related to AI and inventorship of patentable subject matter, the Under Secretary of Commerce for Intellectual Property and Director of the United States Patent and Trademark Office (USPTO Director) shall:</p>,\n",
       " <p>          (i)    within 120 days of the date of this order, publish guidance to USPTO patent examiners and applicants addressing inventorship and the use of AI, including generative AI, in the inventive process, including illustrative examples in which AI systems play different roles in inventive processes and how, in each example, inventorship issues ought to be analyzed;</p>,\n",
       " <p>          (ii)   subsequently, within 270 days of the date of this order, issue additional guidance to USPTO patent examiners and applicants to address other considerations at the intersection of AI and IP, which could include, as the USPTO Director deems necessary, updated guidance on patent eligibility to address innovation in AI and critical and emerging technologies; and</p>,\n",
       " <p>          (iii)  within 270 days of the date of this order or 180 days after the United States Copyright Office of the Library of Congress publishes its forthcoming AI study that will address copyright issues raised by AI, whichever comes later, consult with the Director of the United States Copyright Office and issue recommendations to the President on potential executive actions relating to copyright and AI.  The recommendations shall address any copyright and related issues discussed in the United States Copyright Office’s study, including the scope of protection for works produced using AI and the treatment of copyrighted works in AI training.</p>,\n",
       " <p>     (d)  Within 180 days of the date of this order, to assist developers of AI in combatting AI-related IP risks, the Secretary of Homeland Security, acting through the Director of the National Intellectual Property Rights Coordination Center, and in consultation with the Attorney General, shall develop a training, analysis, and evaluation program to mitigate AI-related IP risks.  Such a program shall:</p>,\n",
       " <p>          (i)    include appropriate personnel dedicated to collecting and analyzing reports of AI-related IP theft, investigating such incidents with implications for national security, and, where appropriate and consistent with applicable law, pursuing related enforcement actions;</p>,\n",
       " <p>          (ii)   implement a policy of sharing information and coordinating on such work, as appropriate and consistent with applicable law, with the Federal Bureau of Investigation; United States Customs and Border Protection; other agencies; State and local agencies; and appropriate international organizations, including through work-sharing agreements;</p>,\n",
       " <p>          (iii)  develop guidance and other appropriate resources to assist private sector actors with mitigating the risks of AI-related IP theft;</p>,\n",
       " <p>          (iv)   share information and best practices with AI developers and law enforcement personnel to identify incidents, inform stakeholders of current legal requirements, and evaluate AI systems for IP law violations, as well as develop mitigation strategies and resources; and</p>,\n",
       " <p>          (v)    assist the Intellectual Property Enforcement Coordinator in updating the Intellectual Property Enforcement Coordinator Joint Strategic Plan on Intellectual Property Enforcement to address AI-related issues.</p>,\n",
       " <p>     (e)  To advance responsible AI innovation by a wide range of healthcare technology developers that promotes the welfare of patients and workers in the healthcare sector, the Secretary of HHS shall identify and, as appropriate and consistent with applicable law and the activities directed in section 8 of this order, prioritize grantmaking and other awards, as well as undertake related efforts, to support responsible AI development and use, including:</p>,\n",
       " <p>          (i)    collaborating with appropriate private sector actors through HHS programs that may support the advancement of AI-enabled tools that develop personalized immune-response profiles for patients, consistent with section 4 of this order;</p>,\n",
       " <p>          (ii)   prioritizing the allocation of 2024 Leading Edge Acceleration Project cooperative agreement awards to initiatives that explore ways to improve healthcare-data quality to support the responsible development of AI tools for clinical care, real-world-evidence programs, population health, public health, and related research; and</p>,\n",
       " <p>          (iii)  accelerating grants awarded through the National Institutes of Health Artificial Intelligence/Machine Learning Consortium to Advance Health Equity and Researcher Diversity (AIM-AHEAD) program and showcasing current AIM-AHEAD activities in underserved communities.</p>,\n",
       " <p>     (f)  To advance the development of AI systems that improve the quality of veterans’ healthcare, and in order to support small businesses’ innovative capacity, the Secretary of Veterans Affairs shall:</p>,\n",
       " <p>          (i)   within 365 days of the date of this order, host two 3-month nationwide AI Tech Sprint competitions; and</p>,\n",
       " <p>          (ii)  as part of the AI Tech Sprint competitions and in collaboration with appropriate partners, provide participants access to technical assistance, mentorship opportunities, individualized expert feedback on products under development, potential contract opportunities, and other programming and resources.</p>,\n",
       " <p>     (g)  Within 180 days of the date of this order, to support the goal of strengthening our Nation’s resilience against climate change impacts and building an equitable clean energy economy for the future, the Secretary of Energy, in consultation with the Chair of the Federal Energy Regulatory Commission, the Director of OSTP, the Chair of the Council on Environmental Quality, the Assistant to the President and National Climate Advisor, and the heads of other relevant agencies as the Secretary of Energy may deem appropriate, shall:</p>,\n",
       " <p>          (i)    issue a public report describing the potential for AI to improve planning, permitting, investment, and operations for electric grid infrastructure and to enable the provision of clean, affordable, reliable, resilient, and secure electric power to all Americans;</p>,\n",
       " <p>          (ii)   develop tools that facilitate building foundation models useful for basic and applied science, including models that streamline permitting and environmental reviews while improving environmental and social outcomes;</p>,\n",
       " <p>          (iii)  collaborate, as appropriate, with private sector organizations and members of academia to support development of AI tools to mitigate climate change risks;</p>,\n",
       " <p>          (iv)   take steps to expand partnerships with industry, academia, other agencies, and international allies and partners to utilize the Department of Energy’s computing capabilities and AI testbeds to build foundation models that support new applications in science and energy, and for national security, including partnerships that increase community preparedness for climate-related risks, enable clean-energy deployment (including addressing delays in permitting reviews), and enhance grid reliability and resilience; and</p>,\n",
       " <p>          (v)    establish an office to coordinate development of AI and other critical and emerging technologies across Department of Energy programs and the 17 National Laboratories.</p>,\n",
       " <p>     (h)  Within 180 days of the date of this order, to understand AI’s implications for scientific research, the President’s Council of Advisors on Science and Technology shall submit to the President and make publicly available a report on the potential role of AI, especially given recent developments in AI, in research aimed at tackling major societal and global challenges.  The report shall include a discussion of issues that may hinder the effective use of AI in research and practices needed to ensure that AI is used responsibly for research.</p>,\n",
       " <p>     5.3.  Promoting Competition.  (a)  The head of each agency developing policies and regulations related to AI shall use their authorities, as appropriate and consistent with applicable law, to promote competition in AI and related technologies, as well as in other markets.  Such actions include addressing risks arising from concentrated control of key inputs, taking steps to stop unlawful collusion and prevent dominant firms from disadvantaging competitors, and working to provide new opportunities for small businesses and entrepreneurs.  In particular, the Federal Trade Commission is encouraged to consider, as it deems appropriate, whether to exercise the Commission’s existing authorities, including its rulemaking authority under the Federal Trade Commission Act, 15 U.S.C. 41 <em>et seq</em>., to ensure fair competition in the AI marketplace and to ensure that consumers and workers are protected from harms that may be enabled by the use of AI.</p>,\n",
       " <p>     (b)  To promote competition and innovation in the semiconductor industry, recognizing that semiconductors power AI technologies and that their availability is critical to AI competition, the Secretary of Commerce shall, in implementing division A of Public Law 117-167, known as the Creating Helpful Incentives to Produce Semiconductors (CHIPS) Act of 2022, promote competition by:</p>,\n",
       " <p>          (i)    implementing a flexible membership structure for the National Semiconductor Technology Center that attracts all parts of the semiconductor and microelectronics ecosystem, including startups and small firms;</p>,\n",
       " <p>          (ii)   implementing mentorship programs to increase interest and participation in the semiconductor industry, including from workers in underserved communities;</p>,\n",
       " <p>          (iii)  increasing, where appropriate and to the extent permitted by law, the availability of resources to startups and small businesses, including:</p>,\n",
       " <p>               (A)  funding for physical assets, such as specialty equipment or facilities, to which startups and small businesses may not otherwise have access;</p>,\n",
       " <p>               (B)  datasets — potentially including test and performance data — collected, aggregated, or shared by CHIPS research and development programs;</p>,\n",
       " <p>               (C)  workforce development programs;</p>,\n",
       " <p>               (D)  design and process technology, as well as IP, as appropriate; and</p>,\n",
       " <p>               (E)  other resources, including technical and intellectual property assistance, that could accelerate commercialization of new technologies by startups and small businesses, as appropriate; and</p>,\n",
       " <p>          (iv)   considering the inclusion, to the maximum extent possible, and as consistent with applicable law, of competition-increasing measures in notices of funding availability for commercial research-and-development facilities focused on semiconductors, including measures that increase access to facility capacity for startups or small firms developing semiconductors used to power AI technologies.</p>,\n",
       " <p>     (c)  To support small businesses innovating and commercializing AI, as well as in responsibly adopting and deploying AI, the Administrator of the Small Business Administration shall:</p>,\n",
       " <p>          (i)    prioritize the allocation of Regional Innovation Cluster program funding for clusters that support planning activities related to the establishment of one or more Small Business AI Innovation and Commercialization Institutes that provide support, technical assistance, and other resources to small businesses seeking to innovate, commercialize, scale, or otherwise advance the development of AI;</p>,\n",
       " <p>          (ii)   prioritize the allocation of up to $2 million in Growth Accelerator Fund Competition bonus prize funds for accelerators that support the incorporation or expansion of AI-related curricula, training, and technical assistance, or other AI-related resources within their programming; and</p>,\n",
       " <p>          (iii)  assess the extent to which the eligibility criteria of existing programs, including the State Trade Expansion Program, Technical and Business Assistance funding, and capital-access programs — such as the 7(a) loan program, 504 loan program, and Small Business Investment Company (SBIC) program — support appropriate expenses by small businesses related to the adoption of AI and, if feasible and appropriate, revise eligibility criteria to improve support for these expenses. </p>,\n",
       " <p>     (d)  The Administrator of the Small Business Administration, in coordination with resource partners, shall conduct outreach regarding, and raise awareness of, opportunities for small businesses to use capital-access programs described in subsection 5.3(c) of this section for eligible AI-related purposes, and for eligible investment funds with AI-related expertise — particularly those seeking to serve or with experience serving underserved communities — to apply for an SBIC license.</p>,\n",
       " <p>     Sec. 6.  Supporting Workers.(a)  To advance the Government’s understanding of AI’s implications for workers, the following actions shall be taken within 180 days of the date of this order:</p>,\n",
       " <p>          (i)   The Chairman of the Council of Economic Advisers shall prepare and submit a report to the President on the labor-market effects of AI.</p>,\n",
       " <p>          (ii)  To evaluate necessary steps for the Federal Government to address AI-related workforce disruptions, the Secretary of Labor shall submit to the President a report analyzing the abilities of agencies to support workers displaced by the adoption of AI and other technological advancements.  The report shall, at a minimum:</p>,\n",
       " <p>               (A)  assess how current or formerly operational Federal programs designed to assist workers facing job disruptions — including unemployment insurance and programs authorized by the Workforce Innovation and Opportunity Act (Public Law 113-128) — could be used to respond to possible future AI-related disruptions; and</p>,\n",
       " <p>               (B)  identify options, including potential legislative measures, to strengthen or develop additional Federal support for workers displaced by AI and, in consultation with the Secretary of Commerce and the Secretary of Education, strengthen and expand education and training opportunities that provide individuals pathways to occupations related to AI.</p>,\n",
       " <p>     (b)  To help ensure that AI deployed in the workplace advances employees’ well-being:</p>,\n",
       " <p>          (i)    The Secretary of Labor shall, within 180 days of the date of this order and in consultation with other agencies and with outside entities, including labor unions and workers, as the Secretary of Labor deems appropriate, develop and publish principles and best practices for employers that could be used to mitigate AI’s potential harms to employees’ well-being and maximize its potential benefits.  The principles and best practices shall include specific steps for employers to take with regard to AI, and shall cover, at a minimum:</p>,\n",
       " <p>               (A)  job-displacement risks and career opportunities related to AI, including effects on job skills and evaluation of applicants and workers;</p>,\n",
       " <p>               (B)  labor standards and job quality, including issues related to the equity, protected-activity, compensation, health, and safety implications of AI in the workplace; and</p>,\n",
       " <p>               (C)  implications for workers of employers’ AI-related collection and use of data about them, including transparency, engagement, management, and activity protected under worker-protection laws.</p>,\n",
       " <p>          (ii)   After principles and best practices are developed pursuant to subsection (b)(i) of this section, the heads of agencies shall consider, in consultation with the Secretary of Labor, encouraging the adoption of these guidelines in their programs to the extent appropriate for each program and consistent with applicable law.</p>,\n",
       " <p>          (iii)  To support employees whose work is monitored or augmented by AI in being compensated appropriately for all of their work time, the Secretary of Labor shall issue guidance to make clear that employers that deploy AI to monitor or augment employees’ work must continue to comply with protections that ensure that workers are compensated for their hours worked, as defined under the Fair Labor Standards Act of 1938, 29 U.S.C. 201 <em>et seq.</em>, and other legal requirements.</p>,\n",
       " <p>     (c)  To foster a diverse AI-ready workforce, the Director of NSF shall prioritize available resources to support AI-related education and AI-related workforce development through existing programs.  The Director shall additionally consult with agencies, as appropriate, to identify further opportunities for agencies to allocate resources for those purposes.  The actions by the Director shall use appropriate fellowship programs and awards for these purposes.</p>,\n",
       " <p>     Sec. 7.  Advancing Equity and Civil Rights.</p>,\n",
       " <p>     7.1.  Strengthening AI and Civil Rights in the Criminal Justice System.  (a)  To address unlawful discrimination and other harms that may be exacerbated by AI, the Attorney General shall:</p>,\n",
       " <p>          (i)    consistent with Executive Order 12250 of November 2, 1980 (Leadership and Coordination of Nondiscrimination Laws), Executive Order 14091, and 28 C.F.R. 0.50-51, coordinate with and support agencies in their implementation and enforcement of existing Federal laws to address civil rights and civil liberties violations and discrimination related to AI; </p>,\n",
       " <p>          (ii)   direct the Assistant Attorney General in charge of the Civil Rights Division to convene, within 90 days of the date of this order, a meeting of the heads of Federal civil rights offices — for which meeting the heads of civil rights offices within independent regulatory agencies will be encouraged to join — to discuss comprehensive use of their respective authorities and offices to:  prevent and address discrimination in the use of automated systems, including algorithmic discrimination; increase coordination between the Department of Justice’s Civil Rights Division and Federal civil rights offices concerning issues related to AI and algorithmic discrimination; improve external stakeholder engagement to promote public awareness of potential discriminatory uses and effects of AI; and develop, as appropriate, additional training, technical assistance, guidance, or other resources; and  </p>,\n",
       " <p>          (iii)  consider providing, as appropriate and consistent with applicable law, guidance, technical assistance, and training to State, local, Tribal, and territorial investigators and prosecutors on best practices for investigating and prosecuting civil rights violations and discrimination related to automated systems, including AI.</p>,\n",
       " <p>     (b)  To promote the equitable treatment of individuals and adhere to the Federal Government’s fundamental obligation to ensure fair and impartial justice for all, with respect to the use of AI in the criminal justice system, the Attorney General shall, in consultation with the Secretary of Homeland Security and the Director of OSTP:</p>,\n",
       " <p>          (i)    within 365 days of the date of this order, submit to the President a report that addresses the use of AI in the criminal justice system, including any use in:</p>,\n",
       " <p>               (A)  sentencing;</p>,\n",
       " <p>               (B)  parole, supervised release, and probation;</p>,\n",
       " <p>               (C)  bail, pretrial release, and pretrial detention;</p>,\n",
       " <p>               (D)  risk assessments, including pretrial, earned time, and early release or transfer to home-confinement determinations;</p>,\n",
       " <p>               (E)  police surveillance;</p>,\n",
       " <p>               (F)  crime forecasting and predictive policing, including the ingestion of historical crime data into AI systems to predict high-density “hot spots”;</p>,\n",
       " <p>               (G)  prison-management tools; and</p>,\n",
       " <p>               (H)  forensic analysis;  </p>,\n",
       " <p>          (ii)   within the report set forth in subsection 7.1(b)(i) of this section:</p>,\n",
       " <p>               (A)  identify areas where AI can enhance law enforcement efficiency and accuracy, consistent with protections for privacy, civil rights, and civil liberties; and</p>,\n",
       " <p>               (B)  recommend best practices for law enforcement agencies, including safeguards and appropriate use limits for AI, to address the concerns set forth in section 13(e)(i) of Executive Order 14074 as well as the best practices and the guidelines set forth in section 13(e)(iii) of Executive Order 14074; and  </p>,\n",
       " <p>          (iii)  supplement the report set forth in subsection 7.1(b)(i) of this section as appropriate with recommendations to the President, including with respect to requests for necessary legislation.  </p>,\n",
       " <p>     (c)  To advance the presence of relevant technical experts and expertise (such as machine-learning engineers, software and infrastructure engineering, data privacy experts, data scientists, and user experience researchers) among law enforcement professionals:</p>,\n",
       " <p>          (i)    The interagency working group created pursuant to section 3 of Executive Order 14074 shall, within 180 days of the date of this order, identify and share best practices for recruiting and hiring law enforcement professionals who have the technical skills mentioned in subsection 7.1(c) of this section, and for training law enforcement professionals about responsible application of AI.</p>,\n",
       " <p>          (ii)   Within 270 days of the date of this order, the Attorney General shall, in consultation with the Secretary of Homeland Security, consider those best practices and the guidance developed under section 3(d) of Executive Order 14074 and, if necessary, develop additional general recommendations for State, local, Tribal, and territorial law enforcement agencies and criminal justice agencies seeking to recruit, hire, train, promote, and retain highly qualified and service-oriented officers and staff with relevant technical knowledge.  In considering this guidance, the Attorney General shall consult with State, local, Tribal, and territorial law enforcement agencies, as appropriate.</p>,\n",
       " <p>          (iii)  Within 365 days of the date of this order, the Attorney General shall review the work conducted pursuant to section 2(b) of Executive Order 14074 and, if appropriate, reassess the existing capacity to investigate law enforcement deprivation of rights under color of law resulting from the use of AI, including through improving and increasing training of Federal law enforcement officers, their supervisors, and Federal prosecutors on how to investigate and prosecute cases related to AI involving the deprivation of rights under color of law pursuant to 18 U.S.C. 242. </p>,\n",
       " <p>     7.2.  Protecting Civil Rights Related to Government Benefits and Programs.  (a)  To advance equity and civil rights, consistent with the directives of Executive Order 14091, and in addition to complying with the guidance on Federal Government use of AI issued pursuant to section 10.1(b) of this order, agencies shall use their respective civil rights and civil liberties offices and authorities — as appropriate and consistent with applicable law — to prevent and address unlawful discrimination and other harms that result from uses of AI in Federal Government programs and benefits administration.  This directive does not apply to agencies’ civil or criminal enforcement authorities.  Agencies shall consider opportunities to ensure that their respective civil rights and civil liberties offices are appropriately consulted on agency decisions regarding the design, development, acquisition, and use of AI in Federal Government programs and benefits administration.  To further these objectives, agencies shall also consider opportunities to increase coordination, communication, and engagement about AI as appropriate with community-based organizations; civil-rights and civil-liberties organizations; academic institutions; industry; State, local, Tribal, and territorial governments; and other stakeholders.  </p>,\n",
       " <p>     (b)  To promote equitable administration of public benefits:</p>,\n",
       " <p>          (i)   The Secretary of HHS shall, within 180 days of the date of this order and in consultation with relevant agencies, publish a plan, informed by the guidance issued pursuant to section 10.1(b) of this order, addressing the use of automated or algorithmic systems in the implementation by States and localities of public benefits and services administered by the Secretary, such as to promote:  assessment of access to benefits by qualified recipients; notice to recipients about the presence of such systems; regular evaluation to detect unjust denials; processes to retain appropriate levels of discretion of expert agency staff; processes to appeal denials to human reviewers; and analysis of whether algorithmic systems in use by benefit programs achieve equitable and just outcomes.</p>,\n",
       " <p>          (ii)  The Secretary of Agriculture shall, within 180 days of the date of this order and as informed by the guidance issued pursuant to section 10.1(b) of this order, issue guidance to State, local, Tribal, and territorial public-benefits administrators on the use of automated or algorithmic systems in implementing benefits or in providing customer support for benefit programs administered by the Secretary, to ensure that programs using those systems:</p>,\n",
       " <p>               (A)  maximize program access for eligible recipients;</p>,\n",
       " <p>               (B)  employ automated or algorithmic systems in a manner consistent with any requirements for using merit systems personnel in public-benefits programs;</p>,\n",
       " <p>               (C)  identify instances in which reliance on automated or algorithmic systems would require notification by the State, local, Tribal, or territorial government to the Secretary;</p>,\n",
       " <p>               (D)  identify instances when applicants and participants can appeal benefit determinations to a human reviewer for reconsideration and can receive other customer support from a human being;</p>,\n",
       " <p>               (E)  enable auditing and, if necessary, remediation of the logic used to arrive at an individual decision or determination to facilitate the evaluation of appeals; and</p>,\n",
       " <p>               (F)  enable the analysis of whether algorithmic systems in use by benefit programs achieve equitable outcomes.</p>,\n",
       " <p>     7.3.  Strengthening AI and Civil Rights in the Broader Economy.  (a)  Within 365 days of the date of this order, to prevent unlawful discrimination from AI used for hiring, the Secretary of Labor shall publish guidance for Federal contractors regarding nondiscrimination in hiring involving AI and other technology-based hiring systems.</p>,\n",
       " <p>     (b)  To address discrimination and biases against protected groups in housing markets and consumer financial markets, the Director of the Federal Housing Finance Agency and the Director of the Consumer Financial Protection Bureau are encouraged to consider using their authorities, as they deem appropriate, to require their respective regulated entities, where possible, to use appropriate methodologies including AI tools to ensure compliance with Federal law and:</p>,\n",
       " <p>          (i)   evaluate their underwriting models for bias or disparities affecting protected groups; and</p>,\n",
       " <p>          (ii)  evaluate automated collateral-valuation and appraisal processes in ways that minimize bias.</p>,\n",
       " <p>     (c)  Within 180 days of the date of this order, to combat unlawful discrimination enabled by automated or algorithmic tools used to make decisions about access to housing and in other real estate-related transactions, the Secretary of Housing and Urban Development shall, and the Director of the Consumer Financial Protection Bureau is encouraged to, issue additional guidance:</p>,\n",
       " <p>          (i)   addressing the use of tenant screening systems in ways that may violate the Fair Housing Act (Public Law 90-284), the Fair Credit Reporting Act (Public Law 91-508), or other relevant Federal laws, including how the use of data, such as criminal records, eviction records, and credit information, can lead to discriminatory outcomes in violation of Federal law; and</p>,\n",
       " <p>          (ii)  addressing how the Fair Housing Act, the Consumer Financial Protection Act of 2010 (title X of Public Law 111-203), or the Equal Credit Opportunity Act (Public Law 93-495) apply to the advertising of housing, credit, and other real estate-related transactions through digital platforms, including those that use algorithms to facilitate advertising delivery, as well as on best practices to avoid violations of Federal law.</p>,\n",
       " <p>     (d)  To help ensure that people with disabilities benefit from AI’s promise while being protected from its risks, including unequal treatment from the use of biometric data like gaze direction, eye tracking, gait analysis, and hand motions, the Architectural and Transportation Barriers Compliance Board is encouraged, as it deems appropriate, to solicit public participation and conduct community engagement; to issue technical assistance and recommendations on the risks and benefits of AI in using biometric data as an input; and to provide people with disabilities access to information and communication technology and transportation services.</p>,\n",
       " <p>     Sec. 8.  Protecting Consumers, Patients, Passengers, and Students.  (a)  Independent regulatory agencies are encouraged, as they deem appropriate, to consider using their full range of authorities to protect American consumers from fraud, discrimination, and threats to privacy and to address other risks that may arise from the use of AI, including risks to financial stability, and to consider rulemaking, as well as emphasizing or clarifying where existing regulations and guidance apply to AI, including clarifying the responsibility of regulated entities to conduct due diligence on and monitor any third-party AI services they use, and emphasizing or clarifying requirements and expectations related to the transparency of AI models and regulated entities’ ability to explain their use of AI models.</p>,\n",
       " <p>     (b)  To help ensure the safe, responsible deployment and use of AI in the healthcare, public-health, and human-services sectors:</p>,\n",
       " <p>          (i)    Within 90 days of the date of this order, the Secretary of HHS shall, in consultation with the Secretary of Defense and the Secretary of Veterans Affairs, establish an HHS AI Task Force that shall, within 365 days of its creation, develop a strategic plan that includes policies and frameworks — possibly including regulatory action, as appropriate — on responsible deployment and use of AI and AI-enabled technologies in the health and human services sector (including research and discovery, drug and device safety, healthcare delivery and financing, and public health), and identify appropriate guidance and<br/>resources to promote that deployment, including in the following areas:</p>,\n",
       " <p>               (A)  development, maintenance, and use of predictive and generative AI-enabled technologies in healthcare delivery and financing — including quality measurement, performance improvement, program integrity, benefits administration, and patient experience — taking into account considerations such as appropriate human oversight of the application of AI-generated output;</p>,\n",
       " <p>               (B)  long-term safety and real-world performance monitoring of AI-enabled technologies in the health and human services sector, including clinically relevant or significant modifications and performance across population groups, with a means to communicate product updates to regulators, developers, and users; </p>,\n",
       " <p>               (C)  incorporation of equity principles in AI-enabled technologies used in the health and human services sector, using disaggregated data on affected populations and representative population data sets when developing new models, monitoring algorithmic performance against discrimination and bias in existing models, and helping to identify and mitigate discrimination and bias in current systems; </p>,\n",
       " <p>               (D)  incorporation of safety, privacy, and security standards into the software-development lifecycle for protection of personally identifiable information, including measures to address AI-enhanced cybersecurity threats in the health and human services sector;</p>,\n",
       " <p>               (E)  development, maintenance, and availability of documentation to help users determine appropriate and safe uses of AI in local settings in the health and human services sector;</p>,\n",
       " <p>               (F)  work to be done with State, local, Tribal, and territorial health and human services agencies to advance positive use cases and best practices for use of AI in local settings; and</p>,\n",
       " <p>               (G)  identification of uses of AI to promote workplace efficiency and satisfaction in the health and human services sector, including reducing administrative burdens.</p>,\n",
       " <p>          (ii)   Within 180 days of the date of this order, the Secretary of HHS shall direct HHS components, as the Secretary of HHS deems appropriate, to develop a strategy, in consultation with relevant agencies, to determine whether AI-enabled technologies in the health and human services sector maintain appropriate levels of quality, including, as appropriate, in the areas described in subsection (b)(i) of this section.  This work shall include the development of AI assurance policy — to evaluate important aspects of the performance of AI-enabled healthcare tools — and infrastructure needs for enabling pre-market assessment and post-market oversight of AI-enabled healthcare-technology algorithmic system performance against real-world data.</p>,\n",
       " <p>          (iii)  Within 180 days of the date of this order, the Secretary of HHS shall, in consultation with relevant agencies as the Secretary of HHS deems appropriate, consider appropriate actions to advance the prompt understanding of, and compliance with, Federal nondiscrimination laws by health and human services providers that receive Federal financial assistance, as well as how those laws relate to AI.  Such actions may include:</p>,\n",
       " <p>               (A)  convening and providing technical assistance to health and human services providers and payers about their obligations under Federal nondiscrimination and privacy laws as they relate to AI and the potential consequences of noncompliance; and</p>,\n",
       " <p>               (B)  issuing guidance, or taking other action as appropriate, in response to any complaints or other reports of noncompliance with Federal nondiscrimination and privacy laws as they relate to AI.</p>,\n",
       " <p>          (iv)   Within 365 days of the date of this order, the Secretary of HHS shall, in consultation with the Secretary of Defense and the Secretary of Veterans Affairs, establish an AI safety program that, in partnership with voluntary federally listed Patient Safety Organizations:</p>,\n",
       " <p>               (A)  establishes a common framework for approaches to identifying and capturing clinical errors resulting from AI deployed in healthcare settings as well as specifications for a central tracking repository for associated incidents that cause harm, including through bias or discrimination, to patients, caregivers, or other parties; </p>,\n",
       " <p>               (B)  analyzes captured data and generated evidence to develop, wherever appropriate, recommendations, best practices, or other informal guidelines aimed at avoiding these harms; and</p>,\n",
       " <p>               (C)  disseminates those recommendations, best practices, or other informal guidance to appropriate stakeholders, including healthcare providers.</p>,\n",
       " <p>          (v)    Within 365 days of the date of this order, the Secretary of HHS shall develop a strategy for regulating the use of AI or AI-enabled tools in drug-development processes.  The strategy shall, at a minimum:</p>,\n",
       " <p>               (A)  define the objectives, goals, and high-level principles required for appropriate regulation throughout each phase of drug development;</p>,\n",
       " <p>               (B)  identify areas where future rulemaking, guidance, or additional statutory authority may be necessary to implement such a regulatory system;</p>,\n",
       " <p>               (C)  identify the existing budget, resources, personnel, and potential for new public/private partnerships necessary for such a regulatory system; and</p>,\n",
       " <p>               (D)  consider risks identified by the actions undertaken to implement section 4 of this order.</p>,\n",
       " <p>     (c)  To promote the safe and responsible development and use of AI in the transportation sector, in consultation with relevant agencies:</p>,\n",
       " <p>          (i)    Within 30 days of the date of this order, the Secretary of Transportation shall direct the Nontraditional and Emerging Transportation Technology (NETT) Council to assess the need for information, technical assistance, and guidance regarding the use of AI in transportation.  The Secretary of Transportation shall further direct the NETT Council, as part of any such efforts, to:</p>,\n",
       " <p>               (A)  support existing and future initiatives to pilot transportation-related applications of AI, as they align with policy priorities articulated in the Department of Transportation’s (DOT) Innovation Principles, including, as appropriate, through technical assistance and connecting stakeholders;</p>,\n",
       " <p>               (B)  evaluate the outcomes of such pilot programs in order to assess when DOT, or other Federal or State agencies, have sufficient information to take regulatory actions, as appropriate, and recommend appropriate actions when that information is available; and</p>,\n",
       " <p>               (C)  establish a new DOT Cross-Modal Executive Working Group, which will consist of members from different divisions of DOT and coordinate applicable work among these divisions, to solicit and use relevant input from appropriate stakeholders.</p>,\n",
       " <p>          (ii)   Within 90 days of the date of this order, the Secretary of Transportation shall direct appropriate Federal Advisory Committees of the DOT to provide advice on the safe and responsible use of AI in transportation.  The committees shall include the Advanced Aviation Advisory Committee, the Transforming Transportation Advisory Committee, and the Intelligent Transportation Systems Program Advisory Committee.</p>,\n",
       " <p>          (iii)  Within 180 days of the date of this order, the Secretary of Transportation shall direct the Advanced Research Projects Agency-Infrastructure (ARPA-I) to explore the transportation-related opportunities and challenges of AI — including regarding software-defined AI enhancements impacting autonomous mobility ecosystems.  The Secretary of Transportation shall further encourage ARPA-I to prioritize the allocation of grants to those opportunities, as appropriate.  The work tasked to ARPA-I shall include soliciting input on these topics through a public consultation process, such as an RFI.</p>,\n",
       " <p>     (d)  To help ensure the responsible development and deployment of AI in the education sector, the Secretary of Education shall, within 365 days of the date of this order, develop resources, policies, and guidance regarding AI.  These resources shall address safe, responsible, and nondiscriminatory uses of AI in education, including the impact AI systems have on vulnerable and underserved communities, and shall be developed in consultation with stakeholders as appropriate.  They shall also include the development of an “AI toolkit” for education leaders implementing recommendations from the Department of Education’s AI and the Future of Teaching and Learning report, including appropriate human review of AI decisions, designing AI systems to enhance trust and safety and align with privacy-related laws and regulations in the educational context, and developing education-specific guardrails.</p>,\n",
       " <p>     (e)  The Federal Communications Commission is encouraged to consider actions related to how AI will affect communications networks and consumers, including by:</p>,\n",
       " <p>          (i)    examining the potential for AI to improve spectrum management, increase the efficiency of non-Federal spectrum usage, and expand opportunities for the sharing of non-Federal spectrum;</p>,\n",
       " <p>          (ii)   coordinating with the National Telecommunications and Information Administration to create opportunities for sharing spectrum between Federal and non-Federal spectrum operations;</p>,\n",
       " <p>          (iii)  providing support for efforts to improve network security, resiliency, and interoperability using next-generation technologies that incorporate AI, including self-healing networks, 6G, and Open RAN; and</p>,\n",
       " <p>          (iv)   encouraging, including through rulemaking, efforts to combat unwanted robocalls and robotexts that are facilitated or exacerbated by AI and to deploy AI technologies that better serve consumers by blocking unwanted robocalls and robotexts.</p>,\n",
       " <p>     Sec. 9.  Protecting Privacy.  (a)  To mitigate privacy risks potentially exacerbated by AI — including by AI’s facilitation of the collection or use of information about individuals, or the making of inferences about individuals — the Director of OMB shall:</p>,\n",
       " <p>          (i)    evaluate and take steps to identify commercially available information (CAI) procured by agencies, particularly CAI that contains personally identifiable information and including CAI procured from data brokers and CAI procured and processed indirectly through vendors, in appropriate agency inventory and reporting processes (other than when it is used for the purposes of national security);</p>,\n",
       " <p>          (ii)   evaluate, in consultation with the Federal Privacy Council and the Interagency Council on Statistical Policy, agency standards and procedures associated with the collection, processing, maintenance, use, sharing, dissemination, and disposition of CAI that contains personally identifiable information (other than when it is used for the purposes of national security) to inform potential guidance to agencies on ways to mitigate privacy and confidentiality risks from agencies’ activities related to CAI;</p>,\n",
       " <p>          (iii)  within 180 days of the date of this order, in consultation with the Attorney General, the Assistant to the President for Economic Policy, and the Director of OSTP, issue an RFI to inform potential revisions to guidance to agencies on implementing the privacy provisions of the E-Government Act of 2002 (Public Law 107-347).  The RFI shall seek feedback regarding how privacy impact assessments may be more effective at mitigating privacy risks, including those that are further exacerbated by AI; and</p>,\n",
       " <p>          (iv)   take such steps as are necessary and appropriate, consistent with applicable law, to support and advance the near-term actions and long-term strategy identified through the RFI process, including issuing new or updated guidance or RFIs or consulting other agencies or the Federal Privacy Council.</p>,\n",
       " <p>     (b)  Within 365 days of the date of this order, to better enable agencies to use PETs to safeguard Americans’ privacy from the potential threats exacerbated by AI, the Secretary of Commerce, acting through the Director of NIST, shall create guidelines for agencies to evaluate the efficacy of differential-privacy-guarantee protections, including for AI.  The guidelines shall, at a minimum, describe the significant factors that bear on differential-privacy safeguards and common risks to realizing differential privacy in practice.</p>,\n",
       " <p>     (c)  To advance research, development, and implementation related to PETs:</p>,\n",
       " <p>          (i)    Within 120 days of the date of this order, the Director of NSF, in collaboration with the Secretary of Energy, shall fund the creation of a Research Coordination Network (RCN) dedicated to advancing privacy research and, in particular, the development, deployment, and scaling of PETs.  The RCN shall serve to enable privacy researchers to share information, coordinate and collaborate in research, and develop standards for the privacy-research community.  </p>,\n",
       " <p>          (ii)   Within 240 days of the date of this order, the Director of NSF shall engage with agencies to identify ongoing work and potential opportunities to incorporate PETs into their operations.  The Director of NSF shall, where feasible and appropriate, prioritize research — including efforts to translate research discoveries into practical applications — that encourage the adoption of leading-edge PETs solutions for agencies’ use, including through research engagement through the RCN described in subsection (c)(i) of this section.</p>,\n",
       " <p>          (iii)  The Director of NSF shall use the results of the United States-United Kingdom PETs Prize Challenge to inform the approaches taken, and opportunities identified, for PETs research and adoption.</p>,\n",
       " <p>     Sec. 10.  Advancing Federal Government Use of AI.</p>,\n",
       " <p>     10.1.  Providing Guidance for AI Management.  (a)  To coordinate the use of AI across the Federal Government, within 60 days of the date of this order and on an ongoing basis as necessary, the Director of OMB shall convene and chair an interagency council to coordinate the development and use of AI in agencies’ programs and operations, other than the use of AI in national security systems.  The Director of OSTP shall serve as Vice Chair for the interagency council.  The interagency council’s membership shall include, at minimum, the heads of the agencies identified in 31 U.S.C. 901(b), the Director of National Intelligence, and other agencies as identified by the Chair.  Until agencies designate their permanent Chief AI Officers consistent with the guidance described in subsection 10.1(b) of this section, they shall be represented on the interagency council by an appropriate official at the Assistant Secretary level or equivalent, as determined by the head of each agency.  </p>,\n",
       " <p>     (b)  To provide guidance on Federal Government use of AI, within 150 days of the date of this order and updated periodically thereafter, the Director of OMB, in coordination with the Director of OSTP, and in consultation with the interagency council established in subsection 10.1(a) of this section, shall issue guidance to agencies to strengthen the effective and appropriate use of AI, advance AI innovation, and manage risks from AI in the Federal Government.  The Director of OMB’s guidance shall specify, to the extent appropriate and consistent with applicable law:</p>,\n",
       " <p>          (i)     the requirement to designate at each agency within 60 days of the issuance of the guidance a Chief Artificial Intelligence Officer who shall hold primary responsibility in their agency, in coordination with other responsible officials, for coordinating their agency’s use of AI, promoting AI innovation in their agency, managing risks from their agency’s use of AI, and carrying out the responsibilities described in section 8(c) of Executive Order 13960 of December 3, 2020 (Promoting the Use of Trustworthy Artificial Intelligence in the Federal Government), and section 4(b) of Executive Order 14091;</p>,\n",
       " <p>          (ii)    the Chief Artificial Intelligence Officers’ roles, responsibilities, seniority, position, and reporting structures;</p>,\n",
       " <p>          (iii)   for the agencies identified in 31 U.S.C. 901(b), the creation of internal Artificial Intelligence Governance Boards, or other appropriate mechanisms, at each agency within 60 days of the issuance of the guidance to coordinate and govern AI issues through relevant senior leaders from across the agency;</p>,\n",
       " <p>          (iv)    required minimum risk-management practices for Government uses of AI that impact people’s rights or safety, including, where appropriate, the following practices derived from OSTP’s Blueprint for an AI Bill of Rights and the NIST AI Risk Management Framework:  conducting public consultation; assessing data quality; assessing and mitigating disparate impacts and algorithmic discrimination; providing notice of the use of AI; continuously monitoring and evaluating deployed AI; and granting human consideration and remedies for adverse decisions made using AI;</p>,\n",
       " <p>          (v)     specific Federal Government uses of AI that are presumed by default to impact rights or safety;</p>,\n",
       " <p>          (vi)    recommendations to agencies to reduce barriers to the responsible use of AI, including barriers related to information technology infrastructure, data, workforce, budgetary restrictions, and cybersecurity processes; </p>,\n",
       " <p>          (vii)   requirements that agencies identified in 31 U.S.C. 901(b) develop AI strategies and pursue high-impact AI use cases;</p>,\n",
       " <p>          (viii)  in consultation with the Secretary of Commerce, the Secretary of Homeland Security, and the heads of other appropriate agencies as determined by the Director of OMB, recommendations to agencies regarding:</p>,\n",
       " <p>               (A)  external testing for AI, including AI red-teaming for generative AI, to be developed in coordination with the Cybersecurity and Infrastructure Security Agency;</p>,\n",
       " <p>               (B)  testing and safeguards against discriminatory, misleading, inflammatory, unsafe, or deceptive outputs, as well as against producing child sexual abuse material and against producing non-consensual intimate imagery of real individuals (including intimate digital depictions of the body or body parts of an identifiable individual), for generative AI;</p>,\n",
       " <p>               (C)  reasonable steps to watermark or otherwise label output from generative AI;</p>,\n",
       " <p>               (D)  application of the mandatory minimum risk-management practices defined under subsection 10.1(b)(iv) of this section to procured AI;</p>,\n",
       " <p>               (E)  independent evaluation of vendors’ claims concerning both the effectiveness and risk mitigation of their AI offerings;</p>,\n",
       " <p>               (F)  documentation and oversight of procured AI;</p>,\n",
       " <p>               (G)  maximizing the value to agencies when relying on contractors to use and enrich Federal Government data for the purposes of AI development and operation;</p>,\n",
       " <p>               (H)  provision of incentives for the continuous improvement of procured AI; and</p>,\n",
       " <p>               (I)  training on AI in accordance with the principles set out in this order and in other references related to AI listed herein; and</p>,\n",
       " <p>          (ix)    requirements for public reporting on compliance with this guidance.</p>,\n",
       " <p>     (c)  To track agencies’ AI progress, within 60 days of the issuance of the guidance established in subsection 10.1(b) of this section and updated periodically thereafter, the Director of OMB shall develop a method for agencies to track and assess their ability to adopt AI into their programs and operations, manage its risks, and comply with Federal policy on AI.  This method should draw on existing related efforts as appropriate and should address, as appropriate and consistent with applicable law, the practices, processes, and capabilities necessary for responsible AI adoption, training, and governance across, at a minimum, the areas of information technology infrastructure, data, workforce, leadership, and risk management.  </p>,\n",
       " <p>     (d)  To assist agencies in implementing the guidance to be established in subsection 10.1(b) of this section:</p>,\n",
       " <p>          (i)   within 90 days of the issuance of the guidance, the Secretary of Commerce, acting through the Director of NIST, and in coordination with the Director of OMB and the Director of OSTP, shall develop guidelines, tools, and practices to support implementation of the minimum risk-management practices described in subsection 10.1(b)(iv) of this section; and</p>,\n",
       " <p>          (ii)  within 180 days of the issuance of the guidance, the Director of OMB shall develop an initial means to ensure that agency contracts for the acquisition of AI systems and services align with the guidance described in subsection 10.1(b) of this section and advance the other aims identified in section 7224(d)(1) of the Advancing American AI Act (Public Law 117-263, div. G, title LXXII, subtitle B). </p>,\n",
       " <p>     (e)  To improve transparency for agencies’ use of AI, the Director of OMB shall, on an annual basis, issue instructions to agencies for the collection, reporting, and publication of agency AI use cases, pursuant to section 7225(a) of the Advancing American AI Act.  Through these instructions, the Director shall, as appropriate, expand agencies’ reporting on how they are managing risks from their AI use cases and update or replace the guidance originally established in section 5 of Executive Order 13960.</p>,\n",
       " <p>     (f)  To advance the responsible and secure use of generative AI in the Federal Government:</p>,\n",
       " <p>          (i)    As generative AI products become widely available and common in online platforms, agencies are discouraged from imposing broad general bans or blocks on agency use of generative AI.  Agencies should instead limit access, as necessary, to specific generative AI services based on specific risk assessments; establish guidelines and limitations on the appropriate use of generative AI; and, with appropriate safeguards in place, provide their personnel and programs with access to secure and reliable generative AI capabilities, at least for the purposes of experimentation and routine tasks that carry a low risk of impacting Americans’ rights.  To protect Federal Government information, agencies are also encouraged to employ risk-management practices, such as training their staff on proper use, protection, dissemination, and disposition of Federal information; negotiating appropriate terms of service with vendors; implementing measures designed to ensure compliance with record-keeping, cybersecurity, confidentiality, privacy, and data protection requirements; and deploying other measures to prevent misuse of Federal Government information in generative AI. </p>,\n",
       " <p>          (ii)   Within 90 days of the date of this order, the Administrator of General Services, in coordination with the Director of OMB, and in consultation with the Federal Secure Cloud Advisory Committee and other relevant agencies as the Administrator of General Services may deem appropriate, shall develop and issue a framework for prioritizing critical and emerging technologies offerings in the Federal Risk and Authorization Management Program authorization process, starting with generative AI offerings that have the primary purpose of providing large language model-based chat interfaces, code-generation and debugging tools, and associated application programming interfaces, as well as prompt-based image generators.  This framework shall apply for no less than 2 years from the date of its issuance.  Agency Chief Information Officers, Chief Information Security Officers, and authorizing officials are also encouraged to prioritize generative AI and other critical and emerging technologies in granting authorities for agency operation of information technology systems and any other applicable release or oversight processes, using continuous authorizations and approvals wherever feasible.</p>,\n",
       " <p>          (iii)  Within 180 days of the date of this order, the Director of the Office of Personnel Management (OPM), in coordination with the Director of OMB, shall develop guidance on the use of generative AI for work by the Federal workforce.</p>,\n",
       " <p>     (g)  Within 30 days of the date of this order, to increase agency investment in AI, the Technology Modernization Board shall consider, as it deems appropriate and consistent with applicable law, prioritizing funding for AI projects for the Technology Modernization Fund for a period of at least 1 year.  Agencies are encouraged to submit to the Technology Modernization Fund project funding proposals that include AI — and particularly generative AI — in service of mission delivery.</p>,\n",
       " <p>     (h)  Within 180 days of the date of this order, to facilitate agencies’ access to commercial AI capabilities, the Administrator of General Services, in coordination with the Director of OMB, and in collaboration with the Secretary of Defense, the Secretary of Homeland Security, the Director of National Intelligence, the Administrator of the National Aeronautics and Space Administration, and the head of any other agency identified by the Administrator of General Services, shall take steps consistent with applicable law to facilitate access to Federal Government-wide acquisition solutions for specified types of AI services and products, such as through the creation of a resource guide or other tools to assist the acquisition workforce.  Specified types of AI capabilities shall include generative AI and specialized computing infrastructure.</p>,\n",
       " <p>     (i)  The initial means, instructions, and guidance issued pursuant to subsections 10.1(a)-(h) of this section shall not apply to AI when it is used as a component of a national security system, which shall be addressed by the proposed National Security Memorandum described in subsection 4.8 of this order. </p>,\n",
       " <p>     10.2.  Increasing AI Talent in Government.  (a)  Within 45 days of the date of this order, to plan a national surge in AI talent in the Federal Government, the Director of OSTP and the Director of OMB, in consultation with the Assistant to the President for National Security Affairs, the Assistant to the President for Economic Policy, the Assistant to the President and Domestic Policy Advisor, and the Assistant to the President and Director of the Gender Policy Council, shall identify priority mission areas for increased Federal Government AI talent, the types of talent that are highest priority to recruit and develop to ensure adequate implementation of this order and use of relevant enforcement and regulatory authorities to address AI risks, and accelerated hiring pathways.</p>,\n",
       " <p>     (b)  Within 45 days of the date of this order, to coordinate rapid advances in the capacity of the Federal AI workforce, the Assistant to the President and Deputy Chief of Staff for Policy, in coordination with the Director of OSTP and the Director of OMB, and in consultation with the National Cyber Director, shall convene an AI and Technology Talent Task Force, which shall include the Director of OPM, the Director of the General Services Administration’s Technology Transformation Services, a representative from the Chief Human Capital Officers Council, the Assistant to the President for Presidential Personnel, members of appropriate agency technology talent programs, a representative of the Chief Data Officer Council, and a representative of the interagency council convened under subsection 10.1(a) of this section.  The Task Force’s purpose shall be to accelerate and track the hiring of AI and AI-enabling talent across the Federal Government, including through the following actions:</p>,\n",
       " <p>          (i)    within 180 days of the date of this order, tracking and reporting progress to the President on increasing AI capacity across the Federal Government, including submitting to the President a report and recommendations for further increasing capacity; </p>,\n",
       " <p>          (ii)   identifying and circulating best practices for agencies to attract, hire, retain, train, and empower AI talent, including diversity, inclusion, and accessibility best practices, as well as to plan and budget adequately for AI workforce needs;</p>,\n",
       " <p>          (iii)  coordinating, in consultation with the Director of OPM, the use of fellowship programs and agency technology-talent programs and human-capital teams to build hiring capabilities, execute hires, and place AI talent to fill staffing gaps; and</p>,\n",
       " <p>          (iv)   convening a cross-agency forum for ongoing collaboration between AI professionals to share best practices and improve retention.</p>,\n",
       " <p>     (c)  Within 45 days of the date of this order, to advance existing Federal technology talent programs, the United States Digital Service, Presidential Innovation Fellowship, United States Digital Corps, OPM, and technology talent programs at agencies, with support from the AI and Technology Talent Task Force described in subsection 10.2(b) of this section, as appropriate and permitted by law, shall develop and begin to implement plans to support the rapid recruitment of individuals as part of a Federal Government-wide AI talent surge to accelerate the placement of key AI and AI-enabling talent in high-priority areas and to advance agencies’ data and technology strategies.</p>,\n",
       " <p>     (d)  To meet the critical hiring need for qualified personnel to execute the initiatives in this order, and to improve Federal hiring practices for AI talent, the Director of OPM, in consultation with the Director of OMB, shall:</p>,\n",
       " <p>          (i)     within 60 days of the date of this order, conduct an evidence-based review on the need for hiring and workplace flexibility, including Federal Government-wide direct-hire authority for AI and related data-science and technical roles, and, where the Director of OPM finds such authority is appropriate, grant it; this review shall include the following job series at all General Schedule (GS) levels:  IT Specialist (2210), Computer Scientist (1550), Computer Engineer (0854), and Program Analyst (0343) focused on AI, and any subsequently developed job series derived from these job series;</p>,\n",
       " <p>          (ii)    within 60 days of the date of this order, consider authorizing the use of excepted service appointments under 5 C.F.R. 213.3102(i)(3) to address the need for hiring additional staff to implement directives of this order;</p>,\n",
       " <p>          (iii)   within 90 days of the date of this order, coordinate a pooled-hiring action informed by subject-matter experts and using skills-based assessments to support the recruitment of AI talent across agencies;</p>,\n",
       " <p>          (iv)    within 120 days of the date of this order, as appropriate and permitted by law, issue guidance for agency application of existing pay flexibilities or incentive pay programs for AI, AI-enabling, and other key technical positions to facilitate appropriate use of current pay incentives;</p>,\n",
       " <p>          (v)     within 180 days of the date of this order, establish guidance and policy on skills-based, Federal Government-wide hiring of AI, data, and technology talent in order to increase access to those with nontraditional academic backgrounds to Federal AI, data, and technology roles; </p>,\n",
       " <p>          (vi)    within 180 days of the date of this order, establish an interagency working group, staffed with both human-resources professionals and recruiting technical experts, to facilitate Federal Government-wide hiring of people with AI and other technical skills;</p>,\n",
       " <p>          (vii)   within 180 days of the date of this order, review existing Executive Core Qualifications (ECQs) for Senior Executive Service (SES) positions informed by data and AI literacy competencies and, within 365 days of the date of this order, implement new ECQs as appropriate in the SES assessment process;</p>,\n",
       " <p>          (viii)  within 180 days of the date of this order, complete a review of competencies for civil engineers (GS-0810 series) and, if applicable, other related occupations, and make recommendations for ensuring that adequate AI expertise and credentials in these occupations in the Federal Government reflect the increased use of AI in critical infrastructure; and</p>,\n",
       " <p>          (ix)    work with the Security, Suitability, and Credentialing Performance Accountability Council to assess mechanisms to streamline and accelerate personnel-vetting requirements, as appropriate, to support AI and fields related to other critical and emerging technologies.  </p>,\n",
       " <p>     (e)  To expand the use of special authorities for AI hiring and retention, agencies shall use all appropriate hiring authorities, including Schedule A(r) excepted service hiring and direct-hire authority, as applicable and appropriate, to hire AI talent and AI-enabling talent rapidly.  In addition to participating in OPM-led pooled hiring actions, agencies shall collaborate, where appropriate, on agency-led pooled hiring under the Competitive Service Act of 2015 (Public Law 114-137) and other shared hiring.  Agencies shall also, where applicable, use existing incentives, pay-setting authorities, and other compensation flexibilities, similar to those used for cyber and information technology positions, for AI and data-science professionals, as well as plain-language job titles, to help recruit and retain these highly skilled professionals.  Agencies shall ensure that AI and other related talent needs (such as technology governance and privacy) are reflected in strategic workforce planning and budget formulation. </p>,\n",
       " <p>     (f)  To facilitate the hiring of data scientists, the Chief Data Officer Council shall develop a position-description library for data scientists (job series 1560) and a hiring guide to support agencies in hiring data scientists.</p>,\n",
       " <p>     (g)  To help train the Federal workforce on AI issues, the head of each agency shall implement — or increase the availability and use of — AI training and familiarization programs for employees, managers, and leadership in technology as well as relevant policy, managerial, procurement, regulatory, ethical, governance, and legal fields.  Such training programs should, for example, empower Federal employees, managers, and leaders to develop and maintain an operating knowledge of emerging AI technologies to assess opportunities to use these technologies to enhance the delivery of services to the public, and to mitigate risks associated with these technologies.  Agencies that provide professional-development opportunities, grants, or funds for their staff should take appropriate steps to ensure that employees who do not serve in traditional technical roles, such as policy, managerial, procurement, or legal fields, are nonetheless eligible to receive funding for programs and courses that focus on AI, machine learning, data science, or other related subject areas.  </p>,\n",
       " <p>     (h)  Within 180 days of the date of this order, to address gaps in AI talent for national defense, the Secretary of Defense shall submit a report to the President through the Assistant to the President for<br/>National Security Affairs that includes:</p>,\n",
       " <p>          (i)    recommendations to address challenges in the Department of Defense’s ability to hire certain noncitizens, including at the Science and Technology Reinvention Laboratories;</p>,\n",
       " <p>          (ii)   recommendations to clarify and streamline processes for accessing classified information for certain noncitizens through Limited Access Authorization at Department of Defense laboratories;</p>,\n",
       " <p>          (iii)  recommendations for the appropriate use of enlistment authority under 10 U.S.C. 504(b)(2) for experts in AI and other critical and emerging technologies; and</p>,\n",
       " <p>          (iv)   recommendations for the Department of Defense and the Department of Homeland Security to work together to enhance the use of appropriate authorities for the retention of certain noncitizens of vital importance to national security by the Department of Defense and the Department of Homeland Security.  </p>,\n",
       " <p>     Sec. 11.  Strengthening American Leadership Abroad.  (a)  To strengthen United States leadership of global efforts to unlock AI’s potential and meet its challenges, the Secretary of State, in coordination with the Assistant to the President for National Security Affairs, the Assistant to the President for Economic Policy, the Director of OSTP, and the heads of other relevant agencies as appropriate, shall:</p>,\n",
       " <p>          (i)   lead efforts outside of military and intelligence areas to expand engagements with international allies and partners in relevant bilateral, multilateral, and multi-stakeholder fora to advance those allies’ and partners’ understanding of existing and planned AI-related guidance and policies of the United States, as well as to enhance international collaboration; and</p>,\n",
       " <p>          (ii)  lead efforts to establish a strong international framework for managing the risks and harnessing the benefits of AI, including by encouraging international allies and partners to support voluntary commitments similar to those that United States companies have made in pursuit of these objectives and coordinating the activities directed by subsections (b), (c), (d), and (e) of this section, and to develop common regulatory and other accountability principles for foreign nations, including to manage the risk that AI systems pose.</p>,\n",
       " <p>     (b)  To advance responsible global technical standards for AI development and use outside of military and intelligence areas, the Secretary of Commerce, in coordination with the Secretary of State and the heads of other relevant agencies as appropriate, shall lead preparations for a coordinated effort with key international allies and partners and with standards development organizations, to drive the development and implementation of AI-related consensus standards, cooperation and coordination, and information sharing.  In particular, the Secretary of Commerce shall:</p>,\n",
       " <p>          (i)    within 270 days of the date of this order, establish a plan for global engagement on promoting and developing AI standards, with lines of effort that may include:</p>,\n",
       " <p>               (A)  AI nomenclature and terminology;</p>,\n",
       " <p>               (B)  best practices regarding data capture, processing, protection, privacy, confidentiality, handling, and analysis;</p>,\n",
       " <p>               (C)  trustworthiness, verification, and assurance of AI systems; and</p>,\n",
       " <p>               (D)  AI risk management;</p>,\n",
       " <p>          (ii)   within 180 days of the date the plan is established, submit a report to the President on priority actions taken pursuant to the plan; and</p>,\n",
       " <p>          (iii)  ensure that such efforts are guided by principles set out in the NIST AI Risk Management Framework and United States Government National Standards Strategy for Critical and Emerging Technology.</p>,\n",
       " <p>     (c)  Within 365 days of the date of this order, to promote safe, responsible, and rights-affirming development and deployment of AI abroad:</p>,\n",
       " <p>          (i)   The Secretary of State and the Administrator of the United States Agency for International Development, in coordination with the Secretary of Commerce, acting through the director of NIST, shall publish an AI in Global Development Playbook that incorporates the AI Risk Management Framework’s principles, guidelines, and best practices into the social, technical, economic, governance, human rights, and security conditions of contexts beyond United States borders.  As part of this work, the Secretary of State and the Administrator of the United States Agency for International Development shall draw on lessons learned from programmatic uses of AI in global development.</p>,\n",
       " <p>          (ii)  The Secretary of State and the Administrator of the United States Agency for International Development, in collaboration with the Secretary of Energy and the Director of NSF, shall develop a Global AI Research Agenda to guide the objectives and implementation of AI-related research in contexts beyond United States borders.  The Agenda shall:</p>,\n",
       " <p>               (A)  include principles, guidelines, priorities, and best practices aimed at ensuring the safe, responsible, beneficial, and sustainable global development and adoption of AI; and</p>,\n",
       " <p>               (B)  address AI’s labor-market implications across international contexts, including by recommending risk mitigations.  </p>,\n",
       " <p>     (d)  To address cross-border and global AI risks to critical infrastructure, the Secretary of Homeland Security, in coordination with the Secretary of State, and in consultation with the heads of other relevant agencies as the Secretary of Homeland Security deems appropriate, shall lead efforts with international allies and partners to enhance cooperation to prevent, respond to, and recover from potential critical infrastructure disruptions resulting from incorporation of AI into critical infrastructure systems or malicious use of AI. </p>,\n",
       " <p>          (i)   Within 270 days of the date of this order, the Secretary of Homeland Security, in coordination with the Secretary of State, shall develop a plan for multilateral engagements to encourage the adoption of the AI safety and security guidelines for use by critical infrastructure owners and operators developed in section 4.3(a) of this order.</p>,\n",
       " <p>          (ii)  Within 180 days of establishing the plan described in subsection (d)(i) of this section, the Secretary of Homeland Security shall submit a report to the President on priority actions to mitigate cross-border risks to critical United States infrastructure.</p>,\n",
       " <p>     Sec. 12.  Implementation.  (a)  There is established, within the Executive Office of the President, the White House Artificial Intelligence Council (White House AI Council).  The function of the White House AI Council is to coordinate the activities of agencies across the Federal Government to ensure the effective formulation, development, communication, industry engagement related to, and timely implementation of AI-related policies, including policies set forth in this order.</p>,\n",
       " <p>     (b)  The Assistant to the President and Deputy Chief of Staff for Policy shall serve as Chair of the White House AI Council.</p>,\n",
       " <p>     (c)  In addition to the Chair, the White House AI Council shall consist of the following members, or their designees:</p>,\n",
       " <p>          (i)       the Secretary of State;</p>,\n",
       " <p>          (ii)      the Secretary of the Treasury;</p>,\n",
       " <p>          (iii)     the Secretary of Defense;</p>,\n",
       " <p>          (iv)      the Attorney General;</p>,\n",
       " <p>          (v)       the Secretary of Agriculture;</p>,\n",
       " <p>          (vi)      the Secretary of Commerce;</p>,\n",
       " <p>          (vii)     the Secretary of Labor;</p>,\n",
       " <p>          (viii)    the Secretary of HHS;</p>,\n",
       " <p>          (ix)      the Secretary of Housing and Urban Development;</p>,\n",
       " <p>          (x)       the Secretary of Transportation;</p>,\n",
       " <p>          (xi)      the Secretary of Energy;</p>,\n",
       " <p>          (xii)     the Secretary of Education;</p>,\n",
       " <p>          (xiii)    the Secretary of Veterans Affairs;</p>,\n",
       " <p>          (xiv)     the Secretary of Homeland Security;</p>,\n",
       " <p>          (xv)      the Administrator of the Small Business Administration;</p>,\n",
       " <p>          (xvi)     the Administrator of the United States Agency for International Development;</p>,\n",
       " <p>          (xvii)    the Director of National Intelligence;</p>,\n",
       " <p>          (xviii)   the Director of NSF;</p>,\n",
       " <p>          (xix)     the Director of OMB;</p>,\n",
       " <p>          (xx)      the Director of OSTP;</p>,\n",
       " <p>          (xxi)     the Assistant to the President for National Security Affairs;</p>,\n",
       " <p>          (xxii)    the Assistant to the President for Economic Policy;</p>,\n",
       " <p>          (xxiii)   the Assistant to the President and Domestic Policy Advisor;</p>,\n",
       " <p>          (xxiv)    the Assistant to the President and Chief of Staff to the Vice President;</p>,\n",
       " <p>          (xxv)     the Assistant to the President and Director of the Gender Policy Council;</p>,\n",
       " <p>          (xxvi)    the Chairman of the Council of Economic Advisers;</p>,\n",
       " <p>          (xxvii)   the National Cyber Director;</p>,\n",
       " <p>          (xxviii)  the Chairman of the Joint Chiefs of Staff; and</p>,\n",
       " <p>          (xxix)    the heads of such other agencies, independent regulatory agencies, and executive offices as the Chair may from time to time designate or invite to participate.</p>,\n",
       " <p>     (d)  The Chair may create and coordinate subgroups consisting of White House AI Council members or their designees, as appropriate.</p>,\n",
       " <p>     Sec. 13.  General Provisions.  (a)  Nothing in this order shall be construed to impair or otherwise affect:</p>,\n",
       " <p>          (i)   the authority granted by law to an executive department or agency, or the head thereof; or</p>,\n",
       " <p>          (ii)  the functions of the Director of the Office of Management and Budget relating to budgetary, administrative, or legislative proposals.</p>,\n",
       " <p>     (b)  This order shall be implemented consistent with applicable law and subject to the availability of appropriations.<br/><br/>     (c)  This order is not intended to, and does not, create any right or benefit, substantive or procedural, enforceable at law or in equity by any party against the United States, its departments, agencies, or entities, its officers, employees, or agents, or any other person.<br/></p>,\n",
       " <p class=\"has-text-align-right\">                             JOSEPH R. BIDEN JR.</p>,\n",
       " <p class=\"has-text-align-left\">THE WHITE HOUSE,<br/>  October 30, 2023.</p>,\n",
       " <p>We'll be in touch with the latest information on how President Biden and his administration are working for the American people, as well as ways you can get involved and help our country build back better.</p>,\n",
       " <p class=\"bottomcta__community mobile-only\">\n",
       " <a href=\"https://my.community.com/potus?t=Hello%20Mr.%20President%20%F0%9F%87%BA%F0%9F%87%B8\" rel=\"noopener noreferer\" target=\"_blank\">\n",
       " \t\t\t\t\t\t\t\t\t\t\t\t\t\t\t\t\t\tOpt in to send and receive text messages from President Biden.\t\t\t\t\t\t\t\t</a>\n",
       " </p>,\n",
       " <p class=\"address\">\n",
       " <strong>The White House</strong><br/>\n",
       " \t\t\t\t\t\t\t\t1600 Pennsylvania Ave NW<br/>\n",
       " \t\t\t\t\t\t\t\tWashington, DC 20500\n",
       " \t\t\t\t\t\t\t</p>]"
      ]
     },
     "execution_count": 8,
     "metadata": {},
     "output_type": "execute_result"
    }
   ],
   "source": [
    "soup.find('body').findAll('p')"
   ]
  },
  {
   "cell_type": "code",
   "execution_count": 9,
   "id": "25f7650b",
   "metadata": {},
   "outputs": [],
   "source": [
    "text = ''\n",
    "for line in soup.find('body').findAll('p'):\n",
    "    text = text + line.getText().encode('ascii', 'ignore').decode('ascii')"
   ]
  },
  {
   "cell_type": "code",
   "execution_count": 10,
   "id": "0809b1f8",
   "metadata": {},
   "outputs": [
    {
     "name": "stdout",
     "output_type": "stream",
     "text": [
      "\n",
      "The White House\n",
      "\t\t\t\t\t\t\t\t1600 Pennsylvania Ave NW\n",
      "\t\t\t\t\t\t\t\tWashington, DC 20500\n",
      "\t\t\t\t\t\t\t  By the authority vested in me as President by the Constitution and the laws of the United States of America, it is hereby ordered as follows:  Section 1. Purpose. Artificial intelligence (AI) holds extraordinary potential for both promise and peril. Responsible AI use has the potential to help solve urgent challenges while making our world more prosperous, productive, innovative, and secure. At the same time, irresponsible use could exacerbate societal harms such as fraud, discrimination, bias, and disinformation; displace and disempower workers; stifle competition; and pose risks to national security. Harnessing AI for good and realizing its myriad benefits requires mitigating its substantial risks. This endeavor demands a society-wide effort that includes government, the private sector, academia, and civil society.  My Administration places the highest urgency on governing the development and use of AI safely and responsibly, and is therefore advancing a coordinated, Federal Government-wide approach to doing so. The rapid speed at which AI capabilities are advancing compels the United States to lead in this moment for the sake of our security, economy, and society.  In the end, AI reflects the principles of the people who build it, the people who use it, and the data upon which it is built. I firmly believe that the power of our ideals; the foundations of our society; and the creativity, diversity, and decency of our people are the reasons that America thrived in past eras of rapid change. They are the reasons we will succeed again in this moment. We are more than capable of harnessing AI for justice, security, and opportunity for all.  Sec. 2. Policy and Principles. It is the policy of my Administration to advance and govern the development and use of AI in accordance with eight guiding principles and priorities. When undertaking the actions set forth in this order, executive departments and agencies (agencies) shall, as appropriate and consistent with applicable law, adhere to these principles, while, as feasible, taking into account the views of other agencies, industry, members of academia, civil society, labor unions, international allies and partners, and other relevant organizations:  (a) Artificial Intelligence must be safe and secure. Meeting this goal requires robust, reliable, repeatable, and standardized evaluations of AI systems, as well as policies, institutions, and, as appropriate, other mechanisms to test, understand, and mitigate risks from these systems before they are put to use. It also requires addressing AI systems most pressing security risks  including with respect to biotechnology, cybersecurity, critical infrastructure, and other national security dangers  while navigating AIs opacity and complexity. Testing and evaluations, including post-deployment performance monitoring, will help ensure that AI systems function as intended, are resilient against misuse or dangerous modifications, are ethically developed and operated in a secure manner, and are compliant with applicable Federal laws and policies. Finally, my Administration will help develop effective labeling and content provenance mechanisms, so that Americans are able to determine when content is generated using AI and when it is not. These actions will provide a vital foundation for an approach that addresses AIs risks without unduly reducing its benefits.  (b) Promoting responsible innovation, competition, and collaboration will allow the United States to lead in AI and unlock the technologys potential to solve some of societys most difficult challenges. This effort requires investments in AI-related education, training, development, research, and capacity, while simultaneously tackling novel intellectual property (IP) questions and other problems to protect inventors and creators. Across the Federal Government, my Administration will support programs to provide Americans the skills they need for the age of AI and attract the worlds AI talent to our shores  not just to study, but to stay  so that the companies and technologies of the future are made in America. The Federal Government will promote a fair, open, and competitive ecosystem and marketplace for AI and related technologies so that small developers and entrepreneurs can continue to drive innovation. Doing so requires stopping unlawful collusion and addressing risks from dominant firms use of key assets such as semiconductors, computing power, cloud storage, and data to disadvantage competitors, and it requires supporting a marketplace that harnesses the benefits of AI to provide new opportunities for small businesses, workers, and entrepreneurs.  (c) The responsible development and use of AI require a commitment to supporting American workers. As AI creates new jobs and industries, all workers need a seat at the table, including through collective bargaining, to ensure that they benefit from these opportunities. My Administration will seek to adapt job training and education to support a diverse workforce and help provide access to opportunities that AI creates. In the workplace itself, AI should not be deployed in ways that undermine rights, worsen job quality, encourage undue worker surveillance, lessen market competition, introduce new health and safety risks, or cause harmful labor-force disruptions. The critical next steps in AI development should be built on the views of workers, labor unions, educators, and employers to support responsible uses of AI that improve workers lives, positively augment human work, and help all people safely enjoy the gains and opportunities from technological innovation.  (d) Artificial Intelligence policies must be consistent with my Administrations dedication to advancing equity and civil rights. My Administration cannot  and will not  tolerate the use of AI to disadvantage those who are already too often denied equal opportunity and justice. From hiring to housing to healthcare, we have seen what happens when AI use deepens discrimination and bias, rather than improving quality of life. Artificial Intelligence systems deployed irresponsibly have reproduced and intensified existing inequities, caused new types of harmful discrimination, and exacerbated online and physical harms. My Administration will build on the important steps that have already been taken  such as issuing the Blueprint for an AI Bill of Rights, the AI Risk Management Framework, and Executive Order 14091 of February 16, 2023 (Further Advancing Racial Equity and Support for Underserved Communities Through the Federal Government)  in seeking to ensure that AI complies with all Federal laws and to promote robust technical evaluations, careful oversight, engagement with affected communities, and rigorous regulation. It is necessary to hold those developing and deploying AI accountable to standards that protect against unlawful discrimination and abuse, including in the justice system and the Federal Government. Only then can Americans trust AI to advance civil rights, civil liberties, equity, and justice for all.  (e) The interests of Americans who increasingly use, interact with, or purchase AI and AI-enabled products in their daily lives must be protected. Use of new technologies, such as AI, does not excuse organizations from their legal obligations, and hard-won consumer protections are more important than ever in moments of technological change. The Federal Government will enforce existing consumer protection laws and principles and enact appropriate safeguards against fraud, unintended bias, discrimination, infringements on privacy, and other harms from AI. Such protections are especially important in critical fields like healthcare, financial services, education, housing, law, and transportation, where mistakes by or misuse of AI could harm patients, cost consumers or small businesses, or jeopardize safety or rights. At the same time, my Administration will promote responsible uses of AI that protect consumers, raise the quality of goods and services, lower their prices, or expand selection and availability.  (f) Americans privacy and civil liberties must be protected as AI continues advancing. Artificial Intelligence is making it easier to extract, re-identify, link, infer, and act on sensitive information about peoples identities, locations, habits, and desires. Artificial Intelligences capabilities in these areas can increase the risk that personal data could be exploited and exposed. To combat this risk, the Federal Government will ensure that the collection, use, and retention of data is lawful, is secure, and mitigates privacy and confidentiality risks. Agencies shall use available policy and technical tools, including privacy-enhancing technologies (PETs) where appropriate, to protect privacy and to combat the broader legal and societal risks  including the chilling of First Amendment rights  that result from the improper collection and use of peoples data.  (g) It is important to manage the risks from the Federal Governments own use of AI and increase its internal capacity to regulate, govern, and support responsible use of AI to deliver better results for Americans. These efforts start with people, our Nations greatest asset. My Administration will take steps to attract, retain, and develop public service-oriented AI professionals, including from underserved communities, acrossdisciplines  including technology, policy, managerial,procurement, regulatory, ethical, governance, and legal fields  and ease AI professionals path into the Federal Government to help harness and govern AI. The Federal Government will work to ensure that all members of its workforce receive adequate training to understand the benefits, risks, and limitations of AI for their job functions, and to modernize Federal Government information technology infrastructure, removebureaucratic obstacles, and ensure that safe and rights-respecting AI is adopted, deployed, and used.  (h) The Federal Government should lead the way to global societal, economic, and technological progress, as the UnitedStates has in previous eras of disruptive innovation and change. This leadership is not measured solely by the technological advancements our country makes. Effective leadership also means pioneering those systems and safeguards needed to deploy technology responsibly  and building and promoting those safeguards with the rest of the world. My Administration will engage with international allies and partners in developing a framework to manage AIs risks, unlock AIs potential for good, and promote common approaches to shared challenges. The Federal Government will seek to promote responsible AI safety and security principles and actions with other nations, including our competitors, while leading key global conversations and collaborations to ensure that AI benefits the whole world, rather than exacerbating inequities, threatening human rights, and causing other harms.  Sec. 3. Definitions. For purposes of this order:  (a) The term agency means each agency described in 44U.S.C. 3502(1), except for the independent regulatory agencies described in 44 U.S.C. 3502(5).  (b) The term artificial intelligence or AI has the meaning set forth in 15 U.S.C. 9401(3): a machine-based system that can, for a given set of human-defined objectives, make predictions, recommendations, or decisions influencing real or virtual environments. Artificial intelligence systems use machine- and human-based inputs to perceive real and virtual environments; abstract such perceptions into models through analysis in an automated manner; and use model inference to formulate options for information or action.  (c) The term AI model means a component of an information system that implements AI technology and uses computational, statistical, or machine-learning techniques to produce outputs from a given set of inputs.  (d) The term AI red-teaming means a structured testing effort to find flaws and vulnerabilities in an AI system, often in a controlled environment and in collaboration with developers of AI. Artificial Intelligence red-teaming is most often performed by dedicated red teams that adopt adversarial methods to identify flaws and vulnerabilities, such as harmful or discriminatory outputs from an AI system, unforeseen or undesirable system behaviors, limitations, or potential risks associated with the misuse of the system.  (e) The term AI system means any data system, software, hardware, application, tool, or utility that operates in whole or in part using AI.  (f) The term commercially available information means any information or data about an individual or group of individuals, including an individuals or group of individuals device or location, that is made available or obtainable and sold, leased, or licensed to the general public or to governmental or non-governmental entities.  (g) The term crime forecasting means the use of analytical techniques to attempt to predict future crimes or crime-related information. It can include machine-generated predictions that use algorithms to analyze large volumes of data, as well as other forecasts that are generated without machines and based on statistics, such as historical crime statistics.  (h) The term critical and emerging technologies means those technologies listed in the February 2022 Critical and Emerging Technologies List Update issued by the National Science and Technology Council (NSTC), as amended by subsequent updates to the list issued by the NSTC.  (i) The term critical infrastructure has the meaning set forth in section 1016(e) of the USA PATRIOT Act of 2001, 42U.S.C. 5195c(e).  (j) The term differential-privacy guarantee means protections that allow information about a group to be shared while provably limiting the improper access, use, or disclosure of personal information about particular entities.   (k) The term dual-use foundation model means an AI model that is trained on broad data; generally uses self-supervision; contains at least tens of billions of parameters; is applicable across a wide range of contexts; and that exhibits, or could be easily modified to exhibit, high levels of performance at tasks that pose a serious risk to security, national economic security, national public health or safety, or any combination of those matters, such as by:    (i) substantially lowering the barrier of entry for non-experts to design, synthesize, acquire, or use chemical, biological, radiological, or nuclear (CBRN) weapons;    (ii) enabling powerful offensive cyber operations through automated vulnerability discovery and exploitation against a wide range of potential targets of cyber attacks; or    (iii) permitting the evasion of human control or oversight through means of deception or obfuscation.Models meet this definition even if they are provided to end users with technical safeguards that attempt to prevent users from taking advantage of the relevant unsafe capabilities.  (l) The term Federal law enforcement agency has the meaning set forth in section 21(a) of Executive Order 14074 of May 25, 2022 (Advancing Effective, Accountable Policing and Criminal Justice Practices To Enhance Public Trust and Public Safety).  (m) The term floating-point operation means any mathematical operation or assignment involving floating-point numbers, which are a subset of the real numbers typically represented on computers by an integer of fixed precision scaled by an integer exponent of a fixed base.  (n) The term foreign person has the meaning set forth in section 5(c) of Executive Order 13984 of January 19, 2021 (Taking Additional Steps To Address the National Emergency With Respect to Significant Malicious Cyber-Enabled Activities).  (o) The terms foreign reseller and foreign reseller of United States Infrastructure as a Service Products mean a foreign person who has established an Infrastructure as a Service Account to provide Infrastructure as a Service Products subsequently, in whole or in part, to a third party.  (p) The term generative AI means the class of AI models that emulate the structure and characteristics of input data in order to generate derived synthetic content. This can include images, videos, audio, text, and other digital content.  (q) The terms Infrastructure as a Service Product, United States Infrastructure as a Service Product, United States Infrastructure as a Service Provider, and Infrastructure as a Service Account each have the respective meanings given to those terms in section 5 of Executive Order 13984.  (r) The term integer operation means any mathematical operation or assignment involving only integers, or whole numbers expressed without a decimal point.  (s) The term Intelligence Community has the meaning given to that term in section 3.5(h) of Executive Order 12333 of December 4, 1981 (United States Intelligence Activities), as amended.  (t) The term machine learning means a set of techniques that can be used to train AI algorithms to improve performance at a task based on data.  (u) The term model weight means a numerical parameter within an AI model that helps determine the models outputs in response to inputs.  (v) The term national security system has the meaning set forth in 44 U.S.C. 3552(b)(6).  (w) The term omics means biomolecules, including nucleic acids, proteins, and metabolites, that make up a cell or cellular system.  (x) The term Open RAN means the Open Radio Access Network approach to telecommunications-network standardization adopted by the O-RAN Alliance, Third Generation Partnership Project, or any similar set of published open standards for multi-vendor network equipment interoperability.  (y) The term personally identifiable information has the meaning set forth in Office of Management and Budget (OMB) Circular No. A-130.  (z) The term privacy-enhancing technology means any software or hardware solution, technical process, technique, or other technological means of mitigating privacy risks arising from data processing, including by enhancing predictability, manageability, disassociability, storage, security, and confidentiality. These technological means may include secure multiparty computation, homomorphic encryption, zero-knowledge proofs, federated learning, secure enclaves, differential privacy, and synthetic-data-generation tools. This is also sometimes referred to as privacy-preserving technology.  (aa) The term privacy impact assessment has the meaning set forth in OMB Circular No. A-130.  (bb) The term Sector Risk Management Agency has the meaning set forth in 6 U.S.C. 650(23).  (cc) The term self-healing network means a telecommunications network that automatically diagnoses and addresses network issues to permit self-restoration.  (dd) The term synthetic biology means a field of science that involves redesigning organisms, or the biomolecules of organisms, at the genetic level to give them new characteristics. Synthetic nucleic acids are a type of biomolecule redesigned through synthetic-biology methods.  (ee) The term synthetic content means information, such as images, videos, audio clips, and text, that has been significantly modified or generated by algorithms, including by AI.  (ff) The term testbed means a facility or mechanism equipped for conducting rigorous, transparent, and replicable testing of tools and technologies, including AI and PETs, to help evaluate the functionality, usability, and performance of those tools or technologies.  (gg) The term watermarking means the act of embedding information, which is typically difficult to remove, into outputs created by AI  including into outputs such as photos, videos, audio clips, or text  for the purposes of verifying the authenticity of the output or the identity or characteristics of its provenance, modifications, or conveyance.  Sec. 4. Ensuring the Safety and Security of AI Technology.  4.1. Developing Guidelines, Standards, and Best Practices for AI Safety and Security. (a) Within 270 days of the date of this order, to help ensure the development of safe, secure, and trustworthy AI systems, the Secretary of Commerce, acting through the Director of the National Institute of Standards and Technology (NIST), in coordination with the Secretary of Energy, the Secretary of Homeland Security, and the heads of other relevant agencies as the Secretary of Commerce may deem appropriate, shall:    (i) Establish guidelines and best practices, with the aim of promoting consensus industry standards, for developing and deploying safe, secure, and trustworthy AI systems, including:      (A) developing a companion resource to the AI Risk Management Framework, NIST AI 100-1, for generative AI;      (B) developing a companion resource to the Secure Software Development Framework to incorporate secure development practices for generative AI and for dual-use foundation models; and      (C) launching an initiative to create guidance and benchmarks for evaluating and auditing AI capabilities, with a focus on capabilities through which AI could cause harm, such as in the areas of cybersecurity and biosecurity.    (ii) Establish appropriate guidelines (except for AI used as a component of a national security system), including appropriate procedures and processes, to enable developers of AI, especially of dual-use foundation models, to conduct AI red-teaming tests to enable deployment of safe, secure, and trustworthy systems. These efforts shall include:      (A) coordinating or developing guidelines related to assessing and managing the safety, security, and trustworthiness of dual-use foundation models; and      (B) in coordination with the Secretary of Energy and the Director of the National Science Foundation (NSF), developing and helping to ensure the availability of testing environments, such as testbeds, to support the development of safe, secure, and trustworthy AI technologies, as well as to support the design, development, and deployment of associated PETs, consistent with section 9(b) of this order.  (b) Within 270 days of the date of this order, to understand and mitigate AI security risks, the Secretary of Energy, in coordination with the heads of other Sector Risk Management Agencies (SRMAs) as the Secretary of Energy may deem appropriate, shall develop and, to the extent permitted by law and available appropriations, implement a plan for developing the Department of Energys AI model evaluation tools and AI testbeds. The Secretary shall undertake this work using existing solutions where possible, and shall develop these tools and AI testbeds to be capable of assessing near-term extrapolations of AI systems capabilities. At a minimum, the Secretary shall develop tools to evaluate AI capabilities to generate outputs that may represent nuclear, nonproliferation, biological, chemical, critical infrastructure, and energy-security threats or hazards. The Secretary shall do this work solely for the purposes of guarding against these threats, and shall also develop model guardrails that reduce such risks. The Secretary shall, as appropriate, consult with private AI laboratories, academia, civil society, and third-party evaluators, and shall use existing solutions.  4.2. Ensuring Safe and Reliable AI. (a) Within 90 days of the date of this order, to ensure and verify the continuous availability of safe, reliable, and effective AI in accordance with the Defense Production Act, as amended, 50 U.S.C. 4501 et seq., including for the national defense and the protection of critical infrastructure, the Secretary of Commerce shall require:    (i) Companies developing or demonstrating an intent to develop potential dual-use foundation models to provide the Federal Government, on an ongoing basis, with information, reports, or records regarding the following:      (A) any ongoing or planned activities related to training, developing, or producing dual-use foundation models, including the physical and cybersecurity protections taken to assure the integrity of that training process against sophisticated threats;      (B) the ownership and possession of the model weights of any dual-use foundation models, and the physical and cybersecurity measures taken to protect those model weights; and      (C) the results of any developed dual-use foundation models performance in relevant AI red-team testing based on guidance developed by NIST pursuant to subsection 4.1(a)(ii) of this section, and a description of any associated measures the company has taken to meet safety objectives, such as mitigations to improve performance on these red-team tests and strengthen overall model security. Prior to the development of guidance on red-team testing standards by NIST pursuant to subsection 4.1(a)(ii) of this section, this description shall include the results of any red-team testing that the company has conducted relating to lowering the barrier to entry for the development, acquisition, and use of biological weapons by non-state actors; the discovery of software vulnerabilities and development of associated exploits; the use of software or tools to influence real or virtual events; the possibility for self-replication or propagation; and associated measures to meet safety objectives; and    (ii) Companies, individuals, or other organizations or entities that acquire, develop, or possess a potential large-scale computing cluster to report any such acquisition, development, or possession, including the existence and location of these clusters and the amount of total computing power available in each cluster.  (b) The Secretary of Commerce, in consultation with the Secretary of State, the Secretary of Defense, the Secretary of Energy, and the Director of National Intelligence, shall define, and thereafter update as needed on a regular basis, the set of technical conditions for models and computing clusters that would be subject to the reporting requirements of subsection 4.2(a) of this section. Until such technical conditions are defined, the Secretary shall require compliance with these reporting requirements for:    (i) any model that was trained using a quantity of computing power greater than 1026 integer or floating-point operations, or using primarily biological sequence data and using a quantity of computing power greater than 1023 integer or floating-point operations; and    (ii) any computing cluster that has a set of machines physically co-located in a single datacenter, transitively connected by data center networking of over 100 Gbit/s, and having a theoretical maximum computing capacity of 1020 integer or floating-point operations per second for training AI.  (c) Because I find that additional steps must be taken to deal with the national emergency related to significant malicious cyber-enabled activities declared in Executive Order 13694 of April 1, 2015 (Blocking the Property of Certain Persons Engaging in Significant Malicious Cyber-Enabled Activities), as amended by Executive Order 13757 of December 28, 2016 (Taking Additional Steps to Address the National Emergency With Respect to Significant Malicious Cyber-Enabled Activities), and further amended by Executive Order 13984, to address the use of United States Infrastructure as a Service (IaaS) Products by foreign malicious cyber actors, including to impose additional record-keeping obligations with respect to foreign transactions and to assist in the investigation of transactions involving foreign malicious cyber actors, I hereby direct the Secretary of Commerce, within 90 days of the date of this order, to:    (i) Propose regulations that require United States IaaS Providers to submit a report to the Secretary of Commerce when a foreign person transacts with that United States IaaS Provider to train a large AI model with potential capabilities that could be used in malicious cyber-enabled activity (a training run). Such reports shall include, at a minimum, the identity of the foreign person and the existence of any training run of an AI model meeting the criteria set forth in this section, or other criteria defined by the Secretary in regulations, as well as any additional information identified by the Secretary.    (ii) Include a requirement in the regulations proposed pursuant to subsection 4.2(c)(i) of this section that United States IaaS Providers prohibit any foreign reseller of their United States IaaS Product from providing those products unless such foreign reseller submits to the United States IaaS Provider a report, which the United States IaaS Provider must provide to the Secretary of Commerce, detailing each instance in which a foreign person transacts with the foreign reseller to use the United States IaaS Product to conduct a training run described in subsection 4.2(c)(i) of this section. Such reports shall include, at a minimum, the information specified in subsection 4.2(c)(i) of this section as well as any additional information identified by the Secretary.    (iii) Determine the set of technical conditions for a large AI model to have potential capabilities that could be used in malicious cyber-enabled activity, and revise that determination as necessary and appropriate. Until the Secretary makes such a determination, a model shall be considered to have potential capabilities that could be used in malicious cyber-enabled activity if it requires a quantity of computing power greater than 1026 integer or floating-point operations and is trained on a computing cluster that has a set of machines physically co-located in a single datacenter, transitively connected by data center networking of over 100 Gbit/s, and having a theoretical maximum compute capacity of 1020 integer or floating-point operations per second for training AI.  (d) Within 180 days of the date of this order, pursuant to the finding set forth in subsection 4.2(c) of this section, the Secretary of Commerce shall propose regulations that require United States IaaS Providers to ensure that foreign resellers of United States IaaS Products verify the identity of any foreign person that obtains an IaaS account (account) from the foreign reseller. These regulations shall, at a minimum:    (i) Set forth the minimum standards that a United States IaaS Provider must require of foreign resellers of its United States IaaS Products to verify the identity of a foreign person who opens an account or maintains an existing account with a foreign reseller, including:      (A) the types of documentation and procedures that foreign resellers of United States IaaS Products must require to verify the identity of any foreign person acting as a lessee or sub-lessee of these products or services;      (B) records that foreign resellers of United States IaaS Products must securely maintain regarding a foreign person that obtains an account, including information establishing:        (1) the identity of such foreign person, including name and address;        (2) the means and source of payment (including any associated financial institution and other identifiers such as credit card number, account number, customer identifier, transaction identifiers, or virtual currency wallet or wallet address identifier);        (3) the electronic mail address and telephonic contact information used to verify a foreign persons identity; and        (4) the Internet Protocol addresses used for access or administration and the date and time of each such access or administrative action related to ongoing verification of such foreign persons ownership of such an account; and      (C) methods that foreign resellers of United States IaaS Products must implement to limit all third-party access to the information described in this subsection, except insofar as such access is otherwise consistent with this order and allowed under applicable law;    (ii) Take into consideration the types of accounts maintained by foreign resellers of United States IaaS Products, methods of opening an account, and types of identifying information available to accomplish the objectives of identifying foreign malicious cyber actors using any such products and avoiding the imposition of an undue burden on such resellers; and    (iii) Provide that the Secretary of Commerce, in accordance with such standards and procedures as the Secretary may delineate and in consultation with the Secretary of Defense, the Attorney General, the Secretary of Homeland Security, and the Director of National Intelligence, may exempt a United States IaaS Provider with respect to any specific foreign reseller of their United States IaaS Products, or with respect to any specific type of account or lessee, from the requirements of any regulation issued pursuant to this subsection. Such standards and procedures may include a finding by the Secretary that such foreign reseller, account, or lessee complies with security best practices to otherwise deter abuse of United States IaaS Products.  (e) The Secretary of Commerce is hereby authorized to take such actions, including the promulgation of rules and regulations, and to employ all powers granted to the President by the International Emergency Economic Powers Act, 50 U.S.C. 1701 et seq., as may be necessary to carry out the purposes of subsections 4.2(c) and (d) of this section. Such actions may include a requirement that United States IaaS Providers require foreign resellers of United States IaaS Products to provide United States IaaS Providers verifications relative to those subsections.  4.3. Managing AI in Critical Infrastructure and in Cybersecurity. (a) To ensure the protection of criticalinfrastructure, the following actions shall be taken:    (i) Within 90 days of the date of this order, and at least annually thereafter, the head of each agency with relevant regulatory authority over critical infrastructure and the heads of relevant SRMAs, in coordination with the Director of the Cybersecurity and Infrastructure Security Agency within the Department of Homeland Security for consideration of cross-sector risks, shall evaluate and provide to the Secretary of Homeland Security an assessment of potential risks related to the use of AI in critical infrastructure sectors involved, including ways in which deploying AI may make critical infrastructure systems more vulnerable to critical failures, physical attacks, and cyber attacks, and shall consider ways to mitigate these vulnerabilities. Independent regulatory agencies are encouraged, as they deem appropriate, to contribute to sector-specific risk assessments.    (ii) Within 150 days of the date of this order, the Secretary of the Treasury shall issue a public report on best practices for financial institutions to manage AI-specific cybersecurity risks.    (iii) Within 180 days of the date of this order, the Secretary of Homeland Security, in coordination with the Secretary of Commerce and with SRMAs and other regulators as determined by the Secretary of Homeland Security, shall incorporate as appropriate the AI Risk Management Framework, NIST AI 100-1, as well as other appropriate security guidance, into relevant safety and security guidelines for use by critical infrastructure owners and operators.    (iv) Within 240 days of the completion of the guidelines described in subsection 4.3(a)(iii) of this section, the Assistant to the President for National Security Affairs and the Director of OMB, in consultation with the Secretary of Homeland Security, shall coordinate work by the heads of agencies with authority over critical infrastructure to develop and take steps for the Federal Government to mandate such guidelines, or appropriate portions thereof, through regulatory or other appropriate action. Independent regulatory agencies are encouraged, as they deem appropriate, to consider whether to mandate guidance through regulatory action in their areas of authority and responsibility.    (v) The Secretary of Homeland Security shall establish an Artificial Intelligence Safety and Security Board as an advisory committee pursuant to section 871 of the Homeland Security Act of 2002 (Public Law 107-296). The Advisory Committee shall include AI experts from the private sector, academia, and government, as appropriate, and provide to the Secretary of Homeland Security and the Federal Governments critical infrastructure community advice, information, or recommendations for improving security, resilience, and incident response related to AI usage in critical infrastructure.  (b) To capitalize on AIs potential to improve United States cyber defenses:    (i) The Secretary of Defense shall carry out the actions described in subsections 4.3(b)(ii) and (iii) of this section for national security systems, and the Secretary of Homeland Security shall carry out these actions for non-national security systems. Each shall do so in consultation with the heads of other relevant agencies as the Secretary of Defense and the Secretary of Homeland Security may deem appropriate.    (ii) As set forth in subsection 4.3(b)(i) of this section, within 180 days of the date of this order, the Secretary of Defense and the Secretary of Homeland Security shall, consistent with applicable law, each develop plans for, conduct, and complete an operational pilot project to identify, develop, test, evaluate, and deploy AI capabilities, such as large-language models, to aid in the discovery and remediation of vulnerabilities in critical United States Government software, systems, and networks.    (iii) As set forth in subsection 4.3(b)(i) of this section, within 270 days of the date of this order, the Secretary of Defense and the Secretary of Homeland Security shall each provide a report to the Assistant to the President for National Security Affairs on the results of actions taken pursuant to the plans and operational pilot projects required by subsection 4.3(b)(ii) of this section, including a description of any vulnerabilities found and fixed through the development and deployment of AI capabilities and any lessons learned on how to identify, develop, test, evaluate, and deploy AI capabilities effectively for cyber defense.  4.4. Reducing Risks at the Intersection of AI and CBRN Threats. (a) To better understand and mitigate the risk of AI being misused to assist in the development or use of CBRN threats  with a particular focus on biological weapons  the following actions shall be taken:    (i) Within 180 days of the date of this order, the Secretary of Homeland Security, in consultation with the Secretary of Energy and the Director of the Office of Science and Technology Policy (OSTP), shall evaluate the potential for AI to be misused to enable the development or production of CBRN threats, while also considering the benefits and application of AI to counter these threats, including, as appropriate, the results of work conducted under section 8(b) of this order. The Secretary of Homeland Security shall:      (A) consult with experts in AI and CBRN issues from the Department of Energy, private AI laboratories, academia, and third-party model evaluators, as appropriate, to evaluate AI model capabilities to present CBRN threats  for the sole purpose of guarding against those threats  as well as options for minimizing the risks of AI model misuse to generate or exacerbate those threats; and      (B) submit a report to the President that describes the progress of these efforts, including an assessment of the types of AI models that may present CBRN risks to the United States, and that makes recommendations for regulating or overseeing the training, deployment, publication, or use of these models, including requirements for safety evaluations and guardrails for mitigating potential threats to national security.    (ii) Within 120 days of the date of this order, the Secretary of Defense, in consultation with the Assistant to the President for National Security Affairs and the Director of OSTP, shall enter into a contract with the National Academies of Sciences, Engineering, and Medicine to conduct  and submit to the Secretary of Defense, the Assistant to the President for National Security Affairs, the Director of the Office of Pandemic Preparedness and Response Policy, the Director of OSTP, and the Chair of the Chief Data Officer Council  a study that:      (A) assesses the ways in which AI can increase biosecurity risks, including risks from generative AI models trained on biological data, and makes recommendations on how to mitigate these risks;      (B) considers the national security implications of the use of data and datasets, especially those associated with pathogens and omics studies, that the United States Government hosts, generates, funds the creation of, or otherwise owns, for the training of generative AI models, and makes recommendations on how to mitigate the risks related to the use of these data and datasets;      (C) assesses the ways in which AI applied to biology can be used to reduce biosecurity risks, including recommendations on opportunities to coordinate data and high-performance computing resources; and      (D) considers additional concerns and opportunities at the intersection of AI and synthetic biology that the Secretary of Defense deems appropriate.  (b) To reduce the risk of misuse of synthetic nucleic acids, which could be substantially increased by AIs capabilities in this area, and improve biosecurity measures for the nucleic acid synthesis industry, the following actions shall be taken:    (i) Within 180 days of the date of this order, the Director of OSTP, in consultation with the Secretary of State, the Secretary of Defense, the Attorney General, the Secretary of Commerce, the Secretary of Health and Human Services (HHS), the Secretary of Energy, the Secretary of Homeland Security, the Director of National Intelligence, and the heads of other relevant agencies as the Director of OSTP may deem appropriate, shall establish a framework, incorporating, as appropriate, existing United States Government guidance, to encourage providers of synthetic nucleic acid sequences to implement comprehensive, scalable, and verifiable synthetic nucleic acid procurement screening mechanisms, including standards and recommended incentives. As part of this framework, the Director of OSTP shall:      (A) establish criteria and mechanisms for ongoing identification of biological sequences that could be used in a manner that would pose a risk to the national security of the United States; and      (B) determine standardized methodologies and tools for conducting and verifying the performance of sequence synthesis procurement screening, including customer screening approaches to support due diligence with respect to managing security risks posed by purchasers of biological sequences identified in subsection 4.4(b)(i)(A) of this section, and processes for the reporting of concerning activity to enforcement entities.    (ii) Within 180 days of the date of this order, the Secretary of Commerce, acting through the Director of NIST, in coordination with the Director of OSTP, and in consultation with the Secretary of State, the Secretary of HHS, and the heads of other relevant agencies as the Secretary of Commerce may deem appropriate, shall initiate an effort to engage with industry and relevant stakeholders, informed by the framework developed under subsection 4.4(b)(i) of this section, to develop and refine for possible use by synthetic nucleic acid sequence providers:      (A) specifications for effective nucleic acid synthesis procurement screening;      (B) best practices, including security and access controls, for managing sequence-of-concern databases to support such screening;      (C) technical implementation guides for effective screening; and      (D) conformity-assessment best practices and mechanisms.    (iii) Within 180 days of the establishment of the framework pursuant to subsection 4.4(b)(i) of this section, all agencies that fund life-sciences research shall, as appropriate and consistent with applicable law, establish that, as a requirement of funding, synthetic nucleic acid procurement is conducted through providers or manufacturers that adhere to the framework, such as through an attestation from the provider or manufacturer. The Assistant to the President for National Security Affairs and the Director of OSTP shall coordinate the process of reviewing such funding requirements to facilitate consistency in implementation of the framework across funding agencies.    (iv) In order to facilitate effective implementation of the measures described in subsections 4.4(b)(i)-(iii) of this section, the Secretary of Homeland Security, in consultation with the heads of other relevant agencies as the Secretary of Homeland Security may deem appropriate, shall:      (A) within 180 days of the establishment of the framework pursuant to subsection 4.4(b)(i) of this section, develop a framework to conduct structured evaluation and stress testing of nucleic acid synthesis procurement screening, including the systems developed in accordance with subsections 4.4(b)(i)-(ii) of this section and implemented by providers of synthetic nucleic acid sequences; and      (B) following development of the framework pursuant to subsection 4.4(b)(iv)(A) of this section, submit an annual report to the Assistant to the President for National Security Affairs, the Director of the Office of Pandemic Preparedness and Response Policy, and the Director of OSTP on any results of the activities conducted pursuant to subsection 4.4(b)(iv)(A) of this section, including recommendations, if any, on how to strengthen nucleic acid synthesis procurement screening, including customer screening systems.  4.5. Reducing the Risks Posed by Synthetic Content.To foster capabilities for identifying and labeling synthetic content produced by AI systems, and to establish the authenticity and provenance of digital content, both synthetic and not synthetic, produced by the Federal Government or on its behalf:  (a) Within 240 days of the date of this order, the Secretary of Commerce, in consultation with the heads of other relevant agencies as the Secretary of Commerce may deem appropriate, shall submit a report to the Director of OMB and the Assistant to the President for National Security Affairs identifying the existing standards, tools, methods, and practices, as well as the potential development of further science-backed standards and techniques, for:    (i) authenticating content and tracking its provenance;    (ii) labeling synthetic content, such as using watermarking;    (iii) detecting synthetic content;    (iv) preventing generative AI from producing child sexual abuse material or producing non-consensual intimate imagery of real individuals (to include intimate digital depictions of the body or body parts of an identifiable individual);    (v) testing software used for the above purposes; and    (vi) auditing and maintaining synthetic content.  (b) Within 180 days of submitting the report required under subsection 4.5(a) of this section, and updated periodically thereafter, the Secretary of Commerce, in coordination with the Director of OMB, shall develop guidance regarding the existing tools and practices for digital content authentication and synthetic content detection measures. The guidance shall include measures for the purposes listed in subsection 4.5(a) of this section.  (c) Within 180 days of the development of the guidance required under subsection 4.5(b) of this section, and updated periodically thereafter, the Director of OMB, in consultation with the Secretary of State; the Secretary of Defense; the Attorney General; the Secretary of Commerce, acting through the Director of NIST; the Secretary of Homeland Security; the Director of National Intelligence; and the heads of other agencies that the Director of OMB deems appropriate, shall  for the purpose of strengthening public confidence in theintegrity of official United States Government digital content  issue guidance to agencies for labeling and authenticating such content that they produce or publish.  (d) The Federal Acquisition Regulatory Council shall, as appropriate and consistent with applicable law, consider amending the Federal Acquisition Regulation to take into account the guidance established under subsection 4.5 of this section.  4.6. Soliciting Input on Dual-Use Foundation Models with Widely Available Model Weights. When the weights for a dual-use foundation model are widely available  such as when they are publicly posted on the Internet  there can be substantial benefits to innovation, but also substantial security risks, such as the removal of safeguards within the model. To address the risks and potential benefits of dual-use foundation models with widely available weights, within 270 days of the date of this order, the Secretary of Commerce, acting through the Assistant Secretary of Commerce for Communications and Information, and in consultation with the Secretary of State, shall:  (a) solicit input from the private sector, academia, civil society, and other stakeholders through a public consultation process on potential risks, benefits, other implications, and appropriate policy and regulatory approaches related to dual-use foundation models for which the model weights are widely available, including:    (i) risks associated with actors fine-tuning dual-use foundation models for which the model weights are widely available or removing those models safeguards;    (ii) benefits to AI innovation and research, including research into AI safety and risk management, of dual-use foundation models for which the model weights are widely available; and    (iii) potential voluntary, regulatory, and international mechanisms to manage the risks and maximize the benefits of dual-use foundation models for which the model weights are widely available; and  (b) based on input from the process described in subsection 4.6(a) of this section, and in consultation with the heads of other relevant agencies as the Secretary of Commerce deems appropriate, submit a report to the President on the potential benefits, risks, and implications of dual-use foundation models for which the model weights are widely available, as well as policy and regulatory recommendations pertaining to those models.  4.7. Promoting Safe Release and Preventing the Malicious Use of Federal Data for AI Training.To improve public data access and manage security risks, and consistent with the objectives of the Open, Public, Electronic, and Necessary Government Data Act (title II of Public Law 115-435) to expand public access to Federal data assets in a machine-readable format while also taking into account security considerations, including the risk that information in an individual data asset in isolation does not pose a security risk but, when combined with other available information, may pose such a risk:  (a) within 270 days of the date of this order, the Chief Data Officer Council, in consultation with the Secretary of Defense, the Secretary of Commerce, the Secretary of Energy, the Secretary of Homeland Security, and the Director of National Intelligence, shall develop initial guidelines for performing security reviews, including reviews to identify and manage the potential security risks of releasing Federal data that could aid in the development of CBRN weapons as well as the development of autonomous offensive cyber capabilities, while also providing public access to Federal Government data in line with the goals stated in the Open, Public, Electronic, and Necessary Government Data Act (title II of Public Law 115-435); and (b) within 180 days of the development of the initial guidelines required by subsection 4.7(a) of this section, agencies shall conduct a security review of all data assets in the comprehensive data inventory required under 44 U.S.C. 3511(a)(1) and (2)(B) and shall take steps, as appropriate and consistent with applicable law, to address the highest-priority potential security risks that releasing that data could raise with respect to CBRN weapons, such as the ways in which that data could be used to train AI systems.  4.8. Directing the Development of a National Security Memorandum. To develop a coordinated executive branch approach to managing AIs security risks, the Assistant to the President for National Security Affairs and the Assistant to the President and Deputy Chief of Staff for Policy shall oversee an interagency process with the purpose of, within 270 days of the date of this order, developing and submitting a proposed National Security Memorandum on AI to the President. The memorandum shall address the governance of AI used as a component of a national security system or for military and intelligence purposes. The memorandum shall take into account current efforts to govern the development and use of AI for national security systems. The memorandum shall outline actions for the Department of Defense, the Department of State, other relevant agencies, and the Intelligence Community to address the national security risks and potential benefits posed by AI. In particular, the memorandum shall:  (a) provide guidance to the Department of Defense, other relevant agencies, and the Intelligence Community on the continued adoption of AI capabilities to advance the United States national security mission, including through directing specific AI assurance and risk-management practices for national security uses of AI that may affect the rights or safety of United States persons and, in appropriate contexts, non-United States persons; and  (b) direct continued actions, as appropriate and consistent with applicable law, to address the potential use of AI systems by adversaries and other foreign actors in ways that threaten the capabilities or objectives of the Department of Defense or the Intelligence Community, or that otherwise pose risks to the security of the United States or its allies and partners.   Sec. 5. Promoting Innovation and Competition.  5.1. Attracting AI Talent to the United States. (a) Within 90 days of the date of this order, to attract and retain talent in AI and other critical and emerging technologies in the United States economy, the Secretary of State and the Secretary of Homeland Security shall take appropriate steps to:    (i) streamline processing times of visa petitions and applications, including by ensuring timely availability of visa appointments, for noncitizens who seek to travel to the United States to work on, study, or conduct research in AI or other critical and emerging technologies; and    (ii) facilitate continued availability of visa appointments in sufficient volume for applicants with expertise in AI or other critical and emerging technologies.  (b) Within 120 days of the date of this order, the Secretary of State shall:    (i) consider initiating a rulemaking to establish new criteria to designate countries and skills on the Department of States Exchange Visitor Skills List as it relates to the 2-year foreign residence requirement for certain J-1 nonimmigrants, including those skills that are critical to the United States;    (ii) consider publishing updates to the 2009 Revised Exchange Visitor Skills List (74 FR 20108); and    (iii) consider implementing a domestic visa renewal program under 22 C.F.R. 41.111(b) to facilitate the ability of qualified applicants, including highly skilled talent in AI and critical and emerging technologies, to continue their work in the United States without unnecessary interruption.  (c) Within 180 days of the date of this order, the Secretary of State shall:    (i) consider initiating a rulemaking to expand the categories of nonimmigrants who qualify for the domestic visa renewal program covered under 22 C.F.R. 41.111(b) to include academic J-1 research scholars and F-1 students in science, technology, engineering, and mathematics (STEM); and    (ii) establish, to the extent permitted by law and available appropriations, a program to identify and attract top talent in AI and other critical and emerging technologies at universities, research institutions, and the private sector overseas, and to establish and increase connections with that talent to educate them on opportunities and resources for research and employment in the United States, including overseas educational components to inform top STEM talent of nonimmigrant and immigrant visa options and potential expedited adjudication of their visa petitions and applications.  (d) Within 180 days of the date of this order, the Secretary of Homeland Security shall:    (i) review and initiate any policy changes the Secretary determines necessary and appropriate to clarify and modernize immigration pathways for experts in AI and other critical and emerging technologies, including O-1A and EB-1 noncitizens of extraordinary ability; EB-2 advanced-degree holders and noncitizens of exceptional ability; and startup founders in AI and other critical and emerging technologies using the International Entrepreneur Rule; and    (ii) continue its rulemaking process to modernize the H-1B program and enhance its integrity and usage, including by experts in AI and other critical and emerging technologies, and consider initiating a rulemaking to enhance the process for noncitizens, including experts in AI and other critical and emerging technologies and their spouses, dependents, and children, to adjust their status to lawful permanent resident.  (e) Within 45 days of the date of this order, for purposes of considering updates to the Schedule A list of occupations, 20 C.F.R. 656.5, the Secretary of Labor shall publish a request for information (RFI) to solicit public input, including from industry and worker-advocate communities, identifying AI and other STEM-related occupations, as well as additional occupations across the economy, for which there is an insufficient number of ready, willing, able, and qualified United States workers.  (f) The Secretary of State and the Secretary of Homeland Security shall, consistent with applicable law and implementing regulations, use their discretionary authorities to support and attract foreign nationals with special skills in AI and other critical and emerging technologies seeking to work, study, or conduct research in the United States.  (g) Within 120 days of the date of this order, the Secretary of Homeland Security, in consultation with the Secretary of State, the Secretary of Commerce, and the Director of OSTP, shall develop and publish informational resources to better attract and retain experts in AI and other critical and emerging technologies, including:    (i) a clear and comprehensive guide for experts in AI and other critical and emerging technologies to understand their options for working in the United States, to be published in multiple relevant languages on AI.gov; and    (ii) a public report with relevant data on applications, petitions, approvals, and other key indicators of how experts in AI and other critical and emerging technologies have utilized the immigration system through the end of Fiscal Year 2023.  5.2. Promoting Innovation. (a) To develop and strengthen public-private partnerships for advancing innovation, commercialization, and risk-mitigation methods for AI, and to help promote safe, responsible, fair, privacy-protecting, and trustworthy AI systems, the Director of NSF shall take the following steps:    (i) Within 90 days of the date of this order, in coordination with the heads of agencies that the Director of NSF deems appropriate, launch a pilot program implementing the National AI Research Resource (NAIRR), consistent with past recommendations of the NAIRR Task Force. The program shall pursue the infrastructure, governance mechanisms, and user interfaces to pilot an initial integration of distributed computational, data, model, and training resources to be made available to the research community in support of AI-related research and development. The Director of NSF shall identify Federal and private sector computational, data, software, and training resources appropriate for inclusion in the NAIRR pilot program. To assist with such work, within 45 days of the date of this order, the heads of agencies whom the Director of NSF identifies for coordination pursuant to this subsection shall each submit to the Director of NSF a report identifying the agency resources that could be developed and integrated into such a pilot program. These reports shall include a description of such resources, including their current status and availability; their format, structure, or technical specifications; associated agency expertise that will be provided; and the benefits and risks associated with their inclusion in the NAIRR pilot program. The heads of independent regulatory agencies are encouraged to take similar steps, as they deem appropriate.    (ii) Within 150 days of the date of this order, fund and launch at least one NSF Regional Innovation Engine that prioritizes AI-related work, such as AI-related research, societal, or workforce needs.    (iii) Within 540 days of the date of this order, establish at least four new National AI Research Institutes, in addition to the 25 currently funded as of the date of this order.  (b) Within 120 days of the date of this order, to support activities involving high-performance and data-intensive computing, the Secretary of Energy, in coordination with the Director of NSF, shall, in a manner consistent with applicable law and available appropriations, establish a pilot program to enhance existing successful training programs for scientists, with the goal of training 500 new researchers by 2025 capable of meeting the rising demand for AI talent.  (c) To promote innovation and clarify issues related to AI and inventorship of patentable subject matter, the Under Secretary of Commerce for Intellectual Property and Director of the United States Patent and Trademark Office (USPTO Director) shall:    (i) within 120 days of the date of this order, publish guidance to USPTO patent examiners and applicants addressing inventorship and the use of AI, including generative AI, in the inventive process, including illustrative examples in which AI systems play different roles in inventive processes and how, in each example, inventorship issues ought to be analyzed;    (ii) subsequently, within 270 days of the date of this order, issue additional guidance to USPTO patent examiners and applicants to address other considerations at the intersection of AI and IP, which could include, as the USPTO Director deems necessary, updated guidance on patent eligibility to address innovation in AI and critical and emerging technologies; and    (iii) within 270 days of the date of this order or 180 days after theUnited States Copyright Office of the Library of Congress publishes its forthcoming AI study that will address copyright issues raised by AI, whichever comes later, consult with the Director of the United States Copyright Office and issue recommendations to the President on potential executive actions relating to copyright and AI. The recommendations shall address any copyright and related issues discussed in the United States Copyright Offices study, including the scope of protection for works produced using AI and the treatment of copyrighted works in AI training.  (d) Within 180 days of the date of this order, to assist developers of AI in combatting AI-related IP risks, the Secretary of Homeland Security, acting through the Director of the National Intellectual Property Rights Coordination Center, and in consultation with the Attorney General, shall develop a training, analysis, and evaluation program to mitigate AI-related IP risks. Such a program shall:    (i) include appropriate personnel dedicated to collecting and analyzing reports of AI-related IP theft, investigating such incidents with implications for national security, and, where appropriate and consistent with applicable law, pursuing related enforcement actions;    (ii) implement a policy of sharing information and coordinating on such work, as appropriate and consistent with applicable law, with the Federal Bureau of Investigation; United States Customs and Border Protection; other agencies; State and local agencies; and appropriate international organizations, including through work-sharing agreements;    (iii) develop guidance and other appropriate resources to assist private sector actors with mitigating the risks of AI-related IP theft;    (iv) share information and best practices with AI developers and law enforcement personnel to identify incidents, inform stakeholders of current legal requirements, and evaluate AI systems for IP law violations, as well as develop mitigation strategies and resources; and    (v) assist the Intellectual Property Enforcement Coordinator in updating the Intellectual Property Enforcement Coordinator Joint Strategic Plan on Intellectual Property Enforcement to address AI-related issues.  (e) To advance responsible AI innovation by a wide range of healthcare technology developers that promotes the welfare of patients and workers in the healthcare sector, the Secretary of HHS shall identify and, as appropriate and consistent with applicable law and the activities directed in section 8 of this order, prioritize grantmaking and other awards, as well as undertake related efforts, to support responsible AI development and use, including:    (i) collaborating with appropriate private sector actors through HHS programs that may support the advancement of AI-enabled tools that develop personalized immune-response profiles for patients, consistent with section 4 of this order;    (ii) prioritizing the allocation of 2024 Leading Edge Acceleration Project cooperative agreement awards to initiatives that explore ways to improve healthcare-data quality to support the responsible development of AI tools for clinical care, real-world-evidence programs, population health, public health, and related research; and    (iii) accelerating grants awarded through the National Institutes of Health Artificial Intelligence/Machine Learning Consortium to Advance Health Equity and Researcher Diversity (AIM-AHEAD) program and showcasing current AIM-AHEAD activities in underserved communities.  (f) To advance the development of AI systems that improve the quality of veterans healthcare, and in order to support small businesses innovative capacity, the Secretary of Veterans Affairs shall:    (i) within 365 days of the date of this order, host two 3-month nationwide AI Tech Sprint competitions; and    (ii) as part of the AI Tech Sprint competitions and in collaboration with appropriate partners, provide participants access to technical assistance, mentorship opportunities, individualized expert feedback on products under development, potential contract opportunities, and other programming and resources.  (g) Within 180 days of the date of this order, to support the goal of strengthening our Nations resilience against climate change impacts and building an equitable clean energy economy for the future, the Secretary of Energy, in consultation with the Chair of the Federal Energy Regulatory Commission, the Director of OSTP, the Chair of the Council on Environmental Quality, the Assistant to the President and National Climate Advisor, and the heads of other relevant agencies as the Secretary of Energy may deem appropriate, shall:    (i) issue a public report describing the potential for AI to improve planning, permitting, investment, and operations for electric grid infrastructure and to enable the provision of clean, affordable, reliable, resilient, and secure electric power to all Americans;    (ii) develop tools that facilitate building foundation models useful for basic and applied science, including models that streamline permitting and environmental reviews while improving environmental and social outcomes;    (iii) collaborate, as appropriate, with private sector organizations and members of academia to support development of AI tools to mitigate climate change risks;    (iv) take steps to expand partnerships with industry, academia, other agencies, and international allies and partners to utilize the Department of Energys computing capabilities and AI testbeds to build foundation models that support new applications in science and energy, and for national security, including partnerships that increase community preparedness for climate-related risks, enable clean-energy deployment (including addressing delays in permitting reviews), and enhance grid reliability and resilience; and    (v) establish an office to coordinate development of AI and other critical and emerging technologies across Department of Energy programs and the 17 National Laboratories.  (h) Within 180 days of the date of this order, to understand AIs implications for scientific research, the Presidents Council of Advisors on Science and Technology shall submit to the President and make publicly available a report on the potential role of AI, especially given recent developments in AI, in research aimed at tackling major societal and global challenges. The report shall include a discussion of issues that may hinder the effective use of AI in research and practices needed to ensure that AI is used responsibly for research.  5.3. Promoting Competition. (a) The head of each agency developing policies and regulations related to AI shall use their authorities, as appropriate and consistent with applicable law, to promote competition in AI and related technologies, as well as in other markets. Such actions include addressing risks arising from concentrated control of key inputs, taking steps to stop unlawful collusion and prevent dominant firms from disadvantaging competitors, and working to provide new opportunities for small businesses and entrepreneurs. In particular, the Federal Trade Commission is encouraged to consider, as it deems appropriate, whether to exercise the Commissions existing authorities, including its rulemaking authority under the Federal Trade Commission Act, 15 U.S.C. 41 et seq., to ensure fair competition in the AI marketplace and to ensure that consumers and workers are protected from harms that may be enabled by the use of AI.  (b) To promote competition and innovation in the semiconductor industry, recognizing that semiconductors power AI technologies and that their availability is critical to AI competition, the Secretary of Commerce shall, in implementing division A of Public Law 117-167, known as the Creating Helpful Incentives to Produce Semiconductors (CHIPS) Act of 2022, promote competition by:    (i) implementing a flexible membership structure for the National Semiconductor Technology Center that attracts all parts of the semiconductor and microelectronics ecosystem, including startups and small firms;    (ii) implementing mentorship programs to increase interest and participation in the semiconductor industry, including from workers in underserved communities;    (iii) increasing, where appropriate and to the extent permitted by law, the availability of resources to startups and small businesses, including:      (A) funding for physical assets, such as specialty equipment or facilities, to which startups and small businesses may not otherwise have access;      (B) datasets  potentially including test and performance data  collected, aggregated, or shared by CHIPS research and development programs;      (C) workforce development programs;      (D) design and process technology, as well as IP, as appropriate; and      (E) other resources, including technical and intellectual property assistance, that could accelerate commercialization of new technologies by startups and small businesses, as appropriate; and    (iv) considering the inclusion, to the maximum extent possible, and as consistent with applicable law, of competition-increasing measures in notices of funding availability for commercial research-and-development facilities focused on semiconductors, including measures that increase access to facility capacity for startups or small firms developing semiconductors used to power AI technologies.  (c) To support small businesses innovating and commercializing AI, as well as in responsibly adopting and deploying AI, the Administrator of the Small Business Administration shall:    (i) prioritize the allocation of Regional Innovation Cluster program funding for clusters that support planning activities related to the establishment of one or more Small Business AI Innovation and Commercialization Institutes that provide support, technical assistance, and other resources to small businesses seeking to innovate, commercialize, scale, or otherwise advance the development of AI;    (ii) prioritize the allocation of up to $2 million in Growth Accelerator Fund Competition bonus prize funds for accelerators that support the incorporation or expansion of AI-related curricula, training, and technical assistance, or other AI-related resources within their programming; and    (iii) assess the extent to which the eligibility criteria of existing programs, including the State Trade Expansion Program, Technical and Business Assistance funding, and capital-access programs  such as the 7(a) loan program, 504 loan program, and Small Business Investment Company (SBIC) program  support appropriate expenses by small businesses related to the adoption of AI and, if feasible and appropriate, revise eligibility criteria to improve support for these expenses.  (d) The Administrator of the Small Business Administration, in coordination with resource partners, shall conduct outreach regarding, and raise awareness of, opportunities for small businesses to use capital-access programs described in subsection 5.3(c) of this section for eligible AI-related purposes, and for eligible investment funds with AI-related expertise  particularly those seeking to serve or with experience serving underserved communities  to apply for an SBIC license.  Sec. 6. Supporting Workers.(a) To advance the Governments understanding of AIs implications for workers, the following actions shall be taken within 180 days of the date of this order:    (i) The Chairman of the Council of Economic Advisers shall prepare and submit a report to the President on the labor-market effects of AI.    (ii) To evaluate necessary steps for the Federal Government to address AI-related workforce disruptions, the Secretary of Labor shall submit to the President a report analyzing the abilities of agencies to support workers displaced by the adoption of AI and other technological advancements. The report shall, at a minimum:      (A) assess how current or formerly operational Federal programs designed to assist workers facing job disruptions  including unemployment insurance and programs authorized by the Workforce Innovation and Opportunity Act (Public Law 113-128)  could be used to respond to possible future AI-related disruptions; and      (B) identify options, including potential legislative measures, to strengthen or develop additional Federal support for workers displaced by AI and, in consultation with the Secretary of Commerce and the Secretary of Education, strengthen and expand education and training opportunities that provide individuals pathways to occupations related to AI.  (b) To help ensure that AI deployed in the workplace advances employees well-being:    (i) The Secretary of Labor shall, within 180 days of the date of this order and in consultation with other agencies and with outside entities, including labor unions and workers, as the Secretary of Labor deems appropriate, develop and publish principles and best practices for employers that could be used to mitigate AIs potential harms to employees well-being and maximize its potential benefits. The principles and best practices shall include specific steps for employers to take with regard to AI, and shall cover, at a minimum:      (A) job-displacement risks and career opportunities related to AI, including effects on job skills and evaluation of applicants and workers;      (B) labor standards and job quality, including issues related to the equity, protected-activity, compensation, health, and safety implications of AI in the workplace; and      (C) implications for workers of employers AI-related collection and use of data about them, including transparency, engagement, management, and activity protected under worker-protection laws.    (ii) After principles and best practices are developed pursuant to subsection (b)(i) of this section, the heads of agencies shall consider, in consultation with the Secretary of Labor, encouraging the adoption of these guidelines in their programs to the extent appropriate for each program and consistent with applicable law.    (iii) To support employees whose work is monitored or augmented by AI in being compensated appropriately for all of their work time, the Secretary of Labor shall issue guidance to make clear that employers that deploy AI to monitor or augment employees work must continue to comply with protections that ensure that workers are compensated for their hours worked, as defined under the Fair Labor Standards Act of 1938, 29 U.S.C. 201 et seq., and other legal requirements.  (c) To foster a diverse AI-ready workforce, the Director of NSF shall prioritize available resources to support AI-related education and AI-related workforce development through existing programs. The Director shall additionally consult with agencies, as appropriate, to identify further opportunities for agencies to allocate resources for those purposes. The actions by the Director shall use appropriate fellowship programs and awards for these purposes.  Sec. 7. Advancing Equity and Civil Rights.  7.1. Strengthening AI and Civil Rights in the Criminal Justice System. (a) To address unlawful discrimination and other harms that may be exacerbated by AI, the Attorney General shall:    (i) consistent with Executive Order 12250 of November 2, 1980 (Leadership and Coordination of Nondiscrimination Laws), Executive Order 14091, and 28 C.F.R. 0.50-51, coordinate with and support agencies in their implementation and enforcement of existing Federal laws to address civil rights and civil liberties violations and discrimination related to AI;    (ii) direct the Assistant Attorney General in charge of the Civil Rights Division to convene, within 90 days of the date of this order, a meeting of the heads of Federal civil rights offices  for which meeting the heads of civil rights offices within independent regulatory agencies will be encouraged to join  to discuss comprehensive use of their respective authorities and offices to: prevent and address discrimination in the use of automated systems, including algorithmic discrimination; increase coordination between the Department of Justices Civil Rights Division and Federal civil rights offices concerning issues related to AI and algorithmic discrimination; improve external stakeholder engagement to promote public awareness of potential discriminatory uses and effects of AI; and develop, as appropriate, additional training, technical assistance, guidance, or other resources; and     (iii) consider providing, as appropriate and consistent with applicable law, guidance, technical assistance, and training to State, local, Tribal, and territorial investigators and prosecutors on best practices for investigating and prosecuting civil rights violations and discrimination related to automated systems, including AI.  (b) To promote the equitable treatment of individuals and adhere to the Federal Governments fundamental obligation to ensure fair and impartial justice for all, with respect to the use of AI in the criminal justice system, the Attorney General shall, in consultation with the Secretary of Homeland Security and the Director of OSTP:    (i) within 365 days of the date of this order, submit to the President a report that addresses the use of AI in the criminal justice system, including any use in:      (A) sentencing;      (B) parole, supervised release, and probation;      (C) bail, pretrial release, and pretrial detention;      (D) risk assessments, including pretrial, earned time, and early release or transfer to home-confinement determinations;      (E) police surveillance;      (F) crime forecasting and predictive policing, including the ingestion of historical crime data into AI systems to predict high-density hot spots;      (G) prison-management tools; and      (H) forensic analysis;     (ii) within the report set forth in subsection 7.1(b)(i) of this section:      (A) identify areas where AI can enhance law enforcement efficiency and accuracy, consistent with protections for privacy, civil rights, and civil liberties; and      (B) recommend best practices for law enforcement agencies, including safeguards and appropriate use limits for AI, to address the concerns set forth in section 13(e)(i) of Executive Order 14074 as well as the best practices and the guidelines set forth in section 13(e)(iii) of Executive Order 14074; and     (iii) supplement the report set forth in subsection 7.1(b)(i) of this section as appropriate with recommendations to the President, including with respect to requests for necessary legislation.   (c) To advance the presence of relevant technical experts and expertise (such as machine-learning engineers, software and infrastructure engineering, data privacy experts, data scientists, and user experience researchers) among law enforcement professionals:    (i) The interagency working group created pursuant to section 3 of Executive Order 14074 shall, within 180 days of the date of this order, identify and share best practices for recruiting and hiring law enforcement professionals who have the technical skills mentioned in subsection 7.1(c) of this section, and for training law enforcement professionals about responsible application of AI.    (ii) Within 270 days of the date of this order, the Attorney General shall, in consultation with the Secretary of Homeland Security, consider those best practices and the guidance developed under section 3(d) of Executive Order 14074 and, if necessary, develop additional general recommendations for State, local, Tribal, and territorial law enforcement agencies and criminal justice agencies seeking to recruit, hire, train, promote, and retain highly qualified and service-oriented officers and staff with relevant technical knowledge. In considering this guidance, the Attorney General shall consult with State, local, Tribal, and territorial law enforcement agencies, as appropriate.    (iii) Within 365 days of the date of this order, the Attorney General shall review the work conducted pursuant to section 2(b) of Executive Order 14074 and, if appropriate, reassess the existing capacity to investigate law enforcement deprivation of rights under color of law resulting from the use of AI, including through improving and increasing training of Federal law enforcement officers, their supervisors, and Federal prosecutors on how to investigate and prosecute cases related to AI involving the deprivation of rights under color of law pursuant to 18 U.S.C. 242.  7.2. Protecting Civil Rights Related to Government Benefits and Programs. (a) To advance equity and civil rights, consistent with the directives of Executive Order 14091, and in addition to complying with the guidance on Federal Government use of AI issued pursuant to section 10.1(b) of this order, agencies shall use their respective civil rights and civil liberties offices and authorities  as appropriate and consistent with applicable law  to prevent and address unlawful discrimination and other harms that result from uses of AI in Federal Government programs and benefits administration. This directive does not apply to agencies civil or criminal enforcement authorities. Agencies shall consider opportunities to ensure that their respective civil rights and civil liberties offices are appropriately consulted on agency decisions regarding the design, development, acquisition, and use of AI in Federal Government programs and benefits administration. To further these objectives, agencies shall also consider opportunities to increase coordination, communication, and engagement about AI as appropriate with community-based organizations; civil-rights and civil-liberties organizations; academic institutions; industry; State, local, Tribal, and territorial governments; and other stakeholders.   (b) To promote equitable administration of public benefits:    (i) The Secretary of HHS shall, within 180 days of the date of this order and in consultation with relevant agencies, publisha plan, informed by the guidance issued pursuant to section 10.1(b) of this order, addressing the use of automated or algorithmic systems in the implementation by States and localities of public benefits and services administered by the Secretary, such as to promote: assessment of access to benefits by qualified recipients; notice to recipients about the presence of such systems; regular evaluation to detect unjust denials; processes to retain appropriate levels of discretion of expert agency staff; processes to appeal denials to human reviewers; and analysis of whether algorithmic systems in use by benefit programs achieve equitable and just outcomes.    (ii) The Secretary of Agriculture shall, within 180 days of the date of this order and as informed by the guidance issued pursuant to section 10.1(b) of this order, issue guidance to State, local, Tribal, and territorial public-benefits administrators on the use of automated or algorithmic systems in implementing benefits or in providing customer support for benefit programs administered by the Secretary, to ensure that programs using those systems:      (A) maximize program access for eligible recipients;      (B) employ automated or algorithmic systems in a manner consistent with any requirements for using merit systems personnel in public-benefits programs;      (C) identify instances in which reliance on automated or algorithmic systems would require notification by the State, local, Tribal, or territorial government to the Secretary;      (D) identify instances when applicants and participants can appeal benefit determinations to a human reviewer for reconsideration and can receive other customer support from a human being;      (E) enable auditing and, if necessary, remediation of the logic used to arrive at an individual decision or determination to facilitate the evaluation of appeals; and      (F) enable the analysis of whether algorithmic systems in use by benefit programs achieve equitable outcomes.  7.3. Strengthening AI and Civil Rights in the Broader Economy. (a) Within 365 days of the date of this order, to prevent unlawful discrimination from AI used for hiring, the Secretary of Labor shall publish guidance for Federal contractors regarding nondiscrimination in hiring involving AI and other technology-based hiring systems.  (b) To address discrimination and biases against protected groups in housing markets and consumer financial markets, the Director of the Federal Housing Finance Agency and the Director of the Consumer Financial Protection Bureau are encouraged to consider using their authorities, as they deem appropriate, to require their respective regulated entities, where possible, to use appropriate methodologies including AI tools to ensure compliance with Federal law and:    (i) evaluate their underwriting models for bias or disparities affecting protected groups; and    (ii) evaluate automated collateral-valuation and appraisal processes in ways that minimize bias.  (c) Within 180 days of the date of this order, to combat unlawful discrimination enabled by automated or algorithmic tools used to make decisions about access to housing and in other real estate-related transactions, the Secretary of Housing and Urban Development shall, and the Director of the Consumer Financial Protection Bureau is encouraged to, issue additional guidance:    (i) addressing the use of tenant screening systems in ways that may violate the Fair Housing Act (Public Law 90-284), the Fair Credit Reporting Act (Public Law 91-508), or other relevant Federal laws, including how the use of data, such as criminal records, eviction records, and credit information, can lead to discriminatory outcomes in violation of Federal law; and    (ii) addressing how the Fair Housing Act, the Consumer Financial Protection Act of 2010 (title X of Public Law 111-203), or the Equal Credit Opportunity Act (Public Law 93-495) apply to the advertising of housing, credit, and other real estate-related transactions through digital platforms, including those that use algorithms to facilitate advertising delivery, as well as on best practices to avoid violations of Federal law.  (d) To help ensure that people with disabilities benefit from AIs promise while being protected from its risks, including unequal treatment from the use of biometric data like gaze direction, eye tracking, gait analysis, and hand motions, the Architectural and Transportation Barriers Compliance Board is encouraged, as it deems appropriate, to solicit public participation and conduct community engagement; to issue technical assistance and recommendations on the risks and benefits of AI in using biometric data as an input; and to provide people with disabilities access to information and communication technology and transportation services.  Sec. 8. Protecting Consumers, Patients, Passengers, and Students. (a) Independent regulatory agencies are encouraged, as they deem appropriate, to consider using their full range of authorities to protect American consumers from fraud, discrimination, and threats to privacy and to address other risks that may arise from the use of AI, including risks to financial stability, and to consider rulemaking, as well as emphasizing or clarifying where existing regulations and guidance apply to AI, including clarifying the responsibility of regulated entities to conduct due diligence on and monitor any third-party AI services they use, and emphasizing or clarifying requirements and expectations related to the transparency of AI models and regulated entities ability to explain their use of AI models.  (b) To help ensure the safe, responsible deployment and use of AI in the healthcare, public-health, and human-services sectors:    (i) Within 90 days of the date of this order, the Secretary of HHS shall, in consultation with the Secretary of Defense and the Secretary of Veterans Affairs, establish an HHS AI Task Force that shall, within 365 days of its creation, develop a strategic plan that includes policies and frameworks  possibly including regulatory action, as appropriate  on responsible deployment and use of AI and AI-enabled technologies in the health and human services sector (including research and discovery, drug and device safety, healthcare delivery and financing, and public health), and identify appropriate guidance andresources to promote that deployment, including in the following areas:      (A) development, maintenance, and use of predictive and generative AI-enabled technologies in healthcare delivery and financing  including quality measurement, performance improvement, program integrity, benefits administration, and patient experience  taking into account considerations such as appropriate human oversight of the application of AI-generated output;      (B) long-term safety and real-world performance monitoring of AI-enabled technologies in the health and human services sector, including clinically relevant or significant modifications and performance across population groups, with a means to communicate product updates to regulators, developers, and users;      (C) incorporation of equity principles in AI-enabled technologies used in the health and human services sector, using disaggregated data on affected populations and representative population data sets when developing new models, monitoring algorithmic performance against discrimination and bias in existing models, and helping to identify and mitigate discrimination and bias in current systems;      (D) incorporation of safety, privacy, and security standards into the software-development lifecycle for protection of personally identifiable information, including measures to address AI-enhanced cybersecurity threats in the health and human services sector;      (E) development, maintenance, and availability of documentation to help users determine appropriate and safe uses of AI in local settings in the health and human services sector;      (F) work to be done with State, local, Tribal, and territorial health and human services agencies to advance positive use cases and best practices for use of AI in local settings; and      (G) identification of uses of AI to promote workplace efficiency and satisfaction in the health and human services sector, including reducing administrative burdens.    (ii) Within 180 days of the date of this order, the Secretary of HHS shall direct HHS components, as the Secretary of HHS deems appropriate, to develop a strategy, in consultation with relevant agencies, to determine whether AI-enabled technologies in the health and human services sector maintain appropriate levels of quality, including, as appropriate, in the areas described in subsection (b)(i) of this section. This work shall include the development of AI assurance policy  to evaluate important aspects of the performance of AI-enabled healthcare tools  and infrastructure needs for enabling pre-market assessment and post-market oversight of AI-enabled healthcare-technology algorithmic system performance against real-world data.    (iii) Within 180 days of the date of this order, the Secretary of HHS shall, in consultation with relevant agencies as the Secretary of HHS deems appropriate, consider appropriate actions to advance the prompt understanding of, and compliance with, Federal nondiscrimination laws by health and human services providers that receive Federal financial assistance, as well as how those laws relate to AI. Such actions may include:      (A) convening and providing technical assistance to health and human services providers and payers about their obligations under Federal nondiscrimination and privacy laws as they relate to AI and the potential consequences of noncompliance; and      (B) issuing guidance, or taking other action as appropriate, in response to any complaints or other reports of noncompliance with Federal nondiscrimination and privacy laws as they relate to AI.    (iv) Within 365 days of the date of this order, the Secretary of HHS shall, in consultation with the Secretary of Defense and the Secretary of Veterans Affairs, establish an AI safety program that, in partnership with voluntary federally listed Patient Safety Organizations:      (A) establishes a common framework for approaches to identifying and capturing clinical errors resulting from AI deployed in healthcare settings as well as specifications for a central tracking repository for associated incidents that cause harm, including through bias or discrimination, to patients, caregivers, or other parties;      (B) analyzes captured data and generated evidence to develop, wherever appropriate, recommendations, best practices, or other informal guidelines aimed at avoiding these harms; and      (C) disseminates those recommendations, best practices, or other informal guidance to appropriate stakeholders, including healthcare providers.    (v) Within 365 days of the date of this order, the Secretary of HHS shall develop a strategy for regulating the use of AI or AI-enabled tools in drug-development processes. The strategy shall, at a minimum:      (A) define the objectives, goals, and high-level principles required for appropriate regulation throughout each phase of drug development;      (B) identify areas where future rulemaking, guidance, or additional statutory authority may be necessary to implement such a regulatory system;      (C) identify the existing budget, resources, personnel, and potential for new public/private partnerships necessary for such a regulatory system; and      (D) consider risks identified by the actions undertaken to implement section 4 of this order.  (c) To promote the safe and responsible development and use of AI in the transportation sector, in consultation with relevant agencies:    (i) Within 30 days of the date of this order, the Secretary of Transportation shall direct the Nontraditional and Emerging Transportation Technology (NETT) Council to assess the need for information, technical assistance, and guidance regarding the use of AI in transportation. The Secretary of Transportation shall further direct the NETT Council, as part of any such efforts, to:      (A) support existing and future initiatives to pilot transportation-related applications of AI, as they align with policy priorities articulated in the Department of Transportations (DOT) Innovation Principles, including, as appropriate, through technical assistance and connecting stakeholders;      (B) evaluate the outcomes of such pilot programs in order to assess when DOT, or other Federal or State agencies, have sufficient information to take regulatory actions, as appropriate, and recommend appropriate actions when that information is available; and      (C) establish a new DOT Cross-Modal Executive Working Group, which will consist of members from different divisions of DOT and coordinate applicable work among these divisions, to solicit and use relevant input from appropriate stakeholders.    (ii) Within 90 days of the date of this order, the Secretary of Transportation shall direct appropriate Federal Advisory Committees of the DOT to provide advice on the safe and responsible use of AI in transportation. The committees shall include the Advanced Aviation Advisory Committee, the Transforming Transportation Advisory Committee, and the Intelligent Transportation Systems Program Advisory Committee.    (iii) Within 180 days of the date of this order, the Secretary of Transportation shall direct the Advanced Research Projects Agency-Infrastructure (ARPA-I) to explore the transportation-related opportunities and challenges of AI  including regarding software-defined AI enhancements impacting autonomous mobility ecosystems. The Secretary of Transportation shall further encourage ARPA-I to prioritize the allocation of grants to those opportunities, as appropriate. The work tasked to ARPA-I shall include soliciting input on these topics through a public consultation process, such as an RFI.  (d) To help ensure the responsible development and deployment of AI in the education sector, the Secretary of Education shall, within 365 days of the date of this order, develop resources, policies, and guidance regarding AI. These resources shall address safe, responsible, and nondiscriminatory uses of AI in education, including the impact AI systems have on vulnerable and underserved communities, and shall be developed in consultation with stakeholders as appropriate. They shall also include the development of an AI toolkit for education leaders implementing recommendations from the Department of Educations AI and the Future of Teaching and Learning report, including appropriate human review of AI decisions, designing AI systems to enhance trust and safety and align with privacy-related laws and regulations in the educational context, and developing education-specific guardrails.  (e) The Federal Communications Commission is encouraged to consider actions related to how AI will affect communications networks and consumers, including by:    (i) examining the potential for AI to improve spectrum management, increase the efficiency of non-Federal spectrum usage, and expand opportunities for the sharing of non-Federal spectrum;    (ii) coordinating with the National Telecommunications and Information Administration to create opportunities for sharing spectrum between Federal and non-Federal spectrum operations;    (iii) providing support for efforts to improve network security, resiliency, and interoperability using next-generation technologies that incorporate AI, including self-healing networks, 6G, and Open RAN; and    (iv) encouraging, including through rulemaking, efforts to combat unwanted robocalls and robotexts that are facilitated or exacerbated by AI and to deploy AI technologies that better serve consumers by blocking unwanted robocalls and robotexts.  Sec. 9. Protecting Privacy. (a) To mitigate privacy risks potentially exacerbated by AI  including by AIs facilitation of the collection or use of information about individuals, or the making of inferences about individuals  the Director of OMB shall:    (i) evaluate and take steps to identify commercially available information (CAI) procured by agencies, particularly CAI that contains personally identifiable information and including CAI procured from data brokers and CAI procured and processed indirectly through vendors, in appropriate agency inventory and reporting processes (other than when it is used for the purposes of national security);    (ii) evaluate, in consultation with the Federal Privacy Council and the Interagency Council on Statistical Policy, agency standards and procedures associated with the collection, processing, maintenance, use, sharing, dissemination, and disposition of CAI that contains personally identifiable information (other than when it is used for the purposes of national security) to inform potential guidance to agencies on ways to mitigate privacy and confidentiality risks from agencies activities related to CAI;    (iii) within 180 days of the date of this order, in consultation with the Attorney General, the Assistant to the President for Economic Policy, and the Director of OSTP, issue an RFI to inform potential revisions to guidance to agencies on implementing the privacy provisions of the E-Government Act of 2002 (PublicLaw107-347). The RFI shall seek feedback regarding howprivacy impact assessmentsmay bemore effective at mitigating privacy risks, including those that are further exacerbated by AI; and    (iv) take such steps as are necessary and appropriate, consistent with applicable law, to support and advance the near-term actions and long-term strategy identified through the RFI process, including issuing new or updated guidance or RFIs or consulting other agencies or the Federal Privacy Council.  (b) Within 365 days of the date of this order, to better enable agencies to use PETs to safeguard Americans privacy from the potential threats exacerbated by AI, the Secretary of Commerce, acting through the Director of NIST, shall create guidelines for agencies to evaluate the efficacy of differential-privacy-guarantee protections, including for AI. The guidelines shall, at a minimum, describe the significant factors that bear on differential-privacy safeguards and common risks to realizing differential privacy in practice.  (c) To advance research, development, and implementation related to PETs:    (i) Within 120 days of the date of this order, the Director of NSF, in collaboration with the Secretary of Energy, shall fund the creation of a Research Coordination Network (RCN) dedicated to advancing privacy research and, in particular, the development, deployment, and scaling of PETs. The RCN shall serve to enable privacy researchers to share information, coordinate and collaborate in research, and develop standards for the privacy-research community.     (ii) Within 240 days of the date of this order, the Director of NSF shall engage with agencies to identify ongoing work and potential opportunities to incorporate PETs into their operations. The Director of NSF shall, where feasible and appropriate, prioritize research  including efforts to translate research discoveries into practical applications  that encourage the adoption of leading-edge PETs solutions for agencies use, including through research engagement through the RCN described in subsection (c)(i) of this section.    (iii) The Director of NSF shall use the results of the United States-United Kingdom PETs Prize Challenge to inform the approaches taken, and opportunities identified, for PETs research and adoption.  Sec. 10. Advancing Federal Government Use of AI.  10.1. Providing Guidance for AI Management. (a) To coordinate the use of AI across the Federal Government, within 60 days of the date of this order and on an ongoing basis as necessary, the Director of OMB shall convene and chair an interagency council to coordinate the development and use of AI in agencies programs and operations, other than the use of AI in national security systems. The Director of OSTP shall serve as Vice Chair for the interagency council. The interagency councils membership shall include, at minimum, the heads of the agencies identified in 31 U.S.C. 901(b), the Director of National Intelligence, and other agencies as identified by the Chair. Until agencies designate their permanent Chief AI Officers consistent with the guidance described in subsection 10.1(b) of this section, they shall be represented on the interagency council by an appropriate official at the Assistant Secretary level or equivalent, as determined by the head of each agency.   (b) To provide guidance on Federal Government use of AI, within 150 days of the date of this order and updated periodically thereafter, the Director of OMB, in coordination with the Director of OSTP, and in consultation with the interagency council established in subsection 10.1(a) of this section, shall issue guidance to agencies to strengthen the effective and appropriate use of AI, advance AI innovation, and manage risks from AI in the Federal Government. The Director of OMBs guidance shall specify, to the extent appropriate and consistent with applicable law:    (i) the requirement to designate at each agency within 60 days of the issuance of the guidance a Chief Artificial Intelligence Officer who shall hold primary responsibility in their agency, in coordination with other responsible officials, for coordinating their agencys use of AI, promoting AI innovation in their agency, managing risks from their agencys use of AI, and carrying out the responsibilities described in section 8(c) of Executive Order 13960 of December 3, 2020 (Promoting the Use of Trustworthy Artificial Intelligence in the Federal Government), and section 4(b) of Executive Order 14091;    (ii) the Chief Artificial Intelligence Officers roles, responsibilities, seniority, position, and reporting structures;    (iii) for the agencies identified in 31 U.S.C. 901(b), the creation of internal Artificial Intelligence Governance Boards, or other appropriate mechanisms, at each agency within 60 days of the issuance of the guidance to coordinate and govern AI issues through relevant senior leaders from across the agency;    (iv) required minimum risk-management practices for Government uses of AI that impact peoples rights or safety, including, where appropriate, the following practices derived from OSTPs Blueprint for an AI Bill of Rights and the NIST AI Risk Management Framework: conducting public consultation; assessing data quality; assessing and mitigating disparate impacts and algorithmic discrimination; providing notice of the use of AI; continuously monitoring and evaluating deployed AI; and granting human consideration and remedies for adverse decisions made using AI;    (v) specific Federal Government uses of AI that are presumed by default to impact rights or safety;    (vi) recommendations to agencies to reduce barriers to the responsible use of AI, including barriers related to information technology infrastructure, data, workforce, budgetary restrictions, and cybersecurity processes;    (vii) requirements that agencies identified in 31 U.S.C. 901(b) develop AI strategies and pursue high-impact AI use cases;    (viii) in consultation with the Secretary of Commerce, the Secretary of Homeland Security, and the heads of other appropriate agencies as determined by the Director of OMB, recommendations to agencies regarding:      (A) external testing for AI, including AI red-teaming for generative AI, to be developed in coordination with the Cybersecurity and Infrastructure Security Agency;      (B) testing and safeguards against discriminatory, misleading, inflammatory, unsafe, or deceptive outputs, as well as against producing child sexual abuse material and against producing non-consensual intimate imagery of real individuals (including intimate digital depictions of the body or body parts of an identifiable individual), for generative AI;      (C) reasonable steps to watermark or otherwise label output from generative AI;      (D) application of the mandatory minimum risk-management practices defined under subsection 10.1(b)(iv) of this section to procured AI;      (E) independent evaluation of vendors claims concerning both the effectiveness and risk mitigation of their AI offerings;      (F) documentation and oversight of procured AI;      (G) maximizing the value to agencies when relying on contractors to use and enrich Federal Government data for the purposes of AI development and operation;      (H) provision of incentives for the continuous improvement of procured AI; and      (I) training on AI in accordance with the principles set out in this order and in other references related to AI listed herein; and    (ix) requirements for public reporting on compliance with this guidance.  (c) To track agencies AI progress, within 60 days of the issuance of the guidance established in subsection 10.1(b) of this section and updated periodically thereafter, the Director of OMB shall develop a method for agencies to track and assess their ability to adopt AI into their programs and operations, manage its risks, and comply with Federal policy on AI. This method should draw on existing related efforts as appropriate and should address, as appropriate and consistent with applicable law, the practices, processes, and capabilities necessary for responsible AI adoption, training, and governance across, at a minimum, the areas of information technology infrastructure, data, workforce, leadership, and risk management.   (d) To assist agencies in implementing the guidance to be established in subsection 10.1(b) of this section:    (i) within 90 days of the issuance of the guidance, the Secretary of Commerce, acting through the Director of NIST, and in coordination with the Director of OMB and the Director of OSTP, shall develop guidelines, tools, and practices to support implementation of the minimum risk-management practices described in subsection 10.1(b)(iv) of this section; and    (ii) within 180 days of the issuance of the guidance, the Director of OMB shall develop an initial means to ensure that agency contracts for the acquisition of AI systems and services align with the guidance described in subsection 10.1(b) of this section and advance the other aims identified in section 7224(d)(1) of the Advancing American AI Act (Public Law 117-263, div. G, title LXXII, subtitle B).  (e) To improve transparency for agencies use of AI, the Director of OMB shall, on an annual basis, issue instructions to agencies for the collection, reporting, and publication of agency AI use cases, pursuant to section 7225(a) of the Advancing American AI Act. Through these instructions, the Director shall, as appropriate, expand agencies reporting on how they are managing risks from their AI use cases and update or replace the guidance originally established in section 5 of Executive Order 13960.  (f) To advance the responsible and secure use of generative AI in the Federal Government:    (i) As generative AI products become widely available and common in online platforms, agencies are discouraged from imposing broad general bans or blocks on agency use of generative AI. Agencies should instead limit access, as necessary, to specific generative AI services based on specific risk assessments; establish guidelines and limitations on the appropriate use of generative AI; and, with appropriate safeguards in place, provide their personnel and programs with access to secure and reliable generative AI capabilities, at least for the purposes of experimentation and routine tasks that carry a low risk of impacting Americans rights. To protect Federal Government information, agencies are also encouraged to employ risk-management practices, such as training their staff on proper use, protection, dissemination, and disposition of Federal information; negotiating appropriate terms of service with vendors; implementing measures designed to ensure compliance with record-keeping, cybersecurity, confidentiality, privacy, and data protection requirements; and deploying other measures to prevent misuse of Federal Government information in generative AI.    (ii) Within 90 days of the date of this order, the Administrator of General Services, in coordination with the Director of OMB, and in consultation with the Federal Secure Cloud Advisory Committee and other relevant agencies as the Administrator of General Services may deem appropriate, shall develop and issue a framework for prioritizing critical and emerging technologies offerings in the Federal Risk and Authorization Management Program authorization process, starting with generative AI offerings that have the primary purpose of providing large language model-based chat interfaces, code-generation and debugging tools, and associated application programming interfaces, as well as prompt-based image generators. This framework shall apply for no less than 2 years from the date of its issuance. Agency Chief Information Officers, Chief Information Security Officers, and authorizing officials are also encouraged to prioritize generative AI and other critical and emerging technologies in granting authorities for agency operation of information technology systems and any other applicable release or oversight processes, using continuous authorizations and approvals wherever feasible.    (iii) Within 180 days of the date of this order, the Director of the Office of Personnel Management (OPM), in coordination with the Director of OMB, shall develop guidance on the use of generative AI for work by the Federal workforce.  (g) Within 30 days of the date of this order, to increase agency investment in AI, the Technology Modernization Board shall consider, as it deems appropriate and consistent with applicable law, prioritizing funding for AI projects for the Technology Modernization Fund for a period of at least 1 year. Agencies are encouraged to submit to the Technology Modernization Fund project funding proposals that include AI  and particularly generative AI  in service of mission delivery.  (h) Within 180 days of the date of this order, to facilitate agencies access to commercial AI capabilities, the Administrator of General Services, in coordination with the Director of OMB, and in collaboration with the Secretary of Defense, the Secretary of Homeland Security, the Director of National Intelligence, the Administrator of the National Aeronautics and Space Administration, and the head of any other agency identified by the Administrator of General Services, shall take steps consistent with applicable law to facilitate access to Federal Government-wide acquisition solutions for specified types of AI services and products, such as through the creation of a resource guide or other tools to assist the acquisition workforce. Specified types of AI capabilities shall include generative AI and specialized computing infrastructure.  (i) The initial means, instructions, and guidance issued pursuant to subsections 10.1(a)-(h) of this section shall not apply to AI when it is used as a component of a national security system, which shall be addressed by the proposed National Security Memorandum described in subsection 4.8 of this order.  10.2. Increasing AI Talent in Government. (a) Within 45 days of the date of this order, to plan a national surge in AI talent in the Federal Government, the Director of OSTP and the Director of OMB, in consultation with the Assistant to the President for National Security Affairs, the Assistant to the President for Economic Policy, the Assistant to the President and Domestic Policy Advisor, and the Assistant to the President and Director of the Gender Policy Council, shall identify priority mission areas for increased Federal Government AI talent, the types of talent that are highest priority to recruit and develop to ensure adequate implementation of this order and use of relevant enforcement and regulatory authorities to address AI risks, and accelerated hiring pathways.  (b) Within 45 days of the date of this order, to coordinate rapid advances in the capacity of the Federal AI workforce, the Assistant to the President and Deputy Chief of Staff for Policy, in coordination with the Director of OSTP and the Director of OMB, and in consultation with the National Cyber Director, shall convene an AI and Technology Talent Task Force, which shall include the Director of OPM, the Director of the General Services Administrations Technology Transformation Services, a representative from the Chief Human Capital Officers Council, the Assistant to the President for Presidential Personnel, members of appropriate agency technology talent programs, a representative of the Chief Data Officer Council, and a representative of the interagency council convened under subsection 10.1(a) of this section. The Task Forces purpose shall be to accelerate and track the hiring of AI and AI-enabling talent across the Federal Government, including through the following actions:    (i) within 180 days of the date of this order, tracking and reporting progress to the President on increasing AI capacity across the Federal Government, including submitting to the President a report and recommendations for further increasing capacity;    (ii) identifying and circulating best practices for agencies to attract, hire, retain, train, and empower AI talent, including diversity, inclusion, and accessibility best practices, as well as to plan and budget adequately for AI workforce needs;    (iii) coordinating, in consultation with the Director of OPM, the use of fellowship programs and agency technology-talent programs and human-capital teams to build hiring capabilities, execute hires, and place AI talent to fill staffing gaps; and    (iv) convening a cross-agency forum for ongoing collaboration between AI professionals to share best practices and improve retention.  (c) Within 45 days of the date of this order, to advance existing Federal technology talent programs, the United States Digital Service, Presidential Innovation Fellowship, United States Digital Corps, OPM, and technology talent programs at agencies, with support from the AI and Technology Talent Task Force described in subsection 10.2(b) of this section, as appropriate and permitted by law, shall develop and begin to implement plans to support the rapid recruitment of individuals as part of a Federal Government-wide AI talent surge to accelerate the placement of key AI and AI-enabling talent in high-priority areas and to advance agencies data and technology strategies.  (d) To meet the critical hiring need for qualified personnel to execute the initiatives in this order, and to improve Federal hiring practices for AI talent, the Director of OPM, in consultation with the Director of OMB, shall:    (i) within 60 days of the date of this order, conduct an evidence-based review on the need for hiring and workplace flexibility, including Federal Government-wide direct-hire authority for AI and related data-science and technical roles, and, where the Director of OPM finds such authority is appropriate, grant it; this review shall include the following job series at all General Schedule (GS) levels: IT Specialist (2210), Computer Scientist (1550), Computer Engineer (0854), and Program Analyst (0343) focused on AI, and any subsequently developed job series derived from these job series;    (ii) within 60 days of the date of this order, consider authorizing the use of excepted service appointments under 5 C.F.R. 213.3102(i)(3) to address the need for hiring additional staff to implement directives of this order;    (iii) within 90 days of the date of this order, coordinate a pooled-hiring action informed by subject-matter experts and using skills-based assessments to support the recruitment of AI talent across agencies;    (iv) within 120 days of the date of this order, as appropriate and permitted by law, issue guidance for agency application of existing pay flexibilities or incentive pay programs for AI, AI-enabling, and other key technical positions to facilitate appropriate use of current pay incentives;    (v) within 180 days of the date of this order, establish guidance and policy on skills-based, Federal Government-wide hiring of AI, data, and technology talent in order to increase access to those with nontraditional academic backgrounds to Federal AI, data, and technology roles;    (vi) within 180 days of the date of this order, establish an interagency working group, staffed with both human-resources professionals and recruiting technical experts, to facilitate Federal Government-wide hiring of people with AI and other technical skills;    (vii) within 180 days of the date of this order, review existing Executive Core Qualifications (ECQs) for Senior Executive Service (SES) positions informed by data and AI literacy competencies and, within 365 days of the date of this order, implement new ECQs as appropriate in the SES assessment process;    (viii) within 180 days of the date of this order, complete a review of competencies for civil engineers (GS-0810 series) and, if applicable, other related occupations, and make recommendations for ensuring that adequate AI expertise and credentials in these occupations in the Federal Government reflect the increased use of AI in critical infrastructure; and    (ix) work with the Security, Suitability, and Credentialing Performance Accountability Council to assess mechanisms to streamline and accelerate personnel-vetting requirements, as appropriate, to support AI and fields related to other critical and emerging technologies.   (e) To expand the use of special authorities for AI hiring and retention, agencies shall use all appropriate hiring authorities, including Schedule A(r) excepted service hiring and direct-hire authority, as applicable and appropriate, to hire AI talent and AI-enabling talent rapidly. In addition to participating in OPM-led pooled hiring actions, agencies shall collaborate, where appropriate, on agency-led pooled hiring under the Competitive Service Act of 2015 (Public Law 114-137) and other shared hiring. Agencies shall also, where applicable, use existing incentives, pay-setting authorities, and other compensation flexibilities, similar to those used for cyber and information technology positions, for AI and data-science professionals, as well as plain-language job titles, to help recruit and retain these highly skilled professionals. Agencies shall ensure that AI and other related talent needs (such as technology governance and privacy) are reflected in strategic workforce planning and budget formulation.  (f) To facilitate the hiring of data scientists, the Chief Data Officer Council shall develop a position-description library for data scientists (job series 1560) and a hiring guide to support agencies in hiring data scientists.  (g) To help train the Federal workforce on AI issues, the head of each agency shall implement  or increase the availability and use of  AI training and familiarization programs for employees, managers, and leadership in technology as well as relevant policy, managerial, procurement, regulatory, ethical, governance, and legal fields. Such training programs should, for example, empower Federal employees, managers, and leaders to develop and maintain an operating knowledge of emerging AI technologies to assess opportunities to use these technologies to enhance the delivery of services to the public, and to mitigate risks associated with these technologies. Agencies that provide professional-development opportunities, grants, or funds for their staff should take appropriate steps to ensure that employees who do not serve in traditional technical roles, such as policy, managerial, procurement, or legal fields, are nonetheless eligible to receive funding for programs and courses that focus on AI, machine learning, data science, or other related subject areas.   (h) Within 180 days of the date of this order, to address gaps in AI talent for national defense, the Secretary of Defense shall submit a report to the President through the Assistant to the President forNational Security Affairs that includes:    (i) recommendations to address challenges in the Department of Defenses ability to hire certain noncitizens, including at the Science and Technology Reinvention Laboratories;    (ii) recommendations to clarify and streamline processes for accessing classified information for certain noncitizens through Limited Access Authorization at Department of Defense laboratories;    (iii) recommendations for the appropriate use of enlistment authority under 10 U.S.C. 504(b)(2) for experts in AI and other critical and emerging technologies; and    (iv) recommendations for the Department of Defense and the Department of Homeland Security to work together to enhance the use of appropriate authorities for the retention of certain noncitizens of vital importance to national security by the Department of Defense and the Department of Homeland Security.   Sec. 11. Strengthening American Leadership Abroad. (a) To strengthen United States leadership of global efforts to unlock AIs potential and meet its challenges, the Secretary of State, in coordination with the Assistant to the President for National Security Affairs, the Assistant to the President for Economic Policy, the Director of OSTP, and the heads of other relevant agencies as appropriate, shall:    (i) lead efforts outside of military and intelligence areas to expand engagements with international allies and partners in relevant bilateral, multilateral, and multi-stakeholder fora to advance those allies and partners understanding of existing and planned AI-related guidance and policies of the United States, as well as to enhance international collaboration; and    (ii) lead efforts to establish a strong international framework for managing the risks and harnessing the benefits of AI, including by encouraging international allies and partners to support voluntary commitments similar to those that United States companies have made in pursuit of these objectives and coordinating the activities directed by subsections (b), (c), (d), and (e) of this section, and to develop common regulatory and other accountability principles for foreign nations, including to manage the risk that AI systems pose.  (b) To advance responsible global technical standards for AI development and use outside of military and intelligence areas, the Secretary of Commerce, in coordination with the Secretary of State and the heads of other relevant agencies as appropriate, shall lead preparations for a coordinated effort with key international allies and partners and with standards development organizations, to drive the development and implementation of AI-related consensus standards, cooperation and coordination, and information sharing. In particular, the Secretary of Commerce shall:    (i) within 270 days of the date of this order, establish a plan for global engagement on promoting and developing AI standards, with lines of effort that may include:      (A) AI nomenclature and terminology;      (B) best practices regarding data capture, processing, protection, privacy, confidentiality, handling, and analysis;      (C) trustworthiness, verification, and assurance of AI systems; and      (D) AI risk management;    (ii) within 180 days of the date the plan is established, submit a report to the President on priority actions taken pursuant to the plan; and    (iii) ensure that such efforts are guided by principles set out in the NIST AI Risk Management Framework and United States Government National Standards Strategy for Critical and Emerging Technology.  (c) Within 365 days of the date of this order, to promote safe, responsible, and rights-affirming development and deployment of AI abroad:    (i) The Secretary of State and the Administrator of the United States Agency for International Development, in coordination with the Secretary of Commerce, acting through the director of NIST, shall publish an AI in Global Development Playbook that incorporates the AI Risk Management Frameworks principles, guidelines, and best practices into the social, technical, economic, governance, human rights, and security conditions of contexts beyond United States borders. As part of this work, the Secretary of State and the Administrator of the United States Agency for International Development shall draw on lessons learned from programmatic uses of AI in global development.    (ii) The Secretary of State and the Administrator of the United States Agency for International Development, in collaboration with the Secretary of Energy and the Director of NSF, shall develop a Global AI Research Agenda to guide the objectives and implementation of AI-related research in contexts beyond United States borders. The Agenda shall:      (A) include principles, guidelines, priorities, and best practices aimed at ensuring the safe, responsible, beneficial, and sustainable global development and adoption of AI; and      (B) address AIs labor-market implications across international contexts, including by recommending risk mitigations.   (d) To address cross-border and global AI risks to critical infrastructure, the Secretary of Homeland Security, in coordination with the Secretary of State, and in consultation with the heads of other relevant agencies as the Secretary of Homeland Security deems appropriate, shall lead efforts with international allies and partners to enhance cooperation to prevent, respond to, and recover from potential critical infrastructure disruptions resulting from incorporation of AI into critical infrastructure systems or malicious use of AI.    (i) Within 270 days of the date of this order, the Secretary of Homeland Security, in coordination with the Secretary of State, shall develop a plan for multilateral engagements to encourage the adoption of the AI safety and security guidelines for use by critical infrastructure owners and operators developed in section 4.3(a) of this order.    (ii) Within 180 days of establishing the plan described in subsection (d)(i) of this section, the Secretary of Homeland Security shall submit a report to the President on priority actions to mitigate cross-border risks to critical United States infrastructure.  Sec. 12. Implementation. (a) There is established, within the Executive Office of the President, the White House Artificial Intelligence Council (White House AI Council). The function of the White House AI Council is to coordinate the activities of agencies across the Federal Government to ensure the effective formulation, development, communication, industry engagement related to, and timely implementation of AI-related policies, including policies set forth in this order.  (b) The Assistant to the President and Deputy Chief of Staff for Policy shall serve as Chair of the White House AI Council.  (c) In addition to the Chair, the White House AI Council shall consist of the following members, or their designees:    (i) the Secretary of State;    (ii) the Secretary of the Treasury;    (iii) the Secretary of Defense;    (iv) the Attorney General;    (v) the Secretary of Agriculture;    (vi) the Secretary of Commerce;    (vii) the Secretary of Labor;    (viii) the Secretary of HHS;    (ix) the Secretary of Housing and Urban Development;    (x) the Secretary of Transportation;    (xi) the Secretary of Energy;    (xii) the Secretary of Education;    (xiii) the Secretary of Veterans Affairs;    (xiv) the Secretary of Homeland Security;    (xv) the Administrator of the Small Business Administration;    (xvi) the Administrator of the United States Agency for International Development;    (xvii) the Director of National Intelligence;    (xviii) the Director of NSF;    (xix) the Director of OMB;    (xx) the Director of OSTP;    (xxi) the Assistant to the President for National Security Affairs;    (xxii) the Assistant to the President for Economic Policy;    (xxiii) the Assistant to the President and Domestic Policy Advisor;    (xxiv) the Assistant to the President and Chief of Staff to the Vice President;    (xxv) the Assistant to the President and Director of the Gender Policy Council;    (xxvi) the Chairman of the Council of Economic Advisers;    (xxvii) the National Cyber Director;    (xxviii) the Chairman of the Joint Chiefs of Staff; and    (xxix) the heads of such other agencies, independent regulatory agencies, and executive offices as the Chair may from time to time designate or invite to participate.  (d) The Chair may create and coordinate subgroups consisting of White House AI Council members or their designees, as appropriate.  Sec. 13. General Provisions. (a) Nothing in this order shall be construed to impair or otherwise affect:    (i) the authority granted by law to an executive department or agency, or the head thereof; or    (ii) the functions of the Director of the Office of Management and Budget relating to budgetary, administrative, or legislative proposals.  (b) This order shall be implemented consistent with applicable law and subject to the availability of appropriations.  (c) This order is not intended to, and does not, create any right or benefit, substantive or procedural, enforceable at law or in equity by any party against the United States, its departments, agencies, or entities, its officers, employees, or agents, or any other person. JOSEPH R. BIDEN JR.THE WHITE HOUSE, October 30, 2023.We'll be in touch with the latest information on how President Biden and his administration are working for the American people, as well as ways you can get involved and help our country build back better.\n",
      "\n",
      "\t\t\t\t\t\t\t\t\t\t\t\t\t\t\t\t\t\tOpt in to send and receive text messages from President Biden.\t\t\t\t\t\t\t\t\n",
      "\n",
      "The White House\n",
      "\t\t\t\t\t\t\t\t1600 Pennsylvania Ave NW\n",
      "\t\t\t\t\t\t\t\tWashington, DC 20500\n",
      "\t\t\t\t\t\t\t\n"
     ]
    }
   ],
   "source": [
    "print(text)"
   ]
  },
  {
   "cell_type": "markdown",
   "id": "c8635121",
   "metadata": {},
   "source": [
    "sections = []\n",
    "\n",
    "secText = ''\n",
    "\n",
    "for line in soup.find('body').findAll('p'):\n",
    "    if ('Sec. ' in line.getText()) or ('Section 1.' in line.getText()):\n",
    "        sections.append(secText)\n",
    "        secText = ''\n",
    "        \n",
    "    lineText = line.getText().encode('ascii', 'ignore').decode('ascii')\n",
    "    \n",
    "    secText = secText + lineText\n",
    "sections.append(secText)\n",
    "    #text = text + line.getText()"
   ]
  },
  {
   "cell_type": "code",
   "execution_count": 11,
   "id": "f779c4d3-7d54-48f2-8e27-f589c18e47f8",
   "metadata": {},
   "outputs": [],
   "source": [
    "import nltk\n",
    "from nltk.tokenize import sent_tokenize"
   ]
  },
  {
   "cell_type": "markdown",
   "id": "ae4b136d",
   "metadata": {},
   "source": [
    "# Find the portions of the text that mention a specific topic"
   ]
  },
  {
   "cell_type": "code",
   "execution_count": 12,
   "id": "d2223353",
   "metadata": {},
   "outputs": [],
   "source": [
    "def search_and_return_sentences(document, search_term):\n",
    "    # Tokenize the document into sentences\n",
    "    sentences = sent_tokenize(document)\n",
    "\n",
    "    # Use regular expression to find sentences containing the search term\n",
    "    matching_sentences = [sentence for sentence in sentences if re.search(r'\\b{}\\b'.format(re.escape(search_term)), sentence, flags=re.IGNORECASE)]\n",
    "\n",
    "    return matching_sentences"
   ]
  },
  {
   "cell_type": "code",
   "execution_count": 13,
   "id": "1d4c0020",
   "metadata": {},
   "outputs": [
    {
     "name": "stdout",
     "output_type": "stream",
     "text": [
      "The Federal Government will enforce existing consumer protection laws and principles and enact appropriate safeguards against fraud, unintended bias, discrimination, infringements on privacy, and other harms from AI.\n",
      "\n",
      "\n",
      "(f) Americans privacy and civil liberties must be protected as AI continues advancing.\n",
      "\n",
      "\n",
      "To combat this risk, the Federal Government will ensure that the collection, use, and retention of data is lawful, is secure, and mitigates privacy and confidentiality risks.\n",
      "\n",
      "\n",
      "Agencies shall use available policy and technical tools, including privacy-enhancing technologies (PETs) where appropriate, to protect privacy and to combat the broader legal and societal risks  including the chilling of First Amendment rights  that result from the improper collection and use of peoples data.\n",
      "\n",
      "\n",
      "(j) The term differential-privacy guarantee means protections that allow information about a group to be shared while provably limiting the improper access, use, or disclosure of personal information about particular entities.\n",
      "\n",
      "\n",
      "(z) The term privacy-enhancing technology means any software or hardware solution, technical process, technique, or other technological means of mitigating privacy risks arising from data processing, including by enhancing predictability, manageability, disassociability, storage, security, and confidentiality.\n",
      "\n",
      "\n",
      "These technological means may include secure multiparty computation, homomorphic encryption, zero-knowledge proofs, federated learning, secure enclaves, differential privacy, and synthetic-data-generation tools.\n",
      "\n",
      "\n",
      "This is also sometimes referred to as privacy-preserving technology.\n",
      "\n",
      "\n",
      "(aa) The term privacy impact assessment has the meaning set forth in OMB Circular No.\n",
      "\n",
      "\n",
      "(a) To develop and strengthen public-private partnerships for advancing innovation, commercialization, and risk-mitigation methods for AI, and to help promote safe, responsible, fair, privacy-protecting, and trustworthy AI systems, the Director of NSF shall take the following steps:    (i) Within 90 days of the date of this order, in coordination with the heads of agencies that the Director of NSF deems appropriate, launch a pilot program implementing the National AI Research Resource (NAIRR), consistent with past recommendations of the NAIRR Task Force.\n",
      "\n",
      "\n",
      "(b) To promote the equitable treatment of individuals and adhere to the Federal Governments fundamental obligation to ensure fair and impartial justice for all, with respect to the use of AI in the criminal justice system, the Attorney General shall, in consultation with the Secretary of Homeland Security and the Director of OSTP:    (i) within 365 days of the date of this order, submit to the President a report that addresses the use of AI in the criminal justice system, including any use in:      (A) sentencing;      (B) parole, supervised release, and probation;      (C) bail, pretrial release, and pretrial detention;      (D) risk assessments, including pretrial, earned time, and early release or transfer to home-confinement determinations;      (E) police surveillance;      (F) crime forecasting and predictive policing, including the ingestion of historical crime data into AI systems to predict high-density hot spots;      (G) prison-management tools; and      (H) forensic analysis;     (ii) within the report set forth in subsection 7.1(b)(i) of this section:      (A) identify areas where AI can enhance law enforcement efficiency and accuracy, consistent with protections for privacy, civil rights, and civil liberties; and      (B) recommend best practices for law enforcement agencies, including safeguards and appropriate use limits for AI, to address the concerns set forth in section 13(e)(i) of Executive Order 14074 as well as the best practices and the guidelines set forth in section 13(e)(iii) of Executive Order 14074; and     (iii) supplement the report set forth in subsection 7.1(b)(i) of this section as appropriate with recommendations to the President, including with respect to requests for necessary legislation.\n",
      "\n",
      "\n",
      "(c) To advance the presence of relevant technical experts and expertise (such as machine-learning engineers, software and infrastructure engineering, data privacy experts, data scientists, and user experience researchers) among law enforcement professionals:    (i) The interagency working group created pursuant to section 3 of Executive Order 14074 shall, within 180 days of the date of this order, identify and share best practices for recruiting and hiring law enforcement professionals who have the technical skills mentioned in subsection 7.1(c) of this section, and for training law enforcement professionals about responsible application of AI.\n",
      "\n",
      "\n",
      "(a) Independent regulatory agencies are encouraged, as they deem appropriate, to consider using their full range of authorities to protect American consumers from fraud, discrimination, and threats to privacy and to address other risks that may arise from the use of AI, including risks to financial stability, and to consider rulemaking, as well as emphasizing or clarifying where existing regulations and guidance apply to AI, including clarifying the responsibility of regulated entities to conduct due diligence on and monitor any third-party AI services they use, and emphasizing or clarifying requirements and expectations related to the transparency of AI models and regulated entities ability to explain their use of AI models.\n",
      "\n",
      "\n",
      "(b) To help ensure the safe, responsible deployment and use of AI in the healthcare, public-health, and human-services sectors:    (i) Within 90 days of the date of this order, the Secretary of HHS shall, in consultation with the Secretary of Defense and the Secretary of Veterans Affairs, establish an HHS AI Task Force that shall, within 365 days of its creation, develop a strategic plan that includes policies and frameworks  possibly including regulatory action, as appropriate  on responsible deployment and use of AI and AI-enabled technologies in the health and human services sector (including research and discovery, drug and device safety, healthcare delivery and financing, and public health), and identify appropriate guidance andresources to promote that deployment, including in the following areas:      (A) development, maintenance, and use of predictive and generative AI-enabled technologies in healthcare delivery and financing  including quality measurement, performance improvement, program integrity, benefits administration, and patient experience  taking into account considerations such as appropriate human oversight of the application of AI-generated output;      (B) long-term safety and real-world performance monitoring of AI-enabled technologies in the health and human services sector, including clinically relevant or significant modifications and performance across population groups, with a means to communicate product updates to regulators, developers, and users;      (C) incorporation of equity principles in AI-enabled technologies used in the health and human services sector, using disaggregated data on affected populations and representative population data sets when developing new models, monitoring algorithmic performance against discrimination and bias in existing models, and helping to identify and mitigate discrimination and bias in current systems;      (D) incorporation of safety, privacy, and security standards into the software-development lifecycle for protection of personally identifiable information, including measures to address AI-enhanced cybersecurity threats in the health and human services sector;      (E) development, maintenance, and availability of documentation to help users determine appropriate and safe uses of AI in local settings in the health and human services sector;      (F) work to be done with State, local, Tribal, and territorial health and human services agencies to advance positive use cases and best practices for use of AI in local settings; and      (G) identification of uses of AI to promote workplace efficiency and satisfaction in the health and human services sector, including reducing administrative burdens.\n",
      "\n",
      "\n",
      "Such actions may include:      (A) convening and providing technical assistance to health and human services providers and payers about their obligations under Federal nondiscrimination and privacy laws as they relate to AI and the potential consequences of noncompliance; and      (B) issuing guidance, or taking other action as appropriate, in response to any complaints or other reports of noncompliance with Federal nondiscrimination and privacy laws as they relate to AI.\n",
      "\n",
      "\n",
      "They shall also include the development of an AI toolkit for education leaders implementing recommendations from the Department of Educations AI and the Future of Teaching and Learning report, including appropriate human review of AI decisions, designing AI systems to enhance trust and safety and align with privacy-related laws and regulations in the educational context, and developing education-specific guardrails.\n",
      "\n",
      "\n",
      "Protecting Privacy.\n",
      "\n",
      "\n",
      "(a) To mitigate privacy risks potentially exacerbated by AI  including by AIs facilitation of the collection or use of information about individuals, or the making of inferences about individuals  the Director of OMB shall:    (i) evaluate and take steps to identify commercially available information (CAI) procured by agencies, particularly CAI that contains personally identifiable information and including CAI procured from data brokers and CAI procured and processed indirectly through vendors, in appropriate agency inventory and reporting processes (other than when it is used for the purposes of national security);    (ii) evaluate, in consultation with the Federal Privacy Council and the Interagency Council on Statistical Policy, agency standards and procedures associated with the collection, processing, maintenance, use, sharing, dissemination, and disposition of CAI that contains personally identifiable information (other than when it is used for the purposes of national security) to inform potential guidance to agencies on ways to mitigate privacy and confidentiality risks from agencies activities related to CAI;    (iii) within 180 days of the date of this order, in consultation with the Attorney General, the Assistant to the President for Economic Policy, and the Director of OSTP, issue an RFI to inform potential revisions to guidance to agencies on implementing the privacy provisions of the E-Government Act of 2002 (PublicLaw107-347).\n",
      "\n",
      "\n",
      "The RFI shall seek feedback regarding howprivacy impact assessmentsmay bemore effective at mitigating privacy risks, including those that are further exacerbated by AI; and    (iv) take such steps as are necessary and appropriate, consistent with applicable law, to support and advance the near-term actions and long-term strategy identified through the RFI process, including issuing new or updated guidance or RFIs or consulting other agencies or the Federal Privacy Council.\n",
      "\n",
      "\n",
      "(b) Within 365 days of the date of this order, to better enable agencies to use PETs to safeguard Americans privacy from the potential threats exacerbated by AI, the Secretary of Commerce, acting through the Director of NIST, shall create guidelines for agencies to evaluate the efficacy of differential-privacy-guarantee protections, including for AI.\n",
      "\n",
      "\n",
      "The guidelines shall, at a minimum, describe the significant factors that bear on differential-privacy safeguards and common risks to realizing differential privacy in practice.\n",
      "\n",
      "\n",
      "(c) To advance research, development, and implementation related to PETs:    (i) Within 120 days of the date of this order, the Director of NSF, in collaboration with the Secretary of Energy, shall fund the creation of a Research Coordination Network (RCN) dedicated to advancing privacy research and, in particular, the development, deployment, and scaling of PETs.\n",
      "\n",
      "\n",
      "The RCN shall serve to enable privacy researchers to share information, coordinate and collaborate in research, and develop standards for the privacy-research community.\n",
      "\n",
      "\n",
      "To protect Federal Government information, agencies are also encouraged to employ risk-management practices, such as training their staff on proper use, protection, dissemination, and disposition of Federal information; negotiating appropriate terms of service with vendors; implementing measures designed to ensure compliance with record-keeping, cybersecurity, confidentiality, privacy, and data protection requirements; and deploying other measures to prevent misuse of Federal Government information in generative AI.\n",
      "\n",
      "\n",
      "Agencies shall ensure that AI and other related talent needs (such as technology governance and privacy) are reflected in strategic workforce planning and budget formulation.\n",
      "\n",
      "\n",
      "In particular, the Secretary of Commerce shall:    (i) within 270 days of the date of this order, establish a plan for global engagement on promoting and developing AI standards, with lines of effort that may include:      (A) AI nomenclature and terminology;      (B) best practices regarding data capture, processing, protection, privacy, confidentiality, handling, and analysis;      (C) trustworthiness, verification, and assurance of AI systems; and      (D) AI risk management;    (ii) within 180 days of the date the plan is established, submit a report to the President on priority actions taken pursuant to the plan; and    (iii) ensure that such efforts are guided by principles set out in the NIST AI Risk Management Framework and United States Government National Standards Strategy for Critical and Emerging Technology.\n",
      "\n",
      "\n"
     ]
    }
   ],
   "source": [
    "search_term = \"Privacy\"\n",
    "result_sentences = search_and_return_sentences(text, search_term)\n",
    "\n",
    "# Display the sentences containing the search term\n",
    "for sentence in result_sentences:\n",
    "    print(sentence)\n",
    "    print('\\n')"
   ]
  },
  {
   "cell_type": "markdown",
   "id": "b4f745cf",
   "metadata": {},
   "source": [
    "# Find the portions of the text that mention a specific topic and highlight the topic"
   ]
  },
  {
   "cell_type": "code",
   "execution_count": 14,
   "id": "cbee9ff3",
   "metadata": {},
   "outputs": [],
   "source": [
    "def highlight_search_term(sentence, search_term):\n",
    "    # Use HTML to highlight the search term in the sentence\n",
    "    highlighted_sentence = re.sub(r'\\b{}\\b'.format(re.escape(search_term)),\n",
    "                                  '<span style=\"color: red; font-weight: bold;\">{}</span>'.format(search_term),\n",
    "                                  sentence, flags=re.IGNORECASE)\n",
    "    return highlighted_sentence"
   ]
  },
  {
   "cell_type": "code",
   "execution_count": 15,
   "id": "b501f797",
   "metadata": {},
   "outputs": [],
   "source": [
    "def search_and_return_highlighted_sentences(document, search_term):\n",
    "    # Tokenize the document into sentences\n",
    "    sentences = sent_tokenize(document)\n",
    "\n",
    "    # Filter and highlight the sentences that contain the search term\n",
    "    matching_sentences = [highlight_search_term(sentence, search_term) for sentence in sentences if re.search(r'\\b{}\\b'.format(re.escape(search_term)), sentence, flags=re.IGNORECASE)]\n",
    "\n",
    "    # Display the highlighted sentences as HTML\n",
    "    display(HTML('<br><br>'.join(matching_sentences)))"
   ]
  },
  {
   "cell_type": "code",
   "execution_count": 16,
   "id": "6440a9f2",
   "metadata": {
    "scrolled": true
   },
   "outputs": [
    {
     "data": {
      "text/html": [
       "We are more than capable of harnessing AI for <span style=\"color: red; font-weight: bold;\">justice</span>, security, and opportunity for all.<br><br>My Administration cannot  and will not  tolerate the use of AI to disadvantage those who are already too often denied equal opportunity and <span style=\"color: red; font-weight: bold;\">justice</span>.<br><br>It is necessary to hold those developing and deploying AI accountable to standards that protect against unlawful discrimination and abuse, including in the <span style=\"color: red; font-weight: bold;\">justice</span> system and the Federal Government.<br><br>Only then can Americans trust AI to advance civil rights, civil liberties, equity, and <span style=\"color: red; font-weight: bold;\">justice</span> for all.<br><br>(l) The term Federal law enforcement agency has the meaning set forth in section 21(a) of Executive Order 14074 of May 25, 2022 (Advancing Effective, Accountable Policing and Criminal <span style=\"color: red; font-weight: bold;\">justice</span> Practices To Enhance Public Trust and Public Safety).<br><br>Strengthening AI and Civil Rights in the Criminal <span style=\"color: red; font-weight: bold;\">justice</span> System.<br><br>(b) To promote the equitable treatment of individuals and adhere to the Federal Governments fundamental obligation to ensure fair and impartial <span style=\"color: red; font-weight: bold;\">justice</span> for all, with respect to the use of AI in the criminal <span style=\"color: red; font-weight: bold;\">justice</span> system, the Attorney General shall, in consultation with the Secretary of Homeland Security and the Director of OSTP:    (i) within 365 days of the date of this order, submit to the President a report that addresses the use of AI in the criminal <span style=\"color: red; font-weight: bold;\">justice</span> system, including any use in:      (A) sentencing;      (B) parole, supervised release, and probation;      (C) bail, pretrial release, and pretrial detention;      (D) risk assessments, including pretrial, earned time, and early release or transfer to home-confinement determinations;      (E) police surveillance;      (F) crime forecasting and predictive policing, including the ingestion of historical crime data into AI systems to predict high-density hot spots;      (G) prison-management tools; and      (H) forensic analysis;     (ii) within the report set forth in subsection 7.1(b)(i) of this section:      (A) identify areas where AI can enhance law enforcement efficiency and accuracy, consistent with protections for privacy, civil rights, and civil liberties; and      (B) recommend best practices for law enforcement agencies, including safeguards and appropriate use limits for AI, to address the concerns set forth in section 13(e)(i) of Executive Order 14074 as well as the best practices and the guidelines set forth in section 13(e)(iii) of Executive Order 14074; and     (iii) supplement the report set forth in subsection 7.1(b)(i) of this section as appropriate with recommendations to the President, including with respect to requests for necessary legislation.<br><br>(ii) Within 270 days of the date of this order, the Attorney General shall, in consultation with the Secretary of Homeland Security, consider those best practices and the guidance developed under section 3(d) of Executive Order 14074 and, if necessary, develop additional general recommendations for State, local, Tribal, and territorial law enforcement agencies and criminal <span style=\"color: red; font-weight: bold;\">justice</span> agencies seeking to recruit, hire, train, promote, and retain highly qualified and service-oriented officers and staff with relevant technical knowledge."
      ],
      "text/plain": [
       "<IPython.core.display.HTML object>"
      ]
     },
     "metadata": {},
     "output_type": "display_data"
    }
   ],
   "source": [
    "search_term = \"justice\"\n",
    "search_and_return_highlighted_sentences(text, search_term)"
   ]
  },
  {
   "cell_type": "code",
   "execution_count": 17,
   "id": "302906b5",
   "metadata": {
    "scrolled": true
   },
   "outputs": [
    {
     "data": {
      "text/html": [
       "The Federal Government will enforce existing consumer protection laws and principles and enact appropriate safeguards against fraud, unintended bias, discrimination, infringements on <span style=\"color: red; font-weight: bold;\">privacy</span>, and other harms from AI.<br><br>(f) Americans <span style=\"color: red; font-weight: bold;\">privacy</span> and civil liberties must be protected as AI continues advancing.<br><br>To combat this risk, the Federal Government will ensure that the collection, use, and retention of data is lawful, is secure, and mitigates <span style=\"color: red; font-weight: bold;\">privacy</span> and confidentiality risks.<br><br>Agencies shall use available policy and technical tools, including <span style=\"color: red; font-weight: bold;\">privacy</span>-enhancing technologies (PETs) where appropriate, to protect <span style=\"color: red; font-weight: bold;\">privacy</span> and to combat the broader legal and societal risks  including the chilling of First Amendment rights  that result from the improper collection and use of peoples data.<br><br>(j) The term differential-<span style=\"color: red; font-weight: bold;\">privacy</span> guarantee means protections that allow information about a group to be shared while provably limiting the improper access, use, or disclosure of personal information about particular entities.<br><br>(z) The term <span style=\"color: red; font-weight: bold;\">privacy</span>-enhancing technology means any software or hardware solution, technical process, technique, or other technological means of mitigating <span style=\"color: red; font-weight: bold;\">privacy</span> risks arising from data processing, including by enhancing predictability, manageability, disassociability, storage, security, and confidentiality.<br><br>These technological means may include secure multiparty computation, homomorphic encryption, zero-knowledge proofs, federated learning, secure enclaves, differential <span style=\"color: red; font-weight: bold;\">privacy</span>, and synthetic-data-generation tools.<br><br>This is also sometimes referred to as <span style=\"color: red; font-weight: bold;\">privacy</span>-preserving technology.<br><br>(aa) The term <span style=\"color: red; font-weight: bold;\">privacy</span> impact assessment has the meaning set forth in OMB Circular No.<br><br>(a) To develop and strengthen public-private partnerships for advancing innovation, commercialization, and risk-mitigation methods for AI, and to help promote safe, responsible, fair, <span style=\"color: red; font-weight: bold;\">privacy</span>-protecting, and trustworthy AI systems, the Director of NSF shall take the following steps:    (i) Within 90 days of the date of this order, in coordination with the heads of agencies that the Director of NSF deems appropriate, launch a pilot program implementing the National AI Research Resource (NAIRR), consistent with past recommendations of the NAIRR Task Force.<br><br>(b) To promote the equitable treatment of individuals and adhere to the Federal Governments fundamental obligation to ensure fair and impartial justice for all, with respect to the use of AI in the criminal justice system, the Attorney General shall, in consultation with the Secretary of Homeland Security and the Director of OSTP:    (i) within 365 days of the date of this order, submit to the President a report that addresses the use of AI in the criminal justice system, including any use in:      (A) sentencing;      (B) parole, supervised release, and probation;      (C) bail, pretrial release, and pretrial detention;      (D) risk assessments, including pretrial, earned time, and early release or transfer to home-confinement determinations;      (E) police surveillance;      (F) crime forecasting and predictive policing, including the ingestion of historical crime data into AI systems to predict high-density hot spots;      (G) prison-management tools; and      (H) forensic analysis;     (ii) within the report set forth in subsection 7.1(b)(i) of this section:      (A) identify areas where AI can enhance law enforcement efficiency and accuracy, consistent with protections for <span style=\"color: red; font-weight: bold;\">privacy</span>, civil rights, and civil liberties; and      (B) recommend best practices for law enforcement agencies, including safeguards and appropriate use limits for AI, to address the concerns set forth in section 13(e)(i) of Executive Order 14074 as well as the best practices and the guidelines set forth in section 13(e)(iii) of Executive Order 14074; and     (iii) supplement the report set forth in subsection 7.1(b)(i) of this section as appropriate with recommendations to the President, including with respect to requests for necessary legislation.<br><br>(c) To advance the presence of relevant technical experts and expertise (such as machine-learning engineers, software and infrastructure engineering, data <span style=\"color: red; font-weight: bold;\">privacy</span> experts, data scientists, and user experience researchers) among law enforcement professionals:    (i) The interagency working group created pursuant to section 3 of Executive Order 14074 shall, within 180 days of the date of this order, identify and share best practices for recruiting and hiring law enforcement professionals who have the technical skills mentioned in subsection 7.1(c) of this section, and for training law enforcement professionals about responsible application of AI.<br><br>(a) Independent regulatory agencies are encouraged, as they deem appropriate, to consider using their full range of authorities to protect American consumers from fraud, discrimination, and threats to <span style=\"color: red; font-weight: bold;\">privacy</span> and to address other risks that may arise from the use of AI, including risks to financial stability, and to consider rulemaking, as well as emphasizing or clarifying where existing regulations and guidance apply to AI, including clarifying the responsibility of regulated entities to conduct due diligence on and monitor any third-party AI services they use, and emphasizing or clarifying requirements and expectations related to the transparency of AI models and regulated entities ability to explain their use of AI models.<br><br>(b) To help ensure the safe, responsible deployment and use of AI in the healthcare, public-health, and human-services sectors:    (i) Within 90 days of the date of this order, the Secretary of HHS shall, in consultation with the Secretary of Defense and the Secretary of Veterans Affairs, establish an HHS AI Task Force that shall, within 365 days of its creation, develop a strategic plan that includes policies and frameworks  possibly including regulatory action, as appropriate  on responsible deployment and use of AI and AI-enabled technologies in the health and human services sector (including research and discovery, drug and device safety, healthcare delivery and financing, and public health), and identify appropriate guidance andresources to promote that deployment, including in the following areas:      (A) development, maintenance, and use of predictive and generative AI-enabled technologies in healthcare delivery and financing  including quality measurement, performance improvement, program integrity, benefits administration, and patient experience  taking into account considerations such as appropriate human oversight of the application of AI-generated output;      (B) long-term safety and real-world performance monitoring of AI-enabled technologies in the health and human services sector, including clinically relevant or significant modifications and performance across population groups, with a means to communicate product updates to regulators, developers, and users;      (C) incorporation of equity principles in AI-enabled technologies used in the health and human services sector, using disaggregated data on affected populations and representative population data sets when developing new models, monitoring algorithmic performance against discrimination and bias in existing models, and helping to identify and mitigate discrimination and bias in current systems;      (D) incorporation of safety, <span style=\"color: red; font-weight: bold;\">privacy</span>, and security standards into the software-development lifecycle for protection of personally identifiable information, including measures to address AI-enhanced cybersecurity threats in the health and human services sector;      (E) development, maintenance, and availability of documentation to help users determine appropriate and safe uses of AI in local settings in the health and human services sector;      (F) work to be done with State, local, Tribal, and territorial health and human services agencies to advance positive use cases and best practices for use of AI in local settings; and      (G) identification of uses of AI to promote workplace efficiency and satisfaction in the health and human services sector, including reducing administrative burdens.<br><br>Such actions may include:      (A) convening and providing technical assistance to health and human services providers and payers about their obligations under Federal nondiscrimination and <span style=\"color: red; font-weight: bold;\">privacy</span> laws as they relate to AI and the potential consequences of noncompliance; and      (B) issuing guidance, or taking other action as appropriate, in response to any complaints or other reports of noncompliance with Federal nondiscrimination and <span style=\"color: red; font-weight: bold;\">privacy</span> laws as they relate to AI.<br><br>They shall also include the development of an AI toolkit for education leaders implementing recommendations from the Department of Educations AI and the Future of Teaching and Learning report, including appropriate human review of AI decisions, designing AI systems to enhance trust and safety and align with <span style=\"color: red; font-weight: bold;\">privacy</span>-related laws and regulations in the educational context, and developing education-specific guardrails.<br><br>Protecting <span style=\"color: red; font-weight: bold;\">privacy</span>.<br><br>(a) To mitigate <span style=\"color: red; font-weight: bold;\">privacy</span> risks potentially exacerbated by AI  including by AIs facilitation of the collection or use of information about individuals, or the making of inferences about individuals  the Director of OMB shall:    (i) evaluate and take steps to identify commercially available information (CAI) procured by agencies, particularly CAI that contains personally identifiable information and including CAI procured from data brokers and CAI procured and processed indirectly through vendors, in appropriate agency inventory and reporting processes (other than when it is used for the purposes of national security);    (ii) evaluate, in consultation with the Federal <span style=\"color: red; font-weight: bold;\">privacy</span> Council and the Interagency Council on Statistical Policy, agency standards and procedures associated with the collection, processing, maintenance, use, sharing, dissemination, and disposition of CAI that contains personally identifiable information (other than when it is used for the purposes of national security) to inform potential guidance to agencies on ways to mitigate <span style=\"color: red; font-weight: bold;\">privacy</span> and confidentiality risks from agencies activities related to CAI;    (iii) within 180 days of the date of this order, in consultation with the Attorney General, the Assistant to the President for Economic Policy, and the Director of OSTP, issue an RFI to inform potential revisions to guidance to agencies on implementing the <span style=\"color: red; font-weight: bold;\">privacy</span> provisions of the E-Government Act of 2002 (PublicLaw107-347).<br><br>The RFI shall seek feedback regarding howprivacy impact assessmentsmay bemore effective at mitigating <span style=\"color: red; font-weight: bold;\">privacy</span> risks, including those that are further exacerbated by AI; and    (iv) take such steps as are necessary and appropriate, consistent with applicable law, to support and advance the near-term actions and long-term strategy identified through the RFI process, including issuing new or updated guidance or RFIs or consulting other agencies or the Federal <span style=\"color: red; font-weight: bold;\">privacy</span> Council.<br><br>(b) Within 365 days of the date of this order, to better enable agencies to use PETs to safeguard Americans <span style=\"color: red; font-weight: bold;\">privacy</span> from the potential threats exacerbated by AI, the Secretary of Commerce, acting through the Director of NIST, shall create guidelines for agencies to evaluate the efficacy of differential-<span style=\"color: red; font-weight: bold;\">privacy</span>-guarantee protections, including for AI.<br><br>The guidelines shall, at a minimum, describe the significant factors that bear on differential-<span style=\"color: red; font-weight: bold;\">privacy</span> safeguards and common risks to realizing differential <span style=\"color: red; font-weight: bold;\">privacy</span> in practice.<br><br>(c) To advance research, development, and implementation related to PETs:    (i) Within 120 days of the date of this order, the Director of NSF, in collaboration with the Secretary of Energy, shall fund the creation of a Research Coordination Network (RCN) dedicated to advancing <span style=\"color: red; font-weight: bold;\">privacy</span> research and, in particular, the development, deployment, and scaling of PETs.<br><br>The RCN shall serve to enable <span style=\"color: red; font-weight: bold;\">privacy</span> researchers to share information, coordinate and collaborate in research, and develop standards for the <span style=\"color: red; font-weight: bold;\">privacy</span>-research community.<br><br>To protect Federal Government information, agencies are also encouraged to employ risk-management practices, such as training their staff on proper use, protection, dissemination, and disposition of Federal information; negotiating appropriate terms of service with vendors; implementing measures designed to ensure compliance with record-keeping, cybersecurity, confidentiality, <span style=\"color: red; font-weight: bold;\">privacy</span>, and data protection requirements; and deploying other measures to prevent misuse of Federal Government information in generative AI.<br><br>Agencies shall ensure that AI and other related talent needs (such as technology governance and <span style=\"color: red; font-weight: bold;\">privacy</span>) are reflected in strategic workforce planning and budget formulation.<br><br>In particular, the Secretary of Commerce shall:    (i) within 270 days of the date of this order, establish a plan for global engagement on promoting and developing AI standards, with lines of effort that may include:      (A) AI nomenclature and terminology;      (B) best practices regarding data capture, processing, protection, <span style=\"color: red; font-weight: bold;\">privacy</span>, confidentiality, handling, and analysis;      (C) trustworthiness, verification, and assurance of AI systems; and      (D) AI risk management;    (ii) within 180 days of the date the plan is established, submit a report to the President on priority actions taken pursuant to the plan; and    (iii) ensure that such efforts are guided by principles set out in the NIST AI Risk Management Framework and United States Government National Standards Strategy for Critical and Emerging Technology."
      ],
      "text/plain": [
       "<IPython.core.display.HTML object>"
      ]
     },
     "metadata": {},
     "output_type": "display_data"
    }
   ],
   "source": [
    "search_term = \"privacy\"\n",
    "search_and_return_highlighted_sentences(text, search_term)"
   ]
  },
  {
   "cell_type": "code",
   "execution_count": null,
   "id": "1f7e807e",
   "metadata": {},
   "outputs": [],
   "source": []
  },
  {
   "cell_type": "markdown",
   "id": "fbfc144f",
   "metadata": {},
   "source": [
    "# Find time sensitive information"
   ]
  },
  {
   "cell_type": "code",
   "execution_count": 18,
   "id": "90ef2db0",
   "metadata": {},
   "outputs": [],
   "source": [
    "def extract_day_values(sentence):\n",
    "    # Use regular expression to extract day values from the sentence\n",
    "    matches = re.findall(r'\\b(\\d+)\\s*days?\\b', sentence, flags=re.IGNORECASE)\n",
    "    return [int(match) for match in matches]"
   ]
  },
  {
   "cell_type": "code",
   "execution_count": null,
   "id": "f8c0b463",
   "metadata": {},
   "outputs": [],
   "source": []
  },
  {
   "cell_type": "code",
   "execution_count": 19,
   "id": "da4f1fb1",
   "metadata": {},
   "outputs": [],
   "source": [
    "def highlight_additional_term(sentence, additional_term):\n",
    "    # Use HTML to highlight the search term in the sentence\n",
    "    highlighted_sentence = re.sub(r'\\b{}\\b'.format(re.escape(additional_term)),\n",
    "                                  '<span style=\"color: blue; font-weight: bold;\">{}</span>'.format(additional_term),\n",
    "                                  sentence, flags=re.IGNORECASE)\n",
    "    return highlighted_sentence"
   ]
  },
  {
   "cell_type": "code",
   "execution_count": 20,
   "id": "263ebfd6",
   "metadata": {},
   "outputs": [],
   "source": [
    "def search_and_return_highlighted_time_mandates(document, additional_term=None):\n",
    "    # Tokenize the document into sentences\n",
    "    sentences = sent_tokenize(document)\n",
    "\n",
    "    # Extract and store day values along with sentences\n",
    "    sentences_with_days = {}\n",
    "    for sentence in sentences:\n",
    "        day_values = extract_day_values(sentence)\n",
    "        if day_values:\n",
    "            for day_value in day_values:\n",
    "                if day_value not in sentences_with_days:\n",
    "                    sentences_with_days[day_value] = []\n",
    "                sentences_with_days[day_value].append(sentence)\n",
    "    # Sort day values in ascending order\n",
    "    sorted_days = sorted(sentences_with_days.keys())\n",
    "\n",
    "    # Display sentences for each day value\n",
    "    for day_value in sorted_days:\n",
    "        # Print the amount of days in bold\n",
    "        display(HTML(f'<span style=\"font-weight: bold;\">{day_value} day mandates:</span>'))\n",
    "\n",
    "        # Display the sentences that contain the specified amount of days\n",
    "        for sentence in sentences_with_days[day_value]:\n",
    "            highlighted_sentence = highlight_search_term(sentence, f'{day_value} days')\n",
    "            if additional_term:\n",
    "                highlighted_sentence = highlight_additional_term(highlighted_sentence, additional_term)\n",
    "            display(HTML(highlighted_sentence))"
   ]
  },
  {
   "cell_type": "code",
   "execution_count": 21,
   "id": "221a9f03",
   "metadata": {
    "scrolled": true
   },
   "outputs": [
    {
     "data": {
      "text/html": [
       "<span style=\"font-weight: bold;\">30 day mandates:</span>"
      ],
      "text/plain": [
       "<IPython.core.display.HTML object>"
      ]
     },
     "metadata": {},
     "output_type": "display_data"
    },
    {
     "data": {
      "text/html": [
       "(c) To promote the safe and <span style=\"color: blue; font-weight: bold;\">responsible</span> development and use of AI in the transportation sector, in consultation with relevant agencies:    (i) Within <span style=\"color: red; font-weight: bold;\">30 days</span> of the date of this order, the Secretary of Transportation shall direct the Nontraditional and Emerging Transportation Technology (NETT) Council to assess the need for information, technical assistance, and guidance regarding the use of AI in transportation."
      ],
      "text/plain": [
       "<IPython.core.display.HTML object>"
      ]
     },
     "metadata": {},
     "output_type": "display_data"
    },
    {
     "data": {
      "text/html": [
       "(g) Within <span style=\"color: red; font-weight: bold;\">30 days</span> of the date of this order, to increase agency investment in AI, the Technology Modernization Board shall consider, as it deems appropriate and consistent with applicable law, prioritizing funding for AI projects for the Technology Modernization Fund for a period of at least 1 year."
      ],
      "text/plain": [
       "<IPython.core.display.HTML object>"
      ]
     },
     "metadata": {},
     "output_type": "display_data"
    },
    {
     "data": {
      "text/html": [
       "<span style=\"font-weight: bold;\">45 day mandates:</span>"
      ],
      "text/plain": [
       "<IPython.core.display.HTML object>"
      ]
     },
     "metadata": {},
     "output_type": "display_data"
    },
    {
     "data": {
      "text/html": [
       "(e) Within <span style=\"color: red; font-weight: bold;\">45 days</span> of the date of this order, for purposes of considering updates to the Schedule A list of occupations, 20 C.F.R."
      ],
      "text/plain": [
       "<IPython.core.display.HTML object>"
      ]
     },
     "metadata": {},
     "output_type": "display_data"
    },
    {
     "data": {
      "text/html": [
       "To assist with such work, within <span style=\"color: red; font-weight: bold;\">45 days</span> of the date of this order, the heads of agencies whom the Director of NSF identifies for coordination pursuant to this subsection shall each submit to the Director of NSF a report identifying the agency resources that could be developed and integrated into such a pilot program."
      ],
      "text/plain": [
       "<IPython.core.display.HTML object>"
      ]
     },
     "metadata": {},
     "output_type": "display_data"
    },
    {
     "data": {
      "text/html": [
       "(a) Within <span style=\"color: red; font-weight: bold;\">45 days</span> of the date of this order, to plan a national surge in AI talent in the Federal Government, the Director of OSTP and the Director of OMB, in consultation with the Assistant to the President for National Security Affairs, the Assistant to the President for Economic Policy, the Assistant to the President and Domestic Policy Advisor, and the Assistant to the President and Director of the Gender Policy Council, shall identify priority mission areas for increased Federal Government AI talent, the types of talent that are highest priority to recruit and develop to ensure adequate implementation of this order and use of relevant enforcement and regulatory authorities to address AI risks, and accelerated hiring pathways."
      ],
      "text/plain": [
       "<IPython.core.display.HTML object>"
      ]
     },
     "metadata": {},
     "output_type": "display_data"
    },
    {
     "data": {
      "text/html": [
       "(b) Within <span style=\"color: red; font-weight: bold;\">45 days</span> of the date of this order, to coordinate rapid advances in the capacity of the Federal AI workforce, the Assistant to the President and Deputy Chief of Staff for Policy, in coordination with the Director of OSTP and the Director of OMB, and in consultation with the National Cyber Director, shall convene an AI and Technology Talent Task Force, which shall include the Director of OPM, the Director of the General Services Administrations Technology Transformation Services, a representative from the Chief Human Capital Officers Council, the Assistant to the President for Presidential Personnel, members of appropriate agency technology talent programs, a representative of the Chief Data Officer Council, and a representative of the interagency council convened under subsection 10.1(a) of this section."
      ],
      "text/plain": [
       "<IPython.core.display.HTML object>"
      ]
     },
     "metadata": {},
     "output_type": "display_data"
    },
    {
     "data": {
      "text/html": [
       "(c) Within <span style=\"color: red; font-weight: bold;\">45 days</span> of the date of this order, to advance existing Federal technology talent programs, the United States Digital Service, Presidential Innovation Fellowship, United States Digital Corps, OPM, and technology talent programs at agencies, with support from the AI and Technology Talent Task Force described in subsection 10.2(b) of this section, as appropriate and permitted by law, shall develop and begin to implement plans to support the rapid recruitment of individuals as part of a Federal Government-wide AI talent surge to accelerate the placement of key AI and AI-enabling talent in high-priority areas and to advance agencies data and technology strategies."
      ],
      "text/plain": [
       "<IPython.core.display.HTML object>"
      ]
     },
     "metadata": {},
     "output_type": "display_data"
    },
    {
     "data": {
      "text/html": [
       "<span style=\"font-weight: bold;\">60 day mandates:</span>"
      ],
      "text/plain": [
       "<IPython.core.display.HTML object>"
      ]
     },
     "metadata": {},
     "output_type": "display_data"
    },
    {
     "data": {
      "text/html": [
       "(a) To coordinate the use of AI across the Federal Government, within <span style=\"color: red; font-weight: bold;\">60 days</span> of the date of this order and on an ongoing basis as necessary, the Director of OMB shall convene and chair an interagency council to coordinate the development and use of AI in agencies programs and operations, other than the use of AI in national security systems."
      ],
      "text/plain": [
       "<IPython.core.display.HTML object>"
      ]
     },
     "metadata": {},
     "output_type": "display_data"
    },
    {
     "data": {
      "text/html": [
       "The Director of OMBs guidance shall specify, to the extent appropriate and consistent with applicable law:    (i) the requirement to designate at each agency within <span style=\"color: red; font-weight: bold;\">60 days</span> of the issuance of the guidance a Chief Artificial Intelligence Officer who shall hold primary responsibility in their agency, in coordination with other <span style=\"color: blue; font-weight: bold;\">responsible</span> officials, for coordinating their agencys use of AI, promoting AI innovation in their agency, managing risks from their agencys use of AI, and carrying out the responsibilities described in section 8(c) of Executive Order 13960 of December 3, 2020 (Promoting the Use of Trustworthy Artificial Intelligence in the Federal Government), and section 4(b) of Executive Order 14091;    (ii) the Chief Artificial Intelligence Officers roles, responsibilities, seniority, position, and reporting structures;    (iii) for the agencies identified in 31 U.S.C."
      ],
      "text/plain": [
       "<IPython.core.display.HTML object>"
      ]
     },
     "metadata": {},
     "output_type": "display_data"
    },
    {
     "data": {
      "text/html": [
       "901(b), the creation of internal Artificial Intelligence Governance Boards, or other appropriate mechanisms, at each agency within <span style=\"color: red; font-weight: bold;\">60 days</span> of the issuance of the guidance to coordinate and govern AI issues through relevant senior leaders from across the agency;    (iv) required minimum risk-management practices for Government uses of AI that impact peoples rights or safety, including, where appropriate, the following practices derived from OSTPs Blueprint for an AI Bill of Rights and the NIST AI Risk Management Framework: conducting public consultation; assessing data quality; assessing and mitigating disparate impacts and algorithmic discrimination; providing notice of the use of AI; continuously monitoring and evaluating deployed AI; and granting human consideration and remedies for adverse decisions made using AI;    (v) specific Federal Government uses of AI that are presumed by default to impact rights or safety;    (vi) recommendations to agencies to reduce barriers to the <span style=\"color: blue; font-weight: bold;\">responsible</span> use of AI, including barriers related to information technology infrastructure, data, workforce, budgetary restrictions, and cybersecurity processes;    (vii) requirements that agencies identified in 31 U.S.C."
      ],
      "text/plain": [
       "<IPython.core.display.HTML object>"
      ]
     },
     "metadata": {},
     "output_type": "display_data"
    },
    {
     "data": {
      "text/html": [
       "(c) To track agencies AI progress, within <span style=\"color: red; font-weight: bold;\">60 days</span> of the issuance of the guidance established in subsection 10.1(b) of this section and updated periodically thereafter, the Director of OMB shall develop a method for agencies to track and assess their ability to adopt AI into their programs and operations, manage its risks, and comply with Federal policy on AI."
      ],
      "text/plain": [
       "<IPython.core.display.HTML object>"
      ]
     },
     "metadata": {},
     "output_type": "display_data"
    },
    {
     "data": {
      "text/html": [
       "(d) To meet the critical hiring need for qualified personnel to execute the initiatives in this order, and to improve Federal hiring practices for AI talent, the Director of OPM, in consultation with the Director of OMB, shall:    (i) within <span style=\"color: red; font-weight: bold;\">60 days</span> of the date of this order, conduct an evidence-based review on the need for hiring and workplace flexibility, including Federal Government-wide direct-hire authority for AI and related data-science and technical roles, and, where the Director of OPM finds such authority is appropriate, grant it; this review shall include the following job series at all General Schedule (GS) levels: IT Specialist (2210), Computer Scientist (1550), Computer Engineer (0854), and Program Analyst (0343) focused on AI, and any subsequently developed job series derived from these job series;    (ii) within <span style=\"color: red; font-weight: bold;\">60 days</span> of the date of this order, consider authorizing the use of excepted service appointments under 5 C.F.R."
      ],
      "text/plain": [
       "<IPython.core.display.HTML object>"
      ]
     },
     "metadata": {},
     "output_type": "display_data"
    },
    {
     "data": {
      "text/html": [
       "(d) To meet the critical hiring need for qualified personnel to execute the initiatives in this order, and to improve Federal hiring practices for AI talent, the Director of OPM, in consultation with the Director of OMB, shall:    (i) within <span style=\"color: red; font-weight: bold;\">60 days</span> of the date of this order, conduct an evidence-based review on the need for hiring and workplace flexibility, including Federal Government-wide direct-hire authority for AI and related data-science and technical roles, and, where the Director of OPM finds such authority is appropriate, grant it; this review shall include the following job series at all General Schedule (GS) levels: IT Specialist (2210), Computer Scientist (1550), Computer Engineer (0854), and Program Analyst (0343) focused on AI, and any subsequently developed job series derived from these job series;    (ii) within <span style=\"color: red; font-weight: bold;\">60 days</span> of the date of this order, consider authorizing the use of excepted service appointments under 5 C.F.R."
      ],
      "text/plain": [
       "<IPython.core.display.HTML object>"
      ]
     },
     "metadata": {},
     "output_type": "display_data"
    },
    {
     "data": {
      "text/html": [
       "<span style=\"font-weight: bold;\">90 day mandates:</span>"
      ],
      "text/plain": [
       "<IPython.core.display.HTML object>"
      ]
     },
     "metadata": {},
     "output_type": "display_data"
    },
    {
     "data": {
      "text/html": [
       "(a) Within <span style=\"color: red; font-weight: bold;\">90 days</span> of the date of this order, to ensure and verify the continuous availability of safe, reliable, and effective AI in accordance with the Defense Production Act, as amended, 50 U.S.C."
      ],
      "text/plain": [
       "<IPython.core.display.HTML object>"
      ]
     },
     "metadata": {},
     "output_type": "display_data"
    },
    {
     "data": {
      "text/html": [
       "(c) Because I find that additional steps must be taken to deal with the national emergency related to significant malicious cyber-enabled activities declared in Executive Order 13694 of April 1, 2015 (Blocking the Property of Certain Persons Engaging in Significant Malicious Cyber-Enabled Activities), as amended by Executive Order 13757 of December 28, 2016 (Taking Additional Steps to Address the National Emergency With Respect to Significant Malicious Cyber-Enabled Activities), and further amended by Executive Order 13984, to address the use of United States Infrastructure as a Service (IaaS) Products by foreign malicious cyber actors, including to impose additional record-keeping obligations with respect to foreign transactions and to assist in the investigation of transactions involving foreign malicious cyber actors, I hereby direct the Secretary of Commerce, within <span style=\"color: red; font-weight: bold;\">90 days</span> of the date of this order, to:    (i) Propose regulations that require United States IaaS Providers to submit a report to the Secretary of Commerce when a foreign person transacts with that United States IaaS Provider to train a large AI model with potential capabilities that could be used in malicious cyber-enabled activity (a training run)."
      ],
      "text/plain": [
       "<IPython.core.display.HTML object>"
      ]
     },
     "metadata": {},
     "output_type": "display_data"
    },
    {
     "data": {
      "text/html": [
       "(a) To ensure the protection of criticalinfrastructure, the following actions shall be taken:    (i) Within <span style=\"color: red; font-weight: bold;\">90 days</span> of the date of this order, and at least annually thereafter, the head of each agency with relevant regulatory authority over critical infrastructure and the heads of relevant SRMAs, in coordination with the Director of the Cybersecurity and Infrastructure Security Agency within the Department of Homeland Security for consideration of cross-sector risks, shall evaluate and provide to the Secretary of Homeland Security an assessment of potential risks related to the use of AI in critical infrastructure sectors involved, including ways in which deploying AI may make critical infrastructure systems more vulnerable to critical failures, physical attacks, and cyber attacks, and shall consider ways to mitigate these vulnerabilities."
      ],
      "text/plain": [
       "<IPython.core.display.HTML object>"
      ]
     },
     "metadata": {},
     "output_type": "display_data"
    },
    {
     "data": {
      "text/html": [
       "(a) Within <span style=\"color: red; font-weight: bold;\">90 days</span> of the date of this order, to attract and retain talent in AI and other critical and emerging technologies in the United States economy, the Secretary of State and the Secretary of Homeland Security shall take appropriate steps to:    (i) streamline processing times of visa petitions and applications, including by ensuring timely availability of visa appointments, for noncitizens who seek to travel to the United States to work on, study, or conduct research in AI or other critical and emerging technologies; and    (ii) facilitate continued availability of visa appointments in sufficient volume for applicants with expertise in AI or other critical and emerging technologies."
      ],
      "text/plain": [
       "<IPython.core.display.HTML object>"
      ]
     },
     "metadata": {},
     "output_type": "display_data"
    },
    {
     "data": {
      "text/html": [
       "(a) To develop and strengthen public-private partnerships for advancing innovation, commercialization, and risk-mitigation methods for AI, and to help promote safe, <span style=\"color: blue; font-weight: bold;\">responsible</span>, fair, privacy-protecting, and trustworthy AI systems, the Director of NSF shall take the following steps:    (i) Within <span style=\"color: red; font-weight: bold;\">90 days</span> of the date of this order, in coordination with the heads of agencies that the Director of NSF deems appropriate, launch a pilot program implementing the National AI Research Resource (NAIRR), consistent with past recommendations of the NAIRR Task Force."
      ],
      "text/plain": [
       "<IPython.core.display.HTML object>"
      ]
     },
     "metadata": {},
     "output_type": "display_data"
    },
    {
     "data": {
      "text/html": [
       "0.50-51, coordinate with and support agencies in their implementation and enforcement of existing Federal laws to address civil rights and civil liberties violations and discrimination related to AI;    (ii) direct the Assistant Attorney General in charge of the Civil Rights Division to convene, within <span style=\"color: red; font-weight: bold;\">90 days</span> of the date of this order, a meeting of the heads of Federal civil rights offices  for which meeting the heads of civil rights offices within independent regulatory agencies will be encouraged to join  to discuss comprehensive use of their respective authorities and offices to: prevent and address discrimination in the use of automated systems, including algorithmic discrimination; increase coordination between the Department of Justices Civil Rights Division and Federal civil rights offices concerning issues related to AI and algorithmic discrimination; improve external stakeholder engagement to promote public awareness of potential discriminatory uses and effects of AI; and develop, as appropriate, additional training, technical assistance, guidance, or other resources; and     (iii) consider providing, as appropriate and consistent with applicable law, guidance, technical assistance, and training to State, local, Tribal, and territorial investigators and prosecutors on best practices for investigating and prosecuting civil rights violations and discrimination related to automated systems, including AI."
      ],
      "text/plain": [
       "<IPython.core.display.HTML object>"
      ]
     },
     "metadata": {},
     "output_type": "display_data"
    },
    {
     "data": {
      "text/html": [
       "(b) To help ensure the safe, <span style=\"color: blue; font-weight: bold;\">responsible</span> deployment and use of AI in the healthcare, public-health, and human-services sectors:    (i) Within <span style=\"color: red; font-weight: bold;\">90 days</span> of the date of this order, the Secretary of HHS shall, in consultation with the Secretary of Defense and the Secretary of Veterans Affairs, establish an HHS AI Task Force that shall, within 365 days of its creation, develop a strategic plan that includes policies and frameworks  possibly including regulatory action, as appropriate  on <span style=\"color: blue; font-weight: bold;\">responsible</span> deployment and use of AI and AI-enabled technologies in the health and human services sector (including research and discovery, drug and device safety, healthcare delivery and financing, and public health), and identify appropriate guidance andresources to promote that deployment, including in the following areas:      (A) development, maintenance, and use of predictive and generative AI-enabled technologies in healthcare delivery and financing  including quality measurement, performance improvement, program integrity, benefits administration, and patient experience  taking into account considerations such as appropriate human oversight of the application of AI-generated output;      (B) long-term safety and real-world performance monitoring of AI-enabled technologies in the health and human services sector, including clinically relevant or significant modifications and performance across population groups, with a means to communicate product updates to regulators, developers, and users;      (C) incorporation of equity principles in AI-enabled technologies used in the health and human services sector, using disaggregated data on affected populations and representative population data sets when developing new models, monitoring algorithmic performance against discrimination and bias in existing models, and helping to identify and mitigate discrimination and bias in current systems;      (D) incorporation of safety, privacy, and security standards into the software-development lifecycle for protection of personally identifiable information, including measures to address AI-enhanced cybersecurity threats in the health and human services sector;      (E) development, maintenance, and availability of documentation to help users determine appropriate and safe uses of AI in local settings in the health and human services sector;      (F) work to be done with State, local, Tribal, and territorial health and human services agencies to advance positive use cases and best practices for use of AI in local settings; and      (G) identification of uses of AI to promote workplace efficiency and satisfaction in the health and human services sector, including reducing administrative burdens."
      ],
      "text/plain": [
       "<IPython.core.display.HTML object>"
      ]
     },
     "metadata": {},
     "output_type": "display_data"
    },
    {
     "data": {
      "text/html": [
       "(ii) Within <span style=\"color: red; font-weight: bold;\">90 days</span> of the date of this order, the Secretary of Transportation shall direct appropriate Federal Advisory Committees of the DOT to provide advice on the safe and <span style=\"color: blue; font-weight: bold;\">responsible</span> use of AI in transportation."
      ],
      "text/plain": [
       "<IPython.core.display.HTML object>"
      ]
     },
     "metadata": {},
     "output_type": "display_data"
    },
    {
     "data": {
      "text/html": [
       "(d) To assist agencies in implementing the guidance to be established in subsection 10.1(b) of this section:    (i) within <span style=\"color: red; font-weight: bold;\">90 days</span> of the issuance of the guidance, the Secretary of Commerce, acting through the Director of NIST, and in coordination with the Director of OMB and the Director of OSTP, shall develop guidelines, tools, and practices to support implementation of the minimum risk-management practices described in subsection 10.1(b)(iv) of this section; and    (ii) within 180 days of the issuance of the guidance, the Director of OMB shall develop an initial means to ensure that agency contracts for the acquisition of AI systems and services align with the guidance described in subsection 10.1(b) of this section and advance the other aims identified in section 7224(d)(1) of the Advancing American AI Act (Public Law 117-263, div."
      ],
      "text/plain": [
       "<IPython.core.display.HTML object>"
      ]
     },
     "metadata": {},
     "output_type": "display_data"
    },
    {
     "data": {
      "text/html": [
       "(ii) Within <span style=\"color: red; font-weight: bold;\">90 days</span> of the date of this order, the Administrator of General Services, in coordination with the Director of OMB, and in consultation with the Federal Secure Cloud Advisory Committee and other relevant agencies as the Administrator of General Services may deem appropriate, shall develop and issue a framework for prioritizing critical and emerging technologies offerings in the Federal Risk and Authorization Management Program authorization process, starting with generative AI offerings that have the primary purpose of providing large language model-based chat interfaces, code-generation and debugging tools, and associated application programming interfaces, as well as prompt-based image generators."
      ],
      "text/plain": [
       "<IPython.core.display.HTML object>"
      ]
     },
     "metadata": {},
     "output_type": "display_data"
    },
    {
     "data": {
      "text/html": [
       "213.3102(i)(3) to address the need for hiring additional staff to implement directives of this order;    (iii) within <span style=\"color: red; font-weight: bold;\">90 days</span> of the date of this order, coordinate a pooled-hiring action informed by subject-matter experts and using skills-based assessments to support the recruitment of AI talent across agencies;    (iv) within 120 days of the date of this order, as appropriate and permitted by law, issue guidance for agency application of existing pay flexibilities or incentive pay programs for AI, AI-enabling, and other key technical positions to facilitate appropriate use of current pay incentives;    (v) within 180 days of the date of this order, establish guidance and policy on skills-based, Federal Government-wide hiring of AI, data, and technology talent in order to increase access to those with nontraditional academic backgrounds to Federal AI, data, and technology roles;    (vi) within 180 days of the date of this order, establish an interagency working group, staffed with both human-resources professionals and recruiting technical experts, to facilitate Federal Government-wide hiring of people with AI and other technical skills;    (vii) within 180 days of the date of this order, review existing Executive Core Qualifications (ECQs) for Senior Executive Service (SES) positions informed by data and AI literacy competencies and, within 365 days of the date of this order, implement new ECQs as appropriate in the SES assessment process;    (viii) within 180 days of the date of this order, complete a review of competencies for civil engineers (GS-0810 series) and, if applicable, other related occupations, and make recommendations for ensuring that adequate AI expertise and credentials in these occupations in the Federal Government reflect the increased use of AI in critical infrastructure; and    (ix) work with the Security, Suitability, and Credentialing Performance Accountability Council to assess mechanisms to streamline and accelerate personnel-vetting requirements, as appropriate, to support AI and fields related to other critical and emerging technologies."
      ],
      "text/plain": [
       "<IPython.core.display.HTML object>"
      ]
     },
     "metadata": {},
     "output_type": "display_data"
    },
    {
     "data": {
      "text/html": [
       "<span style=\"font-weight: bold;\">120 day mandates:</span>"
      ],
      "text/plain": [
       "<IPython.core.display.HTML object>"
      ]
     },
     "metadata": {},
     "output_type": "display_data"
    },
    {
     "data": {
      "text/html": [
       "(ii) Within <span style=\"color: red; font-weight: bold;\">120 days</span> of the date of this order, the Secretary of Defense, in consultation with the Assistant to the President for National Security Affairs and the Director of OSTP, shall enter into a contract with the National Academies of Sciences, Engineering, and Medicine to conduct  and submit to the Secretary of Defense, the Assistant to the President for National Security Affairs, the Director of the Office of Pandemic Preparedness and Response Policy, the Director of OSTP, and the Chair of the Chief Data Officer Council  a study that:      (A) assesses the ways in which AI can increase biosecurity risks, including risks from generative AI models trained on biological data, and makes recommendations on how to mitigate these risks;      (B) considers the national security implications of the use of data and datasets, especially those associated with pathogens and omics studies, that the United States Government hosts, generates, funds the creation of, or otherwise owns, for the training of generative AI models, and makes recommendations on how to mitigate the risks related to the use of these data and datasets;      (C) assesses the ways in which AI applied to biology can be used to reduce biosecurity risks, including recommendations on opportunities to coordinate data and high-performance computing resources; and      (D) considers additional concerns and opportunities at the intersection of AI and synthetic biology that the Secretary of Defense deems appropriate."
      ],
      "text/plain": [
       "<IPython.core.display.HTML object>"
      ]
     },
     "metadata": {},
     "output_type": "display_data"
    },
    {
     "data": {
      "text/html": [
       "(b) Within <span style=\"color: red; font-weight: bold;\">120 days</span> of the date of this order, the Secretary of State shall:    (i) consider initiating a rulemaking to establish new criteria to designate countries and skills on the Department of States Exchange Visitor Skills List as it relates to the 2-year foreign residence requirement for certain J-1 nonimmigrants, including those skills that are critical to the United States;    (ii) consider publishing updates to the 2009 Revised Exchange Visitor Skills List (74 FR 20108); and    (iii) consider implementing a domestic visa renewal program under 22 C.F.R."
      ],
      "text/plain": [
       "<IPython.core.display.HTML object>"
      ]
     },
     "metadata": {},
     "output_type": "display_data"
    },
    {
     "data": {
      "text/html": [
       "(g) Within <span style=\"color: red; font-weight: bold;\">120 days</span> of the date of this order, the Secretary of Homeland Security, in consultation with the Secretary of State, the Secretary of Commerce, and the Director of OSTP, shall develop and publish informational resources to better attract and retain experts in AI and other critical and emerging technologies, including:    (i) a clear and comprehensive guide for experts in AI and other critical and emerging technologies to understand their options for working in the United States, to be published in multiple relevant languages on AI.gov; and    (ii) a public report with relevant data on applications, petitions, approvals, and other key indicators of how experts in AI and other critical and emerging technologies have utilized the immigration system through the end of Fiscal Year 2023."
      ],
      "text/plain": [
       "<IPython.core.display.HTML object>"
      ]
     },
     "metadata": {},
     "output_type": "display_data"
    },
    {
     "data": {
      "text/html": [
       "(b) Within <span style=\"color: red; font-weight: bold;\">120 days</span> of the date of this order, to support activities involving high-performance and data-intensive computing, the Secretary of Energy, in coordination with the Director of NSF, shall, in a manner consistent with applicable law and available appropriations, establish a pilot program to enhance existing successful training programs for scientists, with the goal of training 500 new researchers by 2025 capable of meeting the rising demand for AI talent."
      ],
      "text/plain": [
       "<IPython.core.display.HTML object>"
      ]
     },
     "metadata": {},
     "output_type": "display_data"
    },
    {
     "data": {
      "text/html": [
       "(c) To promote innovation and clarify issues related to AI and inventorship of patentable subject matter, the Under Secretary of Commerce for Intellectual Property and Director of the United States Patent and Trademark Office (USPTO Director) shall:    (i) within <span style=\"color: red; font-weight: bold;\">120 days</span> of the date of this order, publish guidance to USPTO patent examiners and applicants addressing inventorship and the use of AI, including generative AI, in the inventive process, including illustrative examples in which AI systems play different roles in inventive processes and how, in each example, inventorship issues ought to be analyzed;    (ii) subsequently, within 270 days of the date of this order, issue additional guidance to USPTO patent examiners and applicants to address other considerations at the intersection of AI and IP, which could include, as the USPTO Director deems necessary, updated guidance on patent eligibility to address innovation in AI and critical and emerging technologies; and    (iii) within 270 days of the date of this order or 180 days after theUnited States Copyright Office of the Library of Congress publishes its forthcoming AI study that will address copyright issues raised by AI, whichever comes later, consult with the Director of the United States Copyright Office and issue recommendations to the President on potential executive actions relating to copyright and AI."
      ],
      "text/plain": [
       "<IPython.core.display.HTML object>"
      ]
     },
     "metadata": {},
     "output_type": "display_data"
    },
    {
     "data": {
      "text/html": [
       "(c) To advance research, development, and implementation related to PETs:    (i) Within <span style=\"color: red; font-weight: bold;\">120 days</span> of the date of this order, the Director of NSF, in collaboration with the Secretary of Energy, shall fund the creation of a Research Coordination Network (RCN) dedicated to advancing privacy research and, in particular, the development, deployment, and scaling of PETs."
      ],
      "text/plain": [
       "<IPython.core.display.HTML object>"
      ]
     },
     "metadata": {},
     "output_type": "display_data"
    },
    {
     "data": {
      "text/html": [
       "213.3102(i)(3) to address the need for hiring additional staff to implement directives of this order;    (iii) within 90 days of the date of this order, coordinate a pooled-hiring action informed by subject-matter experts and using skills-based assessments to support the recruitment of AI talent across agencies;    (iv) within <span style=\"color: red; font-weight: bold;\">120 days</span> of the date of this order, as appropriate and permitted by law, issue guidance for agency application of existing pay flexibilities or incentive pay programs for AI, AI-enabling, and other key technical positions to facilitate appropriate use of current pay incentives;    (v) within 180 days of the date of this order, establish guidance and policy on skills-based, Federal Government-wide hiring of AI, data, and technology talent in order to increase access to those with nontraditional academic backgrounds to Federal AI, data, and technology roles;    (vi) within 180 days of the date of this order, establish an interagency working group, staffed with both human-resources professionals and recruiting technical experts, to facilitate Federal Government-wide hiring of people with AI and other technical skills;    (vii) within 180 days of the date of this order, review existing Executive Core Qualifications (ECQs) for Senior Executive Service (SES) positions informed by data and AI literacy competencies and, within 365 days of the date of this order, implement new ECQs as appropriate in the SES assessment process;    (viii) within 180 days of the date of this order, complete a review of competencies for civil engineers (GS-0810 series) and, if applicable, other related occupations, and make recommendations for ensuring that adequate AI expertise and credentials in these occupations in the Federal Government reflect the increased use of AI in critical infrastructure; and    (ix) work with the Security, Suitability, and Credentialing Performance Accountability Council to assess mechanisms to streamline and accelerate personnel-vetting requirements, as appropriate, to support AI and fields related to other critical and emerging technologies."
      ],
      "text/plain": [
       "<IPython.core.display.HTML object>"
      ]
     },
     "metadata": {},
     "output_type": "display_data"
    },
    {
     "data": {
      "text/html": [
       "<span style=\"font-weight: bold;\">150 day mandates:</span>"
      ],
      "text/plain": [
       "<IPython.core.display.HTML object>"
      ]
     },
     "metadata": {},
     "output_type": "display_data"
    },
    {
     "data": {
      "text/html": [
       "(ii) Within <span style=\"color: red; font-weight: bold;\">150 days</span> of the date of this order, the Secretary of the Treasury shall issue a public report on best practices for financial institutions to manage AI-specific cybersecurity risks."
      ],
      "text/plain": [
       "<IPython.core.display.HTML object>"
      ]
     },
     "metadata": {},
     "output_type": "display_data"
    },
    {
     "data": {
      "text/html": [
       "(ii) Within <span style=\"color: red; font-weight: bold;\">150 days</span> of the date of this order, fund and launch at least one NSF Regional Innovation Engine that prioritizes AI-related work, such as AI-related research, societal, or workforce needs."
      ],
      "text/plain": [
       "<IPython.core.display.HTML object>"
      ]
     },
     "metadata": {},
     "output_type": "display_data"
    },
    {
     "data": {
      "text/html": [
       "(b) To provide guidance on Federal Government use of AI, within <span style=\"color: red; font-weight: bold;\">150 days</span> of the date of this order and updated periodically thereafter, the Director of OMB, in coordination with the Director of OSTP, and in consultation with the interagency council established in subsection 10.1(a) of this section, shall issue guidance to agencies to strengthen the effective and appropriate use of AI, advance AI innovation, and manage risks from AI in the Federal Government."
      ],
      "text/plain": [
       "<IPython.core.display.HTML object>"
      ]
     },
     "metadata": {},
     "output_type": "display_data"
    },
    {
     "data": {
      "text/html": [
       "<span style=\"font-weight: bold;\">180 day mandates:</span>"
      ],
      "text/plain": [
       "<IPython.core.display.HTML object>"
      ]
     },
     "metadata": {},
     "output_type": "display_data"
    },
    {
     "data": {
      "text/html": [
       "(d) Within <span style=\"color: red; font-weight: bold;\">180 days</span> of the date of this order, pursuant to the finding set forth in subsection 4.2(c) of this section, the Secretary of Commerce shall propose regulations that require United States IaaS Providers to ensure that foreign resellers of United States IaaS Products verify the identity of any foreign person that obtains an IaaS account (account) from the foreign reseller."
      ],
      "text/plain": [
       "<IPython.core.display.HTML object>"
      ]
     },
     "metadata": {},
     "output_type": "display_data"
    },
    {
     "data": {
      "text/html": [
       "(iii) Within <span style=\"color: red; font-weight: bold;\">180 days</span> of the date of this order, the Secretary of Homeland Security, in coordination with the Secretary of Commerce and with SRMAs and other regulators as determined by the Secretary of Homeland Security, shall incorporate as appropriate the AI Risk Management Framework, NIST AI 100-1, as well as other appropriate security guidance, into relevant safety and security guidelines for use by critical infrastructure owners and operators."
      ],
      "text/plain": [
       "<IPython.core.display.HTML object>"
      ]
     },
     "metadata": {},
     "output_type": "display_data"
    },
    {
     "data": {
      "text/html": [
       "(ii) As set forth in subsection 4.3(b)(i) of this section, within <span style=\"color: red; font-weight: bold;\">180 days</span> of the date of this order, the Secretary of Defense and the Secretary of Homeland Security shall, consistent with applicable law, each develop plans for, conduct, and complete an operational pilot project to identify, develop, test, evaluate, and deploy AI capabilities, such as large-language models, to aid in the discovery and remediation of vulnerabilities in critical United States Government software, systems, and networks."
      ],
      "text/plain": [
       "<IPython.core.display.HTML object>"
      ]
     },
     "metadata": {},
     "output_type": "display_data"
    },
    {
     "data": {
      "text/html": [
       "(a) To better understand and mitigate the risk of AI being misused to assist in the development or use of CBRN threats  with a particular focus on biological weapons  the following actions shall be taken:    (i) Within <span style=\"color: red; font-weight: bold;\">180 days</span> of the date of this order, the Secretary of Homeland Security, in consultation with the Secretary of Energy and the Director of the Office of Science and Technology Policy (OSTP), shall evaluate the potential for AI to be misused to enable the development or production of CBRN threats, while also considering the benefits and application of AI to counter these threats, including, as appropriate, the results of work conducted under section 8(b) of this order."
      ],
      "text/plain": [
       "<IPython.core.display.HTML object>"
      ]
     },
     "metadata": {},
     "output_type": "display_data"
    },
    {
     "data": {
      "text/html": [
       "(b) To reduce the risk of misuse of synthetic nucleic acids, which could be substantially increased by AIs capabilities in this area, and improve biosecurity measures for the nucleic acid synthesis industry, the following actions shall be taken:    (i) Within <span style=\"color: red; font-weight: bold;\">180 days</span> of the date of this order, the Director of OSTP, in consultation with the Secretary of State, the Secretary of Defense, the Attorney General, the Secretary of Commerce, the Secretary of Health and Human Services (HHS), the Secretary of Energy, the Secretary of Homeland Security, the Director of National Intelligence, and the heads of other relevant agencies as the Director of OSTP may deem appropriate, shall establish a framework, incorporating, as appropriate, existing United States Government guidance, to encourage providers of synthetic nucleic acid sequences to implement comprehensive, scalable, and verifiable synthetic nucleic acid procurement screening mechanisms, including standards and recommended incentives."
      ],
      "text/plain": [
       "<IPython.core.display.HTML object>"
      ]
     },
     "metadata": {},
     "output_type": "display_data"
    },
    {
     "data": {
      "text/html": [
       "(ii) Within <span style=\"color: red; font-weight: bold;\">180 days</span> of the date of this order, the Secretary of Commerce, acting through the Director of NIST, in coordination with the Director of OSTP, and in consultation with the Secretary of State, the Secretary of HHS, and the heads of other relevant agencies as the Secretary of Commerce may deem appropriate, shall initiate an effort to engage with industry and relevant stakeholders, informed by the framework developed under subsection 4.4(b)(i) of this section, to develop and refine for possible use by synthetic nucleic acid sequence providers:      (A) specifications for effective nucleic acid synthesis procurement screening;      (B) best practices, including security and access controls, for managing sequence-of-concern databases to support such screening;      (C) technical implementation guides for effective screening; and      (D) conformity-assessment best practices and mechanisms."
      ],
      "text/plain": [
       "<IPython.core.display.HTML object>"
      ]
     },
     "metadata": {},
     "output_type": "display_data"
    },
    {
     "data": {
      "text/html": [
       "(iii) Within <span style=\"color: red; font-weight: bold;\">180 days</span> of the establishment of the framework pursuant to subsection 4.4(b)(i) of this section, all agencies that fund life-sciences research shall, as appropriate and consistent with applicable law, establish that, as a requirement of funding, synthetic nucleic acid procurement is conducted through providers or manufacturers that adhere to the framework, such as through an attestation from the provider or manufacturer."
      ],
      "text/plain": [
       "<IPython.core.display.HTML object>"
      ]
     },
     "metadata": {},
     "output_type": "display_data"
    },
    {
     "data": {
      "text/html": [
       "(iv) In order to facilitate effective implementation of the measures described in subsections 4.4(b)(i)-(iii) of this section, the Secretary of Homeland Security, in consultation with the heads of other relevant agencies as the Secretary of Homeland Security may deem appropriate, shall:      (A) within <span style=\"color: red; font-weight: bold;\">180 days</span> of the establishment of the framework pursuant to subsection 4.4(b)(i) of this section, develop a framework to conduct structured evaluation and stress testing of nucleic acid synthesis procurement screening, including the systems developed in accordance with subsections 4.4(b)(i)-(ii) of this section and implemented by providers of synthetic nucleic acid sequences; and      (B) following development of the framework pursuant to subsection 4.4(b)(iv)(A) of this section, submit an annual report to the Assistant to the President for National Security Affairs, the Director of the Office of Pandemic Preparedness and Response Policy, and the Director of OSTP on any results of the activities conducted pursuant to subsection 4.4(b)(iv)(A) of this section, including recommendations, if any, on how to strengthen nucleic acid synthesis procurement screening, including customer screening systems."
      ],
      "text/plain": [
       "<IPython.core.display.HTML object>"
      ]
     },
     "metadata": {},
     "output_type": "display_data"
    },
    {
     "data": {
      "text/html": [
       "(b) Within <span style=\"color: red; font-weight: bold;\">180 days</span> of submitting the report required under subsection 4.5(a) of this section, and updated periodically thereafter, the Secretary of Commerce, in coordination with the Director of OMB, shall develop guidance regarding the existing tools and practices for digital content authentication and synthetic content detection measures."
      ],
      "text/plain": [
       "<IPython.core.display.HTML object>"
      ]
     },
     "metadata": {},
     "output_type": "display_data"
    },
    {
     "data": {
      "text/html": [
       "(c) Within <span style=\"color: red; font-weight: bold;\">180 days</span> of the development of the guidance required under subsection 4.5(b) of this section, and updated periodically thereafter, the Director of OMB, in consultation with the Secretary of State; the Secretary of Defense; the Attorney General; the Secretary of Commerce, acting through the Director of NIST; the Secretary of Homeland Security; the Director of National Intelligence; and the heads of other agencies that the Director of OMB deems appropriate, shall  for the purpose of strengthening public confidence in theintegrity of official United States Government digital content  issue guidance to agencies for labeling and authenticating such content that they produce or publish."
      ],
      "text/plain": [
       "<IPython.core.display.HTML object>"
      ]
     },
     "metadata": {},
     "output_type": "display_data"
    },
    {
     "data": {
      "text/html": [
       "Promoting Safe Release and Preventing the Malicious Use of Federal Data for AI Training.To improve public data access and manage security risks, and consistent with the objectives of the Open, Public, Electronic, and Necessary Government Data Act (title II of Public Law 115-435) to expand public access to Federal data assets in a machine-readable format while also taking into account security considerations, including the risk that information in an individual data asset in isolation does not pose a security risk but, when combined with other available information, may pose such a risk:  (a) within 270 days of the date of this order, the Chief Data Officer Council, in consultation with the Secretary of Defense, the Secretary of Commerce, the Secretary of Energy, the Secretary of Homeland Security, and the Director of National Intelligence, shall develop initial guidelines for performing security reviews, including reviews to identify and manage the potential security risks of releasing Federal data that could aid in the development of CBRN weapons as well as the development of autonomous offensive cyber capabilities, while also providing public access to Federal Government data in line with the goals stated in the Open, Public, Electronic, and Necessary Government Data Act (title II of Public Law 115-435); and (b) within <span style=\"color: red; font-weight: bold;\">180 days</span> of the development of the initial guidelines required by subsection 4.7(a) of this section, agencies shall conduct a security review of all data assets in the comprehensive data inventory required under 44 U.S.C."
      ],
      "text/plain": [
       "<IPython.core.display.HTML object>"
      ]
     },
     "metadata": {},
     "output_type": "display_data"
    },
    {
     "data": {
      "text/html": [
       "(c) Within <span style=\"color: red; font-weight: bold;\">180 days</span> of the date of this order, the Secretary of State shall:    (i) consider initiating a rulemaking to expand the categories of nonimmigrants who qualify for the domestic visa renewal program covered under 22 C.F.R."
      ],
      "text/plain": [
       "<IPython.core.display.HTML object>"
      ]
     },
     "metadata": {},
     "output_type": "display_data"
    },
    {
     "data": {
      "text/html": [
       "(d) Within <span style=\"color: red; font-weight: bold;\">180 days</span> of the date of this order, the Secretary of Homeland Security shall:    (i) review and initiate any policy changes the Secretary determines necessary and appropriate to clarify and modernize immigration pathways for experts in AI and other critical and emerging technologies, including O-1A and EB-1 noncitizens of extraordinary ability; EB-2 advanced-degree holders and noncitizens of exceptional ability; and startup founders in AI and other critical and emerging technologies using the International Entrepreneur Rule; and    (ii) continue its rulemaking process to modernize the H-1B program and enhance its integrity and usage, including by experts in AI and other critical and emerging technologies, and consider initiating a rulemaking to enhance the process for noncitizens, including experts in AI and other critical and emerging technologies and their spouses, dependents, and children, to adjust their status to lawful permanent resident."
      ],
      "text/plain": [
       "<IPython.core.display.HTML object>"
      ]
     },
     "metadata": {},
     "output_type": "display_data"
    },
    {
     "data": {
      "text/html": [
       "(c) To promote innovation and clarify issues related to AI and inventorship of patentable subject matter, the Under Secretary of Commerce for Intellectual Property and Director of the United States Patent and Trademark Office (USPTO Director) shall:    (i) within 120 days of the date of this order, publish guidance to USPTO patent examiners and applicants addressing inventorship and the use of AI, including generative AI, in the inventive process, including illustrative examples in which AI systems play different roles in inventive processes and how, in each example, inventorship issues ought to be analyzed;    (ii) subsequently, within 270 days of the date of this order, issue additional guidance to USPTO patent examiners and applicants to address other considerations at the intersection of AI and IP, which could include, as the USPTO Director deems necessary, updated guidance on patent eligibility to address innovation in AI and critical and emerging technologies; and    (iii) within 270 days of the date of this order or <span style=\"color: red; font-weight: bold;\">180 days</span> after theUnited States Copyright Office of the Library of Congress publishes its forthcoming AI study that will address copyright issues raised by AI, whichever comes later, consult with the Director of the United States Copyright Office and issue recommendations to the President on potential executive actions relating to copyright and AI."
      ],
      "text/plain": [
       "<IPython.core.display.HTML object>"
      ]
     },
     "metadata": {},
     "output_type": "display_data"
    },
    {
     "data": {
      "text/html": [
       "(d) Within <span style=\"color: red; font-weight: bold;\">180 days</span> of the date of this order, to assist developers of AI in combatting AI-related IP risks, the Secretary of Homeland Security, acting through the Director of the National Intellectual Property Rights Coordination Center, and in consultation with the Attorney General, shall develop a training, analysis, and evaluation program to mitigate AI-related IP risks."
      ],
      "text/plain": [
       "<IPython.core.display.HTML object>"
      ]
     },
     "metadata": {},
     "output_type": "display_data"
    },
    {
     "data": {
      "text/html": [
       "(g) Within <span style=\"color: red; font-weight: bold;\">180 days</span> of the date of this order, to support the goal of strengthening our Nations resilience against climate change impacts and building an equitable clean energy economy for the future, the Secretary of Energy, in consultation with the Chair of the Federal Energy Regulatory Commission, the Director of OSTP, the Chair of the Council on Environmental Quality, the Assistant to the President and National Climate Advisor, and the heads of other relevant agencies as the Secretary of Energy may deem appropriate, shall:    (i) issue a public report describing the potential for AI to improve planning, permitting, investment, and operations for electric grid infrastructure and to enable the provision of clean, affordable, reliable, resilient, and secure electric power to all Americans;    (ii) develop tools that facilitate building foundation models useful for basic and applied science, including models that streamline permitting and environmental reviews while improving environmental and social outcomes;    (iii) collaborate, as appropriate, with private sector organizations and members of academia to support development of AI tools to mitigate climate change risks;    (iv) take steps to expand partnerships with industry, academia, other agencies, and international allies and partners to utilize the Department of Energys computing capabilities and AI testbeds to build foundation models that support new applications in science and energy, and for national security, including partnerships that increase community preparedness for climate-related risks, enable clean-energy deployment (including addressing delays in permitting reviews), and enhance grid reliability and resilience; and    (v) establish an office to coordinate development of AI and other critical and emerging technologies across Department of Energy programs and the 17 National Laboratories."
      ],
      "text/plain": [
       "<IPython.core.display.HTML object>"
      ]
     },
     "metadata": {},
     "output_type": "display_data"
    },
    {
     "data": {
      "text/html": [
       "(h) Within <span style=\"color: red; font-weight: bold;\">180 days</span> of the date of this order, to understand AIs implications for scientific research, the Presidents Council of Advisors on Science and Technology shall submit to the President and make publicly available a report on the potential role of AI, especially given recent developments in AI, in research aimed at tackling major societal and global challenges."
      ],
      "text/plain": [
       "<IPython.core.display.HTML object>"
      ]
     },
     "metadata": {},
     "output_type": "display_data"
    },
    {
     "data": {
      "text/html": [
       "(a) To advance the Governments understanding of AIs implications for workers, the following actions shall be taken within <span style=\"color: red; font-weight: bold;\">180 days</span> of the date of this order:    (i) The Chairman of the Council of Economic Advisers shall prepare and submit a report to the President on the labor-market effects of AI."
      ],
      "text/plain": [
       "<IPython.core.display.HTML object>"
      ]
     },
     "metadata": {},
     "output_type": "display_data"
    },
    {
     "data": {
      "text/html": [
       "(b) To help ensure that AI deployed in the workplace advances employees well-being:    (i) The Secretary of Labor shall, within <span style=\"color: red; font-weight: bold;\">180 days</span> of the date of this order and in consultation with other agencies and with outside entities, including labor unions and workers, as the Secretary of Labor deems appropriate, develop and publish principles and best practices for employers that could be used to mitigate AIs potential harms to employees well-being and maximize its potential benefits."
      ],
      "text/plain": [
       "<IPython.core.display.HTML object>"
      ]
     },
     "metadata": {},
     "output_type": "display_data"
    },
    {
     "data": {
      "text/html": [
       "(c) To advance the presence of relevant technical experts and expertise (such as machine-learning engineers, software and infrastructure engineering, data privacy experts, data scientists, and user experience researchers) among law enforcement professionals:    (i) The interagency working group created pursuant to section 3 of Executive Order 14074 shall, within <span style=\"color: red; font-weight: bold;\">180 days</span> of the date of this order, identify and share best practices for recruiting and hiring law enforcement professionals who have the technical skills mentioned in subsection 7.1(c) of this section, and for training law enforcement professionals about <span style=\"color: blue; font-weight: bold;\">responsible</span> application of AI."
      ],
      "text/plain": [
       "<IPython.core.display.HTML object>"
      ]
     },
     "metadata": {},
     "output_type": "display_data"
    },
    {
     "data": {
      "text/html": [
       "(b) To promote equitable administration of public benefits:    (i) The Secretary of HHS shall, within <span style=\"color: red; font-weight: bold;\">180 days</span> of the date of this order and in consultation with relevant agencies, publisha plan, informed by the guidance issued pursuant to section 10.1(b) of this order, addressing the use of automated or algorithmic systems in the implementation by States and localities of public benefits and services administered by the Secretary, such as to promote: assessment of access to benefits by qualified recipients; notice to recipients about the presence of such systems; regular evaluation to detect unjust denials; processes to retain appropriate levels of discretion of expert agency staff; processes to appeal denials to human reviewers; and analysis of whether algorithmic systems in use by benefit programs achieve equitable and just outcomes."
      ],
      "text/plain": [
       "<IPython.core.display.HTML object>"
      ]
     },
     "metadata": {},
     "output_type": "display_data"
    },
    {
     "data": {
      "text/html": [
       "(ii) The Secretary of Agriculture shall, within <span style=\"color: red; font-weight: bold;\">180 days</span> of the date of this order and as informed by the guidance issued pursuant to section 10.1(b) of this order, issue guidance to State, local, Tribal, and territorial public-benefits administrators on the use of automated or algorithmic systems in implementing benefits or in providing customer support for benefit programs administered by the Secretary, to ensure that programs using those systems:      (A) maximize program access for eligible recipients;      (B) employ automated or algorithmic systems in a manner consistent with any requirements for using merit systems personnel in public-benefits programs;      (C) identify instances in which reliance on automated or algorithmic systems would require notification by the State, local, Tribal, or territorial government to the Secretary;      (D) identify instances when applicants and participants can appeal benefit determinations to a human reviewer for reconsideration and can receive other customer support from a human being;      (E) enable auditing and, if necessary, remediation of the logic used to arrive at an individual decision or determination to facilitate the evaluation of appeals; and      (F) enable the analysis of whether algorithmic systems in use by benefit programs achieve equitable outcomes."
      ],
      "text/plain": [
       "<IPython.core.display.HTML object>"
      ]
     },
     "metadata": {},
     "output_type": "display_data"
    },
    {
     "data": {
      "text/html": [
       "(c) Within <span style=\"color: red; font-weight: bold;\">180 days</span> of the date of this order, to combat unlawful discrimination enabled by automated or algorithmic tools used to make decisions about access to housing and in other real estate-related transactions, the Secretary of Housing and Urban Development shall, and the Director of the Consumer Financial Protection Bureau is encouraged to, issue additional guidance:    (i) addressing the use of tenant screening systems in ways that may violate the Fair Housing Act (Public Law 90-284), the Fair Credit Reporting Act (Public Law 91-508), or other relevant Federal laws, including how the use of data, such as criminal records, eviction records, and credit information, can lead to discriminatory outcomes in violation of Federal law; and    (ii) addressing how the Fair Housing Act, the Consumer Financial Protection Act of 2010 (title X of Public Law 111-203), or the Equal Credit Opportunity Act (Public Law 93-495) apply to the advertising of housing, credit, and other real estate-related transactions through digital platforms, including those that use algorithms to facilitate advertising delivery, as well as on best practices to avoid violations of Federal law."
      ],
      "text/plain": [
       "<IPython.core.display.HTML object>"
      ]
     },
     "metadata": {},
     "output_type": "display_data"
    },
    {
     "data": {
      "text/html": [
       "(ii) Within <span style=\"color: red; font-weight: bold;\">180 days</span> of the date of this order, the Secretary of HHS shall direct HHS components, as the Secretary of HHS deems appropriate, to develop a strategy, in consultation with relevant agencies, to determine whether AI-enabled technologies in the health and human services sector maintain appropriate levels of quality, including, as appropriate, in the areas described in subsection (b)(i) of this section."
      ],
      "text/plain": [
       "<IPython.core.display.HTML object>"
      ]
     },
     "metadata": {},
     "output_type": "display_data"
    },
    {
     "data": {
      "text/html": [
       "(iii) Within <span style=\"color: red; font-weight: bold;\">180 days</span> of the date of this order, the Secretary of HHS shall, in consultation with relevant agencies as the Secretary of HHS deems appropriate, consider appropriate actions to advance the prompt understanding of, and compliance with, Federal nondiscrimination laws by health and human services providers that receive Federal financial assistance, as well as how those laws relate to AI."
      ],
      "text/plain": [
       "<IPython.core.display.HTML object>"
      ]
     },
     "metadata": {},
     "output_type": "display_data"
    },
    {
     "data": {
      "text/html": [
       "(iii) Within <span style=\"color: red; font-weight: bold;\">180 days</span> of the date of this order, the Secretary of Transportation shall direct the Advanced Research Projects Agency-Infrastructure (ARPA-I) to explore the transportation-related opportunities and challenges of AI  including regarding software-defined AI enhancements impacting autonomous mobility ecosystems."
      ],
      "text/plain": [
       "<IPython.core.display.HTML object>"
      ]
     },
     "metadata": {},
     "output_type": "display_data"
    },
    {
     "data": {
      "text/html": [
       "(a) To mitigate privacy risks potentially exacerbated by AI  including by AIs facilitation of the collection or use of information about individuals, or the making of inferences about individuals  the Director of OMB shall:    (i) evaluate and take steps to identify commercially available information (CAI) procured by agencies, particularly CAI that contains personally identifiable information and including CAI procured from data brokers and CAI procured and processed indirectly through vendors, in appropriate agency inventory and reporting processes (other than when it is used for the purposes of national security);    (ii) evaluate, in consultation with the Federal Privacy Council and the Interagency Council on Statistical Policy, agency standards and procedures associated with the collection, processing, maintenance, use, sharing, dissemination, and disposition of CAI that contains personally identifiable information (other than when it is used for the purposes of national security) to inform potential guidance to agencies on ways to mitigate privacy and confidentiality risks from agencies activities related to CAI;    (iii) within <span style=\"color: red; font-weight: bold;\">180 days</span> of the date of this order, in consultation with the Attorney General, the Assistant to the President for Economic Policy, and the Director of OSTP, issue an RFI to inform potential revisions to guidance to agencies on implementing the privacy provisions of the E-Government Act of 2002 (PublicLaw107-347)."
      ],
      "text/plain": [
       "<IPython.core.display.HTML object>"
      ]
     },
     "metadata": {},
     "output_type": "display_data"
    },
    {
     "data": {
      "text/html": [
       "(d) To assist agencies in implementing the guidance to be established in subsection 10.1(b) of this section:    (i) within 90 days of the issuance of the guidance, the Secretary of Commerce, acting through the Director of NIST, and in coordination with the Director of OMB and the Director of OSTP, shall develop guidelines, tools, and practices to support implementation of the minimum risk-management practices described in subsection 10.1(b)(iv) of this section; and    (ii) within <span style=\"color: red; font-weight: bold;\">180 days</span> of the issuance of the guidance, the Director of OMB shall develop an initial means to ensure that agency contracts for the acquisition of AI systems and services align with the guidance described in subsection 10.1(b) of this section and advance the other aims identified in section 7224(d)(1) of the Advancing American AI Act (Public Law 117-263, div."
      ],
      "text/plain": [
       "<IPython.core.display.HTML object>"
      ]
     },
     "metadata": {},
     "output_type": "display_data"
    },
    {
     "data": {
      "text/html": [
       "(iii) Within <span style=\"color: red; font-weight: bold;\">180 days</span> of the date of this order, the Director of the Office of Personnel Management (OPM), in coordination with the Director of OMB, shall develop guidance on the use of generative AI for work by the Federal workforce."
      ],
      "text/plain": [
       "<IPython.core.display.HTML object>"
      ]
     },
     "metadata": {},
     "output_type": "display_data"
    },
    {
     "data": {
      "text/html": [
       "(h) Within <span style=\"color: red; font-weight: bold;\">180 days</span> of the date of this order, to facilitate agencies access to commercial AI capabilities, the Administrator of General Services, in coordination with the Director of OMB, and in collaboration with the Secretary of Defense, the Secretary of Homeland Security, the Director of National Intelligence, the Administrator of the National Aeronautics and Space Administration, and the head of any other agency identified by the Administrator of General Services, shall take steps consistent with applicable law to facilitate access to Federal Government-wide acquisition solutions for specified types of AI services and products, such as through the creation of a resource guide or other tools to assist the acquisition workforce."
      ],
      "text/plain": [
       "<IPython.core.display.HTML object>"
      ]
     },
     "metadata": {},
     "output_type": "display_data"
    },
    {
     "data": {
      "text/html": [
       "The Task Forces purpose shall be to accelerate and track the hiring of AI and AI-enabling talent across the Federal Government, including through the following actions:    (i) within <span style=\"color: red; font-weight: bold;\">180 days</span> of the date of this order, tracking and reporting progress to the President on increasing AI capacity across the Federal Government, including submitting to the President a report and recommendations for further increasing capacity;    (ii) identifying and circulating best practices for agencies to attract, hire, retain, train, and empower AI talent, including diversity, inclusion, and accessibility best practices, as well as to plan and budget adequately for AI workforce needs;    (iii) coordinating, in consultation with the Director of OPM, the use of fellowship programs and agency technology-talent programs and human-capital teams to build hiring capabilities, execute hires, and place AI talent to fill staffing gaps; and    (iv) convening a cross-agency forum for ongoing collaboration between AI professionals to share best practices and improve retention."
      ],
      "text/plain": [
       "<IPython.core.display.HTML object>"
      ]
     },
     "metadata": {},
     "output_type": "display_data"
    },
    {
     "data": {
      "text/html": [
       "213.3102(i)(3) to address the need for hiring additional staff to implement directives of this order;    (iii) within 90 days of the date of this order, coordinate a pooled-hiring action informed by subject-matter experts and using skills-based assessments to support the recruitment of AI talent across agencies;    (iv) within 120 days of the date of this order, as appropriate and permitted by law, issue guidance for agency application of existing pay flexibilities or incentive pay programs for AI, AI-enabling, and other key technical positions to facilitate appropriate use of current pay incentives;    (v) within <span style=\"color: red; font-weight: bold;\">180 days</span> of the date of this order, establish guidance and policy on skills-based, Federal Government-wide hiring of AI, data, and technology talent in order to increase access to those with nontraditional academic backgrounds to Federal AI, data, and technology roles;    (vi) within <span style=\"color: red; font-weight: bold;\">180 days</span> of the date of this order, establish an interagency working group, staffed with both human-resources professionals and recruiting technical experts, to facilitate Federal Government-wide hiring of people with AI and other technical skills;    (vii) within <span style=\"color: red; font-weight: bold;\">180 days</span> of the date of this order, review existing Executive Core Qualifications (ECQs) for Senior Executive Service (SES) positions informed by data and AI literacy competencies and, within 365 days of the date of this order, implement new ECQs as appropriate in the SES assessment process;    (viii) within <span style=\"color: red; font-weight: bold;\">180 days</span> of the date of this order, complete a review of competencies for civil engineers (GS-0810 series) and, if applicable, other related occupations, and make recommendations for ensuring that adequate AI expertise and credentials in these occupations in the Federal Government reflect the increased use of AI in critical infrastructure; and    (ix) work with the Security, Suitability, and Credentialing Performance Accountability Council to assess mechanisms to streamline and accelerate personnel-vetting requirements, as appropriate, to support AI and fields related to other critical and emerging technologies."
      ],
      "text/plain": [
       "<IPython.core.display.HTML object>"
      ]
     },
     "metadata": {},
     "output_type": "display_data"
    },
    {
     "data": {
      "text/html": [
       "213.3102(i)(3) to address the need for hiring additional staff to implement directives of this order;    (iii) within 90 days of the date of this order, coordinate a pooled-hiring action informed by subject-matter experts and using skills-based assessments to support the recruitment of AI talent across agencies;    (iv) within 120 days of the date of this order, as appropriate and permitted by law, issue guidance for agency application of existing pay flexibilities or incentive pay programs for AI, AI-enabling, and other key technical positions to facilitate appropriate use of current pay incentives;    (v) within <span style=\"color: red; font-weight: bold;\">180 days</span> of the date of this order, establish guidance and policy on skills-based, Federal Government-wide hiring of AI, data, and technology talent in order to increase access to those with nontraditional academic backgrounds to Federal AI, data, and technology roles;    (vi) within <span style=\"color: red; font-weight: bold;\">180 days</span> of the date of this order, establish an interagency working group, staffed with both human-resources professionals and recruiting technical experts, to facilitate Federal Government-wide hiring of people with AI and other technical skills;    (vii) within <span style=\"color: red; font-weight: bold;\">180 days</span> of the date of this order, review existing Executive Core Qualifications (ECQs) for Senior Executive Service (SES) positions informed by data and AI literacy competencies and, within 365 days of the date of this order, implement new ECQs as appropriate in the SES assessment process;    (viii) within <span style=\"color: red; font-weight: bold;\">180 days</span> of the date of this order, complete a review of competencies for civil engineers (GS-0810 series) and, if applicable, other related occupations, and make recommendations for ensuring that adequate AI expertise and credentials in these occupations in the Federal Government reflect the increased use of AI in critical infrastructure; and    (ix) work with the Security, Suitability, and Credentialing Performance Accountability Council to assess mechanisms to streamline and accelerate personnel-vetting requirements, as appropriate, to support AI and fields related to other critical and emerging technologies."
      ],
      "text/plain": [
       "<IPython.core.display.HTML object>"
      ]
     },
     "metadata": {},
     "output_type": "display_data"
    },
    {
     "data": {
      "text/html": [
       "213.3102(i)(3) to address the need for hiring additional staff to implement directives of this order;    (iii) within 90 days of the date of this order, coordinate a pooled-hiring action informed by subject-matter experts and using skills-based assessments to support the recruitment of AI talent across agencies;    (iv) within 120 days of the date of this order, as appropriate and permitted by law, issue guidance for agency application of existing pay flexibilities or incentive pay programs for AI, AI-enabling, and other key technical positions to facilitate appropriate use of current pay incentives;    (v) within <span style=\"color: red; font-weight: bold;\">180 days</span> of the date of this order, establish guidance and policy on skills-based, Federal Government-wide hiring of AI, data, and technology talent in order to increase access to those with nontraditional academic backgrounds to Federal AI, data, and technology roles;    (vi) within <span style=\"color: red; font-weight: bold;\">180 days</span> of the date of this order, establish an interagency working group, staffed with both human-resources professionals and recruiting technical experts, to facilitate Federal Government-wide hiring of people with AI and other technical skills;    (vii) within <span style=\"color: red; font-weight: bold;\">180 days</span> of the date of this order, review existing Executive Core Qualifications (ECQs) for Senior Executive Service (SES) positions informed by data and AI literacy competencies and, within 365 days of the date of this order, implement new ECQs as appropriate in the SES assessment process;    (viii) within <span style=\"color: red; font-weight: bold;\">180 days</span> of the date of this order, complete a review of competencies for civil engineers (GS-0810 series) and, if applicable, other related occupations, and make recommendations for ensuring that adequate AI expertise and credentials in these occupations in the Federal Government reflect the increased use of AI in critical infrastructure; and    (ix) work with the Security, Suitability, and Credentialing Performance Accountability Council to assess mechanisms to streamline and accelerate personnel-vetting requirements, as appropriate, to support AI and fields related to other critical and emerging technologies."
      ],
      "text/plain": [
       "<IPython.core.display.HTML object>"
      ]
     },
     "metadata": {},
     "output_type": "display_data"
    },
    {
     "data": {
      "text/html": [
       "213.3102(i)(3) to address the need for hiring additional staff to implement directives of this order;    (iii) within 90 days of the date of this order, coordinate a pooled-hiring action informed by subject-matter experts and using skills-based assessments to support the recruitment of AI talent across agencies;    (iv) within 120 days of the date of this order, as appropriate and permitted by law, issue guidance for agency application of existing pay flexibilities or incentive pay programs for AI, AI-enabling, and other key technical positions to facilitate appropriate use of current pay incentives;    (v) within <span style=\"color: red; font-weight: bold;\">180 days</span> of the date of this order, establish guidance and policy on skills-based, Federal Government-wide hiring of AI, data, and technology talent in order to increase access to those with nontraditional academic backgrounds to Federal AI, data, and technology roles;    (vi) within <span style=\"color: red; font-weight: bold;\">180 days</span> of the date of this order, establish an interagency working group, staffed with both human-resources professionals and recruiting technical experts, to facilitate Federal Government-wide hiring of people with AI and other technical skills;    (vii) within <span style=\"color: red; font-weight: bold;\">180 days</span> of the date of this order, review existing Executive Core Qualifications (ECQs) for Senior Executive Service (SES) positions informed by data and AI literacy competencies and, within 365 days of the date of this order, implement new ECQs as appropriate in the SES assessment process;    (viii) within <span style=\"color: red; font-weight: bold;\">180 days</span> of the date of this order, complete a review of competencies for civil engineers (GS-0810 series) and, if applicable, other related occupations, and make recommendations for ensuring that adequate AI expertise and credentials in these occupations in the Federal Government reflect the increased use of AI in critical infrastructure; and    (ix) work with the Security, Suitability, and Credentialing Performance Accountability Council to assess mechanisms to streamline and accelerate personnel-vetting requirements, as appropriate, to support AI and fields related to other critical and emerging technologies."
      ],
      "text/plain": [
       "<IPython.core.display.HTML object>"
      ]
     },
     "metadata": {},
     "output_type": "display_data"
    },
    {
     "data": {
      "text/html": [
       "(h) Within <span style=\"color: red; font-weight: bold;\">180 days</span> of the date of this order, to address gaps in AI talent for national defense, the Secretary of Defense shall submit a report to the President through the Assistant to the President forNational Security Affairs that includes:    (i) recommendations to address challenges in the Department of Defenses ability to hire certain noncitizens, including at the Science and Technology Reinvention Laboratories;    (ii) recommendations to clarify and streamline processes for accessing classified information for certain noncitizens through Limited Access Authorization at Department of Defense laboratories;    (iii) recommendations for the appropriate use of enlistment authority under 10 U.S.C."
      ],
      "text/plain": [
       "<IPython.core.display.HTML object>"
      ]
     },
     "metadata": {},
     "output_type": "display_data"
    },
    {
     "data": {
      "text/html": [
       "In particular, the Secretary of Commerce shall:    (i) within 270 days of the date of this order, establish a plan for global engagement on promoting and developing AI standards, with lines of effort that may include:      (A) AI nomenclature and terminology;      (B) best practices regarding data capture, processing, protection, privacy, confidentiality, handling, and analysis;      (C) trustworthiness, verification, and assurance of AI systems; and      (D) AI risk management;    (ii) within <span style=\"color: red; font-weight: bold;\">180 days</span> of the date the plan is established, submit a report to the President on priority actions taken pursuant to the plan; and    (iii) ensure that such efforts are guided by principles set out in the NIST AI Risk Management Framework and United States Government National Standards Strategy for Critical and Emerging Technology."
      ],
      "text/plain": [
       "<IPython.core.display.HTML object>"
      ]
     },
     "metadata": {},
     "output_type": "display_data"
    },
    {
     "data": {
      "text/html": [
       "(ii) Within <span style=\"color: red; font-weight: bold;\">180 days</span> of establishing the plan described in subsection (d)(i) of this section, the Secretary of Homeland Security shall submit a report to the President on priority actions to mitigate cross-border risks to critical United States infrastructure."
      ],
      "text/plain": [
       "<IPython.core.display.HTML object>"
      ]
     },
     "metadata": {},
     "output_type": "display_data"
    },
    {
     "data": {
      "text/html": [
       "<span style=\"font-weight: bold;\">240 day mandates:</span>"
      ],
      "text/plain": [
       "<IPython.core.display.HTML object>"
      ]
     },
     "metadata": {},
     "output_type": "display_data"
    },
    {
     "data": {
      "text/html": [
       "(iv) Within <span style=\"color: red; font-weight: bold;\">240 days</span> of the completion of the guidelines described in subsection 4.3(a)(iii) of this section, the Assistant to the President for National Security Affairs and the Director of OMB, in consultation with the Secretary of Homeland Security, shall coordinate work by the heads of agencies with authority over critical infrastructure to develop and take steps for the Federal Government to mandate such guidelines, or appropriate portions thereof, through regulatory or other appropriate action."
      ],
      "text/plain": [
       "<IPython.core.display.HTML object>"
      ]
     },
     "metadata": {},
     "output_type": "display_data"
    },
    {
     "data": {
      "text/html": [
       "Reducing the Risks Posed by Synthetic Content.To foster capabilities for identifying and labeling synthetic content produced by AI systems, and to establish the authenticity and provenance of digital content, both synthetic and not synthetic, produced by the Federal Government or on its behalf:  (a) Within <span style=\"color: red; font-weight: bold;\">240 days</span> of the date of this order, the Secretary of Commerce, in consultation with the heads of other relevant agencies as the Secretary of Commerce may deem appropriate, shall submit a report to the Director of OMB and the Assistant to the President for National Security Affairs identifying the existing standards, tools, methods, and practices, as well as the potential development of further science-backed standards and techniques, for:    (i) authenticating content and tracking its provenance;    (ii) labeling synthetic content, such as using watermarking;    (iii) detecting synthetic content;    (iv) preventing generative AI from producing child sexual abuse material or producing non-consensual intimate imagery of real individuals (to include intimate digital depictions of the body or body parts of an identifiable individual);    (v) testing software used for the above purposes; and    (vi) auditing and maintaining synthetic content."
      ],
      "text/plain": [
       "<IPython.core.display.HTML object>"
      ]
     },
     "metadata": {},
     "output_type": "display_data"
    },
    {
     "data": {
      "text/html": [
       "(ii) Within <span style=\"color: red; font-weight: bold;\">240 days</span> of the date of this order, the Director of NSF shall engage with agencies to identify ongoing work and potential opportunities to incorporate PETs into their operations."
      ],
      "text/plain": [
       "<IPython.core.display.HTML object>"
      ]
     },
     "metadata": {},
     "output_type": "display_data"
    },
    {
     "data": {
      "text/html": [
       "<span style=\"font-weight: bold;\">270 day mandates:</span>"
      ],
      "text/plain": [
       "<IPython.core.display.HTML object>"
      ]
     },
     "metadata": {},
     "output_type": "display_data"
    },
    {
     "data": {
      "text/html": [
       "(a) Within <span style=\"color: red; font-weight: bold;\">270 days</span> of the date of this order, to help ensure the development of safe, secure, and trustworthy AI systems, the Secretary of Commerce, acting through the Director of the National Institute of Standards and Technology (NIST), in coordination with the Secretary of Energy, the Secretary of Homeland Security, and the heads of other relevant agencies as the Secretary of Commerce may deem appropriate, shall:    (i) Establish guidelines and best practices, with the aim of promoting consensus industry standards, for developing and deploying safe, secure, and trustworthy AI systems, including:      (A) developing a companion resource to the AI Risk Management Framework, NIST AI 100-1, for generative AI;      (B) developing a companion resource to the Secure Software Development Framework to incorporate secure development practices for generative AI and for dual-use foundation models; and      (C) launching an initiative to create guidance and benchmarks for evaluating and auditing AI capabilities, with a focus on capabilities through which AI could cause harm, such as in the areas of cybersecurity and biosecurity."
      ],
      "text/plain": [
       "<IPython.core.display.HTML object>"
      ]
     },
     "metadata": {},
     "output_type": "display_data"
    },
    {
     "data": {
      "text/html": [
       "(b) Within <span style=\"color: red; font-weight: bold;\">270 days</span> of the date of this order, to understand and mitigate AI security risks, the Secretary of Energy, in coordination with the heads of other Sector Risk Management Agencies (SRMAs) as the Secretary of Energy may deem appropriate, shall develop and, to the extent permitted by law and available appropriations, implement a plan for developing the Department of Energys AI model evaluation tools and AI testbeds."
      ],
      "text/plain": [
       "<IPython.core.display.HTML object>"
      ]
     },
     "metadata": {},
     "output_type": "display_data"
    },
    {
     "data": {
      "text/html": [
       "(iii) As set forth in subsection 4.3(b)(i) of this section, within <span style=\"color: red; font-weight: bold;\">270 days</span> of the date of this order, the Secretary of Defense and the Secretary of Homeland Security shall each provide a report to the Assistant to the President for National Security Affairs on the results of actions taken pursuant to the plans and operational pilot projects required by subsection 4.3(b)(ii) of this section, including a description of any vulnerabilities found and fixed through the development and deployment of AI capabilities and any lessons learned on how to identify, develop, test, evaluate, and deploy AI capabilities effectively for cyber defense."
      ],
      "text/plain": [
       "<IPython.core.display.HTML object>"
      ]
     },
     "metadata": {},
     "output_type": "display_data"
    },
    {
     "data": {
      "text/html": [
       "To address the risks and potential benefits of dual-use foundation models with widely available weights, within <span style=\"color: red; font-weight: bold;\">270 days</span> of the date of this order, the Secretary of Commerce, acting through the Assistant Secretary of Commerce for Communications and Information, and in consultation with the Secretary of State, shall:  (a) solicit input from the private sector, academia, civil society, and other stakeholders through a public consultation process on potential risks, benefits, other implications, and appropriate policy and regulatory approaches related to dual-use foundation models for which the model weights are widely available, including:    (i) risks associated with actors fine-tuning dual-use foundation models for which the model weights are widely available or removing those models safeguards;    (ii) benefits to AI innovation and research, including research into AI safety and risk management, of dual-use foundation models for which the model weights are widely available; and    (iii) potential voluntary, regulatory, and international mechanisms to manage the risks and maximize the benefits of dual-use foundation models for which the model weights are widely available; and  (b) based on input from the process described in subsection 4.6(a) of this section, and in consultation with the heads of other relevant agencies as the Secretary of Commerce deems appropriate, submit a report to the President on the potential benefits, risks, and implications of dual-use foundation models for which the model weights are widely available, as well as policy and regulatory recommendations pertaining to those models."
      ],
      "text/plain": [
       "<IPython.core.display.HTML object>"
      ]
     },
     "metadata": {},
     "output_type": "display_data"
    },
    {
     "data": {
      "text/html": [
       "Promoting Safe Release and Preventing the Malicious Use of Federal Data for AI Training.To improve public data access and manage security risks, and consistent with the objectives of the Open, Public, Electronic, and Necessary Government Data Act (title II of Public Law 115-435) to expand public access to Federal data assets in a machine-readable format while also taking into account security considerations, including the risk that information in an individual data asset in isolation does not pose a security risk but, when combined with other available information, may pose such a risk:  (a) within <span style=\"color: red; font-weight: bold;\">270 days</span> of the date of this order, the Chief Data Officer Council, in consultation with the Secretary of Defense, the Secretary of Commerce, the Secretary of Energy, the Secretary of Homeland Security, and the Director of National Intelligence, shall develop initial guidelines for performing security reviews, including reviews to identify and manage the potential security risks of releasing Federal data that could aid in the development of CBRN weapons as well as the development of autonomous offensive cyber capabilities, while also providing public access to Federal Government data in line with the goals stated in the Open, Public, Electronic, and Necessary Government Data Act (title II of Public Law 115-435); and (b) within 180 days of the development of the initial guidelines required by subsection 4.7(a) of this section, agencies shall conduct a security review of all data assets in the comprehensive data inventory required under 44 U.S.C."
      ],
      "text/plain": [
       "<IPython.core.display.HTML object>"
      ]
     },
     "metadata": {},
     "output_type": "display_data"
    },
    {
     "data": {
      "text/html": [
       "To develop a coordinated executive branch approach to managing AIs security risks, the Assistant to the President for National Security Affairs and the Assistant to the President and Deputy Chief of Staff for Policy shall oversee an interagency process with the purpose of, within <span style=\"color: red; font-weight: bold;\">270 days</span> of the date of this order, developing and submitting a proposed National Security Memorandum on AI to the President."
      ],
      "text/plain": [
       "<IPython.core.display.HTML object>"
      ]
     },
     "metadata": {},
     "output_type": "display_data"
    },
    {
     "data": {
      "text/html": [
       "(c) To promote innovation and clarify issues related to AI and inventorship of patentable subject matter, the Under Secretary of Commerce for Intellectual Property and Director of the United States Patent and Trademark Office (USPTO Director) shall:    (i) within 120 days of the date of this order, publish guidance to USPTO patent examiners and applicants addressing inventorship and the use of AI, including generative AI, in the inventive process, including illustrative examples in which AI systems play different roles in inventive processes and how, in each example, inventorship issues ought to be analyzed;    (ii) subsequently, within <span style=\"color: red; font-weight: bold;\">270 days</span> of the date of this order, issue additional guidance to USPTO patent examiners and applicants to address other considerations at the intersection of AI and IP, which could include, as the USPTO Director deems necessary, updated guidance on patent eligibility to address innovation in AI and critical and emerging technologies; and    (iii) within <span style=\"color: red; font-weight: bold;\">270 days</span> of the date of this order or 180 days after theUnited States Copyright Office of the Library of Congress publishes its forthcoming AI study that will address copyright issues raised by AI, whichever comes later, consult with the Director of the United States Copyright Office and issue recommendations to the President on potential executive actions relating to copyright and AI."
      ],
      "text/plain": [
       "<IPython.core.display.HTML object>"
      ]
     },
     "metadata": {},
     "output_type": "display_data"
    },
    {
     "data": {
      "text/html": [
       "(c) To promote innovation and clarify issues related to AI and inventorship of patentable subject matter, the Under Secretary of Commerce for Intellectual Property and Director of the United States Patent and Trademark Office (USPTO Director) shall:    (i) within 120 days of the date of this order, publish guidance to USPTO patent examiners and applicants addressing inventorship and the use of AI, including generative AI, in the inventive process, including illustrative examples in which AI systems play different roles in inventive processes and how, in each example, inventorship issues ought to be analyzed;    (ii) subsequently, within <span style=\"color: red; font-weight: bold;\">270 days</span> of the date of this order, issue additional guidance to USPTO patent examiners and applicants to address other considerations at the intersection of AI and IP, which could include, as the USPTO Director deems necessary, updated guidance on patent eligibility to address innovation in AI and critical and emerging technologies; and    (iii) within <span style=\"color: red; font-weight: bold;\">270 days</span> of the date of this order or 180 days after theUnited States Copyright Office of the Library of Congress publishes its forthcoming AI study that will address copyright issues raised by AI, whichever comes later, consult with the Director of the United States Copyright Office and issue recommendations to the President on potential executive actions relating to copyright and AI."
      ],
      "text/plain": [
       "<IPython.core.display.HTML object>"
      ]
     },
     "metadata": {},
     "output_type": "display_data"
    },
    {
     "data": {
      "text/html": [
       "(ii) Within <span style=\"color: red; font-weight: bold;\">270 days</span> of the date of this order, the Attorney General shall, in consultation with the Secretary of Homeland Security, consider those best practices and the guidance developed under section 3(d) of Executive Order 14074 and, if necessary, develop additional general recommendations for State, local, Tribal, and territorial law enforcement agencies and criminal justice agencies seeking to recruit, hire, train, promote, and retain highly qualified and service-oriented officers and staff with relevant technical knowledge."
      ],
      "text/plain": [
       "<IPython.core.display.HTML object>"
      ]
     },
     "metadata": {},
     "output_type": "display_data"
    },
    {
     "data": {
      "text/html": [
       "In particular, the Secretary of Commerce shall:    (i) within <span style=\"color: red; font-weight: bold;\">270 days</span> of the date of this order, establish a plan for global engagement on promoting and developing AI standards, with lines of effort that may include:      (A) AI nomenclature and terminology;      (B) best practices regarding data capture, processing, protection, privacy, confidentiality, handling, and analysis;      (C) trustworthiness, verification, and assurance of AI systems; and      (D) AI risk management;    (ii) within 180 days of the date the plan is established, submit a report to the President on priority actions taken pursuant to the plan; and    (iii) ensure that such efforts are guided by principles set out in the NIST AI Risk Management Framework and United States Government National Standards Strategy for Critical and Emerging Technology."
      ],
      "text/plain": [
       "<IPython.core.display.HTML object>"
      ]
     },
     "metadata": {},
     "output_type": "display_data"
    },
    {
     "data": {
      "text/html": [
       "(i) Within <span style=\"color: red; font-weight: bold;\">270 days</span> of the date of this order, the Secretary of Homeland Security, in coordination with the Secretary of State, shall develop a plan for multilateral engagements to encourage the adoption of the AI safety and security guidelines for use by critical infrastructure owners and operators developed in section 4.3(a) of this order."
      ],
      "text/plain": [
       "<IPython.core.display.HTML object>"
      ]
     },
     "metadata": {},
     "output_type": "display_data"
    },
    {
     "data": {
      "text/html": [
       "<span style=\"font-weight: bold;\">365 day mandates:</span>"
      ],
      "text/plain": [
       "<IPython.core.display.HTML object>"
      ]
     },
     "metadata": {},
     "output_type": "display_data"
    },
    {
     "data": {
      "text/html": [
       "(f) To advance the development of AI systems that improve the quality of veterans healthcare, and in order to support small businesses innovative capacity, the Secretary of Veterans Affairs shall:    (i) within <span style=\"color: red; font-weight: bold;\">365 days</span> of the date of this order, host two 3-month nationwide AI Tech Sprint competitions; and    (ii) as part of the AI Tech Sprint competitions and in collaboration with appropriate partners, provide participants access to technical assistance, mentorship opportunities, individualized expert feedback on products under development, potential contract opportunities, and other programming and resources."
      ],
      "text/plain": [
       "<IPython.core.display.HTML object>"
      ]
     },
     "metadata": {},
     "output_type": "display_data"
    },
    {
     "data": {
      "text/html": [
       "(b) To promote the equitable treatment of individuals and adhere to the Federal Governments fundamental obligation to ensure fair and impartial justice for all, with respect to the use of AI in the criminal justice system, the Attorney General shall, in consultation with the Secretary of Homeland Security and the Director of OSTP:    (i) within <span style=\"color: red; font-weight: bold;\">365 days</span> of the date of this order, submit to the President a report that addresses the use of AI in the criminal justice system, including any use in:      (A) sentencing;      (B) parole, supervised release, and probation;      (C) bail, pretrial release, and pretrial detention;      (D) risk assessments, including pretrial, earned time, and early release or transfer to home-confinement determinations;      (E) police surveillance;      (F) crime forecasting and predictive policing, including the ingestion of historical crime data into AI systems to predict high-density hot spots;      (G) prison-management tools; and      (H) forensic analysis;     (ii) within the report set forth in subsection 7.1(b)(i) of this section:      (A) identify areas where AI can enhance law enforcement efficiency and accuracy, consistent with protections for privacy, civil rights, and civil liberties; and      (B) recommend best practices for law enforcement agencies, including safeguards and appropriate use limits for AI, to address the concerns set forth in section 13(e)(i) of Executive Order 14074 as well as the best practices and the guidelines set forth in section 13(e)(iii) of Executive Order 14074; and     (iii) supplement the report set forth in subsection 7.1(b)(i) of this section as appropriate with recommendations to the President, including with respect to requests for necessary legislation."
      ],
      "text/plain": [
       "<IPython.core.display.HTML object>"
      ]
     },
     "metadata": {},
     "output_type": "display_data"
    },
    {
     "data": {
      "text/html": [
       "(iii) Within <span style=\"color: red; font-weight: bold;\">365 days</span> of the date of this order, the Attorney General shall review the work conducted pursuant to section 2(b) of Executive Order 14074 and, if appropriate, reassess the existing capacity to investigate law enforcement deprivation of rights under color of law resulting from the use of AI, including through improving and increasing training of Federal law enforcement officers, their supervisors, and Federal prosecutors on how to investigate and prosecute cases related to AI involving the deprivation of rights under color of law pursuant to 18 U.S.C."
      ],
      "text/plain": [
       "<IPython.core.display.HTML object>"
      ]
     },
     "metadata": {},
     "output_type": "display_data"
    },
    {
     "data": {
      "text/html": [
       "(a) Within <span style=\"color: red; font-weight: bold;\">365 days</span> of the date of this order, to prevent unlawful discrimination from AI used for hiring, the Secretary of Labor shall publish guidance for Federal contractors regarding nondiscrimination in hiring involving AI and other technology-based hiring systems."
      ],
      "text/plain": [
       "<IPython.core.display.HTML object>"
      ]
     },
     "metadata": {},
     "output_type": "display_data"
    },
    {
     "data": {
      "text/html": [
       "(b) To help ensure the safe, <span style=\"color: blue; font-weight: bold;\">responsible</span> deployment and use of AI in the healthcare, public-health, and human-services sectors:    (i) Within 90 days of the date of this order, the Secretary of HHS shall, in consultation with the Secretary of Defense and the Secretary of Veterans Affairs, establish an HHS AI Task Force that shall, within <span style=\"color: red; font-weight: bold;\">365 days</span> of its creation, develop a strategic plan that includes policies and frameworks  possibly including regulatory action, as appropriate  on <span style=\"color: blue; font-weight: bold;\">responsible</span> deployment and use of AI and AI-enabled technologies in the health and human services sector (including research and discovery, drug and device safety, healthcare delivery and financing, and public health), and identify appropriate guidance andresources to promote that deployment, including in the following areas:      (A) development, maintenance, and use of predictive and generative AI-enabled technologies in healthcare delivery and financing  including quality measurement, performance improvement, program integrity, benefits administration, and patient experience  taking into account considerations such as appropriate human oversight of the application of AI-generated output;      (B) long-term safety and real-world performance monitoring of AI-enabled technologies in the health and human services sector, including clinically relevant or significant modifications and performance across population groups, with a means to communicate product updates to regulators, developers, and users;      (C) incorporation of equity principles in AI-enabled technologies used in the health and human services sector, using disaggregated data on affected populations and representative population data sets when developing new models, monitoring algorithmic performance against discrimination and bias in existing models, and helping to identify and mitigate discrimination and bias in current systems;      (D) incorporation of safety, privacy, and security standards into the software-development lifecycle for protection of personally identifiable information, including measures to address AI-enhanced cybersecurity threats in the health and human services sector;      (E) development, maintenance, and availability of documentation to help users determine appropriate and safe uses of AI in local settings in the health and human services sector;      (F) work to be done with State, local, Tribal, and territorial health and human services agencies to advance positive use cases and best practices for use of AI in local settings; and      (G) identification of uses of AI to promote workplace efficiency and satisfaction in the health and human services sector, including reducing administrative burdens."
      ],
      "text/plain": [
       "<IPython.core.display.HTML object>"
      ]
     },
     "metadata": {},
     "output_type": "display_data"
    },
    {
     "data": {
      "text/html": [
       "(iv) Within <span style=\"color: red; font-weight: bold;\">365 days</span> of the date of this order, the Secretary of HHS shall, in consultation with the Secretary of Defense and the Secretary of Veterans Affairs, establish an AI safety program that, in partnership with voluntary federally listed Patient Safety Organizations:      (A) establishes a common framework for approaches to identifying and capturing clinical errors resulting from AI deployed in healthcare settings as well as specifications for a central tracking repository for associated incidents that cause harm, including through bias or discrimination, to patients, caregivers, or other parties;      (B) analyzes captured data and generated evidence to develop, wherever appropriate, recommendations, best practices, or other informal guidelines aimed at avoiding these harms; and      (C) disseminates those recommendations, best practices, or other informal guidance to appropriate stakeholders, including healthcare providers."
      ],
      "text/plain": [
       "<IPython.core.display.HTML object>"
      ]
     },
     "metadata": {},
     "output_type": "display_data"
    },
    {
     "data": {
      "text/html": [
       "(v) Within <span style=\"color: red; font-weight: bold;\">365 days</span> of the date of this order, the Secretary of HHS shall develop a strategy for regulating the use of AI or AI-enabled tools in drug-development processes."
      ],
      "text/plain": [
       "<IPython.core.display.HTML object>"
      ]
     },
     "metadata": {},
     "output_type": "display_data"
    },
    {
     "data": {
      "text/html": [
       "(d) To help ensure the <span style=\"color: blue; font-weight: bold;\">responsible</span> development and deployment of AI in the education sector, the Secretary of Education shall, within <span style=\"color: red; font-weight: bold;\">365 days</span> of the date of this order, develop resources, policies, and guidance regarding AI."
      ],
      "text/plain": [
       "<IPython.core.display.HTML object>"
      ]
     },
     "metadata": {},
     "output_type": "display_data"
    },
    {
     "data": {
      "text/html": [
       "(b) Within <span style=\"color: red; font-weight: bold;\">365 days</span> of the date of this order, to better enable agencies to use PETs to safeguard Americans privacy from the potential threats exacerbated by AI, the Secretary of Commerce, acting through the Director of NIST, shall create guidelines for agencies to evaluate the efficacy of differential-privacy-guarantee protections, including for AI."
      ],
      "text/plain": [
       "<IPython.core.display.HTML object>"
      ]
     },
     "metadata": {},
     "output_type": "display_data"
    },
    {
     "data": {
      "text/html": [
       "213.3102(i)(3) to address the need for hiring additional staff to implement directives of this order;    (iii) within 90 days of the date of this order, coordinate a pooled-hiring action informed by subject-matter experts and using skills-based assessments to support the recruitment of AI talent across agencies;    (iv) within 120 days of the date of this order, as appropriate and permitted by law, issue guidance for agency application of existing pay flexibilities or incentive pay programs for AI, AI-enabling, and other key technical positions to facilitate appropriate use of current pay incentives;    (v) within 180 days of the date of this order, establish guidance and policy on skills-based, Federal Government-wide hiring of AI, data, and technology talent in order to increase access to those with nontraditional academic backgrounds to Federal AI, data, and technology roles;    (vi) within 180 days of the date of this order, establish an interagency working group, staffed with both human-resources professionals and recruiting technical experts, to facilitate Federal Government-wide hiring of people with AI and other technical skills;    (vii) within 180 days of the date of this order, review existing Executive Core Qualifications (ECQs) for Senior Executive Service (SES) positions informed by data and AI literacy competencies and, within <span style=\"color: red; font-weight: bold;\">365 days</span> of the date of this order, implement new ECQs as appropriate in the SES assessment process;    (viii) within 180 days of the date of this order, complete a review of competencies for civil engineers (GS-0810 series) and, if applicable, other related occupations, and make recommendations for ensuring that adequate AI expertise and credentials in these occupations in the Federal Government reflect the increased use of AI in critical infrastructure; and    (ix) work with the Security, Suitability, and Credentialing Performance Accountability Council to assess mechanisms to streamline and accelerate personnel-vetting requirements, as appropriate, to support AI and fields related to other critical and emerging technologies."
      ],
      "text/plain": [
       "<IPython.core.display.HTML object>"
      ]
     },
     "metadata": {},
     "output_type": "display_data"
    },
    {
     "data": {
      "text/html": [
       "(c) Within <span style=\"color: red; font-weight: bold;\">365 days</span> of the date of this order, to promote safe, <span style=\"color: blue; font-weight: bold;\">responsible</span>, and rights-affirming development and deployment of AI abroad:    (i) The Secretary of State and the Administrator of the United States Agency for International Development, in coordination with the Secretary of Commerce, acting through the director of NIST, shall publish an AI in Global Development Playbook that incorporates the AI Risk Management Frameworks principles, guidelines, and best practices into the social, technical, economic, governance, human rights, and security conditions of contexts beyond United States borders."
      ],
      "text/plain": [
       "<IPython.core.display.HTML object>"
      ]
     },
     "metadata": {},
     "output_type": "display_data"
    },
    {
     "data": {
      "text/html": [
       "<span style=\"font-weight: bold;\">540 day mandates:</span>"
      ],
      "text/plain": [
       "<IPython.core.display.HTML object>"
      ]
     },
     "metadata": {},
     "output_type": "display_data"
    },
    {
     "data": {
      "text/html": [
       "(iii) Within <span style=\"color: red; font-weight: bold;\">540 days</span> of the date of this order, establish at least four new National AI Research Institutes, in addition to the 25 currently funded as of the date of this order."
      ],
      "text/plain": [
       "<IPython.core.display.HTML object>"
      ]
     },
     "metadata": {},
     "output_type": "display_data"
    }
   ],
   "source": [
    "search_and_return_highlighted_time_mandates(text, 'responsible')"
   ]
  },
  {
   "cell_type": "code",
   "execution_count": null,
   "id": "3c57987e",
   "metadata": {},
   "outputs": [],
   "source": []
  },
  {
   "cell_type": "code",
   "execution_count": null,
   "id": "5dd497b3",
   "metadata": {},
   "outputs": [],
   "source": []
  },
  {
   "cell_type": "markdown",
   "id": "f35b0666",
   "metadata": {},
   "source": [
    "# Summarize Document as a whole, or summarized the results for a specific keyword"
   ]
  },
  {
   "cell_type": "code",
   "execution_count": 22,
   "id": "19d14e5f-875d-4f75-92e1-4dbb1ab03bbd",
   "metadata": {},
   "outputs": [],
   "source": [
    "# https://scikit-learn.org/stable/modules/generated/sklearn.feature_extraction.text.TfidfVectorizer.html\n",
    "from sklearn.feature_extraction.text import TfidfVectorizer\n",
    "from sklearn.metrics.pairwise import cosine_similarity"
   ]
  },
  {
   "cell_type": "code",
   "execution_count": 23,
   "id": "9509dc8d",
   "metadata": {},
   "outputs": [],
   "source": [
    "def extractive_summarization_with_keyword(document, keyword=None, num_sentences=3):\n",
    "    # Tokenize the document into sentences\n",
    "    sentences = sent_tokenize(document)\n",
    "\n",
    "    # Create TF-IDF matrix\n",
    "    vectorizer = TfidfVectorizer()\n",
    "    tfidf_matrix = vectorizer.fit_transform(sentences)\n",
    "\n",
    "    # Calculate cosine similarity between sentences and keyword\n",
    "    if keyword:\n",
    "        keyword_vector = vectorizer.transform([keyword])\n",
    "        similarity_scores = cosine_similarity(tfidf_matrix, keyword_vector)\n",
    "        # Combine similarity scores with sentence scores\n",
    "        combined_scores = similarity_scores.flatten()\n",
    "        # Use PageRank algorithm to rank sentences based on combined scores\n",
    "        ranked_sentences = [(score, sentence) for score, sentence in zip(combined_scores, sentences)]\n",
    "        \n",
    "    else:\n",
    "        # Calculate cosine similarity between sentences\n",
    "        similarity_matrix = cosine_similarity(tfidf_matrix, tfidf_matrix)\n",
    "        # Use PageRank algorithm to rank sentences\n",
    "        scores = similarity_matrix.sum(axis=1)\n",
    "        ranked_sentences = [(score, sentence) for score, sentence in zip(scores, sentences)]\n",
    "    \n",
    "    \n",
    "    ranked_sentences.sort(reverse=True)\n",
    "\n",
    "    # Select the top N sentences for the summary\n",
    "    summary_sentences = [sentence for _, sentence in ranked_sentences[:num_sentences]]\n",
    "    summary = ' '.join(summary_sentences)\n",
    "\n",
    "    return summary\n"
   ]
  },
  {
   "cell_type": "code",
   "execution_count": 24,
   "id": "e666dca6",
   "metadata": {},
   "outputs": [],
   "source": [
    "# Set the keyword for the search\n",
    "keyword_to_search = \"responsible\""
   ]
  },
  {
   "cell_type": "code",
   "execution_count": 25,
   "id": "2e2cb5bc",
   "metadata": {},
   "outputs": [],
   "source": [
    "# Set the number of sentences for the summary\n",
    "num_summary_sentences = 10\n",
    "\n",
    "# Perform extractive summarization with keyword search\n",
    "summary = extractive_summarization_with_keyword(text, keyword_to_search, num_sentences=num_summary_sentences)"
   ]
  },
  {
   "cell_type": "code",
   "execution_count": 26,
   "id": "c8cffaa4",
   "metadata": {},
   "outputs": [
    {
     "name": "stdout",
     "output_type": "stream",
     "text": [
      "\n",
      "Summary (related to the keyword 'responsible'):\n",
      " (c) The responsible development and use of AI require a commitment to supporting American workers. (d) To help ensure the responsible development and deployment of AI in the education sector, the Secretary of Education shall, within 365 days of the date of this order, develop resources, policies, and guidance regarding AI. Responsible AI use has the potential to help solve urgent challenges while making our world more prosperous, productive, innovative, and secure. These resources shall address safe, responsible, and nondiscriminatory uses of AI in education, including the impact AI systems have on vulnerable and underserved communities, and shall be developed in consultation with stakeholders as appropriate. (ii) Within 90 days of the date of this order, the Secretary of Transportation shall direct appropriate Federal Advisory Committees of the DOT to provide advice on the safe and responsible use of AI in transportation. (b) Promoting responsible innovation, competition, and collaboration will allow the United States to lead in AI and unlock the technologys potential to solve some of societys most difficult challenges. (e) To advance responsible AI innovation by a wide range of healthcare technology developers that promotes the welfare of patients and workers in the healthcare sector, the Secretary of HHS shall identify and, as appropriate and consistent with applicable law and the activities directed in section 8 of this order, prioritize grantmaking and other awards, as well as undertake related efforts, to support responsible AI development and use, including:    (i) collaborating with appropriate private sector actors through HHS programs that may support the advancement of AI-enabled tools that develop personalized immune-response profiles for patients, consistent with section 4 of this order;    (ii) prioritizing the allocation of 2024 Leading Edge Acceleration Project cooperative agreement awards to initiatives that explore ways to improve healthcare-data quality to support the responsible development of AI tools for clinical care, real-world-evidence programs, population health, public health, and related research; and    (iii) accelerating grants awarded through the National Institutes of Health Artificial Intelligence/Machine Learning Consortium to Advance Health Equity and Researcher Diversity (AIM-AHEAD) program and showcasing current AIM-AHEAD activities in underserved communities. At the same time, my Administration will promote responsible uses of AI that protect consumers, raise the quality of goods and services, lower their prices, or expand selection and availability. (g) It is important to manage the risks from the Federal Governments own use of AI and increase its internal capacity to regulate, govern, and support responsible use of AI to deliver better results for Americans. The Agenda shall:      (A) include principles, guidelines, priorities, and best practices aimed at ensuring the safe, responsible, beneficial, and sustainable global development and adoption of AI; and      (B) address AIs labor-market implications across international contexts, including by recommending risk mitigations.\n"
     ]
    }
   ],
   "source": [
    "# Display the summary\n",
    "print(\"\\nSummary (related to the keyword '{}'):\\n\".format(keyword_to_search), summary)"
   ]
  },
  {
   "cell_type": "code",
   "execution_count": null,
   "id": "41be8e44",
   "metadata": {},
   "outputs": [],
   "source": []
  },
  {
   "cell_type": "code",
   "execution_count": null,
   "id": "112043a9-e7ce-4bf4-9c4c-e8230a48e912",
   "metadata": {},
   "outputs": [],
   "source": []
  }
 ],
 "metadata": {
  "kernelspec": {
   "display_name": "Python 3 (ipykernel)",
   "language": "python",
   "name": "python3"
  },
  "language_info": {
   "codemirror_mode": {
    "name": "ipython",
    "version": 3
   },
   "file_extension": ".py",
   "mimetype": "text/x-python",
   "name": "python",
   "nbconvert_exporter": "python",
   "pygments_lexer": "ipython3",
   "version": "3.9.18"
  }
 },
 "nbformat": 4,
 "nbformat_minor": 5
}
