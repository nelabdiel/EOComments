{
 "cells": [
  {
   "cell_type": "markdown",
   "id": "67705653",
   "metadata": {},
   "source": [
    "# POV: You are a Policy Analyst at a Federal Agency. A new Executive Order about AI has been release and your Agency needs to know what are the action items and the timeline for each.\n",
    "\n",
    "1) Find all the items associated to privacy.\n",
    "2) Extract any action with a deadline.\n",
    "Demos\n",
    "3) Produce a summary of the document.\n",
    "4) Produce a summary based on a specific topic.\n",
    "\n",
    "Links:\n",
    "- https://www.whitehouse.gov/briefing-room/presidential-actions/2023/10/30/executive-order-on-the-safe-secure-and-trustworthy-development-and-use-of-artificial-intelligence/\n",
    "- https://www.whitehouse.gov/briefing-room/statements-releases/2023/10/30/fact-sheet-president-biden-issues-executive-order-on-safe-secure-and-trustworthy-artificial-intelligence/"
   ]
  },
  {
   "cell_type": "code",
   "execution_count": 1,
   "id": "cf86690e",
   "metadata": {},
   "outputs": [],
   "source": [
    "import re\n",
    "import requests\n",
    "from bs4 import BeautifulSoup\n",
    "\n",
    "from IPython.display import HTML\n",
    "import matplotlib.pyplot as plt\n",
    "\n",
    "import warnings\n",
    "warnings.filterwarnings('ignore')"
   ]
  },
  {
   "cell_type": "code",
   "execution_count": 2,
   "id": "6fa875e4",
   "metadata": {},
   "outputs": [],
   "source": [
    "AIEO = 'https://www.whitehouse.gov/briefing-room/presidential-actions/2023/10/30/executive-order-on-the-safe-secure-and-trustworthy-development-and-use-of-artificial-intelligence/'"
   ]
  },
  {
   "cell_type": "code",
   "execution_count": 3,
   "id": "44459bdf",
   "metadata": {},
   "outputs": [],
   "source": [
    "content = requests.get(AIEO)"
   ]
  },
  {
   "cell_type": "code",
   "execution_count": 4,
   "id": "49ee010d",
   "metadata": {},
   "outputs": [
    {
     "data": {
      "text/plain": [
       "<Response [200]>"
      ]
     },
     "execution_count": 4,
     "metadata": {},
     "output_type": "execute_result"
    }
   ],
   "source": [
    "content"
   ]
  },
  {
   "cell_type": "code",
   "execution_count": 5,
   "id": "f15127f4",
   "metadata": {},
   "outputs": [],
   "source": [
    "soup = BeautifulSoup(content.text)"
   ]
  },
  {
   "cell_type": "code",
   "execution_count": 6,
   "id": "398e7322",
   "metadata": {
    "scrolled": true
   },
   "outputs": [
    {
     "name": "stdout",
     "output_type": "stream",
     "text": [
      "<!DOCTYPE html>\n",
      "<html class=\"no-js alert__has-cookie\" lang=\"en-US\">\n",
      " <head>\n",
      "  <meta charset=\"utf-8\"/>\n",
      "  <meta content=\"notranslate\" name=\"google\"/>\n",
      "  <meta content=\"IE=edge\" http-equiv=\"X-UA-Compatible\"/>\n",
      "  <script type=\"text/javascript\">\n",
      "   (window.NREUM||(NREUM={})).init={privacy:{cookies_enabled:false},ajax:{deny_list:[\"bam.nr-data.net\"]}};(window.NREUM||(NREUM={})).loader_config={licenseKey:\"NRJS-38cd91aea19ca6f246a\",applicationID:\"714016172\"};;/*! For license information please see nr-loader-rum-1.248.0.min.js.LICENSE.txt */\n",
      "(()=>{var e,t,n={234:(e,t,n)=>{\"use strict\";n.d(t,{P_:()=>h,Mt:()=>m,C5:()=>s,DL:()=>w,OP:()=>j,lF:()=>R,Yu:()=>_,Dg:()=>v,CX:()=>c,GE:()=>A,sU:()=>T});var r=n(8632),i=n(9567);const a={beacon:r.ce.beacon,errorBeacon:r.ce.errorBeacon,licenseKey:void 0,applicationID:void 0,sa:void 0,queueTime:void 0,applicationTime:void 0,ttGuid:void 0,user:void 0,account:void 0,product:void 0,extra:void 0,jsAttributes:{},userAttributes:void 0,atts:void 0,transactionName:void 0,\n"
     ]
    }
   ],
   "source": [
    "print(soup.prettify()[:1000])"
   ]
  },
  {
   "cell_type": "code",
   "execution_count": 7,
   "id": "0e81cdea",
   "metadata": {},
   "outputs": [
    {
     "data": {
      "text/plain": [
       "'\\n\\n\\nSkip to content\\n\\n\\nYou have JavaScript disabled. Please enable JavaScript to use this feature.\\n\\n\\n\\nToggle High Contrast\\n\\n\\n\\n\\n\\t\\tToggle High Contrast\\t\\n\\n\\n\\n\\n\\n\\nToggle Large Font Size\\n\\n\\n\\n\\n\\t\\tToggle Large Font Size\\t\\n\\n\\n\\n\\n\\n\\n\\n\\n\\n\\n\\n\\n\\n\\n\\nThe White House\\n\\n\\nThe White House\\n \\n\\n\\n\\n\\nThe White House\\n\\n\\n\\n\\n\\n\\n\\n\\n\\n\\n\\n\\n\\n\\n\\n\\n\\n\\n\\n\\n\\n\\n\\n\\n\\n\\n\\n\\n\\n\\n\\n\\n\\n\\n\\n\\n\\n\\n\\n\\n\\n\\n\\n\\n\\n\\n\\n\\n\\n\\n\\n\\n\\n\\n\\n\\n\\n\\n\\n\\n\\n\\n\\n\\n\\n\\n\\n\\n\\n\\n\\n\\n\\n\\n\\n\\n\\n\\n\\n\\n\\n\\n\\n\\n\\n\\n\\n\\n\\n\\n\\n\\n\\n\\n\\n\\n\\n\\n\\n\\n\\n\\n\\n\\n\\n\\n\\n\\n\\n\\n\\n\\n\\n\\n\\n\\n\\n\\n\\n\\n\\n\\n\\n\\n\\n\\n\\n\\n\\n\\n\\n\\n\\n\\n\\n\\n\\n\\n\\n\\n\\n\\n\\n\\n\\n\\n\\n\\n\\n\\n\\n\\n\\n\\n\\n\\n\\n\\n\\n\\n\\n\\n\\n\\n\\n\\n\\n\\n\\n\\n\\n\\n\\n\\n\\n\\n\\n\\n\\n\\n\\n\\n\\n\\n\\n\\n\\n\\n\\n\\n\\n\\n\\n\\n\\n\\n\\n\\n\\n\\n\\n\\n\\n\\n\\n\\n\\n\\n\\n\\n\\n\\n\\n\\n\\n\\n\\n\\n\\n\\n\\n\\n\\n\\n\\n\\n\\n\\n\\n\\n\\n\\n\\n\\n\\n\\n\\n\\n\\n\\n\\n\\n\\n\\n\\n\\n\\n\\n\\n\\n\\n\\n\\n\\n\\n\\n\\n\\n\\n\\n\\n\\n\\n\\n\\n\\n\\n\\n\\n\\n\\n\\n\\n\\n\\n\\n\\n\\n\\n\\n\\n\\n\\n\\n\\t\\t\\t\\t\\t\\t\\t\\tHome\\t\\t\\t\\t\\t\\t\\t\\n\\n\\nAdministration\\nPriorities\\nThe Record\\nBriefing Room\\nEspañol\\n \\n\\n\\n\\nInstagramOpens in a new window\\nFacebookOpens in a new window\\nTwitterOpens in a new window\\nYouTubeOpens in a new window\\n \\n\\n\\nContact Us\\nPrivacy Policy\\nCopyright Policy\\nAccessibility Statement\\n \\n\\n\\n\\n\\n\\n\\n\\n\\n\\nMenu\\nClose\\n\\n\\n\\n\\n\\n\\n\\n\\nTo search this site, enter a search term\\n\\n \\n\\n\\nSearch\\n\\n\\n\\n\\n\\n\\nMobile Menu Overlay\\n\\n\\n\\n\\n\\n\\n\\n\\n\\n\\n\\n\\n\\n\\n\\n\\n\\n\\n\\n\\n\\n\\n\\n\\n\\n\\n\\n\\n\\n\\n\\n\\n\\n\\n\\n\\n\\n\\n\\nAdministratio'"
      ]
     },
     "execution_count": 7,
     "metadata": {},
     "output_type": "execute_result"
    }
   ],
   "source": [
    "soup.find('body').getText()[:1000]"
   ]
  },
  {
   "cell_type": "code",
   "execution_count": 8,
   "id": "16433994",
   "metadata": {},
   "outputs": [
    {
     "data": {
      "text/plain": [
       "[<p>\n",
       " <strong>The White House</strong><br/>\n",
       " \t\t\t\t\t\t\t\t1600 Pennsylvania Ave NW<br/>\n",
       " \t\t\t\t\t\t\t\tWashington, DC 20500\n",
       " \t\t\t\t\t\t\t</p>,\n",
       " <p>     By the authority vested in me as President by the Constitution and the laws of the United States of America, it is hereby ordered as follows:</p>,\n",
       " <p>     Section 1.  Purpose.  Artificial intelligence (AI) holds extraordinary potential for both promise and peril.  Responsible AI use has the potential to help solve urgent challenges while making our world more prosperous, productive, innovative, and secure.  At the same time, irresponsible use could exacerbate societal harms such as fraud, discrimination, bias, and disinformation; displace and disempower workers; stifle competition; and pose risks to national security.  Harnessing AI for good and realizing its myriad benefits requires mitigating its substantial risks.  This endeavor demands a society-wide effort that includes government, the private sector, academia, and civil society.</p>,\n",
       " <p>     My Administration places the highest urgency on governing the development and use of AI safely and responsibly, and is therefore advancing a coordinated, Federal Government-wide approach to doing so.  The rapid speed at which AI capabilities are advancing compels the United States to lead in this moment for the sake of our security, economy, and society.</p>,\n",
       " <p>     In the end, AI reflects the principles of the people who build it, the people who use it, and the data upon which it is built.  I firmly believe that the power of our ideals; the foundations of our society; and the creativity, diversity, and decency of our people are the reasons that America thrived in past eras of rapid change.  They are the reasons we will succeed again in this moment.  We are more than capable of harnessing AI for justice, security, and opportunity for all.</p>]"
      ]
     },
     "execution_count": 8,
     "metadata": {},
     "output_type": "execute_result"
    }
   ],
   "source": [
    "soup.find('body').findAll('p')[:5]"
   ]
  },
  {
   "cell_type": "code",
   "execution_count": 10,
   "id": "25f7650b",
   "metadata": {},
   "outputs": [],
   "source": [
    "text = ''\n",
    "for line in soup.find('body').findAll('p'):\n",
    "    text = text + line.getText().encode('ascii', 'ignore').decode('ascii')"
   ]
  },
  {
   "cell_type": "code",
   "execution_count": 12,
   "id": "0809b1f8",
   "metadata": {},
   "outputs": [
    {
     "name": "stdout",
     "output_type": "stream",
     "text": [
      "\n",
      "The White House\n",
      "\t\t\t\t\t\t\t\t1600 Pennsylvania Ave NW\n",
      "\t\t\t\t\t\t\t\tWashington, DC 20500\n",
      "\t\t\t\t\t\t\t  By the authority vested in me as President by the Constitution and the laws of the United States of America, it is hereby ordered as follows:  Section 1. Purpose. Artificial intelligence (AI) holds extraordinary potential for both promise and peril. Responsible AI use has the potential to help solve urgent challenges while making our world more prosperous, productive, innovative, and secure. At the same time, irresponsible use could exacerbate societal harms such as fraud, discrimination, bias, and disinformation; displace and disempower workers; stifle competition; and pose risks to national security. Harnessing AI for good and realizing its myriad benefits requires mitigating its substantial risks. This endeavor demands a society-wide effort that includes government, the private sector, academia, and civil society.  My Administration places the highest urgency on governing the development and use of AI safely and responsibly, and is therefore advancing a coordinated, Federal Government-wide approach to doing so. The rapid speed at which AI capabilities are advancing compels the United States to lead in this moment for the sake of our security, economy, and society.  In the end, AI reflects the principles of the people who build it, the people who use it, and the data upon which it is built. I firmly believe that the power of our ideals; the foundations of our society; and the creativity, diversity, and decency of our people are the reasons that America thrived in past eras of rapid change. They are the reasons we will succeed again in this moment. We are more than capable of harnessing AI for justice, security, and opportunity for all.  Sec. 2. Policy and Principles. It is the policy of my Administration to advance and govern the development and use of AI in accordance with eight guiding principles and priorities. When undertaking the actions set forth in this order, executive departments and agencies (agencies) shall, as appropriate and consistent with applicable law, adhere to these principles, while, as feasible, taking into account the views of other agencies, industry, members of academia, civil society, labor unions, international allies and partners, and other relevant organizations:  (a) Artificial Intelligence must be safe and secure. Meeting this goal requires robust, reliable, repeatable, and standardized evaluations of AI systems, as well as policies, institutions, and, as appropriate, other mechanisms to test, understand, and mitigate risks from these systems before they are put to use. It also requires addressing AI systems most pressing security risks  including with respect to biotechnology, cybersecurity, critical infrastructure, and other national security dangers  while navigating AIs opacity and complexity. Testing and evaluations, including post-deployment performance monitoring, will help ensure that AI systems function as intended, are resilient against misuse or dangerous modifications, are ethically developed and operated in a secure manner, and are compliant with applicable Federal laws and policies. Finally, my Administration will help develop effective labeling and content provenance mechanisms, so that Americans are able to determine when content is generated using AI and when it is not. These actions will provide a vital foundation for an approach that addresses AIs risks without unduly reducing its benefits.  (b) Promoting responsible innovation, competition, and collaboration will allow the United States to lead in AI and unlock the technologys potential to solve some of societys most difficult challenges. This effort requires investments in AI-related education, training, development, research, and capacity, while simultaneously tackling novel intellectual property (IP) questions and other problems to protect inventors and creators. Across the Federal Government, my Administration will support programs to provide Americans the skills they need for the age of AI and attract the worlds AI talent to our shores  not just to study, but to stay  so that the companies and technologies of the future are made in America. The Federal Government will promote a fair, open, and competitive ecosystem and marketplace for AI and related technologies so that small developers and entrepreneurs can continue to drive innovation. Doing so requires stopping unlawful collusion and addressing risks from dominant firms use of key assets such as semiconductors, computing power, cloud storage, and data to disadvantage competitors, and it requires supporting a marketplace that harnesses the benefits of AI to provide new opportunities for small businesses, workers, and entrepreneurs.  (c) The responsible development and use of AI require a commitment to supporting American workers. As AI creates new jobs and industries, all workers need a seat at the table, including through collective bargaining, to ensure that th\n"
     ]
    }
   ],
   "source": [
    "print(text[:5000])"
   ]
  },
  {
   "cell_type": "code",
   "execution_count": 11,
   "id": "f779c4d3-7d54-48f2-8e27-f589c18e47f8",
   "metadata": {},
   "outputs": [],
   "source": [
    "import nltk\n",
    "from nltk.tokenize import sent_tokenize"
   ]
  },
  {
   "cell_type": "markdown",
   "id": "ae4b136d",
   "metadata": {},
   "source": [
    "# Find the portions of the text that mention a specific topic"
   ]
  },
  {
   "cell_type": "code",
   "execution_count": 12,
   "id": "d2223353",
   "metadata": {},
   "outputs": [],
   "source": [
    "def search_and_return_sentences(document, search_term):\n",
    "    # Tokenize the document into sentences\n",
    "    sentences = sent_tokenize(document)\n",
    "\n",
    "    # Use regular expression to find sentences containing the search term\n",
    "    matching_sentences = [sentence for sentence in sentences if re.search(r'\\b{}\\b'.format(re.escape(search_term)), sentence, flags=re.IGNORECASE)]\n",
    "\n",
    "    return matching_sentences"
   ]
  },
  {
   "cell_type": "code",
   "execution_count": 13,
   "id": "1d4c0020",
   "metadata": {},
   "outputs": [
    {
     "name": "stdout",
     "output_type": "stream",
     "text": [
      "The Federal Government will enforce existing consumer protection laws and principles and enact appropriate safeguards against fraud, unintended bias, discrimination, infringements on privacy, and other harms from AI.\n",
      "\n",
      "\n",
      "(f) Americans privacy and civil liberties must be protected as AI continues advancing.\n",
      "\n",
      "\n",
      "To combat this risk, the Federal Government will ensure that the collection, use, and retention of data is lawful, is secure, and mitigates privacy and confidentiality risks.\n",
      "\n",
      "\n",
      "Agencies shall use available policy and technical tools, including privacy-enhancing technologies (PETs) where appropriate, to protect privacy and to combat the broader legal and societal risks  including the chilling of First Amendment rights  that result from the improper collection and use of peoples data.\n",
      "\n",
      "\n",
      "(j) The term differential-privacy guarantee means protections that allow information about a group to be shared while provably limiting the improper access, use, or disclosure of personal information about particular entities.\n",
      "\n",
      "\n",
      "(z) The term privacy-enhancing technology means any software or hardware solution, technical process, technique, or other technological means of mitigating privacy risks arising from data processing, including by enhancing predictability, manageability, disassociability, storage, security, and confidentiality.\n",
      "\n",
      "\n",
      "These technological means may include secure multiparty computation, homomorphic encryption, zero-knowledge proofs, federated learning, secure enclaves, differential privacy, and synthetic-data-generation tools.\n",
      "\n",
      "\n",
      "This is also sometimes referred to as privacy-preserving technology.\n",
      "\n",
      "\n",
      "(aa) The term privacy impact assessment has the meaning set forth in OMB Circular No.\n",
      "\n",
      "\n",
      "(a) To develop and strengthen public-private partnerships for advancing innovation, commercialization, and risk-mitigation methods for AI, and to help promote safe, responsible, fair, privacy-protecting, and trustworthy AI systems, the Director of NSF shall take the following steps:    (i) Within 90 days of the date of this order, in coordination with the heads of agencies that the Director of NSF deems appropriate, launch a pilot program implementing the National AI Research Resource (NAIRR), consistent with past recommendations of the NAIRR Task Force.\n",
      "\n",
      "\n",
      "(b) To promote the equitable treatment of individuals and adhere to the Federal Governments fundamental obligation to ensure fair and impartial justice for all, with respect to the use of AI in the criminal justice system, the Attorney General shall, in consultation with the Secretary of Homeland Security and the Director of OSTP:    (i) within 365 days of the date of this order, submit to the President a report that addresses the use of AI in the criminal justice system, including any use in:      (A) sentencing;      (B) parole, supervised release, and probation;      (C) bail, pretrial release, and pretrial detention;      (D) risk assessments, including pretrial, earned time, and early release or transfer to home-confinement determinations;      (E) police surveillance;      (F) crime forecasting and predictive policing, including the ingestion of historical crime data into AI systems to predict high-density hot spots;      (G) prison-management tools; and      (H) forensic analysis;     (ii) within the report set forth in subsection 7.1(b)(i) of this section:      (A) identify areas where AI can enhance law enforcement efficiency and accuracy, consistent with protections for privacy, civil rights, and civil liberties; and      (B) recommend best practices for law enforcement agencies, including safeguards and appropriate use limits for AI, to address the concerns set forth in section 13(e)(i) of Executive Order 14074 as well as the best practices and the guidelines set forth in section 13(e)(iii) of Executive Order 14074; and     (iii) supplement the report set forth in subsection 7.1(b)(i) of this section as appropriate with recommendations to the President, including with respect to requests for necessary legislation.\n",
      "\n",
      "\n",
      "(c) To advance the presence of relevant technical experts and expertise (such as machine-learning engineers, software and infrastructure engineering, data privacy experts, data scientists, and user experience researchers) among law enforcement professionals:    (i) The interagency working group created pursuant to section 3 of Executive Order 14074 shall, within 180 days of the date of this order, identify and share best practices for recruiting and hiring law enforcement professionals who have the technical skills mentioned in subsection 7.1(c) of this section, and for training law enforcement professionals about responsible application of AI.\n",
      "\n",
      "\n",
      "(a) Independent regulatory agencies are encouraged, as they deem appropriate, to consider using their full range of authorities to protect American consumers from fraud, discrimination, and threats to privacy and to address other risks that may arise from the use of AI, including risks to financial stability, and to consider rulemaking, as well as emphasizing or clarifying where existing regulations and guidance apply to AI, including clarifying the responsibility of regulated entities to conduct due diligence on and monitor any third-party AI services they use, and emphasizing or clarifying requirements and expectations related to the transparency of AI models and regulated entities ability to explain their use of AI models.\n",
      "\n",
      "\n",
      "(b) To help ensure the safe, responsible deployment and use of AI in the healthcare, public-health, and human-services sectors:    (i) Within 90 days of the date of this order, the Secretary of HHS shall, in consultation with the Secretary of Defense and the Secretary of Veterans Affairs, establish an HHS AI Task Force that shall, within 365 days of its creation, develop a strategic plan that includes policies and frameworks  possibly including regulatory action, as appropriate  on responsible deployment and use of AI and AI-enabled technologies in the health and human services sector (including research and discovery, drug and device safety, healthcare delivery and financing, and public health), and identify appropriate guidance andresources to promote that deployment, including in the following areas:      (A) development, maintenance, and use of predictive and generative AI-enabled technologies in healthcare delivery and financing  including quality measurement, performance improvement, program integrity, benefits administration, and patient experience  taking into account considerations such as appropriate human oversight of the application of AI-generated output;      (B) long-term safety and real-world performance monitoring of AI-enabled technologies in the health and human services sector, including clinically relevant or significant modifications and performance across population groups, with a means to communicate product updates to regulators, developers, and users;      (C) incorporation of equity principles in AI-enabled technologies used in the health and human services sector, using disaggregated data on affected populations and representative population data sets when developing new models, monitoring algorithmic performance against discrimination and bias in existing models, and helping to identify and mitigate discrimination and bias in current systems;      (D) incorporation of safety, privacy, and security standards into the software-development lifecycle for protection of personally identifiable information, including measures to address AI-enhanced cybersecurity threats in the health and human services sector;      (E) development, maintenance, and availability of documentation to help users determine appropriate and safe uses of AI in local settings in the health and human services sector;      (F) work to be done with State, local, Tribal, and territorial health and human services agencies to advance positive use cases and best practices for use of AI in local settings; and      (G) identification of uses of AI to promote workplace efficiency and satisfaction in the health and human services sector, including reducing administrative burdens.\n",
      "\n",
      "\n",
      "Such actions may include:      (A) convening and providing technical assistance to health and human services providers and payers about their obligations under Federal nondiscrimination and privacy laws as they relate to AI and the potential consequences of noncompliance; and      (B) issuing guidance, or taking other action as appropriate, in response to any complaints or other reports of noncompliance with Federal nondiscrimination and privacy laws as they relate to AI.\n",
      "\n",
      "\n",
      "They shall also include the development of an AI toolkit for education leaders implementing recommendations from the Department of Educations AI and the Future of Teaching and Learning report, including appropriate human review of AI decisions, designing AI systems to enhance trust and safety and align with privacy-related laws and regulations in the educational context, and developing education-specific guardrails.\n",
      "\n",
      "\n",
      "Protecting Privacy.\n",
      "\n",
      "\n",
      "(a) To mitigate privacy risks potentially exacerbated by AI  including by AIs facilitation of the collection or use of information about individuals, or the making of inferences about individuals  the Director of OMB shall:    (i) evaluate and take steps to identify commercially available information (CAI) procured by agencies, particularly CAI that contains personally identifiable information and including CAI procured from data brokers and CAI procured and processed indirectly through vendors, in appropriate agency inventory and reporting processes (other than when it is used for the purposes of national security);    (ii) evaluate, in consultation with the Federal Privacy Council and the Interagency Council on Statistical Policy, agency standards and procedures associated with the collection, processing, maintenance, use, sharing, dissemination, and disposition of CAI that contains personally identifiable information (other than when it is used for the purposes of national security) to inform potential guidance to agencies on ways to mitigate privacy and confidentiality risks from agencies activities related to CAI;    (iii) within 180 days of the date of this order, in consultation with the Attorney General, the Assistant to the President for Economic Policy, and the Director of OSTP, issue an RFI to inform potential revisions to guidance to agencies on implementing the privacy provisions of the E-Government Act of 2002 (PublicLaw107-347).\n",
      "\n",
      "\n",
      "The RFI shall seek feedback regarding howprivacy impact assessmentsmay bemore effective at mitigating privacy risks, including those that are further exacerbated by AI; and    (iv) take such steps as are necessary and appropriate, consistent with applicable law, to support and advance the near-term actions and long-term strategy identified through the RFI process, including issuing new or updated guidance or RFIs or consulting other agencies or the Federal Privacy Council.\n",
      "\n",
      "\n",
      "(b) Within 365 days of the date of this order, to better enable agencies to use PETs to safeguard Americans privacy from the potential threats exacerbated by AI, the Secretary of Commerce, acting through the Director of NIST, shall create guidelines for agencies to evaluate the efficacy of differential-privacy-guarantee protections, including for AI.\n",
      "\n",
      "\n",
      "The guidelines shall, at a minimum, describe the significant factors that bear on differential-privacy safeguards and common risks to realizing differential privacy in practice.\n",
      "\n",
      "\n",
      "(c) To advance research, development, and implementation related to PETs:    (i) Within 120 days of the date of this order, the Director of NSF, in collaboration with the Secretary of Energy, shall fund the creation of a Research Coordination Network (RCN) dedicated to advancing privacy research and, in particular, the development, deployment, and scaling of PETs.\n",
      "\n",
      "\n",
      "The RCN shall serve to enable privacy researchers to share information, coordinate and collaborate in research, and develop standards for the privacy-research community.\n",
      "\n",
      "\n",
      "To protect Federal Government information, agencies are also encouraged to employ risk-management practices, such as training their staff on proper use, protection, dissemination, and disposition of Federal information; negotiating appropriate terms of service with vendors; implementing measures designed to ensure compliance with record-keeping, cybersecurity, confidentiality, privacy, and data protection requirements; and deploying other measures to prevent misuse of Federal Government information in generative AI.\n",
      "\n",
      "\n",
      "Agencies shall ensure that AI and other related talent needs (such as technology governance and privacy) are reflected in strategic workforce planning and budget formulation.\n",
      "\n",
      "\n",
      "In particular, the Secretary of Commerce shall:    (i) within 270 days of the date of this order, establish a plan for global engagement on promoting and developing AI standards, with lines of effort that may include:      (A) AI nomenclature and terminology;      (B) best practices regarding data capture, processing, protection, privacy, confidentiality, handling, and analysis;      (C) trustworthiness, verification, and assurance of AI systems; and      (D) AI risk management;    (ii) within 180 days of the date the plan is established, submit a report to the President on priority actions taken pursuant to the plan; and    (iii) ensure that such efforts are guided by principles set out in the NIST AI Risk Management Framework and United States Government National Standards Strategy for Critical and Emerging Technology.\n",
      "\n",
      "\n"
     ]
    }
   ],
   "source": [
    "search_term = \"Privacy\"\n",
    "result_sentences = search_and_return_sentences(text, search_term)\n",
    "\n",
    "# Display the sentences containing the search term\n",
    "for sentence in result_sentences:\n",
    "    print(sentence)\n",
    "    print('\\n')"
   ]
  },
  {
   "cell_type": "markdown",
   "id": "b4f745cf",
   "metadata": {},
   "source": [
    "# Find the portions of the text that mention a specific topic and highlight the topic"
   ]
  },
  {
   "cell_type": "code",
   "execution_count": 14,
   "id": "cbee9ff3",
   "metadata": {},
   "outputs": [],
   "source": [
    "def highlight_search_term(sentence, search_term):\n",
    "    # Use HTML to highlight the search term in the sentence\n",
    "    highlighted_sentence = re.sub(r'\\b{}\\b'.format(re.escape(search_term)),\n",
    "                                  '<span style=\"color: red; font-weight: bold;\">{}</span>'.format(search_term),\n",
    "                                  sentence, flags=re.IGNORECASE)\n",
    "    return highlighted_sentence"
   ]
  },
  {
   "cell_type": "code",
   "execution_count": 15,
   "id": "b501f797",
   "metadata": {},
   "outputs": [],
   "source": [
    "def search_and_return_highlighted_sentences(document, search_term):\n",
    "    # Tokenize the document into sentences\n",
    "    sentences = sent_tokenize(document)\n",
    "\n",
    "    # Filter and highlight the sentences that contain the search term\n",
    "    matching_sentences = [highlight_search_term(sentence, search_term) for sentence in sentences if re.search(r'\\b{}\\b'.format(re.escape(search_term)), sentence, flags=re.IGNORECASE)]\n",
    "\n",
    "    # Display the highlighted sentences as HTML\n",
    "    display(HTML('<br><br>'.join(matching_sentences)))"
   ]
  },
  {
   "cell_type": "code",
   "execution_count": 16,
   "id": "6440a9f2",
   "metadata": {
    "scrolled": true
   },
   "outputs": [
    {
     "data": {
      "text/html": [
       "We are more than capable of harnessing AI for <span style=\"color: red; font-weight: bold;\">justice</span>, security, and opportunity for all.<br><br>My Administration cannot  and will not  tolerate the use of AI to disadvantage those who are already too often denied equal opportunity and <span style=\"color: red; font-weight: bold;\">justice</span>.<br><br>It is necessary to hold those developing and deploying AI accountable to standards that protect against unlawful discrimination and abuse, including in the <span style=\"color: red; font-weight: bold;\">justice</span> system and the Federal Government.<br><br>Only then can Americans trust AI to advance civil rights, civil liberties, equity, and <span style=\"color: red; font-weight: bold;\">justice</span> for all.<br><br>(l) The term Federal law enforcement agency has the meaning set forth in section 21(a) of Executive Order 14074 of May 25, 2022 (Advancing Effective, Accountable Policing and Criminal <span style=\"color: red; font-weight: bold;\">justice</span> Practices To Enhance Public Trust and Public Safety).<br><br>Strengthening AI and Civil Rights in the Criminal <span style=\"color: red; font-weight: bold;\">justice</span> System.<br><br>(b) To promote the equitable treatment of individuals and adhere to the Federal Governments fundamental obligation to ensure fair and impartial <span style=\"color: red; font-weight: bold;\">justice</span> for all, with respect to the use of AI in the criminal <span style=\"color: red; font-weight: bold;\">justice</span> system, the Attorney General shall, in consultation with the Secretary of Homeland Security and the Director of OSTP:    (i) within 365 days of the date of this order, submit to the President a report that addresses the use of AI in the criminal <span style=\"color: red; font-weight: bold;\">justice</span> system, including any use in:      (A) sentencing;      (B) parole, supervised release, and probation;      (C) bail, pretrial release, and pretrial detention;      (D) risk assessments, including pretrial, earned time, and early release or transfer to home-confinement determinations;      (E) police surveillance;      (F) crime forecasting and predictive policing, including the ingestion of historical crime data into AI systems to predict high-density hot spots;      (G) prison-management tools; and      (H) forensic analysis;     (ii) within the report set forth in subsection 7.1(b)(i) of this section:      (A) identify areas where AI can enhance law enforcement efficiency and accuracy, consistent with protections for privacy, civil rights, and civil liberties; and      (B) recommend best practices for law enforcement agencies, including safeguards and appropriate use limits for AI, to address the concerns set forth in section 13(e)(i) of Executive Order 14074 as well as the best practices and the guidelines set forth in section 13(e)(iii) of Executive Order 14074; and     (iii) supplement the report set forth in subsection 7.1(b)(i) of this section as appropriate with recommendations to the President, including with respect to requests for necessary legislation.<br><br>(ii) Within 270 days of the date of this order, the Attorney General shall, in consultation with the Secretary of Homeland Security, consider those best practices and the guidance developed under section 3(d) of Executive Order 14074 and, if necessary, develop additional general recommendations for State, local, Tribal, and territorial law enforcement agencies and criminal <span style=\"color: red; font-weight: bold;\">justice</span> agencies seeking to recruit, hire, train, promote, and retain highly qualified and service-oriented officers and staff with relevant technical knowledge."
      ],
      "text/plain": [
       "<IPython.core.display.HTML object>"
      ]
     },
     "metadata": {},
     "output_type": "display_data"
    }
   ],
   "source": [
    "search_term = \"justice\"\n",
    "search_and_return_highlighted_sentences(text, search_term)"
   ]
  },
  {
   "cell_type": "code",
   "execution_count": 17,
   "id": "302906b5",
   "metadata": {
    "scrolled": true
   },
   "outputs": [
    {
     "data": {
      "text/html": [
       "The Federal Government will enforce existing consumer protection laws and principles and enact appropriate safeguards against fraud, unintended bias, discrimination, infringements on <span style=\"color: red; font-weight: bold;\">privacy</span>, and other harms from AI.<br><br>(f) Americans <span style=\"color: red; font-weight: bold;\">privacy</span> and civil liberties must be protected as AI continues advancing.<br><br>To combat this risk, the Federal Government will ensure that the collection, use, and retention of data is lawful, is secure, and mitigates <span style=\"color: red; font-weight: bold;\">privacy</span> and confidentiality risks.<br><br>Agencies shall use available policy and technical tools, including <span style=\"color: red; font-weight: bold;\">privacy</span>-enhancing technologies (PETs) where appropriate, to protect <span style=\"color: red; font-weight: bold;\">privacy</span> and to combat the broader legal and societal risks  including the chilling of First Amendment rights  that result from the improper collection and use of peoples data.<br><br>(j) The term differential-<span style=\"color: red; font-weight: bold;\">privacy</span> guarantee means protections that allow information about a group to be shared while provably limiting the improper access, use, or disclosure of personal information about particular entities.<br><br>(z) The term <span style=\"color: red; font-weight: bold;\">privacy</span>-enhancing technology means any software or hardware solution, technical process, technique, or other technological means of mitigating <span style=\"color: red; font-weight: bold;\">privacy</span> risks arising from data processing, including by enhancing predictability, manageability, disassociability, storage, security, and confidentiality.<br><br>These technological means may include secure multiparty computation, homomorphic encryption, zero-knowledge proofs, federated learning, secure enclaves, differential <span style=\"color: red; font-weight: bold;\">privacy</span>, and synthetic-data-generation tools.<br><br>This is also sometimes referred to as <span style=\"color: red; font-weight: bold;\">privacy</span>-preserving technology.<br><br>(aa) The term <span style=\"color: red; font-weight: bold;\">privacy</span> impact assessment has the meaning set forth in OMB Circular No.<br><br>(a) To develop and strengthen public-private partnerships for advancing innovation, commercialization, and risk-mitigation methods for AI, and to help promote safe, responsible, fair, <span style=\"color: red; font-weight: bold;\">privacy</span>-protecting, and trustworthy AI systems, the Director of NSF shall take the following steps:    (i) Within 90 days of the date of this order, in coordination with the heads of agencies that the Director of NSF deems appropriate, launch a pilot program implementing the National AI Research Resource (NAIRR), consistent with past recommendations of the NAIRR Task Force.<br><br>(b) To promote the equitable treatment of individuals and adhere to the Federal Governments fundamental obligation to ensure fair and impartial justice for all, with respect to the use of AI in the criminal justice system, the Attorney General shall, in consultation with the Secretary of Homeland Security and the Director of OSTP:    (i) within 365 days of the date of this order, submit to the President a report that addresses the use of AI in the criminal justice system, including any use in:      (A) sentencing;      (B) parole, supervised release, and probation;      (C) bail, pretrial release, and pretrial detention;      (D) risk assessments, including pretrial, earned time, and early release or transfer to home-confinement determinations;      (E) police surveillance;      (F) crime forecasting and predictive policing, including the ingestion of historical crime data into AI systems to predict high-density hot spots;      (G) prison-management tools; and      (H) forensic analysis;     (ii) within the report set forth in subsection 7.1(b)(i) of this section:      (A) identify areas where AI can enhance law enforcement efficiency and accuracy, consistent with protections for <span style=\"color: red; font-weight: bold;\">privacy</span>, civil rights, and civil liberties; and      (B) recommend best practices for law enforcement agencies, including safeguards and appropriate use limits for AI, to address the concerns set forth in section 13(e)(i) of Executive Order 14074 as well as the best practices and the guidelines set forth in section 13(e)(iii) of Executive Order 14074; and     (iii) supplement the report set forth in subsection 7.1(b)(i) of this section as appropriate with recommendations to the President, including with respect to requests for necessary legislation.<br><br>(c) To advance the presence of relevant technical experts and expertise (such as machine-learning engineers, software and infrastructure engineering, data <span style=\"color: red; font-weight: bold;\">privacy</span> experts, data scientists, and user experience researchers) among law enforcement professionals:    (i) The interagency working group created pursuant to section 3 of Executive Order 14074 shall, within 180 days of the date of this order, identify and share best practices for recruiting and hiring law enforcement professionals who have the technical skills mentioned in subsection 7.1(c) of this section, and for training law enforcement professionals about responsible application of AI.<br><br>(a) Independent regulatory agencies are encouraged, as they deem appropriate, to consider using their full range of authorities to protect American consumers from fraud, discrimination, and threats to <span style=\"color: red; font-weight: bold;\">privacy</span> and to address other risks that may arise from the use of AI, including risks to financial stability, and to consider rulemaking, as well as emphasizing or clarifying where existing regulations and guidance apply to AI, including clarifying the responsibility of regulated entities to conduct due diligence on and monitor any third-party AI services they use, and emphasizing or clarifying requirements and expectations related to the transparency of AI models and regulated entities ability to explain their use of AI models.<br><br>(b) To help ensure the safe, responsible deployment and use of AI in the healthcare, public-health, and human-services sectors:    (i) Within 90 days of the date of this order, the Secretary of HHS shall, in consultation with the Secretary of Defense and the Secretary of Veterans Affairs, establish an HHS AI Task Force that shall, within 365 days of its creation, develop a strategic plan that includes policies and frameworks  possibly including regulatory action, as appropriate  on responsible deployment and use of AI and AI-enabled technologies in the health and human services sector (including research and discovery, drug and device safety, healthcare delivery and financing, and public health), and identify appropriate guidance andresources to promote that deployment, including in the following areas:      (A) development, maintenance, and use of predictive and generative AI-enabled technologies in healthcare delivery and financing  including quality measurement, performance improvement, program integrity, benefits administration, and patient experience  taking into account considerations such as appropriate human oversight of the application of AI-generated output;      (B) long-term safety and real-world performance monitoring of AI-enabled technologies in the health and human services sector, including clinically relevant or significant modifications and performance across population groups, with a means to communicate product updates to regulators, developers, and users;      (C) incorporation of equity principles in AI-enabled technologies used in the health and human services sector, using disaggregated data on affected populations and representative population data sets when developing new models, monitoring algorithmic performance against discrimination and bias in existing models, and helping to identify and mitigate discrimination and bias in current systems;      (D) incorporation of safety, <span style=\"color: red; font-weight: bold;\">privacy</span>, and security standards into the software-development lifecycle for protection of personally identifiable information, including measures to address AI-enhanced cybersecurity threats in the health and human services sector;      (E) development, maintenance, and availability of documentation to help users determine appropriate and safe uses of AI in local settings in the health and human services sector;      (F) work to be done with State, local, Tribal, and territorial health and human services agencies to advance positive use cases and best practices for use of AI in local settings; and      (G) identification of uses of AI to promote workplace efficiency and satisfaction in the health and human services sector, including reducing administrative burdens.<br><br>Such actions may include:      (A) convening and providing technical assistance to health and human services providers and payers about their obligations under Federal nondiscrimination and <span style=\"color: red; font-weight: bold;\">privacy</span> laws as they relate to AI and the potential consequences of noncompliance; and      (B) issuing guidance, or taking other action as appropriate, in response to any complaints or other reports of noncompliance with Federal nondiscrimination and <span style=\"color: red; font-weight: bold;\">privacy</span> laws as they relate to AI.<br><br>They shall also include the development of an AI toolkit for education leaders implementing recommendations from the Department of Educations AI and the Future of Teaching and Learning report, including appropriate human review of AI decisions, designing AI systems to enhance trust and safety and align with <span style=\"color: red; font-weight: bold;\">privacy</span>-related laws and regulations in the educational context, and developing education-specific guardrails.<br><br>Protecting <span style=\"color: red; font-weight: bold;\">privacy</span>.<br><br>(a) To mitigate <span style=\"color: red; font-weight: bold;\">privacy</span> risks potentially exacerbated by AI  including by AIs facilitation of the collection or use of information about individuals, or the making of inferences about individuals  the Director of OMB shall:    (i) evaluate and take steps to identify commercially available information (CAI) procured by agencies, particularly CAI that contains personally identifiable information and including CAI procured from data brokers and CAI procured and processed indirectly through vendors, in appropriate agency inventory and reporting processes (other than when it is used for the purposes of national security);    (ii) evaluate, in consultation with the Federal <span style=\"color: red; font-weight: bold;\">privacy</span> Council and the Interagency Council on Statistical Policy, agency standards and procedures associated with the collection, processing, maintenance, use, sharing, dissemination, and disposition of CAI that contains personally identifiable information (other than when it is used for the purposes of national security) to inform potential guidance to agencies on ways to mitigate <span style=\"color: red; font-weight: bold;\">privacy</span> and confidentiality risks from agencies activities related to CAI;    (iii) within 180 days of the date of this order, in consultation with the Attorney General, the Assistant to the President for Economic Policy, and the Director of OSTP, issue an RFI to inform potential revisions to guidance to agencies on implementing the <span style=\"color: red; font-weight: bold;\">privacy</span> provisions of the E-Government Act of 2002 (PublicLaw107-347).<br><br>The RFI shall seek feedback regarding howprivacy impact assessmentsmay bemore effective at mitigating <span style=\"color: red; font-weight: bold;\">privacy</span> risks, including those that are further exacerbated by AI; and    (iv) take such steps as are necessary and appropriate, consistent with applicable law, to support and advance the near-term actions and long-term strategy identified through the RFI process, including issuing new or updated guidance or RFIs or consulting other agencies or the Federal <span style=\"color: red; font-weight: bold;\">privacy</span> Council.<br><br>(b) Within 365 days of the date of this order, to better enable agencies to use PETs to safeguard Americans <span style=\"color: red; font-weight: bold;\">privacy</span> from the potential threats exacerbated by AI, the Secretary of Commerce, acting through the Director of NIST, shall create guidelines for agencies to evaluate the efficacy of differential-<span style=\"color: red; font-weight: bold;\">privacy</span>-guarantee protections, including for AI.<br><br>The guidelines shall, at a minimum, describe the significant factors that bear on differential-<span style=\"color: red; font-weight: bold;\">privacy</span> safeguards and common risks to realizing differential <span style=\"color: red; font-weight: bold;\">privacy</span> in practice.<br><br>(c) To advance research, development, and implementation related to PETs:    (i) Within 120 days of the date of this order, the Director of NSF, in collaboration with the Secretary of Energy, shall fund the creation of a Research Coordination Network (RCN) dedicated to advancing <span style=\"color: red; font-weight: bold;\">privacy</span> research and, in particular, the development, deployment, and scaling of PETs.<br><br>The RCN shall serve to enable <span style=\"color: red; font-weight: bold;\">privacy</span> researchers to share information, coordinate and collaborate in research, and develop standards for the <span style=\"color: red; font-weight: bold;\">privacy</span>-research community.<br><br>To protect Federal Government information, agencies are also encouraged to employ risk-management practices, such as training their staff on proper use, protection, dissemination, and disposition of Federal information; negotiating appropriate terms of service with vendors; implementing measures designed to ensure compliance with record-keeping, cybersecurity, confidentiality, <span style=\"color: red; font-weight: bold;\">privacy</span>, and data protection requirements; and deploying other measures to prevent misuse of Federal Government information in generative AI.<br><br>Agencies shall ensure that AI and other related talent needs (such as technology governance and <span style=\"color: red; font-weight: bold;\">privacy</span>) are reflected in strategic workforce planning and budget formulation.<br><br>In particular, the Secretary of Commerce shall:    (i) within 270 days of the date of this order, establish a plan for global engagement on promoting and developing AI standards, with lines of effort that may include:      (A) AI nomenclature and terminology;      (B) best practices regarding data capture, processing, protection, <span style=\"color: red; font-weight: bold;\">privacy</span>, confidentiality, handling, and analysis;      (C) trustworthiness, verification, and assurance of AI systems; and      (D) AI risk management;    (ii) within 180 days of the date the plan is established, submit a report to the President on priority actions taken pursuant to the plan; and    (iii) ensure that such efforts are guided by principles set out in the NIST AI Risk Management Framework and United States Government National Standards Strategy for Critical and Emerging Technology."
      ],
      "text/plain": [
       "<IPython.core.display.HTML object>"
      ]
     },
     "metadata": {},
     "output_type": "display_data"
    }
   ],
   "source": [
    "search_term = \"privacy\"\n",
    "search_and_return_highlighted_sentences(text, search_term)"
   ]
  },
  {
   "cell_type": "code",
   "execution_count": null,
   "id": "1f7e807e",
   "metadata": {},
   "outputs": [],
   "source": []
  },
  {
   "cell_type": "markdown",
   "id": "fbfc144f",
   "metadata": {},
   "source": [
    "# Find time sensitive information"
   ]
  },
  {
   "cell_type": "code",
   "execution_count": 18,
   "id": "90ef2db0",
   "metadata": {},
   "outputs": [],
   "source": [
    "def extract_day_values(sentence):\n",
    "    # Use regular expression to extract day values from the sentence\n",
    "    matches = re.findall(r'\\b(\\d+)\\s*days?\\b', sentence, flags=re.IGNORECASE)\n",
    "    return [int(match) for match in matches]"
   ]
  },
  {
   "cell_type": "code",
   "execution_count": null,
   "id": "f8c0b463",
   "metadata": {},
   "outputs": [],
   "source": []
  },
  {
   "cell_type": "code",
   "execution_count": 19,
   "id": "da4f1fb1",
   "metadata": {},
   "outputs": [],
   "source": [
    "def highlight_additional_term(sentence, additional_term):\n",
    "    # Use HTML to highlight the search term in the sentence\n",
    "    highlighted_sentence = re.sub(r'\\b{}\\b'.format(re.escape(additional_term)),\n",
    "                                  '<span style=\"color: blue; font-weight: bold;\">{}</span>'.format(additional_term),\n",
    "                                  sentence, flags=re.IGNORECASE)\n",
    "    return highlighted_sentence"
   ]
  },
  {
   "cell_type": "code",
   "execution_count": 20,
   "id": "263ebfd6",
   "metadata": {},
   "outputs": [],
   "source": [
    "def search_and_return_highlighted_time_mandates(document, additional_term=None):\n",
    "    # Tokenize the document into sentences\n",
    "    sentences = sent_tokenize(document)\n",
    "\n",
    "    # Extract and store day values along with sentences\n",
    "    sentences_with_days = {}\n",
    "    for sentence in sentences:\n",
    "        day_values = extract_day_values(sentence)\n",
    "        if day_values:\n",
    "            for day_value in day_values:\n",
    "                if day_value not in sentences_with_days:\n",
    "                    sentences_with_days[day_value] = []\n",
    "                sentences_with_days[day_value].append(sentence)\n",
    "    # Sort day values in ascending order\n",
    "    sorted_days = sorted(sentences_with_days.keys())\n",
    "\n",
    "    # Display sentences for each day value\n",
    "    for day_value in sorted_days:\n",
    "        # Print the amount of days in bold\n",
    "        display(HTML(f'<span style=\"font-weight: bold;\">{day_value} day mandates:</span>'))\n",
    "\n",
    "        # Display the sentences that contain the specified amount of days\n",
    "        for sentence in sentences_with_days[day_value]:\n",
    "            highlighted_sentence = highlight_search_term(sentence, f'{day_value} days')\n",
    "            if additional_term:\n",
    "                highlighted_sentence = highlight_additional_term(highlighted_sentence, additional_term)\n",
    "            display(HTML(highlighted_sentence))"
   ]
  },
  {
   "cell_type": "code",
   "execution_count": 21,
   "id": "221a9f03",
   "metadata": {
    "scrolled": true
   },
   "outputs": [
    {
     "data": {
      "text/html": [
       "<span style=\"font-weight: bold;\">30 day mandates:</span>"
      ],
      "text/plain": [
       "<IPython.core.display.HTML object>"
      ]
     },
     "metadata": {},
     "output_type": "display_data"
    },
    {
     "data": {
      "text/html": [
       "(c) To promote the safe and <span style=\"color: blue; font-weight: bold;\">responsible</span> development and use of AI in the transportation sector, in consultation with relevant agencies:    (i) Within <span style=\"color: red; font-weight: bold;\">30 days</span> of the date of this order, the Secretary of Transportation shall direct the Nontraditional and Emerging Transportation Technology (NETT) Council to assess the need for information, technical assistance, and guidance regarding the use of AI in transportation."
      ],
      "text/plain": [
       "<IPython.core.display.HTML object>"
      ]
     },
     "metadata": {},
     "output_type": "display_data"
    },
    {
     "data": {
      "text/html": [
       "(g) Within <span style=\"color: red; font-weight: bold;\">30 days</span> of the date of this order, to increase agency investment in AI, the Technology Modernization Board shall consider, as it deems appropriate and consistent with applicable law, prioritizing funding for AI projects for the Technology Modernization Fund for a period of at least 1 year."
      ],
      "text/plain": [
       "<IPython.core.display.HTML object>"
      ]
     },
     "metadata": {},
     "output_type": "display_data"
    },
    {
     "data": {
      "text/html": [
       "<span style=\"font-weight: bold;\">45 day mandates:</span>"
      ],
      "text/plain": [
       "<IPython.core.display.HTML object>"
      ]
     },
     "metadata": {},
     "output_type": "display_data"
    },
    {
     "data": {
      "text/html": [
       "(e) Within <span style=\"color: red; font-weight: bold;\">45 days</span> of the date of this order, for purposes of considering updates to the Schedule A list of occupations, 20 C.F.R."
      ],
      "text/plain": [
       "<IPython.core.display.HTML object>"
      ]
     },
     "metadata": {},
     "output_type": "display_data"
    },
    {
     "data": {
      "text/html": [
       "To assist with such work, within <span style=\"color: red; font-weight: bold;\">45 days</span> of the date of this order, the heads of agencies whom the Director of NSF identifies for coordination pursuant to this subsection shall each submit to the Director of NSF a report identifying the agency resources that could be developed and integrated into such a pilot program."
      ],
      "text/plain": [
       "<IPython.core.display.HTML object>"
      ]
     },
     "metadata": {},
     "output_type": "display_data"
    },
    {
     "data": {
      "text/html": [
       "(a) Within <span style=\"color: red; font-weight: bold;\">45 days</span> of the date of this order, to plan a national surge in AI talent in the Federal Government, the Director of OSTP and the Director of OMB, in consultation with the Assistant to the President for National Security Affairs, the Assistant to the President for Economic Policy, the Assistant to the President and Domestic Policy Advisor, and the Assistant to the President and Director of the Gender Policy Council, shall identify priority mission areas for increased Federal Government AI talent, the types of talent that are highest priority to recruit and develop to ensure adequate implementation of this order and use of relevant enforcement and regulatory authorities to address AI risks, and accelerated hiring pathways."
      ],
      "text/plain": [
       "<IPython.core.display.HTML object>"
      ]
     },
     "metadata": {},
     "output_type": "display_data"
    },
    {
     "data": {
      "text/html": [
       "(b) Within <span style=\"color: red; font-weight: bold;\">45 days</span> of the date of this order, to coordinate rapid advances in the capacity of the Federal AI workforce, the Assistant to the President and Deputy Chief of Staff for Policy, in coordination with the Director of OSTP and the Director of OMB, and in consultation with the National Cyber Director, shall convene an AI and Technology Talent Task Force, which shall include the Director of OPM, the Director of the General Services Administrations Technology Transformation Services, a representative from the Chief Human Capital Officers Council, the Assistant to the President for Presidential Personnel, members of appropriate agency technology talent programs, a representative of the Chief Data Officer Council, and a representative of the interagency council convened under subsection 10.1(a) of this section."
      ],
      "text/plain": [
       "<IPython.core.display.HTML object>"
      ]
     },
     "metadata": {},
     "output_type": "display_data"
    },
    {
     "data": {
      "text/html": [
       "(c) Within <span style=\"color: red; font-weight: bold;\">45 days</span> of the date of this order, to advance existing Federal technology talent programs, the United States Digital Service, Presidential Innovation Fellowship, United States Digital Corps, OPM, and technology talent programs at agencies, with support from the AI and Technology Talent Task Force described in subsection 10.2(b) of this section, as appropriate and permitted by law, shall develop and begin to implement plans to support the rapid recruitment of individuals as part of a Federal Government-wide AI talent surge to accelerate the placement of key AI and AI-enabling talent in high-priority areas and to advance agencies data and technology strategies."
      ],
      "text/plain": [
       "<IPython.core.display.HTML object>"
      ]
     },
     "metadata": {},
     "output_type": "display_data"
    },
    {
     "data": {
      "text/html": [
       "<span style=\"font-weight: bold;\">60 day mandates:</span>"
      ],
      "text/plain": [
       "<IPython.core.display.HTML object>"
      ]
     },
     "metadata": {},
     "output_type": "display_data"
    },
    {
     "data": {
      "text/html": [
       "(a) To coordinate the use of AI across the Federal Government, within <span style=\"color: red; font-weight: bold;\">60 days</span> of the date of this order and on an ongoing basis as necessary, the Director of OMB shall convene and chair an interagency council to coordinate the development and use of AI in agencies programs and operations, other than the use of AI in national security systems."
      ],
      "text/plain": [
       "<IPython.core.display.HTML object>"
      ]
     },
     "metadata": {},
     "output_type": "display_data"
    },
    {
     "data": {
      "text/html": [
       "The Director of OMBs guidance shall specify, to the extent appropriate and consistent with applicable law:    (i) the requirement to designate at each agency within <span style=\"color: red; font-weight: bold;\">60 days</span> of the issuance of the guidance a Chief Artificial Intelligence Officer who shall hold primary responsibility in their agency, in coordination with other <span style=\"color: blue; font-weight: bold;\">responsible</span> officials, for coordinating their agencys use of AI, promoting AI innovation in their agency, managing risks from their agencys use of AI, and carrying out the responsibilities described in section 8(c) of Executive Order 13960 of December 3, 2020 (Promoting the Use of Trustworthy Artificial Intelligence in the Federal Government), and section 4(b) of Executive Order 14091;    (ii) the Chief Artificial Intelligence Officers roles, responsibilities, seniority, position, and reporting structures;    (iii) for the agencies identified in 31 U.S.C."
      ],
      "text/plain": [
       "<IPython.core.display.HTML object>"
      ]
     },
     "metadata": {},
     "output_type": "display_data"
    },
    {
     "data": {
      "text/html": [
       "901(b), the creation of internal Artificial Intelligence Governance Boards, or other appropriate mechanisms, at each agency within <span style=\"color: red; font-weight: bold;\">60 days</span> of the issuance of the guidance to coordinate and govern AI issues through relevant senior leaders from across the agency;    (iv) required minimum risk-management practices for Government uses of AI that impact peoples rights or safety, including, where appropriate, the following practices derived from OSTPs Blueprint for an AI Bill of Rights and the NIST AI Risk Management Framework: conducting public consultation; assessing data quality; assessing and mitigating disparate impacts and algorithmic discrimination; providing notice of the use of AI; continuously monitoring and evaluating deployed AI; and granting human consideration and remedies for adverse decisions made using AI;    (v) specific Federal Government uses of AI that are presumed by default to impact rights or safety;    (vi) recommendations to agencies to reduce barriers to the <span style=\"color: blue; font-weight: bold;\">responsible</span> use of AI, including barriers related to information technology infrastructure, data, workforce, budgetary restrictions, and cybersecurity processes;    (vii) requirements that agencies identified in 31 U.S.C."
      ],
      "text/plain": [
       "<IPython.core.display.HTML object>"
      ]
     },
     "metadata": {},
     "output_type": "display_data"
    },
    {
     "data": {
      "text/html": [
       "(c) To track agencies AI progress, within <span style=\"color: red; font-weight: bold;\">60 days</span> of the issuance of the guidance established in subsection 10.1(b) of this section and updated periodically thereafter, the Director of OMB shall develop a method for agencies to track and assess their ability to adopt AI into their programs and operations, manage its risks, and comply with Federal policy on AI."
      ],
      "text/plain": [
       "<IPython.core.display.HTML object>"
      ]
     },
     "metadata": {},
     "output_type": "display_data"
    },
    {
     "data": {
      "text/html": [
       "(d) To meet the critical hiring need for qualified personnel to execute the initiatives in this order, and to improve Federal hiring practices for AI talent, the Director of OPM, in consultation with the Director of OMB, shall:    (i) within <span style=\"color: red; font-weight: bold;\">60 days</span> of the date of this order, conduct an evidence-based review on the need for hiring and workplace flexibility, including Federal Government-wide direct-hire authority for AI and related data-science and technical roles, and, where the Director of OPM finds such authority is appropriate, grant it; this review shall include the following job series at all General Schedule (GS) levels: IT Specialist (2210), Computer Scientist (1550), Computer Engineer (0854), and Program Analyst (0343) focused on AI, and any subsequently developed job series derived from these job series;    (ii) within <span style=\"color: red; font-weight: bold;\">60 days</span> of the date of this order, consider authorizing the use of excepted service appointments under 5 C.F.R."
      ],
      "text/plain": [
       "<IPython.core.display.HTML object>"
      ]
     },
     "metadata": {},
     "output_type": "display_data"
    },
    {
     "data": {
      "text/html": [
       "(d) To meet the critical hiring need for qualified personnel to execute the initiatives in this order, and to improve Federal hiring practices for AI talent, the Director of OPM, in consultation with the Director of OMB, shall:    (i) within <span style=\"color: red; font-weight: bold;\">60 days</span> of the date of this order, conduct an evidence-based review on the need for hiring and workplace flexibility, including Federal Government-wide direct-hire authority for AI and related data-science and technical roles, and, where the Director of OPM finds such authority is appropriate, grant it; this review shall include the following job series at all General Schedule (GS) levels: IT Specialist (2210), Computer Scientist (1550), Computer Engineer (0854), and Program Analyst (0343) focused on AI, and any subsequently developed job series derived from these job series;    (ii) within <span style=\"color: red; font-weight: bold;\">60 days</span> of the date of this order, consider authorizing the use of excepted service appointments under 5 C.F.R."
      ],
      "text/plain": [
       "<IPython.core.display.HTML object>"
      ]
     },
     "metadata": {},
     "output_type": "display_data"
    },
    {
     "data": {
      "text/html": [
       "<span style=\"font-weight: bold;\">90 day mandates:</span>"
      ],
      "text/plain": [
       "<IPython.core.display.HTML object>"
      ]
     },
     "metadata": {},
     "output_type": "display_data"
    },
    {
     "data": {
      "text/html": [
       "(a) Within <span style=\"color: red; font-weight: bold;\">90 days</span> of the date of this order, to ensure and verify the continuous availability of safe, reliable, and effective AI in accordance with the Defense Production Act, as amended, 50 U.S.C."
      ],
      "text/plain": [
       "<IPython.core.display.HTML object>"
      ]
     },
     "metadata": {},
     "output_type": "display_data"
    },
    {
     "data": {
      "text/html": [
       "(c) Because I find that additional steps must be taken to deal with the national emergency related to significant malicious cyber-enabled activities declared in Executive Order 13694 of April 1, 2015 (Blocking the Property of Certain Persons Engaging in Significant Malicious Cyber-Enabled Activities), as amended by Executive Order 13757 of December 28, 2016 (Taking Additional Steps to Address the National Emergency With Respect to Significant Malicious Cyber-Enabled Activities), and further amended by Executive Order 13984, to address the use of United States Infrastructure as a Service (IaaS) Products by foreign malicious cyber actors, including to impose additional record-keeping obligations with respect to foreign transactions and to assist in the investigation of transactions involving foreign malicious cyber actors, I hereby direct the Secretary of Commerce, within <span style=\"color: red; font-weight: bold;\">90 days</span> of the date of this order, to:    (i) Propose regulations that require United States IaaS Providers to submit a report to the Secretary of Commerce when a foreign person transacts with that United States IaaS Provider to train a large AI model with potential capabilities that could be used in malicious cyber-enabled activity (a training run)."
      ],
      "text/plain": [
       "<IPython.core.display.HTML object>"
      ]
     },
     "metadata": {},
     "output_type": "display_data"
    },
    {
     "data": {
      "text/html": [
       "(a) To ensure the protection of criticalinfrastructure, the following actions shall be taken:    (i) Within <span style=\"color: red; font-weight: bold;\">90 days</span> of the date of this order, and at least annually thereafter, the head of each agency with relevant regulatory authority over critical infrastructure and the heads of relevant SRMAs, in coordination with the Director of the Cybersecurity and Infrastructure Security Agency within the Department of Homeland Security for consideration of cross-sector risks, shall evaluate and provide to the Secretary of Homeland Security an assessment of potential risks related to the use of AI in critical infrastructure sectors involved, including ways in which deploying AI may make critical infrastructure systems more vulnerable to critical failures, physical attacks, and cyber attacks, and shall consider ways to mitigate these vulnerabilities."
      ],
      "text/plain": [
       "<IPython.core.display.HTML object>"
      ]
     },
     "metadata": {},
     "output_type": "display_data"
    },
    {
     "data": {
      "text/html": [
       "(a) Within <span style=\"color: red; font-weight: bold;\">90 days</span> of the date of this order, to attract and retain talent in AI and other critical and emerging technologies in the United States economy, the Secretary of State and the Secretary of Homeland Security shall take appropriate steps to:    (i) streamline processing times of visa petitions and applications, including by ensuring timely availability of visa appointments, for noncitizens who seek to travel to the United States to work on, study, or conduct research in AI or other critical and emerging technologies; and    (ii) facilitate continued availability of visa appointments in sufficient volume for applicants with expertise in AI or other critical and emerging technologies."
      ],
      "text/plain": [
       "<IPython.core.display.HTML object>"
      ]
     },
     "metadata": {},
     "output_type": "display_data"
    },
    {
     "data": {
      "text/html": [
       "(a) To develop and strengthen public-private partnerships for advancing innovation, commercialization, and risk-mitigation methods for AI, and to help promote safe, <span style=\"color: blue; font-weight: bold;\">responsible</span>, fair, privacy-protecting, and trustworthy AI systems, the Director of NSF shall take the following steps:    (i) Within <span style=\"color: red; font-weight: bold;\">90 days</span> of the date of this order, in coordination with the heads of agencies that the Director of NSF deems appropriate, launch a pilot program implementing the National AI Research Resource (NAIRR), consistent with past recommendations of the NAIRR Task Force."
      ],
      "text/plain": [
       "<IPython.core.display.HTML object>"
      ]
     },
     "metadata": {},
     "output_type": "display_data"
    },
    {
     "data": {
      "text/html": [
       "0.50-51, coordinate with and support agencies in their implementation and enforcement of existing Federal laws to address civil rights and civil liberties violations and discrimination related to AI;    (ii) direct the Assistant Attorney General in charge of the Civil Rights Division to convene, within <span style=\"color: red; font-weight: bold;\">90 days</span> of the date of this order, a meeting of the heads of Federal civil rights offices  for which meeting the heads of civil rights offices within independent regulatory agencies will be encouraged to join  to discuss comprehensive use of their respective authorities and offices to: prevent and address discrimination in the use of automated systems, including algorithmic discrimination; increase coordination between the Department of Justices Civil Rights Division and Federal civil rights offices concerning issues related to AI and algorithmic discrimination; improve external stakeholder engagement to promote public awareness of potential discriminatory uses and effects of AI; and develop, as appropriate, additional training, technical assistance, guidance, or other resources; and     (iii) consider providing, as appropriate and consistent with applicable law, guidance, technical assistance, and training to State, local, Tribal, and territorial investigators and prosecutors on best practices for investigating and prosecuting civil rights violations and discrimination related to automated systems, including AI."
      ],
      "text/plain": [
       "<IPython.core.display.HTML object>"
      ]
     },
     "metadata": {},
     "output_type": "display_data"
    },
    {
     "data": {
      "text/html": [
       "(b) To help ensure the safe, <span style=\"color: blue; font-weight: bold;\">responsible</span> deployment and use of AI in the healthcare, public-health, and human-services sectors:    (i) Within <span style=\"color: red; font-weight: bold;\">90 days</span> of the date of this order, the Secretary of HHS shall, in consultation with the Secretary of Defense and the Secretary of Veterans Affairs, establish an HHS AI Task Force that shall, within 365 days of its creation, develop a strategic plan that includes policies and frameworks  possibly including regulatory action, as appropriate  on <span style=\"color: blue; font-weight: bold;\">responsible</span> deployment and use of AI and AI-enabled technologies in the health and human services sector (including research and discovery, drug and device safety, healthcare delivery and financing, and public health), and identify appropriate guidance andresources to promote that deployment, including in the following areas:      (A) development, maintenance, and use of predictive and generative AI-enabled technologies in healthcare delivery and financing  including quality measurement, performance improvement, program integrity, benefits administration, and patient experience  taking into account considerations such as appropriate human oversight of the application of AI-generated output;      (B) long-term safety and real-world performance monitoring of AI-enabled technologies in the health and human services sector, including clinically relevant or significant modifications and performance across population groups, with a means to communicate product updates to regulators, developers, and users;      (C) incorporation of equity principles in AI-enabled technologies used in the health and human services sector, using disaggregated data on affected populations and representative population data sets when developing new models, monitoring algorithmic performance against discrimination and bias in existing models, and helping to identify and mitigate discrimination and bias in current systems;      (D) incorporation of safety, privacy, and security standards into the software-development lifecycle for protection of personally identifiable information, including measures to address AI-enhanced cybersecurity threats in the health and human services sector;      (E) development, maintenance, and availability of documentation to help users determine appropriate and safe uses of AI in local settings in the health and human services sector;      (F) work to be done with State, local, Tribal, and territorial health and human services agencies to advance positive use cases and best practices for use of AI in local settings; and      (G) identification of uses of AI to promote workplace efficiency and satisfaction in the health and human services sector, including reducing administrative burdens."
      ],
      "text/plain": [
       "<IPython.core.display.HTML object>"
      ]
     },
     "metadata": {},
     "output_type": "display_data"
    },
    {
     "data": {
      "text/html": [
       "(ii) Within <span style=\"color: red; font-weight: bold;\">90 days</span> of the date of this order, the Secretary of Transportation shall direct appropriate Federal Advisory Committees of the DOT to provide advice on the safe and <span style=\"color: blue; font-weight: bold;\">responsible</span> use of AI in transportation."
      ],
      "text/plain": [
       "<IPython.core.display.HTML object>"
      ]
     },
     "metadata": {},
     "output_type": "display_data"
    },
    {
     "data": {
      "text/html": [
       "(d) To assist agencies in implementing the guidance to be established in subsection 10.1(b) of this section:    (i) within <span style=\"color: red; font-weight: bold;\">90 days</span> of the issuance of the guidance, the Secretary of Commerce, acting through the Director of NIST, and in coordination with the Director of OMB and the Director of OSTP, shall develop guidelines, tools, and practices to support implementation of the minimum risk-management practices described in subsection 10.1(b)(iv) of this section; and    (ii) within 180 days of the issuance of the guidance, the Director of OMB shall develop an initial means to ensure that agency contracts for the acquisition of AI systems and services align with the guidance described in subsection 10.1(b) of this section and advance the other aims identified in section 7224(d)(1) of the Advancing American AI Act (Public Law 117-263, div."
      ],
      "text/plain": [
       "<IPython.core.display.HTML object>"
      ]
     },
     "metadata": {},
     "output_type": "display_data"
    },
    {
     "data": {
      "text/html": [
       "(ii) Within <span style=\"color: red; font-weight: bold;\">90 days</span> of the date of this order, the Administrator of General Services, in coordination with the Director of OMB, and in consultation with the Federal Secure Cloud Advisory Committee and other relevant agencies as the Administrator of General Services may deem appropriate, shall develop and issue a framework for prioritizing critical and emerging technologies offerings in the Federal Risk and Authorization Management Program authorization process, starting with generative AI offerings that have the primary purpose of providing large language model-based chat interfaces, code-generation and debugging tools, and associated application programming interfaces, as well as prompt-based image generators."
      ],
      "text/plain": [
       "<IPython.core.display.HTML object>"
      ]
     },
     "metadata": {},
     "output_type": "display_data"
    },
    {
     "data": {
      "text/html": [
       "213.3102(i)(3) to address the need for hiring additional staff to implement directives of this order;    (iii) within <span style=\"color: red; font-weight: bold;\">90 days</span> of the date of this order, coordinate a pooled-hiring action informed by subject-matter experts and using skills-based assessments to support the recruitment of AI talent across agencies;    (iv) within 120 days of the date of this order, as appropriate and permitted by law, issue guidance for agency application of existing pay flexibilities or incentive pay programs for AI, AI-enabling, and other key technical positions to facilitate appropriate use of current pay incentives;    (v) within 180 days of the date of this order, establish guidance and policy on skills-based, Federal Government-wide hiring of AI, data, and technology talent in order to increase access to those with nontraditional academic backgrounds to Federal AI, data, and technology roles;    (vi) within 180 days of the date of this order, establish an interagency working group, staffed with both human-resources professionals and recruiting technical experts, to facilitate Federal Government-wide hiring of people with AI and other technical skills;    (vii) within 180 days of the date of this order, review existing Executive Core Qualifications (ECQs) for Senior Executive Service (SES) positions informed by data and AI literacy competencies and, within 365 days of the date of this order, implement new ECQs as appropriate in the SES assessment process;    (viii) within 180 days of the date of this order, complete a review of competencies for civil engineers (GS-0810 series) and, if applicable, other related occupations, and make recommendations for ensuring that adequate AI expertise and credentials in these occupations in the Federal Government reflect the increased use of AI in critical infrastructure; and    (ix) work with the Security, Suitability, and Credentialing Performance Accountability Council to assess mechanisms to streamline and accelerate personnel-vetting requirements, as appropriate, to support AI and fields related to other critical and emerging technologies."
      ],
      "text/plain": [
       "<IPython.core.display.HTML object>"
      ]
     },
     "metadata": {},
     "output_type": "display_data"
    },
    {
     "data": {
      "text/html": [
       "<span style=\"font-weight: bold;\">120 day mandates:</span>"
      ],
      "text/plain": [
       "<IPython.core.display.HTML object>"
      ]
     },
     "metadata": {},
     "output_type": "display_data"
    },
    {
     "data": {
      "text/html": [
       "(ii) Within <span style=\"color: red; font-weight: bold;\">120 days</span> of the date of this order, the Secretary of Defense, in consultation with the Assistant to the President for National Security Affairs and the Director of OSTP, shall enter into a contract with the National Academies of Sciences, Engineering, and Medicine to conduct  and submit to the Secretary of Defense, the Assistant to the President for National Security Affairs, the Director of the Office of Pandemic Preparedness and Response Policy, the Director of OSTP, and the Chair of the Chief Data Officer Council  a study that:      (A) assesses the ways in which AI can increase biosecurity risks, including risks from generative AI models trained on biological data, and makes recommendations on how to mitigate these risks;      (B) considers the national security implications of the use of data and datasets, especially those associated with pathogens and omics studies, that the United States Government hosts, generates, funds the creation of, or otherwise owns, for the training of generative AI models, and makes recommendations on how to mitigate the risks related to the use of these data and datasets;      (C) assesses the ways in which AI applied to biology can be used to reduce biosecurity risks, including recommendations on opportunities to coordinate data and high-performance computing resources; and      (D) considers additional concerns and opportunities at the intersection of AI and synthetic biology that the Secretary of Defense deems appropriate."
      ],
      "text/plain": [
       "<IPython.core.display.HTML object>"
      ]
     },
     "metadata": {},
     "output_type": "display_data"
    },
    {
     "data": {
      "text/html": [
       "(b) Within <span style=\"color: red; font-weight: bold;\">120 days</span> of the date of this order, the Secretary of State shall:    (i) consider initiating a rulemaking to establish new criteria to designate countries and skills on the Department of States Exchange Visitor Skills List as it relates to the 2-year foreign residence requirement for certain J-1 nonimmigrants, including those skills that are critical to the United States;    (ii) consider publishing updates to the 2009 Revised Exchange Visitor Skills List (74 FR 20108); and    (iii) consider implementing a domestic visa renewal program under 22 C.F.R."
      ],
      "text/plain": [
       "<IPython.core.display.HTML object>"
      ]
     },
     "metadata": {},
     "output_type": "display_data"
    },
    {
     "data": {
      "text/html": [
       "(g) Within <span style=\"color: red; font-weight: bold;\">120 days</span> of the date of this order, the Secretary of Homeland Security, in consultation with the Secretary of State, the Secretary of Commerce, and the Director of OSTP, shall develop and publish informational resources to better attract and retain experts in AI and other critical and emerging technologies, including:    (i) a clear and comprehensive guide for experts in AI and other critical and emerging technologies to understand their options for working in the United States, to be published in multiple relevant languages on AI.gov; and    (ii) a public report with relevant data on applications, petitions, approvals, and other key indicators of how experts in AI and other critical and emerging technologies have utilized the immigration system through the end of Fiscal Year 2023."
      ],
      "text/plain": [
       "<IPython.core.display.HTML object>"
      ]
     },
     "metadata": {},
     "output_type": "display_data"
    },
    {
     "data": {
      "text/html": [
       "(b) Within <span style=\"color: red; font-weight: bold;\">120 days</span> of the date of this order, to support activities involving high-performance and data-intensive computing, the Secretary of Energy, in coordination with the Director of NSF, shall, in a manner consistent with applicable law and available appropriations, establish a pilot program to enhance existing successful training programs for scientists, with the goal of training 500 new researchers by 2025 capable of meeting the rising demand for AI talent."
      ],
      "text/plain": [
       "<IPython.core.display.HTML object>"
      ]
     },
     "metadata": {},
     "output_type": "display_data"
    },
    {
     "data": {
      "text/html": [
       "(c) To promote innovation and clarify issues related to AI and inventorship of patentable subject matter, the Under Secretary of Commerce for Intellectual Property and Director of the United States Patent and Trademark Office (USPTO Director) shall:    (i) within <span style=\"color: red; font-weight: bold;\">120 days</span> of the date of this order, publish guidance to USPTO patent examiners and applicants addressing inventorship and the use of AI, including generative AI, in the inventive process, including illustrative examples in which AI systems play different roles in inventive processes and how, in each example, inventorship issues ought to be analyzed;    (ii) subsequently, within 270 days of the date of this order, issue additional guidance to USPTO patent examiners and applicants to address other considerations at the intersection of AI and IP, which could include, as the USPTO Director deems necessary, updated guidance on patent eligibility to address innovation in AI and critical and emerging technologies; and    (iii) within 270 days of the date of this order or 180 days after theUnited States Copyright Office of the Library of Congress publishes its forthcoming AI study that will address copyright issues raised by AI, whichever comes later, consult with the Director of the United States Copyright Office and issue recommendations to the President on potential executive actions relating to copyright and AI."
      ],
      "text/plain": [
       "<IPython.core.display.HTML object>"
      ]
     },
     "metadata": {},
     "output_type": "display_data"
    },
    {
     "data": {
      "text/html": [
       "(c) To advance research, development, and implementation related to PETs:    (i) Within <span style=\"color: red; font-weight: bold;\">120 days</span> of the date of this order, the Director of NSF, in collaboration with the Secretary of Energy, shall fund the creation of a Research Coordination Network (RCN) dedicated to advancing privacy research and, in particular, the development, deployment, and scaling of PETs."
      ],
      "text/plain": [
       "<IPython.core.display.HTML object>"
      ]
     },
     "metadata": {},
     "output_type": "display_data"
    },
    {
     "data": {
      "text/html": [
       "213.3102(i)(3) to address the need for hiring additional staff to implement directives of this order;    (iii) within 90 days of the date of this order, coordinate a pooled-hiring action informed by subject-matter experts and using skills-based assessments to support the recruitment of AI talent across agencies;    (iv) within <span style=\"color: red; font-weight: bold;\">120 days</span> of the date of this order, as appropriate and permitted by law, issue guidance for agency application of existing pay flexibilities or incentive pay programs for AI, AI-enabling, and other key technical positions to facilitate appropriate use of current pay incentives;    (v) within 180 days of the date of this order, establish guidance and policy on skills-based, Federal Government-wide hiring of AI, data, and technology talent in order to increase access to those with nontraditional academic backgrounds to Federal AI, data, and technology roles;    (vi) within 180 days of the date of this order, establish an interagency working group, staffed with both human-resources professionals and recruiting technical experts, to facilitate Federal Government-wide hiring of people with AI and other technical skills;    (vii) within 180 days of the date of this order, review existing Executive Core Qualifications (ECQs) for Senior Executive Service (SES) positions informed by data and AI literacy competencies and, within 365 days of the date of this order, implement new ECQs as appropriate in the SES assessment process;    (viii) within 180 days of the date of this order, complete a review of competencies for civil engineers (GS-0810 series) and, if applicable, other related occupations, and make recommendations for ensuring that adequate AI expertise and credentials in these occupations in the Federal Government reflect the increased use of AI in critical infrastructure; and    (ix) work with the Security, Suitability, and Credentialing Performance Accountability Council to assess mechanisms to streamline and accelerate personnel-vetting requirements, as appropriate, to support AI and fields related to other critical and emerging technologies."
      ],
      "text/plain": [
       "<IPython.core.display.HTML object>"
      ]
     },
     "metadata": {},
     "output_type": "display_data"
    },
    {
     "data": {
      "text/html": [
       "<span style=\"font-weight: bold;\">150 day mandates:</span>"
      ],
      "text/plain": [
       "<IPython.core.display.HTML object>"
      ]
     },
     "metadata": {},
     "output_type": "display_data"
    },
    {
     "data": {
      "text/html": [
       "(ii) Within <span style=\"color: red; font-weight: bold;\">150 days</span> of the date of this order, the Secretary of the Treasury shall issue a public report on best practices for financial institutions to manage AI-specific cybersecurity risks."
      ],
      "text/plain": [
       "<IPython.core.display.HTML object>"
      ]
     },
     "metadata": {},
     "output_type": "display_data"
    },
    {
     "data": {
      "text/html": [
       "(ii) Within <span style=\"color: red; font-weight: bold;\">150 days</span> of the date of this order, fund and launch at least one NSF Regional Innovation Engine that prioritizes AI-related work, such as AI-related research, societal, or workforce needs."
      ],
      "text/plain": [
       "<IPython.core.display.HTML object>"
      ]
     },
     "metadata": {},
     "output_type": "display_data"
    },
    {
     "data": {
      "text/html": [
       "(b) To provide guidance on Federal Government use of AI, within <span style=\"color: red; font-weight: bold;\">150 days</span> of the date of this order and updated periodically thereafter, the Director of OMB, in coordination with the Director of OSTP, and in consultation with the interagency council established in subsection 10.1(a) of this section, shall issue guidance to agencies to strengthen the effective and appropriate use of AI, advance AI innovation, and manage risks from AI in the Federal Government."
      ],
      "text/plain": [
       "<IPython.core.display.HTML object>"
      ]
     },
     "metadata": {},
     "output_type": "display_data"
    },
    {
     "data": {
      "text/html": [
       "<span style=\"font-weight: bold;\">180 day mandates:</span>"
      ],
      "text/plain": [
       "<IPython.core.display.HTML object>"
      ]
     },
     "metadata": {},
     "output_type": "display_data"
    },
    {
     "data": {
      "text/html": [
       "(d) Within <span style=\"color: red; font-weight: bold;\">180 days</span> of the date of this order, pursuant to the finding set forth in subsection 4.2(c) of this section, the Secretary of Commerce shall propose regulations that require United States IaaS Providers to ensure that foreign resellers of United States IaaS Products verify the identity of any foreign person that obtains an IaaS account (account) from the foreign reseller."
      ],
      "text/plain": [
       "<IPython.core.display.HTML object>"
      ]
     },
     "metadata": {},
     "output_type": "display_data"
    },
    {
     "data": {
      "text/html": [
       "(iii) Within <span style=\"color: red; font-weight: bold;\">180 days</span> of the date of this order, the Secretary of Homeland Security, in coordination with the Secretary of Commerce and with SRMAs and other regulators as determined by the Secretary of Homeland Security, shall incorporate as appropriate the AI Risk Management Framework, NIST AI 100-1, as well as other appropriate security guidance, into relevant safety and security guidelines for use by critical infrastructure owners and operators."
      ],
      "text/plain": [
       "<IPython.core.display.HTML object>"
      ]
     },
     "metadata": {},
     "output_type": "display_data"
    },
    {
     "data": {
      "text/html": [
       "(ii) As set forth in subsection 4.3(b)(i) of this section, within <span style=\"color: red; font-weight: bold;\">180 days</span> of the date of this order, the Secretary of Defense and the Secretary of Homeland Security shall, consistent with applicable law, each develop plans for, conduct, and complete an operational pilot project to identify, develop, test, evaluate, and deploy AI capabilities, such as large-language models, to aid in the discovery and remediation of vulnerabilities in critical United States Government software, systems, and networks."
      ],
      "text/plain": [
       "<IPython.core.display.HTML object>"
      ]
     },
     "metadata": {},
     "output_type": "display_data"
    },
    {
     "data": {
      "text/html": [
       "(a) To better understand and mitigate the risk of AI being misused to assist in the development or use of CBRN threats  with a particular focus on biological weapons  the following actions shall be taken:    (i) Within <span style=\"color: red; font-weight: bold;\">180 days</span> of the date of this order, the Secretary of Homeland Security, in consultation with the Secretary of Energy and the Director of the Office of Science and Technology Policy (OSTP), shall evaluate the potential for AI to be misused to enable the development or production of CBRN threats, while also considering the benefits and application of AI to counter these threats, including, as appropriate, the results of work conducted under section 8(b) of this order."
      ],
      "text/plain": [
       "<IPython.core.display.HTML object>"
      ]
     },
     "metadata": {},
     "output_type": "display_data"
    },
    {
     "data": {
      "text/html": [
       "(b) To reduce the risk of misuse of synthetic nucleic acids, which could be substantially increased by AIs capabilities in this area, and improve biosecurity measures for the nucleic acid synthesis industry, the following actions shall be taken:    (i) Within <span style=\"color: red; font-weight: bold;\">180 days</span> of the date of this order, the Director of OSTP, in consultation with the Secretary of State, the Secretary of Defense, the Attorney General, the Secretary of Commerce, the Secretary of Health and Human Services (HHS), the Secretary of Energy, the Secretary of Homeland Security, the Director of National Intelligence, and the heads of other relevant agencies as the Director of OSTP may deem appropriate, shall establish a framework, incorporating, as appropriate, existing United States Government guidance, to encourage providers of synthetic nucleic acid sequences to implement comprehensive, scalable, and verifiable synthetic nucleic acid procurement screening mechanisms, including standards and recommended incentives."
      ],
      "text/plain": [
       "<IPython.core.display.HTML object>"
      ]
     },
     "metadata": {},
     "output_type": "display_data"
    },
    {
     "data": {
      "text/html": [
       "(ii) Within <span style=\"color: red; font-weight: bold;\">180 days</span> of the date of this order, the Secretary of Commerce, acting through the Director of NIST, in coordination with the Director of OSTP, and in consultation with the Secretary of State, the Secretary of HHS, and the heads of other relevant agencies as the Secretary of Commerce may deem appropriate, shall initiate an effort to engage with industry and relevant stakeholders, informed by the framework developed under subsection 4.4(b)(i) of this section, to develop and refine for possible use by synthetic nucleic acid sequence providers:      (A) specifications for effective nucleic acid synthesis procurement screening;      (B) best practices, including security and access controls, for managing sequence-of-concern databases to support such screening;      (C) technical implementation guides for effective screening; and      (D) conformity-assessment best practices and mechanisms."
      ],
      "text/plain": [
       "<IPython.core.display.HTML object>"
      ]
     },
     "metadata": {},
     "output_type": "display_data"
    },
    {
     "data": {
      "text/html": [
       "(iii) Within <span style=\"color: red; font-weight: bold;\">180 days</span> of the establishment of the framework pursuant to subsection 4.4(b)(i) of this section, all agencies that fund life-sciences research shall, as appropriate and consistent with applicable law, establish that, as a requirement of funding, synthetic nucleic acid procurement is conducted through providers or manufacturers that adhere to the framework, such as through an attestation from the provider or manufacturer."
      ],
      "text/plain": [
       "<IPython.core.display.HTML object>"
      ]
     },
     "metadata": {},
     "output_type": "display_data"
    },
    {
     "data": {
      "text/html": [
       "(iv) In order to facilitate effective implementation of the measures described in subsections 4.4(b)(i)-(iii) of this section, the Secretary of Homeland Security, in consultation with the heads of other relevant agencies as the Secretary of Homeland Security may deem appropriate, shall:      (A) within <span style=\"color: red; font-weight: bold;\">180 days</span> of the establishment of the framework pursuant to subsection 4.4(b)(i) of this section, develop a framework to conduct structured evaluation and stress testing of nucleic acid synthesis procurement screening, including the systems developed in accordance with subsections 4.4(b)(i)-(ii) of this section and implemented by providers of synthetic nucleic acid sequences; and      (B) following development of the framework pursuant to subsection 4.4(b)(iv)(A) of this section, submit an annual report to the Assistant to the President for National Security Affairs, the Director of the Office of Pandemic Preparedness and Response Policy, and the Director of OSTP on any results of the activities conducted pursuant to subsection 4.4(b)(iv)(A) of this section, including recommendations, if any, on how to strengthen nucleic acid synthesis procurement screening, including customer screening systems."
      ],
      "text/plain": [
       "<IPython.core.display.HTML object>"
      ]
     },
     "metadata": {},
     "output_type": "display_data"
    },
    {
     "data": {
      "text/html": [
       "(b) Within <span style=\"color: red; font-weight: bold;\">180 days</span> of submitting the report required under subsection 4.5(a) of this section, and updated periodically thereafter, the Secretary of Commerce, in coordination with the Director of OMB, shall develop guidance regarding the existing tools and practices for digital content authentication and synthetic content detection measures."
      ],
      "text/plain": [
       "<IPython.core.display.HTML object>"
      ]
     },
     "metadata": {},
     "output_type": "display_data"
    },
    {
     "data": {
      "text/html": [
       "(c) Within <span style=\"color: red; font-weight: bold;\">180 days</span> of the development of the guidance required under subsection 4.5(b) of this section, and updated periodically thereafter, the Director of OMB, in consultation with the Secretary of State; the Secretary of Defense; the Attorney General; the Secretary of Commerce, acting through the Director of NIST; the Secretary of Homeland Security; the Director of National Intelligence; and the heads of other agencies that the Director of OMB deems appropriate, shall  for the purpose of strengthening public confidence in theintegrity of official United States Government digital content  issue guidance to agencies for labeling and authenticating such content that they produce or publish."
      ],
      "text/plain": [
       "<IPython.core.display.HTML object>"
      ]
     },
     "metadata": {},
     "output_type": "display_data"
    },
    {
     "data": {
      "text/html": [
       "Promoting Safe Release and Preventing the Malicious Use of Federal Data for AI Training.To improve public data access and manage security risks, and consistent with the objectives of the Open, Public, Electronic, and Necessary Government Data Act (title II of Public Law 115-435) to expand public access to Federal data assets in a machine-readable format while also taking into account security considerations, including the risk that information in an individual data asset in isolation does not pose a security risk but, when combined with other available information, may pose such a risk:  (a) within 270 days of the date of this order, the Chief Data Officer Council, in consultation with the Secretary of Defense, the Secretary of Commerce, the Secretary of Energy, the Secretary of Homeland Security, and the Director of National Intelligence, shall develop initial guidelines for performing security reviews, including reviews to identify and manage the potential security risks of releasing Federal data that could aid in the development of CBRN weapons as well as the development of autonomous offensive cyber capabilities, while also providing public access to Federal Government data in line with the goals stated in the Open, Public, Electronic, and Necessary Government Data Act (title II of Public Law 115-435); and (b) within <span style=\"color: red; font-weight: bold;\">180 days</span> of the development of the initial guidelines required by subsection 4.7(a) of this section, agencies shall conduct a security review of all data assets in the comprehensive data inventory required under 44 U.S.C."
      ],
      "text/plain": [
       "<IPython.core.display.HTML object>"
      ]
     },
     "metadata": {},
     "output_type": "display_data"
    },
    {
     "data": {
      "text/html": [
       "(c) Within <span style=\"color: red; font-weight: bold;\">180 days</span> of the date of this order, the Secretary of State shall:    (i) consider initiating a rulemaking to expand the categories of nonimmigrants who qualify for the domestic visa renewal program covered under 22 C.F.R."
      ],
      "text/plain": [
       "<IPython.core.display.HTML object>"
      ]
     },
     "metadata": {},
     "output_type": "display_data"
    },
    {
     "data": {
      "text/html": [
       "(d) Within <span style=\"color: red; font-weight: bold;\">180 days</span> of the date of this order, the Secretary of Homeland Security shall:    (i) review and initiate any policy changes the Secretary determines necessary and appropriate to clarify and modernize immigration pathways for experts in AI and other critical and emerging technologies, including O-1A and EB-1 noncitizens of extraordinary ability; EB-2 advanced-degree holders and noncitizens of exceptional ability; and startup founders in AI and other critical and emerging technologies using the International Entrepreneur Rule; and    (ii) continue its rulemaking process to modernize the H-1B program and enhance its integrity and usage, including by experts in AI and other critical and emerging technologies, and consider initiating a rulemaking to enhance the process for noncitizens, including experts in AI and other critical and emerging technologies and their spouses, dependents, and children, to adjust their status to lawful permanent resident."
      ],
      "text/plain": [
       "<IPython.core.display.HTML object>"
      ]
     },
     "metadata": {},
     "output_type": "display_data"
    },
    {
     "data": {
      "text/html": [
       "(c) To promote innovation and clarify issues related to AI and inventorship of patentable subject matter, the Under Secretary of Commerce for Intellectual Property and Director of the United States Patent and Trademark Office (USPTO Director) shall:    (i) within 120 days of the date of this order, publish guidance to USPTO patent examiners and applicants addressing inventorship and the use of AI, including generative AI, in the inventive process, including illustrative examples in which AI systems play different roles in inventive processes and how, in each example, inventorship issues ought to be analyzed;    (ii) subsequently, within 270 days of the date of this order, issue additional guidance to USPTO patent examiners and applicants to address other considerations at the intersection of AI and IP, which could include, as the USPTO Director deems necessary, updated guidance on patent eligibility to address innovation in AI and critical and emerging technologies; and    (iii) within 270 days of the date of this order or <span style=\"color: red; font-weight: bold;\">180 days</span> after theUnited States Copyright Office of the Library of Congress publishes its forthcoming AI study that will address copyright issues raised by AI, whichever comes later, consult with the Director of the United States Copyright Office and issue recommendations to the President on potential executive actions relating to copyright and AI."
      ],
      "text/plain": [
       "<IPython.core.display.HTML object>"
      ]
     },
     "metadata": {},
     "output_type": "display_data"
    },
    {
     "data": {
      "text/html": [
       "(d) Within <span style=\"color: red; font-weight: bold;\">180 days</span> of the date of this order, to assist developers of AI in combatting AI-related IP risks, the Secretary of Homeland Security, acting through the Director of the National Intellectual Property Rights Coordination Center, and in consultation with the Attorney General, shall develop a training, analysis, and evaluation program to mitigate AI-related IP risks."
      ],
      "text/plain": [
       "<IPython.core.display.HTML object>"
      ]
     },
     "metadata": {},
     "output_type": "display_data"
    },
    {
     "data": {
      "text/html": [
       "(g) Within <span style=\"color: red; font-weight: bold;\">180 days</span> of the date of this order, to support the goal of strengthening our Nations resilience against climate change impacts and building an equitable clean energy economy for the future, the Secretary of Energy, in consultation with the Chair of the Federal Energy Regulatory Commission, the Director of OSTP, the Chair of the Council on Environmental Quality, the Assistant to the President and National Climate Advisor, and the heads of other relevant agencies as the Secretary of Energy may deem appropriate, shall:    (i) issue a public report describing the potential for AI to improve planning, permitting, investment, and operations for electric grid infrastructure and to enable the provision of clean, affordable, reliable, resilient, and secure electric power to all Americans;    (ii) develop tools that facilitate building foundation models useful for basic and applied science, including models that streamline permitting and environmental reviews while improving environmental and social outcomes;    (iii) collaborate, as appropriate, with private sector organizations and members of academia to support development of AI tools to mitigate climate change risks;    (iv) take steps to expand partnerships with industry, academia, other agencies, and international allies and partners to utilize the Department of Energys computing capabilities and AI testbeds to build foundation models that support new applications in science and energy, and for national security, including partnerships that increase community preparedness for climate-related risks, enable clean-energy deployment (including addressing delays in permitting reviews), and enhance grid reliability and resilience; and    (v) establish an office to coordinate development of AI and other critical and emerging technologies across Department of Energy programs and the 17 National Laboratories."
      ],
      "text/plain": [
       "<IPython.core.display.HTML object>"
      ]
     },
     "metadata": {},
     "output_type": "display_data"
    },
    {
     "data": {
      "text/html": [
       "(h) Within <span style=\"color: red; font-weight: bold;\">180 days</span> of the date of this order, to understand AIs implications for scientific research, the Presidents Council of Advisors on Science and Technology shall submit to the President and make publicly available a report on the potential role of AI, especially given recent developments in AI, in research aimed at tackling major societal and global challenges."
      ],
      "text/plain": [
       "<IPython.core.display.HTML object>"
      ]
     },
     "metadata": {},
     "output_type": "display_data"
    },
    {
     "data": {
      "text/html": [
       "(a) To advance the Governments understanding of AIs implications for workers, the following actions shall be taken within <span style=\"color: red; font-weight: bold;\">180 days</span> of the date of this order:    (i) The Chairman of the Council of Economic Advisers shall prepare and submit a report to the President on the labor-market effects of AI."
      ],
      "text/plain": [
       "<IPython.core.display.HTML object>"
      ]
     },
     "metadata": {},
     "output_type": "display_data"
    },
    {
     "data": {
      "text/html": [
       "(b) To help ensure that AI deployed in the workplace advances employees well-being:    (i) The Secretary of Labor shall, within <span style=\"color: red; font-weight: bold;\">180 days</span> of the date of this order and in consultation with other agencies and with outside entities, including labor unions and workers, as the Secretary of Labor deems appropriate, develop and publish principles and best practices for employers that could be used to mitigate AIs potential harms to employees well-being and maximize its potential benefits."
      ],
      "text/plain": [
       "<IPython.core.display.HTML object>"
      ]
     },
     "metadata": {},
     "output_type": "display_data"
    },
    {
     "data": {
      "text/html": [
       "(c) To advance the presence of relevant technical experts and expertise (such as machine-learning engineers, software and infrastructure engineering, data privacy experts, data scientists, and user experience researchers) among law enforcement professionals:    (i) The interagency working group created pursuant to section 3 of Executive Order 14074 shall, within <span style=\"color: red; font-weight: bold;\">180 days</span> of the date of this order, identify and share best practices for recruiting and hiring law enforcement professionals who have the technical skills mentioned in subsection 7.1(c) of this section, and for training law enforcement professionals about <span style=\"color: blue; font-weight: bold;\">responsible</span> application of AI."
      ],
      "text/plain": [
       "<IPython.core.display.HTML object>"
      ]
     },
     "metadata": {},
     "output_type": "display_data"
    },
    {
     "data": {
      "text/html": [
       "(b) To promote equitable administration of public benefits:    (i) The Secretary of HHS shall, within <span style=\"color: red; font-weight: bold;\">180 days</span> of the date of this order and in consultation with relevant agencies, publisha plan, informed by the guidance issued pursuant to section 10.1(b) of this order, addressing the use of automated or algorithmic systems in the implementation by States and localities of public benefits and services administered by the Secretary, such as to promote: assessment of access to benefits by qualified recipients; notice to recipients about the presence of such systems; regular evaluation to detect unjust denials; processes to retain appropriate levels of discretion of expert agency staff; processes to appeal denials to human reviewers; and analysis of whether algorithmic systems in use by benefit programs achieve equitable and just outcomes."
      ],
      "text/plain": [
       "<IPython.core.display.HTML object>"
      ]
     },
     "metadata": {},
     "output_type": "display_data"
    },
    {
     "data": {
      "text/html": [
       "(ii) The Secretary of Agriculture shall, within <span style=\"color: red; font-weight: bold;\">180 days</span> of the date of this order and as informed by the guidance issued pursuant to section 10.1(b) of this order, issue guidance to State, local, Tribal, and territorial public-benefits administrators on the use of automated or algorithmic systems in implementing benefits or in providing customer support for benefit programs administered by the Secretary, to ensure that programs using those systems:      (A) maximize program access for eligible recipients;      (B) employ automated or algorithmic systems in a manner consistent with any requirements for using merit systems personnel in public-benefits programs;      (C) identify instances in which reliance on automated or algorithmic systems would require notification by the State, local, Tribal, or territorial government to the Secretary;      (D) identify instances when applicants and participants can appeal benefit determinations to a human reviewer for reconsideration and can receive other customer support from a human being;      (E) enable auditing and, if necessary, remediation of the logic used to arrive at an individual decision or determination to facilitate the evaluation of appeals; and      (F) enable the analysis of whether algorithmic systems in use by benefit programs achieve equitable outcomes."
      ],
      "text/plain": [
       "<IPython.core.display.HTML object>"
      ]
     },
     "metadata": {},
     "output_type": "display_data"
    },
    {
     "data": {
      "text/html": [
       "(c) Within <span style=\"color: red; font-weight: bold;\">180 days</span> of the date of this order, to combat unlawful discrimination enabled by automated or algorithmic tools used to make decisions about access to housing and in other real estate-related transactions, the Secretary of Housing and Urban Development shall, and the Director of the Consumer Financial Protection Bureau is encouraged to, issue additional guidance:    (i) addressing the use of tenant screening systems in ways that may violate the Fair Housing Act (Public Law 90-284), the Fair Credit Reporting Act (Public Law 91-508), or other relevant Federal laws, including how the use of data, such as criminal records, eviction records, and credit information, can lead to discriminatory outcomes in violation of Federal law; and    (ii) addressing how the Fair Housing Act, the Consumer Financial Protection Act of 2010 (title X of Public Law 111-203), or the Equal Credit Opportunity Act (Public Law 93-495) apply to the advertising of housing, credit, and other real estate-related transactions through digital platforms, including those that use algorithms to facilitate advertising delivery, as well as on best practices to avoid violations of Federal law."
      ],
      "text/plain": [
       "<IPython.core.display.HTML object>"
      ]
     },
     "metadata": {},
     "output_type": "display_data"
    },
    {
     "data": {
      "text/html": [
       "(ii) Within <span style=\"color: red; font-weight: bold;\">180 days</span> of the date of this order, the Secretary of HHS shall direct HHS components, as the Secretary of HHS deems appropriate, to develop a strategy, in consultation with relevant agencies, to determine whether AI-enabled technologies in the health and human services sector maintain appropriate levels of quality, including, as appropriate, in the areas described in subsection (b)(i) of this section."
      ],
      "text/plain": [
       "<IPython.core.display.HTML object>"
      ]
     },
     "metadata": {},
     "output_type": "display_data"
    },
    {
     "data": {
      "text/html": [
       "(iii) Within <span style=\"color: red; font-weight: bold;\">180 days</span> of the date of this order, the Secretary of HHS shall, in consultation with relevant agencies as the Secretary of HHS deems appropriate, consider appropriate actions to advance the prompt understanding of, and compliance with, Federal nondiscrimination laws by health and human services providers that receive Federal financial assistance, as well as how those laws relate to AI."
      ],
      "text/plain": [
       "<IPython.core.display.HTML object>"
      ]
     },
     "metadata": {},
     "output_type": "display_data"
    },
    {
     "data": {
      "text/html": [
       "(iii) Within <span style=\"color: red; font-weight: bold;\">180 days</span> of the date of this order, the Secretary of Transportation shall direct the Advanced Research Projects Agency-Infrastructure (ARPA-I) to explore the transportation-related opportunities and challenges of AI  including regarding software-defined AI enhancements impacting autonomous mobility ecosystems."
      ],
      "text/plain": [
       "<IPython.core.display.HTML object>"
      ]
     },
     "metadata": {},
     "output_type": "display_data"
    },
    {
     "data": {
      "text/html": [
       "(a) To mitigate privacy risks potentially exacerbated by AI  including by AIs facilitation of the collection or use of information about individuals, or the making of inferences about individuals  the Director of OMB shall:    (i) evaluate and take steps to identify commercially available information (CAI) procured by agencies, particularly CAI that contains personally identifiable information and including CAI procured from data brokers and CAI procured and processed indirectly through vendors, in appropriate agency inventory and reporting processes (other than when it is used for the purposes of national security);    (ii) evaluate, in consultation with the Federal Privacy Council and the Interagency Council on Statistical Policy, agency standards and procedures associated with the collection, processing, maintenance, use, sharing, dissemination, and disposition of CAI that contains personally identifiable information (other than when it is used for the purposes of national security) to inform potential guidance to agencies on ways to mitigate privacy and confidentiality risks from agencies activities related to CAI;    (iii) within <span style=\"color: red; font-weight: bold;\">180 days</span> of the date of this order, in consultation with the Attorney General, the Assistant to the President for Economic Policy, and the Director of OSTP, issue an RFI to inform potential revisions to guidance to agencies on implementing the privacy provisions of the E-Government Act of 2002 (PublicLaw107-347)."
      ],
      "text/plain": [
       "<IPython.core.display.HTML object>"
      ]
     },
     "metadata": {},
     "output_type": "display_data"
    },
    {
     "data": {
      "text/html": [
       "(d) To assist agencies in implementing the guidance to be established in subsection 10.1(b) of this section:    (i) within 90 days of the issuance of the guidance, the Secretary of Commerce, acting through the Director of NIST, and in coordination with the Director of OMB and the Director of OSTP, shall develop guidelines, tools, and practices to support implementation of the minimum risk-management practices described in subsection 10.1(b)(iv) of this section; and    (ii) within <span style=\"color: red; font-weight: bold;\">180 days</span> of the issuance of the guidance, the Director of OMB shall develop an initial means to ensure that agency contracts for the acquisition of AI systems and services align with the guidance described in subsection 10.1(b) of this section and advance the other aims identified in section 7224(d)(1) of the Advancing American AI Act (Public Law 117-263, div."
      ],
      "text/plain": [
       "<IPython.core.display.HTML object>"
      ]
     },
     "metadata": {},
     "output_type": "display_data"
    },
    {
     "data": {
      "text/html": [
       "(iii) Within <span style=\"color: red; font-weight: bold;\">180 days</span> of the date of this order, the Director of the Office of Personnel Management (OPM), in coordination with the Director of OMB, shall develop guidance on the use of generative AI for work by the Federal workforce."
      ],
      "text/plain": [
       "<IPython.core.display.HTML object>"
      ]
     },
     "metadata": {},
     "output_type": "display_data"
    },
    {
     "data": {
      "text/html": [
       "(h) Within <span style=\"color: red; font-weight: bold;\">180 days</span> of the date of this order, to facilitate agencies access to commercial AI capabilities, the Administrator of General Services, in coordination with the Director of OMB, and in collaboration with the Secretary of Defense, the Secretary of Homeland Security, the Director of National Intelligence, the Administrator of the National Aeronautics and Space Administration, and the head of any other agency identified by the Administrator of General Services, shall take steps consistent with applicable law to facilitate access to Federal Government-wide acquisition solutions for specified types of AI services and products, such as through the creation of a resource guide or other tools to assist the acquisition workforce."
      ],
      "text/plain": [
       "<IPython.core.display.HTML object>"
      ]
     },
     "metadata": {},
     "output_type": "display_data"
    },
    {
     "data": {
      "text/html": [
       "The Task Forces purpose shall be to accelerate and track the hiring of AI and AI-enabling talent across the Federal Government, including through the following actions:    (i) within <span style=\"color: red; font-weight: bold;\">180 days</span> of the date of this order, tracking and reporting progress to the President on increasing AI capacity across the Federal Government, including submitting to the President a report and recommendations for further increasing capacity;    (ii) identifying and circulating best practices for agencies to attract, hire, retain, train, and empower AI talent, including diversity, inclusion, and accessibility best practices, as well as to plan and budget adequately for AI workforce needs;    (iii) coordinating, in consultation with the Director of OPM, the use of fellowship programs and agency technology-talent programs and human-capital teams to build hiring capabilities, execute hires, and place AI talent to fill staffing gaps; and    (iv) convening a cross-agency forum for ongoing collaboration between AI professionals to share best practices and improve retention."
      ],
      "text/plain": [
       "<IPython.core.display.HTML object>"
      ]
     },
     "metadata": {},
     "output_type": "display_data"
    },
    {
     "data": {
      "text/html": [
       "213.3102(i)(3) to address the need for hiring additional staff to implement directives of this order;    (iii) within 90 days of the date of this order, coordinate a pooled-hiring action informed by subject-matter experts and using skills-based assessments to support the recruitment of AI talent across agencies;    (iv) within 120 days of the date of this order, as appropriate and permitted by law, issue guidance for agency application of existing pay flexibilities or incentive pay programs for AI, AI-enabling, and other key technical positions to facilitate appropriate use of current pay incentives;    (v) within <span style=\"color: red; font-weight: bold;\">180 days</span> of the date of this order, establish guidance and policy on skills-based, Federal Government-wide hiring of AI, data, and technology talent in order to increase access to those with nontraditional academic backgrounds to Federal AI, data, and technology roles;    (vi) within <span style=\"color: red; font-weight: bold;\">180 days</span> of the date of this order, establish an interagency working group, staffed with both human-resources professionals and recruiting technical experts, to facilitate Federal Government-wide hiring of people with AI and other technical skills;    (vii) within <span style=\"color: red; font-weight: bold;\">180 days</span> of the date of this order, review existing Executive Core Qualifications (ECQs) for Senior Executive Service (SES) positions informed by data and AI literacy competencies and, within 365 days of the date of this order, implement new ECQs as appropriate in the SES assessment process;    (viii) within <span style=\"color: red; font-weight: bold;\">180 days</span> of the date of this order, complete a review of competencies for civil engineers (GS-0810 series) and, if applicable, other related occupations, and make recommendations for ensuring that adequate AI expertise and credentials in these occupations in the Federal Government reflect the increased use of AI in critical infrastructure; and    (ix) work with the Security, Suitability, and Credentialing Performance Accountability Council to assess mechanisms to streamline and accelerate personnel-vetting requirements, as appropriate, to support AI and fields related to other critical and emerging technologies."
      ],
      "text/plain": [
       "<IPython.core.display.HTML object>"
      ]
     },
     "metadata": {},
     "output_type": "display_data"
    },
    {
     "data": {
      "text/html": [
       "213.3102(i)(3) to address the need for hiring additional staff to implement directives of this order;    (iii) within 90 days of the date of this order, coordinate a pooled-hiring action informed by subject-matter experts and using skills-based assessments to support the recruitment of AI talent across agencies;    (iv) within 120 days of the date of this order, as appropriate and permitted by law, issue guidance for agency application of existing pay flexibilities or incentive pay programs for AI, AI-enabling, and other key technical positions to facilitate appropriate use of current pay incentives;    (v) within <span style=\"color: red; font-weight: bold;\">180 days</span> of the date of this order, establish guidance and policy on skills-based, Federal Government-wide hiring of AI, data, and technology talent in order to increase access to those with nontraditional academic backgrounds to Federal AI, data, and technology roles;    (vi) within <span style=\"color: red; font-weight: bold;\">180 days</span> of the date of this order, establish an interagency working group, staffed with both human-resources professionals and recruiting technical experts, to facilitate Federal Government-wide hiring of people with AI and other technical skills;    (vii) within <span style=\"color: red; font-weight: bold;\">180 days</span> of the date of this order, review existing Executive Core Qualifications (ECQs) for Senior Executive Service (SES) positions informed by data and AI literacy competencies and, within 365 days of the date of this order, implement new ECQs as appropriate in the SES assessment process;    (viii) within <span style=\"color: red; font-weight: bold;\">180 days</span> of the date of this order, complete a review of competencies for civil engineers (GS-0810 series) and, if applicable, other related occupations, and make recommendations for ensuring that adequate AI expertise and credentials in these occupations in the Federal Government reflect the increased use of AI in critical infrastructure; and    (ix) work with the Security, Suitability, and Credentialing Performance Accountability Council to assess mechanisms to streamline and accelerate personnel-vetting requirements, as appropriate, to support AI and fields related to other critical and emerging technologies."
      ],
      "text/plain": [
       "<IPython.core.display.HTML object>"
      ]
     },
     "metadata": {},
     "output_type": "display_data"
    },
    {
     "data": {
      "text/html": [
       "213.3102(i)(3) to address the need for hiring additional staff to implement directives of this order;    (iii) within 90 days of the date of this order, coordinate a pooled-hiring action informed by subject-matter experts and using skills-based assessments to support the recruitment of AI talent across agencies;    (iv) within 120 days of the date of this order, as appropriate and permitted by law, issue guidance for agency application of existing pay flexibilities or incentive pay programs for AI, AI-enabling, and other key technical positions to facilitate appropriate use of current pay incentives;    (v) within <span style=\"color: red; font-weight: bold;\">180 days</span> of the date of this order, establish guidance and policy on skills-based, Federal Government-wide hiring of AI, data, and technology talent in order to increase access to those with nontraditional academic backgrounds to Federal AI, data, and technology roles;    (vi) within <span style=\"color: red; font-weight: bold;\">180 days</span> of the date of this order, establish an interagency working group, staffed with both human-resources professionals and recruiting technical experts, to facilitate Federal Government-wide hiring of people with AI and other technical skills;    (vii) within <span style=\"color: red; font-weight: bold;\">180 days</span> of the date of this order, review existing Executive Core Qualifications (ECQs) for Senior Executive Service (SES) positions informed by data and AI literacy competencies and, within 365 days of the date of this order, implement new ECQs as appropriate in the SES assessment process;    (viii) within <span style=\"color: red; font-weight: bold;\">180 days</span> of the date of this order, complete a review of competencies for civil engineers (GS-0810 series) and, if applicable, other related occupations, and make recommendations for ensuring that adequate AI expertise and credentials in these occupations in the Federal Government reflect the increased use of AI in critical infrastructure; and    (ix) work with the Security, Suitability, and Credentialing Performance Accountability Council to assess mechanisms to streamline and accelerate personnel-vetting requirements, as appropriate, to support AI and fields related to other critical and emerging technologies."
      ],
      "text/plain": [
       "<IPython.core.display.HTML object>"
      ]
     },
     "metadata": {},
     "output_type": "display_data"
    },
    {
     "data": {
      "text/html": [
       "213.3102(i)(3) to address the need for hiring additional staff to implement directives of this order;    (iii) within 90 days of the date of this order, coordinate a pooled-hiring action informed by subject-matter experts and using skills-based assessments to support the recruitment of AI talent across agencies;    (iv) within 120 days of the date of this order, as appropriate and permitted by law, issue guidance for agency application of existing pay flexibilities or incentive pay programs for AI, AI-enabling, and other key technical positions to facilitate appropriate use of current pay incentives;    (v) within <span style=\"color: red; font-weight: bold;\">180 days</span> of the date of this order, establish guidance and policy on skills-based, Federal Government-wide hiring of AI, data, and technology talent in order to increase access to those with nontraditional academic backgrounds to Federal AI, data, and technology roles;    (vi) within <span style=\"color: red; font-weight: bold;\">180 days</span> of the date of this order, establish an interagency working group, staffed with both human-resources professionals and recruiting technical experts, to facilitate Federal Government-wide hiring of people with AI and other technical skills;    (vii) within <span style=\"color: red; font-weight: bold;\">180 days</span> of the date of this order, review existing Executive Core Qualifications (ECQs) for Senior Executive Service (SES) positions informed by data and AI literacy competencies and, within 365 days of the date of this order, implement new ECQs as appropriate in the SES assessment process;    (viii) within <span style=\"color: red; font-weight: bold;\">180 days</span> of the date of this order, complete a review of competencies for civil engineers (GS-0810 series) and, if applicable, other related occupations, and make recommendations for ensuring that adequate AI expertise and credentials in these occupations in the Federal Government reflect the increased use of AI in critical infrastructure; and    (ix) work with the Security, Suitability, and Credentialing Performance Accountability Council to assess mechanisms to streamline and accelerate personnel-vetting requirements, as appropriate, to support AI and fields related to other critical and emerging technologies."
      ],
      "text/plain": [
       "<IPython.core.display.HTML object>"
      ]
     },
     "metadata": {},
     "output_type": "display_data"
    },
    {
     "data": {
      "text/html": [
       "(h) Within <span style=\"color: red; font-weight: bold;\">180 days</span> of the date of this order, to address gaps in AI talent for national defense, the Secretary of Defense shall submit a report to the President through the Assistant to the President forNational Security Affairs that includes:    (i) recommendations to address challenges in the Department of Defenses ability to hire certain noncitizens, including at the Science and Technology Reinvention Laboratories;    (ii) recommendations to clarify and streamline processes for accessing classified information for certain noncitizens through Limited Access Authorization at Department of Defense laboratories;    (iii) recommendations for the appropriate use of enlistment authority under 10 U.S.C."
      ],
      "text/plain": [
       "<IPython.core.display.HTML object>"
      ]
     },
     "metadata": {},
     "output_type": "display_data"
    },
    {
     "data": {
      "text/html": [
       "In particular, the Secretary of Commerce shall:    (i) within 270 days of the date of this order, establish a plan for global engagement on promoting and developing AI standards, with lines of effort that may include:      (A) AI nomenclature and terminology;      (B) best practices regarding data capture, processing, protection, privacy, confidentiality, handling, and analysis;      (C) trustworthiness, verification, and assurance of AI systems; and      (D) AI risk management;    (ii) within <span style=\"color: red; font-weight: bold;\">180 days</span> of the date the plan is established, submit a report to the President on priority actions taken pursuant to the plan; and    (iii) ensure that such efforts are guided by principles set out in the NIST AI Risk Management Framework and United States Government National Standards Strategy for Critical and Emerging Technology."
      ],
      "text/plain": [
       "<IPython.core.display.HTML object>"
      ]
     },
     "metadata": {},
     "output_type": "display_data"
    },
    {
     "data": {
      "text/html": [
       "(ii) Within <span style=\"color: red; font-weight: bold;\">180 days</span> of establishing the plan described in subsection (d)(i) of this section, the Secretary of Homeland Security shall submit a report to the President on priority actions to mitigate cross-border risks to critical United States infrastructure."
      ],
      "text/plain": [
       "<IPython.core.display.HTML object>"
      ]
     },
     "metadata": {},
     "output_type": "display_data"
    },
    {
     "data": {
      "text/html": [
       "<span style=\"font-weight: bold;\">240 day mandates:</span>"
      ],
      "text/plain": [
       "<IPython.core.display.HTML object>"
      ]
     },
     "metadata": {},
     "output_type": "display_data"
    },
    {
     "data": {
      "text/html": [
       "(iv) Within <span style=\"color: red; font-weight: bold;\">240 days</span> of the completion of the guidelines described in subsection 4.3(a)(iii) of this section, the Assistant to the President for National Security Affairs and the Director of OMB, in consultation with the Secretary of Homeland Security, shall coordinate work by the heads of agencies with authority over critical infrastructure to develop and take steps for the Federal Government to mandate such guidelines, or appropriate portions thereof, through regulatory or other appropriate action."
      ],
      "text/plain": [
       "<IPython.core.display.HTML object>"
      ]
     },
     "metadata": {},
     "output_type": "display_data"
    },
    {
     "data": {
      "text/html": [
       "Reducing the Risks Posed by Synthetic Content.To foster capabilities for identifying and labeling synthetic content produced by AI systems, and to establish the authenticity and provenance of digital content, both synthetic and not synthetic, produced by the Federal Government or on its behalf:  (a) Within <span style=\"color: red; font-weight: bold;\">240 days</span> of the date of this order, the Secretary of Commerce, in consultation with the heads of other relevant agencies as the Secretary of Commerce may deem appropriate, shall submit a report to the Director of OMB and the Assistant to the President for National Security Affairs identifying the existing standards, tools, methods, and practices, as well as the potential development of further science-backed standards and techniques, for:    (i) authenticating content and tracking its provenance;    (ii) labeling synthetic content, such as using watermarking;    (iii) detecting synthetic content;    (iv) preventing generative AI from producing child sexual abuse material or producing non-consensual intimate imagery of real individuals (to include intimate digital depictions of the body or body parts of an identifiable individual);    (v) testing software used for the above purposes; and    (vi) auditing and maintaining synthetic content."
      ],
      "text/plain": [
       "<IPython.core.display.HTML object>"
      ]
     },
     "metadata": {},
     "output_type": "display_data"
    },
    {
     "data": {
      "text/html": [
       "(ii) Within <span style=\"color: red; font-weight: bold;\">240 days</span> of the date of this order, the Director of NSF shall engage with agencies to identify ongoing work and potential opportunities to incorporate PETs into their operations."
      ],
      "text/plain": [
       "<IPython.core.display.HTML object>"
      ]
     },
     "metadata": {},
     "output_type": "display_data"
    },
    {
     "data": {
      "text/html": [
       "<span style=\"font-weight: bold;\">270 day mandates:</span>"
      ],
      "text/plain": [
       "<IPython.core.display.HTML object>"
      ]
     },
     "metadata": {},
     "output_type": "display_data"
    },
    {
     "data": {
      "text/html": [
       "(a) Within <span style=\"color: red; font-weight: bold;\">270 days</span> of the date of this order, to help ensure the development of safe, secure, and trustworthy AI systems, the Secretary of Commerce, acting through the Director of the National Institute of Standards and Technology (NIST), in coordination with the Secretary of Energy, the Secretary of Homeland Security, and the heads of other relevant agencies as the Secretary of Commerce may deem appropriate, shall:    (i) Establish guidelines and best practices, with the aim of promoting consensus industry standards, for developing and deploying safe, secure, and trustworthy AI systems, including:      (A) developing a companion resource to the AI Risk Management Framework, NIST AI 100-1, for generative AI;      (B) developing a companion resource to the Secure Software Development Framework to incorporate secure development practices for generative AI and for dual-use foundation models; and      (C) launching an initiative to create guidance and benchmarks for evaluating and auditing AI capabilities, with a focus on capabilities through which AI could cause harm, such as in the areas of cybersecurity and biosecurity."
      ],
      "text/plain": [
       "<IPython.core.display.HTML object>"
      ]
     },
     "metadata": {},
     "output_type": "display_data"
    },
    {
     "data": {
      "text/html": [
       "(b) Within <span style=\"color: red; font-weight: bold;\">270 days</span> of the date of this order, to understand and mitigate AI security risks, the Secretary of Energy, in coordination with the heads of other Sector Risk Management Agencies (SRMAs) as the Secretary of Energy may deem appropriate, shall develop and, to the extent permitted by law and available appropriations, implement a plan for developing the Department of Energys AI model evaluation tools and AI testbeds."
      ],
      "text/plain": [
       "<IPython.core.display.HTML object>"
      ]
     },
     "metadata": {},
     "output_type": "display_data"
    },
    {
     "data": {
      "text/html": [
       "(iii) As set forth in subsection 4.3(b)(i) of this section, within <span style=\"color: red; font-weight: bold;\">270 days</span> of the date of this order, the Secretary of Defense and the Secretary of Homeland Security shall each provide a report to the Assistant to the President for National Security Affairs on the results of actions taken pursuant to the plans and operational pilot projects required by subsection 4.3(b)(ii) of this section, including a description of any vulnerabilities found and fixed through the development and deployment of AI capabilities and any lessons learned on how to identify, develop, test, evaluate, and deploy AI capabilities effectively for cyber defense."
      ],
      "text/plain": [
       "<IPython.core.display.HTML object>"
      ]
     },
     "metadata": {},
     "output_type": "display_data"
    },
    {
     "data": {
      "text/html": [
       "To address the risks and potential benefits of dual-use foundation models with widely available weights, within <span style=\"color: red; font-weight: bold;\">270 days</span> of the date of this order, the Secretary of Commerce, acting through the Assistant Secretary of Commerce for Communications and Information, and in consultation with the Secretary of State, shall:  (a) solicit input from the private sector, academia, civil society, and other stakeholders through a public consultation process on potential risks, benefits, other implications, and appropriate policy and regulatory approaches related to dual-use foundation models for which the model weights are widely available, including:    (i) risks associated with actors fine-tuning dual-use foundation models for which the model weights are widely available or removing those models safeguards;    (ii) benefits to AI innovation and research, including research into AI safety and risk management, of dual-use foundation models for which the model weights are widely available; and    (iii) potential voluntary, regulatory, and international mechanisms to manage the risks and maximize the benefits of dual-use foundation models for which the model weights are widely available; and  (b) based on input from the process described in subsection 4.6(a) of this section, and in consultation with the heads of other relevant agencies as the Secretary of Commerce deems appropriate, submit a report to the President on the potential benefits, risks, and implications of dual-use foundation models for which the model weights are widely available, as well as policy and regulatory recommendations pertaining to those models."
      ],
      "text/plain": [
       "<IPython.core.display.HTML object>"
      ]
     },
     "metadata": {},
     "output_type": "display_data"
    },
    {
     "data": {
      "text/html": [
       "Promoting Safe Release and Preventing the Malicious Use of Federal Data for AI Training.To improve public data access and manage security risks, and consistent with the objectives of the Open, Public, Electronic, and Necessary Government Data Act (title II of Public Law 115-435) to expand public access to Federal data assets in a machine-readable format while also taking into account security considerations, including the risk that information in an individual data asset in isolation does not pose a security risk but, when combined with other available information, may pose such a risk:  (a) within <span style=\"color: red; font-weight: bold;\">270 days</span> of the date of this order, the Chief Data Officer Council, in consultation with the Secretary of Defense, the Secretary of Commerce, the Secretary of Energy, the Secretary of Homeland Security, and the Director of National Intelligence, shall develop initial guidelines for performing security reviews, including reviews to identify and manage the potential security risks of releasing Federal data that could aid in the development of CBRN weapons as well as the development of autonomous offensive cyber capabilities, while also providing public access to Federal Government data in line with the goals stated in the Open, Public, Electronic, and Necessary Government Data Act (title II of Public Law 115-435); and (b) within 180 days of the development of the initial guidelines required by subsection 4.7(a) of this section, agencies shall conduct a security review of all data assets in the comprehensive data inventory required under 44 U.S.C."
      ],
      "text/plain": [
       "<IPython.core.display.HTML object>"
      ]
     },
     "metadata": {},
     "output_type": "display_data"
    },
    {
     "data": {
      "text/html": [
       "To develop a coordinated executive branch approach to managing AIs security risks, the Assistant to the President for National Security Affairs and the Assistant to the President and Deputy Chief of Staff for Policy shall oversee an interagency process with the purpose of, within <span style=\"color: red; font-weight: bold;\">270 days</span> of the date of this order, developing and submitting a proposed National Security Memorandum on AI to the President."
      ],
      "text/plain": [
       "<IPython.core.display.HTML object>"
      ]
     },
     "metadata": {},
     "output_type": "display_data"
    },
    {
     "data": {
      "text/html": [
       "(c) To promote innovation and clarify issues related to AI and inventorship of patentable subject matter, the Under Secretary of Commerce for Intellectual Property and Director of the United States Patent and Trademark Office (USPTO Director) shall:    (i) within 120 days of the date of this order, publish guidance to USPTO patent examiners and applicants addressing inventorship and the use of AI, including generative AI, in the inventive process, including illustrative examples in which AI systems play different roles in inventive processes and how, in each example, inventorship issues ought to be analyzed;    (ii) subsequently, within <span style=\"color: red; font-weight: bold;\">270 days</span> of the date of this order, issue additional guidance to USPTO patent examiners and applicants to address other considerations at the intersection of AI and IP, which could include, as the USPTO Director deems necessary, updated guidance on patent eligibility to address innovation in AI and critical and emerging technologies; and    (iii) within <span style=\"color: red; font-weight: bold;\">270 days</span> of the date of this order or 180 days after theUnited States Copyright Office of the Library of Congress publishes its forthcoming AI study that will address copyright issues raised by AI, whichever comes later, consult with the Director of the United States Copyright Office and issue recommendations to the President on potential executive actions relating to copyright and AI."
      ],
      "text/plain": [
       "<IPython.core.display.HTML object>"
      ]
     },
     "metadata": {},
     "output_type": "display_data"
    },
    {
     "data": {
      "text/html": [
       "(c) To promote innovation and clarify issues related to AI and inventorship of patentable subject matter, the Under Secretary of Commerce for Intellectual Property and Director of the United States Patent and Trademark Office (USPTO Director) shall:    (i) within 120 days of the date of this order, publish guidance to USPTO patent examiners and applicants addressing inventorship and the use of AI, including generative AI, in the inventive process, including illustrative examples in which AI systems play different roles in inventive processes and how, in each example, inventorship issues ought to be analyzed;    (ii) subsequently, within <span style=\"color: red; font-weight: bold;\">270 days</span> of the date of this order, issue additional guidance to USPTO patent examiners and applicants to address other considerations at the intersection of AI and IP, which could include, as the USPTO Director deems necessary, updated guidance on patent eligibility to address innovation in AI and critical and emerging technologies; and    (iii) within <span style=\"color: red; font-weight: bold;\">270 days</span> of the date of this order or 180 days after theUnited States Copyright Office of the Library of Congress publishes its forthcoming AI study that will address copyright issues raised by AI, whichever comes later, consult with the Director of the United States Copyright Office and issue recommendations to the President on potential executive actions relating to copyright and AI."
      ],
      "text/plain": [
       "<IPython.core.display.HTML object>"
      ]
     },
     "metadata": {},
     "output_type": "display_data"
    },
    {
     "data": {
      "text/html": [
       "(ii) Within <span style=\"color: red; font-weight: bold;\">270 days</span> of the date of this order, the Attorney General shall, in consultation with the Secretary of Homeland Security, consider those best practices and the guidance developed under section 3(d) of Executive Order 14074 and, if necessary, develop additional general recommendations for State, local, Tribal, and territorial law enforcement agencies and criminal justice agencies seeking to recruit, hire, train, promote, and retain highly qualified and service-oriented officers and staff with relevant technical knowledge."
      ],
      "text/plain": [
       "<IPython.core.display.HTML object>"
      ]
     },
     "metadata": {},
     "output_type": "display_data"
    },
    {
     "data": {
      "text/html": [
       "In particular, the Secretary of Commerce shall:    (i) within <span style=\"color: red; font-weight: bold;\">270 days</span> of the date of this order, establish a plan for global engagement on promoting and developing AI standards, with lines of effort that may include:      (A) AI nomenclature and terminology;      (B) best practices regarding data capture, processing, protection, privacy, confidentiality, handling, and analysis;      (C) trustworthiness, verification, and assurance of AI systems; and      (D) AI risk management;    (ii) within 180 days of the date the plan is established, submit a report to the President on priority actions taken pursuant to the plan; and    (iii) ensure that such efforts are guided by principles set out in the NIST AI Risk Management Framework and United States Government National Standards Strategy for Critical and Emerging Technology."
      ],
      "text/plain": [
       "<IPython.core.display.HTML object>"
      ]
     },
     "metadata": {},
     "output_type": "display_data"
    },
    {
     "data": {
      "text/html": [
       "(i) Within <span style=\"color: red; font-weight: bold;\">270 days</span> of the date of this order, the Secretary of Homeland Security, in coordination with the Secretary of State, shall develop a plan for multilateral engagements to encourage the adoption of the AI safety and security guidelines for use by critical infrastructure owners and operators developed in section 4.3(a) of this order."
      ],
      "text/plain": [
       "<IPython.core.display.HTML object>"
      ]
     },
     "metadata": {},
     "output_type": "display_data"
    },
    {
     "data": {
      "text/html": [
       "<span style=\"font-weight: bold;\">365 day mandates:</span>"
      ],
      "text/plain": [
       "<IPython.core.display.HTML object>"
      ]
     },
     "metadata": {},
     "output_type": "display_data"
    },
    {
     "data": {
      "text/html": [
       "(f) To advance the development of AI systems that improve the quality of veterans healthcare, and in order to support small businesses innovative capacity, the Secretary of Veterans Affairs shall:    (i) within <span style=\"color: red; font-weight: bold;\">365 days</span> of the date of this order, host two 3-month nationwide AI Tech Sprint competitions; and    (ii) as part of the AI Tech Sprint competitions and in collaboration with appropriate partners, provide participants access to technical assistance, mentorship opportunities, individualized expert feedback on products under development, potential contract opportunities, and other programming and resources."
      ],
      "text/plain": [
       "<IPython.core.display.HTML object>"
      ]
     },
     "metadata": {},
     "output_type": "display_data"
    },
    {
     "data": {
      "text/html": [
       "(b) To promote the equitable treatment of individuals and adhere to the Federal Governments fundamental obligation to ensure fair and impartial justice for all, with respect to the use of AI in the criminal justice system, the Attorney General shall, in consultation with the Secretary of Homeland Security and the Director of OSTP:    (i) within <span style=\"color: red; font-weight: bold;\">365 days</span> of the date of this order, submit to the President a report that addresses the use of AI in the criminal justice system, including any use in:      (A) sentencing;      (B) parole, supervised release, and probation;      (C) bail, pretrial release, and pretrial detention;      (D) risk assessments, including pretrial, earned time, and early release or transfer to home-confinement determinations;      (E) police surveillance;      (F) crime forecasting and predictive policing, including the ingestion of historical crime data into AI systems to predict high-density hot spots;      (G) prison-management tools; and      (H) forensic analysis;     (ii) within the report set forth in subsection 7.1(b)(i) of this section:      (A) identify areas where AI can enhance law enforcement efficiency and accuracy, consistent with protections for privacy, civil rights, and civil liberties; and      (B) recommend best practices for law enforcement agencies, including safeguards and appropriate use limits for AI, to address the concerns set forth in section 13(e)(i) of Executive Order 14074 as well as the best practices and the guidelines set forth in section 13(e)(iii) of Executive Order 14074; and     (iii) supplement the report set forth in subsection 7.1(b)(i) of this section as appropriate with recommendations to the President, including with respect to requests for necessary legislation."
      ],
      "text/plain": [
       "<IPython.core.display.HTML object>"
      ]
     },
     "metadata": {},
     "output_type": "display_data"
    },
    {
     "data": {
      "text/html": [
       "(iii) Within <span style=\"color: red; font-weight: bold;\">365 days</span> of the date of this order, the Attorney General shall review the work conducted pursuant to section 2(b) of Executive Order 14074 and, if appropriate, reassess the existing capacity to investigate law enforcement deprivation of rights under color of law resulting from the use of AI, including through improving and increasing training of Federal law enforcement officers, their supervisors, and Federal prosecutors on how to investigate and prosecute cases related to AI involving the deprivation of rights under color of law pursuant to 18 U.S.C."
      ],
      "text/plain": [
       "<IPython.core.display.HTML object>"
      ]
     },
     "metadata": {},
     "output_type": "display_data"
    },
    {
     "data": {
      "text/html": [
       "(a) Within <span style=\"color: red; font-weight: bold;\">365 days</span> of the date of this order, to prevent unlawful discrimination from AI used for hiring, the Secretary of Labor shall publish guidance for Federal contractors regarding nondiscrimination in hiring involving AI and other technology-based hiring systems."
      ],
      "text/plain": [
       "<IPython.core.display.HTML object>"
      ]
     },
     "metadata": {},
     "output_type": "display_data"
    },
    {
     "data": {
      "text/html": [
       "(b) To help ensure the safe, <span style=\"color: blue; font-weight: bold;\">responsible</span> deployment and use of AI in the healthcare, public-health, and human-services sectors:    (i) Within 90 days of the date of this order, the Secretary of HHS shall, in consultation with the Secretary of Defense and the Secretary of Veterans Affairs, establish an HHS AI Task Force that shall, within <span style=\"color: red; font-weight: bold;\">365 days</span> of its creation, develop a strategic plan that includes policies and frameworks  possibly including regulatory action, as appropriate  on <span style=\"color: blue; font-weight: bold;\">responsible</span> deployment and use of AI and AI-enabled technologies in the health and human services sector (including research and discovery, drug and device safety, healthcare delivery and financing, and public health), and identify appropriate guidance andresources to promote that deployment, including in the following areas:      (A) development, maintenance, and use of predictive and generative AI-enabled technologies in healthcare delivery and financing  including quality measurement, performance improvement, program integrity, benefits administration, and patient experience  taking into account considerations such as appropriate human oversight of the application of AI-generated output;      (B) long-term safety and real-world performance monitoring of AI-enabled technologies in the health and human services sector, including clinically relevant or significant modifications and performance across population groups, with a means to communicate product updates to regulators, developers, and users;      (C) incorporation of equity principles in AI-enabled technologies used in the health and human services sector, using disaggregated data on affected populations and representative population data sets when developing new models, monitoring algorithmic performance against discrimination and bias in existing models, and helping to identify and mitigate discrimination and bias in current systems;      (D) incorporation of safety, privacy, and security standards into the software-development lifecycle for protection of personally identifiable information, including measures to address AI-enhanced cybersecurity threats in the health and human services sector;      (E) development, maintenance, and availability of documentation to help users determine appropriate and safe uses of AI in local settings in the health and human services sector;      (F) work to be done with State, local, Tribal, and territorial health and human services agencies to advance positive use cases and best practices for use of AI in local settings; and      (G) identification of uses of AI to promote workplace efficiency and satisfaction in the health and human services sector, including reducing administrative burdens."
      ],
      "text/plain": [
       "<IPython.core.display.HTML object>"
      ]
     },
     "metadata": {},
     "output_type": "display_data"
    },
    {
     "data": {
      "text/html": [
       "(iv) Within <span style=\"color: red; font-weight: bold;\">365 days</span> of the date of this order, the Secretary of HHS shall, in consultation with the Secretary of Defense and the Secretary of Veterans Affairs, establish an AI safety program that, in partnership with voluntary federally listed Patient Safety Organizations:      (A) establishes a common framework for approaches to identifying and capturing clinical errors resulting from AI deployed in healthcare settings as well as specifications for a central tracking repository for associated incidents that cause harm, including through bias or discrimination, to patients, caregivers, or other parties;      (B) analyzes captured data and generated evidence to develop, wherever appropriate, recommendations, best practices, or other informal guidelines aimed at avoiding these harms; and      (C) disseminates those recommendations, best practices, or other informal guidance to appropriate stakeholders, including healthcare providers."
      ],
      "text/plain": [
       "<IPython.core.display.HTML object>"
      ]
     },
     "metadata": {},
     "output_type": "display_data"
    },
    {
     "data": {
      "text/html": [
       "(v) Within <span style=\"color: red; font-weight: bold;\">365 days</span> of the date of this order, the Secretary of HHS shall develop a strategy for regulating the use of AI or AI-enabled tools in drug-development processes."
      ],
      "text/plain": [
       "<IPython.core.display.HTML object>"
      ]
     },
     "metadata": {},
     "output_type": "display_data"
    },
    {
     "data": {
      "text/html": [
       "(d) To help ensure the <span style=\"color: blue; font-weight: bold;\">responsible</span> development and deployment of AI in the education sector, the Secretary of Education shall, within <span style=\"color: red; font-weight: bold;\">365 days</span> of the date of this order, develop resources, policies, and guidance regarding AI."
      ],
      "text/plain": [
       "<IPython.core.display.HTML object>"
      ]
     },
     "metadata": {},
     "output_type": "display_data"
    },
    {
     "data": {
      "text/html": [
       "(b) Within <span style=\"color: red; font-weight: bold;\">365 days</span> of the date of this order, to better enable agencies to use PETs to safeguard Americans privacy from the potential threats exacerbated by AI, the Secretary of Commerce, acting through the Director of NIST, shall create guidelines for agencies to evaluate the efficacy of differential-privacy-guarantee protections, including for AI."
      ],
      "text/plain": [
       "<IPython.core.display.HTML object>"
      ]
     },
     "metadata": {},
     "output_type": "display_data"
    },
    {
     "data": {
      "text/html": [
       "213.3102(i)(3) to address the need for hiring additional staff to implement directives of this order;    (iii) within 90 days of the date of this order, coordinate a pooled-hiring action informed by subject-matter experts and using skills-based assessments to support the recruitment of AI talent across agencies;    (iv) within 120 days of the date of this order, as appropriate and permitted by law, issue guidance for agency application of existing pay flexibilities or incentive pay programs for AI, AI-enabling, and other key technical positions to facilitate appropriate use of current pay incentives;    (v) within 180 days of the date of this order, establish guidance and policy on skills-based, Federal Government-wide hiring of AI, data, and technology talent in order to increase access to those with nontraditional academic backgrounds to Federal AI, data, and technology roles;    (vi) within 180 days of the date of this order, establish an interagency working group, staffed with both human-resources professionals and recruiting technical experts, to facilitate Federal Government-wide hiring of people with AI and other technical skills;    (vii) within 180 days of the date of this order, review existing Executive Core Qualifications (ECQs) for Senior Executive Service (SES) positions informed by data and AI literacy competencies and, within <span style=\"color: red; font-weight: bold;\">365 days</span> of the date of this order, implement new ECQs as appropriate in the SES assessment process;    (viii) within 180 days of the date of this order, complete a review of competencies for civil engineers (GS-0810 series) and, if applicable, other related occupations, and make recommendations for ensuring that adequate AI expertise and credentials in these occupations in the Federal Government reflect the increased use of AI in critical infrastructure; and    (ix) work with the Security, Suitability, and Credentialing Performance Accountability Council to assess mechanisms to streamline and accelerate personnel-vetting requirements, as appropriate, to support AI and fields related to other critical and emerging technologies."
      ],
      "text/plain": [
       "<IPython.core.display.HTML object>"
      ]
     },
     "metadata": {},
     "output_type": "display_data"
    },
    {
     "data": {
      "text/html": [
       "(c) Within <span style=\"color: red; font-weight: bold;\">365 days</span> of the date of this order, to promote safe, <span style=\"color: blue; font-weight: bold;\">responsible</span>, and rights-affirming development and deployment of AI abroad:    (i) The Secretary of State and the Administrator of the United States Agency for International Development, in coordination with the Secretary of Commerce, acting through the director of NIST, shall publish an AI in Global Development Playbook that incorporates the AI Risk Management Frameworks principles, guidelines, and best practices into the social, technical, economic, governance, human rights, and security conditions of contexts beyond United States borders."
      ],
      "text/plain": [
       "<IPython.core.display.HTML object>"
      ]
     },
     "metadata": {},
     "output_type": "display_data"
    },
    {
     "data": {
      "text/html": [
       "<span style=\"font-weight: bold;\">540 day mandates:</span>"
      ],
      "text/plain": [
       "<IPython.core.display.HTML object>"
      ]
     },
     "metadata": {},
     "output_type": "display_data"
    },
    {
     "data": {
      "text/html": [
       "(iii) Within <span style=\"color: red; font-weight: bold;\">540 days</span> of the date of this order, establish at least four new National AI Research Institutes, in addition to the 25 currently funded as of the date of this order."
      ],
      "text/plain": [
       "<IPython.core.display.HTML object>"
      ]
     },
     "metadata": {},
     "output_type": "display_data"
    }
   ],
   "source": [
    "search_and_return_highlighted_time_mandates(text, 'responsible')"
   ]
  },
  {
   "cell_type": "code",
   "execution_count": null,
   "id": "3c57987e",
   "metadata": {},
   "outputs": [],
   "source": []
  },
  {
   "cell_type": "code",
   "execution_count": null,
   "id": "5dd497b3",
   "metadata": {},
   "outputs": [],
   "source": []
  },
  {
   "cell_type": "markdown",
   "id": "f35b0666",
   "metadata": {},
   "source": [
    "# Summarize Document as a whole, or summarized the results for a specific keyword"
   ]
  },
  {
   "cell_type": "code",
   "execution_count": 22,
   "id": "19d14e5f-875d-4f75-92e1-4dbb1ab03bbd",
   "metadata": {},
   "outputs": [],
   "source": [
    "# https://scikit-learn.org/stable/modules/generated/sklearn.feature_extraction.text.TfidfVectorizer.html\n",
    "from sklearn.feature_extraction.text import TfidfVectorizer\n",
    "from sklearn.metrics.pairwise import cosine_similarity"
   ]
  },
  {
   "cell_type": "code",
   "execution_count": 23,
   "id": "9509dc8d",
   "metadata": {},
   "outputs": [],
   "source": [
    "def extractive_summarization_with_keyword(document, keyword=None, num_sentences=3):\n",
    "    # Tokenize the document into sentences\n",
    "    sentences = sent_tokenize(document)\n",
    "\n",
    "    # Create TF-IDF matrix\n",
    "    vectorizer = TfidfVectorizer()\n",
    "    tfidf_matrix = vectorizer.fit_transform(sentences)\n",
    "\n",
    "    # Calculate cosine similarity between sentences and keyword\n",
    "    if keyword:\n",
    "        keyword_vector = vectorizer.transform([keyword])\n",
    "        similarity_scores = cosine_similarity(tfidf_matrix, keyword_vector)\n",
    "        # Combine similarity scores with sentence scores\n",
    "        combined_scores = similarity_scores.flatten()\n",
    "        # Use PageRank algorithm to rank sentences based on combined scores\n",
    "        ranked_sentences = [(score, sentence) for score, sentence in zip(combined_scores, sentences)]\n",
    "        \n",
    "    else:\n",
    "        # Calculate cosine similarity between sentences\n",
    "        similarity_matrix = cosine_similarity(tfidf_matrix, tfidf_matrix)\n",
    "        # Use PageRank algorithm to rank sentences\n",
    "        scores = similarity_matrix.sum(axis=1)\n",
    "        ranked_sentences = [(score, sentence) for score, sentence in zip(scores, sentences)]\n",
    "    \n",
    "    \n",
    "    ranked_sentences.sort(reverse=True)\n",
    "\n",
    "    # Select the top N sentences for the summary\n",
    "    summary_sentences = [sentence for _, sentence in ranked_sentences[:num_sentences]]\n",
    "    summary = ' '.join(summary_sentences)\n",
    "\n",
    "    return summary\n"
   ]
  },
  {
   "cell_type": "code",
   "execution_count": 24,
   "id": "e666dca6",
   "metadata": {},
   "outputs": [],
   "source": [
    "# Set the keyword for the search\n",
    "keyword_to_search = \"responsible\""
   ]
  },
  {
   "cell_type": "code",
   "execution_count": 25,
   "id": "2e2cb5bc",
   "metadata": {},
   "outputs": [],
   "source": [
    "# Set the number of sentences for the summary\n",
    "num_summary_sentences = 10\n",
    "\n",
    "# Perform extractive summarization with keyword search\n",
    "summary = extractive_summarization_with_keyword(text, keyword_to_search, num_sentences=num_summary_sentences)"
   ]
  },
  {
   "cell_type": "code",
   "execution_count": 26,
   "id": "c8cffaa4",
   "metadata": {},
   "outputs": [
    {
     "name": "stdout",
     "output_type": "stream",
     "text": [
      "\n",
      "Summary (related to the keyword 'responsible'):\n",
      " (c) The responsible development and use of AI require a commitment to supporting American workers. (d) To help ensure the responsible development and deployment of AI in the education sector, the Secretary of Education shall, within 365 days of the date of this order, develop resources, policies, and guidance regarding AI. Responsible AI use has the potential to help solve urgent challenges while making our world more prosperous, productive, innovative, and secure. These resources shall address safe, responsible, and nondiscriminatory uses of AI in education, including the impact AI systems have on vulnerable and underserved communities, and shall be developed in consultation with stakeholders as appropriate. (ii) Within 90 days of the date of this order, the Secretary of Transportation shall direct appropriate Federal Advisory Committees of the DOT to provide advice on the safe and responsible use of AI in transportation. (b) Promoting responsible innovation, competition, and collaboration will allow the United States to lead in AI and unlock the technologys potential to solve some of societys most difficult challenges. (e) To advance responsible AI innovation by a wide range of healthcare technology developers that promotes the welfare of patients and workers in the healthcare sector, the Secretary of HHS shall identify and, as appropriate and consistent with applicable law and the activities directed in section 8 of this order, prioritize grantmaking and other awards, as well as undertake related efforts, to support responsible AI development and use, including:    (i) collaborating with appropriate private sector actors through HHS programs that may support the advancement of AI-enabled tools that develop personalized immune-response profiles for patients, consistent with section 4 of this order;    (ii) prioritizing the allocation of 2024 Leading Edge Acceleration Project cooperative agreement awards to initiatives that explore ways to improve healthcare-data quality to support the responsible development of AI tools for clinical care, real-world-evidence programs, population health, public health, and related research; and    (iii) accelerating grants awarded through the National Institutes of Health Artificial Intelligence/Machine Learning Consortium to Advance Health Equity and Researcher Diversity (AIM-AHEAD) program and showcasing current AIM-AHEAD activities in underserved communities. At the same time, my Administration will promote responsible uses of AI that protect consumers, raise the quality of goods and services, lower their prices, or expand selection and availability. (g) It is important to manage the risks from the Federal Governments own use of AI and increase its internal capacity to regulate, govern, and support responsible use of AI to deliver better results for Americans. The Agenda shall:      (A) include principles, guidelines, priorities, and best practices aimed at ensuring the safe, responsible, beneficial, and sustainable global development and adoption of AI; and      (B) address AIs labor-market implications across international contexts, including by recommending risk mitigations.\n"
     ]
    }
   ],
   "source": [
    "# Display the summary\n",
    "print(\"\\nSummary (related to the keyword '{}'):\\n\".format(keyword_to_search), summary)"
   ]
  },
  {
   "cell_type": "code",
   "execution_count": null,
   "id": "41be8e44",
   "metadata": {},
   "outputs": [],
   "source": []
  },
  {
   "cell_type": "code",
   "execution_count": null,
   "id": "112043a9-e7ce-4bf4-9c4c-e8230a48e912",
   "metadata": {},
   "outputs": [],
   "source": []
  }
 ],
 "metadata": {
  "kernelspec": {
   "display_name": "Python 3 (ipykernel)",
   "language": "python",
   "name": "python3"
  },
  "language_info": {
   "codemirror_mode": {
    "name": "ipython",
    "version": 3
   },
   "file_extension": ".py",
   "mimetype": "text/x-python",
   "name": "python",
   "nbconvert_exporter": "python",
   "pygments_lexer": "ipython3",
   "version": "3.9.18"
  }
 },
 "nbformat": 4,
 "nbformat_minor": 5
}
